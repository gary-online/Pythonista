{
 "cells": [
  {
   "cell_type": "markdown",
   "metadata": {},
   "source": [
    "## Queue"
   ]
  },
  {
   "cell_type": "markdown",
   "metadata": {},
   "source": [
    "### Introducing queue.Queue Class\n",
    "\n",
    "The queue module implements multi-producer, multi-consumer queues.\n",
    "\n",
    "The module implements three types of queue, which differ only in the order in which the entries are retrieved.\n",
    "\n",
    "1. FIFO Queue\n",
    "\n",
    "2. LIFO Queue\n",
    "\n",
    "3. Priority Queue"
   ]
  },
  {
   "cell_type": "code",
   "execution_count": 39,
   "metadata": {
    "collapsed": true,
    "ExecuteTime": {
     "end_time": "2023-12-22T00:40:52.523624589Z",
     "start_time": "2023-12-22T00:40:52.460726215Z"
    }
   },
   "outputs": [],
   "source": [
    "from queue import Queue"
   ]
  },
  {
   "cell_type": "code",
   "execution_count": 40,
   "metadata": {
    "ExecuteTime": {
     "end_time": "2023-12-22T00:40:52.542704667Z",
     "start_time": "2023-12-22T00:40:52.525626772Z"
    }
   },
   "outputs": [
    {
     "data": {
      "text/plain": "<queue.Queue at 0x7fd5b672fd50>"
     },
     "execution_count": 40,
     "metadata": {},
     "output_type": "execute_result"
    }
   ],
   "source": [
    "olympics = Queue(5)\n",
    "olympics"
   ]
  },
  {
   "cell_type": "markdown",
   "metadata": {},
   "source": [
    "This is the data I have added here. https://www.news18.com/olympics/medal-tally/ <br>\n",
    "This is the data of 2016 olympics first 10 winners"
   ]
  },
  {
   "cell_type": "code",
   "execution_count": 41,
   "metadata": {
    "collapsed": true,
    "ExecuteTime": {
     "end_time": "2023-12-22T00:40:52.574911215Z",
     "start_time": "2023-12-22T00:40:52.542814695Z"
    }
   },
   "outputs": [],
   "source": [
    "olympics.put('United States(USA)')\n",
    "olympics.put('Great Britain(GBR)')"
   ]
  },
  {
   "cell_type": "code",
   "execution_count": 42,
   "metadata": {
    "ExecuteTime": {
     "end_time": "2023-12-22T00:40:52.575557536Z",
     "start_time": "2023-12-22T00:40:52.572979656Z"
    }
   },
   "outputs": [
    {
     "data": {
      "text/plain": "False"
     },
     "execution_count": 42,
     "metadata": {},
     "output_type": "execute_result"
    }
   ],
   "source": [
    "olympics.empty()"
   ]
  },
  {
   "cell_type": "code",
   "execution_count": 43,
   "metadata": {
    "ExecuteTime": {
     "end_time": "2023-12-22T00:40:52.629678135Z",
     "start_time": "2023-12-22T00:40:52.575632528Z"
    }
   },
   "outputs": [
    {
     "data": {
      "text/plain": "False"
     },
     "execution_count": 43,
     "metadata": {},
     "output_type": "execute_result"
    }
   ],
   "source": [
    "olympics.full()"
   ]
  },
  {
   "cell_type": "code",
   "execution_count": 44,
   "metadata": {
    "ExecuteTime": {
     "end_time": "2023-12-22T00:40:52.630521468Z",
     "start_time": "2023-12-22T00:40:52.595909746Z"
    }
   },
   "outputs": [
    {
     "data": {
      "text/plain": "2"
     },
     "execution_count": 44,
     "metadata": {},
     "output_type": "execute_result"
    }
   ],
   "source": [
    "olympics.qsize()"
   ]
  },
  {
   "cell_type": "code",
   "execution_count": 45,
   "metadata": {
    "collapsed": true,
    "ExecuteTime": {
     "end_time": "2023-12-22T00:40:52.633872529Z",
     "start_time": "2023-12-22T00:40:52.629897810Z"
    }
   },
   "outputs": [],
   "source": [
    "olympics.put('China(CHN)')\n",
    "olympics.put('Russia(RUS)')\n",
    "olympics.put('Germany(GER)')"
   ]
  },
  {
   "cell_type": "code",
   "execution_count": 46,
   "metadata": {
    "ExecuteTime": {
     "end_time": "2023-12-22T00:40:52.681981792Z",
     "start_time": "2023-12-22T00:40:52.633307992Z"
    }
   },
   "outputs": [
    {
     "data": {
      "text/plain": "False"
     },
     "execution_count": 46,
     "metadata": {},
     "output_type": "execute_result"
    }
   ],
   "source": [
    "olympics.empty()"
   ]
  },
  {
   "cell_type": "code",
   "execution_count": 47,
   "metadata": {
    "ExecuteTime": {
     "end_time": "2023-12-22T00:40:52.683136193Z",
     "start_time": "2023-12-22T00:40:52.657290422Z"
    }
   },
   "outputs": [
    {
     "data": {
      "text/plain": "True"
     },
     "execution_count": 47,
     "metadata": {},
     "output_type": "execute_result"
    }
   ],
   "source": [
    "olympics.full()"
   ]
  },
  {
   "cell_type": "code",
   "execution_count": 48,
   "metadata": {
    "ExecuteTime": {
     "end_time": "2023-12-22T00:40:52.696353514Z",
     "start_time": "2023-12-22T00:40:52.682233057Z"
    }
   },
   "outputs": [
    {
     "data": {
      "text/plain": "5"
     },
     "execution_count": 48,
     "metadata": {},
     "output_type": "execute_result"
    }
   ],
   "source": [
    "olympics.qsize()"
   ]
  },
  {
   "cell_type": "markdown",
   "metadata": {},
   "source": [
    "* Here basically 'get' will do the function of dequeue method"
   ]
  },
  {
   "cell_type": "code",
   "execution_count": 49,
   "metadata": {
    "ExecuteTime": {
     "end_time": "2023-12-22T00:40:52.707831510Z",
     "start_time": "2023-12-22T00:40:52.686626828Z"
    }
   },
   "outputs": [
    {
     "data": {
      "text/plain": "'United States(USA)'"
     },
     "execution_count": 49,
     "metadata": {},
     "output_type": "execute_result"
    }
   ],
   "source": [
    "olympics.get()"
   ]
  },
  {
   "cell_type": "markdown",
   "metadata": {},
   "source": [
    "* After dequeuing one element from the list,let's check it out what is the size of the queue"
   ]
  },
  {
   "cell_type": "code",
   "execution_count": 50,
   "metadata": {
    "ExecuteTime": {
     "end_time": "2023-12-22T00:40:52.708502377Z",
     "start_time": "2023-12-22T00:40:52.699186607Z"
    }
   },
   "outputs": [
    {
     "data": {
      "text/plain": "4"
     },
     "execution_count": 50,
     "metadata": {},
     "output_type": "execute_result"
    }
   ],
   "source": [
    "olympics.qsize()"
   ]
  },
  {
   "cell_type": "markdown",
   "metadata": {},
   "source": [
    "* After removing one element from the list, let's check it out the full function"
   ]
  },
  {
   "cell_type": "code",
   "execution_count": 51,
   "metadata": {
    "ExecuteTime": {
     "end_time": "2023-12-22T00:40:52.738476556Z",
     "start_time": "2023-12-22T00:40:52.708032239Z"
    }
   },
   "outputs": [
    {
     "data": {
      "text/plain": "False"
     },
     "execution_count": 51,
     "metadata": {},
     "output_type": "execute_result"
    }
   ],
   "source": [
    "olympics.full()"
   ]
  },
  {
   "cell_type": "code",
   "execution_count": 52,
   "metadata": {
    "ExecuteTime": {
     "end_time": "2023-12-22T00:40:52.747736530Z",
     "start_time": "2023-12-22T00:40:52.738137986Z"
    }
   },
   "outputs": [
    {
     "data": {
      "text/plain": "'Great Britain(GBR)'"
     },
     "execution_count": 52,
     "metadata": {},
     "output_type": "execute_result"
    }
   ],
   "source": [
    "olympics.get()"
   ]
  },
  {
   "cell_type": "code",
   "execution_count": 53,
   "metadata": {
    "ExecuteTime": {
     "end_time": "2023-12-22T00:40:52.750917791Z",
     "start_time": "2023-12-22T00:40:52.747440561Z"
    }
   },
   "outputs": [
    {
     "data": {
      "text/plain": "'China(CHN)'"
     },
     "execution_count": 53,
     "metadata": {},
     "output_type": "execute_result"
    }
   ],
   "source": [
    "olympics.get()"
   ]
  },
  {
   "cell_type": "code",
   "execution_count": 54,
   "metadata": {
    "ExecuteTime": {
     "end_time": "2023-12-22T00:40:52.782588947Z",
     "start_time": "2023-12-22T00:40:52.750551429Z"
    }
   },
   "outputs": [
    {
     "data": {
      "text/plain": "'Russia(RUS)'"
     },
     "execution_count": 54,
     "metadata": {},
     "output_type": "execute_result"
    }
   ],
   "source": [
    "olympics.get()"
   ]
  },
  {
   "cell_type": "code",
   "execution_count": 55,
   "metadata": {
    "ExecuteTime": {
     "end_time": "2023-12-22T00:40:52.783709805Z",
     "start_time": "2023-12-22T00:40:52.760404444Z"
    }
   },
   "outputs": [
    {
     "data": {
      "text/plain": "'Germany(GER)'"
     },
     "execution_count": 55,
     "metadata": {},
     "output_type": "execute_result"
    }
   ],
   "source": [
    "olympics.get()"
   ]
  },
  {
   "cell_type": "code",
   "execution_count": 56,
   "metadata": {
    "ExecuteTime": {
     "end_time": "2023-12-22T00:40:52.791217309Z",
     "start_time": "2023-12-22T00:40:52.782879987Z"
    }
   },
   "outputs": [
    {
     "data": {
      "text/plain": "True"
     },
     "execution_count": 56,
     "metadata": {},
     "output_type": "execute_result"
    }
   ],
   "source": [
    "olympics.empty()"
   ]
  },
  {
   "cell_type": "markdown",
   "metadata": {},
   "source": [
    "## Creating a Queue\n",
    "This is our own queue, so we are creating all the functions for the queue"
   ]
  },
  {
   "cell_type": "code",
   "execution_count": 57,
   "metadata": {
    "collapsed": true,
    "ExecuteTime": {
     "end_time": "2023-12-22T00:40:52.795015565Z",
     "start_time": "2023-12-22T00:40:52.790939945Z"
    }
   },
   "outputs": [],
   "source": [
    "class MyQueue:\n",
    "    \n",
    "    def __init__(self):\n",
    "        \n",
    "        \"\"\" Create a new queue.\"\"\"\n",
    "        \n",
    "        self.items = []\n",
    "\n",
    "    def is_empty(self):\n",
    "        \n",
    "        \"\"\" Returns true if queue is empty \"\"\"  \n",
    "    \n",
    "        return len(self.items) == 0\n",
    "\n",
    "    def enqueue(self, item):\n",
    "        \n",
    "        \"\"\" Add a new element to the end of queue.\"\"\"\n",
    "        \n",
    "        self.items.append(item)\n",
    "\n",
    "    def dequeue(self):\n",
    "        \n",
    "        \"\"\" Remove a element from the beginning of queue.\"\"\"\n",
    "        \n",
    "        return self.items.pop(0)\n",
    "\n",
    "    def size(self):\n",
    "        \n",
    "        \"\"\" Returns the size of the queue.\"\"\"\n",
    "        \n",
    "        return len(self.items)\n",
    "    \n",
    "    def peek(self):\n",
    "        \n",
    "        \"\"\" Have a look at first element of the queue.\"\"\"\n",
    "        \n",
    "        if self.is_empty():\n",
    "            raise Exception(\"Nothing to peek\")\n",
    "       \n",
    "        return self.items[0]"
   ]
  },
  {
   "cell_type": "markdown",
   "metadata": {},
   "source": [
    "* After that we are initialising the object of the class"
   ]
  },
  {
   "cell_type": "code",
   "execution_count": 58,
   "metadata": {
    "ExecuteTime": {
     "end_time": "2023-12-22T00:40:52.801724420Z",
     "start_time": "2023-12-22T00:40:52.794494400Z"
    }
   },
   "outputs": [
    {
     "data": {
      "text/plain": "<__main__.MyQueue at 0x7fd5cc4a8ed0>"
     },
     "execution_count": 58,
     "metadata": {},
     "output_type": "execute_result"
    }
   ],
   "source": [
    "olympics = MyQueue()\n",
    "olympics"
   ]
  },
  {
   "cell_type": "markdown",
   "metadata": {},
   "source": [
    "* Using the object of the class queue, we are calling each function for the queue"
   ]
  },
  {
   "cell_type": "code",
   "execution_count": 59,
   "metadata": {
    "collapsed": true,
    "ExecuteTime": {
     "end_time": "2023-12-22T00:40:52.804156785Z",
     "start_time": "2023-12-22T00:40:52.801446395Z"
    }
   },
   "outputs": [],
   "source": [
    "olympics.enqueue('United States(USA)')\n",
    "olympics.enqueue('Great Britain(GBR)')"
   ]
  },
  {
   "cell_type": "code",
   "execution_count": 60,
   "metadata": {
    "ExecuteTime": {
     "end_time": "2023-12-22T00:40:52.832438528Z",
     "start_time": "2023-12-22T00:40:52.803893117Z"
    }
   },
   "outputs": [
    {
     "data": {
      "text/plain": "['United States(USA)', 'Great Britain(GBR)']"
     },
     "execution_count": 60,
     "metadata": {},
     "output_type": "execute_result"
    }
   ],
   "source": [
    "olympics.items"
   ]
  },
  {
   "cell_type": "code",
   "execution_count": 61,
   "metadata": {
    "ExecuteTime": {
     "end_time": "2023-12-22T00:40:52.838688737Z",
     "start_time": "2023-12-22T00:40:52.829776970Z"
    }
   },
   "outputs": [
    {
     "data": {
      "text/plain": "'United States(USA)'"
     },
     "execution_count": 61,
     "metadata": {},
     "output_type": "execute_result"
    }
   ],
   "source": [
    "olympics.peek()"
   ]
  },
  {
   "cell_type": "code",
   "execution_count": 62,
   "metadata": {
    "ExecuteTime": {
     "end_time": "2023-12-22T00:40:52.848709439Z",
     "start_time": "2023-12-22T00:40:52.832421766Z"
    }
   },
   "outputs": [
    {
     "data": {
      "text/plain": "2"
     },
     "execution_count": 62,
     "metadata": {},
     "output_type": "execute_result"
    }
   ],
   "source": [
    "olympics.size()"
   ]
  },
  {
   "cell_type": "code",
   "execution_count": 63,
   "metadata": {
    "ExecuteTime": {
     "end_time": "2023-12-22T00:40:52.849375106Z",
     "start_time": "2023-12-22T00:40:52.841203377Z"
    }
   },
   "outputs": [
    {
     "data": {
      "text/plain": "5"
     },
     "execution_count": 63,
     "metadata": {},
     "output_type": "execute_result"
    }
   ],
   "source": [
    "olympics.enqueue('China(CHN)')\n",
    "olympics.enqueue('Russia(RUS)')\n",
    "olympics.enqueue('Germany(GER)')\n",
    "\n",
    "olympics.size()"
   ]
  },
  {
   "cell_type": "code",
   "execution_count": 64,
   "metadata": {
    "ExecuteTime": {
     "end_time": "2023-12-22T00:40:52.851558071Z",
     "start_time": "2023-12-22T00:40:52.845002906Z"
    }
   },
   "outputs": [
    {
     "data": {
      "text/plain": "'United States(USA)'"
     },
     "execution_count": 64,
     "metadata": {},
     "output_type": "execute_result"
    }
   ],
   "source": [
    "olympics.peek()"
   ]
  },
  {
   "cell_type": "code",
   "execution_count": 65,
   "metadata": {
    "ExecuteTime": {
     "end_time": "2023-12-22T00:40:52.876423900Z",
     "start_time": "2023-12-22T00:40:52.851298610Z"
    }
   },
   "outputs": [
    {
     "data": {
      "text/plain": "'United States(USA)'"
     },
     "execution_count": 65,
     "metadata": {},
     "output_type": "execute_result"
    }
   ],
   "source": [
    "olympics.dequeue()"
   ]
  },
  {
   "cell_type": "code",
   "execution_count": 66,
   "metadata": {
    "ExecuteTime": {
     "end_time": "2023-12-22T00:40:52.885536456Z",
     "start_time": "2023-12-22T00:40:52.876156695Z"
    }
   },
   "outputs": [
    {
     "data": {
      "text/plain": "'Great Britain(GBR)'"
     },
     "execution_count": 66,
     "metadata": {},
     "output_type": "execute_result"
    }
   ],
   "source": [
    " olympics.peek()"
   ]
  },
  {
   "cell_type": "code",
   "execution_count": 67,
   "metadata": {
    "ExecuteTime": {
     "end_time": "2023-12-22T00:40:52.888492209Z",
     "start_time": "2023-12-22T00:40:52.880783536Z"
    }
   },
   "outputs": [
    {
     "data": {
      "text/plain": "'Great Britain(GBR)'"
     },
     "execution_count": 67,
     "metadata": {},
     "output_type": "execute_result"
    }
   ],
   "source": [
    " olympics.peek()"
   ]
  },
  {
   "cell_type": "code",
   "execution_count": 68,
   "metadata": {
    "ExecuteTime": {
     "end_time": "2023-12-22T00:40:52.894647337Z",
     "start_time": "2023-12-22T00:40:52.888256664Z"
    }
   },
   "outputs": [
    {
     "data": {
      "text/plain": "'Great Britain(GBR)'"
     },
     "execution_count": 68,
     "metadata": {},
     "output_type": "execute_result"
    }
   ],
   "source": [
    "olympics.dequeue()"
   ]
  },
  {
   "cell_type": "code",
   "execution_count": 69,
   "metadata": {
    "ExecuteTime": {
     "end_time": "2023-12-22T00:40:52.897578756Z",
     "start_time": "2023-12-22T00:40:52.894262951Z"
    }
   },
   "outputs": [
    {
     "data": {
      "text/plain": "'China(CHN)'"
     },
     "execution_count": 69,
     "metadata": {},
     "output_type": "execute_result"
    }
   ],
   "source": [
    "olympics.dequeue()"
   ]
  },
  {
   "cell_type": "code",
   "execution_count": 70,
   "metadata": {
    "ExecuteTime": {
     "end_time": "2023-12-22T00:40:52.927302062Z",
     "start_time": "2023-12-22T00:40:52.897221360Z"
    }
   },
   "outputs": [
    {
     "data": {
      "text/plain": "'Russia(RUS)'"
     },
     "execution_count": 70,
     "metadata": {},
     "output_type": "execute_result"
    }
   ],
   "source": [
    "olympics.dequeue()"
   ]
  },
  {
   "cell_type": "code",
   "execution_count": 71,
   "metadata": {
    "ExecuteTime": {
     "end_time": "2023-12-22T00:40:52.928452505Z",
     "start_time": "2023-12-22T00:40:52.918379905Z"
    }
   },
   "outputs": [
    {
     "data": {
      "text/plain": "'Germany(GER)'"
     },
     "execution_count": 71,
     "metadata": {},
     "output_type": "execute_result"
    }
   ],
   "source": [
    " olympics.peek()"
   ]
  },
  {
   "cell_type": "code",
   "execution_count": 72,
   "metadata": {
    "ExecuteTime": {
     "end_time": "2023-12-22T00:40:52.931205978Z",
     "start_time": "2023-12-22T00:40:52.927571341Z"
    }
   },
   "outputs": [
    {
     "data": {
      "text/plain": "1"
     },
     "execution_count": 72,
     "metadata": {},
     "output_type": "execute_result"
    }
   ],
   "source": [
    "olympics.size()"
   ]
  },
  {
   "cell_type": "code",
   "execution_count": 73,
   "metadata": {
    "ExecuteTime": {
     "end_time": "2023-12-22T00:40:52.940226801Z",
     "start_time": "2023-12-22T00:40:52.930921159Z"
    }
   },
   "outputs": [
    {
     "data": {
      "text/plain": "'Germany(GER)'"
     },
     "execution_count": 73,
     "metadata": {},
     "output_type": "execute_result"
    }
   ],
   "source": [
    "olympics.dequeue()"
   ]
  },
  {
   "cell_type": "code",
   "execution_count": 74,
   "metadata": {
    "ExecuteTime": {
     "end_time": "2023-12-22T00:40:52.978583979Z",
     "start_time": "2023-12-22T00:40:52.937653018Z"
    }
   },
   "outputs": [
    {
     "ename": "IndexError",
     "evalue": "pop from empty list",
     "output_type": "error",
     "traceback": [
      "\u001B[0;31m---------------------------------------------------------------------------\u001B[0m",
      "\u001B[0;31mIndexError\u001B[0m                                Traceback (most recent call last)",
      "Cell \u001B[0;32mIn[74], line 1\u001B[0m\n\u001B[0;32m----> 1\u001B[0m \u001B[43molympics\u001B[49m\u001B[38;5;241;43m.\u001B[39;49m\u001B[43mdequeue\u001B[49m\u001B[43m(\u001B[49m\u001B[43m)\u001B[49m\n",
      "Cell \u001B[0;32mIn[57], line 25\u001B[0m, in \u001B[0;36mMyQueue.dequeue\u001B[0;34m(self)\u001B[0m\n\u001B[1;32m     21\u001B[0m \u001B[38;5;28;01mdef\u001B[39;00m \u001B[38;5;21mdequeue\u001B[39m(\u001B[38;5;28mself\u001B[39m):\n\u001B[1;32m     23\u001B[0m \u001B[38;5;250m    \u001B[39m\u001B[38;5;124;03m\"\"\" Remove a element from the beginning of queue.\"\"\"\u001B[39;00m\n\u001B[0;32m---> 25\u001B[0m     \u001B[38;5;28;01mreturn\u001B[39;00m \u001B[38;5;28;43mself\u001B[39;49m\u001B[38;5;241;43m.\u001B[39;49m\u001B[43mitems\u001B[49m\u001B[38;5;241;43m.\u001B[39;49m\u001B[43mpop\u001B[49m\u001B[43m(\u001B[49m\u001B[38;5;241;43m0\u001B[39;49m\u001B[43m)\u001B[49m\n",
      "\u001B[0;31mIndexError\u001B[0m: pop from empty list"
     ]
    }
   ],
   "source": [
    "olympics.dequeue()"
   ]
  },
  {
   "cell_type": "code",
   "execution_count": null,
   "metadata": {
    "collapsed": true,
    "ExecuteTime": {
     "start_time": "2023-12-22T00:40:52.978441359Z"
    }
   },
   "outputs": [],
   "source": []
  }
 ],
 "metadata": {
  "kernelspec": {
   "display_name": "Python 3",
   "language": "python",
   "name": "python3"
  },
  "language_info": {
   "codemirror_mode": {
    "name": "ipython",
    "version": 3
   },
   "file_extension": ".py",
   "mimetype": "text/x-python",
   "name": "python",
   "nbconvert_exporter": "python",
   "pygments_lexer": "ipython3",
   "version": "3.6.8"
  }
 },
 "nbformat": 4,
 "nbformat_minor": 2
}
