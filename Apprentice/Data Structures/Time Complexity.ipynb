{
 "cells": [
  {
   "cell_type": "markdown",
   "metadata": {},
   "source": [
    "### O(1) Time complexity, constant time complexity"
   ]
  },
  {
   "cell_type": "code",
   "execution_count": 43,
   "metadata": {
    "collapsed": true,
    "ExecuteTime": {
     "end_time": "2023-12-22T00:34:09.898617541Z",
     "start_time": "2023-12-22T00:34:09.852784404Z"
    }
   },
   "outputs": [],
   "source": [
    "def addition(num1, num2): \n",
    "    total = num1 + num2\n",
    "\n",
    "    print(\"The sum of %d and %d is %d\" % (num1, num2, total))"
   ]
  },
  {
   "cell_type": "code",
   "execution_count": 44,
   "metadata": {
    "ExecuteTime": {
     "end_time": "2023-12-22T00:34:10.690018894Z",
     "start_time": "2023-12-22T00:34:10.684124297Z"
    }
   },
   "outputs": [
    {
     "name": "stdout",
     "output_type": "stream",
     "text": [
      "The sum of 10 and 4 is 14\n"
     ]
    }
   ],
   "source": [
    "addition(10, 4)"
   ]
  },
  {
   "cell_type": "code",
   "execution_count": 45,
   "metadata": {
    "collapsed": true,
    "ExecuteTime": {
     "end_time": "2023-12-22T00:34:11.337193141Z",
     "start_time": "2023-12-22T00:34:11.330604152Z"
    }
   },
   "outputs": [],
   "source": [
    "def addition(num1, num2):\n",
    "    \n",
    "    num_iterations = 0\n",
    "\n",
    "    total = num1 + num2\n",
    "    num_iterations += 1\n",
    "    \n",
    "    print(\"The sum of %d and %d is %d \\nTotal number of iterations = %d\" \n",
    "          %(num1, num2, total, num_iterations))"
   ]
  },
  {
   "cell_type": "code",
   "execution_count": 4,
   "metadata": {
    "ExecuteTime": {
     "end_time": "2023-12-22T00:31:45.726831774Z",
     "start_time": "2023-12-22T00:31:45.701302698Z"
    }
   },
   "outputs": [
    {
     "name": "stdout",
     "output_type": "stream",
     "text": [
      "The sum of 10 and 4 is 14 \n",
      "Total number of iterations = 1\n"
     ]
    }
   ],
   "source": [
    "addition(10, 4)"
   ]
  },
  {
   "cell_type": "code",
   "execution_count": 5,
   "metadata": {
    "ExecuteTime": {
     "end_time": "2023-12-22T00:31:45.727749988Z",
     "start_time": "2023-12-22T00:31:45.708656774Z"
    }
   },
   "outputs": [
    {
     "name": "stdout",
     "output_type": "stream",
     "text": [
      "The sum of 10000 and 200 is 10200 \n",
      "Total number of iterations = 1\n"
     ]
    }
   ],
   "source": [
    "addition(10000, 200)"
   ]
  },
  {
   "cell_type": "markdown",
   "metadata": {},
   "source": [
    "#### Checking whether a number is odd or even"
   ]
  },
  {
   "cell_type": "code",
   "execution_count": 6,
   "metadata": {
    "collapsed": true,
    "ExecuteTime": {
     "end_time": "2023-12-22T00:31:45.741769046Z",
     "start_time": "2023-12-22T00:31:45.727243081Z"
    }
   },
   "outputs": [],
   "source": [
    "def check_oddeven(number):\n",
    "    count = 0\n",
    "    num_iterations = 0\n",
    "    \n",
    "    if (number%2 == 0):\n",
    "        num_iterations += 1\n",
    "        print(\"%d is an even number\" % number)\n",
    "\n",
    "    else:\n",
    "        num_iterations += 1\n",
    "        print(\"%d is an odd number\" % number)\n",
    "        \n",
    "    print(\"Total number of iteration = %d \" %(num_iterations))"
   ]
  },
  {
   "cell_type": "code",
   "execution_count": 7,
   "metadata": {
    "ExecuteTime": {
     "end_time": "2023-12-22T00:31:45.742675800Z",
     "start_time": "2023-12-22T00:31:45.727398945Z"
    }
   },
   "outputs": [
    {
     "name": "stdout",
     "output_type": "stream",
     "text": [
      "5 is an odd number\n",
      "Total number of iteration = 1 \n"
     ]
    }
   ],
   "source": [
    "check_oddeven(5)"
   ]
  },
  {
   "cell_type": "code",
   "execution_count": 8,
   "metadata": {
    "ExecuteTime": {
     "end_time": "2023-12-22T00:31:45.744172327Z",
     "start_time": "2023-12-22T00:31:45.727528680Z"
    }
   },
   "outputs": [
    {
     "name": "stdout",
     "output_type": "stream",
     "text": [
      "2500 is an even number\n",
      "Total number of iteration = 1 \n"
     ]
    }
   ],
   "source": [
    "check_oddeven(2500)"
   ]
  },
  {
   "cell_type": "markdown",
   "metadata": {},
   "source": [
    "#### Find the square of a number"
   ]
  },
  {
   "cell_type": "code",
   "execution_count": 9,
   "metadata": {
    "collapsed": true,
    "ExecuteTime": {
     "end_time": "2023-12-22T00:31:45.751626210Z",
     "start_time": "2023-12-22T00:31:45.727799111Z"
    }
   },
   "outputs": [],
   "source": [
    "def find_square(number):\n",
    "    \n",
    "    num_iterations = 0\n",
    "    square = number**2\n",
    "\n",
    "    num_iterations += 1\n",
    "    \n",
    "    print(\"Square of %d is %d \\nTotal number of iteration = %d \" \n",
    "          % (number, square, num_iterations))"
   ]
  },
  {
   "cell_type": "code",
   "execution_count": 10,
   "metadata": {
    "ExecuteTime": {
     "end_time": "2023-12-22T00:31:45.754682324Z",
     "start_time": "2023-12-22T00:31:45.727920380Z"
    }
   },
   "outputs": [
    {
     "name": "stdout",
     "output_type": "stream",
     "text": [
      "Square of 2 is 4 \n",
      "Total number of iteration = 1 \n"
     ]
    }
   ],
   "source": [
    "find_square(2)"
   ]
  },
  {
   "cell_type": "code",
   "execution_count": 11,
   "metadata": {
    "ExecuteTime": {
     "end_time": "2023-12-22T00:31:45.755608394Z",
     "start_time": "2023-12-22T00:31:45.741473177Z"
    }
   },
   "outputs": [
    {
     "name": "stdout",
     "output_type": "stream",
     "text": [
      "Square of 10000 is 100000000 \n",
      "Total number of iteration = 1 \n"
     ]
    }
   ],
   "source": [
    "find_square(10000)"
   ]
  },
  {
   "cell_type": "markdown",
   "metadata": {},
   "source": [
    "### O(n) Time complexity"
   ]
  },
  {
   "cell_type": "markdown",
   "metadata": {},
   "source": [
    "#### Print all numbers from 1-n"
   ]
  },
  {
   "cell_type": "markdown",
   "metadata": {},
   "source": [
    "* This program is only applicable to positive numbers\n",
    "* This is a very naive and simple way to find prime numbers"
   ]
  },
  {
   "cell_type": "code",
   "execution_count": 12,
   "metadata": {
    "collapsed": true,
    "ExecuteTime": {
     "end_time": "2023-12-22T00:31:45.756386304Z",
     "start_time": "2023-12-22T00:31:45.741670169Z"
    }
   },
   "outputs": [],
   "source": [
    "def check_prime1(number):\n",
    "    \n",
    "    num_iterations = 0\n",
    "    for i in range(2, number):\n",
    "        num_iterations += 1 \n",
    "        \n",
    "        if number%i == 0:\n",
    "            print(\"%d is not a prime number \\nTotal number of iterations = %d\" \n",
    "                  %(number, num_iterations))\n",
    "            return\n",
    "        \n",
    "    print(\"%d is a prime number \\nTotal number of iterations = %d\" \n",
    "          %(number, num_iterations))"
   ]
  },
  {
   "cell_type": "code",
   "execution_count": 13,
   "metadata": {
    "ExecuteTime": {
     "end_time": "2023-12-22T00:31:45.814685886Z",
     "start_time": "2023-12-22T00:31:45.755071449Z"
    }
   },
   "outputs": [
    {
     "name": "stdout",
     "output_type": "stream",
     "text": [
      "1 is a prime number \n",
      "Total number of iterations = 0\n"
     ]
    }
   ],
   "source": [
    "check_prime1(1)"
   ]
  },
  {
   "cell_type": "code",
   "execution_count": 14,
   "metadata": {
    "ExecuteTime": {
     "end_time": "2023-12-22T00:31:45.827314567Z",
     "start_time": "2023-12-22T00:31:45.802415050Z"
    }
   },
   "outputs": [
    {
     "name": "stdout",
     "output_type": "stream",
     "text": [
      "49 is not a prime number \n",
      "Total number of iterations = 6\n"
     ]
    }
   ],
   "source": [
    "check_prime1(49)"
   ]
  },
  {
   "cell_type": "code",
   "execution_count": 15,
   "metadata": {
    "ExecuteTime": {
     "end_time": "2023-12-22T00:31:45.863802767Z",
     "start_time": "2023-12-22T00:31:45.817115436Z"
    }
   },
   "outputs": [
    {
     "name": "stdout",
     "output_type": "stream",
     "text": [
      "193 is a prime number \n",
      "Total number of iterations = 191\n"
     ]
    }
   ],
   "source": [
    "check_prime1(193)"
   ]
  },
  {
   "cell_type": "code",
   "execution_count": 16,
   "metadata": {
    "ExecuteTime": {
     "end_time": "2023-12-22T00:31:45.874363981Z",
     "start_time": "2023-12-22T00:31:45.864209546Z"
    }
   },
   "outputs": [
    {
     "name": "stdout",
     "output_type": "stream",
     "text": [
      "1847 is a prime number \n",
      "Total number of iterations = 1845\n"
     ]
    }
   ],
   "source": [
    "check_prime1(1847)"
   ]
  },
  {
   "cell_type": "code",
   "execution_count": 17,
   "metadata": {
    "collapsed": true,
    "ExecuteTime": {
     "end_time": "2023-12-22T00:31:45.876896877Z",
     "start_time": "2023-12-22T00:31:45.873969385Z"
    }
   },
   "outputs": [],
   "source": [
    "def check_prime2(number):\n",
    "    \n",
    "    num_iterations = 0\n",
    "    \n",
    "    mid_point = int(number / 2)\n",
    "\n",
    "    for i in range(2, mid_point):\n",
    "        num_iterations += 1 \n",
    "        \n",
    "        if number%i == 0:\n",
    "            print(\"%d is not a prime number \\nTotal number of iterations = %d\" \n",
    "                  %(number, num_iterations))\n",
    "            return\n",
    "        \n",
    "    print(\"%d is a prime number \\nTotal number of iterations = %d\"\n",
    "          %(number, num_iterations))"
   ]
  },
  {
   "cell_type": "code",
   "execution_count": 18,
   "metadata": {
    "ExecuteTime": {
     "end_time": "2023-12-22T00:31:45.906444965Z",
     "start_time": "2023-12-22T00:31:45.876626466Z"
    }
   },
   "outputs": [
    {
     "name": "stdout",
     "output_type": "stream",
     "text": [
      "1 is a prime number \n",
      "Total number of iterations = 0\n"
     ]
    }
   ],
   "source": [
    "check_prime2(1)"
   ]
  },
  {
   "cell_type": "code",
   "execution_count": 19,
   "metadata": {
    "ExecuteTime": {
     "end_time": "2023-12-22T00:31:45.907326922Z",
     "start_time": "2023-12-22T00:31:45.885821399Z"
    }
   },
   "outputs": [
    {
     "name": "stdout",
     "output_type": "stream",
     "text": [
      "19 is a prime number \n",
      "Total number of iterations = 7\n"
     ]
    }
   ],
   "source": [
    "check_prime2(19)"
   ]
  },
  {
   "cell_type": "code",
   "execution_count": 20,
   "metadata": {
    "ExecuteTime": {
     "end_time": "2023-12-22T00:31:45.918263966Z",
     "start_time": "2023-12-22T00:31:45.906729202Z"
    }
   },
   "outputs": [
    {
     "name": "stdout",
     "output_type": "stream",
     "text": [
      "49 is not a prime number \n",
      "Total number of iterations = 6\n"
     ]
    }
   ],
   "source": [
    "check_prime2(49)"
   ]
  },
  {
   "cell_type": "code",
   "execution_count": 21,
   "metadata": {
    "ExecuteTime": {
     "end_time": "2023-12-22T00:31:45.922206044Z",
     "start_time": "2023-12-22T00:31:45.917834505Z"
    }
   },
   "outputs": [
    {
     "name": "stdout",
     "output_type": "stream",
     "text": [
      "193 is a prime number \n",
      "Total number of iterations = 94\n"
     ]
    }
   ],
   "source": [
    "check_prime2(193)"
   ]
  },
  {
   "cell_type": "code",
   "execution_count": 22,
   "metadata": {
    "ExecuteTime": {
     "end_time": "2023-12-22T00:31:45.932085311Z",
     "start_time": "2023-12-22T00:31:45.922058365Z"
    }
   },
   "outputs": [
    {
     "name": "stdout",
     "output_type": "stream",
     "text": [
      "1847 is a prime number \n",
      "Total number of iterations = 921\n"
     ]
    }
   ],
   "source": [
    "check_prime2(1847)"
   ]
  },
  {
   "cell_type": "markdown",
   "metadata": {},
   "source": [
    "#### Find the maximum value in an unsorted list"
   ]
  },
  {
   "cell_type": "code",
   "execution_count": 23,
   "metadata": {
    "collapsed": true,
    "ExecuteTime": {
     "end_time": "2023-12-22T00:31:45.963807207Z",
     "start_time": "2023-12-22T00:31:45.931220437Z"
    }
   },
   "outputs": [],
   "source": [
    "def find_maxval(num_list):\n",
    "    \n",
    "    maxval = num_list[0]\n",
    "    num_iterations = 0 \n",
    "    \n",
    "    for i in range(len(num_list)):\n",
    "        num_iterations += 1\n",
    "        \n",
    "        if maxval < num_list[i]:\n",
    "            maxval = num_list[i]\n",
    "            \n",
    "    print(\"Maximum value of the list = %d \\nTotal number of iterations = %d\" \n",
    "                  %(maxval, num_iterations))"
   ]
  },
  {
   "cell_type": "code",
   "execution_count": 24,
   "metadata": {
    "ExecuteTime": {
     "end_time": "2023-12-22T00:31:45.977982039Z",
     "start_time": "2023-12-22T00:31:45.963718980Z"
    }
   },
   "outputs": [
    {
     "name": "stdout",
     "output_type": "stream",
     "text": [
      "Maximum value of the list = 123 \n",
      "Total number of iterations = 4\n"
     ]
    }
   ],
   "source": [
    "find_maxval([123, 67, 25, 79])"
   ]
  },
  {
   "cell_type": "code",
   "execution_count": 25,
   "metadata": {
    "ExecuteTime": {
     "end_time": "2023-12-22T00:31:45.991012899Z",
     "start_time": "2023-12-22T00:31:45.977611869Z"
    }
   },
   "outputs": [
    {
     "name": "stdout",
     "output_type": "stream",
     "text": [
      "Maximum value of the list = 123 \n",
      "Total number of iterations = 6\n"
     ]
    }
   ],
   "source": [
    "find_maxval([67, 89, 123, 67, 25, 79])"
   ]
  },
  {
   "cell_type": "code",
   "execution_count": 26,
   "metadata": {
    "ExecuteTime": {
     "end_time": "2023-12-22T00:31:46.026864086Z",
     "start_time": "2023-12-22T00:31:45.990783315Z"
    }
   },
   "outputs": [
    {
     "name": "stdout",
     "output_type": "stream",
     "text": [
      "Maximum value of the list = 433 \n",
      "Total number of iterations = 12\n"
     ]
    }
   ],
   "source": [
    "find_maxval([67, 89, 12, 67, 25, 79, 10, 433, 6, 4, 90, 78])"
   ]
  },
  {
   "cell_type": "markdown",
   "metadata": {},
   "source": [
    "#### Factorial of a number"
   ]
  },
  {
   "cell_type": "code",
   "execution_count": 27,
   "metadata": {
    "collapsed": true,
    "ExecuteTime": {
     "end_time": "2023-12-22T00:31:46.036009796Z",
     "start_time": "2023-12-22T00:31:46.026036061Z"
    }
   },
   "outputs": [],
   "source": [
    "def find_factorial(number:int):\n",
    "    fact = 1\n",
    "    num_iterations = 0\n",
    "    \n",
    "    if (number < 0 or type(number) != int):\n",
    "        print(\"Invalid number\")\n",
    "        return\n",
    "    \n",
    "    for i in range(1, number):\n",
    "        fact = fact * i \n",
    "        num_iterations += 1\n",
    "        \n",
    "    print (\"The factorial of %d = %d \\nTotal number of iterations = %d\" \n",
    "           %(number, fact, num_iterations))"
   ]
  },
  {
   "cell_type": "code",
   "execution_count": 28,
   "metadata": {
    "ExecuteTime": {
     "end_time": "2023-12-22T00:31:46.039879277Z",
     "start_time": "2023-12-22T00:31:46.035777247Z"
    }
   },
   "outputs": [
    {
     "name": "stdout",
     "output_type": "stream",
     "text": [
      "The factorial of 1 = 1 \n",
      "Total number of iterations = 0\n"
     ]
    }
   ],
   "source": [
    "find_factorial(1)"
   ]
  },
  {
   "cell_type": "code",
   "execution_count": 29,
   "metadata": {
    "ExecuteTime": {
     "end_time": "2023-12-22T00:31:46.047444382Z",
     "start_time": "2023-12-22T00:31:46.039568540Z"
    }
   },
   "outputs": [
    {
     "name": "stdout",
     "output_type": "stream",
     "text": [
      "The factorial of 8 = 5040 \n",
      "Total number of iterations = 7\n"
     ]
    }
   ],
   "source": [
    "find_factorial(8)"
   ]
  },
  {
   "cell_type": "code",
   "execution_count": 30,
   "metadata": {
    "ExecuteTime": {
     "end_time": "2023-12-22T00:31:46.072456278Z",
     "start_time": "2023-12-22T00:31:46.047227011Z"
    }
   },
   "outputs": [
    {
     "name": "stdout",
     "output_type": "stream",
     "text": [
      "The factorial of 1050 = 1343036381662039428812378024454278883437550365581601049711014760796511199309238639334345088157870159743404176138706476093576365565521216669895461863747686089980008281852543881296906181205957799143950857751383520848344387357334921992391484022461140391774024579177639544802243173220038740191921451749191031597387058444483286054358204687192511648909947181511253052509117260772414906953170722713206456465186043696133061587111134220571764715188558133329935946779765976382179976044366502498226569325830699837015494008388927286929842712546732798356936925548453930598696336867576360615049844227449141307850023973796540928339821392014193266773254465769252142769551423266645230726056513873119017544698882535091021954196797880333485564549715254697572473196885317951334813679830181782822702206976891660830822998097665457807833926151307154473258010903769643552699109664744469163405949102808313626104677330151684740428404512273638222063401771208200859906165663927102524288162962006056238391927093130297530608919821791984405220042341787951934303509936147349014750851538722974246413834529082793897061294988714851649974963134525404036926243116124565538881890659414641865817589338002661039365056188482527987827609724663268872723780659949188135837580616576879257661111467165608791209050621099216694912944013605801829350795129326684328955594879390133805520799723532746680012393036170574708952031611731634550001437171405996208048669864355073112791474697605222765863217095015613735909317239554734337823055009938582347187429483095670274497502032901516805149492812072342415190250513215206030220924884952115441954789645531231114206324685459222456517484990093255907799558696891032480655913769540469838635608574319713533539923008891308171590935359732002909617046455747574044349773543404196071826271091403775580817463087926610239276109007006627130003544153385655385167240339753340260481564589881256012168818980767242169718203027135277033797384283098666423553089124929680690875085795777748897931922944045233165977384322910538169962403893508084452061409316658986430134716177144746535909866103209002104112854761386083420367924099406390264777192569358596175751166710549302238649624338959399167739618435687746224079796435954992724830202258174440234603074171608399511149496056450205155132679469814530955773673340451098567859828067788655594062647779181550969310946035145439980142328807368347773431612196492352317213049581436689213945320413138306133595111989132187618994117061746467765988884480000000000000000000000000000000000000000000000000000000000000000000000000000000000000000000000000000000000000000000000000000000000000000000000000000000000000000000000000000000000000000000000000000000000000000000000000000000000000000000000000000000000000000000 \n",
      "Total number of iterations = 1049\n"
     ]
    }
   ],
   "source": [
    "find_factorial(1050)"
   ]
  },
  {
   "cell_type": "markdown",
   "metadata": {},
   "source": [
    "#### Complexity of a for loop which depends on n and a constant"
   ]
  },
  {
   "cell_type": "code",
   "execution_count": 31,
   "metadata": {
    "collapsed": true,
    "ExecuteTime": {
     "end_time": "2023-12-22T00:31:46.081767702Z",
     "start_time": "2023-12-22T00:31:46.071518326Z"
    }
   },
   "outputs": [],
   "source": [
    "def two_for_loops(number):\n",
    "    \n",
    "    total = 0\n",
    "    num_iterations = 0\n",
    "    \n",
    "    for i in range(number):\n",
    "        num_iterations += 1\n",
    "        total = total + i\n",
    "        \n",
    "    for i in range(100):\n",
    "        num_iterations += 1\n",
    "        total = total + i\n",
    "        \n",
    "    print(\"Total iterations are %d\" % num_iterations) "
   ]
  },
  {
   "cell_type": "code",
   "execution_count": 32,
   "metadata": {
    "ExecuteTime": {
     "end_time": "2023-12-22T00:31:46.085742382Z",
     "start_time": "2023-12-22T00:31:46.081602670Z"
    }
   },
   "outputs": [
    {
     "name": "stdout",
     "output_type": "stream",
     "text": [
      "Total iterations are 200\n"
     ]
    }
   ],
   "source": [
    "two_for_loops(100)"
   ]
  },
  {
   "cell_type": "code",
   "execution_count": 33,
   "metadata": {
    "ExecuteTime": {
     "end_time": "2023-12-22T00:31:46.116720692Z",
     "start_time": "2023-12-22T00:31:46.085524640Z"
    }
   },
   "outputs": [
    {
     "name": "stdout",
     "output_type": "stream",
     "text": [
      "Total iterations are 1100\n"
     ]
    }
   ],
   "source": [
    "two_for_loops(1000)"
   ]
  },
  {
   "cell_type": "code",
   "execution_count": 34,
   "metadata": {
    "ExecuteTime": {
     "end_time": "2023-12-22T00:31:46.129938527Z",
     "start_time": "2023-12-22T00:31:46.092691841Z"
    }
   },
   "outputs": [
    {
     "name": "stdout",
     "output_type": "stream",
     "text": [
      "Total iterations are 1000100\n"
     ]
    }
   ],
   "source": [
    "two_for_loops(1000000)"
   ]
  },
  {
   "cell_type": "markdown",
   "metadata": {},
   "source": [
    "### O(n^2) Time complexity"
   ]
  },
  {
   "cell_type": "markdown",
   "metadata": {},
   "source": [
    "#### Print all pairs of numbers in a given list"
   ]
  },
  {
   "cell_type": "code",
   "execution_count": 35,
   "metadata": {
    "collapsed": true,
    "ExecuteTime": {
     "end_time": "2023-12-22T00:31:46.133745680Z",
     "start_time": "2023-12-22T00:31:46.130424415Z"
    }
   },
   "outputs": [],
   "source": [
    "def print_pairs(number_list):\n",
    "    \n",
    "    num_iterations = 0\n",
    "    n = len(number_list)\n",
    "    \n",
    "    for i in range(n):\n",
    "        for j in range(n):\n",
    "            print(number_list[i], number_list[j])\n",
    "            num_iterations += 1\n",
    "            \n",
    "    print(\"Total iterations are %d\" % num_iterations)    "
   ]
  },
  {
   "cell_type": "code",
   "execution_count": 36,
   "metadata": {
    "ExecuteTime": {
     "end_time": "2023-12-22T00:31:46.139539055Z",
     "start_time": "2023-12-22T00:31:46.130599085Z"
    }
   },
   "outputs": [
    {
     "name": "stdout",
     "output_type": "stream",
     "text": [
      "123 123\n",
      "123 67\n",
      "67 123\n",
      "67 67\n",
      "Total iterations are 4\n"
     ]
    }
   ],
   "source": [
    "print_pairs([123, 67])"
   ]
  },
  {
   "cell_type": "code",
   "execution_count": 37,
   "metadata": {
    "ExecuteTime": {
     "end_time": "2023-12-22T00:31:46.142126754Z",
     "start_time": "2023-12-22T00:31:46.130763926Z"
    }
   },
   "outputs": [
    {
     "name": "stdout",
     "output_type": "stream",
     "text": [
      "123 123\n",
      "123 67\n",
      "123 25\n",
      "123 79\n",
      "67 123\n",
      "67 67\n",
      "67 25\n",
      "67 79\n",
      "25 123\n",
      "25 67\n",
      "25 25\n",
      "25 79\n",
      "79 123\n",
      "79 67\n",
      "79 25\n",
      "79 79\n",
      "Total iterations are 16\n"
     ]
    }
   ],
   "source": [
    "print_pairs([123, 67, 25, 79])"
   ]
  },
  {
   "cell_type": "markdown",
   "metadata": {},
   "source": [
    "#### Check whether the numbers in a range are prime"
   ]
  },
  {
   "cell_type": "code",
   "execution_count": 38,
   "metadata": {
    "collapsed": true,
    "ExecuteTime": {
     "end_time": "2023-12-22T00:31:46.170301528Z",
     "start_time": "2023-12-22T00:31:46.133552344Z"
    }
   },
   "outputs": [],
   "source": [
    "def find_prime(lower, upper):\n",
    "    num_iterations = 0\n",
    "\n",
    "    for num in range(lower, upper):\n",
    "        \n",
    "        for i in range(2, int(num / 2)):\n",
    "            num_iterations += 1\n",
    "\n",
    "            if (num % i) == 0:\n",
    "                break\n",
    "        else:\n",
    "            print(num)\n",
    "    print(\"Total iterations are %d\" % num_iterations)"
   ]
  },
  {
   "cell_type": "code",
   "execution_count": 39,
   "metadata": {
    "ExecuteTime": {
     "end_time": "2023-12-22T00:31:46.171184917Z",
     "start_time": "2023-12-22T00:31:46.142510820Z"
    }
   },
   "outputs": [
    {
     "name": "stdout",
     "output_type": "stream",
     "text": [
      "11\n",
      "13\n",
      "17\n",
      "19\n",
      "Total iterations are 27\n"
     ]
    }
   ],
   "source": [
    "find_prime(10, 20)"
   ]
  },
  {
   "cell_type": "code",
   "execution_count": 40,
   "metadata": {
    "ExecuteTime": {
     "end_time": "2023-12-22T00:31:46.179864737Z",
     "start_time": "2023-12-22T00:31:46.170752751Z"
    }
   },
   "outputs": [
    {
     "name": "stdout",
     "output_type": "stream",
     "text": [
      "11\n",
      "13\n",
      "17\n",
      "19\n",
      "23\n",
      "29\n",
      "31\n",
      "37\n",
      "41\n",
      "43\n",
      "47\n",
      "53\n",
      "59\n",
      "61\n",
      "67\n",
      "71\n",
      "73\n",
      "79\n",
      "83\n",
      "89\n",
      "97\n",
      "101\n",
      "103\n",
      "107\n",
      "109\n",
      "113\n",
      "127\n",
      "131\n",
      "137\n",
      "139\n",
      "149\n",
      "151\n",
      "157\n",
      "163\n",
      "167\n",
      "173\n",
      "179\n",
      "181\n",
      "191\n",
      "193\n",
      "197\n",
      "199\n",
      "211\n",
      "223\n",
      "227\n",
      "229\n",
      "233\n",
      "239\n",
      "241\n",
      "251\n",
      "257\n",
      "263\n",
      "269\n",
      "271\n",
      "277\n",
      "281\n",
      "283\n",
      "293\n",
      "307\n",
      "311\n",
      "313\n",
      "317\n",
      "331\n",
      "337\n",
      "347\n",
      "349\n",
      "353\n",
      "359\n",
      "367\n",
      "373\n",
      "379\n",
      "383\n",
      "389\n",
      "397\n",
      "401\n",
      "409\n",
      "419\n",
      "421\n",
      "431\n",
      "433\n",
      "439\n",
      "443\n",
      "449\n",
      "457\n",
      "461\n",
      "463\n",
      "467\n",
      "479\n",
      "487\n",
      "491\n",
      "499\n",
      "503\n",
      "509\n",
      "521\n",
      "523\n",
      "541\n",
      "547\n",
      "557\n",
      "563\n",
      "569\n",
      "571\n",
      "577\n",
      "587\n",
      "593\n",
      "599\n",
      "601\n",
      "607\n",
      "613\n",
      "617\n",
      "619\n",
      "631\n",
      "641\n",
      "643\n",
      "647\n",
      "653\n",
      "659\n",
      "661\n",
      "673\n",
      "677\n",
      "683\n",
      "691\n",
      "701\n",
      "709\n",
      "719\n",
      "727\n",
      "733\n",
      "739\n",
      "743\n",
      "751\n",
      "757\n",
      "761\n",
      "769\n",
      "773\n",
      "787\n",
      "797\n",
      "809\n",
      "811\n",
      "821\n",
      "823\n",
      "827\n",
      "829\n",
      "839\n",
      "853\n",
      "857\n",
      "859\n",
      "863\n",
      "877\n",
      "881\n",
      "883\n",
      "887\n",
      "907\n",
      "911\n",
      "919\n",
      "929\n",
      "937\n",
      "941\n",
      "947\n",
      "953\n",
      "967\n",
      "971\n",
      "977\n",
      "983\n",
      "991\n",
      "997\n",
      "1009\n",
      "1013\n",
      "1019\n",
      "1021\n",
      "1031\n",
      "1033\n",
      "1039\n",
      "1049\n",
      "1051\n",
      "1061\n",
      "1063\n",
      "1069\n",
      "1087\n",
      "1091\n",
      "1093\n",
      "1097\n",
      "1103\n",
      "1109\n",
      "1117\n",
      "1123\n",
      "1129\n",
      "1151\n",
      "1153\n",
      "1163\n",
      "1171\n",
      "1181\n",
      "1187\n",
      "1193\n",
      "1201\n",
      "1213\n",
      "1217\n",
      "1223\n",
      "1229\n",
      "1231\n",
      "1237\n",
      "1249\n",
      "1259\n",
      "1277\n",
      "1279\n",
      "1283\n",
      "1289\n",
      "1291\n",
      "1297\n",
      "1301\n",
      "1303\n",
      "1307\n",
      "1319\n",
      "1321\n",
      "1327\n",
      "1361\n",
      "1367\n",
      "1373\n",
      "1381\n",
      "1399\n",
      "1409\n",
      "1423\n",
      "1427\n",
      "1429\n",
      "1433\n",
      "1439\n",
      "1447\n",
      "1451\n",
      "1453\n",
      "1459\n",
      "1471\n",
      "1481\n",
      "1483\n",
      "1487\n",
      "1489\n",
      "1493\n",
      "1499\n",
      "1511\n",
      "1523\n",
      "1531\n",
      "1543\n",
      "1549\n",
      "1553\n",
      "1559\n",
      "1567\n",
      "1571\n",
      "1579\n",
      "1583\n",
      "1597\n",
      "1601\n",
      "1607\n",
      "1609\n",
      "1613\n",
      "1619\n",
      "1621\n",
      "1627\n",
      "1637\n",
      "1657\n",
      "1663\n",
      "1667\n",
      "1669\n",
      "1693\n",
      "1697\n",
      "1699\n",
      "1709\n",
      "1721\n",
      "1723\n",
      "1733\n",
      "1741\n",
      "1747\n",
      "1753\n",
      "1759\n",
      "1777\n",
      "1783\n",
      "1787\n",
      "1789\n",
      "1801\n",
      "1811\n",
      "1823\n",
      "1831\n",
      "1847\n",
      "1861\n",
      "1867\n",
      "1871\n",
      "1873\n",
      "1877\n",
      "1879\n",
      "1889\n",
      "1901\n",
      "1907\n",
      "1913\n",
      "1931\n",
      "1933\n",
      "1949\n",
      "1951\n",
      "1973\n",
      "1979\n",
      "1987\n",
      "1993\n",
      "1997\n",
      "1999\n",
      "Total iterations are 143122\n"
     ]
    }
   ],
   "source": [
    "find_prime(10, 2000)"
   ]
  },
  {
   "cell_type": "markdown",
   "metadata": {},
   "source": [
    "### O(n x m) Time complexity"
   ]
  },
  {
   "cell_type": "code",
   "execution_count": 41,
   "metadata": {
    "collapsed": true,
    "ExecuteTime": {
     "end_time": "2023-12-22T00:31:46.187598369Z",
     "start_time": "2023-12-22T00:31:46.179357859Z"
    }
   },
   "outputs": [],
   "source": [
    "def print_combinations(n, m):\n",
    "    \n",
    "    num_iterations = 0\n",
    "    \n",
    "    for i in range(n):\n",
    "        for j in range(m):\n",
    "            print(i, j)\n",
    "            num_iterations += 1\n",
    "            \n",
    "    print(\"Total iterations are %d\" % num_iterations)    "
   ]
  },
  {
   "cell_type": "code",
   "execution_count": 42,
   "metadata": {
    "ExecuteTime": {
     "end_time": "2023-12-22T00:31:46.191398368Z",
     "start_time": "2023-12-22T00:31:46.183263409Z"
    }
   },
   "outputs": [
    {
     "name": "stdout",
     "output_type": "stream",
     "text": [
      "0 0\n",
      "0 1\n",
      "0 2\n",
      "0 3\n",
      "0 4\n",
      "0 5\n",
      "0 6\n",
      "0 7\n",
      "0 8\n",
      "0 9\n",
      "0 10\n",
      "0 11\n",
      "1 0\n",
      "1 1\n",
      "1 2\n",
      "1 3\n",
      "1 4\n",
      "1 5\n",
      "1 6\n",
      "1 7\n",
      "1 8\n",
      "1 9\n",
      "1 10\n",
      "1 11\n",
      "2 0\n",
      "2 1\n",
      "2 2\n",
      "2 3\n",
      "2 4\n",
      "2 5\n",
      "2 6\n",
      "2 7\n",
      "2 8\n",
      "2 9\n",
      "2 10\n",
      "2 11\n",
      "3 0\n",
      "3 1\n",
      "3 2\n",
      "3 3\n",
      "3 4\n",
      "3 5\n",
      "3 6\n",
      "3 7\n",
      "3 8\n",
      "3 9\n",
      "3 10\n",
      "3 11\n",
      "4 0\n",
      "4 1\n",
      "4 2\n",
      "4 3\n",
      "4 4\n",
      "4 5\n",
      "4 6\n",
      "4 7\n",
      "4 8\n",
      "4 9\n",
      "4 10\n",
      "4 11\n",
      "5 0\n",
      "5 1\n",
      "5 2\n",
      "5 3\n",
      "5 4\n",
      "5 5\n",
      "5 6\n",
      "5 7\n",
      "5 8\n",
      "5 9\n",
      "5 10\n",
      "5 11\n",
      "6 0\n",
      "6 1\n",
      "6 2\n",
      "6 3\n",
      "6 4\n",
      "6 5\n",
      "6 6\n",
      "6 7\n",
      "6 8\n",
      "6 9\n",
      "6 10\n",
      "6 11\n",
      "7 0\n",
      "7 1\n",
      "7 2\n",
      "7 3\n",
      "7 4\n",
      "7 5\n",
      "7 6\n",
      "7 7\n",
      "7 8\n",
      "7 9\n",
      "7 10\n",
      "7 11\n",
      "8 0\n",
      "8 1\n",
      "8 2\n",
      "8 3\n",
      "8 4\n",
      "8 5\n",
      "8 6\n",
      "8 7\n",
      "8 8\n",
      "8 9\n",
      "8 10\n",
      "8 11\n",
      "9 0\n",
      "9 1\n",
      "9 2\n",
      "9 3\n",
      "9 4\n",
      "9 5\n",
      "9 6\n",
      "9 7\n",
      "9 8\n",
      "9 9\n",
      "9 10\n",
      "9 11\n",
      "Total iterations are 120\n"
     ]
    }
   ],
   "source": [
    "print_combinations(10, 12)"
   ]
  },
  {
   "cell_type": "code",
   "execution_count": 42,
   "metadata": {
    "collapsed": true,
    "ExecuteTime": {
     "end_time": "2023-12-22T00:31:46.227383449Z",
     "start_time": "2023-12-22T00:31:46.226396043Z"
    }
   },
   "outputs": [],
   "source": []
  }
 ],
 "metadata": {
  "kernelspec": {
   "display_name": "Python 3",
   "language": "python",
   "name": "python3"
  },
  "language_info": {
   "codemirror_mode": {
    "name": "ipython",
    "version": 3
   },
   "file_extension": ".py",
   "mimetype": "text/x-python",
   "name": "python",
   "nbconvert_exporter": "python",
   "pygments_lexer": "ipython3",
   "version": "3.6.8"
  }
 },
 "nbformat": 4,
 "nbformat_minor": 2
}
