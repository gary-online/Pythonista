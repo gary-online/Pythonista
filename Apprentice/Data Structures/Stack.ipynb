{
 "cells": [
  {
   "cell_type": "markdown",
   "metadata": {},
   "source": [
    "## Stack"
   ]
  },
  {
   "cell_type": "code",
   "execution_count": 1,
   "metadata": {
    "collapsed": true,
    "ExecuteTime": {
     "end_time": "2023-12-22T16:37:01.190484978Z",
     "start_time": "2023-12-22T16:37:01.187102059Z"
    }
   },
   "outputs": [],
   "source": [
    "stack = []"
   ]
  },
  {
   "cell_type": "code",
   "execution_count": 2,
   "metadata": {
    "collapsed": true,
    "ExecuteTime": {
     "end_time": "2023-12-22T16:37:01.202568565Z",
     "start_time": "2023-12-22T16:37:01.190573195Z"
    }
   },
   "outputs": [],
   "source": [
    "stack.append('United States(USA)')\n",
    "stack.append('Great Britain(GBR)')\n",
    "stack.append('China(CHN)')"
   ]
  },
  {
   "cell_type": "code",
   "execution_count": 3,
   "metadata": {
    "ExecuteTime": {
     "end_time": "2023-12-22T16:37:01.207998765Z",
     "start_time": "2023-12-22T16:37:01.201710912Z"
    }
   },
   "outputs": [
    {
     "data": {
      "text/plain": "['United States(USA)', 'Great Britain(GBR)', 'China(CHN)']"
     },
     "execution_count": 3,
     "metadata": {},
     "output_type": "execute_result"
    }
   ],
   "source": [
    "stack"
   ]
  },
  {
   "cell_type": "code",
   "execution_count": 4,
   "metadata": {
    "ExecuteTime": {
     "end_time": "2023-12-22T16:37:01.229181473Z",
     "start_time": "2023-12-22T16:37:01.202788841Z"
    }
   },
   "outputs": [
    {
     "data": {
      "text/plain": "'China(CHN)'"
     },
     "execution_count": 4,
     "metadata": {},
     "output_type": "execute_result"
    }
   ],
   "source": [
    "stack.pop()"
   ]
  },
  {
   "cell_type": "code",
   "execution_count": 5,
   "metadata": {
    "ExecuteTime": {
     "end_time": "2023-12-22T16:37:01.229946420Z",
     "start_time": "2023-12-22T16:37:01.210493373Z"
    }
   },
   "outputs": [
    {
     "data": {
      "text/plain": "['United States(USA)', 'Great Britain(GBR)']"
     },
     "execution_count": 5,
     "metadata": {},
     "output_type": "execute_result"
    }
   ],
   "source": [
    "stack"
   ]
  },
  {
   "cell_type": "code",
   "execution_count": 6,
   "metadata": {
    "collapsed": true,
    "ExecuteTime": {
     "end_time": "2023-12-22T16:37:01.239864018Z",
     "start_time": "2023-12-22T16:37:01.210787339Z"
    }
   },
   "outputs": [],
   "source": [
    "stack.append('China(CHN)')"
   ]
  },
  {
   "cell_type": "code",
   "execution_count": 7,
   "metadata": {
    "ExecuteTime": {
     "end_time": "2023-12-22T16:37:01.240656226Z",
     "start_time": "2023-12-22T16:37:01.230260414Z"
    }
   },
   "outputs": [
    {
     "data": {
      "text/plain": "['United States(USA)', 'Great Britain(GBR)', 'China(CHN)']"
     },
     "execution_count": 7,
     "metadata": {},
     "output_type": "execute_result"
    }
   ],
   "source": [
    "stack"
   ]
  },
  {
   "cell_type": "code",
   "execution_count": 8,
   "metadata": {
    "collapsed": true,
    "ExecuteTime": {
     "end_time": "2023-12-22T16:37:01.241256692Z",
     "start_time": "2023-12-22T16:37:01.230433781Z"
    }
   },
   "outputs": [],
   "source": [
    "stack.append('Russia(RUS)')\n",
    "stack.append('Germany(GER)')\n",
    "stack.append('Japan(JPN)')\n",
    "stack.append('France(FRA)')\n",
    "stack.append('South Korea(KOR)')\n",
    "stack.append('Italy(ITA)')\n",
    "stack.append('Australia(AUS)')"
   ]
  },
  {
   "cell_type": "code",
   "execution_count": 9,
   "metadata": {
    "ExecuteTime": {
     "end_time": "2023-12-22T16:37:01.274028231Z",
     "start_time": "2023-12-22T16:37:01.230590037Z"
    }
   },
   "outputs": [
    {
     "data": {
      "text/plain": "'Australia(AUS)'"
     },
     "execution_count": 9,
     "metadata": {},
     "output_type": "execute_result"
    }
   ],
   "source": [
    "stack.pop()"
   ]
  },
  {
   "cell_type": "code",
   "execution_count": 10,
   "metadata": {
    "ExecuteTime": {
     "end_time": "2023-12-22T16:37:01.276490277Z",
     "start_time": "2023-12-22T16:37:01.230755841Z"
    }
   },
   "outputs": [
    {
     "data": {
      "text/plain": "'Italy(ITA)'"
     },
     "execution_count": 10,
     "metadata": {},
     "output_type": "execute_result"
    }
   ],
   "source": [
    "stack.pop()"
   ]
  },
  {
   "cell_type": "markdown",
   "metadata": {},
   "source": [
    "## Building own Stack"
   ]
  },
  {
   "cell_type": "markdown",
   "metadata": {},
   "source": [
    "1.initialise a new stack<br>\n",
    "2.Add a element to the stack<br>\n",
    "3.Remove the element of the stack<br>\n",
    "4.Have a look at top element of the stack<br>\n",
    "5.Returns the internal size in bytes for the stack<br>\n",
    "6.Returns true if stack is empty<br>"
   ]
  },
  {
   "cell_type": "code",
   "execution_count": 1,
   "metadata": {
    "collapsed": true,
    "ExecuteTime": {
     "end_time": "2023-12-23T03:17:10.296107192Z",
     "start_time": "2023-12-23T03:17:10.295183989Z"
    }
   },
   "outputs": [],
   "source": [
    "class Stack:\n",
    "    \n",
    "    def __init__(self):\n",
    "        \"\"\"Create a new stack\"\"\"\n",
    "        \n",
    "        self.stack = []\n",
    "        \n",
    "    def push(self,data):\n",
    "        \"\"\"Add a element to the stack\"\"\"\n",
    "        \n",
    "        self.stack.append(data)\n",
    "    \n",
    "    def pop(self):\n",
    "        \"\"\"Remove the top element of the stack\"\"\"\n",
    "        \n",
    "        if self.is_empty():\n",
    "            raise Exception(\"Nothing to pop\")\n",
    "        \n",
    "        return self.stack.pop(len(self.stack) - 1)\n",
    "    \n",
    "    def peek(self):\n",
    "        \"\"\"Have a look at top element of the stack\"\"\"\n",
    "        \n",
    "        if self.is_empty():\n",
    "            raise Exception(\"Nothing to peek\")\n",
    "        \n",
    "        return self.stack[len(self.stack) - 1]\n",
    "    \n",
    "    def is_empty(self):\n",
    "        \"\"\"Returns true if stack is empty\"\"\"\n",
    "        return len(self.stack) == 0\n",
    "    \n",
    "    def size(self):\n",
    "        \"\"\"Returns size of the stack\"\"\"\n",
    "        return len(self.stack) "
   ]
  },
  {
   "cell_type": "code",
   "execution_count": 12,
   "metadata": {
    "ExecuteTime": {
     "end_time": "2023-12-22T16:37:01.277722317Z",
     "start_time": "2023-12-22T16:37:01.239650654Z"
    }
   },
   "outputs": [
    {
     "data": {
      "text/plain": "<__main__.Stack at 0x7f30baf71c90>"
     },
     "execution_count": 12,
     "metadata": {},
     "output_type": "execute_result"
    }
   ],
   "source": [
    "olympics = Stack()\n",
    "olympics"
   ]
  },
  {
   "cell_type": "code",
   "execution_count": 13,
   "metadata": {
    "collapsed": true,
    "ExecuteTime": {
     "end_time": "2023-12-22T16:37:01.295071133Z",
     "start_time": "2023-12-22T16:37:01.277029687Z"
    }
   },
   "outputs": [],
   "source": [
    "olympics.push('United States(USA)')\n",
    "olympics.push('Great Britain(GBR)')\n",
    "olympics.push('China(CHN)')\n",
    "olympics.push('Russia(RUS)')"
   ]
  },
  {
   "cell_type": "code",
   "execution_count": 14,
   "metadata": {
    "ExecuteTime": {
     "end_time": "2023-12-22T16:37:01.345565953Z",
     "start_time": "2023-12-22T16:37:01.294876926Z"
    }
   },
   "outputs": [
    {
     "data": {
      "text/plain": "4"
     },
     "execution_count": 14,
     "metadata": {},
     "output_type": "execute_result"
    }
   ],
   "source": [
    "olympics.size()"
   ]
  },
  {
   "cell_type": "code",
   "execution_count": 15,
   "metadata": {
    "collapsed": true,
    "ExecuteTime": {
     "end_time": "2023-12-22T16:37:01.348762991Z",
     "start_time": "2023-12-22T16:37:01.341259910Z"
    }
   },
   "outputs": [],
   "source": [
    "olympics.push('Germany(GER)')\n",
    "olympics.push('Japan(JPN)')"
   ]
  },
  {
   "cell_type": "code",
   "execution_count": 16,
   "metadata": {
    "ExecuteTime": {
     "end_time": "2023-12-22T16:37:01.359518996Z",
     "start_time": "2023-12-22T16:37:01.347974118Z"
    }
   },
   "outputs": [
    {
     "data": {
      "text/plain": "'Japan(JPN)'"
     },
     "execution_count": 16,
     "metadata": {},
     "output_type": "execute_result"
    }
   ],
   "source": [
    "olympics.pop()"
   ]
  },
  {
   "cell_type": "code",
   "execution_count": 17,
   "metadata": {
    "ExecuteTime": {
     "end_time": "2023-12-22T16:37:01.381979700Z",
     "start_time": "2023-12-22T16:37:01.359615900Z"
    }
   },
   "outputs": [
    {
     "data": {
      "text/plain": "False"
     },
     "execution_count": 17,
     "metadata": {},
     "output_type": "execute_result"
    }
   ],
   "source": [
    "olympics.is_empty()"
   ]
  },
  {
   "cell_type": "code",
   "execution_count": 18,
   "metadata": {
    "ExecuteTime": {
     "end_time": "2023-12-22T16:37:01.382653525Z",
     "start_time": "2023-12-22T16:37:01.366372540Z"
    }
   },
   "outputs": [
    {
     "data": {
      "text/plain": "'Germany(GER)'"
     },
     "execution_count": 18,
     "metadata": {},
     "output_type": "execute_result"
    }
   ],
   "source": [
    "olympics.peek()"
   ]
  },
  {
   "cell_type": "code",
   "execution_count": 19,
   "metadata": {
    "ExecuteTime": {
     "end_time": "2023-12-22T16:37:01.385270024Z",
     "start_time": "2023-12-22T16:37:01.382119274Z"
    }
   },
   "outputs": [
    {
     "data": {
      "text/plain": "'Germany(GER)'"
     },
     "execution_count": 19,
     "metadata": {},
     "output_type": "execute_result"
    }
   ],
   "source": [
    "olympics.pop()"
   ]
  },
  {
   "cell_type": "code",
   "execution_count": 20,
   "metadata": {
    "ExecuteTime": {
     "end_time": "2023-12-22T16:37:01.395648636Z",
     "start_time": "2023-12-22T16:37:01.384839620Z"
    }
   },
   "outputs": [
    {
     "data": {
      "text/plain": "'Russia(RUS)'"
     },
     "execution_count": 20,
     "metadata": {},
     "output_type": "execute_result"
    }
   ],
   "source": [
    "olympics.pop()"
   ]
  },
  {
   "cell_type": "code",
   "execution_count": 21,
   "metadata": {
    "ExecuteTime": {
     "end_time": "2023-12-22T16:37:01.396327941Z",
     "start_time": "2023-12-22T16:37:01.393759532Z"
    }
   },
   "outputs": [
    {
     "data": {
      "text/plain": "'China(CHN)'"
     },
     "execution_count": 21,
     "metadata": {},
     "output_type": "execute_result"
    }
   ],
   "source": [
    "olympics.pop()"
   ]
  },
  {
   "cell_type": "code",
   "execution_count": 22,
   "metadata": {
    "ExecuteTime": {
     "end_time": "2023-12-22T16:37:01.437168140Z",
     "start_time": "2023-12-22T16:37:01.395697057Z"
    }
   },
   "outputs": [
    {
     "data": {
      "text/plain": "'Great Britain(GBR)'"
     },
     "execution_count": 22,
     "metadata": {},
     "output_type": "execute_result"
    }
   ],
   "source": [
    "olympics.pop()"
   ]
  },
  {
   "cell_type": "code",
   "execution_count": 23,
   "metadata": {
    "ExecuteTime": {
     "end_time": "2023-12-22T16:37:01.437981008Z",
     "start_time": "2023-12-22T16:37:01.402905302Z"
    }
   },
   "outputs": [
    {
     "data": {
      "text/plain": "'United States(USA)'"
     },
     "execution_count": 23,
     "metadata": {},
     "output_type": "execute_result"
    }
   ],
   "source": [
    "olympics.pop()"
   ]
  },
  {
   "cell_type": "code",
   "execution_count": 24,
   "metadata": {
    "ExecuteTime": {
     "end_time": "2023-12-22T16:37:01.553376999Z",
     "start_time": "2023-12-22T16:37:01.437276906Z"
    }
   },
   "outputs": [
    {
     "ename": "Exception",
     "evalue": "Nothing to pop",
     "output_type": "error",
     "traceback": [
      "\u001B[0;31m---------------------------------------------------------------------------\u001B[0m",
      "\u001B[0;31mException\u001B[0m                                 Traceback (most recent call last)",
      "Cell \u001B[0;32mIn[24], line 1\u001B[0m\n\u001B[0;32m----> 1\u001B[0m \u001B[43molympics\u001B[49m\u001B[38;5;241;43m.\u001B[39;49m\u001B[43mpop\u001B[49m\u001B[43m(\u001B[49m\u001B[43m)\u001B[49m\n",
      "Cell \u001B[0;32mIn[11], line 17\u001B[0m, in \u001B[0;36mStack.pop\u001B[0;34m(self)\u001B[0m\n\u001B[1;32m     14\u001B[0m \u001B[38;5;250m\u001B[39m\u001B[38;5;124;03m\"\"\"Remove the top element of the stack\"\"\"\u001B[39;00m\n\u001B[1;32m     16\u001B[0m \u001B[38;5;28;01mif\u001B[39;00m \u001B[38;5;28mself\u001B[39m\u001B[38;5;241m.\u001B[39mis_empty():\n\u001B[0;32m---> 17\u001B[0m     \u001B[38;5;28;01mraise\u001B[39;00m \u001B[38;5;167;01mException\u001B[39;00m(\u001B[38;5;124m\"\u001B[39m\u001B[38;5;124mNothing to pop\u001B[39m\u001B[38;5;124m\"\u001B[39m)\n\u001B[1;32m     19\u001B[0m \u001B[38;5;28;01mreturn\u001B[39;00m \u001B[38;5;28mself\u001B[39m\u001B[38;5;241m.\u001B[39mstack\u001B[38;5;241m.\u001B[39mpop(\u001B[38;5;28mlen\u001B[39m(\u001B[38;5;28mself\u001B[39m\u001B[38;5;241m.\u001B[39mstack) \u001B[38;5;241m-\u001B[39m \u001B[38;5;241m1\u001B[39m)\n",
      "\u001B[0;31mException\u001B[0m: Nothing to pop"
     ]
    }
   ],
   "source": [
    "olympics.pop()"
   ]
  },
  {
   "cell_type": "code",
   "execution_count": null,
   "metadata": {
    "ExecuteTime": {
     "end_time": "2023-12-22T16:37:01.554154740Z",
     "start_time": "2023-12-22T16:37:01.553958519Z"
    }
   },
   "outputs": [],
   "source": [
    "olympics.is_empty()"
   ]
  },
  {
   "cell_type": "code",
   "execution_count": null,
   "metadata": {
    "collapsed": true,
    "ExecuteTime": {
     "start_time": "2023-12-22T16:37:01.554090278Z"
    }
   },
   "outputs": [],
   "source": []
  }
 ],
 "metadata": {
  "kernelspec": {
   "display_name": "Python 3",
   "language": "python",
   "name": "python3"
  },
  "language_info": {
   "codemirror_mode": {
    "name": "ipython",
    "version": 3
   },
   "file_extension": ".py",
   "mimetype": "text/x-python",
   "name": "python",
   "nbconvert_exporter": "python",
   "pygments_lexer": "ipython3",
   "version": "3.6.8"
  }
 },
 "nbformat": 4,
 "nbformat_minor": 2
}
