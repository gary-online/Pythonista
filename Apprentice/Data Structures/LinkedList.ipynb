{
 "cells": [
  {
   "cell_type": "markdown",
   "metadata": {},
   "source": [
    "## Linked list\n",
    "Linked List is a linear data structure. Unlike arrays, linked list elements are not stored at contiguous location; the elements are linked using pointers."
   ]
  },
  {
   "cell_type": "markdown",
   "metadata": {},
   "source": [
    "We are creating a specific class to add single element in linked list,when the linked list is empty. "
   ]
  },
  {
   "cell_type": "markdown",
   "metadata": {},
   "source": [
    "Creating  class with two function. So basically the first method __init__ is a constructor of the class Node.<br>\n",
    "A constructor is an instance method that usually has the same name as the class, and can be used to set the values of the members of an object, either to default or to user-defined values."
   ]
  },
  {
   "cell_type": "markdown",
   "metadata": {},
   "source": [
    "Python __repr__() function returns the object representation. It could be any valid python expression such as tuple, dictionary, string etc. This method is called when repr() function is invoked on the object, in that case, __repr__() function must return a String otherwise error will be thrown"
   ]
  },
  {
   "cell_type": "code",
   "execution_count": 1,
   "metadata": {
    "collapsed": true,
    "ExecuteTime": {
     "end_time": "2023-12-22T20:58:30.201361657Z",
     "start_time": "2023-12-22T20:58:30.183617131Z"
    }
   },
   "outputs": [],
   "source": [
    "class Node:\n",
    "    \"\"\"\n",
    "    A node in a singly-linked list.\n",
    "    \"\"\"\n",
    "    def __init__(self, dataval=None, nextval=None):\n",
    "        self.dataval = dataval\n",
    "        self.nextval = nextval\n",
    "\n",
    "    def __repr__(self):\n",
    "        return repr(self.dataval)"
   ]
  },
  {
   "cell_type": "markdown",
   "metadata": {},
   "source": [
    "* prepend - Whenever we will add an element at the beginning of the list,"
   ]
  },
  {
   "cell_type": "code",
   "execution_count": 17,
   "metadata": {
    "collapsed": true,
    "ExecuteTime": {
     "end_time": "2023-12-22T01:35:11.840992860Z",
     "start_time": "2023-12-22T01:35:11.839965688Z"
    }
   },
   "outputs": [],
   "source": [
    "class LinkedList:\n",
    "    def __init__(self):\n",
    "        \n",
    "        \"\"\"Creating a new singly-linked list.\"\"\"\n",
    "        \n",
    "        self.head = None\n",
    "\n",
    "    def __repr__(self):\n",
    "            \n",
    "            \"\"\"Creating a string representation of the data in a list\"\"\"\n",
    "    \n",
    "            nodes = []\n",
    "            curr = self.head\n",
    "            \n",
    "            while curr:\n",
    "                nodes.append(repr(curr))\n",
    "                curr = curr.nextval\n",
    "            \n",
    "            return '[' + '->'.join(nodes) + ']'\n",
    "\n",
    "    def prepend(self, dataval):\n",
    "\n",
    "        \"\"\"Insert a new element at the beginning of the list.\"\"\"\n",
    "\n",
    "        self.head = Node(dataval=dataval, nextval=self.head)\n",
    "\n",
    "    def append(self, dataval):\n",
    "\n",
    "        \"\"\"Insert a new element at the end of the list.\"\"\"    \n",
    "\n",
    "        if not self.head:\n",
    "            self.head = Node(dataval=dataval)\n",
    "            return\n",
    "        \n",
    "        curr = self.head\n",
    "        \n",
    "        while curr.nextval:\n",
    "            curr = curr.nextval\n",
    "        \n",
    "        curr.nextval = Node(dataval=dataval)\n",
    "               \n",
    "    def add_after(self, middle_dataval, dataval):\n",
    "\n",
    "        \"\"\"Insert a new element after the node with middle_dataval.\"\"\"     \n",
    "\n",
    "        if middle_dataval is None:\n",
    "            print(\"Data to insert after not specified\")\n",
    "            return\n",
    "        \n",
    "        curr = self.head\n",
    "\n",
    "        while curr and curr.dataval != middle_dataval:\n",
    "            curr = curr.nextval\n",
    "    \n",
    "        new_node = Node(dataval = dataval)\n",
    "        \n",
    "        \n",
    "        new_node.nextval = curr.nextval\n",
    "        curr.nextval = new_node\n",
    "\n",
    "    def find(self, data):\n",
    "\n",
    "        \"\"\"Search for the first element with `dataval` matching\n",
    "        `data`. Return the element or `None` if not found.\"\"\"\n",
    "\n",
    "        curr = self.head\n",
    "        while curr and curr.dataval != data:\n",
    "            curr = curr.nextval\n",
    "\n",
    "        return curr  # Will be None if not found\n",
    "\n",
    "    def remove(self, data):\n",
    "\n",
    "        \"\"\"Remove the first occurrence of `data` in the list.\"\"\"\n",
    "\n",
    "        # Find the element and keep a\n",
    "        # reference to the element preceding it\n",
    "        curr = self.head\n",
    "        prev = None\n",
    "\n",
    "        while curr and curr.dataval != data:\n",
    "            prev = curr\n",
    "            curr = curr.nextval\n",
    "            \n",
    "        # Unlink it from the list\n",
    "        if prev is None:\n",
    "            self.head = curr.nextval\n",
    "        elif curr:\n",
    "            prev.nextval = curr.nextval\n",
    "            curr.nextval = None\n",
    "            \n",
    "    def reverse(self):\n",
    "        \n",
    "        \"\"\"Reverse the list in-place.\"\"\"\n",
    "        \n",
    "        curr = self.head\n",
    "\n",
    "        prev_node = None\n",
    "        next_node = None\n",
    "        \n",
    "        while curr:\n",
    "            nextval = curr.nextval\n",
    "            curr.nextval = prev_node\n",
    "            \n",
    "            prev_node = curr\n",
    "            \n",
    "            curr = nextval   \n",
    "            \n",
    "        self.head = prev_node\n",
    "    \n",
    "\n",
    "    def reverse_recursive(self):\n",
    "        \"\"\"Reverse the list in place using recursion\"\"\"\n",
    "        \n",
    " \n",
    "        def recursion(curr, prev):\n",
    "            if not curr:\n",
    "                return prev\n",
    "            \n",
    "            nextval = curr.nextval\n",
    "            curr.nextval = prev\n",
    "            \n",
    "            prev = curr\n",
    "            curr = nextval\n",
    "            \n",
    "            return recursion(curr, prev)\n",
    " \n",
    "        # update the head of the original linked list \n",
    "        self.head = recursion(curr=self.head, prev=None)\n",
    "        \n",
    "    def count_nodes(self):\n",
    "\n",
    "        \"\"\"Count the number of nodes in the linked list.\"\"\"\n",
    "\n",
    "        if (self.head  == None): \n",
    "            return  0\n",
    "        else: \n",
    "            curr = self.head\n",
    "            count = 0\n",
    "            while (curr != None):\n",
    "                curr = curr.nextval\n",
    "                count += 1            \n",
    "        \n",
    "        return count"
   ]
  },
  {
   "cell_type": "code",
   "execution_count": 18,
   "metadata": {
    "collapsed": true,
    "ExecuteTime": {
     "end_time": "2023-12-22T01:35:11.843300786Z",
     "start_time": "2023-12-22T01:35:11.842342253Z"
    }
   },
   "outputs": [],
   "source": [
    "numbers = LinkedList()"
   ]
  },
  {
   "cell_type": "code",
   "execution_count": 19,
   "metadata": {
    "scrolled": true,
    "ExecuteTime": {
     "end_time": "2023-12-22T01:35:11.891906873Z",
     "start_time": "2023-12-22T01:35:11.844371742Z"
    }
   },
   "outputs": [
    {
     "data": {
      "text/plain": "[]"
     },
     "execution_count": 19,
     "metadata": {},
     "output_type": "execute_result"
    }
   ],
   "source": [
    "numbers"
   ]
  },
  {
   "cell_type": "code",
   "execution_count": 20,
   "metadata": {
    "ExecuteTime": {
     "end_time": "2023-12-22T01:35:11.892388945Z",
     "start_time": "2023-12-22T01:35:11.866580745Z"
    }
   },
   "outputs": [
    {
     "data": {
      "text/plain": "['two'->'three']"
     },
     "execution_count": 20,
     "metadata": {},
     "output_type": "execute_result"
    }
   ],
   "source": [
    "numbers.append(\"two\")\n",
    "numbers.append(\"three\")\n",
    "\n",
    "numbers"
   ]
  },
  {
   "cell_type": "code",
   "execution_count": 21,
   "metadata": {
    "ExecuteTime": {
     "end_time": "2023-12-22T01:35:11.892750969Z",
     "start_time": "2023-12-22T01:35:11.866732903Z"
    }
   },
   "outputs": [
    {
     "data": {
      "text/plain": "['one'->'two'->'three']"
     },
     "execution_count": 21,
     "metadata": {},
     "output_type": "execute_result"
    }
   ],
   "source": [
    "numbers.prepend(\"one\")\n",
    "\n",
    "numbers"
   ]
  },
  {
   "cell_type": "code",
   "execution_count": 22,
   "metadata": {
    "ExecuteTime": {
     "end_time": "2023-12-22T01:35:11.893204948Z",
     "start_time": "2023-12-22T01:35:11.866812093Z"
    }
   },
   "outputs": [
    {
     "data": {
      "text/plain": "['one'->'two'->'three'->'four'->'five'->'seven']"
     },
     "execution_count": 22,
     "metadata": {},
     "output_type": "execute_result"
    }
   ],
   "source": [
    "numbers.append(\"four\")\n",
    "numbers.append(\"five\")\n",
    "numbers.append(\"seven\")\n",
    "\n",
    "numbers"
   ]
  },
  {
   "cell_type": "code",
   "execution_count": 23,
   "metadata": {
    "ExecuteTime": {
     "end_time": "2023-12-22T01:35:11.893673544Z",
     "start_time": "2023-12-22T01:35:11.866883327Z"
    }
   },
   "outputs": [
    {
     "data": {
      "text/plain": "['one'->'two'->'three'->'four'->'five'->'six'->'seven']"
     },
     "execution_count": 23,
     "metadata": {},
     "output_type": "execute_result"
    }
   ],
   "source": [
    "numbers.add_after(\"five\", \"six\")\n",
    "\n",
    "numbers"
   ]
  },
  {
   "cell_type": "code",
   "execution_count": 24,
   "metadata": {
    "ExecuteTime": {
     "end_time": "2023-12-22T01:35:11.934729550Z",
     "start_time": "2023-12-22T01:35:11.892209174Z"
    }
   },
   "outputs": [
    {
     "data": {
      "text/plain": "['seven'->'six'->'five'->'four'->'three'->'two'->'one']"
     },
     "execution_count": 24,
     "metadata": {},
     "output_type": "execute_result"
    }
   ],
   "source": [
    "numbers.reverse()\n",
    "\n",
    "numbers"
   ]
  },
  {
   "cell_type": "code",
   "execution_count": 25,
   "metadata": {
    "ExecuteTime": {
     "end_time": "2023-12-22T01:35:11.938853290Z",
     "start_time": "2023-12-22T01:35:11.934344862Z"
    }
   },
   "outputs": [
    {
     "data": {
      "text/plain": "['one'->'two'->'three'->'four'->'five'->'six'->'seven']"
     },
     "execution_count": 25,
     "metadata": {},
     "output_type": "execute_result"
    }
   ],
   "source": [
    "numbers.reverse_recursive()\n",
    "\n",
    "numbers"
   ]
  },
  {
   "cell_type": "code",
   "execution_count": 26,
   "metadata": {
    "ExecuteTime": {
     "end_time": "2023-12-22T01:35:11.947809112Z",
     "start_time": "2023-12-22T01:35:11.938008792Z"
    }
   },
   "outputs": [
    {
     "data": {
      "text/plain": "['two'->'three'->'four'->'five'->'six'->'seven']"
     },
     "execution_count": 26,
     "metadata": {},
     "output_type": "execute_result"
    }
   ],
   "source": [
    "numbers.remove('one')\n",
    "\n",
    "numbers"
   ]
  },
  {
   "cell_type": "code",
   "execution_count": 27,
   "metadata": {
    "ExecuteTime": {
     "end_time": "2023-12-22T01:35:11.948495430Z",
     "start_time": "2023-12-22T01:35:11.946711526Z"
    }
   },
   "outputs": [
    {
     "data": {
      "text/plain": "['two'->'three'->'four'->'five'->'seven']"
     },
     "execution_count": 27,
     "metadata": {},
     "output_type": "execute_result"
    }
   ],
   "source": [
    "numbers.remove('six')\n",
    "\n",
    "numbers"
   ]
  },
  {
   "cell_type": "code",
   "execution_count": 28,
   "metadata": {
    "ExecuteTime": {
     "end_time": "2023-12-22T01:35:11.997563240Z",
     "start_time": "2023-12-22T01:35:11.948953477Z"
    }
   },
   "outputs": [
    {
     "data": {
      "text/plain": "5"
     },
     "execution_count": 28,
     "metadata": {},
     "output_type": "execute_result"
    }
   ],
   "source": [
    "numbers.count_nodes()"
   ]
  },
  {
   "cell_type": "code",
   "execution_count": 29,
   "metadata": {
    "ExecuteTime": {
     "end_time": "2023-12-22T01:35:11.997993875Z",
     "start_time": "2023-12-22T01:35:11.990413125Z"
    }
   },
   "outputs": [
    {
     "data": {
      "text/plain": "['two'->'three'->'four'->'five'->'seven']"
     },
     "execution_count": 29,
     "metadata": {},
     "output_type": "execute_result"
    }
   ],
   "source": [
    "numbers"
   ]
  },
  {
   "cell_type": "code",
   "execution_count": 29,
   "metadata": {
    "collapsed": true,
    "ExecuteTime": {
     "end_time": "2023-12-22T01:35:11.998255089Z",
     "start_time": "2023-12-22T01:35:11.990566556Z"
    }
   },
   "outputs": [],
   "source": []
  }
 ],
 "metadata": {
  "kernelspec": {
   "display_name": "Python 3",
   "language": "python",
   "name": "python3"
  },
  "language_info": {
   "codemirror_mode": {
    "name": "ipython",
    "version": 3
   },
   "file_extension": ".py",
   "mimetype": "text/x-python",
   "name": "python",
   "nbconvert_exporter": "python",
   "pygments_lexer": "ipython3",
   "version": "3.6.8"
  }
 },
 "nbformat": 4,
 "nbformat_minor": 2
}
