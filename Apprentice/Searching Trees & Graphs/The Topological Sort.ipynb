{
 "cells": [
  {
   "cell_type": "markdown",
   "source": [
    "## The Graph Traversal\n",
    "\n",
    "In a graph, multiple paths can lead from one node to another\n",
    "\n",
    "A graph can also have cycles, so the same node can be visited multiple times\n",
    "\n",
    "In order to avoid infinite looping in a graph, we need to keep track of the nodes previously visited\n",
    "\n",
    "1. Depth-First Traversal\n",
    "2. Breadth-First Traversal\n",
    "\n",
    "\n",
    "# Topological Sort\n",
    "\n",
    "1. It is an ordering of vertices in a directed acyclic graph in which each node comes before all the nodes to which it has outgoing edges\n",
    "2. In order to topological sort, a graph must be a directed graph and it cannot contain any cycles.\n",
    "\n"
   ],
   "metadata": {
    "collapsed": false
   },
   "id": "bda17fd3a0af7988"
  }
 ],
 "metadata": {
  "kernelspec": {
   "display_name": "Python 3",
   "language": "python",
   "name": "python3"
  },
  "language_info": {
   "codemirror_mode": {
    "name": "ipython",
    "version": 2
   },
   "file_extension": ".py",
   "mimetype": "text/x-python",
   "name": "python",
   "nbconvert_exporter": "python",
   "pygments_lexer": "ipython2",
   "version": "2.7.6"
  }
 },
 "nbformat": 4,
 "nbformat_minor": 5
}
