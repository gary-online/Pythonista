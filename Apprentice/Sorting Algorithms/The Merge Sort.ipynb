{
 "cells": [
  {
   "cell_type": "markdown",
   "source": [
    "# Merge Sort [divide and conquer]\n",
    "\n",
    "A list is broken down into smaller parts recursively.\n",
    "\n",
    "At some point there will be a list of length one.\n",
    "\n",
    "We can consider that a sorted list.\n",
    "\n",
    "Then you merge the sorted lists together to get the fully sorted list.\n",
    "\n",
    "This is a classic recursion-based algorithm, divide until the problem is so small as to be trivial.\n",
    "\n",
    "Solve for the trivial case and then build up the complete solution as recursion unwinds.\n",
    "\n",
    "Recursion can seem like magic, so make sure you understand recursion before tackling it.\n",
    "\n",
    "Merge sort uses divide and conquer to create smaller problems that are easier to tackle.\n",
    "\n",
    "To calculate the complexity, you need to consider the recursive step where the problem is divided into two and the merge of two lists of N/2 length.\n",
    "\n",
    "The exact derivation is not really relevant to programming interviews.\n",
    " \n",
    "The complexity of merge sort is O(nlogn).\n",
    "\n",
    "It takes O(N) extra space when you use arrays (all the smaller lists you create in the divide phase).\n",
    "\n",
    "It is a stable sort.\n",
    "\n",
    "Merge sort is NOT adaptive.\n"
   ],
   "metadata": {
    "collapsed": false
   },
   "id": "87a8ed7c44578346"
  }
 ],
 "metadata": {
  "kernelspec": {
   "display_name": "Python 3",
   "language": "python",
   "name": "python3"
  },
  "language_info": {
   "codemirror_mode": {
    "name": "ipython",
    "version": 2
   },
   "file_extension": ".py",
   "mimetype": "text/x-python",
   "name": "python",
   "nbconvert_exporter": "python",
   "pygments_lexer": "ipython2",
   "version": "2.7.6"
  }
 },
 "nbformat": 4,
 "nbformat_minor": 5
}
