{
 "cells": [
  {
   "cell_type": "markdown",
   "source": [
    "# The Bubble Sort\n",
    "\n",
    "## Overview\n",
    "\n",
    "The largest element bubbles to the correct position by comparing adjacent elements.\n",
    "\n",
    "So in the worst case (if the list is originally sorted in descending order) \"N\" elements are checked and swapped for every selected element to get to the right position.\n",
    "\n",
    "Checking \"N\" elements for each of \"N\" selected elements.\n",
    "\n",
    "On average, the number of swaps and comparisons reduces with each iteration.\n",
    "\n",
    "The number of swaps will vary depending on how much of the list is already sorted.\n",
    "\n",
    "## Complexity\n",
    "\n",
    "The complexity of bubble sort is O(n^2).\n",
    "\n",
    "It is a stable sort.\n",
    "\n",
    "It takes O(1) extra space, it sorts in place.\n",
    "\n",
    "It makes O(n^2) comparisons and O(n^2) swaps.\n",
    "\n",
    "The worst-case time complexity of Bubble Sort is O(n2).\n",
    "\n",
    "It is an adaptive sort.\n",
    "\n"
   ],
   "metadata": {
    "collapsed": false
   },
   "id": "c2e22aeb8c8e548a"
  }
 ],
 "metadata": {
  "kernelspec": {
   "display_name": "Python 3",
   "language": "python",
   "name": "python3"
  },
  "language_info": {
   "codemirror_mode": {
    "name": "ipython",
    "version": 2
   },
   "file_extension": ".py",
   "mimetype": "text/x-python",
   "name": "python",
   "nbconvert_exporter": "python",
   "pygments_lexer": "ipython2",
   "version": "2.7.6"
  }
 },
 "nbformat": 4,
 "nbformat_minor": 5
}
