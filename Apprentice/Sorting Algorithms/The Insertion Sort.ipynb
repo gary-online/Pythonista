{
 "cells": [
  {
   "cell_type": "markdown",
   "source": [
    "# The Insertion Sort\n",
    "\n",
    "\n",
    "## Overview\n",
    "\n",
    "By inserting into a sorted sublist, at every step the sublist soon grows to be the entire list.\n",
    "\n",
    "When the sublist grows in size to the entire list, we consider the list to be fully sorted.\n",
    "\n",
    "The sort first assumes a sorted list size of 1 and inserts additional elements in the right position.\n",
    "\n",
    "In the worst case (if the list is originally sorted in descending order), \"N\" elements are checked and swapped for every selected element to get to the right position.\n",
    "\n",
    "This is similar to the bubble sort as it is an adaptive algorithm in that nearly sorted lists complete very quickly.\n",
    "\n",
    "It has a very low overhead and is traditionally the sort of choice when used with faster algorithms that follow the divide and conquer approach.\n",
    "\n",
    "It is adaptive.\n",
    "\n",
    "## Complexity\n",
    "\n",
    "The worst-case complexity of insertion sort is O(n^2).\n",
    "\n",
    "It is a stable sort - as entities bubble to the correct position in the sublist that is sorted. The list the original order of entities are maintained for equal elements.\n",
    "\n",
    "It takes O(1) extra space, it sorts in place.\n",
    "\n",
    "It makes (ON^2) comparisons and O(N^2) swaps.\n",
    "\n",
    "\n",
    "## Insertion Sort vs. Bubble Sort\n",
    "\n",
    "Bubble sort requires an additional pass over all elements to ensure that the list is fully sorted.\n",
    "\n",
    "Bubble sort has to do N comparisons at every single step.\n",
    "\n",
    "Bubble sort performs poorly with modern hardware because of the number of writes and swaps that it performs.\n",
    "\n",
    "This results in cache misses, so it has greater overhead than insertion sort.\n",
    "\n",
    "\n"
   ],
   "metadata": {
    "collapsed": false
   },
   "id": "7161e1b094a9ef5f"
  }
 ],
 "metadata": {
  "kernelspec": {
   "display_name": "Python 3",
   "language": "python",
   "name": "python3"
  },
  "language_info": {
   "codemirror_mode": {
    "name": "ipython",
    "version": 2
   },
   "file_extension": ".py",
   "mimetype": "text/x-python",
   "name": "python",
   "nbconvert_exporter": "python",
   "pygments_lexer": "ipython2",
   "version": "2.7.6"
  }
 },
 "nbformat": 4,
 "nbformat_minor": 5
}
