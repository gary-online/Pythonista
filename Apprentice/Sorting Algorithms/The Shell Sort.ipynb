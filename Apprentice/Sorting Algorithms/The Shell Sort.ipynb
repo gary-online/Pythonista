{
 "cells": [
  {
   "cell_type": "markdown",
   "source": [
    "# The Shell Sort [divide and conquer algorithm]\n",
    "\n",
    "Shell sort uses insertion sort, and the entire list is divided and those sub-lists are sorted.\n",
    "\n",
    "Getting the exact complexity of shell sort is hard because it depends on the increment values chosen.\n",
    "\n",
    "The complexity of shell sort is better than insertion sort as the final iteration with increment = 1 has to work with a nearly sorted list.\n",
    "\n",
    "The complexity of shell sort is somewhere between O(N) and O(n^2).\n",
    "\n",
    "Different values of increments produce different complexities.\n",
    "\n",
    "For increments 2^k - 1 for K 1, 2, 3 ...\n",
    "\n",
    "The complexity is O(n^3/2).\n",
    "\n",
    "The algorithm is adaptive since it's based on insertion sort, which is adaptive.\n",
    "\n",
    "It takes O(1) extra space and it sorts in place.\n",
    "\n",
    "It is a divide and conquer algorithm\n",
    "\n",
    "It is an adaptive sort."
   ],
   "metadata": {
    "collapsed": false
   },
   "id": "a4f4d3aa1a4651bf"
  }
 ],
 "metadata": {
  "kernelspec": {
   "display_name": "Python 3",
   "language": "python",
   "name": "python3"
  },
  "language_info": {
   "codemirror_mode": {
    "name": "ipython",
    "version": 2
   },
   "file_extension": ".py",
   "mimetype": "text/x-python",
   "name": "python",
   "nbconvert_exporter": "python",
   "pygments_lexer": "ipython2",
   "version": "2.7.6"
  }
 },
 "nbformat": 4,
 "nbformat_minor": 5
}
