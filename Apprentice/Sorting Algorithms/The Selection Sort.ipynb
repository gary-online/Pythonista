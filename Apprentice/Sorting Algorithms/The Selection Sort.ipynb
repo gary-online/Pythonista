{
 "cells": [
  {
   "cell_type": "markdown",
   "source": [
    "# Selection Sort\n",
    "\n",
    "## Overview\n",
    "Going through data with multiple iterations and at each iteration, one element is selected and compared with every other element in the list to find the smallest one.\n",
    "\n",
    "First, we find the smallest element, get it into the first position, and then we find the second smallest element until the entire list is sorted.\n",
    "\n",
    "Selection sort selects one element at a time and compares it to all other elements of the list\n",
    "\n",
    "The correct position for that selected element is found before moving on to the next element\n",
    "\n",
    "\n",
    "## Complexity of Selection Sort\n",
    "\n",
    "For each element, the entire list is checked to find the smallest element.\n",
    "\n",
    "So in the worst case, \"N\" elements are checked for every selected element.\n",
    "\n",
    "Complexity = O(n^2)\n",
    "\n",
    "\n",
    "## Properties\n",
    "\n",
    "It is not a stable sort - entities that are equal might be re-arranged\n",
    "\n",
    "It takes O(1) extra space and it sorts in place\n",
    "\n",
    "It makes O(n^2) comparisons and O(n) swaps"
   ],
   "metadata": {
    "collapsed": false
   },
   "id": "e408765c89487751"
  },
  {
   "cell_type": "markdown",
   "source": [],
   "metadata": {
    "collapsed": false
   },
   "id": "2812435b73fb700c"
  }
 ],
 "metadata": {
  "kernelspec": {
   "display_name": "Python 3",
   "language": "python",
   "name": "python3"
  },
  "language_info": {
   "codemirror_mode": {
    "name": "ipython",
    "version": 2
   },
   "file_extension": ".py",
   "mimetype": "text/x-python",
   "name": "python",
   "nbconvert_exporter": "python",
   "pygments_lexer": "ipython2",
   "version": "2.7.6"
  }
 },
 "nbformat": 4,
 "nbformat_minor": 5
}
