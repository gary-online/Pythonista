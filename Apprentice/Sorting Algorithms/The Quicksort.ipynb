{
 "cells": [
  {
   "cell_type": "markdown",
   "source": [
    "# The Quicksort [divide and conquer]\n",
    "\n",
    "This is once again a divide and conquer algorithm that partitions the list at every step.\n",
    "\n",
    "The partition is not based on the length or an artificial index, it's based on a pivot.\n",
    "\n",
    "The pivot is an element from the list.\n",
    "\n",
    "The list is partitioned with all elements smaller than the pivot on one side and larger than the pivot on the other.\n",
    "\n",
    "This pivot partition is applied to all sub-lists until the list is sorted.\n",
    "\n",
    "The \"partition\" method that finds a pivot and moves elements to before or after the pivot.\n",
    "\n",
    "The \"quicksort\" method that does the recursive call to sort the sub-lists.\n",
    "\n",
    "Use divide and conquer to create smaller problems which are easier to tackle.\n",
    "\n",
    "Like with other divide and conquer approaches, complexity needs to be derived.\n",
    "\n",
    "The exact derivation is not required for programming interviews.\n",
    "\n",
    "Average case time complexity of O(nlog(n)).\n",
    "\n",
    "It takes O(log(n)) extra space for the call stack in the recursion, the worst case for space complexity could be O(n).\n",
    "\n",
    "It is not a stable sort.\n",
    "\n",
    "Quick sort is not adaptive.\n",
    "\n",
    "At each iteration, the pivot element moves to its \"rightful\" place in the array.\n",
    "\n",
    "The pivot is placed in its correct spot in the list.\n",
    "\n",
    "Elements to the left of the pivot are less than or equal to the pivot.\n",
    "\n",
    "It picks a pivot element and places it in its correct position in the list"
   ],
   "metadata": {
    "collapsed": false
   },
   "id": "21d6790dfe9e3739"
  }
 ],
 "metadata": {
  "kernelspec": {
   "display_name": "Python 3",
   "language": "python",
   "name": "python3"
  },
  "language_info": {
   "codemirror_mode": {
    "name": "ipython",
    "version": 2
   },
   "file_extension": ".py",
   "mimetype": "text/x-python",
   "name": "python",
   "nbconvert_exporter": "python",
   "pygments_lexer": "ipython2",
   "version": "2.7.6"
  }
 },
 "nbformat": 4,
 "nbformat_minor": 5
}
