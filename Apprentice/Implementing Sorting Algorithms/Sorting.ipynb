{
 "cells": [
  {
   "cell_type": "markdown",
   "metadata": {},
   "source": [
    "## 1.Selection Sort"
   ]
  },
  {
   "cell_type": "markdown",
   "metadata": {},
   "source": [
    "* The selection sort algorithm sorts an array by repeatedly finding the minimum element (considering ascending order) from unsorted part and putting it at the beginning. The algorithm maintains two subarrays in a given array.<br>\n",
    "* In every iteration of selection sort, the minimum element (considering ascending order) from the unsorted subarray is picked and moved to the sorted subarray<br>\n",
    "* This is happening from left to right. Once you will fix the smallest one, then it will goes to the right side<br>\n",
    "* The complexity of selection sort = O(n^2)"
   ]
  },
  {
   "cell_type": "code",
   "execution_count": 7,
   "metadata": {
    "collapsed": true
   },
   "outputs": [],
   "source": [
    "def print_list(num_list):\n",
    "    print(num_list)"
   ]
  },
  {
   "cell_type": "code",
   "execution_count": 4,
   "metadata": {
    "collapsed": true
   },
   "outputs": [],
   "source": [
    "def selection_sort(original_list):\n",
    "    \n",
    "    length = len(original_list)\n",
    "    \n",
    "    for i in range(length):\n",
    "\n",
    "        min_value_index = i\n",
    "\n",
    "        for j in range(i + 1, length):\n",
    "\n",
    "            if original_list[min_value_index] > original_list[j]:\n",
    "                min_value_index = j\n",
    "        \n",
    "        original_list[i], original_list[min_value_index] = original_list[min_value_index], original_list[i]\n",
    "\n",
    "        print('Sorted till index: ', i)\n",
    "        print_list(original_list)\n",
    "\n",
    "    print('Sorted list: ')\n",
    "    print_list(original_list)"
   ]
  },
  {
   "cell_type": "code",
   "execution_count": 9,
   "metadata": {
    "collapsed": true
   },
   "outputs": [],
   "source": [
    "num_list = [10, 11, 5, 7, 2, 8, 3, 9, 6, 1, 4]"
   ]
  },
  {
   "cell_type": "code",
   "execution_count": 10,
   "metadata": {},
   "outputs": [
    {
     "name": "stdout",
     "output_type": "stream",
     "text": [
      "Sorted till index:  0\n",
      "[1, 11, 5, 7, 2, 8, 3, 9, 6, 10, 4]\n",
      "Sorted till index:  1\n",
      "[1, 2, 5, 7, 11, 8, 3, 9, 6, 10, 4]\n",
      "Sorted till index:  2\n",
      "[1, 2, 3, 7, 11, 8, 5, 9, 6, 10, 4]\n",
      "Sorted till index:  3\n",
      "[1, 2, 3, 4, 11, 8, 5, 9, 6, 10, 7]\n",
      "Sorted till index:  4\n",
      "[1, 2, 3, 4, 5, 8, 11, 9, 6, 10, 7]\n",
      "Sorted till index:  5\n",
      "[1, 2, 3, 4, 5, 6, 11, 9, 8, 10, 7]\n",
      "Sorted till index:  6\n",
      "[1, 2, 3, 4, 5, 6, 7, 9, 8, 10, 11]\n",
      "Sorted till index:  7\n",
      "[1, 2, 3, 4, 5, 6, 7, 8, 9, 10, 11]\n",
      "Sorted till index:  8\n",
      "[1, 2, 3, 4, 5, 6, 7, 8, 9, 10, 11]\n",
      "Sorted till index:  9\n",
      "[1, 2, 3, 4, 5, 6, 7, 8, 9, 10, 11]\n",
      "Sorted till index:  10\n",
      "[1, 2, 3, 4, 5, 6, 7, 8, 9, 10, 11]\n",
      "Sorted list: \n",
      "[1, 2, 3, 4, 5, 6, 7, 8, 9, 10, 11]\n"
     ]
    }
   ],
   "source": [
    "selection_sort(num_list)"
   ]
  },
  {
   "cell_type": "code",
   "execution_count": 11,
   "metadata": {
    "collapsed": true
   },
   "outputs": [],
   "source": [
    "animals_list = ['Lion', 'Giraffe', 'Elephant', 'Monkey', 'Cheetah']"
   ]
  },
  {
   "cell_type": "code",
   "execution_count": 12,
   "metadata": {},
   "outputs": [
    {
     "name": "stdout",
     "output_type": "stream",
     "text": [
      "Sorted till index:  0\n",
      "['Cheetah', 'Giraffe', 'Elephant', 'Monkey', 'Lion']\n",
      "Sorted till index:  1\n",
      "['Cheetah', 'Elephant', 'Giraffe', 'Monkey', 'Lion']\n",
      "Sorted till index:  2\n",
      "['Cheetah', 'Elephant', 'Giraffe', 'Monkey', 'Lion']\n",
      "Sorted till index:  3\n",
      "['Cheetah', 'Elephant', 'Giraffe', 'Lion', 'Monkey']\n",
      "Sorted till index:  4\n",
      "['Cheetah', 'Elephant', 'Giraffe', 'Lion', 'Monkey']\n",
      "Sorted list: \n",
      "['Cheetah', 'Elephant', 'Giraffe', 'Lion', 'Monkey']\n"
     ]
    }
   ],
   "source": [
    "selection_sort(animals_list)"
   ]
  },
  {
   "cell_type": "markdown",
   "metadata": {},
   "source": [
    "## 2.Bubble Sort"
   ]
  },
  {
   "cell_type": "markdown",
   "metadata": {},
   "source": [
    "* The complexity of Bubble sort = O(N^2) for the comparison and O(N^2) for the swaps as well <br>\n",
    "* Here the first for loop will start from back to front\n",
    "* So basically we will find the maximum value at the first iteration and we will move that to right of the list, then we will reduce the length of the list by one and it continuous all the steps. Finally we will find the smallest value."
   ]
  },
  {
   "cell_type": "markdown",
   "metadata": {},
   "source": [
    "* Here you can see the swapping or exchanging I have represented in three lines(above). Here I have changed that to on line code(bottom)"
   ]
  },
  {
   "cell_type": "code",
   "execution_count": 19,
   "metadata": {
    "collapsed": true
   },
   "outputs": [],
   "source": [
    "def bubble_sort(original_list):\n",
    "    \n",
    "    length = len(original_list)\n",
    "\n",
    "    for i in range(length - 1, 0, -1):\n",
    "        \n",
    "        for index in range(i):\n",
    "            \n",
    "            if original_list[index] > original_liCst[index + 1]:\n",
    "                \n",
    "                original_list[index + 1], original_list[index] = \\\n",
    "                    original_list[index], original_list[index + 1]\n",
    "\n",
    "        print('Unsorted till index: ', i - 1)\n",
    "        print_list(original_list)"
   ]
  },
  {
   "cell_type": "code",
   "execution_count": 20,
   "metadata": {
    "collapsed": true
   },
   "outputs": [],
   "source": [
    "student_marks = [88, 99, 34, 32, 43, 25, 29, 45, 49, 37]"
   ]
  },
  {
   "cell_type": "code",
   "execution_count": 21,
   "metadata": {},
   "outputs": [
    {
     "name": "stdout",
     "output_type": "stream",
     "text": [
      "Unsorted till index:  8\n",
      "[88, 34, 32, 43, 25, 29, 45, 49, 37, 99]\n",
      "Unsorted till index:  7\n",
      "[34, 32, 43, 25, 29, 45, 49, 37, 88, 99]\n",
      "Unsorted till index:  6\n",
      "[32, 34, 25, 29, 43, 45, 37, 49, 88, 99]\n",
      "Unsorted till index:  5\n",
      "[32, 25, 29, 34, 43, 37, 45, 49, 88, 99]\n",
      "Unsorted till index:  4\n",
      "[25, 29, 32, 34, 37, 43, 45, 49, 88, 99]\n",
      "Unsorted till index:  3\n",
      "[25, 29, 32, 34, 37, 43, 45, 49, 88, 99]\n",
      "Unsorted till index:  2\n",
      "[25, 29, 32, 34, 37, 43, 45, 49, 88, 99]\n",
      "Unsorted till index:  1\n",
      "[25, 29, 32, 34, 37, 43, 45, 49, 88, 99]\n",
      "Unsorted till index:  0\n",
      "[25, 29, 32, 34, 37, 43, 45, 49, 88, 99]\n"
     ]
    }
   ],
   "source": [
    "bubble_sort(student_marks)"
   ]
  },
  {
   "cell_type": "code",
   "execution_count": 29,
   "metadata": {
    "collapsed": true
   },
   "outputs": [],
   "source": [
    "flowers_list = ['Sunflower', 'Freesia', 'Daffodil', 'Anemone', 'Asiatic Lily', 'Jasmine']"
   ]
  },
  {
   "cell_type": "code",
   "execution_count": 30,
   "metadata": {},
   "outputs": [
    {
     "name": "stdout",
     "output_type": "stream",
     "text": [
      "Unsorted till index:  4\n",
      "['Freesia', 'Daffodil', 'Anemone', 'Asiatic Lily', 'Jasmine', 'Sunflower']\n",
      "Unsorted till index:  3\n",
      "['Daffodil', 'Anemone', 'Asiatic Lily', 'Freesia', 'Jasmine', 'Sunflower']\n",
      "Unsorted till index:  2\n",
      "['Anemone', 'Asiatic Lily', 'Daffodil', 'Freesia', 'Jasmine', 'Sunflower']\n",
      "Unsorted till index:  1\n",
      "['Anemone', 'Asiatic Lily', 'Daffodil', 'Freesia', 'Jasmine', 'Sunflower']\n",
      "Unsorted till index:  0\n",
      "['Anemone', 'Asiatic Lily', 'Daffodil', 'Freesia', 'Jasmine', 'Sunflower']\n"
     ]
    }
   ],
   "source": [
    "bubble_sort(flowers_list)"
   ]
  },
  {
   "cell_type": "markdown",
   "metadata": {},
   "source": [
    "## Insertion Sort"
   ]
  },
  {
   "cell_type": "markdown",
   "metadata": {},
   "source": [
    "* While we are using insertion sort we will also apply the function of bubble sort\n",
    "* Basically insertion sort will consider the first elelment as sorted, then it will compare and fix the rest.Once it will reach to the right, everything will be in sorted order"
   ]
  },
  {
   "cell_type": "code",
   "execution_count": 5,
   "metadata": {
    "collapsed": true
   },
   "outputs": [],
   "source": [
    "def insertion_sort(original_list):\n",
    "    \n",
    "    length = len(original_list)\n",
    "    \n",
    "    for i in range(0, length - 1):\n",
    "        \n",
    "        for j in range(i + 1, 0, -1):       \n",
    "            if original_list[j] < original_list[j - 1]:\n",
    "                \n",
    "                original_list[j], original_list[j - 1] = \\\n",
    "                    original_list[j - 1], original_list[j]\n",
    "\n",
    "        print('Sorted till index: ', i)\n",
    "        print_list(original_list)"
   ]
  },
  {
   "cell_type": "code",
   "execution_count": 2,
   "metadata": {},
   "outputs": [],
   "source": [
    "def insertion_sort2(original_list):\n",
    "    \n",
    "    length = len(original_list)\n",
    "    \n",
    "    for i in range(0, length - 1):\n",
    "        \n",
    "        for j in range(i + 1, 0, -1):       \n",
    "            if original_list[j] < original_list[j - 1]:\n",
    "                \n",
    "                original_list[j], original_list[j - 1] = \\\n",
    "                    original_list[j - 1], original_list[j]\n",
    "            else:\n",
    "                break\n",
    "\n",
    "        print('Sorted till index: ', i)\n",
    "        print_list(original_list)"
   ]
  },
  {
   "cell_type": "code",
   "execution_count": 3,
   "metadata": {
    "collapsed": true
   },
   "outputs": [],
   "source": [
    "a = [10, 5, 7, 2, 8, 3, 9, 6, 1, 4]"
   ]
  },
  {
   "cell_type": "code",
   "execution_count": 8,
   "metadata": {},
   "outputs": [
    {
     "name": "stdout",
     "output_type": "stream",
     "text": [
      "Sorted till index:  0\n",
      "[5, 10, 7, 2, 8, 3, 9, 6, 1, 4]\n",
      "Sorted till index:  1\n",
      "[5, 7, 10, 2, 8, 3, 9, 6, 1, 4]\n",
      "Sorted till index:  2\n",
      "[2, 5, 7, 10, 8, 3, 9, 6, 1, 4]\n",
      "Sorted till index:  3\n",
      "[2, 5, 7, 8, 10, 3, 9, 6, 1, 4]\n",
      "Sorted till index:  4\n",
      "[2, 3, 5, 7, 8, 10, 9, 6, 1, 4]\n",
      "Sorted till index:  5\n",
      "[2, 3, 5, 7, 8, 9, 10, 6, 1, 4]\n",
      "Sorted till index:  6\n",
      "[2, 3, 5, 6, 7, 8, 9, 10, 1, 4]\n",
      "Sorted till index:  7\n",
      "[1, 2, 3, 5, 6, 7, 8, 9, 10, 4]\n",
      "Sorted till index:  8\n",
      "[1, 2, 3, 4, 5, 6, 7, 8, 9, 10]\n"
     ]
    }
   ],
   "source": [
    "insertion_sort(a)"
   ]
  },
  {
   "cell_type": "code",
   "execution_count": 10,
   "metadata": {},
   "outputs": [
    {
     "name": "stdout",
     "output_type": "stream",
     "text": [
      "Sorted till index:  0\n",
      "[5, 10, 7, 2, 8, 3, 9, 6, 1, 4]\n",
      "Sorted till index:  1\n",
      "[5, 7, 10, 2, 8, 3, 9, 6, 1, 4]\n",
      "Sorted till index:  2\n",
      "[2, 5, 7, 10, 8, 3, 9, 6, 1, 4]\n",
      "Sorted till index:  3\n",
      "[2, 5, 7, 8, 10, 3, 9, 6, 1, 4]\n",
      "Sorted till index:  4\n",
      "[2, 3, 5, 7, 8, 10, 9, 6, 1, 4]\n",
      "Sorted till index:  5\n",
      "[2, 3, 5, 7, 8, 9, 10, 6, 1, 4]\n",
      "Sorted till index:  6\n",
      "[2, 3, 5, 6, 7, 8, 9, 10, 1, 4]\n",
      "Sorted till index:  7\n",
      "[1, 2, 3, 5, 6, 7, 8, 9, 10, 4]\n",
      "Sorted till index:  8\n",
      "[1, 2, 3, 4, 5, 6, 7, 8, 9, 10]\n"
     ]
    }
   ],
   "source": [
    "a = [10, 5, 7, 2, 8, 3, 9, 6, 1, 4]\n",
    "\n",
    "insertion_sort2(a)"
   ]
  },
  {
   "cell_type": "code",
   "execution_count": 35,
   "metadata": {
    "collapsed": true
   },
   "outputs": [],
   "source": [
    "country_list = ['Washington', 'Springfield', 'Franklin', 'Greenville', 'Bristol']"
   ]
  },
  {
   "cell_type": "code",
   "execution_count": 36,
   "metadata": {},
   "outputs": [
    {
     "name": "stdout",
     "output_type": "stream",
     "text": [
      "Sorted till index:  0\n",
      "['Springfield', 'Washington', 'Franklin', 'Greenville', 'Bristol']\n",
      "Sorted till index:  1\n",
      "['Franklin', 'Springfield', 'Washington', 'Greenville', 'Bristol']\n",
      "Sorted till index:  2\n",
      "['Franklin', 'Greenville', 'Springfield', 'Washington', 'Bristol']\n",
      "Sorted till index:  3\n",
      "['Bristol', 'Franklin', 'Greenville', 'Springfield', 'Washington']\n"
     ]
    }
   ],
   "source": [
    "insertion_sort(country_list)"
   ]
  },
  {
   "cell_type": "markdown",
   "metadata": {},
   "source": [
    "## Shell sort"
   ]
  },
  {
   "cell_type": "markdown",
   "metadata": {},
   "source": [
    "* Using insertion sort and improving the peformance\n",
    "* ShellSort is mainly a variation of Insertion Sort. In insertion sort, we move elements only one position ahead. When an element has to be moved far ahead, many movements are involved. The idea of shellSort is to allow exchange of far items. In shellSort, we make the array h-sorted for a large value of h. We keep reducing the value of h until it becomes 1. An array is said to be h-sorted if all sublists of every h’th element is sorted."
   ]
  },
  {
   "cell_type": "code",
   "execution_count": 66,
   "metadata": {
    "collapsed": true
   },
   "outputs": [],
   "source": [
    "def shell_sort(original_list):\n",
    "\n",
    "    length = len(original_list) \n",
    "    \n",
    "    gap = length // 2\n",
    "    \n",
    "    while gap > 0:\n",
    "  \n",
    "        for i in range(gap, length):\n",
    "            temp = original_list[i]\n",
    "\n",
    "            j = i \n",
    "            \n",
    "            while  j >= gap and original_list[j - gap] > temp: \n",
    "                original_list[j] = original_list[j - gap] \n",
    "                j -= gap\n",
    "\n",
    "            original_list[j] = temp \n",
    "            \n",
    "            print('Gap: ', gap)\n",
    "            print_list(original_list)\n",
    "        \n",
    "        gap = gap // 2"
   ]
  },
  {
   "cell_type": "code",
   "execution_count": 67,
   "metadata": {
    "collapsed": true
   },
   "outputs": [],
   "source": [
    "arr = [ 12, 34, 54, 2, 5, 10, 100, 20, 23, 22, 19, 15]"
   ]
  },
  {
   "cell_type": "code",
   "execution_count": 68,
   "metadata": {},
   "outputs": [
    {
     "name": "stdout",
     "output_type": "stream",
     "text": [
      "Gap:  6\n",
      "[12, 34, 54, 2, 5, 10, 100, 20, 23, 22, 19, 15]\n",
      "Gap:  6\n",
      "[12, 20, 54, 2, 5, 10, 100, 34, 23, 22, 19, 15]\n",
      "Gap:  6\n",
      "[12, 20, 23, 2, 5, 10, 100, 34, 54, 22, 19, 15]\n",
      "Gap:  6\n",
      "[12, 20, 23, 2, 5, 10, 100, 34, 54, 22, 19, 15]\n",
      "Gap:  6\n",
      "[12, 20, 23, 2, 5, 10, 100, 34, 54, 22, 19, 15]\n",
      "Gap:  6\n",
      "[12, 20, 23, 2, 5, 10, 100, 34, 54, 22, 19, 15]\n",
      "Gap:  3\n",
      "[2, 20, 23, 12, 5, 10, 100, 34, 54, 22, 19, 15]\n",
      "Gap:  3\n",
      "[2, 5, 23, 12, 20, 10, 100, 34, 54, 22, 19, 15]\n",
      "Gap:  3\n",
      "[2, 5, 10, 12, 20, 23, 100, 34, 54, 22, 19, 15]\n",
      "Gap:  3\n",
      "[2, 5, 10, 12, 20, 23, 100, 34, 54, 22, 19, 15]\n",
      "Gap:  3\n",
      "[2, 5, 10, 12, 20, 23, 100, 34, 54, 22, 19, 15]\n",
      "Gap:  3\n",
      "[2, 5, 10, 12, 20, 23, 100, 34, 54, 22, 19, 15]\n",
      "Gap:  3\n",
      "[2, 5, 10, 12, 20, 23, 22, 34, 54, 100, 19, 15]\n",
      "Gap:  3\n",
      "[2, 5, 10, 12, 19, 23, 22, 20, 54, 100, 34, 15]\n",
      "Gap:  3\n",
      "[2, 5, 10, 12, 19, 15, 22, 20, 23, 100, 34, 54]\n",
      "Gap:  1\n",
      "[2, 5, 10, 12, 19, 15, 22, 20, 23, 100, 34, 54]\n",
      "Gap:  1\n",
      "[2, 5, 10, 12, 19, 15, 22, 20, 23, 100, 34, 54]\n",
      "Gap:  1\n",
      "[2, 5, 10, 12, 19, 15, 22, 20, 23, 100, 34, 54]\n",
      "Gap:  1\n",
      "[2, 5, 10, 12, 19, 15, 22, 20, 23, 100, 34, 54]\n",
      "Gap:  1\n",
      "[2, 5, 10, 12, 15, 19, 22, 20, 23, 100, 34, 54]\n",
      "Gap:  1\n",
      "[2, 5, 10, 12, 15, 19, 22, 20, 23, 100, 34, 54]\n",
      "Gap:  1\n",
      "[2, 5, 10, 12, 15, 19, 20, 22, 23, 100, 34, 54]\n",
      "Gap:  1\n",
      "[2, 5, 10, 12, 15, 19, 20, 22, 23, 100, 34, 54]\n",
      "Gap:  1\n",
      "[2, 5, 10, 12, 15, 19, 20, 22, 23, 100, 34, 54]\n",
      "Gap:  1\n",
      "[2, 5, 10, 12, 15, 19, 20, 22, 23, 34, 100, 54]\n",
      "Gap:  1\n",
      "[2, 5, 10, 12, 15, 19, 20, 22, 23, 34, 54, 100]\n"
     ]
    }
   ],
   "source": [
    "shell_sort(arr)"
   ]
  },
  {
   "cell_type": "markdown",
   "metadata": {},
   "source": [
    "## Merge Sort"
   ]
  },
  {
   "cell_type": "markdown",
   "metadata": {},
   "source": [
    "* Merge Sort is a Divide and Conquer algorithm. It divides input array in two halves, calls itself for the two halves and then merges the two sorted halves. The merge() function is used for merging two halves."
   ]
  },
  {
   "cell_type": "code",
   "execution_count": null,
   "metadata": {
    "collapsed": true
   },
   "outputs": [],
   "source": []
  },
  {
   "cell_type": "code",
   "execution_count": 84,
   "metadata": {
    "collapsed": true
   },
   "outputs": [],
   "source": [
    "def merge_sort(original_list):\n",
    "    if len(original_list) <= 1:\n",
    "        return\n",
    "\n",
    "    mid = len(original_list) // 2\n",
    "    \n",
    "    lefthalf = original_list[:mid]\n",
    "    righthalf = original_list[mid:]\n",
    "\n",
    "    merge_sort(lefthalf)\n",
    "    print_list(lefthalf)\n",
    "    \n",
    "    merge_sort(righthalf)\n",
    "    print_list(righthalf)\n",
    "\n",
    "    i = 0\n",
    "    j = 0\n",
    "    k = 0\n",
    "\n",
    "    while i < len(lefthalf) and j < len(righthalf):\n",
    "        if lefthalf[i] < righthalf[j]:\n",
    "            original_list[k] = lefthalf[i]\n",
    "        \n",
    "            i = i + 1\n",
    "        else:\n",
    "            original_list[k] = righthalf[j]\n",
    "            j = j + 1\n",
    "        k=k+1\n",
    "\n",
    "    while i < len(lefthalf):\n",
    "        original_list[k] = lefthalf[i]\n",
    "        \n",
    "        i = i + 1\n",
    "        k = k + 1\n",
    "\n",
    "    while j < len(righthalf):\n",
    "        original_list[k] = righthalf[j]\n",
    "\n",
    "        j = j + 1\n",
    "        k = k + 1"
   ]
  },
  {
   "cell_type": "code",
   "execution_count": 86,
   "metadata": {},
   "outputs": [
    {
     "name": "stdout",
     "output_type": "stream",
     "text": [
      "[54]\n",
      "[26]\n",
      "[93]\n",
      "[26, 93]\n",
      "[26, 54, 93]\n",
      "[17]\n",
      "[77]\n",
      "[31]\n",
      "[31, 77]\n",
      "[17, 31, 77]\n",
      "[17, 26, 31, 54, 77, 93]\n",
      "[44]\n",
      "[55]\n",
      "[20]\n",
      "[20, 55]\n",
      "[20, 44, 55]\n",
      "[13]\n",
      "[2]\n",
      "[2, 13]\n",
      "[100]\n",
      "[66]\n",
      "[66, 100]\n",
      "[2, 13, 66, 100]\n",
      "[2, 13, 20, 44, 55, 66, 100]\n"
     ]
    }
   ],
   "source": [
    "num_list = [54, 26, 93, 17, 77, 31, 44, 55, 20, 13, 2, 100, 66]\n",
    "\n",
    "merge_sort(num_list)"
   ]
  },
  {
   "cell_type": "code",
   "execution_count": 87,
   "metadata": {},
   "outputs": [
    {
     "data": {
      "text/plain": [
       "[2, 13, 17, 20, 26, 31, 44, 54, 55, 66, 77, 93, 100]"
      ]
     },
     "execution_count": 87,
     "metadata": {},
     "output_type": "execute_result"
    }
   ],
   "source": [
    "num_list"
   ]
  },
  {
   "cell_type": "markdown",
   "metadata": {},
   "source": [
    "## Quick Sort"
   ]
  },
  {
   "cell_type": "code",
   "execution_count": 105,
   "metadata": {
    "collapsed": true
   },
   "outputs": [],
   "source": [
    "def partition(original_list, start_index, end_index):\n",
    "    \n",
    "    curr_index = start_index\n",
    "    pivot = original_list[end_index]\n",
    "\n",
    "    for i in range(start_index, end_index):\n",
    "\n",
    "        if original_list[i] <= pivot:\n",
    "            \n",
    "            original_list[curr_index], original_list[i] = \\\n",
    "                original_list[i], original_list[curr_index]\n",
    "            curr_index = curr_index + 1\n",
    "    \n",
    "    original_list[curr_index], original_list[end_index] = \\\n",
    "        original_list[end_index], original_list[curr_index]\n",
    "    \n",
    "    return curr_index"
   ]
  },
  {
   "cell_type": "code",
   "execution_count": 108,
   "metadata": {
    "collapsed": true
   },
   "outputs": [],
   "source": [
    "def quick_sort(original_list, start_index, end_index): \n",
    "    if start_index >= end_index:\n",
    "        return\n",
    "\n",
    "    pi = partition(original_list, start_index, end_index)\n",
    "    \n",
    "    print('Element in the right place: ', original_list[pi])\n",
    "    print_list(original_list)\n",
    "\n",
    "    quick_sort(original_list, start_index, pi - 1) \n",
    "    \n",
    "    quick_sort(original_list, pi + 1, end_index) "
   ]
  },
  {
   "cell_type": "code",
   "execution_count": 111,
   "metadata": {},
   "outputs": [
    {
     "name": "stdout",
     "output_type": "stream",
     "text": [
      "Element in the right place:  19\n",
      "[17, 2, 6, 10, 19, 31, 44, 55, 20, 26, 93, 54, 88, 77]\n",
      "Element in the right place:  10\n",
      "[2, 6, 10, 17, 19, 31, 44, 55, 20, 26, 93, 54, 88, 77]\n",
      "Element in the right place:  6\n",
      "[2, 6, 10, 17, 19, 31, 44, 55, 20, 26, 93, 54, 88, 77]\n",
      "Element in the right place:  77\n",
      "[2, 6, 10, 17, 19, 31, 44, 55, 20, 26, 54, 77, 88, 93]\n",
      "Element in the right place:  54\n",
      "[2, 6, 10, 17, 19, 31, 44, 20, 26, 54, 55, 77, 88, 93]\n",
      "Element in the right place:  26\n",
      "[2, 6, 10, 17, 19, 20, 26, 31, 44, 54, 55, 77, 88, 93]\n",
      "Element in the right place:  44\n",
      "[2, 6, 10, 17, 19, 20, 26, 31, 44, 54, 55, 77, 88, 93]\n",
      "Element in the right place:  93\n",
      "[2, 6, 10, 17, 19, 20, 26, 31, 44, 54, 55, 77, 88, 93]\n"
     ]
    }
   ],
   "source": [
    "num_list = [54, 26, 93, 17, 77, 31, 44, 55, 20, 2, 6, 10, 88, 19]\n",
    "\n",
    "quick_sort(num_list, 0, len(num_list) - 1)"
   ]
  },
  {
   "cell_type": "code",
   "execution_count": null,
   "metadata": {
    "collapsed": true
   },
   "outputs": [],
   "source": []
  },
  {
   "cell_type": "code",
   "execution_count": null,
   "metadata": {
    "collapsed": true
   },
   "outputs": [],
   "source": []
  },
  {
   "cell_type": "code",
   "execution_count": null,
   "metadata": {
    "collapsed": true
   },
   "outputs": [],
   "source": []
  },
  {
   "cell_type": "code",
   "execution_count": null,
   "metadata": {
    "collapsed": true
   },
   "outputs": [],
   "source": []
  },
  {
   "cell_type": "code",
   "execution_count": null,
   "metadata": {
    "collapsed": true
   },
   "outputs": [],
   "source": []
  }
 ],
 "metadata": {
  "kernelspec": {
   "display_name": "Python 3",
   "language": "python",
   "name": "python3"
  },
  "language_info": {
   "codemirror_mode": {
    "name": "ipython",
    "version": 3
   },
   "file_extension": ".py",
   "mimetype": "text/x-python",
   "name": "python",
   "nbconvert_exporter": "python",
   "pygments_lexer": "ipython3",
   "version": "3.6.8"
  }
 },
 "nbformat": 4,
 "nbformat_minor": 2
}
