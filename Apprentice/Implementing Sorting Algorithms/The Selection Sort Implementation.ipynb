{
 "cells": [
  {
   "cell_type": "code",
   "execution_count": 7,
   "id": "initial_id",
   "metadata": {
    "collapsed": true,
    "ExecuteTime": {
     "end_time": "2023-12-23T20:28:37.812064079Z",
     "start_time": "2023-12-23T20:28:37.755283979Z"
    }
   },
   "outputs": [],
   "source": [
    "def print_list(num_list):\n",
    "    print(num_list)"
   ]
  },
  {
   "cell_type": "code",
   "outputs": [],
   "source": [
    "def selection_sort(original_list):\n",
    "    \n",
    "    length = len(original_list)\n",
    "    \n",
    "    for i in range(length):\n",
    "        \n",
    "        min_value_index = i\n",
    "        \n",
    "        for j in range(i + 1, length):\n",
    "            \n",
    "            if original_list[min_value_index] > original_list[j]:\n",
    "                min_value_index = j\n",
    "        \n",
    "        original_list[i], original_list[min_value_index] = original_list[min_value_index], original_list[i]\n",
    "\n",
    "        print('Sorted till index: ', i)\n",
    "        print_list(original_list)\n",
    "\n",
    "    print('Sorted list: ')\n",
    "    print_list(original_list)"
   ],
   "metadata": {
    "collapsed": false,
    "ExecuteTime": {
     "end_time": "2023-12-23T20:28:38.358830373Z",
     "start_time": "2023-12-23T20:28:38.354785295Z"
    }
   },
   "id": "54912eea758c4ab",
   "execution_count": 8
  },
  {
   "cell_type": "code",
   "outputs": [],
   "source": [
    "num_list = [10, 11, 5, 7, 2, 8, 3, 9, 6, 1, 4]"
   ],
   "metadata": {
    "collapsed": false,
    "ExecuteTime": {
     "end_time": "2023-12-23T20:28:38.889519530Z",
     "start_time": "2023-12-23T20:28:38.887455577Z"
    }
   },
   "id": "10d1affade708050",
   "execution_count": 9
  },
  {
   "cell_type": "code",
   "outputs": [
    {
     "name": "stdout",
     "output_type": "stream",
     "text": [
      "Sorted till index:  0\n",
      "[1, 11, 5, 7, 2, 8, 3, 9, 6, 10, 4]\n",
      "Sorted till index:  1\n",
      "[1, 2, 5, 7, 11, 8, 3, 9, 6, 10, 4]\n",
      "Sorted till index:  2\n",
      "[1, 2, 3, 7, 11, 8, 5, 9, 6, 10, 4]\n",
      "Sorted till index:  3\n",
      "[1, 2, 3, 4, 11, 8, 5, 9, 6, 10, 7]\n",
      "Sorted till index:  4\n",
      "[1, 2, 3, 4, 5, 8, 11, 9, 6, 10, 7]\n",
      "Sorted till index:  5\n",
      "[1, 2, 3, 4, 5, 6, 11, 9, 8, 10, 7]\n",
      "Sorted till index:  6\n",
      "[1, 2, 3, 4, 5, 6, 7, 9, 8, 10, 11]\n",
      "Sorted till index:  7\n",
      "[1, 2, 3, 4, 5, 6, 7, 8, 9, 10, 11]\n",
      "Sorted till index:  8\n",
      "[1, 2, 3, 4, 5, 6, 7, 8, 9, 10, 11]\n",
      "Sorted till index:  9\n",
      "[1, 2, 3, 4, 5, 6, 7, 8, 9, 10, 11]\n",
      "Sorted till index:  10\n",
      "[1, 2, 3, 4, 5, 6, 7, 8, 9, 10, 11]\n",
      "Sorted list: \n",
      "[1, 2, 3, 4, 5, 6, 7, 8, 9, 10, 11]\n"
     ]
    }
   ],
   "source": [
    "selection_sort(num_list)"
   ],
   "metadata": {
    "collapsed": false,
    "ExecuteTime": {
     "end_time": "2023-12-23T20:28:39.159637608Z",
     "start_time": "2023-12-23T20:28:39.157502682Z"
    }
   },
   "id": "be350db76a0c6c63",
   "execution_count": 10
  },
  {
   "cell_type": "code",
   "outputs": [],
   "source": [
    "animals_list = ['Lion', 'Giraffe', 'Elephant', 'Monkey', 'Cheetah']"
   ],
   "metadata": {
    "collapsed": false,
    "ExecuteTime": {
     "end_time": "2023-12-23T20:28:40.590444942Z",
     "start_time": "2023-12-23T20:28:40.549302431Z"
    }
   },
   "id": "8f150ad2516fa676",
   "execution_count": 11
  },
  {
   "cell_type": "code",
   "outputs": [
    {
     "name": "stdout",
     "output_type": "stream",
     "text": [
      "Sorted till index:  0\n",
      "['Cheetah', 'Giraffe', 'Elephant', 'Monkey', 'Lion']\n",
      "Sorted till index:  1\n",
      "['Cheetah', 'Elephant', 'Giraffe', 'Monkey', 'Lion']\n",
      "Sorted till index:  2\n",
      "['Cheetah', 'Elephant', 'Giraffe', 'Monkey', 'Lion']\n",
      "Sorted till index:  3\n",
      "['Cheetah', 'Elephant', 'Giraffe', 'Lion', 'Monkey']\n",
      "Sorted till index:  4\n",
      "['Cheetah', 'Elephant', 'Giraffe', 'Lion', 'Monkey']\n",
      "Sorted list: \n",
      "['Cheetah', 'Elephant', 'Giraffe', 'Lion', 'Monkey']\n"
     ]
    }
   ],
   "source": [
    "selection_sort(animals_list)"
   ],
   "metadata": {
    "collapsed": false,
    "ExecuteTime": {
     "end_time": "2023-12-23T20:28:41.157658997Z",
     "start_time": "2023-12-23T20:28:41.155471802Z"
    }
   },
   "id": "b9f55da865ed380c",
   "execution_count": 12
  },
  {
   "cell_type": "code",
   "outputs": [],
   "source": [],
   "metadata": {
    "collapsed": false
   },
   "id": "777cb9fd88388625"
  }
 ],
 "metadata": {
  "kernelspec": {
   "display_name": "Python 3",
   "language": "python",
   "name": "python3"
  },
  "language_info": {
   "codemirror_mode": {
    "name": "ipython",
    "version": 2
   },
   "file_extension": ".py",
   "mimetype": "text/x-python",
   "name": "python",
   "nbconvert_exporter": "python",
   "pygments_lexer": "ipython2",
   "version": "2.7.6"
  }
 },
 "nbformat": 4,
 "nbformat_minor": 5
}
