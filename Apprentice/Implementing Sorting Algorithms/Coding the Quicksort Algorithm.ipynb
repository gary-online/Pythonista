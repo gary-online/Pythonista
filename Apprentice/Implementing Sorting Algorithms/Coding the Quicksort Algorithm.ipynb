{
 "cells": [
  {
   "cell_type": "code",
   "outputs": [],
   "source": [
    "def print_list(num_list):\n",
    "    print(num_list)"
   ],
   "metadata": {
    "collapsed": false,
    "ExecuteTime": {
     "end_time": "2023-12-24T02:50:32.182253809Z",
     "start_time": "2023-12-24T02:50:32.137659420Z"
    }
   },
   "id": "94c0a4726bf57041",
   "execution_count": 5
  },
  {
   "cell_type": "code",
   "execution_count": 6,
   "id": "initial_id",
   "metadata": {
    "collapsed": true,
    "ExecuteTime": {
     "end_time": "2023-12-24T02:50:32.799675087Z",
     "start_time": "2023-12-24T02:50:32.795196235Z"
    }
   },
   "outputs": [],
   "source": [
    "def partition(original_list, start_index, end_index):\n",
    "    \n",
    "    curr_index = start_index\n",
    "    pivot = original_list[end_index]\n",
    "    \n",
    "    for i in range(start_index, end_index):\n",
    "            \n",
    "            if original_list[i] <= pivot:\n",
    "                \n",
    "                original_list[curr_index], original_list[i] = \\\n",
    "                    original_list[i], original_list[curr_index]\n",
    "                curr_index = curr_index + 1\n",
    "                \n",
    "    original_list[curr_index], original_list[end_index] = \\\n",
    "        original_list[end_index], original_list[curr_index]\n",
    "    \n",
    "    return curr_index"
   ]
  },
  {
   "cell_type": "code",
   "outputs": [],
   "source": [
    "def quick_sort(original_list, start_index, end_index):\n",
    "    if start_index >= end_index:\n",
    "        return\n",
    "    \n",
    "    pi = partition(original_list, start_index, end_index)\n",
    "    \n",
    "    print('Element in the right place: ', original_list[pi])\n",
    "    print_list(original_list)\n",
    "    \n",
    "    quick_sort(original_list, start_index, pi - 1)\n",
    "    quick_sort(original_list, pi + 1, end_index)"
   ],
   "metadata": {
    "collapsed": false,
    "ExecuteTime": {
     "end_time": "2023-12-24T02:50:33.134858381Z",
     "start_time": "2023-12-24T02:50:33.131622978Z"
    }
   },
   "id": "bb26a602b363632d",
   "execution_count": 7
  },
  {
   "cell_type": "code",
   "outputs": [
    {
     "name": "stdout",
     "output_type": "stream",
     "text": [
      "Element in the right place:  19\n",
      "[17, 2, 6, 10, 19, 31, 44, 55, 20, 26, 93, 54, 88, 77]\n",
      "Element in the right place:  10\n",
      "[2, 6, 10, 17, 19, 31, 44, 55, 20, 26, 93, 54, 88, 77]\n",
      "Element in the right place:  6\n",
      "[2, 6, 10, 17, 19, 31, 44, 55, 20, 26, 93, 54, 88, 77]\n",
      "Element in the right place:  77\n",
      "[2, 6, 10, 17, 19, 31, 44, 55, 20, 26, 54, 77, 88, 93]\n",
      "Element in the right place:  54\n",
      "[2, 6, 10, 17, 19, 31, 44, 20, 26, 54, 55, 77, 88, 93]\n",
      "Element in the right place:  26\n",
      "[2, 6, 10, 17, 19, 20, 26, 31, 44, 54, 55, 77, 88, 93]\n",
      "Element in the right place:  44\n",
      "[2, 6, 10, 17, 19, 20, 26, 31, 44, 54, 55, 77, 88, 93]\n",
      "Element in the right place:  93\n",
      "[2, 6, 10, 17, 19, 20, 26, 31, 44, 54, 55, 77, 88, 93]\n"
     ]
    }
   ],
   "source": [
    "num_list = [54, 26, 93, 17, 77, 31, 44, 55, 20, 2, 6, 10, 88, 19]\n",
    "\n",
    "quick_sort(num_list, 0, len(num_list) - 1)"
   ],
   "metadata": {
    "collapsed": false,
    "ExecuteTime": {
     "end_time": "2023-12-24T02:50:33.479714902Z",
     "start_time": "2023-12-24T02:50:33.478482874Z"
    }
   },
   "id": "e6fbea516346d50",
   "execution_count": 8
  },
  {
   "cell_type": "code",
   "outputs": [],
   "source": [],
   "metadata": {
    "collapsed": false
   },
   "id": "c358199f1cb118b2"
  }
 ],
 "metadata": {
  "kernelspec": {
   "display_name": "Python 3",
   "language": "python",
   "name": "python3"
  },
  "language_info": {
   "codemirror_mode": {
    "name": "ipython",
    "version": 2
   },
   "file_extension": ".py",
   "mimetype": "text/x-python",
   "name": "python",
   "nbconvert_exporter": "python",
   "pygments_lexer": "ipython2",
   "version": "2.7.6"
  }
 },
 "nbformat": 4,
 "nbformat_minor": 5
}
