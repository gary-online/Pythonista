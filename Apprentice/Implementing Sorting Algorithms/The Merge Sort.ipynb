{
 "cells": [
  {
   "cell_type": "code",
   "outputs": [],
   "source": [
    "def print_list(num_list):\n",
    "    print(num_list)"
   ],
   "metadata": {
    "collapsed": false,
    "ExecuteTime": {
     "end_time": "2023-12-24T02:14:33.487334409Z",
     "start_time": "2023-12-24T02:14:33.481619615Z"
    }
   },
   "id": "288fc070e6c41332",
   "execution_count": 4
  },
  {
   "cell_type": "code",
   "execution_count": 5,
   "id": "initial_id",
   "metadata": {
    "collapsed": true,
    "ExecuteTime": {
     "end_time": "2023-12-24T02:14:33.836482372Z",
     "start_time": "2023-12-24T02:14:33.833630416Z"
    }
   },
   "outputs": [],
   "source": [
    "def merge_sort(original_list):\n",
    "    if len(original_list) <= 1:\n",
    "        return\n",
    "\n",
    "    mid = len(original_list) // 2\n",
    "    \n",
    "    lefthalf = original_list[:mid]\n",
    "    righthalf = original_list[mid:]\n",
    "\n",
    "    merge_sort(lefthalf)\n",
    "    print_list(lefthalf)\n",
    "    \n",
    "    merge_sort(righthalf)\n",
    "    print_list(righthalf)\n",
    "\n",
    "    i = 0\n",
    "    j = 0\n",
    "    k = 0\n",
    "\n",
    "    while i < len(lefthalf) and j < len(righthalf):\n",
    "        if lefthalf[i] < righthalf[j]:\n",
    "            original_list[k] = lefthalf[i]\n",
    "        \n",
    "            i = i + 1\n",
    "        else:\n",
    "            original_list[k] = righthalf[j]\n",
    "            j = j + 1\n",
    "        k=k+1\n",
    "\n",
    "    while i < len(lefthalf):\n",
    "        original_list[k] = lefthalf[i]\n",
    "        \n",
    "        i = i + 1\n",
    "        k = k + 1\n",
    "\n",
    "    while j < len(righthalf):\n",
    "        original_list[k] = righthalf[j]\n",
    "\n",
    "        j = j + 1\n",
    "        k = k + 1"
   ]
  },
  {
   "cell_type": "code",
   "outputs": [
    {
     "name": "stdout",
     "output_type": "stream",
     "text": [
      "[54]\n",
      "[26]\n",
      "[93]\n",
      "[26, 93]\n",
      "[26, 54, 93]\n",
      "[17]\n",
      "[77]\n",
      "[31]\n",
      "[31, 77]\n",
      "[17, 31, 77]\n",
      "[17, 26, 31, 54, 77, 93]\n",
      "[44]\n",
      "[55]\n",
      "[20]\n",
      "[20, 55]\n",
      "[20, 44, 55]\n",
      "[13]\n",
      "[2]\n",
      "[2, 13]\n",
      "[100]\n",
      "[66]\n",
      "[66, 100]\n",
      "[2, 13, 66, 100]\n",
      "[2, 13, 20, 44, 55, 66, 100]\n"
     ]
    }
   ],
   "source": [
    "num_list = [54, 26, 93, 17, 77, 31, 44, 55, 20, 13, 2, 100, 66]\n",
    "\n",
    "merge_sort(num_list)"
   ],
   "metadata": {
    "collapsed": false,
    "ExecuteTime": {
     "end_time": "2023-12-24T02:14:34.435669524Z",
     "start_time": "2023-12-24T02:14:34.384497782Z"
    }
   },
   "id": "5ec709c1dcf94cd0",
   "execution_count": 6
  },
  {
   "cell_type": "code",
   "outputs": [],
   "source": [],
   "metadata": {
    "collapsed": false
   },
   "id": "7182c6580ae49300"
  }
 ],
 "metadata": {
  "kernelspec": {
   "display_name": "Python 3",
   "language": "python",
   "name": "python3"
  },
  "language_info": {
   "codemirror_mode": {
    "name": "ipython",
    "version": 2
   },
   "file_extension": ".py",
   "mimetype": "text/x-python",
   "name": "python",
   "nbconvert_exporter": "python",
   "pygments_lexer": "ipython2",
   "version": "2.7.6"
  }
 },
 "nbformat": 4,
 "nbformat_minor": 5
}
