{
 "cells": [
  {
   "cell_type": "code",
   "outputs": [],
   "source": [
    "def print_list(num_list):\n",
    "    print(num_list)"
   ],
   "metadata": {
    "collapsed": false,
    "ExecuteTime": {
     "end_time": "2023-12-23T20:51:47.126398605Z",
     "start_time": "2023-12-23T20:51:47.085821024Z"
    }
   },
   "id": "6d03a944cdb0bec0",
   "execution_count": 7
  },
  {
   "cell_type": "code",
   "outputs": [],
   "source": [
    "def shell_sort(original_list):\n",
    "    \n",
    "    length = len(original_list)\n",
    "    \n",
    "    gap = length // 2\n",
    "    \n",
    "    while gap > 0:\n",
    "        \n",
    "        for i in range(gap, length):\n",
    "            temp = original_list[i]\n",
    "            \n",
    "            j = i\n",
    "            \n",
    "            while j >= gap and original_list[j - gap] > temp:\n",
    "                original_list[j] = original_list[j - gap]\n",
    "                j -= gap\n",
    "                \n",
    "            original_list[j] = temp\n",
    "            \n",
    "            print('Gap: ', gap)\n",
    "            print_list(original_list)\n",
    "            \n",
    "        gap = gap // 2"
   ],
   "metadata": {
    "collapsed": false,
    "ExecuteTime": {
     "end_time": "2023-12-23T20:53:37.690463256Z",
     "start_time": "2023-12-23T20:53:37.650020870Z"
    }
   },
   "id": "2cf1b53a5cecc814",
   "execution_count": 8
  },
  {
   "cell_type": "code",
   "outputs": [],
   "source": [
    "arr = [ 12, 34, 54, 2, 5, 10, 100, 20, 23, 22, 19, 15]"
   ],
   "metadata": {
    "collapsed": false,
    "ExecuteTime": {
     "end_time": "2023-12-23T21:08:56.979780603Z",
     "start_time": "2023-12-23T21:08:56.975033170Z"
    }
   },
   "id": "bfb059e1bc797a87",
   "execution_count": 9
  },
  {
   "cell_type": "code",
   "outputs": [
    {
     "name": "stdout",
     "output_type": "stream",
     "text": [
      "Gap:  6\n",
      "[12, 34, 54, 2, 5, 10, 100, 20, 23, 22, 19, 15]\n",
      "Gap:  6\n",
      "[12, 20, 54, 2, 5, 10, 100, 34, 23, 22, 19, 15]\n",
      "Gap:  6\n",
      "[12, 20, 23, 2, 5, 10, 100, 34, 54, 22, 19, 15]\n",
      "Gap:  6\n",
      "[12, 20, 23, 2, 5, 10, 100, 34, 54, 22, 19, 15]\n",
      "Gap:  6\n",
      "[12, 20, 23, 2, 5, 10, 100, 34, 54, 22, 19, 15]\n",
      "Gap:  6\n",
      "[12, 20, 23, 2, 5, 10, 100, 34, 54, 22, 19, 15]\n",
      "Gap:  3\n",
      "[2, 20, 23, 12, 5, 10, 100, 34, 54, 22, 19, 15]\n",
      "Gap:  3\n",
      "[2, 5, 23, 12, 20, 10, 100, 34, 54, 22, 19, 15]\n",
      "Gap:  3\n",
      "[2, 5, 10, 12, 20, 23, 100, 34, 54, 22, 19, 15]\n",
      "Gap:  3\n",
      "[2, 5, 10, 12, 20, 23, 100, 34, 54, 22, 19, 15]\n",
      "Gap:  3\n",
      "[2, 5, 10, 12, 20, 23, 100, 34, 54, 22, 19, 15]\n",
      "Gap:  3\n",
      "[2, 5, 10, 12, 20, 23, 100, 34, 54, 22, 19, 15]\n",
      "Gap:  3\n",
      "[2, 5, 10, 12, 20, 23, 22, 34, 54, 100, 19, 15]\n",
      "Gap:  3\n",
      "[2, 5, 10, 12, 19, 23, 22, 20, 54, 100, 34, 15]\n",
      "Gap:  3\n",
      "[2, 5, 10, 12, 19, 15, 22, 20, 23, 100, 34, 54]\n",
      "Gap:  1\n",
      "[2, 5, 10, 12, 19, 15, 22, 20, 23, 100, 34, 54]\n",
      "Gap:  1\n",
      "[2, 5, 10, 12, 19, 15, 22, 20, 23, 100, 34, 54]\n",
      "Gap:  1\n",
      "[2, 5, 10, 12, 19, 15, 22, 20, 23, 100, 34, 54]\n",
      "Gap:  1\n",
      "[2, 5, 10, 12, 19, 15, 22, 20, 23, 100, 34, 54]\n",
      "Gap:  1\n",
      "[2, 5, 10, 12, 15, 19, 22, 20, 23, 100, 34, 54]\n",
      "Gap:  1\n",
      "[2, 5, 10, 12, 15, 19, 22, 20, 23, 100, 34, 54]\n",
      "Gap:  1\n",
      "[2, 5, 10, 12, 15, 19, 20, 22, 23, 100, 34, 54]\n",
      "Gap:  1\n",
      "[2, 5, 10, 12, 15, 19, 20, 22, 23, 100, 34, 54]\n",
      "Gap:  1\n",
      "[2, 5, 10, 12, 15, 19, 20, 22, 23, 100, 34, 54]\n",
      "Gap:  1\n",
      "[2, 5, 10, 12, 15, 19, 20, 22, 23, 34, 100, 54]\n",
      "Gap:  1\n",
      "[2, 5, 10, 12, 15, 19, 20, 22, 23, 34, 54, 100]\n"
     ]
    }
   ],
   "source": [
    "shell_sort(arr)"
   ],
   "metadata": {
    "collapsed": false,
    "ExecuteTime": {
     "end_time": "2023-12-23T21:09:02.119850889Z",
     "start_time": "2023-12-23T21:09:02.114349162Z"
    }
   },
   "id": "24f4841bf238a8d8",
   "execution_count": 10
  },
  {
   "cell_type": "code",
   "outputs": [],
   "source": [],
   "metadata": {
    "collapsed": false
   },
   "id": "7b680c90c96482a8"
  }
 ],
 "metadata": {
  "kernelspec": {
   "display_name": "Python 3",
   "language": "python",
   "name": "python3"
  },
  "language_info": {
   "codemirror_mode": {
    "name": "ipython",
    "version": 2
   },
   "file_extension": ".py",
   "mimetype": "text/x-python",
   "name": "python",
   "nbconvert_exporter": "python",
   "pygments_lexer": "ipython2",
   "version": "2.7.6"
  }
 },
 "nbformat": 4,
 "nbformat_minor": 5
}
