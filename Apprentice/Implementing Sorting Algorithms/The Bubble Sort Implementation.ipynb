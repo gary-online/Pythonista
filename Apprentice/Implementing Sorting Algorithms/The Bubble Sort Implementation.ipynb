{
 "cells": [
  {
   "cell_type": "code",
   "outputs": [],
   "source": [
    "def print_list(num_list):\n",
    "    print(num_list)"
   ],
   "metadata": {
    "collapsed": false,
    "ExecuteTime": {
     "end_time": "2023-12-23T20:28:54.686891246Z",
     "start_time": "2023-12-23T20:28:54.624590389Z"
    }
   },
   "id": "378d3f77a7b8289e",
   "execution_count": 10
  },
  {
   "cell_type": "code",
   "execution_count": 11,
   "id": "initial_id",
   "metadata": {
    "collapsed": true,
    "ExecuteTime": {
     "end_time": "2023-12-23T20:29:00.409585553Z",
     "start_time": "2023-12-23T20:29:00.407720917Z"
    }
   },
   "outputs": [],
   "source": [
    "def bubble_sort(original_list):\n",
    "    \n",
    "    length = len(original_list)\n",
    "    \n",
    "    for i in range(length - 1, 0, -1):\n",
    "        \n",
    "        for index in range(i):\n",
    "            \n",
    "            if original_list[index] > original_list[index + 1]:\n",
    "                \n",
    "                original_list[index + 1], original_list[index] = \\\n",
    "                    original_list[index], original_list[index + 1]\n",
    "        \n",
    "        print('Unsorted till index: ', i - 1)\n",
    "        print_list(original_list)"
   ]
  },
  {
   "cell_type": "code",
   "outputs": [],
   "source": [
    "student_marks = [88, 99, 34, 32, 43, 25, 29, 45, 49, 37]"
   ],
   "metadata": {
    "collapsed": false,
    "ExecuteTime": {
     "end_time": "2023-12-23T20:29:00.673025888Z",
     "start_time": "2023-12-23T20:29:00.671404683Z"
    }
   },
   "id": "112a9e48ff58a8c8",
   "execution_count": 12
  },
  {
   "cell_type": "code",
   "outputs": [
    {
     "name": "stdout",
     "output_type": "stream",
     "text": [
      "Unsorted till index:  8\n",
      "[88, 34, 32, 43, 25, 29, 45, 49, 37, 99]\n",
      "Unsorted till index:  7\n",
      "[34, 32, 43, 25, 29, 45, 49, 37, 88, 99]\n",
      "Unsorted till index:  6\n",
      "[32, 34, 25, 29, 43, 45, 37, 49, 88, 99]\n",
      "Unsorted till index:  5\n",
      "[32, 25, 29, 34, 43, 37, 45, 49, 88, 99]\n",
      "Unsorted till index:  4\n",
      "[25, 29, 32, 34, 37, 43, 45, 49, 88, 99]\n",
      "Unsorted till index:  3\n",
      "[25, 29, 32, 34, 37, 43, 45, 49, 88, 99]\n",
      "Unsorted till index:  2\n",
      "[25, 29, 32, 34, 37, 43, 45, 49, 88, 99]\n",
      "Unsorted till index:  1\n",
      "[25, 29, 32, 34, 37, 43, 45, 49, 88, 99]\n",
      "Unsorted till index:  0\n",
      "[25, 29, 32, 34, 37, 43, 45, 49, 88, 99]\n"
     ]
    }
   ],
   "source": [
    "bubble_sort(student_marks)"
   ],
   "metadata": {
    "collapsed": false,
    "ExecuteTime": {
     "end_time": "2023-12-23T20:29:01.063973532Z",
     "start_time": "2023-12-23T20:29:01.062551614Z"
    }
   },
   "id": "870a350da37c260f",
   "execution_count": 13
  },
  {
   "cell_type": "code",
   "outputs": [],
   "source": [
    "flowers_list = ['Sunflower', 'Freesia', 'Daffodil', 'Anemone', 'Red Spider Lily', 'Jasmine']"
   ],
   "metadata": {
    "collapsed": false,
    "ExecuteTime": {
     "end_time": "2023-12-23T20:35:58.817336055Z",
     "start_time": "2023-12-23T20:35:58.772152207Z"
    }
   },
   "id": "4263348c2dc5e78",
   "execution_count": 14
  },
  {
   "cell_type": "code",
   "outputs": [
    {
     "name": "stdout",
     "output_type": "stream",
     "text": [
      "Unsorted till index:  4\n",
      "['Freesia', 'Daffodil', 'Anemone', 'Red Spider Lily', 'Jasmine', 'Sunflower']\n",
      "Unsorted till index:  3\n",
      "['Daffodil', 'Anemone', 'Freesia', 'Jasmine', 'Red Spider Lily', 'Sunflower']\n",
      "Unsorted till index:  2\n",
      "['Anemone', 'Daffodil', 'Freesia', 'Jasmine', 'Red Spider Lily', 'Sunflower']\n",
      "Unsorted till index:  1\n",
      "['Anemone', 'Daffodil', 'Freesia', 'Jasmine', 'Red Spider Lily', 'Sunflower']\n",
      "Unsorted till index:  0\n",
      "['Anemone', 'Daffodil', 'Freesia', 'Jasmine', 'Red Spider Lily', 'Sunflower']\n"
     ]
    }
   ],
   "source": [
    "bubble_sort(flowers_list)"
   ],
   "metadata": {
    "collapsed": false,
    "ExecuteTime": {
     "end_time": "2023-12-23T20:36:02.718818687Z",
     "start_time": "2023-12-23T20:36:02.710570823Z"
    }
   },
   "id": "7a9dddf1ab75dba6",
   "execution_count": 15
  },
  {
   "cell_type": "code",
   "outputs": [],
   "source": [],
   "metadata": {
    "collapsed": false
   },
   "id": "1f1aac00a1fb7057"
  }
 ],
 "metadata": {
  "kernelspec": {
   "display_name": "Python 3",
   "language": "python",
   "name": "python3"
  },
  "language_info": {
   "codemirror_mode": {
    "name": "ipython",
    "version": 2
   },
   "file_extension": ".py",
   "mimetype": "text/x-python",
   "name": "python",
   "nbconvert_exporter": "python",
   "pygments_lexer": "ipython2",
   "version": "2.7.6"
  }
 },
 "nbformat": 4,
 "nbformat_minor": 5
}
