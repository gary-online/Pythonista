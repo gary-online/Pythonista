{
 "cells": [
  {
   "cell_type": "code",
   "execution_count": 1,
   "id": "initial_id",
   "metadata": {
    "collapsed": true,
    "ExecuteTime": {
     "end_time": "2023-12-23T20:39:20.974658329Z",
     "start_time": "2023-12-23T20:39:20.974272640Z"
    }
   },
   "outputs": [],
   "source": [
    "def print_list(num_list):\n",
    "    print(num_list)"
   ]
  },
  {
   "cell_type": "code",
   "outputs": [],
   "source": [
    "def insertion_sort(original_list):\n",
    "    \n",
    "    length = len(original_list)\n",
    "    \n",
    "    for i in range(0, length -1):\n",
    "        \n",
    "        for j in range(i + 1, 0, -1):\n",
    "            if original_list[j] < original_list[j - 1]:\n",
    "                \n",
    "                original_list[j], original_list[j - 1] = \\\n",
    "                    original_list[j - 1], original_list[j]\n",
    "                \n",
    "        print('Sorted till index: ', i)\n",
    "        print_list(original_list)"
   ],
   "metadata": {
    "collapsed": false,
    "ExecuteTime": {
     "end_time": "2023-12-23T20:41:44.558360972Z",
     "start_time": "2023-12-23T20:41:44.515800739Z"
    }
   },
   "id": "50259c886053098f",
   "execution_count": 2
  },
  {
   "cell_type": "code",
   "outputs": [],
   "source": [
    "a = [10, 5, 7, 2, 8, 3, 9, 6, 1, 4]"
   ],
   "metadata": {
    "collapsed": false,
    "ExecuteTime": {
     "end_time": "2023-12-23T20:46:46.338502599Z",
     "start_time": "2023-12-23T20:46:46.297940195Z"
    }
   },
   "id": "9833c060a0464296",
   "execution_count": 3
  },
  {
   "cell_type": "code",
   "outputs": [
    {
     "name": "stdout",
     "output_type": "stream",
     "text": [
      "Sorted till index:  0\n",
      "[5, 10, 7, 2, 8, 3, 9, 6, 1, 4]\n",
      "Sorted till index:  1\n",
      "[5, 7, 10, 2, 8, 3, 9, 6, 1, 4]\n",
      "Sorted till index:  2\n",
      "[2, 5, 7, 10, 8, 3, 9, 6, 1, 4]\n",
      "Sorted till index:  3\n",
      "[2, 5, 7, 8, 10, 3, 9, 6, 1, 4]\n",
      "Sorted till index:  4\n",
      "[2, 3, 5, 7, 8, 10, 9, 6, 1, 4]\n",
      "Sorted till index:  5\n",
      "[2, 3, 5, 7, 8, 9, 10, 6, 1, 4]\n",
      "Sorted till index:  6\n",
      "[2, 3, 5, 6, 7, 8, 9, 10, 1, 4]\n",
      "Sorted till index:  7\n",
      "[1, 2, 3, 5, 6, 7, 8, 9, 10, 4]\n",
      "Sorted till index:  8\n",
      "[1, 2, 3, 4, 5, 6, 7, 8, 9, 10]\n"
     ]
    }
   ],
   "source": [
    "insertion_sort(a)"
   ],
   "metadata": {
    "collapsed": false,
    "ExecuteTime": {
     "end_time": "2023-12-23T20:46:50.381220377Z",
     "start_time": "2023-12-23T20:46:50.375851457Z"
    }
   },
   "id": "f1c028522a65c077",
   "execution_count": 4
  },
  {
   "cell_type": "code",
   "outputs": [],
   "source": [
    "country_list = ['Brazil', 'France', 'USA', 'Germany', 'China', 'Japan']"
   ],
   "metadata": {
    "collapsed": false,
    "ExecuteTime": {
     "end_time": "2023-12-23T20:49:36.890390654Z",
     "start_time": "2023-12-23T20:49:36.843240767Z"
    }
   },
   "id": "47befad1d3e8afbe",
   "execution_count": 5
  },
  {
   "cell_type": "code",
   "outputs": [
    {
     "name": "stdout",
     "output_type": "stream",
     "text": [
      "Sorted till index:  0\n",
      "['Brazil', 'France', 'USA', 'Germany', 'China', 'Japan']\n",
      "Sorted till index:  1\n",
      "['Brazil', 'France', 'USA', 'Germany', 'China', 'Japan']\n",
      "Sorted till index:  2\n",
      "['Brazil', 'France', 'Germany', 'USA', 'China', 'Japan']\n",
      "Sorted till index:  3\n",
      "['Brazil', 'China', 'France', 'Germany', 'USA', 'Japan']\n",
      "Sorted till index:  4\n",
      "['Brazil', 'China', 'France', 'Germany', 'Japan', 'USA']\n"
     ]
    }
   ],
   "source": [
    "insertion_sort(country_list)"
   ],
   "metadata": {
    "collapsed": false,
    "ExecuteTime": {
     "end_time": "2023-12-23T20:49:40.394809590Z",
     "start_time": "2023-12-23T20:49:40.393217160Z"
    }
   },
   "id": "204b096f49f6a9dd",
   "execution_count": 6
  },
  {
   "cell_type": "code",
   "outputs": [],
   "source": [],
   "metadata": {
    "collapsed": false
   },
   "id": "73982dcc492161a8"
  }
 ],
 "metadata": {
  "kernelspec": {
   "display_name": "Python 3",
   "language": "python",
   "name": "python3"
  },
  "language_info": {
   "codemirror_mode": {
    "name": "ipython",
    "version": 2
   },
   "file_extension": ".py",
   "mimetype": "text/x-python",
   "name": "python",
   "nbconvert_exporter": "python",
   "pygments_lexer": "ipython2",
   "version": "2.7.6"
  }
 },
 "nbformat": 4,
 "nbformat_minor": 5
}
