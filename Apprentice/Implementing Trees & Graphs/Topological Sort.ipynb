{
 "cells": [
  {
   "cell_type": "markdown",
   "metadata": {},
   "source": [
    "## Topological Sort"
   ]
  },
  {
   "cell_type": "code",
   "execution_count": 1,
   "metadata": {
    "collapsed": true,
    "ExecuteTime": {
     "end_time": "2023-12-27T22:52:47.744557470Z",
     "start_time": "2023-12-27T22:52:47.703802435Z"
    }
   },
   "outputs": [],
   "source": [
    "from queue import Queue\n",
    "from graph import *"
   ]
  },
  {
   "cell_type": "code",
   "execution_count": 2,
   "metadata": {
    "collapsed": true,
    "ExecuteTime": {
     "end_time": "2023-12-27T22:52:48.742898940Z",
     "start_time": "2023-12-27T22:52:48.741154478Z"
    }
   },
   "outputs": [],
   "source": [
    "def topological_sort(graph):\n",
    "\n",
    "    queue = Queue()\n",
    "    indegree_map = {}\n",
    "\n",
    "    for i in range(graph.num_vertices):\n",
    "        indegree_map[i] = graph.get_indegree(i)\n",
    "\n",
    "        if indegree_map[i] == 0:\n",
    "            queue.put(i)\n",
    "\n",
    "    sorted_list = []\n",
    "\n",
    "    while not queue.empty():\n",
    "        vertex = queue.get()\n",
    "\n",
    "        sorted_list.append(vertex)\n",
    "\n",
    "        for v in graph.get_adjacent_vertices(vertex):\n",
    "            indegree_map[v] = indegree_map[v] - 1\n",
    "\n",
    "            if indegree_map[v] == 0:\n",
    "                queue.put(v)\n",
    "\n",
    "\n",
    "    if len(sorted_list) != graph.num_vertices:\n",
    "        raise ValueError(\"This graph has a cycle!\")\n",
    "\n",
    "    print(sorted_list)"
   ]
  },
  {
   "cell_type": "code",
   "execution_count": 3,
   "metadata": {
    "ExecuteTime": {
     "end_time": "2023-12-27T22:52:49.440074623Z",
     "start_time": "2023-12-27T22:52:49.438375167Z"
    }
   },
   "outputs": [
    {
     "name": "stdout",
     "output_type": "stream",
     "text": [
      "[0, 7, 1, 2, 8, 3, 5, 4, 6]\n"
     ]
    }
   ],
   "source": [
    "g = AdjacencyMatrixGraph(9, directed=True)\n",
    "\n",
    "g.add_edge(0, 1)\n",
    "g.add_edge(0, 2)\n",
    "g.add_edge(2, 5)\n",
    "g.add_edge(2, 4)\n",
    "g.add_edge(2, 3)\n",
    "g.add_edge(1, 5)\n",
    "g.add_edge(5, 6)\n",
    "g.add_edge(7, 3)\n",
    "g.add_edge(3, 4)\n",
    "g.add_edge(7, 8)\n",
    "\n",
    "topological_sort(g)"
   ]
  },
  {
   "cell_type": "code",
   "execution_count": 4,
   "metadata": {
    "ExecuteTime": {
     "end_time": "2023-12-27T22:52:50.049730879Z",
     "start_time": "2023-12-27T22:52:50.046886180Z"
    }
   },
   "outputs": [
    {
     "name": "stdout",
     "output_type": "stream",
     "text": [
      "[1, 2, 7, 0, 5, 3, 8, 6, 4]\n"
     ]
    }
   ],
   "source": [
    "g = AdjacencyMatrixGraph(9, directed=True)\n",
    "\n",
    "g.add_edge(1, 0)\n",
    "g.add_edge(2, 0)\n",
    "g.add_edge(2, 5)\n",
    "g.add_edge(2, 4)\n",
    "g.add_edge(2, 3)\n",
    "g.add_edge(1, 5)\n",
    "g.add_edge(5, 6)\n",
    "g.add_edge(7, 3)\n",
    "g.add_edge(3, 4)\n",
    "g.add_edge(7, 8)\n",
    "\n",
    "topological_sort(g)"
   ]
  },
  {
   "cell_type": "code",
   "execution_count": 5,
   "metadata": {
    "ExecuteTime": {
     "end_time": "2023-12-27T22:52:50.693854976Z",
     "start_time": "2023-12-27T22:52:50.557746119Z"
    }
   },
   "outputs": [
    {
     "ename": "ValueError",
     "evalue": "This graph has a cycle!",
     "output_type": "error",
     "traceback": [
      "\u001B[0;31m---------------------------------------------------------------------------\u001B[0m",
      "\u001B[0;31mValueError\u001B[0m                                Traceback (most recent call last)",
      "Cell \u001B[0;32mIn[5], line 15\u001B[0m\n\u001B[1;32m     12\u001B[0m g\u001B[38;5;241m.\u001B[39madd_edge(\u001B[38;5;241m7\u001B[39m, \u001B[38;5;241m8\u001B[39m)\n\u001B[1;32m     13\u001B[0m g\u001B[38;5;241m.\u001B[39madd_edge(\u001B[38;5;241m5\u001B[39m, \u001B[38;5;241m0\u001B[39m)\n\u001B[0;32m---> 15\u001B[0m \u001B[43mtopological_sort\u001B[49m\u001B[43m(\u001B[49m\u001B[43mg\u001B[49m\u001B[43m)\u001B[49m\n",
      "Cell \u001B[0;32mIn[2], line 27\u001B[0m, in \u001B[0;36mtopological_sort\u001B[0;34m(graph)\u001B[0m\n\u001B[1;32m     23\u001B[0m             queue\u001B[38;5;241m.\u001B[39mput(v)\n\u001B[1;32m     26\u001B[0m \u001B[38;5;28;01mif\u001B[39;00m \u001B[38;5;28mlen\u001B[39m(sorted_list) \u001B[38;5;241m!=\u001B[39m graph\u001B[38;5;241m.\u001B[39mnum_vertices:\n\u001B[0;32m---> 27\u001B[0m     \u001B[38;5;28;01mraise\u001B[39;00m \u001B[38;5;167;01mValueError\u001B[39;00m(\u001B[38;5;124m\"\u001B[39m\u001B[38;5;124mThis graph has a cycle!\u001B[39m\u001B[38;5;124m\"\u001B[39m)\n\u001B[1;32m     29\u001B[0m \u001B[38;5;28mprint\u001B[39m(sorted_list)\n",
      "\u001B[0;31mValueError\u001B[0m: This graph has a cycle!"
     ]
    }
   ],
   "source": [
    "g = AdjacencyMatrixGraph(9, directed=True)\n",
    "\n",
    "g.add_edge(0, 1)\n",
    "g.add_edge(0, 2)\n",
    "g.add_edge(2, 5)\n",
    "g.add_edge(2, 4)\n",
    "g.add_edge(2, 3)\n",
    "g.add_edge(1, 5)\n",
    "g.add_edge(5, 6)\n",
    "g.add_edge(7, 3)\n",
    "g.add_edge(3, 4)\n",
    "g.add_edge(7, 8)\n",
    "g.add_edge(5, 0)\n",
    "\n",
    "topological_sort(g)"
   ]
  },
  {
   "cell_type": "code",
   "execution_count": null,
   "metadata": {
    "collapsed": true
   },
   "outputs": [],
   "source": []
  }
 ],
 "metadata": {
  "kernelspec": {
   "display_name": "Python 3",
   "language": "python",
   "name": "python3"
  },
  "language_info": {
   "codemirror_mode": {
    "name": "ipython",
    "version": 3
   },
   "file_extension": ".py",
   "mimetype": "text/x-python",
   "name": "python",
   "nbconvert_exporter": "python",
   "pygments_lexer": "ipython3",
   "version": "3.6.8"
  }
 },
 "nbformat": 4,
 "nbformat_minor": 2
}
