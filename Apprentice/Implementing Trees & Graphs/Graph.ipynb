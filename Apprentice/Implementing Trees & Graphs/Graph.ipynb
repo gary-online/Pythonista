{
 "cells": [
  {
   "cell_type": "code",
   "execution_count": 2,
   "metadata": {
    "collapsed": true,
    "ExecuteTime": {
     "end_time": "2023-12-27T18:50:29.734895936Z",
     "start_time": "2023-12-27T18:50:29.665016364Z"
    }
   },
   "outputs": [],
   "source": [
    "import abc\n",
    "\n",
    "import numpy as np"
   ]
  },
  {
   "cell_type": "code",
   "execution_count": 3,
   "metadata": {
    "collapsed": true,
    "ExecuteTime": {
     "end_time": "2023-12-27T18:50:30.130512873Z",
     "start_time": "2023-12-27T18:50:30.124715900Z"
    }
   },
   "outputs": [],
   "source": [
    "class Graph(abc.ABC):\n",
    "\n",
    "    def __init__(self, num_vertices, directed=False):\n",
    "        self.num_vertices = num_vertices\n",
    "        self.directed = directed\n",
    "\n",
    "    @abc.abstractmethod  \n",
    "    def add_edge(self, v1, v2, weight):\n",
    "        pass\n",
    "\n",
    "    @abc.abstractmethod\n",
    "    def remove_edge(self, v1, v2, weight):\n",
    "        pass\n",
    "\n",
    "    @abc.abstractmethod\n",
    "    def get_adjacent_vertices(self, v):\n",
    "        pass\n",
    "\n",
    "    @abc.abstractmethod\n",
    "    def is_adjacent(self, v1, v2):\n",
    "        pass\n",
    " \n",
    "    @abc.abstractmethod\n",
    "    def get_indegree(self, v):\n",
    "        pass\n",
    "\n",
    "    @abc.abstractmethod\n",
    "    def get_edge_weight(self, v1, v2):\n",
    "        pass\n",
    "\n",
    "    @abc.abstractmethod\n",
    "    def show(self):\n",
    "        pass"
   ]
  },
  {
   "cell_type": "code",
   "execution_count": 4,
   "metadata": {
    "collapsed": true,
    "ExecuteTime": {
     "end_time": "2023-12-27T18:50:30.658140628Z",
     "start_time": "2023-12-27T18:50:30.654684947Z"
    }
   },
   "outputs": [],
   "source": [
    "class Vertex:\n",
    "    def __init__(self, id):\n",
    "        self.id = id\n",
    "        self.adjacency_set = set()\n",
    "\n",
    "    def add_edge(self, v):\n",
    "        if self.id == v:\n",
    "            raise ValueError(\"The vertex %d cannot be adjacent to itself\" % v)\n",
    "\n",
    "        self.adjacency_set.add(v)\n",
    "\n",
    "    def remove_edge(self, v):\n",
    "        if self.id == v:\n",
    "            raise ValueError(\"The vertex %d cannot be adjacent to itself\" % v)\n",
    "\n",
    "        self.adjacency_set.remove(v)\n",
    "\n",
    "    def get_adjacent_vertices(self):\n",
    "        return sorted(self.adjacency_set)\n",
    "    \n",
    "    def is_adjacent(self, v):\n",
    "        return v in self.adjacency_set"
   ]
  },
  {
   "cell_type": "code",
   "execution_count": 8,
   "metadata": {
    "collapsed": true,
    "ExecuteTime": {
     "end_time": "2023-12-27T19:02:36.303922085Z",
     "start_time": "2023-12-27T19:02:36.257386684Z"
    }
   },
   "outputs": [],
   "source": [
    "class AdjacencySetGraph(Graph):\n",
    "\n",
    "    def __init__(self, num_vertices, directed=False):\n",
    "        super(AdjacencySetGraph, self).__init__(num_vertices, directed)\n",
    "\n",
    "        self.vertex_list = []\n",
    "        for i in range(num_vertices):\n",
    "            v = Vertex(i)\n",
    "\n",
    "            self.vertex_list.append(v)\n",
    "\n",
    "    def add_edge(self, v1, v2, weight=1):\n",
    "        if v1 >= self.num_vertices or v2 >= self.num_vertices or v1 < 0 or v2 < 0:\n",
    "            raise ValueError(\"Vertices %d and %d are out of bounds\" % (v1, v2))\n",
    "\n",
    "        if weight != 1:\n",
    "            raise ValueError(\"An adjacency set cannot represent edge weights > 1\")\n",
    "\n",
    "        self.vertex_list[v1].add_edge(v2)\n",
    "        \n",
    "        if self.directed == False:\n",
    "            self.vertex_list[v2].add_edge(v1)\n",
    "\n",
    "    def remove_edge(self, v1, v2):\n",
    "        if v1 >= self.num_vertices or v2 >= self.num_vertices or v1 < 0 or v2 < 0:\n",
    "            raise ValueError(\"Vertices %d and %d are out of bounds\" % (v1, v2))\n",
    "\n",
    "        self.vertex_list[v1].remove_edge(v2)\n",
    "        \n",
    "        if self.directed == False:\n",
    "            self.vertex_list[v2].remove_edge(v1)\n",
    "\n",
    "\n",
    "    def get_adjacent_vertices(self, v):\n",
    "        if v < 0 or v >= self.num_vertices:\n",
    "            raise ValueError(\"Cannot access vertex %d\" % v)\n",
    "\n",
    "        return self.vertex_list[v].get_adjacent_vertices()\n",
    "   \n",
    "    def is_adjacent(self, v1, v2):\n",
    "        if v1 >= self.num_vertices or v2 >= self.num_vertices or v1 < 0 or v2 < 0:\n",
    "            raise ValueError(\"Vertices %d and %d are out of bounds\" % (v1, v2))\n",
    "\n",
    "        return self.vertex_list[v1].is_adjacent(v2) or self.vertex_list[v2].is_adjacent(v1)\n",
    "\n",
    "    def get_indegree(self, v):\n",
    "        if v < 0 or v >= self.num_vertices:\n",
    "            raise ValueError(\"Cannot access vertex %d\" % v)\n",
    "\n",
    "        indegree = 0\n",
    "        for i in range(self.num_vertices):\n",
    "            if i == v:\n",
    "                continue\n",
    "            if v in self.get_adjacent_vertices(i):\n",
    "                indegree = indegree + 1\n",
    "\n",
    "        return indegree\t\n",
    "\n",
    "    def get_edge_weight(self, v1, v2):\n",
    "        return 1\n",
    "\n",
    "    def show(self):\n",
    "        for i in range(self.num_vertices):\n",
    "            for v in self.get_adjacent_vertices(i):\n",
    "                print(i, \"-->\", v)\n"
   ]
  },
  {
   "cell_type": "code",
   "execution_count": 9,
   "metadata": {
    "collapsed": true,
    "ExecuteTime": {
     "end_time": "2023-12-27T19:02:36.818261259Z",
     "start_time": "2023-12-27T19:02:36.814511029Z"
    }
   },
   "outputs": [],
   "source": [
    "g = AdjacencySetGraph(4)\n",
    "\n",
    "g.add_edge(0, 1)\n",
    "g.add_edge(0, 3)\n",
    "g.add_edge(1, 3)\n",
    "g.add_edge(3, 2)"
   ]
  },
  {
   "cell_type": "code",
   "execution_count": 10,
   "metadata": {
    "ExecuteTime": {
     "end_time": "2023-12-27T19:02:37.649185837Z",
     "start_time": "2023-12-27T19:02:37.645440085Z"
    }
   },
   "outputs": [
    {
     "name": "stdout",
     "output_type": "stream",
     "text": [
      "0 --> 1\n",
      "0 --> 3\n",
      "1 --> 0\n",
      "1 --> 3\n",
      "2 --> 3\n",
      "3 --> 0\n",
      "3 --> 1\n",
      "3 --> 2\n"
     ]
    }
   ],
   "source": [
    "g.show()"
   ]
  },
  {
   "cell_type": "code",
   "execution_count": 11,
   "metadata": {
    "ExecuteTime": {
     "end_time": "2023-12-27T19:02:40.124843374Z",
     "start_time": "2023-12-27T19:02:40.121957639Z"
    }
   },
   "outputs": [
    {
     "name": "stdout",
     "output_type": "stream",
     "text": [
      "Adjacent to:  0 [1, 3]\n",
      "Adjacent to:  1 [0, 3]\n",
      "Adjacent to:  2 [3]\n",
      "Adjacent to:  3 [0, 1, 2]\n"
     ]
    }
   ],
   "source": [
    "for i in range(4):\n",
    "    print(\"Adjacent to: \", i, g.get_adjacent_vertices(i))"
   ]
  },
  {
   "cell_type": "code",
   "execution_count": 8,
   "metadata": {},
   "outputs": [
    {
     "name": "stdout",
     "output_type": "stream",
     "text": [
      "Indegree for vertex 0 is 2\n",
      "Indegree for vertex 1 is 2\n",
      "Indegree for vertex 2 is 1\n",
      "Indegree for vertex 3 is 3\n"
     ]
    }
   ],
   "source": [
    "for i in range(4):\n",
    "     print(\"Indegree for vertex %d is %d\" % (i, g.get_indegree(i)))"
   ]
  },
  {
   "cell_type": "code",
   "execution_count": 9,
   "metadata": {},
   "outputs": [
    {
     "name": "stdout",
     "output_type": "stream",
     "text": [
      "0 --> 1\n",
      "0 --> 3\n",
      "1 --> 0\n",
      "1 --> 3\n",
      "3 --> 0\n",
      "3 --> 1\n"
     ]
    }
   ],
   "source": [
    "g.remove_edge(2, 3)\n",
    "\n",
    "g.show()"
   ]
  },
  {
   "cell_type": "code",
   "execution_count": 10,
   "metadata": {},
   "outputs": [
    {
     "name": "stdout",
     "output_type": "stream",
     "text": [
      "Adjacent to:  0 [1, 3]\n",
      "Adjacent to:  1 [0, 3]\n",
      "Adjacent to:  2 []\n",
      "Adjacent to:  3 [0, 1]\n"
     ]
    }
   ],
   "source": [
    "for i in range(4):\n",
    "    print(\"Adjacent to: \", i, g.get_adjacent_vertices(i))"
   ]
  },
  {
   "cell_type": "code",
   "execution_count": 11,
   "metadata": {},
   "outputs": [
    {
     "data": {
      "text/plain": [
       "True"
      ]
     },
     "execution_count": 11,
     "metadata": {},
     "output_type": "execute_result"
    }
   ],
   "source": [
    "g.is_adjacent(0, 1)"
   ]
  },
  {
   "cell_type": "code",
   "execution_count": 12,
   "metadata": {},
   "outputs": [
    {
     "data": {
      "text/plain": [
       "False"
      ]
     },
     "execution_count": 12,
     "metadata": {},
     "output_type": "execute_result"
    }
   ],
   "source": [
    "g.is_adjacent(0, 2)"
   ]
  },
  {
   "cell_type": "code",
   "execution_count": 13,
   "metadata": {
    "collapsed": true
   },
   "outputs": [],
   "source": [
    "g = AdjacencySetGraph(4, directed=True)\n",
    "\n",
    "g.add_edge(0, 1)\n",
    "g.add_edge(0, 3)\n",
    "g.add_edge(1, 3)\n",
    "g.add_edge(3, 2)"
   ]
  },
  {
   "cell_type": "code",
   "execution_count": 14,
   "metadata": {},
   "outputs": [
    {
     "name": "stdout",
     "output_type": "stream",
     "text": [
      "0 --> 1\n",
      "0 --> 3\n",
      "1 --> 3\n",
      "3 --> 2\n"
     ]
    }
   ],
   "source": [
    "g.show()"
   ]
  },
  {
   "cell_type": "code",
   "execution_count": 15,
   "metadata": {},
   "outputs": [
    {
     "name": "stdout",
     "output_type": "stream",
     "text": [
      "Adjacent to:  0 [1, 3]\n",
      "Adjacent to:  1 [3]\n",
      "Adjacent to:  2 []\n",
      "Adjacent to:  3 [2]\n"
     ]
    }
   ],
   "source": [
    "for i in range(4):\n",
    "    print(\"Adjacent to: \", i, g.get_adjacent_vertices(i))"
   ]
  },
  {
   "cell_type": "code",
   "execution_count": 16,
   "metadata": {},
   "outputs": [
    {
     "name": "stdout",
     "output_type": "stream",
     "text": [
      "Indegree for vertex 0 is 0\n",
      "Indegree for vertex 1 is 1\n",
      "Indegree for vertex 2 is 1\n",
      "Indegree for vertex 3 is 2\n"
     ]
    }
   ],
   "source": [
    "for i in range(4):\n",
    "     print(\"Indegree for vertex %d is %d\" % (i, g.get_indegree(i)))"
   ]
  },
  {
   "cell_type": "code",
   "execution_count": 17,
   "metadata": {
    "collapsed": true
   },
   "outputs": [],
   "source": [
    "class AdjacencyMatrixGraph(Graph):\n",
    "\n",
    "    def __init__(self, num_vertices, directed=False):\n",
    "        super(AdjacencyMatrixGraph, self).__init__(num_vertices, directed)\n",
    "\n",
    "        self.matrix = np.zeros((num_vertices, num_vertices)) \n",
    "\n",
    "    def add_edge(self, v1, v2, weight=1):\n",
    "        if v1 >= self.num_vertices or v2 >= self.num_vertices or v1 < 0 or v2 < 0:\n",
    "            raise ValueError(\"Vertices %d and %d are out of bounds\" % (v1, v2))\n",
    "\n",
    "        if weight == 0:\n",
    "            raise ValueError(\"Edges cannot have a weight of 0\")\n",
    "\n",
    "        self.matrix[v1][v2] = weight\n",
    "        if self.directed == False:\n",
    "            self.matrix[v2][v1] = weight\n",
    "\n",
    "    def remove_edge(self, v1, v2):\n",
    "        if v1 >= self.num_vertices or v2 >= self.num_vertices or v1 < 0 or v2 < 0:\n",
    "            raise ValueError(\"Vertices %d and %d are out of bounds\" % (v1, v2))\n",
    "\n",
    "        self.matrix[v1][v2] = 0\n",
    "        if self.directed == False:\n",
    "            self.matrix[v2][v1] = 0\n",
    "\n",
    "    def get_adjacent_vertices(self, v):\n",
    "        if v < 0 or v >= self.num_vertices:\n",
    "            raise ValueError(\"Cannot access vertex %d\" % v)\n",
    "\n",
    "        adjacent_vertices = []\n",
    "        for i in range(self.num_vertices):\n",
    "            if self.matrix[v][i] > 0:\n",
    "                adjacent_vertices.append(i)\n",
    "\n",
    "        return adjacent_vertices\n",
    "    \n",
    "    def is_adjacent(self, v1, v2):\n",
    "        if v1 >= self.num_vertices or v2 >= self.num_vertices or v1 < 0 or v2 < 0:\n",
    "            raise ValueError(\"Vertices %d and %d are out of bounds\" % (v1, v2))\n",
    "\n",
    "        return self.matrix[v1][v2] != 0\n",
    "\n",
    "    def get_indegree(self, v):\n",
    "        if v < 0 or v >= self.num_vertices:\n",
    "            raise ValueError(\"Cannot access vertex %d\" % v)\n",
    "\n",
    "        indegree = 0\n",
    "        for i in range(self.num_vertices):\n",
    "            if self.matrix[i][v] > 0:\n",
    "                indegree = indegree + 1\n",
    "\n",
    "        return indegree\n",
    "\n",
    "    def get_edge_weight(self, v1, v2):\n",
    "        return self.matrix[v1][v2]\n",
    "\n",
    "    def show(self):\n",
    "        for i in range(self.num_vertices):\n",
    "            for v in self.get_adjacent_vertices(i):\n",
    "                print(i, \"-->\", v)\n",
    "                \n",
    "                "
   ]
  },
  {
   "cell_type": "code",
   "execution_count": 18,
   "metadata": {},
   "outputs": [
    {
     "name": "stdout",
     "output_type": "stream",
     "text": [
      "0 --> 1\n",
      "0 --> 3\n",
      "1 --> 0\n",
      "1 --> 3\n",
      "2 --> 3\n",
      "3 --> 0\n",
      "3 --> 1\n",
      "3 --> 2\n"
     ]
    }
   ],
   "source": [
    "g = AdjacencyMatrixGraph(4)\n",
    "\n",
    "g.add_edge(0, 1)\n",
    "g.add_edge(0, 3)\n",
    "g.add_edge(1, 3)\n",
    "g.add_edge(3, 2)\n",
    "\n",
    "g.show()"
   ]
  },
  {
   "cell_type": "code",
   "execution_count": 19,
   "metadata": {},
   "outputs": [
    {
     "name": "stdout",
     "output_type": "stream",
     "text": [
      "Adjacent to:  0 [1, 3]\n",
      "Adjacent to:  1 [0, 3]\n",
      "Adjacent to:  2 [3]\n",
      "Adjacent to:  3 [0, 1, 2]\n"
     ]
    }
   ],
   "source": [
    "for i in range(4):\n",
    "    print(\"Adjacent to: \", i, g.get_adjacent_vertices(i))"
   ]
  },
  {
   "cell_type": "code",
   "execution_count": 20,
   "metadata": {},
   "outputs": [
    {
     "name": "stdout",
     "output_type": "stream",
     "text": [
      "0 --> 1\n",
      "0 --> 3\n",
      "1 --> 3\n",
      "3 --> 2\n"
     ]
    }
   ],
   "source": [
    "g = AdjacencyMatrixGraph(4, directed=True)\n",
    "\n",
    "g.add_edge(0, 1)\n",
    "g.add_edge(0, 3)\n",
    "g.add_edge(1, 3)\n",
    "g.add_edge(3, 2)\n",
    "\n",
    "g.show()"
   ]
  },
  {
   "cell_type": "code",
   "execution_count": 21,
   "metadata": {},
   "outputs": [
    {
     "name": "stdout",
     "output_type": "stream",
     "text": [
      "Adjacent to:  0 [1, 3]\n",
      "Adjacent to:  1 [3]\n",
      "Adjacent to:  2 []\n",
      "Adjacent to:  3 [2]\n"
     ]
    }
   ],
   "source": [
    "for i in range(4):\n",
    "    print(\"Adjacent to: \", i, g.get_adjacent_vertices(i))"
   ]
  },
  {
   "cell_type": "code",
   "execution_count": null,
   "metadata": {
    "collapsed": true
   },
   "outputs": [],
   "source": []
  }
 ],
 "metadata": {
  "kernelspec": {
   "display_name": "Python 3",
   "language": "python",
   "name": "python3"
  },
  "language_info": {
   "codemirror_mode": {
    "name": "ipython",
    "version": 3
   },
   "file_extension": ".py",
   "mimetype": "text/x-python",
   "name": "python",
   "nbconvert_exporter": "python",
   "pygments_lexer": "ipython3",
   "version": "3.6.8"
  }
 },
 "nbformat": 4,
 "nbformat_minor": 2
}
