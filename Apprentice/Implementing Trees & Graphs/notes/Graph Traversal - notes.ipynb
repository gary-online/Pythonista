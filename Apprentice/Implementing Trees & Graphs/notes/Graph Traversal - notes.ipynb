{
 "cells": [
  {
   "cell_type": "code",
   "execution_count": 9,
   "id": "initial_id",
   "metadata": {
    "collapsed": true,
    "ExecuteTime": {
     "end_time": "2023-12-27T22:33:51.312873775Z",
     "start_time": "2023-12-27T22:33:51.310106514Z"
    }
   },
   "outputs": [],
   "source": [
    "from graph import *"
   ]
  },
  {
   "cell_type": "code",
   "outputs": [],
   "source": [
    "from queue import Queue\n",
    "import numpy as np"
   ],
   "metadata": {
    "collapsed": false,
    "ExecuteTime": {
     "end_time": "2023-12-27T22:33:51.678765466Z",
     "start_time": "2023-12-27T22:33:51.677581317Z"
    }
   },
   "id": "d6e1d960759ef1b1",
   "execution_count": 10
  },
  {
   "cell_type": "code",
   "outputs": [],
   "source": [
    "def breadth_first(graph, start=0):\n",
    "    \n",
    "    queue = Queue()\n",
    "    queue.put(start)\n",
    "    \n",
    "    visited = np.full((graph.num_verticies, ), False, dtype=bool)\n",
    "    \n",
    "    while not queue.empty():\n",
    "        vertex = queue.get()\n",
    "        \n",
    "        if visited[vertex]:\n",
    "            continue\n",
    "            \n",
    "        print(\"Visited: \", vertex)\n",
    "        visited[vertex] = True\n",
    "        \n",
    "        for v in graph.get_adjacent_verticies(vertex):\n",
    "            if not visited[v]:\n",
    "                queue.put(v)"
   ],
   "metadata": {
    "collapsed": false,
    "ExecuteTime": {
     "end_time": "2023-12-27T22:33:52.091339721Z",
     "start_time": "2023-12-27T22:33:52.089918765Z"
    }
   },
   "id": "66857e2a1a7ddf39",
   "execution_count": 11
  },
  {
   "cell_type": "code",
   "outputs": [
    {
     "name": "stdout",
     "output_type": "stream",
     "text": [
      "0 --> 1\n",
      "0 --> 2\n",
      "1 --> 0\n",
      "1 --> 5\n",
      "2 --> 0\n",
      "2 --> 3\n",
      "2 --> 4\n",
      "2 --> 5\n",
      "3 --> 2\n",
      "3 --> 4\n",
      "3 --> 7\n",
      "4 --> 2\n",
      "4 --> 3\n",
      "5 --> 1\n",
      "5 --> 2\n",
      "5 --> 6\n",
      "6 --> 5\n",
      "7 --> 3\n"
     ]
    }
   ],
   "source": [
    "g = AdjacencyMatrixGraph(9)\n",
    "\n",
    "g.add_edge(0, 1)\n",
    "g.add_edge(0, 2)\n",
    "g.add_edge(2, 5)\n",
    "g.add_edge(2, 4)\n",
    "g.add_edge(2, 3)\n",
    "g.add_edge(1, 5)\n",
    "g.add_edge(5, 6)\n",
    "g.add_edge(7, 3)\n",
    "g.add_edge(3, 4)\n",
    "g.add_edge(2, 5)\n",
    "\n",
    "g.show()"
   ],
   "metadata": {
    "collapsed": false,
    "ExecuteTime": {
     "end_time": "2023-12-27T22:33:52.481416991Z",
     "start_time": "2023-12-27T22:33:52.478625053Z"
    }
   },
   "id": "274ac983c1580a20",
   "execution_count": 12
  },
  {
   "cell_type": "markdown",
   "source": [
    "# Not working properly, use the Graph Traversal.ipynb in the primary \"Implementing Trees & Graphs subfolder of Apprentice to review the code and concepts."
   ],
   "metadata": {
    "collapsed": false
   },
   "id": "a6ad42f87e6a81c4"
  }
 ],
 "metadata": {
  "kernelspec": {
   "display_name": "Python 3",
   "language": "python",
   "name": "python3"
  },
  "language_info": {
   "codemirror_mode": {
    "name": "ipython",
    "version": 2
   },
   "file_extension": ".py",
   "mimetype": "text/x-python",
   "name": "python",
   "nbconvert_exporter": "python",
   "pygments_lexer": "ipython2",
   "version": "2.7.6"
  }
 },
 "nbformat": 4,
 "nbformat_minor": 5
}
