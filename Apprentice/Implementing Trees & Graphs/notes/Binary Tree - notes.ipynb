{
 "cells": [
  {
   "cell_type": "code",
   "execution_count": 3,
   "id": "initial_id",
   "metadata": {
    "collapsed": true,
    "ExecuteTime": {
     "end_time": "2023-12-27T17:38:41.020649248Z",
     "start_time": "2023-12-27T17:38:41.015695050Z"
    }
   },
   "outputs": [],
   "source": [
    "class Node:\n",
    "\n",
    "    def __init__(self, data):\n",
    "        self.left = None\n",
    "        self.right = None\n",
    "\n",
    "        self.data = data\n",
    "        \n",
    "    def get_left_child(self):\n",
    "        return self.left\n",
    "    \n",
    "    def set_left_child(self, left):\n",
    "        self.left = left\n",
    "    \n",
    "    def get_right_child(self):\n",
    "        return self.right\n",
    "    \n",
    "    def set_right_child(self,right):\n",
    "        self.right = right\n",
    "    \n",
    "    def get_value(self):\n",
    "        return self.data\n",
    "\n",
    "    def set_value(self, value):\n",
    "        self.data = value\n",
    "        \n",
    "    def print_tree(self):\n",
    "            if self.left:\n",
    "                self.left.print_tree()\n",
    "\n",
    "            print(self.data)\n",
    "\n",
    "            if self.right:\n",
    "                self.right.print_tree()"
   ]
  },
  {
   "cell_type": "code",
   "outputs": [],
   "source": [
    "def insert(head, node):\n",
    "    \n",
    "    if head == None:\n",
    "        return node\n",
    "    \n",
    "    if node.get_value() <= head.get_value():\n",
    "        head.set_left_child(insert(head.get_left_child(), node))\n",
    "    else:\n",
    "        head.set_right_child(insert(head.get_right_child(), node))\n",
    "        \n",
    "    return head"
   ],
   "metadata": {
    "collapsed": false,
    "ExecuteTime": {
     "end_time": "2023-12-27T17:38:41.025732911Z",
     "start_time": "2023-12-27T17:38:41.021059565Z"
    }
   },
   "id": "b5c43b958700173a",
   "execution_count": 4
  },
  {
   "cell_type": "code",
   "outputs": [],
   "source": [
    "A = Node(45)\n",
    "B = Node(2)\n",
    "C = Node(33)\n",
    "D = Node(54)\n",
    "E = Node(25)\n",
    "F = Node(68)\n",
    "G = Node(81)\n",
    "H = Node(81)\n",
    "I = Node(23)"
   ],
   "metadata": {
    "collapsed": false,
    "ExecuteTime": {
     "end_time": "2023-12-27T17:38:41.101794200Z",
     "start_time": "2023-12-27T17:38:41.026308551Z"
    }
   },
   "id": "cf36cfbfe4f05840",
   "execution_count": 5
  },
  {
   "cell_type": "code",
   "outputs": [],
   "source": [
    "head = insert(None, E)"
   ],
   "metadata": {
    "collapsed": false,
    "ExecuteTime": {
     "end_time": "2023-12-27T17:38:41.164534574Z",
     "start_time": "2023-12-27T17:38:41.030590676Z"
    }
   },
   "id": "b24b2fceb817dd9",
   "execution_count": 6
  },
  {
   "cell_type": "code",
   "outputs": [
    {
     "name": "stdout",
     "output_type": "stream",
     "text": [
      "25\n"
     ]
    }
   ],
   "source": [
    "head.print_tree()"
   ],
   "metadata": {
    "collapsed": false,
    "ExecuteTime": {
     "end_time": "2023-12-27T17:38:41.165267311Z",
     "start_time": "2023-12-27T17:38:41.072983664Z"
    }
   },
   "id": "7f1e23d8f90e6be3",
   "execution_count": 7
  },
  {
   "cell_type": "code",
   "outputs": [
    {
     "name": "stdout",
     "output_type": "stream",
     "text": [
      "2\n",
      "25\n"
     ]
    }
   ],
   "source": [
    "insert(head, B)\n",
    "\n",
    "head.print_tree()"
   ],
   "metadata": {
    "collapsed": false,
    "ExecuteTime": {
     "end_time": "2023-12-27T17:38:41.165802213Z",
     "start_time": "2023-12-27T17:38:41.073312076Z"
    }
   },
   "id": "3452f056bbd3c0a9",
   "execution_count": 8
  },
  {
   "cell_type": "code",
   "outputs": [
    {
     "name": "stdout",
     "output_type": "stream",
     "text": [
      "2\n",
      "25\n",
      "33\n"
     ]
    }
   ],
   "source": [
    "insert(head, C)\n",
    "\n",
    "head.print_tree()"
   ],
   "metadata": {
    "collapsed": false,
    "ExecuteTime": {
     "end_time": "2023-12-27T17:38:41.166252115Z",
     "start_time": "2023-12-27T17:38:41.073550988Z"
    }
   },
   "id": "ccd150dc6e780fa",
   "execution_count": 9
  },
  {
   "cell_type": "code",
   "outputs": [
    {
     "name": "stdout",
     "output_type": "stream",
     "text": [
      "2\n",
      "23\n",
      "25\n",
      "33\n",
      "45\n"
     ]
    }
   ],
   "source": [
    "insert(head, I)\n",
    "insert(head, A)\n",
    "\n",
    "head.print_tree()"
   ],
   "metadata": {
    "collapsed": false,
    "ExecuteTime": {
     "end_time": "2023-12-27T17:38:41.166707587Z",
     "start_time": "2023-12-27T17:38:41.073796994Z"
    }
   },
   "id": "6d73504ed8ff5470",
   "execution_count": 10
  },
  {
   "cell_type": "code",
   "outputs": [
    {
     "name": "stdout",
     "output_type": "stream",
     "text": [
      "2\n",
      "23\n",
      "25\n",
      "33\n",
      "45\n",
      "54\n",
      "68\n",
      "81\n",
      "81\n"
     ]
    }
   ],
   "source": [
    "insert(head, G)\n",
    "insert(head, F)\n",
    "insert(head, D)\n",
    "insert(head, H)\n",
    "\n",
    "head.print_tree()"
   ],
   "metadata": {
    "collapsed": false,
    "ExecuteTime": {
     "end_time": "2023-12-27T17:38:41.167188227Z",
     "start_time": "2023-12-27T17:38:41.074026007Z"
    }
   },
   "id": "61ac6f16b5d14b01",
   "execution_count": 11
  },
  {
   "cell_type": "code",
   "outputs": [],
   "source": [
    "def lookup(head, data):\n",
    "    \n",
    "    if head is None:\n",
    "        return print(\"Value not found!\")\n",
    "    \n",
    "    if head.get_value() is data:\n",
    "        return head\n",
    "    \n",
    "    if data <= head.get_value():\n",
    "        return lookup(head.get_left_child(), data)\n",
    "    else:\n",
    "        return lookup(head.get_right_child(), data)"
   ],
   "metadata": {
    "collapsed": false,
    "ExecuteTime": {
     "end_time": "2023-12-27T17:38:41.167548829Z",
     "start_time": "2023-12-27T17:38:41.075026702Z"
    }
   },
   "id": "b8fd50e82255256e",
   "execution_count": 12
  },
  {
   "cell_type": "code",
   "outputs": [],
   "source": [
    "def print_node(node):\n",
    "    if (node is None):\n",
    "        print(\"Not found!\")\n",
    "        \n",
    "    print(node.get_value())"
   ],
   "metadata": {
    "collapsed": false,
    "ExecuteTime": {
     "end_time": "2023-12-27T17:38:41.167922487Z",
     "start_time": "2023-12-27T17:38:41.075233824Z"
    }
   },
   "id": "36d2efe811ee19e7",
   "execution_count": 13
  },
  {
   "cell_type": "code",
   "outputs": [
    {
     "name": "stdout",
     "output_type": "stream",
     "text": [
      "68\n"
     ]
    }
   ],
   "source": [
    "print_node(lookup(head, 68))"
   ],
   "metadata": {
    "collapsed": false,
    "ExecuteTime": {
     "end_time": "2023-12-27T17:38:41.168368401Z",
     "start_time": "2023-12-27T17:38:41.075431378Z"
    }
   },
   "id": "7050222e7e2eedf3",
   "execution_count": 14
  },
  {
   "cell_type": "code",
   "outputs": [
    {
     "name": "stdout",
     "output_type": "stream",
     "text": [
      "Value not found!\n",
      "Not found!\n"
     ]
    },
    {
     "ename": "AttributeError",
     "evalue": "'NoneType' object has no attribute 'get_value'",
     "output_type": "error",
     "traceback": [
      "\u001B[0;31m---------------------------------------------------------------------------\u001B[0m",
      "\u001B[0;31mAttributeError\u001B[0m                            Traceback (most recent call last)",
      "Cell \u001B[0;32mIn[15], line 1\u001B[0m\n\u001B[0;32m----> 1\u001B[0m \u001B[43mprint_node\u001B[49m\u001B[43m(\u001B[49m\u001B[43mlookup\u001B[49m\u001B[43m(\u001B[49m\u001B[43mhead\u001B[49m\u001B[43m,\u001B[49m\u001B[43m \u001B[49m\u001B[38;5;241;43m10\u001B[39;49m\u001B[43m)\u001B[49m\u001B[43m)\u001B[49m\n",
      "Cell \u001B[0;32mIn[13], line 5\u001B[0m, in \u001B[0;36mprint_node\u001B[0;34m(node)\u001B[0m\n\u001B[1;32m      2\u001B[0m \u001B[38;5;28;01mif\u001B[39;00m (node \u001B[38;5;129;01mis\u001B[39;00m \u001B[38;5;28;01mNone\u001B[39;00m):\n\u001B[1;32m      3\u001B[0m     \u001B[38;5;28mprint\u001B[39m(\u001B[38;5;124m\"\u001B[39m\u001B[38;5;124mNot found!\u001B[39m\u001B[38;5;124m\"\u001B[39m)\n\u001B[0;32m----> 5\u001B[0m \u001B[38;5;28mprint\u001B[39m(\u001B[43mnode\u001B[49m\u001B[38;5;241;43m.\u001B[39;49m\u001B[43mget_value\u001B[49m())\n",
      "\u001B[0;31mAttributeError\u001B[0m: 'NoneType' object has no attribute 'get_value'"
     ]
    }
   ],
   "source": [
    "print_node(lookup(head, 10))"
   ],
   "metadata": {
    "collapsed": false,
    "ExecuteTime": {
     "end_time": "2023-12-27T17:38:41.168870070Z",
     "start_time": "2023-12-27T17:38:41.075672865Z"
    }
   },
   "id": "c1b1b893c0b5263a",
   "execution_count": 15
  },
  {
   "cell_type": "code",
   "outputs": [],
   "source": [
    "def min_value(head):\n",
    "    current = head\n",
    "    \n",
    "    while(current.left != None):\n",
    "        current = current.left\n",
    "        \n",
    "    return current.data"
   ],
   "metadata": {
    "collapsed": false,
    "ExecuteTime": {
     "start_time": "2023-12-27T17:38:41.080580534Z"
    }
   },
   "id": "ed237200b8e4b50a",
   "execution_count": null
  },
  {
   "cell_type": "code",
   "outputs": [
    {
     "data": {
      "text/plain": "2"
     },
     "execution_count": 16,
     "metadata": {},
     "output_type": "execute_result"
    }
   ],
   "source": [
    "min_value(head)"
   ],
   "metadata": {
    "collapsed": false,
    "ExecuteTime": {
     "end_time": "2023-12-27T17:38:41.284310122Z",
     "start_time": "2023-12-27T17:38:41.106745232Z"
    }
   },
   "id": "fadbbdf41f1c6d66",
   "execution_count": 16
  },
  {
   "cell_type": "code",
   "outputs": [
    {
     "data": {
      "text/plain": "1"
     },
     "execution_count": 18,
     "metadata": {},
     "output_type": "execute_result"
    }
   ],
   "source": [
    "insert(head, Node(1))\n",
    "\n",
    "min_value(head)"
   ],
   "metadata": {
    "collapsed": false,
    "ExecuteTime": {
     "end_time": "2023-12-27T17:39:09.615210360Z",
     "start_time": "2023-12-27T17:39:09.605933429Z"
    }
   },
   "id": "942bd80bf619b183",
   "execution_count": 18
  },
  {
   "cell_type": "code",
   "outputs": [],
   "source": [
    "def max_value(head):\n",
    "    current = head\n",
    "    \n",
    "    # loop down to find the rightmost leaf in the binary tree\n",
    "    \n",
    "    while(current.right != None):\n",
    "        current = current.right\n",
    "        \n",
    "    return current.data"
   ],
   "metadata": {
    "collapsed": false,
    "ExecuteTime": {
     "end_time": "2023-12-27T17:40:22.096066853Z",
     "start_time": "2023-12-27T17:40:22.055127473Z"
    }
   },
   "id": "bb147b8a6e6024ba",
   "execution_count": 19
  },
  {
   "cell_type": "code",
   "outputs": [],
   "source": [
    "class MyQueue:\n",
    "    \n",
    "    def __init__(self):\n",
    "        \n",
    "        \"\"\"Create a new queue.\"\"\"\n",
    "        \n",
    "        self.items = []\n",
    "        \n",
    "    def is_empty(self):\n",
    "        \n",
    "        \"\"\"Returns true if queue is empty.\"\"\"\n",
    "        \n",
    "        return len(self.items) == 0\n",
    "    \n",
    "    def enqueue(self, item):\n",
    "        \n",
    "        \"\"\"Add a new element to the end of queue.\"\"\"\n",
    "        \n",
    "        self.items.append(item)\n",
    "        \n",
    "    def dequeue(self):\n",
    "        \n",
    "        \"\"\"Remove an element from the beginning of the queue.\"\"\"\n",
    "        \n",
    "        return self.items.pop(0)\n",
    "    \n",
    "    def size(self):\n",
    "        \n",
    "        \"\"\"Returns the size of the queue.\"\"\"\n",
    "        \n",
    "        return len(self.items)\n",
    "    \n",
    "    def peek(self):\n",
    "        \n",
    "        \"\"\"Have a look at the first element of the queue.\"\"\"\n",
    "        \n",
    "        if self.is_empty():\n",
    "            raise Exception(\"Nothing to peek\")\n",
    "        \n",
    "        return self.items[0]"
   ],
   "metadata": {
    "collapsed": false,
    "ExecuteTime": {
     "end_time": "2023-12-27T17:48:44.380028620Z",
     "start_time": "2023-12-27T17:48:44.339521970Z"
    }
   },
   "id": "16924c92074cc258",
   "execution_count": 21
  },
  {
   "cell_type": "code",
   "outputs": [],
   "source": [
    "def breadth_first(node):\n",
    "    \n",
    "    if (node == None):\n",
    "        raise Exception(\"No root founds:\")\n",
    "    \n",
    "    path = []\n",
    "    queue = MyQueue()\n",
    "    queue.enqueue(node)\n",
    "    \n",
    "    while queue.size() > 0:\n",
    "        current = queue.dequeue()\n",
    "        \n",
    "        path.append(current.data)\n",
    "        \n",
    "        if current.get_left_child() != None:\n",
    "            queue.enqueue(current.get_left_child())\n",
    "        \n",
    "        if current.get_right_child() != None:\n",
    "            queue.enqueue(current.get_right_child())\n",
    "            \n",
    "    return path"
   ],
   "metadata": {
    "collapsed": false,
    "ExecuteTime": {
     "end_time": "2023-12-27T17:54:55.365063884Z",
     "start_time": "2023-12-27T17:54:55.322402200Z"
    }
   },
   "id": "6199bf2765b9c78f",
   "execution_count": 22
  },
  {
   "cell_type": "code",
   "outputs": [
    {
     "data": {
      "text/plain": "[25, 2, 33, 1, 23, 45, 81, 68, 54, 81]"
     },
     "execution_count": 23,
     "metadata": {},
     "output_type": "execute_result"
    }
   ],
   "source": [
    "breadth_first(E)"
   ],
   "metadata": {
    "collapsed": false,
    "ExecuteTime": {
     "end_time": "2023-12-27T18:10:49.450539762Z",
     "start_time": "2023-12-27T18:10:49.392657513Z"
    }
   },
   "id": "68f84a863d02da8",
   "execution_count": 23
  },
  {
   "cell_type": "code",
   "outputs": [],
   "source": [
    "def pre_order(node):\n",
    "    path = []\n",
    "    \n",
    "    if node:\n",
    "        path.append(node.data)\n",
    "        \n",
    "        path = path + pre_order(node.get_left_child())\n",
    "        path = path + pre_order(node.get_right_child())\n",
    "        \n",
    "    return path"
   ],
   "metadata": {
    "collapsed": false,
    "ExecuteTime": {
     "end_time": "2023-12-27T18:12:07.294646117Z",
     "start_time": "2023-12-27T18:12:07.286878241Z"
    }
   },
   "id": "d42b3b1f86218db0",
   "execution_count": 24
  },
  {
   "cell_type": "code",
   "outputs": [
    {
     "data": {
      "text/plain": "[25, 2, 1, 23, 33, 45, 81, 68, 54, 81]"
     },
     "execution_count": 25,
     "metadata": {},
     "output_type": "execute_result"
    }
   ],
   "source": [
    "pre_order(E)"
   ],
   "metadata": {
    "collapsed": false,
    "ExecuteTime": {
     "end_time": "2023-12-27T18:15:30.712135678Z",
     "start_time": "2023-12-27T18:15:30.665732594Z"
    }
   },
   "id": "a26f14ffdffcb0da",
   "execution_count": 25
  },
  {
   "cell_type": "code",
   "outputs": [],
   "source": [
    "def in_order(node):\n",
    "    path = []\n",
    "    \n",
    "    if node:\n",
    "        path = path + in_order(node.get_left_child())\n",
    "        \n",
    "        path.append(node.data)\n",
    "        \n",
    "        path = path + in_order(node.get_right_child())\n",
    "        \n",
    "    return path"
   ],
   "metadata": {
    "collapsed": false,
    "ExecuteTime": {
     "end_time": "2023-12-27T18:16:25.471956238Z",
     "start_time": "2023-12-27T18:16:25.424032732Z"
    }
   },
   "id": "371ec42053967405",
   "execution_count": 26
  },
  {
   "cell_type": "code",
   "outputs": [
    {
     "data": {
      "text/plain": "[1, 2, 23, 25, 33, 45, 54, 68, 81, 81]"
     },
     "execution_count": 27,
     "metadata": {},
     "output_type": "execute_result"
    }
   ],
   "source": [
    "in_order(E)"
   ],
   "metadata": {
    "collapsed": false,
    "ExecuteTime": {
     "end_time": "2023-12-27T18:17:50.293469058Z",
     "start_time": "2023-12-27T18:17:50.285817993Z"
    }
   },
   "id": "645f51720d330dce",
   "execution_count": 27
  },
  {
   "cell_type": "code",
   "outputs": [],
   "source": [
    "def post_order(node):\n",
    "    path = []\n",
    "    \n",
    "    if node:\n",
    "        \n",
    "        path = path + post_order(node.get_left_child())\n",
    "        path = path + post_order(node.get_right_child())\n",
    "        \n",
    "        path.append(node.data)\n",
    "        \n",
    "    return path"
   ],
   "metadata": {
    "collapsed": false,
    "ExecuteTime": {
     "end_time": "2023-12-27T18:18:29.284017161Z",
     "start_time": "2023-12-27T18:18:29.241134136Z"
    }
   },
   "id": "925dd07a13ac2e19",
   "execution_count": 28
  },
  {
   "cell_type": "code",
   "outputs": [
    {
     "data": {
      "text/plain": "[1, 23, 2, 54, 81, 68, 81, 45, 33, 25]"
     },
     "execution_count": 29,
     "metadata": {},
     "output_type": "execute_result"
    }
   ],
   "source": [
    "post_order(E)"
   ],
   "metadata": {
    "collapsed": false,
    "ExecuteTime": {
     "end_time": "2023-12-27T18:18:33.928369304Z",
     "start_time": "2023-12-27T18:18:33.906510725Z"
    }
   },
   "id": "f0e8877958ee21df",
   "execution_count": 29
  },
  {
   "cell_type": "code",
   "outputs": [],
   "source": [],
   "metadata": {
    "collapsed": false
   },
   "id": "38613ff704519ac8"
  }
 ],
 "metadata": {
  "kernelspec": {
   "display_name": "Python 3",
   "language": "python",
   "name": "python3"
  },
  "language_info": {
   "codemirror_mode": {
    "name": "ipython",
    "version": 2
   },
   "file_extension": ".py",
   "mimetype": "text/x-python",
   "name": "python",
   "nbconvert_exporter": "python",
   "pygments_lexer": "ipython2",
   "version": "2.7.6"
  }
 },
 "nbformat": 4,
 "nbformat_minor": 5
}
