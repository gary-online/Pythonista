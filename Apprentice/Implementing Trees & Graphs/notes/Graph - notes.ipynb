{
 "cells": [
  {
   "cell_type": "code",
   "execution_count": 43,
   "id": "initial_id",
   "metadata": {
    "collapsed": true,
    "ExecuteTime": {
     "end_time": "2023-12-27T19:29:55.091243986Z",
     "start_time": "2023-12-27T19:29:55.084638176Z"
    }
   },
   "outputs": [],
   "source": [
    "import abc\n",
    "\n",
    "import numpy as np"
   ]
  },
  {
   "cell_type": "code",
   "outputs": [],
   "source": [
    "class Graph(abc.ABC):\n",
    "\n",
    "    def __init__(self, num_vertices, directed=False):\n",
    "        self.num_vertices = num_vertices\n",
    "        self.directed = directed\n",
    "\n",
    "    @abc.abstractmethod  \n",
    "    def add_edge(self, v1, v2, weight):\n",
    "        pass\n",
    "\n",
    "    @abc.abstractmethod\n",
    "    def remove_edge(self, v1, v2, weight):\n",
    "        pass\n",
    "\n",
    "    @abc.abstractmethod\n",
    "    def get_adjacent_vertices(self, v):\n",
    "        pass\n",
    "\n",
    "    @abc.abstractmethod\n",
    "    def is_adjacent(self, v1, v2):\n",
    "        pass\n",
    " \n",
    "    @abc.abstractmethod\n",
    "    def get_indegree(self, v):\n",
    "        pass\n",
    "\n",
    "    @abc.abstractmethod\n",
    "    def get_edge_weight(self, v1, v2):\n",
    "        pass\n",
    "\n",
    "    @abc.abstractmethod\n",
    "    def show(self):\n",
    "        pass"
   ],
   "metadata": {
    "collapsed": false,
    "ExecuteTime": {
     "end_time": "2023-12-27T19:29:55.476293346Z",
     "start_time": "2023-12-27T19:29:55.473136196Z"
    }
   },
   "id": "b7e59f32b97e4a55",
   "execution_count": 44
  },
  {
   "cell_type": "code",
   "outputs": [],
   "source": [
    "class Vertex:\n",
    "    def __init__(self, id):\n",
    "        self.id = id\n",
    "        self.adjacency_set = set()\n",
    "\n",
    "    def add_edge(self, v):\n",
    "        if self.id == v:\n",
    "            raise ValueError(\"The vertex %d cannot be adjacent to itself\" % v)\n",
    "\n",
    "        self.adjacency_set.add(v)\n",
    "\n",
    "    def remove_edge(self, v):\n",
    "        if self.id == v:\n",
    "            raise ValueError(\"The vertex %d cannot be adjacent to itself\" % v)\n",
    "\n",
    "        self.adjacency_set.remove(v)\n",
    "\n",
    "    def get_adjacent_vertices(self):\n",
    "        return sorted(self.adjacency_set)\n",
    "    \n",
    "    def is_adjacent(self, v):\n",
    "        return v in self.adjacency_set"
   ],
   "metadata": {
    "collapsed": false,
    "ExecuteTime": {
     "end_time": "2023-12-27T19:29:55.929891391Z",
     "start_time": "2023-12-27T19:29:55.926411235Z"
    }
   },
   "id": "a25ff62b62b5e450",
   "execution_count": 45
  },
  {
   "cell_type": "code",
   "outputs": [],
   "source": [
    "class AdjacencySetGraph(Graph):\n",
    "\n",
    "    def __init__(self, num_vertices, directed=False):\n",
    "        super(AdjacencySetGraph, self).__init__(num_vertices, directed)\n",
    "\n",
    "        self.vertex_list = []\n",
    "        for i in range(num_vertices):\n",
    "            v = Vertex(i)\n",
    "\n",
    "            self.vertex_list.append(v)\n",
    "\n",
    "    def add_edge(self, v1, v2, weight=1):\n",
    "        if v1 >= self.num_vertices or v2 >= self.num_vertices or v1 < 0 or v2 < 0:\n",
    "            raise ValueError(\"Vertices %d and %d are out of bounds\" % (v1, v2))\n",
    "\n",
    "        if weight != 1:\n",
    "            raise ValueError(\"An adjacency set cannot represent edge weights > 1\")\n",
    "\n",
    "        self.vertex_list[v1].add_edge(v2)\n",
    "        \n",
    "        if self.directed == False:\n",
    "            self.vertex_list[v2].add_edge(v1)\n",
    "\n",
    "    def remove_edge(self, v1, v2):\n",
    "        if v1 >= self.num_vertices or v2 >= self.num_vertices or v1 < 0 or v2 < 0:\n",
    "            raise ValueError(\"Vertices %d and %d are out of bounds\" % (v1, v2))\n",
    "\n",
    "        self.vertex_list[v1].remove_edge(v2)\n",
    "        \n",
    "        if self.directed == False:\n",
    "            self.vertex_list[v2].remove_edge(v1)\n",
    "\n",
    "\n",
    "    def get_adjacent_vertices(self, v):\n",
    "        if v < 0 or v >= self.num_vertices:\n",
    "            raise ValueError(\"Cannot access vertex %d\" % v)\n",
    "\n",
    "        return self.vertex_list[v].get_adjacent_vertices()\n",
    "   \n",
    "    def is_adjacent(self, v1, v2):\n",
    "        if v1 >= self.num_vertices or v2 >= self.num_vertices or v1 < 0 or v2 < 0:\n",
    "            raise ValueError(\"Vertices %d and %d are out of bounds\" % (v1, v2))\n",
    "\n",
    "        return self.vertex_list[v1].is_adjacent(v2) or self.vertex_list[v2].is_adjacent(v1)\n",
    "\n",
    "    def get_indegree(self, v):\n",
    "        if v < 0 or v >= self.num_vertices:\n",
    "            raise ValueError(\"Cannot access vertex %d\" % v)\n",
    "\n",
    "        indegree = 0\n",
    "        for i in range(self.num_vertices):\n",
    "            if i == v:\n",
    "                continue\n",
    "            if v in self.get_adjacent_vertices(i):\n",
    "                indegree = indegree + 1\n",
    "\n",
    "        return indegree\t\n",
    "\n",
    "    def get_edge_weight(self, v1, v2):\n",
    "        return 1\n",
    "\n",
    "    def show(self):\n",
    "        for i in range(self.num_vertices):\n",
    "            for v in self.get_adjacent_vertices(i):\n",
    "                print(i, \"-->\", v)"
   ],
   "metadata": {
    "collapsed": false,
    "ExecuteTime": {
     "end_time": "2023-12-27T19:29:56.477759377Z",
     "start_time": "2023-12-27T19:29:56.475718281Z"
    }
   },
   "id": "55d06aff70130b9c",
   "execution_count": 46
  },
  {
   "cell_type": "code",
   "outputs": [],
   "source": [
    "g = AdjacencySetGraph(4)\n",
    "\n",
    "g.add_edge(0, 1)\n",
    "g.add_edge(0, 3)\n",
    "g.add_edge(1, 3)\n",
    "g.add_edge(3, 2)"
   ],
   "metadata": {
    "collapsed": false,
    "ExecuteTime": {
     "end_time": "2023-12-27T19:29:57.061224180Z",
     "start_time": "2023-12-27T19:29:57.057399527Z"
    }
   },
   "id": "c6b3976b7251a19d",
   "execution_count": 47
  },
  {
   "cell_type": "code",
   "outputs": [
    {
     "name": "stdout",
     "output_type": "stream",
     "text": [
      "0 --> 1\n",
      "0 --> 3\n",
      "1 --> 0\n",
      "1 --> 3\n",
      "2 --> 3\n",
      "3 --> 0\n",
      "3 --> 1\n",
      "3 --> 2\n"
     ]
    }
   ],
   "source": [
    "g.show()"
   ],
   "metadata": {
    "collapsed": false,
    "ExecuteTime": {
     "end_time": "2023-12-27T19:29:57.524965934Z",
     "start_time": "2023-12-27T19:29:57.519905979Z"
    }
   },
   "id": "b40b4d6aeb75f961",
   "execution_count": 48
  },
  {
   "cell_type": "code",
   "outputs": [
    {
     "name": "stdout",
     "output_type": "stream",
     "text": [
      "Adjacent to:  0 [1, 3]\n",
      "Adjacent to:  1 [0, 3]\n",
      "Adjacent to:  2 [3]\n",
      "Adjacent to:  3 [0, 1, 2]\n"
     ]
    }
   ],
   "source": [
    "for i in range(4):\n",
    "    print(\"Adjacent to: \", i, g.get_adjacent_vertices(i))"
   ],
   "metadata": {
    "collapsed": false,
    "ExecuteTime": {
     "end_time": "2023-12-27T19:29:58.026585274Z",
     "start_time": "2023-12-27T19:29:58.020964880Z"
    }
   },
   "id": "9d52c0377876585d",
   "execution_count": 49
  },
  {
   "cell_type": "code",
   "outputs": [
    {
     "name": "stdout",
     "output_type": "stream",
     "text": [
      "Indegree for vertex 0 is 2\n",
      "Indegree for vertex 1 is 2\n",
      "Indegree for vertex 2 is 1\n",
      "Indegree for vertex 3 is 3\n"
     ]
    }
   ],
   "source": [
    "for i in range(4):\n",
    "     print(\"Indegree for vertex %d is %d\" % (i, g.get_indegree(i)))"
   ],
   "metadata": {
    "collapsed": false,
    "ExecuteTime": {
     "end_time": "2023-12-27T19:29:59.068696571Z",
     "start_time": "2023-12-27T19:29:59.062851048Z"
    }
   },
   "id": "332cadb34d069c6b",
   "execution_count": 50
  },
  {
   "cell_type": "code",
   "outputs": [
    {
     "name": "stdout",
     "output_type": "stream",
     "text": [
      "0 --> 1\n",
      "0 --> 3\n",
      "1 --> 0\n",
      "1 --> 3\n",
      "3 --> 0\n",
      "3 --> 1\n"
     ]
    }
   ],
   "source": [
    "g.remove_edge(2, 3)\n",
    "\n",
    "g.show()"
   ],
   "metadata": {
    "collapsed": false,
    "ExecuteTime": {
     "end_time": "2023-12-27T19:29:59.751931723Z",
     "start_time": "2023-12-27T19:29:59.743883291Z"
    }
   },
   "id": "73486e2689ec8b70",
   "execution_count": 51
  },
  {
   "cell_type": "code",
   "outputs": [
    {
     "name": "stdout",
     "output_type": "stream",
     "text": [
      "Adjacent to:  0 [1, 3]\n",
      "Adjacent to:  1 [0, 3]\n",
      "Adjacent to:  2 []\n",
      "Adjacent to:  3 [0, 1]\n"
     ]
    }
   ],
   "source": [
    "for i in range(4):\n",
    "    print(\"Adjacent to: \", i, g.get_adjacent_vertices(i))"
   ],
   "metadata": {
    "collapsed": false,
    "ExecuteTime": {
     "end_time": "2023-12-27T19:30:00.293910371Z",
     "start_time": "2023-12-27T19:30:00.291117059Z"
    }
   },
   "id": "1eea1e9337efc961",
   "execution_count": 52
  },
  {
   "cell_type": "code",
   "outputs": [
    {
     "data": {
      "text/plain": "True"
     },
     "execution_count": 53,
     "metadata": {},
     "output_type": "execute_result"
    }
   ],
   "source": [
    "g.is_adjacent(0, 1)"
   ],
   "metadata": {
    "collapsed": false,
    "ExecuteTime": {
     "end_time": "2023-12-27T19:30:01.095577158Z",
     "start_time": "2023-12-27T19:30:01.090978617Z"
    }
   },
   "id": "5fe7e40766b481f0",
   "execution_count": 53
  },
  {
   "cell_type": "code",
   "outputs": [
    {
     "data": {
      "text/plain": "False"
     },
     "execution_count": 54,
     "metadata": {},
     "output_type": "execute_result"
    }
   ],
   "source": [
    "g.is_adjacent(0, 2)"
   ],
   "metadata": {
    "collapsed": false,
    "ExecuteTime": {
     "end_time": "2023-12-27T19:30:01.643339563Z",
     "start_time": "2023-12-27T19:30:01.638619381Z"
    }
   },
   "id": "795677c16f318fd",
   "execution_count": 54
  },
  {
   "cell_type": "code",
   "outputs": [],
   "source": [
    "g = AdjacencySetGraph(4, directed=True)\n",
    "\n",
    "g.add_edge(0, 1)\n",
    "g.add_edge(0, 3)\n",
    "g.add_edge(1, 3)\n",
    "g.add_edge(3, 2)"
   ],
   "metadata": {
    "collapsed": false,
    "ExecuteTime": {
     "end_time": "2023-12-27T19:30:02.289434930Z",
     "start_time": "2023-12-27T19:30:02.285399762Z"
    }
   },
   "id": "bd30b71d3bc577ae",
   "execution_count": 55
  },
  {
   "cell_type": "code",
   "outputs": [
    {
     "name": "stdout",
     "output_type": "stream",
     "text": [
      "0 --> 1\n",
      "0 --> 3\n",
      "1 --> 3\n",
      "3 --> 2\n"
     ]
    }
   ],
   "source": [
    "g.show()"
   ],
   "metadata": {
    "collapsed": false,
    "ExecuteTime": {
     "end_time": "2023-12-27T19:30:02.864289383Z",
     "start_time": "2023-12-27T19:30:02.822757824Z"
    }
   },
   "id": "ea739a58a91bd3c8",
   "execution_count": 56
  },
  {
   "cell_type": "code",
   "outputs": [
    {
     "name": "stdout",
     "output_type": "stream",
     "text": [
      "Adjacent to:  0 [1, 3]\n",
      "Adjacent to:  1 [3]\n",
      "Adjacent to:  2 []\n",
      "Adjacent to:  3 [2]\n"
     ]
    }
   ],
   "source": [
    "for i in range(4):\n",
    "    print(\"Adjacent to: \", i, g.get_adjacent_vertices(i))"
   ],
   "metadata": {
    "collapsed": false,
    "ExecuteTime": {
     "end_time": "2023-12-27T19:30:03.785421183Z",
     "start_time": "2023-12-27T19:30:03.778739055Z"
    }
   },
   "id": "92d926d45b60f3a",
   "execution_count": 57
  },
  {
   "cell_type": "code",
   "outputs": [
    {
     "name": "stdout",
     "output_type": "stream",
     "text": [
      "Indegree for vertex 0 is 0\n",
      "Indegree for vertex 1 is 1\n",
      "Indegree for vertex 2 is 1\n",
      "Indegree for vertex 3 is 2\n"
     ]
    }
   ],
   "source": [
    "for i in range(4):\n",
    "    print(\"Indegree for vertex %d is %d\" % (i, g.get_indegree(i)))"
   ],
   "metadata": {
    "collapsed": false,
    "ExecuteTime": {
     "end_time": "2023-12-27T19:30:04.248386764Z",
     "start_time": "2023-12-27T19:30:04.244428183Z"
    }
   },
   "id": "bd439854a8d1fe24",
   "execution_count": 58
  },
  {
   "cell_type": "code",
   "outputs": [],
   "source": [
    "class AdjacencyMatrixGraph(Graph):\n",
    "\n",
    "    def __init__(self, num_vertices, directed=False):\n",
    "        super(AdjacencyMatrixGraph, self).__init__(num_vertices, directed)\n",
    "\n",
    "        self.matrix = np.zeros((num_vertices, num_vertices)) \n",
    "\n",
    "    def add_edge(self, v1, v2, weight=1):\n",
    "        if v1 >= self.num_vertices or v2 >= self.num_vertices or v1 < 0 or v2 < 0:\n",
    "            raise ValueError(\"Vertices %d and %d are out of bounds\" % (v1, v2))\n",
    "\n",
    "        if weight == 0:\n",
    "            raise ValueError(\"Edges cannot have a weight of 0\")\n",
    "\n",
    "        self.matrix[v1][v2] = weight\n",
    "        if self.directed == False:\n",
    "            self.matrix[v2][v1] = weight\n",
    "\n",
    "    def remove_edge(self, v1, v2):\n",
    "        if v1 >= self.num_vertices or v2 >= self.num_vertices or v1 < 0 or v2 < 0:\n",
    "            raise ValueError(\"Vertices %d and %d are out of bounds\" % (v1, v2))\n",
    "\n",
    "        self.matrix[v1][v2] = 0\n",
    "        if self.directed == False:\n",
    "            self.matrix[v2][v1] = 0\n",
    "\n",
    "    def get_adjacent_vertices(self, v):\n",
    "        if v < 0 or v >= self.num_vertices:\n",
    "            raise ValueError(\"Cannot access vertex %d\" % v)\n",
    "\n",
    "        adjacent_vertices = []\n",
    "        for i in range(self.num_vertices):\n",
    "            if self.matrix[v][i] > 0:\n",
    "                adjacent_vertices.append(i)\n",
    "\n",
    "        return adjacent_vertices\n",
    "    \n",
    "    def is_adjacent(self, v1, v2):\n",
    "        if v1 >= self.num_vertices or v2 >= self.num_vertices or v1 < 0 or v2 < 0:\n",
    "            raise ValueError(\"Vertices %d and %d are out of bounds\" % (v1, v2))\n",
    "\n",
    "        return self.matrix[v1][v2] != 0\n",
    "\n",
    "    def get_indegree(self, v):\n",
    "        if v < 0 or v >= self.num_vertices:\n",
    "            raise ValueError(\"Cannot access vertex %d\" % v)\n",
    "\n",
    "        indegree = 0\n",
    "        for i in range(self.num_vertices):\n",
    "            if self.matrix[i][v] > 0:\n",
    "                indegree = indegree + 1\n",
    "\n",
    "        return indegree\n",
    "\n",
    "    def get_edge_weight(self, v1, v2):\n",
    "        return self.matrix[v1][v2]\n",
    "\n",
    "    def show(self):\n",
    "        for i in range(self.num_vertices):\n",
    "            for v in self.get_adjacent_vertices(i):\n",
    "                print(i, \"-->\", v)\n",
    "        "
   ],
   "metadata": {
    "collapsed": false,
    "ExecuteTime": {
     "end_time": "2023-12-27T19:31:32.967957918Z",
     "start_time": "2023-12-27T19:31:32.926969652Z"
    }
   },
   "id": "9e71dd6fcf8e1df4",
   "execution_count": 62
  },
  {
   "cell_type": "code",
   "outputs": [
    {
     "name": "stdout",
     "output_type": "stream",
     "text": [
      "0 --> 1\n",
      "0 --> 3\n",
      "1 --> 0\n",
      "1 --> 3\n",
      "2 --> 3\n",
      "3 --> 0\n",
      "3 --> 1\n",
      "3 --> 2\n"
     ]
    }
   ],
   "source": [
    "g = AdjacencyMatrixGraph(4)\n",
    "\n",
    "g.add_edge(0, 1)\n",
    "g.add_edge(0, 3)\n",
    "g.add_edge(1, 3)\n",
    "g.add_edge(3, 2)\n",
    "\n",
    "g.show()"
   ],
   "metadata": {
    "collapsed": false,
    "ExecuteTime": {
     "end_time": "2023-12-27T19:31:33.388622673Z",
     "start_time": "2023-12-27T19:31:33.385382331Z"
    }
   },
   "id": "2a50871cd22a4013",
   "execution_count": 63
  },
  {
   "cell_type": "code",
   "outputs": [
    {
     "name": "stdout",
     "output_type": "stream",
     "text": [
      "Adjacent to:  0 [1, 3]\n",
      "Adjacent to:  1 [0, 3]\n",
      "Adjacent to:  2 [3]\n",
      "Adjacent to:  3 [0, 1, 2]\n"
     ]
    }
   ],
   "source": [
    "for i in range(4):\n",
    "    print(\"Adjacent to: \", i, g.get_adjacent_vertices(i))"
   ],
   "metadata": {
    "collapsed": false,
    "ExecuteTime": {
     "end_time": "2023-12-27T19:32:26.724105040Z",
     "start_time": "2023-12-27T19:32:26.674251976Z"
    }
   },
   "id": "f619461388bd1d7",
   "execution_count": 64
  },
  {
   "cell_type": "code",
   "outputs": [
    {
     "name": "stdout",
     "output_type": "stream",
     "text": [
      "0 --> 1\n",
      "0 --> 3\n",
      "1 --> 3\n",
      "3 --> 2\n"
     ]
    }
   ],
   "source": [
    "g = AdjacencyMatrixGraph(4, directed=True)\n",
    "\n",
    "g.add_edge(0, 1)\n",
    "g.add_edge(0, 3)\n",
    "g.add_edge(1, 3)\n",
    "g.add_edge(3, 2)\n",
    "\n",
    "g.show()"
   ],
   "metadata": {
    "collapsed": false,
    "ExecuteTime": {
     "end_time": "2023-12-27T19:33:24.244002057Z",
     "start_time": "2023-12-27T19:33:24.201403492Z"
    }
   },
   "id": "9a28f0ea0658317b",
   "execution_count": 65
  },
  {
   "cell_type": "code",
   "outputs": [
    {
     "name": "stdout",
     "output_type": "stream",
     "text": [
      "Adjacent to:  0 [1, 3]\n",
      "Adjacent to:  1 [3]\n",
      "Adjacent to:  2 []\n",
      "Adjacent to:  3 [2]\n"
     ]
    }
   ],
   "source": [
    "for i in range(4):\n",
    "    print(\"Adjacent to: \", i, g.get_adjacent_vertices(i))"
   ],
   "metadata": {
    "collapsed": false,
    "ExecuteTime": {
     "end_time": "2023-12-27T19:34:22.091777120Z",
     "start_time": "2023-12-27T19:34:22.029307551Z"
    }
   },
   "id": "e55fd23e17629f54",
   "execution_count": 66
  },
  {
   "cell_type": "code",
   "outputs": [],
   "source": [],
   "metadata": {
    "collapsed": false
   },
   "id": "a56fbfda413efe8b"
  }
 ],
 "metadata": {
  "kernelspec": {
   "display_name": "Python 3",
   "language": "python",
   "name": "python3"
  },
  "language_info": {
   "codemirror_mode": {
    "name": "ipython",
    "version": 2
   },
   "file_extension": ".py",
   "mimetype": "text/x-python",
   "name": "python",
   "nbconvert_exporter": "python",
   "pygments_lexer": "ipython2",
   "version": "2.7.6"
  }
 },
 "nbformat": 4,
 "nbformat_minor": 5
}
