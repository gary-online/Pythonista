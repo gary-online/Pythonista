{
 "cells": [
  {
   "cell_type": "code",
   "execution_count": 1,
   "id": "initial_id",
   "metadata": {
    "collapsed": true,
    "ExecuteTime": {
     "end_time": "2023-12-26T20:08:33.459751622Z",
     "start_time": "2023-12-26T20:08:33.450960614Z"
    }
   },
   "outputs": [],
   "source": [
    "def binary_search(sorted_list, key):\n",
    "    min_index = 0\n",
    "    max_index = len(sorted_list) - 1\n",
    "    \n",
    "    while min_index <= max_index:\n",
    "        mid = (min_index + max_index) // 2\n",
    "        \n",
    "        if sorted_list[mid] == key:\n",
    "            return mid\n",
    "        elif sorted_list[mid] < key:\n",
    "            min_index = mid + 1\n",
    "        else:\n",
    "            max_index = mid - 1\n",
    "    \n",
    "    return -1"
   ]
  },
  {
   "cell_type": "code",
   "outputs": [],
   "source": [
    "num_list = [25, 29, 32, 34, 37, 43, 45, 59, 55, 66, 78, 89, 99] # A binary search only works on a list in ascending order!"
   ],
   "metadata": {
    "collapsed": false,
    "ExecuteTime": {
     "end_time": "2023-12-26T20:13:20.926396893Z",
     "start_time": "2023-12-26T20:13:20.882246425Z"
    }
   },
   "id": "d8d9334f4d9e3467",
   "execution_count": 3
  },
  {
   "cell_type": "code",
   "outputs": [
    {
     "data": {
      "text/plain": "6"
     },
     "execution_count": 5,
     "metadata": {},
     "output_type": "execute_result"
    }
   ],
   "source": [
    "binary_search(num_list, 45) # The number 45 is at the 7th spot in the list, but \"index 6.\" Remember, in programming, we start at 0!"
   ],
   "metadata": {
    "collapsed": false,
    "ExecuteTime": {
     "end_time": "2023-12-26T20:13:57.250383369Z",
     "start_time": "2023-12-26T20:13:57.207109976Z"
    }
   },
   "id": "75421a1f3161e154",
   "execution_count": 5
  },
  {
   "cell_type": "code",
   "outputs": [
    {
     "data": {
      "text/plain": "2"
     },
     "execution_count": 6,
     "metadata": {},
     "output_type": "execute_result"
    }
   ],
   "source": [
    "binary_search(num_list, 32) # The number 32 is at \"index 2\""
   ],
   "metadata": {
    "collapsed": false,
    "ExecuteTime": {
     "end_time": "2023-12-26T20:14:04.290455772Z",
     "start_time": "2023-12-26T20:14:04.243851798Z"
    }
   },
   "id": "ac1c1ebca29ff088",
   "execution_count": 6
  },
  {
   "cell_type": "code",
   "outputs": [
    {
     "data": {
      "text/plain": "12"
     },
     "execution_count": 7,
     "metadata": {},
     "output_type": "execute_result"
    }
   ],
   "source": [
    "binary_search(num_list, 99) # The number 99 is at \"index 12.\""
   ],
   "metadata": {
    "collapsed": false,
    "ExecuteTime": {
     "end_time": "2023-12-26T20:14:13.622566564Z",
     "start_time": "2023-12-26T20:14:13.614348933Z"
    }
   },
   "id": "bb14675ee2e15a2e",
   "execution_count": 7
  },
  {
   "cell_type": "code",
   "outputs": [
    {
     "data": {
      "text/plain": "-1"
     },
     "execution_count": 9,
     "metadata": {},
     "output_type": "execute_result"
    }
   ],
   "source": [
    "binary_search(num_list, 88) # The element was not in the list, so we \"returned -1\" as coded in the above function."
   ],
   "metadata": {
    "collapsed": false,
    "ExecuteTime": {
     "end_time": "2023-12-26T20:15:50.345342894Z",
     "start_time": "2023-12-26T20:15:50.340475158Z"
    }
   },
   "id": "6bf6919763a09428",
   "execution_count": 9
  },
  {
   "cell_type": "code",
   "outputs": [],
   "source": [],
   "metadata": {
    "collapsed": false
   },
   "id": "f039880fb2871427"
  }
 ],
 "metadata": {
  "kernelspec": {
   "display_name": "Python 3",
   "language": "python",
   "name": "python3"
  },
  "language_info": {
   "codemirror_mode": {
    "name": "ipython",
    "version": 2
   },
   "file_extension": ".py",
   "mimetype": "text/x-python",
   "name": "python",
   "nbconvert_exporter": "python",
   "pygments_lexer": "ipython2",
   "version": "2.7.6"
  }
 },
 "nbformat": 4,
 "nbformat_minor": 5
}
