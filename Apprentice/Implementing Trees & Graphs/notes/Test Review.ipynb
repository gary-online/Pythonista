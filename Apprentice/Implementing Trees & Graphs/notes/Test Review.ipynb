{
 "cells": [
  {
   "cell_type": "markdown",
   "source": [
    "# In a directed graph represented by an adjacency set, what do the nodes in the adjacency set of a vertex represent?\n",
    "    The nodes to which the vertex has an outgoing edge\n",
    "    \n",
    "# Which of these fields is NOT part of a node of a Binary Search Tree (BST)?\n",
    "    The parent of the node\n",
    "    \n",
    "# Which statements about adjacency matrix representations of graphs are TRUE?\n",
    "    It allows the weight of each edge to be stored\n",
    "    If V is the number of vertices, the size of the matrix is VxV\n",
    "    \n",
    "# What property must be fulfilled by an array for a binary sort to be applied on it?\n",
    "    It needs to be sorted\n",
    "    \n",
    "# Where in a binary search tree can the maximum value be found?\n",
    "    At the right-most node\n",
    "    \n",
    "# In a breadth first traversal of a binary search tree, what is the second node to be visited?\n",
    "    The left child of the root\n",
    "    \n",
    "# What is meant by the indegree of a vertex in a graph?\n",
    "    The number of edges terminating at the vertex\n",
    "    \n",
    "# What statements regarding graph traversals are TRUE?\n",
    "    We must account for nodes which have already been visited\n",
    "    The order of the traversal depends on the node from which it starts\n",
    "    \n",
    "# Which of the following statements about adjacency sets are TRUE?\n",
    "    Each element in the adjacency set of a vertex represents an edge\n",
    "    There is a set of adjacent vertices associated with each vertex\n",
    "    \n",
    "# In which of these binary search tree traversals is the root the last of the elements to be visited?\n",
    "    Post-order\n",
    "    \n",
    "# Which of these data structures is used when performing a breadth first search?\n",
    "    Queue\n",
    "    \n",
    "# A graph has 4 vertices A, B, C and D with the following indegrees: A:1, B:3, C:0, D:2? \n",
    "    C:0\n",
    "    \n"
   ],
   "metadata": {
    "collapsed": false
   },
   "id": "f92dd10350dafbaa"
  }
 ],
 "metadata": {
  "kernelspec": {
   "display_name": "Python 3",
   "language": "python",
   "name": "python3"
  },
  "language_info": {
   "codemirror_mode": {
    "name": "ipython",
    "version": 2
   },
   "file_extension": ".py",
   "mimetype": "text/x-python",
   "name": "python",
   "nbconvert_exporter": "python",
   "pygments_lexer": "ipython2",
   "version": "2.7.6"
  }
 },
 "nbformat": 4,
 "nbformat_minor": 5
}
