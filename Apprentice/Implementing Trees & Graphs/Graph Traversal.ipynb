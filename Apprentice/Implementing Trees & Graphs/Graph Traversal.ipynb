{
 "cells": [
  {
   "cell_type": "markdown",
   "metadata": {},
   "source": [
    "## BFS and DFS"
   ]
  },
  {
   "cell_type": "code",
   "execution_count": 1,
   "metadata": {
    "collapsed": true,
    "ExecuteTime": {
     "end_time": "2023-12-27T22:34:09.960903152Z",
     "start_time": "2023-12-27T22:34:09.935788416Z"
    }
   },
   "outputs": [],
   "source": [
    "from graph import *"
   ]
  },
  {
   "cell_type": "code",
   "execution_count": 2,
   "metadata": {
    "collapsed": true,
    "ExecuteTime": {
     "end_time": "2023-12-27T22:34:09.974325544Z",
     "start_time": "2023-12-27T22:34:09.959049508Z"
    }
   },
   "outputs": [],
   "source": [
    "from queue import Queue\n",
    "import numpy as np"
   ]
  },
  {
   "cell_type": "code",
   "execution_count": 3,
   "metadata": {
    "collapsed": true,
    "ExecuteTime": {
     "end_time": "2023-12-27T22:34:10.436266802Z",
     "start_time": "2023-12-27T22:34:10.431656077Z"
    }
   },
   "outputs": [],
   "source": [
    "def breadth_first(graph, start=0):\n",
    "\n",
    "    queue = Queue()\n",
    "    queue.put(start)\n",
    "\n",
    "    visited = np.full((graph.num_vertices, ), False, dtype=bool)\n",
    "\n",
    "    while not queue.empty():\n",
    "        vertex = queue.get()\n",
    "\n",
    "        if visited[vertex]:\n",
    "            continue\n",
    "\n",
    "        print(\"Visited: \", vertex)\n",
    "        visited[vertex] = True\n",
    "\n",
    "        for v in graph.get_adjacent_vertices(vertex):\n",
    "            if not visited[v]:\n",
    "                queue.put(v)"
   ]
  },
  {
   "cell_type": "code",
   "execution_count": 4,
   "metadata": {
    "ExecuteTime": {
     "end_time": "2023-12-27T22:34:10.849692650Z",
     "start_time": "2023-12-27T22:34:10.848272936Z"
    }
   },
   "outputs": [
    {
     "name": "stdout",
     "output_type": "stream",
     "text": [
      "0 --> 1\n",
      "0 --> 2\n",
      "1 --> 0\n",
      "1 --> 5\n",
      "2 --> 0\n",
      "2 --> 3\n",
      "2 --> 4\n",
      "2 --> 5\n",
      "3 --> 2\n",
      "3 --> 4\n",
      "3 --> 7\n",
      "4 --> 2\n",
      "4 --> 3\n",
      "5 --> 1\n",
      "5 --> 2\n",
      "5 --> 6\n",
      "6 --> 5\n",
      "7 --> 3\n"
     ]
    }
   ],
   "source": [
    "g = AdjacencyMatrixGraph(9)\n",
    "\n",
    "g.add_edge(0, 1)\n",
    "g.add_edge(0, 2)\n",
    "g.add_edge(2, 5)\n",
    "g.add_edge(2, 4)\n",
    "g.add_edge(2, 3)\n",
    "g.add_edge(1, 5)\n",
    "g.add_edge(5, 6)\n",
    "g.add_edge(7, 3)\n",
    "g.add_edge(3, 4)\n",
    "g.add_edge(2, 5)\n",
    "\n",
    "g.show()"
   ]
  },
  {
   "cell_type": "code",
   "execution_count": 5,
   "metadata": {
    "ExecuteTime": {
     "end_time": "2023-12-27T22:34:12.820666491Z",
     "start_time": "2023-12-27T22:34:12.816428489Z"
    }
   },
   "outputs": [
    {
     "name": "stdout",
     "output_type": "stream",
     "text": [
      "Visited:  2\n",
      "Visited:  0\n",
      "Visited:  3\n",
      "Visited:  4\n",
      "Visited:  5\n",
      "Visited:  1\n",
      "Visited:  7\n",
      "Visited:  6\n"
     ]
    }
   ],
   "source": [
    "breadth_first(g, 2)"
   ]
  },
  {
   "cell_type": "code",
   "execution_count": 7,
   "metadata": {
    "collapsed": true,
    "ExecuteTime": {
     "end_time": "2023-12-27T22:39:10.059995821Z",
     "start_time": "2023-12-27T22:39:10.019300451Z"
    }
   },
   "outputs": [],
   "source": [
    "def depth_first(graph, visited, current=0):\n",
    "    if visited[current]:\n",
    "        return\n",
    "\n",
    "    visited[current] = True\n",
    "\n",
    "    print(\"Visited: \", current)\n",
    "    \n",
    "    for vertex in graph.get_adjacent_vertices(current):\n",
    "        depth_first(graph, visited, vertex)"
   ]
  },
  {
   "cell_type": "code",
   "execution_count": 8,
   "metadata": {
    "ExecuteTime": {
     "end_time": "2023-12-27T22:39:10.474268722Z",
     "start_time": "2023-12-27T22:39:10.472000895Z"
    }
   },
   "outputs": [
    {
     "name": "stdout",
     "output_type": "stream",
     "text": [
      "Visited:  0\n",
      "Visited:  1\n",
      "Visited:  5\n",
      "Visited:  2\n",
      "Visited:  3\n",
      "Visited:  4\n",
      "Visited:  7\n",
      "Visited:  6\n"
     ]
    }
   ],
   "source": [
    "visited = np.full((g.num_vertices, ), False, dtype=bool)\n",
    "\n",
    "depth_first(g, visited)"
   ]
  },
  {
   "cell_type": "code",
   "execution_count": null,
   "metadata": {
    "collapsed": true
   },
   "outputs": [],
   "source": []
  },
  {
   "cell_type": "code",
   "execution_count": null,
   "metadata": {
    "collapsed": true
   },
   "outputs": [],
   "source": []
  }
 ],
 "metadata": {
  "kernelspec": {
   "display_name": "Python 3",
   "language": "python",
   "name": "python3"
  },
  "language_info": {
   "codemirror_mode": {
    "name": "ipython",
    "version": 3
   },
   "file_extension": ".py",
   "mimetype": "text/x-python",
   "name": "python",
   "nbconvert_exporter": "python",
   "pygments_lexer": "ipython3",
   "version": "3.6.8"
  }
 },
 "nbformat": 4,
 "nbformat_minor": 2
}
