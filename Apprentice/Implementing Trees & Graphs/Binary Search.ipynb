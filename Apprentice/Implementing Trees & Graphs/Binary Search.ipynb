{
 "cells": [
  {
   "cell_type": "markdown",
   "metadata": {},
   "source": [
    "## Binary Search"
   ]
  },
  {
   "cell_type": "markdown",
   "metadata": {},
   "source": [
    "* Binary Search : In computer science, a binary search or half-interval search algorithm finds the position of a target value within a sorted list.\n",
    "* Binary search is only applicable for the sorted list\n",
    "* the complexity of binary search is O(log(n)).Each time it goes to the half of the range, so its reducing the search limit on each time\n",
    "* The binary search algorithm can be classified as divide-and-conquer search algorithm and executes in logarithmic time."
   ]
  },
  {
   "cell_type": "code",
   "execution_count": 1,
   "metadata": {
    "collapsed": true,
    "ExecuteTime": {
     "end_time": "2023-12-26T20:10:08.984844483Z",
     "start_time": "2023-12-26T20:10:08.980641783Z"
    }
   },
   "outputs": [],
   "source": [
    "def binary_search(sorted_list, key):\n",
    "    min_index = 0\n",
    "    max_index = len(sorted_list) - 1\n",
    "    \n",
    "    while(min_index <= max_index):\n",
    "        mid = (min_index + max_index) // 2\n",
    "\n",
    "        if sorted_list[mid] == key:\n",
    "            return mid\n",
    "        elif sorted_list[mid] < key:\n",
    "            min_index = mid + 1\n",
    "        else:\n",
    "            max_index = mid - 1\n",
    "            \n",
    "    return -1"
   ]
  },
  {
   "cell_type": "code",
   "execution_count": 2,
   "metadata": {
    "collapsed": true,
    "ExecuteTime": {
     "end_time": "2023-12-26T20:10:08.993012079Z",
     "start_time": "2023-12-26T20:10:08.985873168Z"
    }
   },
   "outputs": [],
   "source": [
    "num_list = [25, 29, 32, 34, 37, 43, 45, 49, 55, 66, 78, 89, 99]"
   ]
  },
  {
   "cell_type": "markdown",
   "metadata": {},
   "source": [
    "* When you will call the function we needs to give the list and the element/key which you needs t search. If the element is there then it will return index of the element.\n",
    "* If the element is not present in the list, then it will return -1"
   ]
  },
  {
   "cell_type": "code",
   "execution_count": 3,
   "metadata": {
    "ExecuteTime": {
     "end_time": "2023-12-26T20:10:08.996458617Z",
     "start_time": "2023-12-26T20:10:08.993331894Z"
    }
   },
   "outputs": [
    {
     "data": {
      "text/plain": "6"
     },
     "execution_count": 3,
     "metadata": {},
     "output_type": "execute_result"
    }
   ],
   "source": [
    "binary_search(num_list, 45)"
   ]
  },
  {
   "cell_type": "code",
   "execution_count": 4,
   "metadata": {
    "ExecuteTime": {
     "end_time": "2023-12-26T20:10:09.025641861Z",
     "start_time": "2023-12-26T20:10:08.996718748Z"
    }
   },
   "outputs": [
    {
     "data": {
      "text/plain": "2"
     },
     "execution_count": 4,
     "metadata": {},
     "output_type": "execute_result"
    }
   ],
   "source": [
    "binary_search(num_list, 32)"
   ]
  },
  {
   "cell_type": "code",
   "execution_count": 5,
   "metadata": {
    "ExecuteTime": {
     "end_time": "2023-12-26T20:10:09.043879131Z",
     "start_time": "2023-12-26T20:10:09.042903375Z"
    }
   },
   "outputs": [
    {
     "data": {
      "text/plain": "10"
     },
     "execution_count": 5,
     "metadata": {},
     "output_type": "execute_result"
    }
   ],
   "source": [
    "binary_search(num_list, 78)"
   ]
  },
  {
   "cell_type": "code",
   "execution_count": 6,
   "metadata": {
    "ExecuteTime": {
     "end_time": "2023-12-26T20:10:09.044668434Z",
     "start_time": "2023-12-26T20:10:09.043325343Z"
    }
   },
   "outputs": [
    {
     "data": {
      "text/plain": "-1"
     },
     "execution_count": 6,
     "metadata": {},
     "output_type": "execute_result"
    }
   ],
   "source": [
    "binary_search(num_list, 88)"
   ]
  },
  {
   "cell_type": "code",
   "execution_count": 6,
   "metadata": {
    "collapsed": true,
    "ExecuteTime": {
     "end_time": "2023-12-26T20:10:09.045355855Z",
     "start_time": "2023-12-26T20:10:09.043610903Z"
    }
   },
   "outputs": [],
   "source": []
  },
  {
   "cell_type": "code",
   "execution_count": 6,
   "metadata": {
    "collapsed": true,
    "ExecuteTime": {
     "end_time": "2023-12-26T20:10:09.046049557Z",
     "start_time": "2023-12-26T20:10:09.043816082Z"
    }
   },
   "outputs": [],
   "source": []
  },
  {
   "cell_type": "code",
   "execution_count": 6,
   "metadata": {
    "collapsed": true,
    "ExecuteTime": {
     "end_time": "2023-12-26T20:10:09.046573408Z",
     "start_time": "2023-12-26T20:10:09.044241076Z"
    }
   },
   "outputs": [],
   "source": []
  },
  {
   "cell_type": "code",
   "execution_count": 6,
   "metadata": {
    "collapsed": true,
    "ExecuteTime": {
     "end_time": "2023-12-26T20:10:09.081987824Z",
     "start_time": "2023-12-26T20:10:09.044539390Z"
    }
   },
   "outputs": [],
   "source": []
  },
  {
   "cell_type": "code",
   "execution_count": 6,
   "metadata": {
    "collapsed": true,
    "ExecuteTime": {
     "end_time": "2023-12-26T20:10:09.082534337Z",
     "start_time": "2023-12-26T20:10:09.045675720Z"
    }
   },
   "outputs": [],
   "source": []
  },
  {
   "cell_type": "code",
   "execution_count": 6,
   "metadata": {
    "collapsed": true,
    "ExecuteTime": {
     "end_time": "2023-12-26T20:10:09.083208934Z",
     "start_time": "2023-12-26T20:10:09.046003911Z"
    }
   },
   "outputs": [],
   "source": []
  },
  {
   "cell_type": "code",
   "execution_count": 6,
   "metadata": {
    "collapsed": true,
    "ExecuteTime": {
     "end_time": "2023-12-26T20:10:09.083641812Z",
     "start_time": "2023-12-26T20:10:09.046304089Z"
    }
   },
   "outputs": [],
   "source": []
  },
  {
   "cell_type": "code",
   "execution_count": 6,
   "metadata": {
    "collapsed": true,
    "ExecuteTime": {
     "end_time": "2023-12-26T20:10:09.084381201Z",
     "start_time": "2023-12-26T20:10:09.046580722Z"
    }
   },
   "outputs": [],
   "source": []
  },
  {
   "cell_type": "code",
   "execution_count": 6,
   "metadata": {
    "collapsed": true,
    "ExecuteTime": {
     "end_time": "2023-12-26T20:10:09.084803600Z",
     "start_time": "2023-12-26T20:10:09.046960651Z"
    }
   },
   "outputs": [],
   "source": []
  }
 ],
 "metadata": {
  "kernelspec": {
   "display_name": "Python 3",
   "language": "python",
   "name": "python3"
  },
  "language_info": {
   "codemirror_mode": {
    "name": "ipython",
    "version": 3
   },
   "file_extension": ".py",
   "mimetype": "text/x-python",
   "name": "python",
   "nbconvert_exporter": "python",
   "pygments_lexer": "ipython3",
   "version": "3.6.8"
  }
 },
 "nbformat": 4,
 "nbformat_minor": 2
}
