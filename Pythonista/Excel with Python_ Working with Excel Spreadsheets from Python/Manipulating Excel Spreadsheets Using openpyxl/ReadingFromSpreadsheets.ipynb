{
 "cells": [
  {
   "cell_type": "code",
   "execution_count": 32,
   "id": "initial_id",
   "metadata": {
    "collapsed": true,
    "ExecuteTime": {
     "end_time": "2024-01-17T23:51:41.485020225Z",
     "start_time": "2024-01-17T23:51:41.442008035Z"
    }
   },
   "outputs": [],
   "source": [
    "import openpyxl\n",
    "import json\n",
    "from openpyxl import load_workbook\n",
    "from openpyxl import Workbook"
   ]
  },
  {
   "cell_type": "code",
   "outputs": [],
   "source": [
    "work_book = openpyxl.load_workbook('datasets/company_revenue.xlsx')"
   ],
   "metadata": {
    "collapsed": false,
    "ExecuteTime": {
     "end_time": "2024-01-17T23:51:41.844475096Z",
     "start_time": "2024-01-17T23:51:41.837227279Z"
    }
   },
   "id": "8e334df780373c2b",
   "execution_count": 33
  },
  {
   "cell_type": "code",
   "outputs": [
    {
     "data": {
      "text/plain": "['Revenue']"
     },
     "execution_count": 34,
     "metadata": {},
     "output_type": "execute_result"
    }
   ],
   "source": [
    "work_book.sheetnames"
   ],
   "metadata": {
    "collapsed": false,
    "ExecuteTime": {
     "end_time": "2024-01-17T23:51:42.111738717Z",
     "start_time": "2024-01-17T23:51:42.107881497Z"
    }
   },
   "id": "5f0543e2a088a42a",
   "execution_count": 34
  },
  {
   "cell_type": "code",
   "outputs": [],
   "source": [
    "sheet_obj = work_book['Revenue']"
   ],
   "metadata": {
    "collapsed": false,
    "ExecuteTime": {
     "end_time": "2024-01-17T23:51:42.272738370Z",
     "start_time": "2024-01-17T23:51:42.269636430Z"
    }
   },
   "id": "6976e4871554f80b",
   "execution_count": 35
  },
  {
   "cell_type": "code",
   "outputs": [
    {
     "data": {
      "text/plain": "'Revenue'"
     },
     "execution_count": 36,
     "metadata": {},
     "output_type": "execute_result"
    }
   ],
   "source": [
    "sheet_obj.title"
   ],
   "metadata": {
    "collapsed": false,
    "ExecuteTime": {
     "end_time": "2024-01-17T23:51:42.449181894Z",
     "start_time": "2024-01-17T23:51:42.405869949Z"
    }
   },
   "id": "fb94f1da3d2a5309",
   "execution_count": 36
  },
  {
   "cell_type": "code",
   "outputs": [
    {
     "data": {
      "text/plain": "<Cell 'Revenue'.A1>"
     },
     "execution_count": 37,
     "metadata": {},
     "output_type": "execute_result"
    }
   ],
   "source": [
    "sheet_obj['A1']"
   ],
   "metadata": {
    "collapsed": false,
    "ExecuteTime": {
     "end_time": "2024-01-17T23:51:42.657747858Z",
     "start_time": "2024-01-17T23:51:42.656085070Z"
    }
   },
   "id": "90de2032316efd91",
   "execution_count": 37
  },
  {
   "cell_type": "code",
   "outputs": [
    {
     "data": {
      "text/plain": "'Company'"
     },
     "execution_count": 38,
     "metadata": {},
     "output_type": "execute_result"
    }
   ],
   "source": [
    "sheet_obj['A1'].value"
   ],
   "metadata": {
    "collapsed": false,
    "ExecuteTime": {
     "end_time": "2024-01-17T23:51:42.841789232Z",
     "start_time": "2024-01-17T23:51:42.837219513Z"
    }
   },
   "id": "a2f1f7e6702d7f08",
   "execution_count": 38
  },
  {
   "cell_type": "code",
   "outputs": [],
   "source": [
    "cell = sheet_obj['B1']"
   ],
   "metadata": {
    "collapsed": false,
    "ExecuteTime": {
     "end_time": "2024-01-17T23:51:43.006060629Z",
     "start_time": "2024-01-17T23:51:43.003984569Z"
    }
   },
   "id": "efd55dc0bcd8d8d7",
   "execution_count": 39
  },
  {
   "cell_type": "code",
   "outputs": [
    {
     "data": {
      "text/plain": "openpyxl.cell.cell.Cell"
     },
     "execution_count": 40,
     "metadata": {},
     "output_type": "execute_result"
    }
   ],
   "source": [
    "type(cell)"
   ],
   "metadata": {
    "collapsed": false,
    "ExecuteTime": {
     "end_time": "2024-01-17T23:51:43.171301479Z",
     "start_time": "2024-01-17T23:51:43.169597844Z"
    }
   },
   "id": "f5f2dc3410084f88",
   "execution_count": 40
  },
  {
   "cell_type": "code",
   "outputs": [
    {
     "data": {
      "text/plain": "['__class__',\n '__delattr__',\n '__dir__',\n '__doc__',\n '__eq__',\n '__format__',\n '__ge__',\n '__getattribute__',\n '__getstate__',\n '__gt__',\n '__hash__',\n '__init__',\n '__init_subclass__',\n '__le__',\n '__lt__',\n '__module__',\n '__ne__',\n '__new__',\n '__reduce__',\n '__reduce_ex__',\n '__repr__',\n '__setattr__',\n '__sizeof__',\n '__slots__',\n '__str__',\n '__subclasshook__',\n '_bind_value',\n '_comment',\n '_hyperlink',\n '_style',\n '_value',\n 'alignment',\n 'base_date',\n 'border',\n 'check_error',\n 'check_string',\n 'col_idx',\n 'column',\n 'column_letter',\n 'comment',\n 'coordinate',\n 'data_type',\n 'encoding',\n 'fill',\n 'font',\n 'has_style',\n 'hyperlink',\n 'internal_value',\n 'is_date',\n 'number_format',\n 'offset',\n 'parent',\n 'pivotButton',\n 'protection',\n 'quotePrefix',\n 'row',\n 'style',\n 'style_id',\n 'value']"
     },
     "execution_count": 41,
     "metadata": {},
     "output_type": "execute_result"
    }
   ],
   "source": [
    "dir(cell)"
   ],
   "metadata": {
    "collapsed": false,
    "ExecuteTime": {
     "end_time": "2024-01-17T23:51:43.492329967Z",
     "start_time": "2024-01-17T23:51:43.490023030Z"
    }
   },
   "id": "761e4f5618bad41d",
   "execution_count": 41
  },
  {
   "cell_type": "code",
   "outputs": [
    {
     "data": {
      "text/plain": "1"
     },
     "execution_count": 42,
     "metadata": {},
     "output_type": "execute_result"
    }
   ],
   "source": [
    "cell.row"
   ],
   "metadata": {
    "collapsed": false,
    "ExecuteTime": {
     "end_time": "2024-01-17T23:51:43.844387733Z",
     "start_time": "2024-01-17T23:51:43.842181378Z"
    }
   },
   "id": "68062cf731dd6ccc",
   "execution_count": 42
  },
  {
   "cell_type": "code",
   "outputs": [
    {
     "data": {
      "text/plain": "2"
     },
     "execution_count": 43,
     "metadata": {},
     "output_type": "execute_result"
    }
   ],
   "source": [
    "cell.column"
   ],
   "metadata": {
    "collapsed": false,
    "ExecuteTime": {
     "end_time": "2024-01-17T23:51:43.998462920Z",
     "start_time": "2024-01-17T23:51:43.996489465Z"
    }
   },
   "id": "5009df90f7ec3178",
   "execution_count": 43
  },
  {
   "cell_type": "code",
   "outputs": [
    {
     "data": {
      "text/plain": "'General'"
     },
     "execution_count": 44,
     "metadata": {},
     "output_type": "execute_result"
    }
   ],
   "source": [
    "cell.number_format"
   ],
   "metadata": {
    "collapsed": false,
    "ExecuteTime": {
     "end_time": "2024-01-17T23:51:44.232043695Z",
     "start_time": "2024-01-17T23:51:44.228585670Z"
    }
   },
   "id": "41389e190dc7f2ea",
   "execution_count": 44
  },
  {
   "cell_type": "code",
   "outputs": [
    {
     "data": {
      "text/plain": "'B1'"
     },
     "execution_count": 45,
     "metadata": {},
     "output_type": "execute_result"
    }
   ],
   "source": [
    "cell.coordinate"
   ],
   "metadata": {
    "collapsed": false,
    "ExecuteTime": {
     "end_time": "2024-01-17T23:51:44.416201337Z",
     "start_time": "2024-01-17T23:51:44.413572111Z"
    }
   },
   "id": "40dcee11885d8853",
   "execution_count": 45
  },
  {
   "cell_type": "code",
   "outputs": [
    {
     "data": {
      "text/plain": "'s'"
     },
     "execution_count": 46,
     "metadata": {},
     "output_type": "execute_result"
    }
   ],
   "source": [
    "cell.data_type"
   ],
   "metadata": {
    "collapsed": false,
    "ExecuteTime": {
     "end_time": "2024-01-17T23:51:44.596590438Z",
     "start_time": "2024-01-17T23:51:44.594530959Z"
    }
   },
   "id": "4134df3bc9c03ed9",
   "execution_count": 46
  },
  {
   "cell_type": "code",
   "outputs": [
    {
     "data": {
      "text/plain": "'Walmart, based in United States has a revenue of $514 billion.'"
     },
     "execution_count": 47,
     "metadata": {},
     "output_type": "execute_result"
    }
   ],
   "source": [
    "sheet_obj['A2'].value +\\\n",
    "    ', based in '+ sheet_obj['B2'].value +\\\n",
    "    ' has a revenue of $' + str(sheet_obj['C2'].value) +\\\n",
    "    ' billion.'"
   ],
   "metadata": {
    "collapsed": false,
    "ExecuteTime": {
     "end_time": "2024-01-17T23:51:44.800572400Z",
     "start_time": "2024-01-17T23:51:44.798050087Z"
    }
   },
   "id": "21d83844d4ea5d4f",
   "execution_count": 47
  },
  {
   "cell_type": "code",
   "outputs": [
    {
     "data": {
      "text/plain": "<Cell 'Revenue'.B1>"
     },
     "execution_count": 48,
     "metadata": {},
     "output_type": "execute_result"
    }
   ],
   "source": [
    "sheet_obj.cell(row=1, column=2)"
   ],
   "metadata": {
    "collapsed": false,
    "ExecuteTime": {
     "end_time": "2024-01-17T23:51:45.072826942Z",
     "start_time": "2024-01-17T23:51:45.070690189Z"
    }
   },
   "id": "c2dbcaef7d7690e4",
   "execution_count": 48
  },
  {
   "cell_type": "code",
   "outputs": [
    {
     "data": {
      "text/plain": "'Country'"
     },
     "execution_count": 49,
     "metadata": {},
     "output_type": "execute_result"
    }
   ],
   "source": [
    "sheet_obj.cell(row=1, column=2).value"
   ],
   "metadata": {
    "collapsed": false,
    "ExecuteTime": {
     "end_time": "2024-01-17T23:51:45.255984913Z",
     "start_time": "2024-01-17T23:51:45.254436592Z"
    }
   },
   "id": "c439526b60955020",
   "execution_count": 49
  },
  {
   "cell_type": "code",
   "outputs": [
    {
     "data": {
      "text/plain": "11"
     },
     "execution_count": 50,
     "metadata": {},
     "output_type": "execute_result"
    }
   ],
   "source": [
    "sheet_obj.max_row"
   ],
   "metadata": {
    "collapsed": false,
    "ExecuteTime": {
     "end_time": "2024-01-17T23:51:45.412406597Z",
     "start_time": "2024-01-17T23:51:45.410395872Z"
    }
   },
   "id": "1c524f536b8795a1",
   "execution_count": 50
  },
  {
   "cell_type": "code",
   "outputs": [
    {
     "data": {
      "text/plain": "3"
     },
     "execution_count": 51,
     "metadata": {},
     "output_type": "execute_result"
    }
   ],
   "source": [
    "sheet_obj.max_column"
   ],
   "metadata": {
    "collapsed": false,
    "ExecuteTime": {
     "end_time": "2024-01-17T23:51:45.631894177Z",
     "start_time": "2024-01-17T23:51:45.623029099Z"
    }
   },
   "id": "3b263cec89274e97",
   "execution_count": 51
  },
  {
   "cell_type": "code",
   "outputs": [],
   "source": [
    "max_col = sheet_obj.max_column"
   ],
   "metadata": {
    "collapsed": false,
    "ExecuteTime": {
     "end_time": "2024-01-17T23:51:45.803306075Z",
     "start_time": "2024-01-17T23:51:45.800196540Z"
    }
   },
   "id": "1881e1b55aee3b24",
   "execution_count": 52
  },
  {
   "cell_type": "code",
   "outputs": [
    {
     "name": "stdout",
     "output_type": "stream",
     "text": [
      "Company\n",
      "Country\n",
      "Revenue (billion $)\n"
     ]
    }
   ],
   "source": [
    "for i in range(1, max_col + 1):\n",
    "    \n",
    "    cell_obj = sheet_obj.cell(row=1, column=i)\n",
    "    \n",
    "    print(cell_obj.value)"
   ],
   "metadata": {
    "collapsed": false,
    "ExecuteTime": {
     "end_time": "2024-01-17T23:51:46.006834779Z",
     "start_time": "2024-01-17T23:51:46.004328034Z"
    }
   },
   "id": "6ef10acca2a9cc5b",
   "execution_count": 53
  },
  {
   "cell_type": "code",
   "outputs": [],
   "source": [
    "max_row = sheet_obj.max_row"
   ],
   "metadata": {
    "collapsed": false,
    "ExecuteTime": {
     "end_time": "2024-01-17T23:51:46.182735332Z",
     "start_time": "2024-01-17T23:51:46.179891248Z"
    }
   },
   "id": "1e5a647c359ca8c",
   "execution_count": 54
  },
  {
   "cell_type": "code",
   "outputs": [
    {
     "name": "stdout",
     "output_type": "stream",
     "text": [
      "Company\n",
      "Walmart\n",
      "Sinopec Group\n",
      "Royal Dutch Shell\n",
      "China National Petroleum\n",
      "State Grid\n",
      "Saudi Aramco\n",
      "BP\n",
      "Exxon Mobil\n",
      "Volkswagen\n",
      "Toyota Motors\n"
     ]
    }
   ],
   "source": [
    "for i in range(1, max_row + 1):\n",
    "    \n",
    "    cell_obj = sheet_obj.cell(row=i, column=1)\n",
    "    \n",
    "    print(cell_obj.value)"
   ],
   "metadata": {
    "collapsed": false,
    "ExecuteTime": {
     "end_time": "2024-01-17T23:51:46.400322382Z",
     "start_time": "2024-01-17T23:51:46.397058856Z"
    }
   },
   "id": "9ae545e61f8a2b81",
   "execution_count": 55
  },
  {
   "cell_type": "code",
   "outputs": [
    {
     "data": {
      "text/plain": "((<Cell 'Revenue'.A1>, <Cell 'Revenue'.B1>, <Cell 'Revenue'.C1>),\n (<Cell 'Revenue'.A2>, <Cell 'Revenue'.B2>, <Cell 'Revenue'.C2>))"
     },
     "execution_count": 56,
     "metadata": {},
     "output_type": "execute_result"
    }
   ],
   "source": [
    "sheet_obj['A1':'C2']"
   ],
   "metadata": {
    "collapsed": false,
    "ExecuteTime": {
     "end_time": "2024-01-17T23:51:47.106501778Z",
     "start_time": "2024-01-17T23:51:47.105100246Z"
    }
   },
   "id": "feeb3535e8b94932",
   "execution_count": 56
  },
  {
   "cell_type": "code",
   "outputs": [
    {
     "name": "stdout",
     "output_type": "stream",
     "text": [
      "A1 Company\n",
      "B1 Country\n",
      "C1 Revenue (billion $)\n",
      "------------------------\n",
      "A2 Walmart\n",
      "B2 United States\n",
      "C2 514\n",
      "------------------------\n"
     ]
    }
   ],
   "source": [
    "for rows in sheet_obj['A1':'C2']:\n",
    "    \n",
    "    for cell in rows:\n",
    "        \n",
    "        print(cell.coordinate, cell.value)\n",
    "        \n",
    "    print('------------------------')"
   ],
   "metadata": {
    "collapsed": false,
    "ExecuteTime": {
     "end_time": "2024-01-17T23:51:47.351299859Z",
     "start_time": "2024-01-17T23:51:47.348471076Z"
    }
   },
   "id": "a0d10312c7b79529",
   "execution_count": 57
  },
  {
   "cell_type": "code",
   "outputs": [
    {
     "name": "stdout",
     "output_type": "stream",
     "text": [
      "(<Cell 'Revenue'.A1>, <Cell 'Revenue'.B1>, <Cell 'Revenue'.C1>)\n",
      "(<Cell 'Revenue'.A2>, <Cell 'Revenue'.B2>, <Cell 'Revenue'.C2>)\n"
     ]
    }
   ],
   "source": [
    "for row in sheet_obj.iter_rows(min_row=1, max_row=2, min_col=1, max_col=3):\n",
    "    \n",
    "    print(row)"
   ],
   "metadata": {
    "collapsed": false,
    "ExecuteTime": {
     "end_time": "2024-01-17T23:51:47.734648691Z",
     "start_time": "2024-01-17T23:51:47.733365262Z"
    }
   },
   "id": "73c55f2ef95d334c",
   "execution_count": 58
  },
  {
   "cell_type": "code",
   "outputs": [
    {
     "name": "stdout",
     "output_type": "stream",
     "text": [
      "('Company', 'Country', 'Revenue (billion $)')\n",
      "('Walmart', 'United States', 514)\n"
     ]
    }
   ],
   "source": [
    "for value in sheet_obj.iter_rows(min_row=1, max_row=2, min_col=1, max_col=3, values_only=True):\n",
    "    \n",
    "    print(value)"
   ],
   "metadata": {
    "collapsed": false,
    "ExecuteTime": {
     "end_time": "2024-01-17T23:51:47.923202039Z",
     "start_time": "2024-01-17T23:51:47.921037281Z"
    }
   },
   "id": "6cbc09f3eb70235",
   "execution_count": 59
  },
  {
   "cell_type": "code",
   "outputs": [
    {
     "name": "stdout",
     "output_type": "stream",
     "text": [
      "('Company', 'Walmart', 'Sinopec Group')\n",
      "('Country', 'United States', 'China')\n",
      "('Revenue (billion $)', 514, 415)\n"
     ]
    }
   ],
   "source": [
    "for column in sheet_obj.iter_cols(min_row=1, max_row=3, min_col=1, max_col=3, values_only=True):\n",
    "    \n",
    "    print(column)"
   ],
   "metadata": {
    "collapsed": false,
    "ExecuteTime": {
     "end_time": "2024-01-17T23:51:48.172011281Z",
     "start_time": "2024-01-17T23:51:48.170275886Z"
    }
   },
   "id": "5a37cd4b5f6193e3",
   "execution_count": 60
  },
  {
   "cell_type": "code",
   "outputs": [],
   "source": [
    "revenues = {}"
   ],
   "metadata": {
    "collapsed": false,
    "ExecuteTime": {
     "end_time": "2024-01-17T23:54:13.993040105Z",
     "start_time": "2024-01-17T23:54:13.947016495Z"
    }
   },
   "id": "993422ea838901df",
   "execution_count": 61
  },
  {
   "cell_type": "code",
   "outputs": [],
   "source": [
    "for row in sheet_obj.iter_rows(min_row=2, max_row=4, min_col=1, max_col=3, values_only=True):\n",
    "    \n",
    "    rep = row[0]\n",
    "    \n",
    "    rev_details = {\n",
    "        \n",
    "        \"Country\": row[1],\n",
    "        \"Revenue\": row[2],\n",
    "    }\n",
    "    \n",
    "    revenues[rep] = rev_details"
   ],
   "metadata": {
    "collapsed": false,
    "ExecuteTime": {
     "end_time": "2024-01-17T23:55:41.161019092Z",
     "start_time": "2024-01-17T23:55:41.118229867Z"
    }
   },
   "id": "da5c1abe02417315",
   "execution_count": 62
  },
  {
   "cell_type": "code",
   "outputs": [
    {
     "name": "stdout",
     "output_type": "stream",
     "text": [
      "{\n",
      "    \"Royal Dutch Shell\": {\n",
      "        \"Country\": \"Netherlands\",\n",
      "        \"Revenue\": 397\n",
      "    },\n",
      "    \"Sinopec Group\": {\n",
      "        \"Country\": \"China\",\n",
      "        \"Revenue\": 415\n",
      "    },\n",
      "    \"Walmart\": {\n",
      "        \"Country\": \"United States\",\n",
      "        \"Revenue\": 514\n",
      "    }\n",
      "}\n"
     ]
    }
   ],
   "source": [
    "print(json.dumps(revenues, indent=4, sort_keys=True))"
   ],
   "metadata": {
    "collapsed": false,
    "ExecuteTime": {
     "end_time": "2024-01-17T23:58:04.977285395Z",
     "start_time": "2024-01-17T23:58:04.933678315Z"
    }
   },
   "id": "26de3a37477db8f8",
   "execution_count": 63
  },
  {
   "cell_type": "code",
   "outputs": [],
   "source": [],
   "metadata": {
    "collapsed": false
   },
   "id": "8ee382456194b300"
  }
 ],
 "metadata": {
  "kernelspec": {
   "display_name": "Python 3",
   "language": "python",
   "name": "python3"
  },
  "language_info": {
   "codemirror_mode": {
    "name": "ipython",
    "version": 2
   },
   "file_extension": ".py",
   "mimetype": "text/x-python",
   "name": "python",
   "nbconvert_exporter": "python",
   "pygments_lexer": "ipython2",
   "version": "2.7.6"
  }
 },
 "nbformat": 4,
 "nbformat_minor": 5
}
