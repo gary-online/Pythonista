{
 "cells": [
  {
   "cell_type": "code",
   "execution_count": 1,
   "id": "initial_id",
   "metadata": {
    "collapsed": true,
    "ExecuteTime": {
     "end_time": "2024-01-18T01:57:42.087502069Z",
     "start_time": "2024-01-18T01:57:41.989204031Z"
    }
   },
   "outputs": [],
   "source": [
    "import openpyxl\n",
    "import json"
   ]
  },
  {
   "cell_type": "code",
   "outputs": [],
   "source": [
    "work_book = openpyxl.Workbook()"
   ],
   "metadata": {
    "collapsed": false,
    "ExecuteTime": {
     "end_time": "2024-01-18T01:57:42.750720058Z",
     "start_time": "2024-01-18T01:57:42.747434664Z"
    }
   },
   "id": "19a8fe227b412d66",
   "execution_count": 2
  },
  {
   "cell_type": "code",
   "outputs": [],
   "source": [
    "work_sheet = work_book.active"
   ],
   "metadata": {
    "collapsed": false,
    "ExecuteTime": {
     "end_time": "2024-01-18T01:57:43.359593355Z",
     "start_time": "2024-01-18T01:57:43.354310705Z"
    }
   },
   "id": "9a22e242aa43700f",
   "execution_count": 3
  },
  {
   "cell_type": "code",
   "outputs": [],
   "source": [
    "data = [[\"Champion\", \"Year\"],\n",
    "        [\"France\", 2018],\n",
    "        [\"Spain\", 2010],\n",
    "        [\"Italy\", 2006],\n",
    "        [\"France\", 1998],\n",
    "        [\"Brazil\", 1994],\n",
    "        [\"Argentina\", 1986],\n",
    "        [\"Italy\", 1982],\n",
    "        [\"Argentina\", 1978],\n",
    "        [\"Germany\", 1974],\n",
    "        [\"Brazil\", 1970],\n",
    "        [\"England\", 1966],\n",
    "        [\"Brazil\", 1962],\n",
    "        [\"Brazil\", 1958],\n",
    "        [\"Germany\", 2014],\n",
    "        [\"Germany\", 1954],\n",
    "        [\"Uruguay\", 1950],\n",
    "        [\"Italy\", 1938],\n",
    "        [\"Italy\", 1934],\n",
    "        [\"Uruguay\", 1930],\n",
    "        [\"Germany\", 1990],\n",
    "        [\"Brazil\", 2002]]"
   ],
   "metadata": {
    "collapsed": false,
    "ExecuteTime": {
     "end_time": "2024-01-18T01:57:44.194639667Z",
     "start_time": "2024-01-18T01:57:44.190525676Z"
    }
   },
   "id": "bff23d8f973f0977",
   "execution_count": 4
  },
  {
   "cell_type": "code",
   "outputs": [],
   "source": [
    "for r in data:\n",
    "    work_sheet.append(r)"
   ],
   "metadata": {
    "collapsed": false,
    "ExecuteTime": {
     "end_time": "2024-01-18T01:57:44.894058660Z",
     "start_time": "2024-01-18T01:57:44.890640415Z"
    }
   },
   "id": "90453ad7f507827c",
   "execution_count": 5
  },
  {
   "cell_type": "code",
   "outputs": [],
   "source": [
    "work_book.save('workbooks/world_cup_winners.xlsx')"
   ],
   "metadata": {
    "collapsed": false,
    "ExecuteTime": {
     "end_time": "2024-01-18T01:57:45.816043224Z",
     "start_time": "2024-01-18T01:57:45.798394877Z"
    }
   },
   "id": "c68299df995f0ebe",
   "execution_count": 6
  },
  {
   "cell_type": "code",
   "outputs": [
    {
     "data": {
      "text/plain": "'A1:B22'"
     },
     "execution_count": 7,
     "metadata": {},
     "output_type": "execute_result"
    }
   ],
   "source": [
    "work_sheet.calculate_dimension()"
   ],
   "metadata": {
    "collapsed": false,
    "ExecuteTime": {
     "end_time": "2024-01-18T01:57:46.974891928Z",
     "start_time": "2024-01-18T01:57:46.964150813Z"
    }
   },
   "id": "c34987b5a3c01b40",
   "execution_count": 7
  },
  {
   "cell_type": "code",
   "outputs": [],
   "source": [
    "work_sheet.auto_filter.ref = work_sheet.calculate_dimension()"
   ],
   "metadata": {
    "collapsed": false,
    "ExecuteTime": {
     "end_time": "2024-01-18T01:57:47.915823421Z",
     "start_time": "2024-01-18T01:57:47.910967087Z"
    }
   },
   "id": "4e379b771e5ed59e",
   "execution_count": 8
  },
  {
   "cell_type": "code",
   "outputs": [],
   "source": [
    "work_sheet.auto_filter.add_filter_column(0, ['Brazil', 'Italy', 'Argentina'])"
   ],
   "metadata": {
    "collapsed": false,
    "ExecuteTime": {
     "end_time": "2024-01-18T01:57:48.994361535Z",
     "start_time": "2024-01-18T01:57:48.990355048Z"
    }
   },
   "id": "5033209eb2445fca",
   "execution_count": 9
  },
  {
   "cell_type": "code",
   "outputs": [],
   "source": [
    "work_book.save('workbooks/world_cup_winners.xlsx')"
   ],
   "metadata": {
    "collapsed": false,
    "ExecuteTime": {
     "end_time": "2024-01-18T01:57:50.032210614Z",
     "start_time": "2024-01-18T01:57:50.026948792Z"
    }
   },
   "id": "64bef62a1d1c130f",
   "execution_count": 10
  },
  {
   "cell_type": "code",
   "outputs": [
    {
     "data": {
      "text/plain": "(<Cell 'Sheet'.B2>, <Cell 'Sheet'.B22>)"
     },
     "execution_count": 11,
     "metadata": {},
     "output_type": "execute_result"
    }
   ],
   "source": [
    "work_sheet['B'][1], work_sheet['B'][-1]"
   ],
   "metadata": {
    "collapsed": false,
    "ExecuteTime": {
     "end_time": "2024-01-18T01:57:51.086713378Z",
     "start_time": "2024-01-18T01:57:51.081726827Z"
    }
   },
   "id": "92aee2ce87d41ef2",
   "execution_count": 11
  },
  {
   "cell_type": "code",
   "outputs": [
    {
     "data": {
      "text/plain": "'B2:B22'"
     },
     "execution_count": 12,
     "metadata": {},
     "output_type": "execute_result"
    }
   ],
   "source": [
    "range_str = work_sheet['B'][1].coordinate + ':' + work_sheet['B'][-1].coordinate\n",
    "\n",
    "range_str"
   ],
   "metadata": {
    "collapsed": false,
    "ExecuteTime": {
     "end_time": "2024-01-18T01:57:54.173343160Z",
     "start_time": "2024-01-18T01:57:54.171260802Z"
    }
   },
   "id": "c6e9c2a932ff54f9",
   "execution_count": 12
  },
  {
   "cell_type": "code",
   "outputs": [],
   "source": [
    "work_sheet.auto_filter.add_sort_condition(range_str, descending=True)"
   ],
   "metadata": {
    "collapsed": false,
    "ExecuteTime": {
     "end_time": "2024-01-18T01:59:04.367612893Z",
     "start_time": "2024-01-18T01:59:04.357594666Z"
    }
   },
   "id": "44aa76ccbe9c9243",
   "execution_count": 13
  },
  {
   "cell_type": "code",
   "outputs": [],
   "source": [
    "work_book.save('workbooks/world_cup_winners.xlsx')"
   ],
   "metadata": {
    "collapsed": false,
    "ExecuteTime": {
     "end_time": "2024-01-18T01:59:52.005094130Z",
     "start_time": "2024-01-18T01:59:51.957601705Z"
    }
   },
   "id": "b3091c0773798679",
   "execution_count": 14
  },
  {
   "cell_type": "code",
   "outputs": [],
   "source": [],
   "metadata": {
    "collapsed": false
   },
   "id": "8a729d73e11d32c0"
  }
 ],
 "metadata": {
  "kernelspec": {
   "display_name": "Python 3",
   "language": "python",
   "name": "python3"
  },
  "language_info": {
   "codemirror_mode": {
    "name": "ipython",
    "version": 2
   },
   "file_extension": ".py",
   "mimetype": "text/x-python",
   "name": "python",
   "nbconvert_exporter": "python",
   "pygments_lexer": "ipython2",
   "version": "2.7.6"
  }
 },
 "nbformat": 4,
 "nbformat_minor": 5
}
