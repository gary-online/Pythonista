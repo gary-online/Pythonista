{
 "cells": [
  {
   "cell_type": "code",
   "execution_count": 1,
   "metadata": {
    "ExecuteTime": {
     "end_time": "2024-01-18T02:20:01.088248916Z",
     "start_time": "2024-01-18T02:20:01.004969157Z"
    }
   },
   "outputs": [],
   "source": [
    "import openpyxl"
   ]
  },
  {
   "cell_type": "code",
   "execution_count": 2,
   "metadata": {
    "ExecuteTime": {
     "end_time": "2024-01-18T02:20:01.092456823Z",
     "start_time": "2024-01-18T02:20:01.089869102Z"
    }
   },
   "outputs": [],
   "source": [
    "work_book = openpyxl.Workbook()"
   ]
  },
  {
   "cell_type": "code",
   "execution_count": 3,
   "metadata": {
    "ExecuteTime": {
     "end_time": "2024-01-18T02:20:01.975404407Z",
     "start_time": "2024-01-18T02:20:01.973448016Z"
    }
   },
   "outputs": [],
   "source": [
    "sheet_obj = work_book.active"
   ]
  },
  {
   "cell_type": "code",
   "execution_count": 4,
   "metadata": {
    "ExecuteTime": {
     "end_time": "2024-01-18T02:20:02.304581363Z",
     "start_time": "2024-01-18T02:20:02.301449706Z"
    }
   },
   "outputs": [
    {
     "data": {
      "text/plain": "<Worksheet \"Sheet\">"
     },
     "execution_count": 4,
     "metadata": {},
     "output_type": "execute_result"
    }
   ],
   "source": [
    "sheet_obj"
   ]
  },
  {
   "cell_type": "code",
   "execution_count": 5,
   "metadata": {
    "ExecuteTime": {
     "end_time": "2024-01-18T02:20:02.755142109Z",
     "start_time": "2024-01-18T02:20:02.748177050Z"
    }
   },
   "outputs": [],
   "source": [
    "sheet_obj.title = 'FirstSheet'"
   ]
  },
  {
   "cell_type": "code",
   "execution_count": 6,
   "metadata": {
    "ExecuteTime": {
     "end_time": "2024-01-18T02:20:04.377075604Z",
     "start_time": "2024-01-18T02:20:04.373071320Z"
    }
   },
   "outputs": [],
   "source": [
    "sheet_obj['C1'] = 'A high row' \n",
    "\n",
    "sheet_obj['D4'] = 'A wide column'"
   ]
  },
  {
   "cell_type": "code",
   "execution_count": 7,
   "metadata": {
    "ExecuteTime": {
     "end_time": "2024-01-18T02:20:05.702809499Z",
     "start_time": "2024-01-18T02:20:05.696614443Z"
    }
   },
   "outputs": [],
   "source": [
    "sheet_obj.row_dimensions[1].height = 70"
   ]
  },
  {
   "cell_type": "code",
   "execution_count": 8,
   "metadata": {
    "ExecuteTime": {
     "end_time": "2024-01-18T02:20:06.644548018Z",
     "start_time": "2024-01-18T02:20:06.637459546Z"
    }
   },
   "outputs": [],
   "source": [
    "sheet_obj.column_dimensions['D'].width = 60"
   ]
  },
  {
   "cell_type": "code",
   "execution_count": 9,
   "metadata": {
    "ExecuteTime": {
     "end_time": "2024-01-18T02:20:10.387695709Z",
     "start_time": "2024-01-18T02:20:10.367716329Z"
    }
   },
   "outputs": [],
   "source": [
    "work_book.save('workbooks/dimensions.xlsx')"
   ]
  },
  {
   "cell_type": "markdown",
   "metadata": {},
   "source": [
    "### Creating a new sheet"
   ]
  },
  {
   "cell_type": "code",
   "execution_count": 10,
   "metadata": {
    "ExecuteTime": {
     "end_time": "2024-01-18T02:29:10.167587795Z",
     "start_time": "2024-01-18T02:29:10.120007465Z"
    }
   },
   "outputs": [
    {
     "data": {
      "text/plain": "<Worksheet \"BrandNewSheet\">"
     },
     "execution_count": 10,
     "metadata": {},
     "output_type": "execute_result"
    }
   ],
   "source": [
    "work_book.create_sheet(title='BrandNewSheet', index = 0)"
   ]
  },
  {
   "cell_type": "code",
   "execution_count": 11,
   "metadata": {
    "ExecuteTime": {
     "end_time": "2024-01-18T02:29:10.819076423Z",
     "start_time": "2024-01-18T02:29:10.815651426Z"
    }
   },
   "outputs": [],
   "source": [
    "new_sheet = work_book.active"
   ]
  },
  {
   "cell_type": "code",
   "execution_count": 12,
   "metadata": {
    "ExecuteTime": {
     "end_time": "2024-01-18T02:29:11.226676775Z",
     "start_time": "2024-01-18T02:29:11.223655130Z"
    }
   },
   "outputs": [
    {
     "data": {
      "text/plain": "<Worksheet \"BrandNewSheet\">"
     },
     "execution_count": 12,
     "metadata": {},
     "output_type": "execute_result"
    }
   ],
   "source": [
    "new_sheet"
   ]
  },
  {
   "cell_type": "code",
   "execution_count": 13,
   "metadata": {
    "ExecuteTime": {
     "end_time": "2024-01-18T02:29:11.792689790Z",
     "start_time": "2024-01-18T02:29:11.782013913Z"
    }
   },
   "outputs": [],
   "source": [
    "work_book.save('workbooks/dimensions.xlsx')"
   ]
  },
  {
   "cell_type": "code",
   "execution_count": 14,
   "metadata": {
    "ExecuteTime": {
     "end_time": "2024-01-18T02:29:12.096502915Z",
     "start_time": "2024-01-18T02:29:12.093443257Z"
    }
   },
   "outputs": [],
   "source": [
    "new_sheet.merge_cells('A1:D3')"
   ]
  },
  {
   "cell_type": "code",
   "execution_count": 15,
   "metadata": {
    "ExecuteTime": {
     "end_time": "2024-01-18T02:29:12.398827319Z",
     "start_time": "2024-01-18T02:29:12.393467790Z"
    }
   },
   "outputs": [],
   "source": [
    "work_book.save('workbooks/dimensions.xlsx')"
   ]
  },
  {
   "cell_type": "code",
   "execution_count": 16,
   "metadata": {
    "ExecuteTime": {
     "end_time": "2024-01-18T02:29:13.261437666Z",
     "start_time": "2024-01-18T02:29:13.132663066Z"
    }
   },
   "outputs": [
    {
     "ename": "AttributeError",
     "evalue": "'MergedCell' object attribute 'value' is read-only",
     "output_type": "error",
     "traceback": [
      "\u001B[0;31m---------------------------------------------------------------------------\u001B[0m",
      "\u001B[0;31mAttributeError\u001B[0m                            Traceback (most recent call last)",
      "Cell \u001B[0;32mIn[16], line 1\u001B[0m\n\u001B[0;32m----> 1\u001B[0m \u001B[43mnew_sheet\u001B[49m\u001B[43m[\u001B[49m\u001B[38;5;124;43m'\u001B[39;49m\u001B[38;5;124;43mC2\u001B[39;49m\u001B[38;5;124;43m'\u001B[39;49m\u001B[43m]\u001B[49m \u001B[38;5;241m=\u001B[39m \u001B[38;5;124m'\u001B[39m\u001B[38;5;124mData in a merged cell\u001B[39m\u001B[38;5;124m'\u001B[39m\n",
      "File \u001B[0;32m~/Documents/Code/code/PyCharm/PythonNovicetoPythonista/.venv/lib/python3.11/site-packages/openpyxl/worksheet/worksheet.py:318\u001B[0m, in \u001B[0;36mWorksheet.__setitem__\u001B[0;34m(self, key, value)\u001B[0m\n\u001B[1;32m    317\u001B[0m \u001B[38;5;28;01mdef\u001B[39;00m \u001B[38;5;21m__setitem__\u001B[39m(\u001B[38;5;28mself\u001B[39m, key, value):\n\u001B[0;32m--> 318\u001B[0m     \u001B[38;5;28;43mself\u001B[39;49m\u001B[43m[\u001B[49m\u001B[43mkey\u001B[49m\u001B[43m]\u001B[49m\u001B[38;5;241;43m.\u001B[39;49m\u001B[43mvalue\u001B[49m \u001B[38;5;241m=\u001B[39m value\n",
      "\u001B[0;31mAttributeError\u001B[0m: 'MergedCell' object attribute 'value' is read-only"
     ]
    }
   ],
   "source": [
    "new_sheet['C2'] = 'Data in a merged cell'"
   ]
  },
  {
   "cell_type": "markdown",
   "metadata": {},
   "source": [
    "<b> `output`: We can not assign values to the that comes in between of specified range </b>"
   ]
  },
  {
   "cell_type": "code",
   "execution_count": 17,
   "metadata": {
    "ExecuteTime": {
     "end_time": "2024-01-18T02:29:14.349431400Z",
     "start_time": "2024-01-18T02:29:14.345074242Z"
    }
   },
   "outputs": [],
   "source": [
    "new_sheet['A1'] = 'Data in a merged cell'"
   ]
  },
  {
   "cell_type": "code",
   "execution_count": 18,
   "metadata": {
    "ExecuteTime": {
     "end_time": "2024-01-18T02:29:14.686134888Z",
     "start_time": "2024-01-18T02:29:14.680302346Z"
    }
   },
   "outputs": [],
   "source": [
    "work_book.save('workbooks/dimensions.xlsx')"
   ]
  },
  {
   "cell_type": "code",
   "execution_count": 19,
   "metadata": {
    "ExecuteTime": {
     "end_time": "2024-01-18T02:29:14.927038770Z",
     "start_time": "2024-01-18T02:29:14.920597097Z"
    }
   },
   "outputs": [],
   "source": [
    "from openpyxl.styles import Alignment"
   ]
  },
  {
   "cell_type": "code",
   "execution_count": 20,
   "metadata": {
    "ExecuteTime": {
     "end_time": "2024-01-18T02:29:15.158890389Z",
     "start_time": "2024-01-18T02:29:15.155488055Z"
    }
   },
   "outputs": [],
   "source": [
    "new_sheet['A1'].alignment = Alignment(horizontal='center')"
   ]
  },
  {
   "cell_type": "code",
   "execution_count": 21,
   "metadata": {
    "ExecuteTime": {
     "end_time": "2024-01-18T02:29:15.383045146Z",
     "start_time": "2024-01-18T02:29:15.371576581Z"
    }
   },
   "outputs": [],
   "source": [
    "work_book.save('workbooks/dimensions.xlsx')"
   ]
  },
  {
   "cell_type": "code",
   "execution_count": 22,
   "metadata": {
    "ExecuteTime": {
     "end_time": "2024-01-18T02:29:16.123630681Z",
     "start_time": "2024-01-18T02:29:16.120650794Z"
    }
   },
   "outputs": [],
   "source": [
    "new_sheet['A1'].alignment = Alignment(vertical='center')"
   ]
  },
  {
   "cell_type": "code",
   "execution_count": 23,
   "metadata": {
    "ExecuteTime": {
     "end_time": "2024-01-18T02:29:16.510718957Z",
     "start_time": "2024-01-18T02:29:16.504592769Z"
    }
   },
   "outputs": [],
   "source": [
    "work_book.save('workbooks/dimensions.xlsx')"
   ]
  },
  {
   "cell_type": "code",
   "execution_count": 24,
   "metadata": {
    "ExecuteTime": {
     "end_time": "2024-01-18T02:29:16.863403863Z",
     "start_time": "2024-01-18T02:29:16.859599670Z"
    }
   },
   "outputs": [],
   "source": [
    "new_sheet['A1'].alignment = Alignment(horizontal='right',\n",
    "                                      vertical='top')"
   ]
  },
  {
   "cell_type": "code",
   "execution_count": 25,
   "metadata": {
    "ExecuteTime": {
     "end_time": "2024-01-18T02:29:17.270819061Z",
     "start_time": "2024-01-18T02:29:17.261302323Z"
    }
   },
   "outputs": [],
   "source": [
    "work_book.save('workbooks/dimensions.xlsx')"
   ]
  },
  {
   "cell_type": "markdown",
   "metadata": {},
   "source": [
    "<b> `note`: the values will be assigned only to the first cell i.e after merging the whole cell will become the first cell </b>"
   ]
  },
  {
   "cell_type": "markdown",
   "metadata": {},
   "source": [
    "### Merging cells of a same row from cell `C5` to `G5` "
   ]
  },
  {
   "cell_type": "code",
   "execution_count": 26,
   "metadata": {
    "ExecuteTime": {
     "end_time": "2024-01-18T02:29:19.174441719Z",
     "start_time": "2024-01-18T02:29:19.172448065Z"
    }
   },
   "outputs": [],
   "source": [
    "new_sheet.merge_cells('B5:G5')"
   ]
  },
  {
   "cell_type": "code",
   "execution_count": 27,
   "metadata": {
    "ExecuteTime": {
     "end_time": "2024-01-18T02:29:19.571171002Z",
     "start_time": "2024-01-18T02:29:19.567936064Z"
    }
   },
   "outputs": [],
   "source": [
    "new_sheet['B5'] = 'We just merged cells in the same row'"
   ]
  },
  {
   "cell_type": "code",
   "execution_count": 28,
   "metadata": {
    "ExecuteTime": {
     "end_time": "2024-01-18T02:29:19.889618032Z",
     "start_time": "2024-01-18T02:29:19.883693495Z"
    }
   },
   "outputs": [],
   "source": [
    "new_sheet['B5'].alignment = Alignment(horizontal='center')"
   ]
  },
  {
   "cell_type": "code",
   "execution_count": 29,
   "metadata": {
    "ExecuteTime": {
     "end_time": "2024-01-18T02:29:20.370817Z",
     "start_time": "2024-01-18T02:29:20.360491123Z"
    }
   },
   "outputs": [],
   "source": [
    "work_book.save('workbooks/dimensions.xlsx')"
   ]
  },
  {
   "cell_type": "code",
   "execution_count": null,
   "metadata": {},
   "outputs": [],
   "source": []
  },
  {
   "cell_type": "code",
   "execution_count": null,
   "metadata": {},
   "outputs": [],
   "source": []
  },
  {
   "cell_type": "code",
   "execution_count": null,
   "metadata": {},
   "outputs": [],
   "source": []
  }
 ],
 "metadata": {
  "kernelspec": {
   "display_name": "Python 3",
   "language": "python",
   "name": "python3"
  },
  "language_info": {
   "codemirror_mode": {
    "name": "ipython",
    "version": 3
   },
   "file_extension": ".py",
   "mimetype": "text/x-python",
   "name": "python",
   "nbconvert_exporter": "python",
   "pygments_lexer": "ipython3",
   "version": "3.7.3"
  }
 },
 "nbformat": 4,
 "nbformat_minor": 2
}
