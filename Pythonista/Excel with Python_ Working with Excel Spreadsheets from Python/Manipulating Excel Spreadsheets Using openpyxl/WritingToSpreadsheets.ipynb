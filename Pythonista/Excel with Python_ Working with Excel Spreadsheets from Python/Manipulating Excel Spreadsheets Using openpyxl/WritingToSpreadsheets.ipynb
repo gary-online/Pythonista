{
 "cells": [
  {
   "cell_type": "code",
   "execution_count": 1,
   "id": "initial_id",
   "metadata": {
    "collapsed": true,
    "ExecuteTime": {
     "end_time": "2024-01-18T00:03:08.888155573Z",
     "start_time": "2024-01-18T00:03:08.788900715Z"
    }
   },
   "outputs": [],
   "source": [
    "import openpyxl\n",
    "import json"
   ]
  },
  {
   "cell_type": "code",
   "outputs": [],
   "source": [
    "work_book = openpyxl.Workbook()"
   ],
   "metadata": {
    "collapsed": false,
    "ExecuteTime": {
     "end_time": "2024-01-18T00:03:23.906188580Z",
     "start_time": "2024-01-18T00:03:23.905266818Z"
    }
   },
   "id": "619e61985bb5273d",
   "execution_count": 2
  },
  {
   "cell_type": "code",
   "outputs": [
    {
     "data": {
      "text/plain": "<Worksheet \"Sheet\">"
     },
     "execution_count": 3,
     "metadata": {},
     "output_type": "execute_result"
    }
   ],
   "source": [
    "work_book.active"
   ],
   "metadata": {
    "collapsed": false,
    "ExecuteTime": {
     "end_time": "2024-01-18T00:03:32.216403032Z",
     "start_time": "2024-01-18T00:03:32.209962959Z"
    }
   },
   "id": "6aad20247ea2c1a4",
   "execution_count": 3
  },
  {
   "cell_type": "code",
   "outputs": [],
   "source": [
    "sheet = work_book['Sheet']"
   ],
   "metadata": {
    "collapsed": false,
    "ExecuteTime": {
     "end_time": "2024-01-18T00:04:10.133091464Z",
     "start_time": "2024-01-18T00:04:10.092460774Z"
    }
   },
   "id": "9edd478140f2b542",
   "execution_count": 4
  },
  {
   "cell_type": "code",
   "outputs": [],
   "source": [
    "sheet['A1'] = 'Hello World'\n",
    "sheet['B1'] = 'Hello Excel'\n",
    "sheet['C1'] = 'Hello Users!'"
   ],
   "metadata": {
    "collapsed": false,
    "ExecuteTime": {
     "end_time": "2024-01-18T00:05:26.469172976Z",
     "start_time": "2024-01-18T00:05:26.425748120Z"
    }
   },
   "id": "63e47f1ea13d3cf3",
   "execution_count": 5
  },
  {
   "cell_type": "code",
   "outputs": [
    {
     "data": {
      "text/plain": "'Hello World'"
     },
     "execution_count": 6,
     "metadata": {},
     "output_type": "execute_result"
    }
   ],
   "source": [
    "sheet['A1'].value"
   ],
   "metadata": {
    "collapsed": false,
    "ExecuteTime": {
     "end_time": "2024-01-18T00:06:37.209158992Z",
     "start_time": "2024-01-18T00:06:37.167201073Z"
    }
   },
   "id": "73cb1faf43e024b",
   "execution_count": 6
  },
  {
   "cell_type": "code",
   "outputs": [
    {
     "data": {
      "text/plain": "'Hello Excel'"
     },
     "execution_count": 8,
     "metadata": {},
     "output_type": "execute_result"
    }
   ],
   "source": [
    "sheet['B1'].value"
   ],
   "metadata": {
    "collapsed": false,
    "ExecuteTime": {
     "end_time": "2024-01-18T00:07:08.837263051Z",
     "start_time": "2024-01-18T00:07:08.792787675Z"
    }
   },
   "id": "f1013be624c54a79",
   "execution_count": 8
  },
  {
   "cell_type": "code",
   "outputs": [
    {
     "data": {
      "text/plain": "'Hello Users!'"
     },
     "execution_count": 9,
     "metadata": {},
     "output_type": "execute_result"
    }
   ],
   "source": [
    "sheet['C1'].value"
   ],
   "metadata": {
    "collapsed": false,
    "ExecuteTime": {
     "end_time": "2024-01-18T00:07:10.682869093Z",
     "start_time": "2024-01-18T00:07:10.678119587Z"
    }
   },
   "id": "f0bc0e92b091c137",
   "execution_count": 9
  },
  {
   "cell_type": "code",
   "outputs": [],
   "source": [
    "work_book.save('workbooks/brand_new_workbook.xlsx')"
   ],
   "metadata": {
    "collapsed": false,
    "ExecuteTime": {
     "end_time": "2024-01-18T00:07:31.198639987Z",
     "start_time": "2024-01-18T00:07:31.191352604Z"
    }
   },
   "id": "d14e31b1f895f5c6",
   "execution_count": 10
  },
  {
   "cell_type": "code",
   "outputs": [],
   "source": [
    "sheet['A1'] = 'Goodbye'\n",
    "sheet['B1'] = 'Excel Users'\n",
    "sheet['C1'] = '!'"
   ],
   "metadata": {
    "collapsed": false,
    "ExecuteTime": {
     "end_time": "2024-01-18T00:10:27.447812649Z",
     "start_time": "2024-01-18T00:10:27.404638310Z"
    }
   },
   "id": "28e4ffdcb77adb2",
   "execution_count": 11
  },
  {
   "cell_type": "code",
   "outputs": [
    {
     "data": {
      "text/plain": "'Goodbye'"
     },
     "execution_count": 12,
     "metadata": {},
     "output_type": "execute_result"
    }
   ],
   "source": [
    "sheet['A1'].value"
   ],
   "metadata": {
    "collapsed": false,
    "ExecuteTime": {
     "end_time": "2024-01-18T00:11:09.857134101Z",
     "start_time": "2024-01-18T00:11:09.812964441Z"
    }
   },
   "id": "187a0dac6649fa46",
   "execution_count": 12
  },
  {
   "cell_type": "code",
   "outputs": [
    {
     "data": {
      "text/plain": "'Excel Users'"
     },
     "execution_count": 13,
     "metadata": {},
     "output_type": "execute_result"
    }
   ],
   "source": [
    "sheet['B1'].value"
   ],
   "metadata": {
    "collapsed": false,
    "ExecuteTime": {
     "end_time": "2024-01-18T00:11:19.112887779Z",
     "start_time": "2024-01-18T00:11:19.108371534Z"
    }
   },
   "id": "e527df5f7fcd4345",
   "execution_count": 13
  },
  {
   "cell_type": "code",
   "outputs": [
    {
     "data": {
      "text/plain": "'!'"
     },
     "execution_count": 14,
     "metadata": {},
     "output_type": "execute_result"
    }
   ],
   "source": [
    "sheet['C1'].value"
   ],
   "metadata": {
    "collapsed": false,
    "ExecuteTime": {
     "end_time": "2024-01-18T00:11:25.827572602Z",
     "start_time": "2024-01-18T00:11:25.822862010Z"
    }
   },
   "id": "19e806396ea869e5",
   "execution_count": 14
  },
  {
   "cell_type": "code",
   "outputs": [],
   "source": [
    "work_book.save('workbooks/brand_new_workbook.xlsx')"
   ],
   "metadata": {
    "collapsed": false,
    "ExecuteTime": {
     "end_time": "2024-01-18T00:11:36.968723269Z",
     "start_time": "2024-01-18T00:11:36.963336229Z"
    }
   },
   "id": "eed53eaa7dfab602",
   "execution_count": 15
  },
  {
   "cell_type": "code",
   "outputs": [
    {
     "data": {
      "text/plain": "'A1:C1'"
     },
     "execution_count": 16,
     "metadata": {},
     "output_type": "execute_result"
    }
   ],
   "source": [
    "sheet.calculate_dimension()"
   ],
   "metadata": {
    "collapsed": false,
    "ExecuteTime": {
     "end_time": "2024-01-18T00:14:36.985180986Z",
     "start_time": "2024-01-18T00:14:36.944271393Z"
    }
   },
   "id": "e1efd43ac80eda57",
   "execution_count": 16
  },
  {
   "cell_type": "code",
   "outputs": [],
   "source": [
    "sheet.append(['One', 'row', 'of', 'text'])"
   ],
   "metadata": {
    "collapsed": false,
    "ExecuteTime": {
     "end_time": "2024-01-18T00:16:36.717106764Z",
     "start_time": "2024-01-18T00:16:36.674329342Z"
    }
   },
   "id": "940376be39b00983",
   "execution_count": 17
  },
  {
   "cell_type": "code",
   "outputs": [
    {
     "data": {
      "text/plain": "'A1:D2'"
     },
     "execution_count": 18,
     "metadata": {},
     "output_type": "execute_result"
    }
   ],
   "source": [
    "sheet.calculate_dimension()"
   ],
   "metadata": {
    "collapsed": false,
    "ExecuteTime": {
     "end_time": "2024-01-18T00:16:41.993164485Z",
     "start_time": "2024-01-18T00:16:41.950354442Z"
    }
   },
   "id": "25eeaf765b75687",
   "execution_count": 18
  },
  {
   "cell_type": "code",
   "outputs": [],
   "source": [
    "work_book.save('workbooks/brand_new_workbook.xlsx')"
   ],
   "metadata": {
    "collapsed": false,
    "ExecuteTime": {
     "end_time": "2024-01-18T00:17:22.933012026Z",
     "start_time": "2024-01-18T00:17:22.885302636Z"
    }
   },
   "id": "4ceabd7f559fab56",
   "execution_count": 19
  },
  {
   "cell_type": "code",
   "outputs": [],
   "source": [
    "sheet.insert_rows(idx=2, amount=3)"
   ],
   "metadata": {
    "collapsed": false,
    "ExecuteTime": {
     "end_time": "2024-01-18T00:18:17.430285724Z",
     "start_time": "2024-01-18T00:18:17.366463588Z"
    }
   },
   "id": "72d34b3c9fb67643",
   "execution_count": 20
  },
  {
   "cell_type": "code",
   "outputs": [],
   "source": [
    "sheet.insert_cols(idx=3)"
   ],
   "metadata": {
    "collapsed": false,
    "ExecuteTime": {
     "end_time": "2024-01-18T00:18:49.693114162Z",
     "start_time": "2024-01-18T00:18:49.651083874Z"
    }
   },
   "id": "db58be7368bc87d0",
   "execution_count": 21
  },
  {
   "cell_type": "code",
   "outputs": [
    {
     "data": {
      "text/plain": "'A1:E5'"
     },
     "execution_count": 22,
     "metadata": {},
     "output_type": "execute_result"
    }
   ],
   "source": [
    "sheet.calculate_dimension()"
   ],
   "metadata": {
    "collapsed": false,
    "ExecuteTime": {
     "end_time": "2024-01-18T00:19:18.853223144Z",
     "start_time": "2024-01-18T00:19:18.812395427Z"
    }
   },
   "id": "b4275962d1550296",
   "execution_count": 22
  },
  {
   "cell_type": "code",
   "outputs": [],
   "source": [
    "work_book.save('workbooks/brand_new_workbook.xlsx')"
   ],
   "metadata": {
    "collapsed": false,
    "ExecuteTime": {
     "end_time": "2024-01-18T00:19:57.621043729Z",
     "start_time": "2024-01-18T00:19:57.579138157Z"
    }
   },
   "id": "69a23abba6843543",
   "execution_count": 24
  },
  {
   "cell_type": "code",
   "outputs": [],
   "source": [
    "sheet.delete_rows(idx=2, amount=3)"
   ],
   "metadata": {
    "collapsed": false,
    "ExecuteTime": {
     "end_time": "2024-01-18T00:20:47.433025926Z",
     "start_time": "2024-01-18T00:20:47.392394211Z"
    }
   },
   "id": "c148a0795f2df388",
   "execution_count": 25
  },
  {
   "cell_type": "code",
   "outputs": [],
   "source": [
    "sheet.delete_cols(3)"
   ],
   "metadata": {
    "collapsed": false,
    "ExecuteTime": {
     "end_time": "2024-01-18T00:21:32.081004706Z",
     "start_time": "2024-01-18T00:21:32.039210215Z"
    }
   },
   "id": "e927d9ee17678b17",
   "execution_count": 26
  },
  {
   "cell_type": "code",
   "outputs": [
    {
     "data": {
      "text/plain": "'A1:D2'"
     },
     "execution_count": 27,
     "metadata": {},
     "output_type": "execute_result"
    }
   ],
   "source": [
    "sheet.calculate_dimension()"
   ],
   "metadata": {
    "collapsed": false,
    "ExecuteTime": {
     "end_time": "2024-01-18T00:21:35.900369360Z",
     "start_time": "2024-01-18T00:21:35.893531349Z"
    }
   },
   "id": "b9e56ca4ef18e51d",
   "execution_count": 27
  },
  {
   "cell_type": "code",
   "outputs": [],
   "source": [
    "work_book.save('workbooks/brand_new_workbook.xlsx')"
   ],
   "metadata": {
    "collapsed": false,
    "ExecuteTime": {
     "end_time": "2024-01-18T00:22:06.297076899Z",
     "start_time": "2024-01-18T00:22:06.255836354Z"
    }
   },
   "id": "c6bc96a4f66fe026",
   "execution_count": 28
  },
  {
   "cell_type": "code",
   "outputs": [],
   "source": [
    "sheet.title = 'FirstSheet'"
   ],
   "metadata": {
    "collapsed": false,
    "ExecuteTime": {
     "end_time": "2024-01-18T00:22:35.893023426Z",
     "start_time": "2024-01-18T00:22:35.850187739Z"
    }
   },
   "id": "b8a8e562f3308f4",
   "execution_count": 29
  },
  {
   "cell_type": "code",
   "outputs": [],
   "source": [
    "work_book.save('workbooks/brand_new_workbook.xlsx')"
   ],
   "metadata": {
    "collapsed": false,
    "ExecuteTime": {
     "end_time": "2024-01-18T00:22:39.825021305Z",
     "start_time": "2024-01-18T00:22:39.781569664Z"
    }
   },
   "id": "b7c1ccc29dab5658",
   "execution_count": 30
  },
  {
   "cell_type": "code",
   "outputs": [],
   "source": [
    "data = [['Planet', 'Radius (km)', 'Distance from Sun (M km)'],\n",
    "        ['Earth', 6371, 150],\n",
    "        ['Mars', 3389, 228],\n",
    "        ['Mercury', 2440, 58]]"
   ],
   "metadata": {
    "collapsed": false,
    "ExecuteTime": {
     "end_time": "2024-01-18T00:24:35.645000547Z",
     "start_time": "2024-01-18T00:24:35.597862128Z"
    }
   },
   "id": "fca372196547ca5c",
   "execution_count": 31
  },
  {
   "cell_type": "code",
   "outputs": [],
   "source": [
    "planet_wb = openpyxl.Workbook()"
   ],
   "metadata": {
    "collapsed": false,
    "ExecuteTime": {
     "end_time": "2024-01-18T00:24:52.151147342Z",
     "start_time": "2024-01-18T00:24:52.068459669Z"
    }
   },
   "id": "328e049d8bcc627a",
   "execution_count": 32
  },
  {
   "cell_type": "code",
   "outputs": [],
   "source": [
    "planet_sheet = planet_wb['Sheet']"
   ],
   "metadata": {
    "collapsed": false,
    "ExecuteTime": {
     "end_time": "2024-01-18T00:25:22.317035554Z",
     "start_time": "2024-01-18T00:25:22.273558618Z"
    }
   },
   "id": "c33529c222093385",
   "execution_count": 33
  },
  {
   "cell_type": "code",
   "outputs": [],
   "source": [
    "planet_sheet.title = 'Planets'"
   ],
   "metadata": {
    "collapsed": false,
    "ExecuteTime": {
     "end_time": "2024-01-18T00:25:27.850840342Z",
     "start_time": "2024-01-18T00:25:27.840195464Z"
    }
   },
   "id": "26940cf1223a30d8",
   "execution_count": 34
  },
  {
   "cell_type": "code",
   "outputs": [],
   "source": [
    "for row in data:\n",
    "    planet_sheet.append(row)"
   ],
   "metadata": {
    "collapsed": false,
    "ExecuteTime": {
     "end_time": "2024-01-18T00:25:51.909982168Z",
     "start_time": "2024-01-18T00:25:51.904570391Z"
    }
   },
   "id": "9d653804b1cd4cfc",
   "execution_count": 36
  },
  {
   "cell_type": "code",
   "outputs": [
    {
     "data": {
      "text/plain": "'A1:C4'"
     },
     "execution_count": 37,
     "metadata": {},
     "output_type": "execute_result"
    }
   ],
   "source": [
    "planet_sheet.calculate_dimension()"
   ],
   "metadata": {
    "collapsed": false,
    "ExecuteTime": {
     "end_time": "2024-01-18T00:25:57.020606368Z",
     "start_time": "2024-01-18T00:25:57.015275003Z"
    }
   },
   "id": "3822eb175f947025",
   "execution_count": 37
  },
  {
   "cell_type": "code",
   "outputs": [],
   "source": [
    "planet_wb.save('workbooks/planets.xlsx')"
   ],
   "metadata": {
    "collapsed": false,
    "ExecuteTime": {
     "end_time": "2024-01-18T00:26:15.941007223Z",
     "start_time": "2024-01-18T00:26:15.897527562Z"
    }
   },
   "id": "4efabce33485e2cb",
   "execution_count": 38
  },
  {
   "cell_type": "code",
   "outputs": [],
   "source": [],
   "metadata": {
    "collapsed": false
   },
   "id": "abed831111c56d47"
  }
 ],
 "metadata": {
  "kernelspec": {
   "display_name": "Python 3",
   "language": "python",
   "name": "python3"
  },
  "language_info": {
   "codemirror_mode": {
    "name": "ipython",
    "version": 2
   },
   "file_extension": ".py",
   "mimetype": "text/x-python",
   "name": "python",
   "nbconvert_exporter": "python",
   "pygments_lexer": "ipython2",
   "version": "2.7.6"
  }
 },
 "nbformat": 4,
 "nbformat_minor": 5
}
