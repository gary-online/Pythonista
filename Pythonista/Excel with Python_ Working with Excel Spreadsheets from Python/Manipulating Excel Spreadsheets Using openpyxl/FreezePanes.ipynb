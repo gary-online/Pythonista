{
 "cells": [
  {
   "cell_type": "code",
   "execution_count": 2,
   "id": "initial_id",
   "metadata": {
    "collapsed": true,
    "ExecuteTime": {
     "end_time": "2024-01-18T01:39:07.601843035Z",
     "start_time": "2024-01-18T01:39:07.598959512Z"
    }
   },
   "outputs": [],
   "source": [
    "import openpyxl\n",
    "import json"
   ]
  },
  {
   "cell_type": "code",
   "outputs": [],
   "source": [
    "work_book = openpyxl.load_workbook('datasets/zomato_reviews.xlsx')"
   ],
   "metadata": {
    "collapsed": false,
    "ExecuteTime": {
     "end_time": "2024-01-18T01:39:23.513649304Z",
     "start_time": "2024-01-18T01:39:22.782639935Z"
    }
   },
   "id": "4dbfb310e5c085fd",
   "execution_count": 3
  },
  {
   "cell_type": "code",
   "outputs": [],
   "source": [
    "sheet = work_book.active"
   ],
   "metadata": {
    "collapsed": false,
    "ExecuteTime": {
     "end_time": "2024-01-18T01:39:44.049016140Z",
     "start_time": "2024-01-18T01:39:44.004839430Z"
    }
   },
   "id": "bcedb55ccf42ac83",
   "execution_count": 4
  },
  {
   "cell_type": "code",
   "outputs": [],
   "source": [
    "sheet.freeze_panes = 'A2'"
   ],
   "metadata": {
    "collapsed": false,
    "ExecuteTime": {
     "end_time": "2024-01-18T01:40:17.553029181Z",
     "start_time": "2024-01-18T01:40:17.510724337Z"
    }
   },
   "id": "fe37d47b2db12c",
   "execution_count": 5
  },
  {
   "cell_type": "code",
   "outputs": [],
   "source": [
    "work_book.save('datasets/zomato_reviews.xlsx')"
   ],
   "metadata": {
    "collapsed": false,
    "ExecuteTime": {
     "end_time": "2024-01-18T01:40:37.338030955Z",
     "start_time": "2024-01-18T01:40:36.555786858Z"
    }
   },
   "id": "b802384166ed2773",
   "execution_count": 6
  },
  {
   "cell_type": "code",
   "outputs": [],
   "source": [
    "sheet.freeze_panes = 'B1'"
   ],
   "metadata": {
    "collapsed": false,
    "ExecuteTime": {
     "end_time": "2024-01-18T01:42:33.436485972Z",
     "start_time": "2024-01-18T01:42:33.381757065Z"
    }
   },
   "id": "4cd47d49adac1f34",
   "execution_count": 9
  },
  {
   "cell_type": "code",
   "outputs": [],
   "source": [
    "work_book.save('datasets/zomato_reviews.xlsx')"
   ],
   "metadata": {
    "collapsed": false,
    "ExecuteTime": {
     "end_time": "2024-01-18T01:42:36.169031013Z",
     "start_time": "2024-01-18T01:42:35.384887561Z"
    }
   },
   "id": "a79169d6c5dc46da",
   "execution_count": 10
  },
  {
   "cell_type": "code",
   "outputs": [],
   "source": [
    "sheet.freeze_panes = 'C2'"
   ],
   "metadata": {
    "collapsed": false,
    "ExecuteTime": {
     "end_time": "2024-01-18T01:43:21.797016530Z",
     "start_time": "2024-01-18T01:43:21.753591894Z"
    }
   },
   "id": "3171c1fdbbe3c590",
   "execution_count": 11
  },
  {
   "cell_type": "code",
   "outputs": [],
   "source": [
    "work_book.save('datasets/zomato_reviews.xlsx')"
   ],
   "metadata": {
    "collapsed": false,
    "ExecuteTime": {
     "end_time": "2024-01-18T01:43:27.127439718Z",
     "start_time": "2024-01-18T01:43:26.369109783Z"
    }
   },
   "id": "b405ac2cd126ec29",
   "execution_count": 12
  },
  {
   "cell_type": "code",
   "outputs": [],
   "source": [],
   "metadata": {
    "collapsed": false
   },
   "id": "e952a468484b2779"
  }
 ],
 "metadata": {
  "kernelspec": {
   "display_name": "Python 3",
   "language": "python",
   "name": "python3"
  },
  "language_info": {
   "codemirror_mode": {
    "name": "ipython",
    "version": 2
   },
   "file_extension": ".py",
   "mimetype": "text/x-python",
   "name": "python",
   "nbconvert_exporter": "python",
   "pygments_lexer": "ipython2",
   "version": "2.7.6"
  }
 },
 "nbformat": 4,
 "nbformat_minor": 5
}
