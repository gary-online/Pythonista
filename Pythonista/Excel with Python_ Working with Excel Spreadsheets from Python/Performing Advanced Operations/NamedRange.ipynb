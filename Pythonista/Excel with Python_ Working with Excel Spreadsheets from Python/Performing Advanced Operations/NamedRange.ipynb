{
 "cells": [
  {
   "cell_type": "markdown",
   "metadata": {},
   "source": [
    "## Named Ranges and VLOOKUP\n",
    "\n",
    "We access a named range in the workbook and "
   ]
  },
  {
   "cell_type": "code",
   "execution_count": 1,
   "metadata": {
    "ExecuteTime": {
     "end_time": "2024-01-23T02:45:38.793422942Z",
     "start_time": "2024-01-23T02:45:38.662026259Z"
    }
   },
   "outputs": [],
   "source": [
    "import openpyxl"
   ]
  },
  {
   "cell_type": "code",
   "execution_count": 2,
   "metadata": {
    "ExecuteTime": {
     "end_time": "2024-01-23T02:45:38.806093388Z",
     "start_time": "2024-01-23T02:45:38.794067270Z"
    }
   },
   "outputs": [],
   "source": [
    "work_book = openpyxl.load_workbook('datasets/products.xlsx')\n",
    "sheet = work_book['Products']"
   ]
  },
  {
   "cell_type": "code",
   "execution_count": 3,
   "metadata": {
    "ExecuteTime": {
     "end_time": "2024-01-23T02:45:39.909841063Z",
     "start_time": "2024-01-23T02:45:39.905060107Z"
    }
   },
   "outputs": [
    {
     "data": {
      "text/plain": "<openpyxl.workbook.defined_name.DefinedName object>\nParameters:\nname='fx_rates', comment=None, customMenu=None, description=None, help=None, statusBar=None, localSheetId=None, hidden=None, function=None, vbProcedure=None, xlm=None, functionGroupId=None, shortcutKey=None, publishToServer=None, workbookParameter=None, attr_text='Data!$N$3:$O$11'"
     },
     "execution_count": 3,
     "metadata": {},
     "output_type": "execute_result"
    }
   ],
   "source": [
    "fx_range = work_book.defined_names['fx_rates']\n",
    "\n",
    "fx_range"
   ]
  },
  {
   "cell_type": "markdown",
   "metadata": {},
   "source": [
    "#### Get list of destinations\n",
    "Returns a generator of (worksheet title, cell range) tuples. A named range may span multiple sheets in a workbook"
   ]
  },
  {
   "cell_type": "code",
   "execution_count": 4,
   "metadata": {
    "ExecuteTime": {
     "end_time": "2024-01-23T02:45:41.483626198Z",
     "start_time": "2024-01-23T02:45:41.475888244Z"
    }
   },
   "outputs": [
    {
     "data": {
      "text/plain": "<generator object DefinedName.destinations at 0x7f0253a6e840>"
     },
     "execution_count": 4,
     "metadata": {},
     "output_type": "execute_result"
    }
   ],
   "source": [
    "fx_range.destinations "
   ]
  },
  {
   "cell_type": "code",
   "execution_count": 5,
   "metadata": {
    "ExecuteTime": {
     "end_time": "2024-01-23T02:45:41.696901947Z",
     "start_time": "2024-01-23T02:45:41.695194299Z"
    }
   },
   "outputs": [
    {
     "data": {
      "text/plain": "[((<Cell 'Data'.N3>, <Cell 'Data'.O3>),\n  (<Cell 'Data'.N4>, <Cell 'Data'.O4>),\n  (<Cell 'Data'.N5>, <Cell 'Data'.O5>),\n  (<Cell 'Data'.N6>, <Cell 'Data'.O6>),\n  (<Cell 'Data'.N7>, <Cell 'Data'.O7>),\n  (<Cell 'Data'.N8>, <Cell 'Data'.O8>),\n  (<Cell 'Data'.N9>, <Cell 'Data'.O9>),\n  (<Cell 'Data'.N10>, <Cell 'Data'.O10>),\n  (<Cell 'Data'.N11>, <Cell 'Data'.O11>))]"
     },
     "execution_count": 5,
     "metadata": {},
     "output_type": "execute_result"
    }
   ],
   "source": [
    "cells = []\n",
    "\n",
    "for title, coord in fx_range.destinations :\n",
    "    ws = work_book[title]\n",
    "    cells.append(ws[coord])\n",
    "    \n",
    "cells"
   ]
  },
  {
   "cell_type": "code",
   "execution_count": 6,
   "metadata": {
    "ExecuteTime": {
     "end_time": "2024-01-23T02:45:41.968497797Z",
     "start_time": "2024-01-23T02:45:41.965990849Z"
    }
   },
   "outputs": [
    {
     "data": {
      "text/plain": "'8'"
     },
     "execution_count": 6,
     "metadata": {},
     "output_type": "execute_result"
    }
   ],
   "source": [
    "max_row_str = str(sheet.max_row)\n",
    "\n",
    "max_row_str"
   ]
  },
  {
   "cell_type": "markdown",
   "metadata": {},
   "source": [
    "#### Filling in the prices in other currencies"
   ]
  },
  {
   "cell_type": "code",
   "execution_count": 7,
   "metadata": {
    "ExecuteTime": {
     "end_time": "2024-01-23T02:45:42.616204605Z",
     "start_time": "2024-01-23T02:45:42.614123101Z"
    }
   },
   "outputs": [],
   "source": [
    "for row in sheet['C3:C' + max_row_str]:\n",
    "    for cell in row:\n",
    "        cell.value = '=$B${0}*VLOOKUP($C$2, fx_rates, 2, FALSE)'.format(cell.row)\n",
    "        cell.number_format = '#,##0.00'"
   ]
  },
  {
   "cell_type": "code",
   "execution_count": 8,
   "metadata": {
    "ExecuteTime": {
     "end_time": "2024-01-23T02:45:42.864981849Z",
     "start_time": "2024-01-23T02:45:42.863377066Z"
    }
   },
   "outputs": [],
   "source": [
    "for row in sheet['D3:D' + max_row_str]:\n",
    "    for cell in row:\n",
    "        cell.value = '=$B${0}*VLOOKUP($D$2, fx_rates, 2, FALSE)'.format(cell.row)\n",
    "        cell.number_format = '#,##0.00'"
   ]
  },
  {
   "cell_type": "code",
   "execution_count": 9,
   "metadata": {
    "ExecuteTime": {
     "end_time": "2024-01-23T02:45:43.111716702Z",
     "start_time": "2024-01-23T02:45:43.109923163Z"
    }
   },
   "outputs": [],
   "source": [
    "for row in sheet['E3:E' + max_row_str]:\n",
    "    for cell in row:\n",
    "        cell.value = '=$B${0}*VLOOKUP($E$2, fx_rates, 2, FALSE)'.format(cell.row)\n",
    "        cell.number_format = '#,##0.00'"
   ]
  },
  {
   "cell_type": "code",
   "execution_count": 10,
   "metadata": {
    "ExecuteTime": {
     "end_time": "2024-01-23T02:45:43.408688642Z",
     "start_time": "2024-01-23T02:45:43.396814921Z"
    }
   },
   "outputs": [],
   "source": [
    "work_book.save(\"workbooks/named_range.xlsx\")"
   ]
  },
  {
   "cell_type": "markdown",
   "metadata": {},
   "source": [
    "#### Creating a named range"
   ]
  },
  {
   "cell_type": "code",
   "execution_count": 11,
   "metadata": {
    "ExecuteTime": {
     "end_time": "2024-01-23T02:45:43.948822822Z",
     "start_time": "2024-01-23T02:45:43.944434299Z"
    }
   },
   "outputs": [
    {
     "name": "stderr",
     "output_type": "stream",
     "text": [
      "/tmp/ipykernel_18990/2595803377.py:1: DeprecationWarning: Call to deprecated function create_named_range (Assign scoped named ranges directly to worksheets or global ones to the workbook. Deprecated in 3.1).\n",
      "  work_book.create_named_range('products',\n"
     ]
    }
   ],
   "source": [
    "work_book.create_named_range('products', \n",
    "                             sheet , \n",
    "                             '$A$3:$B$' + max_row_str)"
   ]
  },
  {
   "cell_type": "code",
   "execution_count": 12,
   "metadata": {
    "ExecuteTime": {
     "end_time": "2024-01-23T02:45:44.234298964Z",
     "start_time": "2024-01-23T02:45:44.227629990Z"
    }
   },
   "outputs": [],
   "source": [
    "work_book.save(\"workbooks/named_range.xlsx\")"
   ]
  },
  {
   "cell_type": "code",
   "execution_count": null,
   "metadata": {},
   "outputs": [],
   "source": []
  }
 ],
 "metadata": {
  "kernelspec": {
   "display_name": "Python 3",
   "language": "python",
   "name": "python3"
  },
  "language_info": {
   "codemirror_mode": {
    "name": "ipython",
    "version": 3
   },
   "file_extension": ".py",
   "mimetype": "text/x-python",
   "name": "python",
   "nbconvert_exporter": "python",
   "pygments_lexer": "ipython3",
   "version": "3.7.3"
  }
 },
 "nbformat": 4,
 "nbformat_minor": 2
}
