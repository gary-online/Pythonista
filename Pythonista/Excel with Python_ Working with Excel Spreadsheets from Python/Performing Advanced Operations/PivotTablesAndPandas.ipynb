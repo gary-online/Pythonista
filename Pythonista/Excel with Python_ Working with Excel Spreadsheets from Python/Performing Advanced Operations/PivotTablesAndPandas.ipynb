{
 "cells": [
  {
   "cell_type": "code",
   "execution_count": 3,
   "metadata": {
    "ExecuteTime": {
     "end_time": "2024-01-23T02:47:28.552444621Z",
     "start_time": "2024-01-23T02:47:28.510160423Z"
    }
   },
   "outputs": [],
   "source": [
    "import pandas as pd"
   ]
  },
  {
   "cell_type": "markdown",
   "metadata": {},
   "source": [
    "#### Load the dataset\n",
    "Source: http://eforexcel.com/wp/downloads-18-sample-csv-files-data-sets-for-testing-sales/"
   ]
  },
  {
   "cell_type": "code",
   "execution_count": 4,
   "metadata": {
    "ExecuteTime": {
     "end_time": "2024-01-23T02:47:45.858920271Z",
     "start_time": "2024-01-23T02:47:45.757347104Z"
    }
   },
   "outputs": [],
   "source": [
    "sales_df = pd.read_excel('datasets/sales_record.xlsx')"
   ]
  },
  {
   "cell_type": "code",
   "execution_count": 5,
   "metadata": {
    "ExecuteTime": {
     "end_time": "2024-01-23T02:47:46.618809301Z",
     "start_time": "2024-01-23T02:47:46.568865189Z"
    }
   },
   "outputs": [
    {
     "data": {
      "text/plain": "                  Region                Country        Item_Type  \\\n0  Australia and Oceania                 Tuvalu        Baby Food   \n1        Central America                Grenada           Cereal   \n2                 Europe                 Russia  Office Supplies   \n3     Sub-Saharan Africa  Sao Tome and Principe           Fruits   \n4     Sub-Saharan Africa                 Rwanda  Office Supplies   \n\n  Sales_Channel Order_Priority Order_Date   Order ID  Units_Sold  Unit_Price  \\\n0       Offline              H 2010-05-28  669165933        9925      255.28   \n1        Online              C 2012-08-22  963881480        2804      205.70   \n2       Offline              L 2014-05-02  341417157        1779      651.21   \n3        Online              C 2014-06-20  514321792        8102        9.33   \n4       Offline              L 2013-02-01  115456712        5062      651.21   \n\n   Unit_Cost  Total_Revenue  Total_Cost  Total_Profit  \n0     159.42     2533654.00  1582243.50     951410.50  \n1     117.11      576782.80   328376.44     248406.36  \n2     524.96     1158502.59   933903.84     224598.75  \n3       6.92       75591.66    56065.84      19525.82  \n4     524.96     3296425.02  2657347.52     639077.50  ",
      "text/html": "<div>\n<style scoped>\n    .dataframe tbody tr th:only-of-type {\n        vertical-align: middle;\n    }\n\n    .dataframe tbody tr th {\n        vertical-align: top;\n    }\n\n    .dataframe thead th {\n        text-align: right;\n    }\n</style>\n<table border=\"1\" class=\"dataframe\">\n  <thead>\n    <tr style=\"text-align: right;\">\n      <th></th>\n      <th>Region</th>\n      <th>Country</th>\n      <th>Item_Type</th>\n      <th>Sales_Channel</th>\n      <th>Order_Priority</th>\n      <th>Order_Date</th>\n      <th>Order ID</th>\n      <th>Units_Sold</th>\n      <th>Unit_Price</th>\n      <th>Unit_Cost</th>\n      <th>Total_Revenue</th>\n      <th>Total_Cost</th>\n      <th>Total_Profit</th>\n    </tr>\n  </thead>\n  <tbody>\n    <tr>\n      <th>0</th>\n      <td>Australia and Oceania</td>\n      <td>Tuvalu</td>\n      <td>Baby Food</td>\n      <td>Offline</td>\n      <td>H</td>\n      <td>2010-05-28</td>\n      <td>669165933</td>\n      <td>9925</td>\n      <td>255.28</td>\n      <td>159.42</td>\n      <td>2533654.00</td>\n      <td>1582243.50</td>\n      <td>951410.50</td>\n    </tr>\n    <tr>\n      <th>1</th>\n      <td>Central America</td>\n      <td>Grenada</td>\n      <td>Cereal</td>\n      <td>Online</td>\n      <td>C</td>\n      <td>2012-08-22</td>\n      <td>963881480</td>\n      <td>2804</td>\n      <td>205.70</td>\n      <td>117.11</td>\n      <td>576782.80</td>\n      <td>328376.44</td>\n      <td>248406.36</td>\n    </tr>\n    <tr>\n      <th>2</th>\n      <td>Europe</td>\n      <td>Russia</td>\n      <td>Office Supplies</td>\n      <td>Offline</td>\n      <td>L</td>\n      <td>2014-05-02</td>\n      <td>341417157</td>\n      <td>1779</td>\n      <td>651.21</td>\n      <td>524.96</td>\n      <td>1158502.59</td>\n      <td>933903.84</td>\n      <td>224598.75</td>\n    </tr>\n    <tr>\n      <th>3</th>\n      <td>Sub-Saharan Africa</td>\n      <td>Sao Tome and Principe</td>\n      <td>Fruits</td>\n      <td>Online</td>\n      <td>C</td>\n      <td>2014-06-20</td>\n      <td>514321792</td>\n      <td>8102</td>\n      <td>9.33</td>\n      <td>6.92</td>\n      <td>75591.66</td>\n      <td>56065.84</td>\n      <td>19525.82</td>\n    </tr>\n    <tr>\n      <th>4</th>\n      <td>Sub-Saharan Africa</td>\n      <td>Rwanda</td>\n      <td>Office Supplies</td>\n      <td>Offline</td>\n      <td>L</td>\n      <td>2013-02-01</td>\n      <td>115456712</td>\n      <td>5062</td>\n      <td>651.21</td>\n      <td>524.96</td>\n      <td>3296425.02</td>\n      <td>2657347.52</td>\n      <td>639077.50</td>\n    </tr>\n  </tbody>\n</table>\n</div>"
     },
     "execution_count": 5,
     "metadata": {},
     "output_type": "execute_result"
    }
   ],
   "source": [
    "sales_df.head()"
   ]
  },
  {
   "cell_type": "markdown",
   "metadata": {},
   "source": [
    "#### Myanmar has multiple line items"
   ]
  },
  {
   "cell_type": "code",
   "execution_count": 6,
   "metadata": {
    "ExecuteTime": {
     "end_time": "2024-01-23T02:48:40.647838718Z",
     "start_time": "2024-01-23T02:48:40.633159009Z"
    }
   },
   "outputs": [
    {
     "data": {
      "text/plain": "   Region       Country        Item_Type Sales_Channel Order_Priority  \\\n12   Asia    Bangladesh          Clothes        Online              L   \n38   Asia        Brunei  Office Supplies        Online              L   \n10   Asia    Kyrgyzstan       Vegetables        Online              H   \n77   Asia          Laos       Vegetables       Offline              C   \n96   Asia      Malaysia           Fruits       Offline              L   \n14   Asia      Mongolia    Personal Care       Offline              C   \n44   Asia       Myanmar          Clothes        Online              H   \n33   Asia       Myanmar        Household       Offline              H   \n16   Asia     Sri Lanka        Cosmetics       Offline              M   \n18   Asia  Turkmenistan        Household       Offline              L   \n\n   Order_Date   Order ID  Units_Sold  Unit_Price  Unit_Cost  Total_Revenue  \\\n12 2017-01-13  187310731        8263      109.28      35.84      902980.64   \n38 2012-04-01  320009267        6708      651.21     524.96     4368316.68   \n10 2011-06-24  814711606         124      154.06      90.93       19103.44   \n77 2011-09-15  789176547        3732      154.06      90.93      574951.92   \n96 2011-11-11  810711038        6267        9.33       6.92       58471.11   \n14 2014-02-19  832401311        4901       81.73      56.67      400558.73   \n44 2015-11-14  223359620        5930      109.28      35.84      648030.40   \n33 2015-01-16  177713572        8250      668.27     502.54     5513227.50   \n16 2016-11-19  419123971        6952      437.20     263.33     3039414.40   \n18 2010-12-30  441619336        3830      668.27     502.54     2559474.10   \n\n    Total_Cost  Total_Profit  \n12   296145.92     606834.72  \n38  3521431.68     846885.00  \n10    11275.32       7828.12  \n77   339350.76     235601.16  \n96    43367.64      15103.47  \n14   277739.67     122819.06  \n44   212531.20     435499.20  \n33  4145955.00    1367272.50  \n16  1830670.16    1208744.24  \n18  1924728.20     634745.90  ",
      "text/html": "<div>\n<style scoped>\n    .dataframe tbody tr th:only-of-type {\n        vertical-align: middle;\n    }\n\n    .dataframe tbody tr th {\n        vertical-align: top;\n    }\n\n    .dataframe thead th {\n        text-align: right;\n    }\n</style>\n<table border=\"1\" class=\"dataframe\">\n  <thead>\n    <tr style=\"text-align: right;\">\n      <th></th>\n      <th>Region</th>\n      <th>Country</th>\n      <th>Item_Type</th>\n      <th>Sales_Channel</th>\n      <th>Order_Priority</th>\n      <th>Order_Date</th>\n      <th>Order ID</th>\n      <th>Units_Sold</th>\n      <th>Unit_Price</th>\n      <th>Unit_Cost</th>\n      <th>Total_Revenue</th>\n      <th>Total_Cost</th>\n      <th>Total_Profit</th>\n    </tr>\n  </thead>\n  <tbody>\n    <tr>\n      <th>12</th>\n      <td>Asia</td>\n      <td>Bangladesh</td>\n      <td>Clothes</td>\n      <td>Online</td>\n      <td>L</td>\n      <td>2017-01-13</td>\n      <td>187310731</td>\n      <td>8263</td>\n      <td>109.28</td>\n      <td>35.84</td>\n      <td>902980.64</td>\n      <td>296145.92</td>\n      <td>606834.72</td>\n    </tr>\n    <tr>\n      <th>38</th>\n      <td>Asia</td>\n      <td>Brunei</td>\n      <td>Office Supplies</td>\n      <td>Online</td>\n      <td>L</td>\n      <td>2012-04-01</td>\n      <td>320009267</td>\n      <td>6708</td>\n      <td>651.21</td>\n      <td>524.96</td>\n      <td>4368316.68</td>\n      <td>3521431.68</td>\n      <td>846885.00</td>\n    </tr>\n    <tr>\n      <th>10</th>\n      <td>Asia</td>\n      <td>Kyrgyzstan</td>\n      <td>Vegetables</td>\n      <td>Online</td>\n      <td>H</td>\n      <td>2011-06-24</td>\n      <td>814711606</td>\n      <td>124</td>\n      <td>154.06</td>\n      <td>90.93</td>\n      <td>19103.44</td>\n      <td>11275.32</td>\n      <td>7828.12</td>\n    </tr>\n    <tr>\n      <th>77</th>\n      <td>Asia</td>\n      <td>Laos</td>\n      <td>Vegetables</td>\n      <td>Offline</td>\n      <td>C</td>\n      <td>2011-09-15</td>\n      <td>789176547</td>\n      <td>3732</td>\n      <td>154.06</td>\n      <td>90.93</td>\n      <td>574951.92</td>\n      <td>339350.76</td>\n      <td>235601.16</td>\n    </tr>\n    <tr>\n      <th>96</th>\n      <td>Asia</td>\n      <td>Malaysia</td>\n      <td>Fruits</td>\n      <td>Offline</td>\n      <td>L</td>\n      <td>2011-11-11</td>\n      <td>810711038</td>\n      <td>6267</td>\n      <td>9.33</td>\n      <td>6.92</td>\n      <td>58471.11</td>\n      <td>43367.64</td>\n      <td>15103.47</td>\n    </tr>\n    <tr>\n      <th>14</th>\n      <td>Asia</td>\n      <td>Mongolia</td>\n      <td>Personal Care</td>\n      <td>Offline</td>\n      <td>C</td>\n      <td>2014-02-19</td>\n      <td>832401311</td>\n      <td>4901</td>\n      <td>81.73</td>\n      <td>56.67</td>\n      <td>400558.73</td>\n      <td>277739.67</td>\n      <td>122819.06</td>\n    </tr>\n    <tr>\n      <th>44</th>\n      <td>Asia</td>\n      <td>Myanmar</td>\n      <td>Clothes</td>\n      <td>Online</td>\n      <td>H</td>\n      <td>2015-11-14</td>\n      <td>223359620</td>\n      <td>5930</td>\n      <td>109.28</td>\n      <td>35.84</td>\n      <td>648030.40</td>\n      <td>212531.20</td>\n      <td>435499.20</td>\n    </tr>\n    <tr>\n      <th>33</th>\n      <td>Asia</td>\n      <td>Myanmar</td>\n      <td>Household</td>\n      <td>Offline</td>\n      <td>H</td>\n      <td>2015-01-16</td>\n      <td>177713572</td>\n      <td>8250</td>\n      <td>668.27</td>\n      <td>502.54</td>\n      <td>5513227.50</td>\n      <td>4145955.00</td>\n      <td>1367272.50</td>\n    </tr>\n    <tr>\n      <th>16</th>\n      <td>Asia</td>\n      <td>Sri Lanka</td>\n      <td>Cosmetics</td>\n      <td>Offline</td>\n      <td>M</td>\n      <td>2016-11-19</td>\n      <td>419123971</td>\n      <td>6952</td>\n      <td>437.20</td>\n      <td>263.33</td>\n      <td>3039414.40</td>\n      <td>1830670.16</td>\n      <td>1208744.24</td>\n    </tr>\n    <tr>\n      <th>18</th>\n      <td>Asia</td>\n      <td>Turkmenistan</td>\n      <td>Household</td>\n      <td>Offline</td>\n      <td>L</td>\n      <td>2010-12-30</td>\n      <td>441619336</td>\n      <td>3830</td>\n      <td>668.27</td>\n      <td>502.54</td>\n      <td>2559474.10</td>\n      <td>1924728.20</td>\n      <td>634745.90</td>\n    </tr>\n  </tbody>\n</table>\n</div>"
     },
     "execution_count": 6,
     "metadata": {},
     "output_type": "execute_result"
    }
   ],
   "source": [
    "sales_df.sort_values(by = [\"Region\", \"Country\", \"Item_Type\"]).head(10)"
   ]
  },
  {
   "cell_type": "markdown",
   "metadata": {},
   "source": [
    "#### Sierra Leone and Gambia have multiple line items"
   ]
  },
  {
   "cell_type": "code",
   "execution_count": 8,
   "metadata": {
    "ExecuteTime": {
     "end_time": "2024-01-23T02:49:59.349029024Z",
     "start_time": "2024-01-23T02:49:59.334105775Z"
    }
   },
   "outputs": [
    {
     "data": {
      "text/plain": "                Region       Country        Item_Type Sales_Channel  \\\n9   Sub-Saharan Africa       Senegal           Cereal        Online   \n53  Sub-Saharan Africa  Sierra Leone  Office Supplies       Offline   \n90  Sub-Saharan Africa  Sierra Leone  Office Supplies       Offline   \n97  Sub-Saharan Africa  Sierra Leone       Vegetables       Offline   \n31  Sub-Saharan Africa   South Sudan    Personal Care       Offline   \n87  Sub-Saharan Africa    The Gambia        Baby Food       Offline   \n42  Sub-Saharan Africa    The Gambia           Cereal       Offline   \n29  Sub-Saharan Africa    The Gambia        Household       Offline   \n37  Sub-Saharan Africa    The Gambia             Meat        Online   \n83  Sub-Saharan Africa        Zambia           Snacks        Online   \n\n   Order_Priority Order_Date   Order ID  Units_Sold  Unit_Price  Unit_Cost  \\\n9               H 2014-04-18  616607081        6593      205.70     117.11   \n53              M 2011-11-26  441888415        3457      651.21     524.96   \n90              H 2016-12-06  621386563         948      651.21     524.96   \n97              C 2016-06-01  728815257        1485      154.06      90.93   \n31              C 2013-12-29  406502997        2125       81.73      56.67   \n87              M 2014-02-03  494747245        5559      255.28     159.42   \n42              H 2012-06-07  994022214        2117      205.70     117.11   \n29              L 2012-05-26  886494815        2370      668.27     502.54   \n37              M 2017-01-14  825304400        4767      421.89     364.69   \n83              L 2011-01-04  122583663        4085      152.58      97.44   \n\n    Total_Revenue  Total_Cost  Total_Profit  \n9      1356180.10   772106.23     584073.87  \n53     2251232.97  1814786.72     436446.25  \n90      617347.08   497662.08     119685.00  \n97      228779.10   135031.05      93748.05  \n31      173676.25   120423.75      53252.50  \n87     1419101.52   886215.78     532885.74  \n42      435466.90   247921.87     187545.03  \n29     1583799.90  1191019.80     392780.10  \n37     2011149.63  1738477.23     272672.40  \n83      623289.30   398042.40     225246.90  ",
      "text/html": "<div>\n<style scoped>\n    .dataframe tbody tr th:only-of-type {\n        vertical-align: middle;\n    }\n\n    .dataframe tbody tr th {\n        vertical-align: top;\n    }\n\n    .dataframe thead th {\n        text-align: right;\n    }\n</style>\n<table border=\"1\" class=\"dataframe\">\n  <thead>\n    <tr style=\"text-align: right;\">\n      <th></th>\n      <th>Region</th>\n      <th>Country</th>\n      <th>Item_Type</th>\n      <th>Sales_Channel</th>\n      <th>Order_Priority</th>\n      <th>Order_Date</th>\n      <th>Order ID</th>\n      <th>Units_Sold</th>\n      <th>Unit_Price</th>\n      <th>Unit_Cost</th>\n      <th>Total_Revenue</th>\n      <th>Total_Cost</th>\n      <th>Total_Profit</th>\n    </tr>\n  </thead>\n  <tbody>\n    <tr>\n      <th>9</th>\n      <td>Sub-Saharan Africa</td>\n      <td>Senegal</td>\n      <td>Cereal</td>\n      <td>Online</td>\n      <td>H</td>\n      <td>2014-04-18</td>\n      <td>616607081</td>\n      <td>6593</td>\n      <td>205.70</td>\n      <td>117.11</td>\n      <td>1356180.10</td>\n      <td>772106.23</td>\n      <td>584073.87</td>\n    </tr>\n    <tr>\n      <th>53</th>\n      <td>Sub-Saharan Africa</td>\n      <td>Sierra Leone</td>\n      <td>Office Supplies</td>\n      <td>Offline</td>\n      <td>M</td>\n      <td>2011-11-26</td>\n      <td>441888415</td>\n      <td>3457</td>\n      <td>651.21</td>\n      <td>524.96</td>\n      <td>2251232.97</td>\n      <td>1814786.72</td>\n      <td>436446.25</td>\n    </tr>\n    <tr>\n      <th>90</th>\n      <td>Sub-Saharan Africa</td>\n      <td>Sierra Leone</td>\n      <td>Office Supplies</td>\n      <td>Offline</td>\n      <td>H</td>\n      <td>2016-12-06</td>\n      <td>621386563</td>\n      <td>948</td>\n      <td>651.21</td>\n      <td>524.96</td>\n      <td>617347.08</td>\n      <td>497662.08</td>\n      <td>119685.00</td>\n    </tr>\n    <tr>\n      <th>97</th>\n      <td>Sub-Saharan Africa</td>\n      <td>Sierra Leone</td>\n      <td>Vegetables</td>\n      <td>Offline</td>\n      <td>C</td>\n      <td>2016-06-01</td>\n      <td>728815257</td>\n      <td>1485</td>\n      <td>154.06</td>\n      <td>90.93</td>\n      <td>228779.10</td>\n      <td>135031.05</td>\n      <td>93748.05</td>\n    </tr>\n    <tr>\n      <th>31</th>\n      <td>Sub-Saharan Africa</td>\n      <td>South Sudan</td>\n      <td>Personal Care</td>\n      <td>Offline</td>\n      <td>C</td>\n      <td>2013-12-29</td>\n      <td>406502997</td>\n      <td>2125</td>\n      <td>81.73</td>\n      <td>56.67</td>\n      <td>173676.25</td>\n      <td>120423.75</td>\n      <td>53252.50</td>\n    </tr>\n    <tr>\n      <th>87</th>\n      <td>Sub-Saharan Africa</td>\n      <td>The Gambia</td>\n      <td>Baby Food</td>\n      <td>Offline</td>\n      <td>M</td>\n      <td>2014-02-03</td>\n      <td>494747245</td>\n      <td>5559</td>\n      <td>255.28</td>\n      <td>159.42</td>\n      <td>1419101.52</td>\n      <td>886215.78</td>\n      <td>532885.74</td>\n    </tr>\n    <tr>\n      <th>42</th>\n      <td>Sub-Saharan Africa</td>\n      <td>The Gambia</td>\n      <td>Cereal</td>\n      <td>Offline</td>\n      <td>H</td>\n      <td>2012-06-07</td>\n      <td>994022214</td>\n      <td>2117</td>\n      <td>205.70</td>\n      <td>117.11</td>\n      <td>435466.90</td>\n      <td>247921.87</td>\n      <td>187545.03</td>\n    </tr>\n    <tr>\n      <th>29</th>\n      <td>Sub-Saharan Africa</td>\n      <td>The Gambia</td>\n      <td>Household</td>\n      <td>Offline</td>\n      <td>L</td>\n      <td>2012-05-26</td>\n      <td>886494815</td>\n      <td>2370</td>\n      <td>668.27</td>\n      <td>502.54</td>\n      <td>1583799.90</td>\n      <td>1191019.80</td>\n      <td>392780.10</td>\n    </tr>\n    <tr>\n      <th>37</th>\n      <td>Sub-Saharan Africa</td>\n      <td>The Gambia</td>\n      <td>Meat</td>\n      <td>Online</td>\n      <td>M</td>\n      <td>2017-01-14</td>\n      <td>825304400</td>\n      <td>4767</td>\n      <td>421.89</td>\n      <td>364.69</td>\n      <td>2011149.63</td>\n      <td>1738477.23</td>\n      <td>272672.40</td>\n    </tr>\n    <tr>\n      <th>83</th>\n      <td>Sub-Saharan Africa</td>\n      <td>Zambia</td>\n      <td>Snacks</td>\n      <td>Online</td>\n      <td>L</td>\n      <td>2011-01-04</td>\n      <td>122583663</td>\n      <td>4085</td>\n      <td>152.58</td>\n      <td>97.44</td>\n      <td>623289.30</td>\n      <td>398042.40</td>\n      <td>225246.90</td>\n    </tr>\n  </tbody>\n</table>\n</div>"
     },
     "execution_count": 8,
     "metadata": {},
     "output_type": "execute_result"
    }
   ],
   "source": [
    "sales_df.sort_values(by = [\"Region\", \"Country\", \"Item_Type\"]).tail(10)"
   ]
  },
  {
   "cell_type": "code",
   "execution_count": 9,
   "metadata": {
    "ExecuteTime": {
     "end_time": "2024-01-23T02:50:52.616363199Z",
     "start_time": "2024-01-23T02:50:52.575330128Z"
    }
   },
   "outputs": [],
   "source": [
    "import numpy as np"
   ]
  },
  {
   "cell_type": "code",
   "execution_count": 10,
   "metadata": {
    "ExecuteTime": {
     "end_time": "2024-01-23T02:52:33.265046923Z",
     "start_time": "2024-01-23T02:52:33.223341323Z"
    }
   },
   "outputs": [
    {
     "name": "stderr",
     "output_type": "stream",
     "text": [
      "/tmp/ipykernel_19130/2207720046.py:1: FutureWarning: The provided callable <function sum at 0x7f41e61c4cc0> is currently using DataFrameGroupBy.sum. In a future version of pandas, the provided callable will be used directly. To keep current behavior pass the string \"sum\" instead.\n",
      "  table = pd.pivot_table(sales_df,\n"
     ]
    },
    {
     "data": {
      "text/plain": "                                            sum                         \n                                   Total_Profit Total_Revenue Units_Sold\nRegion                Country                                           \nAsia                  Bangladesh      606834.72     902980.64       8263\n                      Brunei          846885.00    4368316.68       6708\n                      Kyrgyzstan        7828.12      19103.44        124\n                      Laos            235601.16     574951.92       3732\n                      Malaysia         15103.47      58471.11       6267\n                      Mongolia        122819.06     400558.73       4901\n                      Myanmar        1802771.70    6161257.90      14180\n                      Sri Lanka      1208744.24    3039414.40       6952\n                      Turkmenistan   1267258.40    5822036.20       8840\nAustralia and Oceania Australia       576605.12    2489933.49      12995",
      "text/html": "<div>\n<style scoped>\n    .dataframe tbody tr th:only-of-type {\n        vertical-align: middle;\n    }\n\n    .dataframe tbody tr th {\n        vertical-align: top;\n    }\n\n    .dataframe thead tr th {\n        text-align: left;\n    }\n\n    .dataframe thead tr:last-of-type th {\n        text-align: right;\n    }\n</style>\n<table border=\"1\" class=\"dataframe\">\n  <thead>\n    <tr>\n      <th></th>\n      <th></th>\n      <th colspan=\"3\" halign=\"left\">sum</th>\n    </tr>\n    <tr>\n      <th></th>\n      <th></th>\n      <th>Total_Profit</th>\n      <th>Total_Revenue</th>\n      <th>Units_Sold</th>\n    </tr>\n    <tr>\n      <th>Region</th>\n      <th>Country</th>\n      <th></th>\n      <th></th>\n      <th></th>\n    </tr>\n  </thead>\n  <tbody>\n    <tr>\n      <th rowspan=\"9\" valign=\"top\">Asia</th>\n      <th>Bangladesh</th>\n      <td>606834.72</td>\n      <td>902980.64</td>\n      <td>8263</td>\n    </tr>\n    <tr>\n      <th>Brunei</th>\n      <td>846885.00</td>\n      <td>4368316.68</td>\n      <td>6708</td>\n    </tr>\n    <tr>\n      <th>Kyrgyzstan</th>\n      <td>7828.12</td>\n      <td>19103.44</td>\n      <td>124</td>\n    </tr>\n    <tr>\n      <th>Laos</th>\n      <td>235601.16</td>\n      <td>574951.92</td>\n      <td>3732</td>\n    </tr>\n    <tr>\n      <th>Malaysia</th>\n      <td>15103.47</td>\n      <td>58471.11</td>\n      <td>6267</td>\n    </tr>\n    <tr>\n      <th>Mongolia</th>\n      <td>122819.06</td>\n      <td>400558.73</td>\n      <td>4901</td>\n    </tr>\n    <tr>\n      <th>Myanmar</th>\n      <td>1802771.70</td>\n      <td>6161257.90</td>\n      <td>14180</td>\n    </tr>\n    <tr>\n      <th>Sri Lanka</th>\n      <td>1208744.24</td>\n      <td>3039414.40</td>\n      <td>6952</td>\n    </tr>\n    <tr>\n      <th>Turkmenistan</th>\n      <td>1267258.40</td>\n      <td>5822036.20</td>\n      <td>8840</td>\n    </tr>\n    <tr>\n      <th>Australia and Oceania</th>\n      <th>Australia</th>\n      <td>576605.12</td>\n      <td>2489933.49</td>\n      <td>12995</td>\n    </tr>\n  </tbody>\n</table>\n</div>"
     },
     "execution_count": 10,
     "metadata": {},
     "output_type": "execute_result"
    }
   ],
   "source": [
    "table = pd.pivot_table(sales_df, \n",
    "                       index=[\"Region\", \"Country\"],\n",
    "                       values=[\"Units_Sold\",\"Total_Revenue\", \"Total_Profit\"],\n",
    "                       aggfunc=[np.sum])\n",
    "\n",
    "table.head(10)"
   ]
  },
  {
   "cell_type": "markdown",
   "metadata": {},
   "source": [
    "### Printing all the columns for the row index  `Asia`"
   ]
  },
  {
   "cell_type": "code",
   "execution_count": 11,
   "metadata": {
    "ExecuteTime": {
     "end_time": "2024-01-23T02:53:40.049134155Z",
     "start_time": "2024-01-23T02:53:40.002742104Z"
    }
   },
   "outputs": [
    {
     "data": {
      "text/plain": "                      sum                         \n             Total_Profit Total_Revenue Units_Sold\nCountry                                           \nBangladesh      606834.72     902980.64       8263\nBrunei          846885.00    4368316.68       6708\nKyrgyzstan        7828.12      19103.44        124\nLaos            235601.16     574951.92       3732\nMalaysia         15103.47      58471.11       6267\nMongolia        122819.06     400558.73       4901\nMyanmar        1802771.70    6161257.90      14180\nSri Lanka      1208744.24    3039414.40       6952\nTurkmenistan   1267258.40    5822036.20       8840",
      "text/html": "<div>\n<style scoped>\n    .dataframe tbody tr th:only-of-type {\n        vertical-align: middle;\n    }\n\n    .dataframe tbody tr th {\n        vertical-align: top;\n    }\n\n    .dataframe thead tr th {\n        text-align: left;\n    }\n\n    .dataframe thead tr:last-of-type th {\n        text-align: right;\n    }\n</style>\n<table border=\"1\" class=\"dataframe\">\n  <thead>\n    <tr>\n      <th></th>\n      <th colspan=\"3\" halign=\"left\">sum</th>\n    </tr>\n    <tr>\n      <th></th>\n      <th>Total_Profit</th>\n      <th>Total_Revenue</th>\n      <th>Units_Sold</th>\n    </tr>\n    <tr>\n      <th>Country</th>\n      <th></th>\n      <th></th>\n      <th></th>\n    </tr>\n  </thead>\n  <tbody>\n    <tr>\n      <th>Bangladesh</th>\n      <td>606834.72</td>\n      <td>902980.64</td>\n      <td>8263</td>\n    </tr>\n    <tr>\n      <th>Brunei</th>\n      <td>846885.00</td>\n      <td>4368316.68</td>\n      <td>6708</td>\n    </tr>\n    <tr>\n      <th>Kyrgyzstan</th>\n      <td>7828.12</td>\n      <td>19103.44</td>\n      <td>124</td>\n    </tr>\n    <tr>\n      <th>Laos</th>\n      <td>235601.16</td>\n      <td>574951.92</td>\n      <td>3732</td>\n    </tr>\n    <tr>\n      <th>Malaysia</th>\n      <td>15103.47</td>\n      <td>58471.11</td>\n      <td>6267</td>\n    </tr>\n    <tr>\n      <th>Mongolia</th>\n      <td>122819.06</td>\n      <td>400558.73</td>\n      <td>4901</td>\n    </tr>\n    <tr>\n      <th>Myanmar</th>\n      <td>1802771.70</td>\n      <td>6161257.90</td>\n      <td>14180</td>\n    </tr>\n    <tr>\n      <th>Sri Lanka</th>\n      <td>1208744.24</td>\n      <td>3039414.40</td>\n      <td>6952</td>\n    </tr>\n    <tr>\n      <th>Turkmenistan</th>\n      <td>1267258.40</td>\n      <td>5822036.20</td>\n      <td>8840</td>\n    </tr>\n  </tbody>\n</table>\n</div>"
     },
     "execution_count": 11,
     "metadata": {},
     "output_type": "execute_result"
    }
   ],
   "source": [
    "table.loc['Asia', : ]"
   ]
  },
  {
   "cell_type": "markdown",
   "metadata": {},
   "source": [
    "### Printing all the columns for the index `Asia` and sub index `Myanmar`"
   ]
  },
  {
   "cell_type": "code",
   "execution_count": 12,
   "metadata": {
    "ExecuteTime": {
     "end_time": "2024-01-23T02:53:41.302726408Z",
     "start_time": "2024-01-23T02:53:41.299665736Z"
    }
   },
   "outputs": [
    {
     "data": {
      "text/plain": "sum  Total_Profit     1802771.7\n     Total_Revenue    6161257.9\n     Units_Sold         14180.0\nName: (Asia, Myanmar), dtype: float64"
     },
     "execution_count": 12,
     "metadata": {},
     "output_type": "execute_result"
    }
   ],
   "source": [
    "table.loc[('Asia','Myanmar'),  : ]"
   ]
  },
  {
   "cell_type": "code",
   "execution_count": 13,
   "metadata": {
    "ExecuteTime": {
     "end_time": "2024-01-23T02:53:41.705377041Z",
     "start_time": "2024-01-23T02:53:41.700718119Z"
    }
   },
   "outputs": [
    {
     "data": {
      "text/plain": "Index(['Asia', 'Asia', 'Asia', 'Asia', 'Asia', 'Asia', 'Asia', 'Asia', 'Asia',\n       'Australia and Oceania', 'Australia and Oceania',\n       'Australia and Oceania', 'Australia and Oceania',\n       'Australia and Oceania', 'Australia and Oceania',\n       'Australia and Oceania', 'Australia and Oceania',\n       'Australia and Oceania', 'Central America', 'Central America',\n       'Central America', 'Central America', 'Central America',\n       'Central America', 'Europe', 'Europe', 'Europe', 'Europe', 'Europe',\n       'Europe', 'Europe', 'Europe', 'Europe', 'Europe', 'Europe', 'Europe',\n       'Europe', 'Europe', 'Europe', 'Europe', 'Europe', 'Europe', 'Europe',\n       'Middle East and North Africa', 'Middle East and North Africa',\n       'Middle East and North Africa', 'Middle East and North Africa',\n       'Middle East and North Africa', 'Middle East and North Africa',\n       'Middle East and North Africa', 'Middle East and North Africa',\n       'North America', 'Sub-Saharan Africa', 'Sub-Saharan Africa',\n       'Sub-Saharan Africa', 'Sub-Saharan Africa', 'Sub-Saharan Africa',\n       'Sub-Saharan Africa', 'Sub-Saharan Africa', 'Sub-Saharan Africa',\n       'Sub-Saharan Africa', 'Sub-Saharan Africa', 'Sub-Saharan Africa',\n       'Sub-Saharan Africa', 'Sub-Saharan Africa', 'Sub-Saharan Africa',\n       'Sub-Saharan Africa', 'Sub-Saharan Africa', 'Sub-Saharan Africa',\n       'Sub-Saharan Africa', 'Sub-Saharan Africa', 'Sub-Saharan Africa',\n       'Sub-Saharan Africa', 'Sub-Saharan Africa', 'Sub-Saharan Africa',\n       'Sub-Saharan Africa'],\n      dtype='object', name='Region')"
     },
     "execution_count": 13,
     "metadata": {},
     "output_type": "execute_result"
    }
   ],
   "source": [
    "table.index.get_level_values(0)"
   ]
  },
  {
   "cell_type": "code",
   "execution_count": 14,
   "metadata": {
    "ExecuteTime": {
     "end_time": "2024-01-23T02:53:42.082828013Z",
     "start_time": "2024-01-23T02:53:42.080845327Z"
    }
   },
   "outputs": [
    {
     "data": {
      "text/plain": "Index(['Asia', 'Australia and Oceania', 'Central America', 'Europe',\n       'Middle East and North Africa', 'North America', 'Sub-Saharan Africa'],\n      dtype='object', name='Region')"
     },
     "execution_count": 14,
     "metadata": {},
     "output_type": "execute_result"
    }
   ],
   "source": [
    "unique_regions = table.index.get_level_values(0).unique()\n",
    "\n",
    "unique_regions"
   ]
  },
  {
   "cell_type": "code",
   "execution_count": 15,
   "metadata": {
    "ExecuteTime": {
     "end_time": "2024-01-23T02:53:42.389915473Z",
     "start_time": "2024-01-23T02:53:42.387762526Z"
    }
   },
   "outputs": [
    {
     "data": {
      "text/plain": "Index(['Bangladesh', 'Brunei', 'Kyrgyzstan', 'Laos', 'Malaysia', 'Mongolia',\n       'Myanmar', 'Sri Lanka', 'Turkmenistan', 'Australia', 'East Timor',\n       'Federated States of Micronesia', 'Fiji', 'Kiribati', 'New Zealand',\n       'Samoa', 'Solomon Islands', 'Tuvalu', 'Belize', 'Costa Rica', 'Grenada',\n       'Haiti', 'Honduras', 'Nicaragua', 'Albania', 'Austria', 'Bulgaria',\n       'France', 'Iceland', 'Lithuania', 'Macedonia', 'Moldova', 'Monaco',\n       'Norway', 'Portugal', 'Romania', 'Russia', 'San Marino', 'Slovakia',\n       'Slovenia', 'Spain', 'Switzerland', 'United Kingdom', 'Azerbaijan',\n       'Iran', 'Kuwait', 'Lebanon', 'Libya', 'Pakistan', 'Saudi Arabia',\n       'Syria', 'Mexico', 'Angola', 'Burkina Faso', 'Cameroon', 'Cape Verde',\n       'Comoros', 'Cote d'Ivoire', 'Democratic Republic of the Congo',\n       'Djibouti', 'Gabon', 'Kenya', 'Lesotho', 'Madagascar', 'Mali',\n       'Mauritania', 'Mozambique', 'Niger', 'Republic of the Congo', 'Rwanda',\n       'Sao Tome and Principe', 'Senegal', 'Sierra Leone', 'South Sudan',\n       'The Gambia', 'Zambia'],\n      dtype='object', name='Country')"
     },
     "execution_count": 15,
     "metadata": {},
     "output_type": "execute_result"
    }
   ],
   "source": [
    "unique_countries = table.index.get_level_values(1).unique()\n",
    "\n",
    "unique_countries"
   ]
  },
  {
   "cell_type": "code",
   "execution_count": 16,
   "metadata": {
    "ExecuteTime": {
     "end_time": "2024-01-23T02:53:42.778981950Z",
     "start_time": "2024-01-23T02:53:42.776643843Z"
    }
   },
   "outputs": [
    {
     "name": "stdout",
     "output_type": "stream",
     "text": [
      "                      sum                         \n",
      "             Total_Profit Total_Revenue Units_Sold\n",
      "Country                                           \n",
      "Bangladesh      606834.72     902980.64       8263\n",
      "Brunei          846885.00    4368316.68       6708\n",
      "Kyrgyzstan        7828.12      19103.44        124\n",
      "Laos            235601.16     574951.92       3732\n",
      "Malaysia         15103.47      58471.11       6267\n",
      "Mongolia        122819.06     400558.73       4901\n",
      "Myanmar        1802771.70    6161257.90      14180\n",
      "Sri Lanka      1208744.24    3039414.40       6952\n",
      "Turkmenistan   1267258.40    5822036.20       8840\n",
      "                                        sum                         \n",
      "                               Total_Profit Total_Revenue Units_Sold\n",
      "Country                                                             \n",
      "Australia                         576605.12    2489933.49      12995\n",
      "East Timor                        337937.60    2492526.12       5908\n",
      "Federated States of Micronesia    146875.14     445033.55       9379\n",
      "Fiji                              727423.20    1082418.40       9905\n",
      "Kiribati                           13009.18      50363.34       5398\n",
      "New Zealand                         5270.67      20404.71       2187\n",
      "Samoa                            1678540.98    4220728.80       9654\n",
      "Solomon Islands                   285087.64     759202.72       2974\n",
      "Tuvalu                            951410.50    2533654.00       9925\n",
      "                    sum                         \n",
      "           Total_Profit Total_Revenue Units_Sold\n",
      "Country                                         \n",
      "Belize        403773.12     600821.44       5498\n",
      "Costa Rica    160609.54     523807.57       6409\n",
      "Grenada       248406.36     576782.80       2804\n",
      "Haiti         296448.35     745426.00       1705\n",
      "Honduras     1609947.52    6336545.48      11199\n",
      "Nicaragua     127722.96     387002.20       8156\n",
      "                        sum                         \n",
      "               Total_Profit Total_Revenue Units_Sold\n",
      "Country                                             \n",
      "Albania           166635.36     247956.32       2269\n",
      "Austria           495007.89    1244708.40       2847\n",
      "Bulgaria          626223.87    2779199.71       5660\n",
      "France            315574.05     793518.00       1815\n",
      "Iceland          1541705.29    3876652.40       8867\n",
      "Lithuania        1046233.75    5396577.27       8287\n",
      "Macedonia         575916.48     856973.76       7842\n",
      "Moldova           127054.20     414371.10       5070\n",
      "Monaco            825738.04    2198981.92       8614\n",
      "Norway            794398.84    2144969.80      12574\n",
      "Portugal          122029.78     324971.44       1273\n",
      "Romania          1375311.70    3458252.00       7910\n",
      "Russia            224598.75    1158502.59       1779\n",
      "San Marino        455335.00    1212580.00       4750\n",
      "Slovakia           10795.23      26344.26        171\n",
      "Slovenia           72975.60     221117.00       4660\n",
      "Spain             747939.49    3015902.51       4513\n",
      "Switzerland      1512729.45    3808901.49       8934\n",
      "United Kingdom     46735.86     188452.14        282\n",
      "                      sum                         \n",
      "             Total_Profit Total_Revenue Units_Sold\n",
      "Country                                           \n",
      "Azerbaijan     1512926.83    4478800.21       9255\n",
      "Iran           1128242.43    2836990.80       6489\n",
      "Kuwait            1258.02       4870.26        522\n",
      "Lebanon         579000.96     861563.52       7884\n",
      "Libya           450780.97     674635.57       6789\n",
      "Pakistan       1719922.04    4324782.40       9892\n",
      "Saudi Arabia    359941.17     835759.10       4063\n",
      "Syria             9119.44      35304.72       3784\n",
      "                 sum                         \n",
      "        Total_Profit Total_Revenue Units_Sold\n",
      "Country                                      \n",
      "Mexico    1457942.76    5643356.55      19143\n",
      "                                          sum                         \n",
      "                                 Total_Profit Total_Revenue Units_Sold\n",
      "Country                                                               \n",
      "Angola                              693911.51    2798046.49       4187\n",
      "Burkina Faso                        510216.66    1245112.92       8082\n",
      "Cameroon                            781681.30    3851030.28      10948\n",
      "Cape Verde                          306097.92     455479.04       4168\n",
      "Comoros                              85223.58     197883.40        962\n",
      "Cote d'Ivoire                       255718.08     380512.96       3482\n",
      "Democratic Republic of the Congo     89904.06     272410.45       5741\n",
      "Djibouti                           2425317.87    6052890.86      23198\n",
      "Gabon                               216919.36     707454.88       8656\n",
      "Kenya                               407630.41     994765.42       6457\n",
      "Lesotho                              23150.46      89623.98       9606\n",
      "Madagascar                          539196.48     802333.76       7342\n",
      "Mali                                 79245.74     151359.90       6710\n",
      "Mauritania                          159832.50     824431.86       1266\n",
      "Mozambique                          889472.91    3586605.09       5367\n",
      "Niger                                75555.90     246415.95       3015\n",
      "Republic of the Congo               152114.20     496101.10       6070\n",
      "Rwanda                             1417493.49    5253769.42       9539\n",
      "Sao Tome and Principe               176193.13     565780.92      24568\n",
      "Senegal                             584073.87    1356180.10       6593\n",
      "Sierra Leone                        649879.30    3097359.15       5890\n",
      "South Sudan                          53252.50     173676.25       2125\n",
      "The Gambia                         1385883.27    5449517.95      14813\n",
      "Zambia                              225246.90     623289.30       4085\n"
     ]
    }
   ],
   "source": [
    "for region in unique_regions:\n",
    "    print(table.loc[ (region), : ])"
   ]
  },
  {
   "cell_type": "code",
   "execution_count": 17,
   "metadata": {
    "ExecuteTime": {
     "end_time": "2024-01-23T02:53:43.175878733Z",
     "start_time": "2024-01-23T02:53:43.111694476Z"
    }
   },
   "outputs": [
    {
     "name": "stderr",
     "output_type": "stream",
     "text": [
      "/tmp/ipykernel_19130/1684421679.py:5: FutureWarning: Starting with pandas version 3.0 all arguments of to_excel except for the argument 'excel_writer' will be keyword-only.\n",
      "  temp_df.to_excel(writer, region)\n"
     ]
    },
    {
     "ename": "AttributeError",
     "evalue": "'OpenpyxlWriter' object has no attribute 'save'",
     "output_type": "error",
     "traceback": [
      "\u001B[0;31m---------------------------------------------------------------------------\u001B[0m",
      "\u001B[0;31mAttributeError\u001B[0m                            Traceback (most recent call last)",
      "Cell \u001B[0;32mIn[17], line 7\u001B[0m\n\u001B[1;32m      4\u001B[0m     temp_df \u001B[38;5;241m=\u001B[39m table\u001B[38;5;241m.\u001B[39mloc[ (region), : ]\n\u001B[1;32m      5\u001B[0m     temp_df\u001B[38;5;241m.\u001B[39mto_excel(writer, region)\n\u001B[0;32m----> 7\u001B[0m \u001B[43mwriter\u001B[49m\u001B[38;5;241;43m.\u001B[39;49m\u001B[43msave\u001B[49m()\n",
      "\u001B[0;31mAttributeError\u001B[0m: 'OpenpyxlWriter' object has no attribute 'save'"
     ]
    }
   ],
   "source": [
    "writer = pd.ExcelWriter('workbooks/sales_pivot_tables.xlsx')\n",
    "\n",
    "for region in unique_regions:\n",
    "    temp_df = table.loc[ (region), : ]\n",
    "    temp_df.to_excel(writer, region)\n",
    "\n",
    "writer.save()"
   ]
  },
  {
   "cell_type": "markdown",
   "metadata": {},
   "source": [
    "### `Stesps to do in GUI:` \n",
    "* Click on the file that is created\n",
    "* Drag the name tabs\n",
    "* Click on the bottom where for each of the regions one separate worksheet has been created"
   ]
  },
  {
   "cell_type": "markdown",
   "metadata": {},
   "source": [
    "### `Steps to do in GUI`:\n",
    "\n",
    "* Open the xlsx file `sales_record.xlsx`\n",
    "\n",
    "* Select on insert on the top\n",
    "\n",
    "* Select on the `recomended pivot table`\n",
    "\n",
    "* Select each of the recomended pivot table\n",
    "\n",
    "* Show that the pivot table we have made from pandas is not included there\n",
    "\n",
    "* After that selct the `pivot table` option\n",
    "\n",
    "* Select On pivot table after that\n",
    "\n",
    "* We can see on window here, Don't change anything click on `Ok`\n",
    "\n",
    "* Drag the region column in filter\n",
    "\n",
    "* Drag the `country` and then `item_type` to the `rows`\n",
    "\n",
    "* Drag the `total item` and `total profit` to the `values` \n",
    "\n",
    "* On the top in the filter option select the different regions and we can generate sam results as pandas piot table"
   ]
  },
  {
   "cell_type": "code",
   "execution_count": 17,
   "metadata": {
    "ExecuteTime": {
     "end_time": "2024-01-23T02:53:44.437850604Z",
     "start_time": "2024-01-23T02:53:44.435521785Z"
    }
   },
   "outputs": [],
   "source": []
  },
  {
   "cell_type": "code",
   "execution_count": null,
   "metadata": {},
   "outputs": [],
   "source": []
  },
  {
   "cell_type": "code",
   "execution_count": null,
   "metadata": {},
   "outputs": [],
   "source": []
  },
  {
   "cell_type": "code",
   "execution_count": null,
   "metadata": {},
   "outputs": [],
   "source": []
  },
  {
   "cell_type": "code",
   "execution_count": null,
   "metadata": {},
   "outputs": [],
   "source": []
  }
 ],
 "metadata": {
  "kernelspec": {
   "display_name": "Python 3",
   "language": "python",
   "name": "python3"
  },
  "language_info": {
   "codemirror_mode": {
    "name": "ipython",
    "version": 3
   },
   "file_extension": ".py",
   "mimetype": "text/x-python",
   "name": "python",
   "nbconvert_exporter": "python",
   "pygments_lexer": "ipython3",
   "version": "3.7.3"
  }
 },
 "nbformat": 4,
 "nbformat_minor": 2
}
