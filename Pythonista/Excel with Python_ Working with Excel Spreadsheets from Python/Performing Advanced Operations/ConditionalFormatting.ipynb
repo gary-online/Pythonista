{
 "cells": [
  {
   "cell_type": "markdown",
   "metadata": {},
   "source": [
    "### Importing library"
   ]
  },
  {
   "cell_type": "code",
   "execution_count": null,
   "metadata": {},
   "outputs": [],
   "source": [
    "import openpyxl"
   ]
  },
  {
   "cell_type": "markdown",
   "metadata": {},
   "source": [
    "### Loading the dataset"
   ]
  },
  {
   "cell_type": "code",
   "execution_count": null,
   "metadata": {},
   "outputs": [],
   "source": [
    "work_book = openpyxl.load_workbook(\"datasets/sales_record.xlsx\")"
   ]
  },
  {
   "cell_type": "markdown",
   "metadata": {},
   "source": [
    "It is a dataset containing records of sales from different region and their countries for different items traded in offline and online platforms\n",
    "\n",
    "http://eforexcel.com/wp/wp-content/uploads/2017/07/100-Sales-Records.zip"
   ]
  },
  {
   "cell_type": "markdown",
   "metadata": {},
   "source": [
    "### `Steps to do GUI`:\n",
    "* Click on the file and show the dataset "
   ]
  },
  {
   "cell_type": "markdown",
   "metadata": {},
   "source": [
    "### Making an object of the active sheet"
   ]
  },
  {
   "cell_type": "code",
   "execution_count": null,
   "metadata": {},
   "outputs": [],
   "source": [
    "sheet = work_book.active"
   ]
  },
  {
   "cell_type": "markdown",
   "metadata": {},
   "source": [
    "### Checking the maximum row and column"
   ]
  },
  {
   "cell_type": "code",
   "execution_count": null,
   "metadata": {},
   "outputs": [],
   "source": [
    "sheet.max_row"
   ]
  },
  {
   "cell_type": "code",
   "execution_count": null,
   "metadata": {},
   "outputs": [],
   "source": [
    "sheet.max_column"
   ]
  },
  {
   "cell_type": "code",
   "execution_count": null,
   "metadata": {},
   "outputs": [],
   "source": [
    "for row in sheet['K2:M101']:\n",
    "    for cell in row:\n",
    "        cell.number_format = '#,##0'"
   ]
  },
  {
   "cell_type": "code",
   "execution_count": null,
   "metadata": {},
   "outputs": [],
   "source": [
    "work_book.save(\"workbooks/sales_basic_conditional.xlsx\")"
   ]
  },
  {
   "cell_type": "code",
   "execution_count": null,
   "metadata": {},
   "outputs": [],
   "source": []
  },
  {
   "cell_type": "markdown",
   "metadata": {},
   "source": [
    "### Formating example\n",
    "Here we'll highlight the rows of the dataset where is Total Profit is less than 70K\n",
    "\n",
    "`Note`: As the number of products sold also differs so the profit differes but here we just want to know the rows with less profit"
   ]
  },
  {
   "cell_type": "code",
   "execution_count": null,
   "metadata": {},
   "outputs": [],
   "source": [
    "from openpyxl.styles import PatternFill, colors\n",
    "from openpyxl.styles.differential import DifferentialStyle\n",
    "from openpyxl.formatting.rule import Rule"
   ]
  },
  {
   "cell_type": "markdown",
   "metadata": {},
   "source": [
    "### Creating a pattern fill object"
   ]
  },
  {
   "cell_type": "code",
   "execution_count": null,
   "metadata": {},
   "outputs": [],
   "source": [
    "yellow_background = PatternFill(bgColor = colors.FF0000)"
   ]
  },
  {
   "cell_type": "markdown",
   "metadata": {},
   "source": [
    "### Giving the pattern fill object as an input inside it"
   ]
  },
  {
   "cell_type": "code",
   "execution_count": null,
   "metadata": {},
   "outputs": [],
   "source": [
    "diff_style = DifferentialStyle(fill = yellow_background)"
   ]
  },
  {
   "cell_type": "markdown",
   "metadata": {},
   "source": [
    "### Creating a rule object"
   ]
  },
  {
   "cell_type": "code",
   "execution_count": null,
   "metadata": {},
   "outputs": [],
   "source": [
    "rule = Rule(type=\"expression\", dxf = diff_style)"
   ]
  },
  {
   "cell_type": "markdown",
   "metadata": {},
   "source": [
    "### Specifying the rule formula\n",
    "\n",
    "* Specifyng the rows where the Total Profit is less than 70000, the column of total profit is M"
   ]
  },
  {
   "cell_type": "code",
   "execution_count": null,
   "metadata": {},
   "outputs": [],
   "source": [
    "rule.formula = [\"$M1<70000\"]"
   ]
  },
  {
   "cell_type": "code",
   "execution_count": null,
   "metadata": {},
   "outputs": [],
   "source": [
    "sheet.calculate_dimension()"
   ]
  },
  {
   "cell_type": "code",
   "execution_count": null,
   "metadata": {},
   "outputs": [],
   "source": [
    "sheet.conditional_formatting.add(sheet.calculate_dimension(), rule)"
   ]
  },
  {
   "cell_type": "code",
   "execution_count": null,
   "metadata": {},
   "outputs": [],
   "source": [
    "work_book.save(\"workbooks/sales_basic_conditional.xlsx\")"
   ]
  },
  {
   "cell_type": "markdown",
   "metadata": {},
   "source": [
    "### `Steps to do GUI`:\n",
    "* Click on the file\n",
    "* Show that that the rows with total profit less than 50000 is yellow"
   ]
  },
  {
   "cell_type": "markdown",
   "metadata": {},
   "source": [
    "### Openpyxl package offers 3 built-in formats that make it easier to create a few common conditional formatting patterns. These built-ins are:\n",
    "\n",
    "`ColorScale`: The ColorScale gives you the ability to create color gradients\n",
    "\n",
    "`IconSet`: The IconSet allows you to add an icon to the cell according to its value\n",
    "\n",
    "`DataBar`: It allows you to create progress bars"
   ]
  },
  {
   "cell_type": "markdown",
   "metadata": {},
   "source": [
    "## Example showing use of `ColorScale`"
   ]
  },
  {
   "cell_type": "markdown",
   "metadata": {},
   "source": [
    "### Creating a new workbook"
   ]
  },
  {
   "cell_type": "code",
   "execution_count": null,
   "metadata": {},
   "outputs": [],
   "source": [
    "from openpyxl.formatting.rule import ColorScaleRule"
   ]
  },
  {
   "cell_type": "code",
   "execution_count": null,
   "metadata": {},
   "outputs": [],
   "source": [
    "color_scale_rule = ColorScaleRule(start_type=\"min\",\n",
    "                                  start_color=colors.YELLOW,\n",
    "                                  end_type=\"max\",\n",
    "                                  end_color=colors.RED)"
   ]
  },
  {
   "cell_type": "markdown",
   "metadata": {},
   "source": [
    "#### We begin from the original sales file"
   ]
  },
  {
   "cell_type": "code",
   "execution_count": null,
   "metadata": {},
   "outputs": [],
   "source": [
    "work_book = openpyxl.load_workbook(\"datasets/sales_record.xlsx\")\n",
    "\n",
    "sheet = work_book.active"
   ]
  },
  {
   "cell_type": "code",
   "execution_count": null,
   "metadata": {},
   "outputs": [],
   "source": [
    "for row in sheet['K2:M101']:\n",
    "    for cell in row:\n",
    "        cell.number_format = '#,##0'"
   ]
  },
  {
   "cell_type": "markdown",
   "metadata": {},
   "source": [
    "https://openpyxl.readthedocs.io/en/stable/api/openpyxl.formatting.rule.html#openpyxl.formatting.rule.ColorScaleRule"
   ]
  },
  {
   "cell_type": "markdown",
   "metadata": {},
   "source": [
    "### Again, let's add this gradient to the total profit, column \"M\""
   ]
  },
  {
   "cell_type": "code",
   "execution_count": null,
   "metadata": {},
   "outputs": [],
   "source": [
    "sheet.conditional_formatting.add(\"M2:M101\", color_scale_rule)"
   ]
  },
  {
   "cell_type": "code",
   "execution_count": null,
   "metadata": {},
   "outputs": [],
   "source": [
    "work_book.save(filename=\"workbooks/sales_profit_colorscale.xlsx\")"
   ]
  },
  {
   "cell_type": "code",
   "execution_count": null,
   "metadata": {},
   "outputs": [],
   "source": [
    "work_book = openpyxl.load_workbook(\"datasets/sales_record.xlsx\")\n",
    "\n",
    "sheet = work_book.active\n",
    "\n",
    "for row in sheet['K2:M101']:\n",
    "    for cell in row:\n",
    "        cell.number_format = '#,##0'"
   ]
  },
  {
   "cell_type": "code",
   "execution_count": null,
   "metadata": {},
   "outputs": [],
   "source": [
    "color_scale_rule = ColorScaleRule(start_type='percentile', start_value=0, start_color='F2B5EC',\n",
    "                                  mid_type='percentile', mid_value=50, mid_color='FFFF66',\n",
    "                                  end_type='percentile', end_value=90, end_color='81DC3B')"
   ]
  },
  {
   "cell_type": "code",
   "execution_count": null,
   "metadata": {},
   "outputs": [],
   "source": [
    "sheet.conditional_formatting.add(\"M2:M101\", color_scale_rule)"
   ]
  },
  {
   "cell_type": "code",
   "execution_count": null,
   "metadata": {},
   "outputs": [],
   "source": [
    "work_book.save(filename=\"workbooks/sales_profit_colorscale.xlsx\")"
   ]
  },
  {
   "cell_type": "markdown",
   "metadata": {},
   "source": [
    "### `Steps to do GUI`:\n",
    "* Click on the file\n",
    "* Show that that the rows with higher to lower total profit is changing the color gradient from yellow to red"
   ]
  },
  {
   "cell_type": "markdown",
   "metadata": {},
   "source": [
    "## Example showing use of `IconSetRule`"
   ]
  },
  {
   "cell_type": "code",
   "execution_count": null,
   "metadata": {},
   "outputs": [],
   "source": [
    "from openpyxl.formatting.rule import IconSetRule"
   ]
  },
  {
   "cell_type": "code",
   "execution_count": null,
   "metadata": {},
   "outputs": [],
   "source": [
    "work_book = openpyxl.load_workbook(\"datasets/zomato_reviews.xlsx\")\n",
    "\n",
    "sheet = work_book.active"
   ]
  },
  {
   "cell_type": "markdown",
   "metadata": {},
   "source": [
    "https://www.kaggle.com/shrutimehta/zomato-restaurants-data\n",
    "* This datasets gives information about different aspects of a resturant "
   ]
  },
  {
   "cell_type": "markdown",
   "metadata": {},
   "source": [
    "### `Steps to do GUI`:\n",
    "* Click on the file and show the dataset "
   ]
  },
  {
   "cell_type": "code",
   "execution_count": null,
   "metadata": {},
   "outputs": [],
   "source": [
    "icon_set_rule = IconSetRule(icon_style = \"4Arrows\", \n",
    "                            type = \"num\", \n",
    "                            values = [1, 2, 3, 4])"
   ]
  },
  {
   "cell_type": "markdown",
   "metadata": {},
   "source": [
    "https://openpyxl.readthedocs.io/en/stable/api/openpyxl.formatting.rule.html#openpyxl.formatting.rule.IconSet"
   ]
  },
  {
   "cell_type": "code",
   "execution_count": null,
   "metadata": {},
   "outputs": [],
   "source": [
    "sheet.max_row"
   ]
  },
  {
   "cell_type": "code",
   "execution_count": null,
   "metadata": {},
   "outputs": [],
   "source": [
    "sheet.conditional_formatting.add(\"G2:G9552\", icon_set_rule)"
   ]
  },
  {
   "cell_type": "code",
   "execution_count": null,
   "metadata": {},
   "outputs": [],
   "source": [
    "work_book.save(\"workbooks/zomato_iconset.xlsx\")"
   ]
  },
  {
   "cell_type": "code",
   "execution_count": null,
   "metadata": {},
   "outputs": [],
   "source": [
    "work_book = openpyxl.load_workbook(\"datasets/sales_record.xlsx\")\n",
    "\n",
    "sheet = work_book.active\n",
    "\n",
    "for row in sheet['K2:M101']:\n",
    "    for cell in row:\n",
    "        cell.number_format = '#,##0'"
   ]
  },
  {
   "cell_type": "code",
   "execution_count": null,
   "metadata": {},
   "outputs": [],
   "source": [
    "icon_set_rule = IconSetRule(icon_style = \"3Symbols\", \n",
    "                            type = \"percentile\", \n",
    "                            values = [10, 50, 90])"
   ]
  },
  {
   "cell_type": "code",
   "execution_count": null,
   "metadata": {},
   "outputs": [],
   "source": [
    "sheet.conditional_formatting.add(\"M2:M101\", icon_set_rule)"
   ]
  },
  {
   "cell_type": "code",
   "execution_count": null,
   "metadata": {},
   "outputs": [],
   "source": [
    "work_book.save(\"workbooks/sales_iconset.xlsx\")"
   ]
  },
  {
   "cell_type": "markdown",
   "metadata": {},
   "source": [
    "### `Steps to do GUI`:\n",
    "* Click on the file\n",
    "* We can see that the arrows are different for four different price index"
   ]
  },
  {
   "cell_type": "markdown",
   "metadata": {},
   "source": [
    "## Example showing use of `DataBar`"
   ]
  },
  {
   "cell_type": "code",
   "execution_count": null,
   "metadata": {},
   "outputs": [],
   "source": [
    "from openpyxl.formatting.rule import DataBarRule"
   ]
  },
  {
   "cell_type": "code",
   "execution_count": null,
   "metadata": {},
   "outputs": [],
   "source": [
    "work_book = openpyxl.load_workbook(\"datasets/zomato_reviews.xlsx\")\n",
    "\n",
    "sheet = work_book.active"
   ]
  },
  {
   "cell_type": "markdown",
   "metadata": {},
   "source": [
    "https://openpyxl.readthedocs.io/en/stable/api/openpyxl.formatting.rule.html#openpyxl.formatting.rule.DataBarRule"
   ]
  },
  {
   "cell_type": "code",
   "execution_count": null,
   "metadata": {},
   "outputs": [],
   "source": [
    "data_bar_rule = DataBarRule(start_type=\"num\",\n",
    "                            start_value=1,\n",
    "                            end_type=\"num\",\n",
    "                            end_value=\"4\",\n",
    "                            color=colors.RED)"
   ]
  },
  {
   "cell_type": "code",
   "execution_count": null,
   "metadata": {},
   "outputs": [],
   "source": [
    "sheet.conditional_formatting.add(\"G2:G9552\", data_bar_rule)"
   ]
  },
  {
   "cell_type": "code",
   "execution_count": null,
   "metadata": {},
   "outputs": [],
   "source": [
    "work_book.save(\"workbooks/zomato_databar.xlsx\")"
   ]
  },
  {
   "cell_type": "markdown",
   "metadata": {},
   "source": [
    "### `Steps to do GUI`:\n",
    "* Click on the file\n",
    "* We can see that lower the price lesser the bar and vice versa"
   ]
  },
  {
   "cell_type": "code",
   "execution_count": null,
   "metadata": {},
   "outputs": [],
   "source": []
  },
  {
   "cell_type": "code",
   "execution_count": null,
   "metadata": {},
   "outputs": [],
   "source": []
  },
  {
   "cell_type": "code",
   "execution_count": null,
   "metadata": {},
   "outputs": [],
   "source": []
  },
  {
   "cell_type": "code",
   "execution_count": null,
   "metadata": {},
   "outputs": [],
   "source": []
  }
 ],
 "metadata": {
  "kernelspec": {
   "display_name": "Python 3",
   "language": "python",
   "name": "python3"
  },
  "language_info": {
   "codemirror_mode": {
    "name": "ipython",
    "version": 3
   },
   "file_extension": ".py",
   "mimetype": "text/x-python",
   "name": "python",
   "nbconvert_exporter": "python",
   "pygments_lexer": "ipython3",
   "version": "3.7.3"
  }
 },
 "nbformat": 4,
 "nbformat_minor": 2
}
