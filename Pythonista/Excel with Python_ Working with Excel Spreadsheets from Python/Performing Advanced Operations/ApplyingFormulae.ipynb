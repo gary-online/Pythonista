{
 "cells": [
  {
   "cell_type": "code",
   "execution_count": 1,
   "metadata": {
    "ExecuteTime": {
     "end_time": "2024-01-23T02:18:07.225415950Z",
     "start_time": "2024-01-23T02:18:06.936763953Z"
    }
   },
   "outputs": [],
   "source": [
    "from openpyxl.utils import FORMULAE"
   ]
  },
  {
   "cell_type": "markdown",
   "metadata": {},
   "source": [
    "### Printing out all the formules available"
   ]
  },
  {
   "cell_type": "code",
   "execution_count": 2,
   "metadata": {
    "ExecuteTime": {
     "end_time": "2024-01-23T02:18:07.238193321Z",
     "start_time": "2024-01-23T02:18:07.229336534Z"
    }
   },
   "outputs": [
    {
     "data": {
      "text/plain": "frozenset({'ABS',\n           'ACCRINT',\n           'ACCRINTM',\n           'ACOS',\n           'ACOSH',\n           'AMORDEGRC',\n           'AMORLINC',\n           'AND',\n           'AREAS',\n           'ASC',\n           'ASIN',\n           'ASINH',\n           'ATAN',\n           'ATAN2',\n           'ATANH',\n           'AVEDEV',\n           'AVERAGE',\n           'AVERAGEA',\n           'AVERAGEIF',\n           'AVERAGEIFS',\n           'BAHTTEXT',\n           'BESSELI',\n           'BESSELJ',\n           'BESSELK',\n           'BESSELY',\n           'BETADIST',\n           'BETAINV',\n           'BIN2DEC',\n           'BIN2HEX',\n           'BIN2OCT',\n           'BINOMDIST',\n           'CEILING',\n           'CELL',\n           'CHAR',\n           'CHIDIST',\n           'CHIINV',\n           'CHITEST',\n           'CHOOSE',\n           'CLEAN',\n           'CODE',\n           'COLUMN',\n           'COLUMNS',\n           'COMBIN',\n           'COMPLEX',\n           'CONCATENATE',\n           'CONFIDENCE',\n           'CONVERT',\n           'CORREL',\n           'COS',\n           'COSH',\n           'COUNT',\n           'COUNTA',\n           'COUNTBLANK',\n           'COUNTIF',\n           'COUNTIFS',\n           'COUPDAYBS',\n           'COUPDAYS',\n           'COUPDAYSNC',\n           'COUPNCD',\n           'COUPNUM',\n           'COUPPCD',\n           'COVAR',\n           'CRITBINOM',\n           'CUBEKPIMEMBER',\n           'CUBEMEMBER',\n           'CUBEMEMBERPROPERTY',\n           'CUBERANKEDMEMBER',\n           'CUBESET',\n           'CUBESETCOUNT',\n           'CUBEVALUE',\n           'CUMIPMT',\n           'CUMPRINC',\n           'DATE',\n           'DATEDIF',\n           'DATEVALUE',\n           'DAVERAGE',\n           'DAY',\n           'DAYS360',\n           'DB',\n           'DCOUNT',\n           'DCOUNTA',\n           'DDB',\n           'DEC2BIN',\n           'DEC2HEX',\n           'DEC2OCT',\n           'DEGREES',\n           'DELTA',\n           'DEVSQ',\n           'DGET',\n           'DISC',\n           'DMAX',\n           'DMIN',\n           'DOLLAR',\n           'DOLLARDE',\n           'DOLLARFR',\n           'DPRODUCT',\n           'DSTDEV',\n           'DSTDEVP',\n           'DSUM',\n           'DURATION',\n           'DVAR',\n           'DVARP',\n           'ECMA.CEILING',\n           'EDATE',\n           'EFFECT',\n           'EOMONTH',\n           'ERF',\n           'ERFC',\n           'ERROR.TYPE',\n           'EVEN',\n           'EXACT',\n           'EXP',\n           'EXPONDIST',\n           'FACT',\n           'FACTDOUBLE',\n           'FALSE',\n           'FDIST',\n           'FIND',\n           'FINDB',\n           'FINV',\n           'FISHER',\n           'FISHERINV',\n           'FIXED',\n           'FLOOR',\n           'FORECAST',\n           'FREQUENCY',\n           'FTEST',\n           'FV',\n           'FVSCHEDULE',\n           'GAMMADIST',\n           'GAMMAINV',\n           'GAMMALN',\n           'GCD',\n           'GEOMEAN',\n           'GESTEP',\n           'GETPIVOTDATA',\n           'GROWTH',\n           'HARMEAN',\n           'HEX2BIN',\n           'HEX2DEC',\n           'HEX2OCT',\n           'HLOOKUP',\n           'HOUR',\n           'HYPERLINK',\n           'HYPGEOMDIST',\n           'IF',\n           'IFERROR',\n           'IMABS',\n           'IMAGINARY',\n           'IMARGUMENT',\n           'IMCONJUGATE',\n           'IMCOS',\n           'IMDIV',\n           'IMEXP',\n           'IMLN',\n           'IMLOG10',\n           'IMLOG2',\n           'IMPOWER',\n           'IMPRODUCT',\n           'IMREAL',\n           'IMSIN',\n           'IMSQRT',\n           'IMSUB',\n           'IMSUM',\n           'INDEX',\n           'INDIRECT',\n           'INFO',\n           'INT',\n           'INTERCEPT',\n           'INTRATE',\n           'IPMT',\n           'IRR',\n           'ISBLANK',\n           'ISERR',\n           'ISERROR',\n           'ISEVEN',\n           'ISLOGICAL',\n           'ISNA',\n           'ISNONTEXT',\n           'ISNUMBER',\n           'ISO.CEILING',\n           'ISODD',\n           'ISPMT',\n           'ISREF',\n           'ISTEXT',\n           'JIS',\n           'KURT',\n           'LARGE',\n           'LCM',\n           'LEFT',\n           'LEFTB',\n           'LEN',\n           'LENB',\n           'LINEST',\n           'LN',\n           'LOG',\n           'LOG10',\n           'LOGEST',\n           'LOGINV',\n           'LOGNORMDIST',\n           'LOOKUP',\n           'LOWER',\n           'MATCH',\n           'MAX',\n           'MAXA',\n           'MDETERM',\n           'MDURATION',\n           'MEDIAN',\n           'MID',\n           'MIDB',\n           'MIN',\n           'MINA',\n           'MINUTE',\n           'MINVERSE',\n           'MIRR',\n           'MMULT',\n           'MOD',\n           'MODE',\n           'MONTH',\n           'MROUND',\n           'MULTINOMIAL',\n           'N',\n           'NA',\n           'NEGBINOMDIST',\n           'NETWORKDAYS',\n           'NETWORKDAYS.INTL',\n           'NOMINAL',\n           'NORMDIST',\n           'NORMINV',\n           'NORMSDIST',\n           'NORMSINV',\n           'NOT',\n           'NOW',\n           'NPER',\n           'NPV',\n           'OCT2BIN',\n           'OCT2DEC',\n           'OCT2HEX',\n           'ODD',\n           'ODDFPRICE',\n           'ODDFYIELD',\n           'ODDLPRICE',\n           'ODDLYIELD',\n           'OFFSET',\n           'OR',\n           'PEARSON',\n           'PERCENTILE',\n           'PERCENTRANK',\n           'PERMUT',\n           'PHONETIC',\n           'PI',\n           'PMT',\n           'POISSON',\n           'POWER',\n           'PPMT',\n           'PRICE',\n           'PRICEDISC',\n           'PRICEMAT',\n           'PROB',\n           'PRODUCT',\n           'PROPER',\n           'PV',\n           'QUARTILE',\n           'QUOTIENT',\n           'RADIANS',\n           'RAND',\n           'RANDBETWEEN',\n           'RANK',\n           'RATE',\n           'RECEIVED',\n           'REPLACE',\n           'REPLACEB',\n           'REPT',\n           'RIGHT',\n           'RIGHTB',\n           'ROMAN',\n           'ROUND',\n           'ROUNDDOWN',\n           'ROUNDUP',\n           'ROW',\n           'ROWS',\n           'RSQ',\n           'RTD',\n           'SEARCH',\n           'SEARCHB',\n           'SECOND',\n           'SERIESSUM',\n           'SIGN',\n           'SIN',\n           'SINH',\n           'SKEW',\n           'SLN',\n           'SLOPE',\n           'SMALL',\n           'SQRT',\n           'SQRTPI',\n           'STANDARDIZE',\n           'STDEV STDEVA',\n           'STDEVP',\n           'STDEVPA STEYX',\n           'SUBSTITUTE',\n           'SUBTOTAL',\n           'SUM',\n           'SUMIF',\n           'SUMIFS',\n           'SUMPRODUCT',\n           'SUMSQ',\n           'SUMX2MY2',\n           'SUMX2PY2',\n           'SUMXMY2',\n           'SYD',\n           'T',\n           'TAN',\n           'TANH',\n           'TBILLEQ',\n           'TBILLPRICE',\n           'TBILLYIELD',\n           'TDIST',\n           'TEXT',\n           'TIME',\n           'TIMEVALUE',\n           'TINV',\n           'TODAY',\n           'TRANSPOSE',\n           'TREND',\n           'TRIM',\n           'TRIMMEAN',\n           'TRUE ADDRESS',\n           'TRUNC',\n           'TTEST',\n           'TYPE',\n           'UPPER',\n           'VALUE',\n           'VAR',\n           'VARA',\n           'VARP',\n           'VARPA',\n           'VDB',\n           'VLOOKUP',\n           'WEEKDAY',\n           'WEEKNUM',\n           'WEIBULL',\n           'WORKDAY ',\n           'WORKDAY.INTL',\n           'XIRR',\n           'XNPV',\n           'YEAR',\n           'YEARFRAC',\n           'YIELD',\n           'YIELDDISC',\n           'YIELDMAT',\n           'ZTEST'})"
     },
     "execution_count": 2,
     "metadata": {},
     "output_type": "execute_result"
    }
   ],
   "source": [
    "FORMULAE"
   ]
  },
  {
   "cell_type": "markdown",
   "metadata": {},
   "source": [
    "# 1) Performing common arithmetic task "
   ]
  },
  {
   "cell_type": "code",
   "execution_count": 3,
   "metadata": {
    "ExecuteTime": {
     "end_time": "2024-01-23T02:18:09.601254293Z",
     "start_time": "2024-01-23T02:18:09.591557971Z"
    }
   },
   "outputs": [],
   "source": [
    "import openpyxl"
   ]
  },
  {
   "cell_type": "markdown",
   "metadata": {},
   "source": [
    "### Creating a workbook and sheet"
   ]
  },
  {
   "cell_type": "code",
   "execution_count": 4,
   "metadata": {
    "ExecuteTime": {
     "end_time": "2024-01-23T02:18:12.555844618Z",
     "start_time": "2024-01-23T02:18:12.550486660Z"
    }
   },
   "outputs": [],
   "source": [
    "work_book = openpyxl.Workbook()\n",
    "\n",
    "sheet = work_book.active"
   ]
  },
  {
   "cell_type": "markdown",
   "metadata": {},
   "source": [
    "### Writing to the cell of an excel sheet"
   ]
  },
  {
   "cell_type": "code",
   "execution_count": 5,
   "metadata": {
    "ExecuteTime": {
     "end_time": "2024-01-23T02:18:16.951616287Z",
     "start_time": "2024-01-23T02:18:16.947867408Z"
    }
   },
   "outputs": [],
   "source": [
    "sheet['A1'] = 21\n",
    "sheet['A2'] = 11\n",
    "sheet['A3'] = 7\n",
    "sheet['A4'] = 9\n",
    "sheet['A5'] = 6"
   ]
  },
  {
   "cell_type": "markdown",
   "metadata": {},
   "source": [
    "## 1) Addition '=SUM()'"
   ]
  },
  {
   "cell_type": "markdown",
   "metadata": {},
   "source": [
    "### We want sum of all the cells and want to store the result in `A7` cell"
   ]
  },
  {
   "cell_type": "code",
   "execution_count": 6,
   "metadata": {
    "ExecuteTime": {
     "end_time": "2024-01-23T02:20:54.184559493Z",
     "start_time": "2024-01-23T02:20:54.142983846Z"
    }
   },
   "outputs": [],
   "source": [
    "sheet['C2'] = 'SUM:'\n",
    "sheet['D2'] = '=SUM(A1:A5)'"
   ]
  },
  {
   "cell_type": "markdown",
   "metadata": {},
   "source": [
    "### Save the file"
   ]
  },
  {
   "cell_type": "code",
   "execution_count": 7,
   "metadata": {
    "ExecuteTime": {
     "end_time": "2024-01-23T02:20:57.309421753Z",
     "start_time": "2024-01-23T02:20:57.295415462Z"
    }
   },
   "outputs": [],
   "source": [
    "work_book.save(\"workbooks/formulae.xlsx\")"
   ]
  },
  {
   "cell_type": "markdown",
   "metadata": {},
   "source": [
    "### `Steps to in GUI`: \n",
    "* Click on the file\n",
    "* Click on `A7` show that on the top we can see the same formula for `addition`"
   ]
  },
  {
   "cell_type": "markdown",
   "metadata": {},
   "source": [
    "#### Product and Count"
   ]
  },
  {
   "cell_type": "code",
   "execution_count": 8,
   "metadata": {
    "ExecuteTime": {
     "end_time": "2024-01-23T02:21:31.888670769Z",
     "start_time": "2024-01-23T02:21:31.885868757Z"
    }
   },
   "outputs": [],
   "source": [
    "sheet['C3'] = 'PRODUCT:'\n",
    "sheet['D3'] = '=PRODUCT(A1:A5)'"
   ]
  },
  {
   "cell_type": "code",
   "execution_count": 9,
   "metadata": {
    "ExecuteTime": {
     "end_time": "2024-01-23T02:21:32.698901452Z",
     "start_time": "2024-01-23T02:21:32.694556998Z"
    }
   },
   "outputs": [],
   "source": [
    "sheet['C4'] = 'COUNT:'\n",
    "sheet['D4'] = '=COUNT(A1:A9)'"
   ]
  },
  {
   "cell_type": "code",
   "execution_count": 10,
   "metadata": {
    "ExecuteTime": {
     "end_time": "2024-01-23T02:21:35.047018257Z",
     "start_time": "2024-01-23T02:21:35.041525033Z"
    }
   },
   "outputs": [],
   "source": [
    "sheet['C5'] = 'MEAN:'\n",
    "sheet['D5'] = '=AVERAGE(A1:A5)'"
   ]
  },
  {
   "cell_type": "code",
   "execution_count": 11,
   "metadata": {
    "ExecuteTime": {
     "end_time": "2024-01-23T02:21:36.256236481Z",
     "start_time": "2024-01-23T02:21:36.249680309Z"
    }
   },
   "outputs": [],
   "source": [
    "work_book.save(\"workbooks/formulae.xlsx\")"
   ]
  },
  {
   "cell_type": "code",
   "execution_count": 12,
   "metadata": {
    "ExecuteTime": {
     "end_time": "2024-01-23T02:25:45.912444067Z",
     "start_time": "2024-01-23T02:25:45.868232790Z"
    }
   },
   "outputs": [],
   "source": [
    "header = ['Cake', 'Quantity', 'Price', 'Revenue']"
   ]
  },
  {
   "cell_type": "code",
   "execution_count": 13,
   "metadata": {
    "ExecuteTime": {
     "end_time": "2024-01-23T02:26:44.292483881Z",
     "start_time": "2024-01-23T02:26:44.247441714Z"
    }
   },
   "outputs": [],
   "source": [
    "data = [['Chocolate', 18, 5], \n",
    "        ['Cheesecake', 13, 4.5], \n",
    "        ['Tres Leches', 16, 5.5], \n",
    "        ['Carrot', 8, 4], \n",
    "        ['Red Velvet', 9, 4.5]]"
   ]
  },
  {
   "cell_type": "code",
   "execution_count": 14,
   "metadata": {
    "ExecuteTime": {
     "end_time": "2024-01-23T02:26:47.350103617Z",
     "start_time": "2024-01-23T02:26:47.345651679Z"
    }
   },
   "outputs": [
    {
     "data": {
      "text/plain": "<Worksheet \"CakeSales\">"
     },
     "execution_count": 14,
     "metadata": {},
     "output_type": "execute_result"
    }
   ],
   "source": [
    "work_book.create_sheet('CakeSales', index=0)"
   ]
  },
  {
   "cell_type": "code",
   "execution_count": 15,
   "metadata": {
    "ExecuteTime": {
     "end_time": "2024-01-23T02:27:02.715624185Z",
     "start_time": "2024-01-23T02:27:02.710920022Z"
    }
   },
   "outputs": [],
   "source": [
    "cake_sales_sheet = work_book['CakeSales']"
   ]
  },
  {
   "cell_type": "code",
   "execution_count": 16,
   "metadata": {
    "ExecuteTime": {
     "end_time": "2024-01-23T02:27:15.712353693Z",
     "start_time": "2024-01-23T02:27:15.668358894Z"
    }
   },
   "outputs": [],
   "source": [
    "cake_sales_sheet.append(header)"
   ]
  },
  {
   "cell_type": "code",
   "execution_count": 17,
   "metadata": {
    "ExecuteTime": {
     "end_time": "2024-01-23T02:27:22.280292189Z",
     "start_time": "2024-01-23T02:27:22.276098689Z"
    }
   },
   "outputs": [],
   "source": [
    "for row in data:\n",
    "    cake_sales_sheet.append(row)"
   ]
  },
  {
   "cell_type": "code",
   "execution_count": 18,
   "metadata": {
    "ExecuteTime": {
     "end_time": "2024-01-23T02:27:26.579422677Z",
     "start_time": "2024-01-23T02:27:26.572115006Z"
    }
   },
   "outputs": [],
   "source": [
    "work_book.save(\"workbooks/formulae.xlsx\")"
   ]
  },
  {
   "cell_type": "code",
   "execution_count": 19,
   "metadata": {
    "ExecuteTime": {
     "end_time": "2024-01-23T02:34:58.568675595Z",
     "start_time": "2024-01-23T02:34:58.518276376Z"
    }
   },
   "outputs": [
    {
     "data": {
      "text/plain": "'6'"
     },
     "execution_count": 19,
     "metadata": {},
     "output_type": "execute_result"
    }
   ],
   "source": [
    "max_row_str = str(cake_sales_sheet.max_row)\n",
    "\n",
    "max_row_str"
   ]
  },
  {
   "cell_type": "code",
   "execution_count": 20,
   "metadata": {
    "ExecuteTime": {
     "end_time": "2024-01-23T02:41:09.794844206Z",
     "start_time": "2024-01-23T02:41:09.787937788Z"
    }
   },
   "outputs": [],
   "source": [
    "for row in cake_sales_sheet['D2:D' + max_row_str]:\n",
    "    for cell in row:\n",
    "        cell.value = '=$B${0}*$C${0}'.format(cell.row)"
   ]
  },
  {
   "cell_type": "code",
   "execution_count": 21,
   "metadata": {
    "ExecuteTime": {
     "end_time": "2024-01-23T02:41:17.320668434Z",
     "start_time": "2024-01-23T02:41:17.313956985Z"
    }
   },
   "outputs": [],
   "source": [
    "totals_row_str = str(cake_sales_sheet.max_row + 2)"
   ]
  },
  {
   "cell_type": "code",
   "execution_count": 22,
   "metadata": {
    "ExecuteTime": {
     "end_time": "2024-01-23T02:41:26.950665769Z",
     "start_time": "2024-01-23T02:41:26.941713064Z"
    }
   },
   "outputs": [],
   "source": [
    "cake_sales_sheet['C' + totals_row_str] = 'Total Sales:'"
   ]
  },
  {
   "cell_type": "code",
   "execution_count": 23,
   "metadata": {
    "ExecuteTime": {
     "end_time": "2024-01-23T02:41:29.259118729Z",
     "start_time": "2024-01-23T02:41:29.254758145Z"
    }
   },
   "outputs": [],
   "source": [
    "cake_sales_sheet['D' + totals_row_str] = '=SUM(D2:D' + max_row_str + ')'"
   ]
  },
  {
   "cell_type": "code",
   "execution_count": 24,
   "metadata": {
    "ExecuteTime": {
     "end_time": "2024-01-23T02:41:36.086288673Z",
     "start_time": "2024-01-23T02:41:36.053019887Z"
    }
   },
   "outputs": [],
   "source": [
    "work_book.save(\"workbooks/formulae.xlsx\")"
   ]
  },
  {
   "cell_type": "code",
   "execution_count": 27,
   "metadata": {},
   "outputs": [],
   "source": [
    "for row in cake_sales_sheet['C2:D' + max_row_str]:\n",
    "    for cell in row:\n",
    "        cell.number_format = '$#,##0.00'"
   ]
  },
  {
   "cell_type": "code",
   "execution_count": 28,
   "metadata": {},
   "outputs": [],
   "source": [
    "cake_sales_sheet['D' + totals_row_str].number_format = '$#,##0.00'"
   ]
  },
  {
   "cell_type": "code",
   "execution_count": 29,
   "metadata": {},
   "outputs": [],
   "source": [
    "work_book.save(\"workbooks/formulae.xlsx\")"
   ]
  },
  {
   "cell_type": "code",
   "execution_count": null,
   "metadata": {},
   "outputs": [],
   "source": []
  },
  {
   "cell_type": "code",
   "execution_count": null,
   "metadata": {},
   "outputs": [],
   "source": []
  }
 ],
 "metadata": {
  "kernelspec": {
   "display_name": "Python 3",
   "language": "python",
   "name": "python3"
  },
  "language_info": {
   "codemirror_mode": {
    "name": "ipython",
    "version": 3
   },
   "file_extension": ".py",
   "mimetype": "text/x-python",
   "name": "python",
   "nbconvert_exporter": "python",
   "pygments_lexer": "ipython3",
   "version": "3.7.3"
  }
 },
 "nbformat": 4,
 "nbformat_minor": 2
}
