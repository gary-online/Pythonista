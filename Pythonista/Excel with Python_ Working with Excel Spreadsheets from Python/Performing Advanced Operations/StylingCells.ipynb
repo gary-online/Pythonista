{
 "cells": [
  {
   "cell_type": "markdown",
   "metadata": {},
   "source": [
    "### Importing library"
   ]
  },
  {
   "cell_type": "code",
   "execution_count": 16,
   "metadata": {
    "ExecuteTime": {
     "end_time": "2024-01-19T01:16:51.530286376Z",
     "start_time": "2024-01-19T01:16:51.477597698Z"
    }
   },
   "outputs": [],
   "source": [
    "import openpyxl"
   ]
  },
  {
   "cell_type": "markdown",
   "metadata": {},
   "source": [
    "### Creating a workbook object of the loaded dataset\n",
    "\n",
    "* Its a dataset that contains records of students from ivy leauge institutions along with their qualifications\n",
    "* Made up data"
   ]
  },
  {
   "cell_type": "code",
   "execution_count": 17,
   "metadata": {
    "ExecuteTime": {
     "end_time": "2024-01-19T01:16:51.545583954Z",
     "start_time": "2024-01-19T01:16:51.533092017Z"
    }
   },
   "outputs": [],
   "source": [
    "work_book = openpyxl.load_workbook('datasets/student_data.xlsx')"
   ]
  },
  {
   "cell_type": "markdown",
   "metadata": {},
   "source": [
    "### ` Steps to do in GUI`:\n",
    "* Click on the file and show the dataset"
   ]
  },
  {
   "cell_type": "markdown",
   "metadata": {},
   "source": [
    "### Accessing the sheets"
   ]
  },
  {
   "cell_type": "code",
   "execution_count": 18,
   "metadata": {
    "ExecuteTime": {
     "end_time": "2024-01-19T01:16:51.546284998Z",
     "start_time": "2024-01-19T01:16:51.544313604Z"
    }
   },
   "outputs": [
    {
     "data": {
      "text/plain": "['Sheet']"
     },
     "execution_count": 18,
     "metadata": {},
     "output_type": "execute_result"
    }
   ],
   "source": [
    "work_book.sheetnames"
   ]
  },
  {
   "cell_type": "markdown",
   "metadata": {},
   "source": [
    "### Creating a object of the default sheet"
   ]
  },
  {
   "cell_type": "code",
   "execution_count": 19,
   "metadata": {
    "ExecuteTime": {
     "end_time": "2024-01-19T01:16:51.581733429Z",
     "start_time": "2024-01-19T01:16:51.545516647Z"
    }
   },
   "outputs": [],
   "source": [
    "sheet = work_book['Sheet']"
   ]
  },
  {
   "cell_type": "markdown",
   "metadata": {},
   "source": [
    "### Import necessary style classes"
   ]
  },
  {
   "cell_type": "code",
   "execution_count": 20,
   "metadata": {
    "ExecuteTime": {
     "end_time": "2024-01-19T01:16:51.582387344Z",
     "start_time": "2024-01-19T01:16:51.554774004Z"
    }
   },
   "outputs": [],
   "source": [
    "from openpyxl.styles import Font, Color, Alignment, Border, Side, colors"
   ]
  },
  {
   "cell_type": "markdown",
   "metadata": {},
   "source": [
    "### Create a few styles"
   ]
  },
  {
   "cell_type": "code",
   "execution_count": 21,
   "metadata": {
    "ExecuteTime": {
     "end_time": "2024-01-19T01:16:51.603134826Z",
     "start_time": "2024-01-19T01:16:51.554963341Z"
    }
   },
   "outputs": [],
   "source": [
    "bold_font = Font(bold=True)"
   ]
  },
  {
   "cell_type": "code",
   "execution_count": 22,
   "metadata": {
    "ExecuteTime": {
     "end_time": "2024-01-19T01:16:51.603854506Z",
     "start_time": "2024-01-19T01:16:51.582144015Z"
    }
   },
   "outputs": [],
   "source": [
    "big_red_text = Font(color=\"FF0000\", size=20)"
   ]
  },
  {
   "cell_type": "code",
   "execution_count": 23,
   "metadata": {
    "ExecuteTime": {
     "end_time": "2024-01-19T01:16:51.604390608Z",
     "start_time": "2024-01-19T01:16:51.582278759Z"
    }
   },
   "outputs": [],
   "source": [
    "center_aligned_text = Alignment(horizontal=\"center\")"
   ]
  },
  {
   "cell_type": "code",
   "execution_count": 24,
   "metadata": {
    "ExecuteTime": {
     "end_time": "2024-01-19T01:16:51.618705449Z",
     "start_time": "2024-01-19T01:16:51.603510616Z"
    }
   },
   "outputs": [],
   "source": [
    "double_border_side = Side(border_style=\"double\")"
   ]
  },
  {
   "cell_type": "code",
   "execution_count": 25,
   "metadata": {
    "ExecuteTime": {
     "end_time": "2024-01-19T01:16:51.623065616Z",
     "start_time": "2024-01-19T01:16:51.606973558Z"
    }
   },
   "outputs": [],
   "source": [
    "square_border = Border(top=double_border_side,\n",
    "                       right=double_border_side,\n",
    "                       bottom=double_border_side,\n",
    "                       left=double_border_side)"
   ]
  },
  {
   "cell_type": "code",
   "execution_count": 25,
   "metadata": {
    "ExecuteTime": {
     "end_time": "2024-01-19T01:16:51.623622117Z",
     "start_time": "2024-01-19T01:16:51.621431560Z"
    }
   },
   "outputs": [],
   "source": []
  },
  {
   "cell_type": "markdown",
   "metadata": {},
   "source": [
    "### Style some cells"
   ]
  },
  {
   "cell_type": "markdown",
   "metadata": {},
   "source": [
    "* B2 with the text in bold\n",
    "* B3 with the text in red and bigger font size\n",
    "* B4 with the text centered\n",
    "* B5 with a square border around the text"
   ]
  },
  {
   "cell_type": "code",
   "execution_count": 26,
   "metadata": {
    "ExecuteTime": {
     "end_time": "2024-01-19T01:16:51.655309884Z",
     "start_time": "2024-01-19T01:16:51.623986205Z"
    }
   },
   "outputs": [],
   "source": [
    "sheet[\"B2\"].font = bold_font\n",
    "sheet[\"B3\"].font = big_red_text\n",
    "sheet[\"C4\"].alignment = center_aligned_text\n",
    "sheet[\"C5\"].border = square_border"
   ]
  },
  {
   "cell_type": "code",
   "execution_count": 27,
   "metadata": {
    "ExecuteTime": {
     "end_time": "2024-01-19T01:16:51.655940816Z",
     "start_time": "2024-01-19T01:16:51.653459559Z"
    }
   },
   "outputs": [],
   "source": [
    "work_book.save(filename=\"workbooks/styled.xlsx\")"
   ]
  },
  {
   "cell_type": "markdown",
   "metadata": {},
   "source": [
    "### `Steps to do in GUI`:\n",
    "* Click on the file\n",
    "\n",
    "* Show the changes that has been made to the cells"
   ]
  },
  {
   "cell_type": "markdown",
   "metadata": {},
   "source": [
    "### Combining styles by simply adding them to the cell at the same time:"
   ]
  },
  {
   "cell_type": "markdown",
   "metadata": {},
   "source": [
    "### Reusing the same styles from the example above"
   ]
  },
  {
   "cell_type": "code",
   "execution_count": 28,
   "metadata": {
    "ExecuteTime": {
     "end_time": "2024-01-19T01:16:51.690069405Z",
     "start_time": "2024-01-19T01:16:51.656274146Z"
    }
   },
   "outputs": [],
   "source": [
    "sheet[\"B7\"].alignment = center_aligned_text\n",
    "sheet[\"B7\"].font = big_red_text\n",
    "sheet[\"B7\"].border = square_border"
   ]
  },
  {
   "cell_type": "code",
   "execution_count": 29,
   "metadata": {
    "ExecuteTime": {
     "end_time": "2024-01-19T01:16:51.690687052Z",
     "start_time": "2024-01-19T01:16:51.673890744Z"
    }
   },
   "outputs": [],
   "source": [
    "work_book.save(filename=\"workbooks/styled.xlsx\")"
   ]
  },
  {
   "cell_type": "markdown",
   "metadata": {},
   "source": [
    "### `Steps to do in GUI`:\n",
    "* Click on the file\n",
    "\n",
    "* Show that all the styles are implemented in a single cell this time"
   ]
  },
  {
   "cell_type": "markdown",
   "metadata": {},
   "source": [
    "### When we want to apply multiple styles to one or several cells, you can use a `NamedStyle class` instead, which is like a style template that you can use over and over again. "
   ]
  },
  {
   "cell_type": "code",
   "execution_count": 30,
   "metadata": {
    "ExecuteTime": {
     "end_time": "2024-01-19T01:16:51.692800554Z",
     "start_time": "2024-01-19T01:16:51.690354183Z"
    }
   },
   "outputs": [],
   "source": [
    "from openpyxl.styles import NamedStyle"
   ]
  },
  {
   "cell_type": "markdown",
   "metadata": {},
   "source": [
    "### Creating workbook object again"
   ]
  },
  {
   "cell_type": "markdown",
   "metadata": {},
   "source": [
    "### Let's create a style template for the header row"
   ]
  },
  {
   "cell_type": "code",
   "execution_count": 31,
   "metadata": {
    "ExecuteTime": {
     "end_time": "2024-01-19T01:16:51.706417656Z",
     "start_time": "2024-01-19T01:16:51.692745119Z"
    }
   },
   "outputs": [],
   "source": [
    "custom_style = NamedStyle(name=\"header\")"
   ]
  },
  {
   "cell_type": "code",
   "execution_count": 32,
   "metadata": {
    "ExecuteTime": {
     "end_time": "2024-01-19T01:16:51.706988795Z",
     "start_time": "2024-01-19T01:16:51.704640960Z"
    }
   },
   "outputs": [],
   "source": [
    "custom_style.font = Font(bold=True)"
   ]
  },
  {
   "cell_type": "code",
   "execution_count": 33,
   "metadata": {
    "ExecuteTime": {
     "end_time": "2024-01-19T01:16:51.715042339Z",
     "start_time": "2024-01-19T01:16:51.706826028Z"
    }
   },
   "outputs": [],
   "source": [
    "custom_style.border = Border(bottom=Side(border_style=\"thin\"))"
   ]
  },
  {
   "cell_type": "code",
   "execution_count": 34,
   "metadata": {
    "ExecuteTime": {
     "end_time": "2024-01-19T01:16:51.730117215Z",
     "start_time": "2024-01-19T01:16:51.715342205Z"
    }
   },
   "outputs": [],
   "source": [
    "custom_style.alignment = Alignment(horizontal=\"center\", vertical=\"center\")"
   ]
  },
  {
   "cell_type": "markdown",
   "metadata": {},
   "source": [
    "### Now let's apply this to all first row (header) cells"
   ]
  },
  {
   "cell_type": "code",
   "execution_count": 35,
   "metadata": {
    "ExecuteTime": {
     "end_time": "2024-01-19T01:16:51.732025800Z",
     "start_time": "2024-01-19T01:16:51.715482150Z"
    }
   },
   "outputs": [],
   "source": [
    "header_row = sheet[1]"
   ]
  },
  {
   "cell_type": "code",
   "execution_count": 36,
   "metadata": {
    "ExecuteTime": {
     "end_time": "2024-01-19T01:16:51.732558165Z",
     "start_time": "2024-01-19T01:16:51.730039869Z"
    }
   },
   "outputs": [],
   "source": [
    "for cell in header_row:\n",
    "     cell.style = custom_style"
   ]
  },
  {
   "cell_type": "code",
   "execution_count": 37,
   "metadata": {
    "ExecuteTime": {
     "end_time": "2024-01-19T01:16:51.754828384Z",
     "start_time": "2024-01-19T01:16:51.732200380Z"
    }
   },
   "outputs": [],
   "source": [
    "work_book.save(filename=\"workbooks/styled.xlsx\")"
   ]
  },
  {
   "cell_type": "markdown",
   "metadata": {},
   "source": [
    "### `Steps to do in GUI`:\n",
    "* Click on the file\n",
    "\n",
    "* Show that one the style has been defined it is applied to multiple cells"
   ]
  },
  {
   "cell_type": "code",
   "execution_count": 38,
   "metadata": {
    "ExecuteTime": {
     "end_time": "2024-01-19T01:16:51.757106958Z",
     "start_time": "2024-01-19T01:16:51.739724273Z"
    }
   },
   "outputs": [],
   "source": [
    "from openpyxl.styles.fills import PatternFill"
   ]
  },
  {
   "cell_type": "code",
   "execution_count": 39,
   "metadata": {
    "ExecuteTime": {
     "end_time": "2024-01-19T01:16:51.757733501Z",
     "start_time": "2024-01-19T01:16:51.755192312Z"
    }
   },
   "outputs": [],
   "source": [
    "one_more_style = NamedStyle(name=\"highlight\")"
   ]
  },
  {
   "cell_type": "code",
   "execution_count": 40,
   "metadata": {
    "ExecuteTime": {
     "end_time": "2024-01-19T01:16:51.766709918Z",
     "start_time": "2024-01-19T01:16:51.758017167Z"
    }
   },
   "outputs": [],
   "source": [
    "one_more_style.fill = PatternFill(fgColor=colors.Color('d7abcc'), \n",
    "                                  patternType='lightHorizontal')"
   ]
  },
  {
   "cell_type": "code",
   "execution_count": 41,
   "metadata": {
    "ExecuteTime": {
     "end_time": "2024-01-19T01:16:51.767259316Z",
     "start_time": "2024-01-19T01:16:51.765111239Z"
    }
   },
   "outputs": [],
   "source": [
    "for cell in sheet['A']:\n",
    "     cell.style = one_more_style"
   ]
  },
  {
   "cell_type": "code",
   "execution_count": 42,
   "metadata": {
    "ExecuteTime": {
     "end_time": "2024-01-19T01:16:51.809289019Z",
     "start_time": "2024-01-19T01:16:51.766884488Z"
    }
   },
   "outputs": [],
   "source": [
    "work_book.save(filename=\"workbooks/styled.xlsx\")"
   ]
  },
  {
   "cell_type": "code",
   "execution_count": 42,
   "metadata": {
    "ExecuteTime": {
     "end_time": "2024-01-19T01:16:51.810451425Z",
     "start_time": "2024-01-19T01:16:51.809230839Z"
    }
   },
   "outputs": [],
   "source": []
  }
 ],
 "metadata": {
  "kernelspec": {
   "display_name": "Python 3",
   "language": "python",
   "name": "python3"
  },
  "language_info": {
   "codemirror_mode": {
    "name": "ipython",
    "version": 3
   },
   "file_extension": ".py",
   "mimetype": "text/x-python",
   "name": "python",
   "nbconvert_exporter": "python",
   "pygments_lexer": "ipython3",
   "version": "3.7.3"
  }
 },
 "nbformat": 4,
 "nbformat_minor": 2
}
