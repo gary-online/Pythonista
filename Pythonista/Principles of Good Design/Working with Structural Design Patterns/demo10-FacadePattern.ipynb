{
 "cells": [
  {
   "cell_type": "markdown",
   "metadata": {},
   "source": [
    "Facade design pattern provides a unified interface to a set of interfaces in a subsystem. It defines a higher-level interface that any subsystem can use."
   ]
  },
  {
   "cell_type": "markdown",
   "metadata": {},
   "source": [
    "- Facade class — This class is for implementing interface which will be used by client class. This class will use services implemented in system\n",
    "- System class — Multiple system classes might be there in the system and each system class is for specific purpose.\n",
    "- Client class — Client class is using facade class to access functionality of system. It could be hard to access system class directly so client is using facade class instead.\n",
    "\n",
    "Facade provides interface which can be simple, easy and beautiful to access for client, even though the system may have messy and very much complex subsystems."
   ]
  },
  {
   "cell_type": "markdown",
   "metadata": {},
   "source": [
    "sub system classes"
   ]
  },
  {
   "cell_type": "code",
   "execution_count": 2,
   "metadata": {},
   "outputs": [],
   "source": [
    "class Water():\n",
    "\n",
    "    def adding_water(self):\n",
    "        print(\"water is added to the boiling pan\")"
   ]
  },
  {
   "cell_type": "code",
   "execution_count": 4,
   "metadata": {},
   "outputs": [],
   "source": [
    "class Milk():\n",
    "\n",
    "    def adding_milk(self):\n",
    "        print(\"milk is added to the boiling pan\")"
   ]
  },
  {
   "cell_type": "code",
   "execution_count": 6,
   "metadata": {},
   "outputs": [],
   "source": [
    "class Sugar():\n",
    "\n",
    "    def adding_sugar(self):\n",
    "        print(\"sugar is added to the boiling pan\")"
   ]
  },
  {
   "cell_type": "code",
   "execution_count": 8,
   "metadata": {},
   "outputs": [],
   "source": [
    "class TeaLeaves():\n",
    "\n",
    "    def adding_tealeaves(self):\n",
    "        print(\"tea leaves are added to the boiling pan\")"
   ]
  },
  {
   "cell_type": "code",
   "execution_count": 9,
   "metadata": {},
   "outputs": [],
   "source": [
    "class Boil():\n",
    "    \n",
    "    def boiling(self):\n",
    "        print(\"boil and simmer for 4 minutes\")"
   ]
  },
  {
   "cell_type": "code",
   "execution_count": 21,
   "metadata": {},
   "outputs": [],
   "source": [
    "class Tea():\n",
    "    \n",
    "    def __init__(self):\n",
    "\n",
    "        self.__water = Water()\n",
    "        self.__milk = Milk()\n",
    "        self.__sugar = Sugar()\n",
    "        self.__tealeaves = TeaLeaves()\n",
    "        self.__boil = Boil()\n",
    "        \n",
    "    def prepare(self):\n",
    "        \n",
    "        self.__water.adding_water()\n",
    "        self.__milk.adding_milk()\n",
    "        self.__sugar.adding_sugar()\n",
    "        self.__tealeaves.adding_tealeaves()\n",
    "        self.__boil.boiling()\n",
    "        \n",
    "        print()\n",
    "        print(\"your tea is ready!\")\n",
    "        \n",
    "    def prepare_black_tea(self):\n",
    "        \n",
    "        self.__water.adding_water()\n",
    "        self.__tealeaves.adding_tealeaves()\n",
    "        self.__boil.boiling()\n",
    "        \n",
    "        print()\n",
    "        print(\"your black tea is ready!\")\n",
    "        \n",
    "    def prepare_sugarless_tea(self):\n",
    "        \n",
    "        self.__water.adding_water()\n",
    "        self.__milk.adding_milk()\n",
    "        self.__tealeaves.adding_tealeaves()\n",
    "        self.__boil.boiling()\n",
    "        \n",
    "        print()\n",
    "        print(\"your sugarless tea is ready!\")"
   ]
  },
  {
   "cell_type": "code",
   "execution_count": 22,
   "metadata": {},
   "outputs": [],
   "source": [
    "morning_tea = Tea()"
   ]
  },
  {
   "cell_type": "code",
   "execution_count": 23,
   "metadata": {},
   "outputs": [
    {
     "name": "stdout",
     "output_type": "stream",
     "text": [
      "water is added to the boiling pan\n",
      "milk is added to the boiling pan\n",
      "sugar is added to the boiling pan\n",
      "tea leaves are added to the boiling pan\n",
      "boil and simmer for 4 minutes\n",
      "\n",
      "your tea is ready!\n"
     ]
    }
   ],
   "source": [
    "morning_tea.prepare()"
   ]
  },
  {
   "cell_type": "code",
   "execution_count": 24,
   "metadata": {},
   "outputs": [
    {
     "name": "stdout",
     "output_type": "stream",
     "text": [
      "water is added to the boiling pan\n",
      "tea leaves are added to the boiling pan\n",
      "boil and simmer for 4 minutes\n",
      "\n",
      "your black tea is ready!\n"
     ]
    }
   ],
   "source": [
    "morning_tea.prepare_black_tea()"
   ]
  },
  {
   "cell_type": "code",
   "execution_count": 25,
   "metadata": {},
   "outputs": [
    {
     "name": "stdout",
     "output_type": "stream",
     "text": [
      "water is added to the boiling pan\n",
      "milk is added to the boiling pan\n",
      "tea leaves are added to the boiling pan\n",
      "boil and simmer for 4 minutes\n",
      "\n",
      "your sugarless tea is ready!\n"
     ]
    }
   ],
   "source": [
    "morning_tea.prepare_sugarless_tea()"
   ]
  },
  {
   "cell_type": "code",
   "execution_count": null,
   "metadata": {},
   "outputs": [],
   "source": []
  },
  {
   "cell_type": "code",
   "execution_count": null,
   "metadata": {},
   "outputs": [],
   "source": []
  },
  {
   "cell_type": "code",
   "execution_count": null,
   "metadata": {},
   "outputs": [],
   "source": []
  },
  {
   "cell_type": "code",
   "execution_count": null,
   "metadata": {},
   "outputs": [],
   "source": []
  },
  {
   "cell_type": "code",
   "execution_count": null,
   "metadata": {},
   "outputs": [],
   "source": []
  },
  {
   "cell_type": "code",
   "execution_count": null,
   "metadata": {},
   "outputs": [],
   "source": []
  },
  {
   "cell_type": "code",
   "execution_count": null,
   "metadata": {},
   "outputs": [],
   "source": []
  },
  {
   "cell_type": "code",
   "execution_count": null,
   "metadata": {},
   "outputs": [],
   "source": []
  },
  {
   "cell_type": "code",
   "execution_count": null,
   "metadata": {},
   "outputs": [],
   "source": []
  },
  {
   "cell_type": "code",
   "execution_count": null,
   "metadata": {},
   "outputs": [],
   "source": []
  },
  {
   "cell_type": "code",
   "execution_count": null,
   "metadata": {},
   "outputs": [],
   "source": []
  },
  {
   "cell_type": "code",
   "execution_count": null,
   "metadata": {},
   "outputs": [],
   "source": []
  },
  {
   "cell_type": "code",
   "execution_count": null,
   "metadata": {},
   "outputs": [],
   "source": []
  },
  {
   "cell_type": "code",
   "execution_count": null,
   "metadata": {},
   "outputs": [],
   "source": []
  },
  {
   "cell_type": "code",
   "execution_count": null,
   "metadata": {},
   "outputs": [],
   "source": []
  },
  {
   "cell_type": "code",
   "execution_count": null,
   "metadata": {},
   "outputs": [],
   "source": []
  }
 ],
 "metadata": {
  "kernelspec": {
   "display_name": "Python 3",
   "language": "python",
   "name": "python3"
  },
  "language_info": {
   "codemirror_mode": {
    "name": "ipython",
    "version": 3
   },
   "file_extension": ".py",
   "mimetype": "text/x-python",
   "name": "python",
   "nbconvert_exporter": "python",
   "pygments_lexer": "ipython3",
   "version": "3.6.8"
  }
 },
 "nbformat": 4,
 "nbformat_minor": 2
}
