{
 "cells": [
  {
   "cell_type": "code",
   "execution_count": 6,
   "metadata": {},
   "outputs": [],
   "source": [
    "class Grade:\n",
    "\n",
    "    def __init__(self, percent):\n",
    "        \n",
    "        self.__letter = self.__get_letter(percent)\n",
    "\n",
    "    def __get_letter(self, percent):\n",
    "        \n",
    "        if percent < 20:\n",
    "            return 'F'\n",
    "        if percent < 40:\n",
    "            return 'D'\n",
    "        if percent < 60:\n",
    "            return 'C'\n",
    "        if percent < 80:\n",
    "            return 'B'\n",
    "        if percent < 100:\n",
    "            return 'A'"
   ]
  },
  {
   "cell_type": "code",
   "execution_count": 7,
   "metadata": {},
   "outputs": [],
   "source": [
    "class Student:\n",
    "   \n",
    "    def __init__(self, name, percent): \n",
    "        self.__name = name\n",
    "        self.__percent = percent\n",
    "        self.__grade = Grade(percent)\n",
    " \n",
    "    def get_grade(self):\n",
    "        return self.__grade"
   ]
  },
  {
   "cell_type": "code",
   "execution_count": 13,
   "metadata": {},
   "outputs": [],
   "source": [
    "adam = Student('Adam', 90)\n",
    "\n",
    "bob = Student('Bob', 78)\n",
    "\n",
    "charles = Student('Charles', 95)\n",
    "\n",
    "dorian = Student('Dorian', 65)\n",
    "\n",
    "eve = Student('Eve', 99)"
   ]
  },
  {
   "cell_type": "code",
   "execution_count": 14,
   "metadata": {},
   "outputs": [
    {
     "data": {
      "text/plain": [
       "<__main__.Grade at 0x10c6779e8>"
      ]
     },
     "execution_count": 14,
     "metadata": {},
     "output_type": "execute_result"
    }
   ],
   "source": [
    "adam.get_grade()"
   ]
  },
  {
   "cell_type": "code",
   "execution_count": 15,
   "metadata": {},
   "outputs": [
    {
     "data": {
      "text/plain": [
       "<__main__.Grade at 0x10c677e48>"
      ]
     },
     "execution_count": 15,
     "metadata": {},
     "output_type": "execute_result"
    }
   ],
   "source": [
    "charles.get_grade()"
   ]
  },
  {
   "cell_type": "code",
   "execution_count": 16,
   "metadata": {},
   "outputs": [
    {
     "data": {
      "text/plain": [
       "<__main__.Grade at 0x10c677a58>"
      ]
     },
     "execution_count": 16,
     "metadata": {},
     "output_type": "execute_result"
    }
   ],
   "source": [
    "eve.get_grade()"
   ]
  },
  {
   "cell_type": "code",
   "execution_count": 26,
   "metadata": {},
   "outputs": [],
   "source": [
    "class Grade:\n",
    "\n",
    "    __instance_dict = {}\n",
    "    \n",
    "    def __new__(cls, percent):\n",
    "        letter = cls.__get_letter(percent)\n",
    "        \n",
    "        if letter in cls.__instance_dict:\n",
    "            print('Reusing a previously created grade instance', letter)\n",
    "        else:\n",
    "            print('Creating new grade', letter)\n",
    "\n",
    "            grade = super(Grade, cls).__new__(cls)\n",
    "            grade.__letter = letter\n",
    "            \n",
    "            cls.__instance_dict[letter] = grade\n",
    "        \n",
    "        return cls.__instance_dict[letter]\n",
    "    \n",
    "    @classmethod\n",
    "    def __get_letter(cls, percent):\n",
    "        \n",
    "        if percent < 20:\n",
    "            return 'F'\n",
    "        if percent < 40:\n",
    "            return 'D'\n",
    "        if percent < 60:\n",
    "            return 'C'\n",
    "        if percent < 80:\n",
    "            return 'B'\n",
    "        if percent < 100:\n",
    "            return 'A'"
   ]
  },
  {
   "cell_type": "code",
   "execution_count": 27,
   "metadata": {},
   "outputs": [],
   "source": [
    "class Student:\n",
    "   \n",
    "    def __init__(self, name, percent): \n",
    "        self.__name = name\n",
    "        self.__percent = percent\n",
    "        self.__grade = Grade(percent)\n",
    " \n",
    "    def get_grade(self):\n",
    "        return self.__grade"
   ]
  },
  {
   "cell_type": "code",
   "execution_count": 28,
   "metadata": {},
   "outputs": [
    {
     "name": "stdout",
     "output_type": "stream",
     "text": [
      "Creating new grade A\n",
      "Creating new grade B\n",
      "Reusing a previously created grade instance A\n",
      "Reusing a previously created grade instance B\n",
      "Reusing a previously created grade instance A\n"
     ]
    }
   ],
   "source": [
    "adam = Student('Adam', 90)\n",
    "\n",
    "bob = Student('Bob', 78)\n",
    "\n",
    "charles = Student('Charles', 95)\n",
    "\n",
    "dorian = Student('Dorian', 65)\n",
    "\n",
    "eve = Student('Eve', 99)"
   ]
  },
  {
   "cell_type": "code",
   "execution_count": 29,
   "metadata": {},
   "outputs": [
    {
     "data": {
      "text/plain": [
       "<__main__.Grade at 0x10c6e8080>"
      ]
     },
     "execution_count": 29,
     "metadata": {},
     "output_type": "execute_result"
    }
   ],
   "source": [
    "adam.get_grade()"
   ]
  },
  {
   "cell_type": "code",
   "execution_count": 30,
   "metadata": {},
   "outputs": [
    {
     "data": {
      "text/plain": [
       "<__main__.Grade at 0x10c6e8080>"
      ]
     },
     "execution_count": 30,
     "metadata": {},
     "output_type": "execute_result"
    }
   ],
   "source": [
    "charles.get_grade()"
   ]
  },
  {
   "cell_type": "code",
   "execution_count": 31,
   "metadata": {},
   "outputs": [
    {
     "data": {
      "text/plain": [
       "<__main__.Grade at 0x10c6e8080>"
      ]
     },
     "execution_count": 31,
     "metadata": {},
     "output_type": "execute_result"
    }
   ],
   "source": [
    "eve.get_grade()"
   ]
  },
  {
   "cell_type": "code",
   "execution_count": null,
   "metadata": {},
   "outputs": [],
   "source": []
  },
  {
   "cell_type": "code",
   "execution_count": null,
   "metadata": {},
   "outputs": [],
   "source": []
  },
  {
   "cell_type": "code",
   "execution_count": null,
   "metadata": {},
   "outputs": [],
   "source": []
  }
 ],
 "metadata": {
  "kernelspec": {
   "display_name": "Python 3",
   "language": "python",
   "name": "python3"
  },
  "language_info": {
   "codemirror_mode": {
    "name": "ipython",
    "version": 3
   },
   "file_extension": ".py",
   "mimetype": "text/x-python",
   "name": "python",
   "nbconvert_exporter": "python",
   "pygments_lexer": "ipython3",
   "version": "3.6.8"
  }
 },
 "nbformat": 4,
 "nbformat_minor": 2
}
