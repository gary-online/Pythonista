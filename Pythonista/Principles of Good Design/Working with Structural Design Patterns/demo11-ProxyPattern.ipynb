{
 "cells": [
  {
   "cell_type": "markdown",
   "metadata": {},
   "source": [
    "Proxy is a structural design pattern that provides an object that acts as a substitute for a real service object used by a client. A proxy receives client requests, does some work (access control, caching, etc.) and then passes the request to a service object."
   ]
  },
  {
   "cell_type": "code",
   "execution_count": 6,
   "metadata": {},
   "outputs": [],
   "source": [
    "class SoccerPlayer:\n",
    "\n",
    "    def __init__(self, name, age): \n",
    "        self.name = name\n",
    "        self.age = age\n",
    "\n",
    "    def play(self):\n",
    "        print('Plays for a European club')"
   ]
  },
  {
   "cell_type": "code",
   "execution_count": 7,
   "metadata": {},
   "outputs": [],
   "source": [
    "class ProxySoccerPlayer:\n",
    "   \n",
    "    def __init__(self, name, age): \n",
    "        self.__soccer_player = SoccerPlayer(name, age)\n",
    " \n",
    "    def play(self):\n",
    "        print(\"Checking if the player is of the minimum age\")\n",
    "\n",
    "        if self.__soccer_player.age >= 14:\n",
    "            self.__soccer_player.play()\n",
    "        else:\n",
    "            print(\"Player is underage\")\n"
   ]
  },
  {
   "cell_type": "code",
   "execution_count": 8,
   "metadata": {},
   "outputs": [
    {
     "name": "stdout",
     "output_type": "stream",
     "text": [
      "Checking if the player is of the minimum age\n",
      "Player is underage\n"
     ]
    }
   ],
   "source": [
    "proxy = ProxySoccerPlayer('Adam', 12)\n",
    "\n",
    "proxy.play()"
   ]
  },
  {
   "cell_type": "code",
   "execution_count": 9,
   "metadata": {},
   "outputs": [
    {
     "name": "stdout",
     "output_type": "stream",
     "text": [
      "Checking if the player is of the minimum age\n",
      "Plays for a European club\n"
     ]
    }
   ],
   "source": [
    "proxy = ProxySoccerPlayer('Chris', 20)\n",
    "\n",
    "proxy.play()"
   ]
  },
  {
   "cell_type": "markdown",
   "metadata": {},
   "source": [
    "#### The Subject(Payment) interface declares common operations for both RealSubject(Bank) and the Proxy(credit card)."
   ]
  },
  {
   "cell_type": "markdown",
   "metadata": {},
   "source": [
    "The real subject bank checks if the credit limit is enough and if thats true it will mak the payment otherwise it will decline"
   ]
  },
  {
   "cell_type": "code",
   "execution_count": 30,
   "metadata": {},
   "outputs": [],
   "source": [
    "class Payment:\n",
    "\n",
    "    def pay(self, amount):\n",
    "        pass"
   ]
  },
  {
   "cell_type": "code",
   "execution_count": 31,
   "metadata": {},
   "outputs": [],
   "source": [
    "class BankAccount(Payment):\n",
    "\n",
    "    def __init__(self, balance):\n",
    "        self.__balance = balance\n",
    "        self.__card = None\n",
    "\n",
    "    def set_card(self, card):\n",
    "        self.__card = card\n",
    "\n",
    "    def __has_funds(self, amount):\n",
    "        print(\"Checking whether funds are available\")\n",
    "        \n",
    "        if amount <= self.__balance:\n",
    "            return True\n",
    "\n",
    "        return False\n",
    "\n",
    "    def pay(self, amount):\n",
    "        if self.__has_funds(amount):\n",
    "            print(\"Bank: paying the merchant\", amount)\n",
    "            self.__balance -= amount\n",
    "            return True\n",
    "        else:\n",
    "            print(\"Bank: payment declined, you don't have enough funds\")\n",
    "            return False"
   ]
  },
  {
   "cell_type": "markdown",
   "metadata": {},
   "source": [
    " The Proxy(credit card) has an interface identical to the RealSubject"
   ]
  },
  {
   "cell_type": "code",
   "execution_count": 32,
   "metadata": {},
   "outputs": [],
   "source": [
    "class DebitCard(Payment):\n",
    "\n",
    "    def __init__(self, bank_account):\n",
    "        self.__bank_account = bank_account\n",
    "        self.__bank_account.set_card(self)\n",
    "\n",
    "    def pay(self, amount):\n",
    "        return self.__bank_account.pay(amount)"
   ]
  },
  {
   "cell_type": "code",
   "execution_count": 33,
   "metadata": {},
   "outputs": [],
   "source": [
    "bank_account = BankAccount(1000)"
   ]
  },
  {
   "cell_type": "code",
   "execution_count": 34,
   "metadata": {},
   "outputs": [],
   "source": [
    "debit_card = DebitCard(bank_account)"
   ]
  },
  {
   "cell_type": "code",
   "execution_count": 35,
   "metadata": {},
   "outputs": [
    {
     "name": "stdout",
     "output_type": "stream",
     "text": [
      "Checking whether funds are available\n",
      "Bank: paying the merchant 500\n"
     ]
    },
    {
     "data": {
      "text/plain": [
       "True"
      ]
     },
     "execution_count": 35,
     "metadata": {},
     "output_type": "execute_result"
    }
   ],
   "source": [
    "debit_card.pay(500)"
   ]
  },
  {
   "cell_type": "code",
   "execution_count": 36,
   "metadata": {},
   "outputs": [
    {
     "name": "stdout",
     "output_type": "stream",
     "text": [
      "Checking whether funds are available\n",
      "Bank: payment declined, you don't have enough funds\n"
     ]
    },
    {
     "data": {
      "text/plain": [
       "False"
      ]
     },
     "execution_count": 36,
     "metadata": {},
     "output_type": "execute_result"
    }
   ],
   "source": [
    "debit_card.pay(2000)"
   ]
  },
  {
   "cell_type": "code",
   "execution_count": null,
   "metadata": {},
   "outputs": [],
   "source": []
  }
 ],
 "metadata": {
  "kernelspec": {
   "display_name": "Python 3",
   "language": "python",
   "name": "python3"
  },
  "language_info": {
   "codemirror_mode": {
    "name": "ipython",
    "version": 3
   },
   "file_extension": ".py",
   "mimetype": "text/x-python",
   "name": "python",
   "nbconvert_exporter": "python",
   "pygments_lexer": "ipython3",
   "version": "3.6.8"
  }
 },
 "nbformat": 4,
 "nbformat_minor": 2
}
