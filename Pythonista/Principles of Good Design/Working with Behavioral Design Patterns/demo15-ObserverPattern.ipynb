{
 "cells": [
  {
   "cell_type": "markdown",
   "metadata": {},
   "source": [
    "The pattern’s aim is to define a one-to-many relationship such that when one object changes state, the others are notified and updated automatically."
   ]
  },
  {
   "cell_type": "markdown",
   "metadata": {},
   "source": [
    "- Subject: It is considered as the keeper of information, of data or of business logic.\n",
    "- Register/Attach: Observers register themselves to the subject because they want to be notified when there is a change.\n",
    "- Event: Events act as a trigger in the subject such that all the observers are notified.\n",
    "- Notify: Depending on the implementation, the subject may “push” information to the observers, or, the observers may “pull” if they need information from the subject.\n",
    "- Update: Observers update their state independently from other observers however their state might change depending on the triggered event."
   ]
  },
  {
   "cell_type": "markdown",
   "metadata": {},
   "source": [
    "There are four participants in the Observer pattern\n",
    "\n",
    "- Subject, which is used to register observers. Objects use this interface to register as observers and also to remove themselves from being observers.\n",
    "- Observer defines an updating interface for objects that should be notified of changes in a subject. All observers need to implement the Observer interface. This interface has a method update(), which gets called when the Subject's state changes.\n",
    "- ConcreteSubject, stores the state of interest to ConcreteObserver objects. It sends a notification to its observers when its state changes. A concrete subject always implements the Subject interface. The notifyObservers() method is used to update all the current observers whenever the state changes.\n",
    "- ConcreateObserver maintains a reference to a ConcreteSubject object and implements the Observer interface. Each observer registers with a concrete subject to receive updates."
   ]
  },
  {
   "cell_type": "markdown",
   "metadata": {},
   "source": [
    "We have  two subscribers to a magazine"
   ]
  },
  {
   "cell_type": "code",
   "execution_count": 1,
   "metadata": {},
   "outputs": [],
   "source": [
    "class Publisher:\n",
    "    \n",
    "    def __init__(self, name):\n",
    "        self.__name = name\n",
    "        self.__subscribers = set()\n",
    "\n",
    "    def register(self, subscriber):\n",
    "        self.__subscribers.add(subscriber)\n",
    "\n",
    "    def unregister(self, subscriber):\n",
    "        self.__subscribers.discard(subscriber)\n",
    "\n",
    "    def publish(self, message):\n",
    "        for subscriber in self.__subscribers:\n",
    "            subscriber.notify(message)"
   ]
  },
  {
   "cell_type": "code",
   "execution_count": 2,
   "metadata": {},
   "outputs": [],
   "source": [
    "class Subscriber():\n",
    "\n",
    "    def __init__(self, name):\n",
    "        self.__name = name\n",
    "\n",
    "    def notify(self, message):\n",
    "        print(self.__name + ' received message: ' + message)"
   ]
  },
  {
   "cell_type": "code",
   "execution_count": 16,
   "metadata": {},
   "outputs": [],
   "source": [
    "publisher = Publisher('News')"
   ]
  },
  {
   "cell_type": "code",
   "execution_count": 17,
   "metadata": {},
   "outputs": [],
   "source": [
    "alice = Subscriber('Alice')\n",
    "\n",
    "betty = Subscriber('Betty')"
   ]
  },
  {
   "cell_type": "code",
   "execution_count": 18,
   "metadata": {},
   "outputs": [],
   "source": [
    "publisher.register(alice)\n",
    "publisher.register(betty)"
   ]
  },
  {
   "cell_type": "code",
   "execution_count": 19,
   "metadata": {},
   "outputs": [
    {
     "name": "stdout",
     "output_type": "stream",
     "text": [
      "Alice received message: Today was a calm and peaceful day, nothing much happened\n",
      "Betty received message: Today was a calm and peaceful day, nothing much happened\n"
     ]
    }
   ],
   "source": [
    "publisher.publish('Today was a calm and peaceful day, nothing much happened')"
   ]
  },
  {
   "cell_type": "code",
   "execution_count": 20,
   "metadata": {},
   "outputs": [],
   "source": [
    "charles = Subscriber('Charles')"
   ]
  },
  {
   "cell_type": "code",
   "execution_count": 21,
   "metadata": {},
   "outputs": [],
   "source": [
    "publisher.register(charles)"
   ]
  },
  {
   "cell_type": "code",
   "execution_count": 22,
   "metadata": {},
   "outputs": [
    {
     "name": "stdout",
     "output_type": "stream",
     "text": [
      "Alice received message: Hurricane Dorian is going to make landfall today\n",
      "Betty received message: Hurricane Dorian is going to make landfall today\n",
      "Charles received message: Hurricane Dorian is going to make landfall today\n"
     ]
    }
   ],
   "source": [
    "publisher.publish('Hurricane Dorian is going to make landfall today')"
   ]
  },
  {
   "cell_type": "code",
   "execution_count": 23,
   "metadata": {},
   "outputs": [],
   "source": [
    "publisher.unregister(betty)"
   ]
  },
  {
   "cell_type": "code",
   "execution_count": 24,
   "metadata": {},
   "outputs": [
    {
     "name": "stdout",
     "output_type": "stream",
     "text": [
      "Alice received message: Numbers show that employment growth has been strong\n",
      "Charles received message: Numbers show that employment growth has been strong\n"
     ]
    }
   ],
   "source": [
    "publisher.publish('Numbers show that employment growth has been strong')"
   ]
  },
  {
   "cell_type": "code",
   "execution_count": null,
   "metadata": {},
   "outputs": [],
   "source": []
  },
  {
   "cell_type": "code",
   "execution_count": null,
   "metadata": {},
   "outputs": [],
   "source": []
  },
  {
   "cell_type": "code",
   "execution_count": 93,
   "metadata": {},
   "outputs": [],
   "source": [
    "class Product:\n",
    "    \n",
    "    PRICE = 'price'\n",
    "    STOCK = 'stock'\n",
    "    \n",
    "    def __init__(self, name, price):\n",
    "        self.__name = name\n",
    "        self.__price = price\n",
    "        self.__price_observers = set()\n",
    "        self.__stock_observers = set()\n",
    "    \n",
    "    def add_observer(self, observer_type, observer):\n",
    "        if observer_type == self.PRICE:\n",
    "            self.__price_observers.add(observer)\n",
    "        elif observer_type == self.STOCK:\n",
    "            self.__stock_observers.add(observer)\n",
    "\n",
    "    def remove_observer(self, observer_type, observer):\n",
    "        if observer_type == self.PRICE:\n",
    "            self.__price_observers.discard(observer)\n",
    "        elif observer_type == self.STOCK:\n",
    "            self.__stock_observers.discard(observer)\n",
    "\n",
    "    def update_price(self, price):\n",
    "        self.__price = price\n",
    "        self.__notify(self.PRICE)\n",
    "        \n",
    "    def update_stock(self, stock):\n",
    "        self.__stock = stock\n",
    "        self.__notify(self.STOCK)\n",
    "        \n",
    "    def __notify(self, observer_type):\n",
    "        observers = []\n",
    "\n",
    "        message = None\n",
    "\n",
    "        if observer_type == self.PRICE:\n",
    "            observers = self.__price_observers\n",
    "            message = self.__name + ' price updated to: ' + str(self.__price)\n",
    "        elif observer_type == self.STOCK:\n",
    "            observers = self.__stock_observers\n",
    "            message = self.__name + ' now back in stock!'\n",
    "            \n",
    "        for observer in observers:\n",
    "            observer.notify(message)"
   ]
  },
  {
   "cell_type": "code",
   "execution_count": 104,
   "metadata": {},
   "outputs": [],
   "source": [
    "class Customer:\n",
    "\n",
    "    def __init__(self, name):\n",
    "        self.__name = name\n",
    "\n",
    "    def notify(self, message):\n",
    "        print(self.__name, '-', message)"
   ]
  },
  {
   "cell_type": "code",
   "execution_count": 105,
   "metadata": {},
   "outputs": [],
   "source": [
    "apple_iphone = Product('iPhone', 600)\n",
    "\n",
    "samsung_s10 = Product('Samsung', 300)"
   ]
  },
  {
   "cell_type": "code",
   "execution_count": 106,
   "metadata": {},
   "outputs": [],
   "source": [
    "alice = Customer('Alice')\n",
    "\n",
    "betty = Customer('Betty')\n",
    "\n",
    "charles = Customer('Charles')"
   ]
  },
  {
   "cell_type": "code",
   "execution_count": 107,
   "metadata": {},
   "outputs": [],
   "source": [
    "apple_iphone.add_observer(Product.PRICE, alice)\n",
    "\n",
    "apple_iphone.add_observer(Product.STOCK, alice)"
   ]
  },
  {
   "cell_type": "code",
   "execution_count": 108,
   "metadata": {},
   "outputs": [],
   "source": [
    "samsung_s10.add_observer(Product.PRICE, betty)\n",
    "\n",
    "samsung_s10.add_observer(Product.STOCK, betty)"
   ]
  },
  {
   "cell_type": "code",
   "execution_count": 109,
   "metadata": {},
   "outputs": [],
   "source": [
    "apple_iphone.add_observer(Product.PRICE, charles)\n",
    "\n",
    "samsung_s10.add_observer(Product.STOCK, charles)"
   ]
  },
  {
   "cell_type": "code",
   "execution_count": 110,
   "metadata": {},
   "outputs": [
    {
     "name": "stdout",
     "output_type": "stream",
     "text": [
      "Alice - iPhone price updated to: 566\n",
      "Charles - iPhone price updated to: 566\n"
     ]
    }
   ],
   "source": [
    "apple_iphone.update_price(566)"
   ]
  },
  {
   "cell_type": "code",
   "execution_count": 111,
   "metadata": {},
   "outputs": [
    {
     "name": "stdout",
     "output_type": "stream",
     "text": [
      "Alice - iPhone now back in stock!\n"
     ]
    }
   ],
   "source": [
    "apple_iphone.update_stock(10)"
   ]
  },
  {
   "cell_type": "code",
   "execution_count": 112,
   "metadata": {},
   "outputs": [
    {
     "name": "stdout",
     "output_type": "stream",
     "text": [
      "Betty - Samsung price updated to: 333\n"
     ]
    }
   ],
   "source": [
    "samsung_s10.update_price(333)"
   ]
  },
  {
   "cell_type": "code",
   "execution_count": 113,
   "metadata": {},
   "outputs": [
    {
     "name": "stdout",
     "output_type": "stream",
     "text": [
      "Charles - Samsung now back in stock!\n",
      "Betty - Samsung now back in stock!\n"
     ]
    }
   ],
   "source": [
    "samsung_s10.update_stock(10)"
   ]
  },
  {
   "cell_type": "code",
   "execution_count": null,
   "metadata": {},
   "outputs": [],
   "source": []
  },
  {
   "cell_type": "code",
   "execution_count": null,
   "metadata": {},
   "outputs": [],
   "source": []
  },
  {
   "cell_type": "code",
   "execution_count": null,
   "metadata": {},
   "outputs": [],
   "source": []
  }
 ],
 "metadata": {
  "kernelspec": {
   "display_name": "Python 3",
   "language": "python",
   "name": "python3"
  },
  "language_info": {
   "codemirror_mode": {
    "name": "ipython",
    "version": 3
   },
   "file_extension": ".py",
   "mimetype": "text/x-python",
   "name": "python",
   "nbconvert_exporter": "python",
   "pygments_lexer": "ipython3",
   "version": "3.6.8"
  }
 },
 "nbformat": 4,
 "nbformat_minor": 2
}
