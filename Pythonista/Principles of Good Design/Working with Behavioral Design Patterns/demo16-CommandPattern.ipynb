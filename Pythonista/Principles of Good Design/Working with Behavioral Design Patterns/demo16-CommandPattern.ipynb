{
 "cells": [
  {
   "cell_type": "markdown",
   "metadata": {},
   "source": [
    "In this design pattern, client creates a command object that includes a list of commands to be executed. The command object created implements a specific interface.\n",
    "\n",
    "Command Pattern adds a level of abstraction between actions and includes an object, which invokes these actions.\n",
    "- Create a Command class interface with an execute() method.\n",
    "- Create a Receiver class which executes a specific method. In our case it is make_sandwich() or make_taco().\n",
    "- Implement the Command interface and perform dependency injection with a specific Receiver on the new ConcreteCommand.\n",
    "- Create an Invoker class which takes in different kinds of commands, and invokes execute() to perform the specific (concrete) command on each Receiver."
   ]
  },
  {
   "cell_type": "markdown",
   "metadata": {},
   "source": [
    "The command interface that declares a method (execute) for a particular\n",
    "    actio"
   ]
  },
  {
   "cell_type": "code",
   "execution_count": 3,
   "metadata": {},
   "outputs": [],
   "source": [
    "from abc import ABC, abstractmethod\n",
    "\n",
    "class Command(ABC):\n",
    "\n",
    "    @abstractmethod\n",
    "    def execute(self):\n",
    "        pass\n",
    "    \n",
    "    @abstractmethod\n",
    "    def undo(self):\n",
    "        pass"
   ]
  },
  {
   "cell_type": "markdown",
   "metadata": {},
   "source": [
    "The receiver class, which holds the specifc method to be called to perform the specific action.\n",
    " This will be called by the Invoker object."
   ]
  },
  {
   "cell_type": "code",
   "execution_count": 10,
   "metadata": {},
   "outputs": [],
   "source": [
    "class Bold(Command):\n",
    "\n",
    "    def execute(self):\n",
    "        print('Bold')\n",
    "    \n",
    "    def undo(self):\n",
    "        print('Undo Bold')"
   ]
  },
  {
   "cell_type": "code",
   "execution_count": 11,
   "metadata": {},
   "outputs": [],
   "source": [
    "class Italic(Command):\n",
    "\n",
    "    def execute(self):\n",
    "        print('Italic')\n",
    "    \n",
    "    def undo(self):\n",
    "        print('Undo Italic')"
   ]
  },
  {
   "cell_type": "code",
   "execution_count": 12,
   "metadata": {},
   "outputs": [],
   "source": [
    "class Underline(Command):\n",
    "\n",
    "    def execute(self):\n",
    "        print('Underline')\n",
    "    \n",
    "    def undo(self):\n",
    "        print('Undo Underline')"
   ]
  },
  {
   "cell_type": "code",
   "execution_count": 13,
   "metadata": {},
   "outputs": [],
   "source": [
    "class Strikethrough(Command):\n",
    "\n",
    "    def execute(self):\n",
    "        print('Strikethrough')\n",
    "    \n",
    "    def undo(self):\n",
    "        print('Undo Strikethrough')"
   ]
  },
  {
   "cell_type": "code",
   "execution_count": 53,
   "metadata": {},
   "outputs": [],
   "source": [
    "commands_executed = []"
   ]
  },
  {
   "cell_type": "code",
   "execution_count": 54,
   "metadata": {},
   "outputs": [],
   "source": [
    "def execute(command):\n",
    "    command.execute()\n",
    "    \n",
    "    commands_executed.append(command)"
   ]
  },
  {
   "cell_type": "code",
   "execution_count": 55,
   "metadata": {},
   "outputs": [],
   "source": [
    "def undo():\n",
    "    \n",
    "    if len(commands_executed) == 0:\n",
    "        print('Nothing to undo!')\n",
    "        return\n",
    "    \n",
    "    command = commands_executed.pop()\n",
    "    \n",
    "    command.undo()"
   ]
  },
  {
   "cell_type": "code",
   "execution_count": 56,
   "metadata": {},
   "outputs": [
    {
     "name": "stdout",
     "output_type": "stream",
     "text": [
      "Bold\n"
     ]
    }
   ],
   "source": [
    "execute(Bold())"
   ]
  },
  {
   "cell_type": "code",
   "execution_count": 57,
   "metadata": {},
   "outputs": [
    {
     "name": "stdout",
     "output_type": "stream",
     "text": [
      "Underline\n"
     ]
    }
   ],
   "source": [
    "execute(Underline())"
   ]
  },
  {
   "cell_type": "code",
   "execution_count": 58,
   "metadata": {},
   "outputs": [
    {
     "name": "stdout",
     "output_type": "stream",
     "text": [
      "Strikethrough\n"
     ]
    }
   ],
   "source": [
    "execute(Strikethrough())"
   ]
  },
  {
   "cell_type": "code",
   "execution_count": 59,
   "metadata": {},
   "outputs": [
    {
     "name": "stdout",
     "output_type": "stream",
     "text": [
      "Italic\n"
     ]
    }
   ],
   "source": [
    "execute(Italic())"
   ]
  },
  {
   "cell_type": "code",
   "execution_count": 60,
   "metadata": {},
   "outputs": [
    {
     "name": "stdout",
     "output_type": "stream",
     "text": [
      "Bold\n"
     ]
    }
   ],
   "source": [
    "execute(Bold())"
   ]
  },
  {
   "cell_type": "code",
   "execution_count": 61,
   "metadata": {},
   "outputs": [
    {
     "name": "stdout",
     "output_type": "stream",
     "text": [
      "Undo Bold\n"
     ]
    }
   ],
   "source": [
    "undo()"
   ]
  },
  {
   "cell_type": "code",
   "execution_count": 62,
   "metadata": {},
   "outputs": [
    {
     "name": "stdout",
     "output_type": "stream",
     "text": [
      "Undo Italic\n"
     ]
    }
   ],
   "source": [
    "undo()"
   ]
  },
  {
   "cell_type": "code",
   "execution_count": 63,
   "metadata": {},
   "outputs": [
    {
     "name": "stdout",
     "output_type": "stream",
     "text": [
      "Undo Strikethrough\n"
     ]
    }
   ],
   "source": [
    "undo()"
   ]
  },
  {
   "cell_type": "code",
   "execution_count": 64,
   "metadata": {},
   "outputs": [
    {
     "name": "stdout",
     "output_type": "stream",
     "text": [
      "Undo Underline\n"
     ]
    }
   ],
   "source": [
    "undo()"
   ]
  },
  {
   "cell_type": "code",
   "execution_count": 65,
   "metadata": {},
   "outputs": [
    {
     "name": "stdout",
     "output_type": "stream",
     "text": [
      "Undo Bold\n"
     ]
    }
   ],
   "source": [
    "undo()"
   ]
  },
  {
   "cell_type": "code",
   "execution_count": 66,
   "metadata": {},
   "outputs": [
    {
     "name": "stdout",
     "output_type": "stream",
     "text": [
      "Nothing to undo!\n"
     ]
    }
   ],
   "source": [
    "undo()"
   ]
  },
  {
   "cell_type": "code",
   "execution_count": 67,
   "metadata": {},
   "outputs": [
    {
     "name": "stdout",
     "output_type": "stream",
     "text": [
      "Italic\n"
     ]
    }
   ],
   "source": [
    "execute(Italic())"
   ]
  },
  {
   "cell_type": "code",
   "execution_count": 68,
   "metadata": {},
   "outputs": [
    {
     "name": "stdout",
     "output_type": "stream",
     "text": [
      "Undo Italic\n"
     ]
    }
   ],
   "source": [
    "undo()"
   ]
  },
  {
   "cell_type": "code",
   "execution_count": null,
   "metadata": {},
   "outputs": [],
   "source": []
  }
 ],
 "metadata": {
  "kernelspec": {
   "display_name": "Python 3",
   "language": "python",
   "name": "python3"
  },
  "language_info": {
   "codemirror_mode": {
    "name": "ipython",
    "version": 3
   },
   "file_extension": ".py",
   "mimetype": "text/x-python",
   "name": "python",
   "nbconvert_exporter": "python",
   "pygments_lexer": "ipython3",
   "version": "3.6.8"
  }
 },
 "nbformat": 4,
 "nbformat_minor": 2
}
