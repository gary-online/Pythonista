{
 "cells": [
  {
   "cell_type": "markdown",
   "metadata": {},
   "source": [
    "The chain of responsibility pattern is used to achieve loose coupling in software where a specified request from the client is passed through a chain of objects included in it. It helps in building a chain of objects. The request enters from one end and moves from one object to another.\n",
    "This pattern allows an object to send a command without knowing which object will handle the request."
   ]
  },
  {
   "cell_type": "markdown",
   "metadata": {},
   "source": [
    "Handler\n",
    "- defines an interface for handling requests and\n",
    "- optionally implements the successor link"
   ]
  },
  {
   "cell_type": "code",
   "execution_count": 9,
   "metadata": {},
   "outputs": [],
   "source": [
    "from abc import abstractmethod\n",
    "\n",
    "class Operation:\n",
    "    def __init__(self, successor=None):\n",
    "        self._successor = successor\n",
    "\n",
    "    @abstractmethod\n",
    "    def calculate(self, operation):\n",
    "        pass"
   ]
  },
  {
   "cell_type": "markdown",
   "metadata": {},
   "source": [
    "Concrete Handlers\n",
    "-  handle requests they are responsible for"
   ]
  },
  {
   "cell_type": "code",
   "execution_count": 15,
   "metadata": {},
   "outputs": [],
   "source": [
    "class Exponent(Operation):\n",
    "\n",
    "    def calculate(self, operation):\n",
    "        chars = operation.split()\n",
    "\n",
    "        if chars[1] == '**':\n",
    "            print('Exponent!')\n",
    "            return int(chars[0]) ** int(chars[2])\n",
    "\n",
    "        elif self._successor is not None:\n",
    "            print('Exponent unable to handle operation, passing on to successor')\n",
    "            return self._successor.calculate(operation)\n",
    "        \n",
    "        else:\n",
    "            print(\"Operation not supported\")\n",
    "\n",
    "            return None"
   ]
  },
  {
   "cell_type": "code",
   "execution_count": 16,
   "metadata": {},
   "outputs": [],
   "source": [
    "class Modulus(Operation):\n",
    "\n",
    "    def calculate(self, operation):\n",
    "        chars = operation.split()\n",
    "\n",
    "        if chars[1] == '%':\n",
    "            print('Modulus!')\n",
    "            return int(chars[0]) % int(chars[2])\n",
    "\n",
    "        elif self._successor is not None:\n",
    "            print('Modulus unable to handle operation, passing on to successor')\n",
    "\n",
    "            return self._successor.calculate(operation)\n",
    "        \n",
    "        else:\n",
    "            print(\"Operation not supported\")\n",
    "\n",
    "            return None"
   ]
  },
  {
   "cell_type": "code",
   "execution_count": 17,
   "metadata": {},
   "outputs": [],
   "source": [
    "class FloorDivision(Operation):\n",
    "    \n",
    "    def calculate(self, operation):\n",
    "        chars = operation.split()\n",
    "\n",
    "        if chars[1] == '//':\n",
    "            print('FloorDivision!')\n",
    "\n",
    "            return int(chars[0]) // int(chars[2])\n",
    "\n",
    "        elif self._successor is not None:\n",
    "            print('FloorDivision unable to handle operation, passing on to successor')\n",
    "\n",
    "            return self._successor.calculate(operation)\n",
    "        \n",
    "        else:\n",
    "            print(\"Operation not supported\")\n",
    "\n",
    "            return None"
   ]
  },
  {
   "cell_type": "code",
   "execution_count": 18,
   "metadata": {},
   "outputs": [],
   "source": [
    "operation3 = FloorDivision()\n",
    "\n",
    "operation2 = Modulus(operation3)\n",
    "\n",
    "operation1 = Exponent(operation2)"
   ]
  },
  {
   "cell_type": "code",
   "execution_count": 21,
   "metadata": {},
   "outputs": [],
   "source": [
    "del operation2, operation3"
   ]
  },
  {
   "cell_type": "code",
   "execution_count": 22,
   "metadata": {},
   "outputs": [
    {
     "name": "stdout",
     "output_type": "stream",
     "text": [
      "Exponent!\n",
      "512\n"
     ]
    }
   ],
   "source": [
    "print(operation1.calculate(\"8 ** 3\"))"
   ]
  },
  {
   "cell_type": "code",
   "execution_count": 25,
   "metadata": {},
   "outputs": [
    {
     "name": "stdout",
     "output_type": "stream",
     "text": [
      "Exponent unable to handle operation, passing on to successor\n",
      "Modulus!\n",
      "2\n"
     ]
    }
   ],
   "source": [
    "print(operation1.calculate(\"8 % 3\"))"
   ]
  },
  {
   "cell_type": "code",
   "execution_count": 26,
   "metadata": {},
   "outputs": [
    {
     "name": "stdout",
     "output_type": "stream",
     "text": [
      "Exponent unable to handle operation, passing on to successor\n",
      "Modulus unable to handle operation, passing on to successor\n",
      "FloorDivision!\n",
      "2\n"
     ]
    }
   ],
   "source": [
    "print(operation1.calculate(\"8 // 3\"))"
   ]
  },
  {
   "cell_type": "code",
   "execution_count": 27,
   "metadata": {},
   "outputs": [
    {
     "name": "stdout",
     "output_type": "stream",
     "text": [
      "Exponent unable to handle operation, passing on to successor\n",
      "Modulus unable to handle operation, passing on to successor\n",
      "Operation not supported\n",
      "None\n"
     ]
    }
   ],
   "source": [
    "print(operation1.calculate(\"8 / 3\"))"
   ]
  },
  {
   "cell_type": "code",
   "execution_count": null,
   "metadata": {},
   "outputs": [],
   "source": []
  }
 ],
 "metadata": {
  "kernelspec": {
   "display_name": "Python 3",
   "language": "python",
   "name": "python3"
  },
  "language_info": {
   "codemirror_mode": {
    "name": "ipython",
    "version": 3
   },
   "file_extension": ".py",
   "mimetype": "text/x-python",
   "name": "python",
   "nbconvert_exporter": "python",
   "pygments_lexer": "ipython3",
   "version": "3.6.8"
  }
 },
 "nbformat": 4,
 "nbformat_minor": 2
}
