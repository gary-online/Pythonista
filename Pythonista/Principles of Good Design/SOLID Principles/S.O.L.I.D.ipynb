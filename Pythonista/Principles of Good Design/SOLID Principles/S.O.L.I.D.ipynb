{
 "cells": [
  {
   "cell_type": "markdown",
   "source": [
    "# Single Responsibility"
   ],
   "metadata": {
    "collapsed": false
   }
  },
  {
   "cell_type": "markdown",
   "metadata": {},
   "source": [
    "A class should have only one job.  If a class has more than one responsibility,\n",
    "it becomes coupled.  A change to one responsibility results to modification of\n",
    "the other responsibility.\n",
    "\n",
    "Classes should have one responsibility, here, we can draw out\n",
    "two responsibilities: employee database management and employee properties\n",
    "management. Cell block two does NOT follow the Single Responsibility principle.\n",
    "\n",
    "The constructor and get_name manage the employee properties while the\n",
    "save manages the employee storage on a database"
   ]
  },
  {
   "cell_type": "code",
   "execution_count": 165,
   "metadata": {
    "ExecuteTime": {
     "end_time": "2024-01-30T04:25:20.845349455Z",
     "start_time": "2024-01-30T04:25:20.468070097Z"
    }
   },
   "outputs": [],
   "source": [
    "class Employee:\n",
    "\n",
    "    def __init__(self, employee_id, name, department):\n",
    "\n",
    "        self.__employee_id = employee_id\n",
    "        self.__name = name\n",
    "        self.__department = department\n",
    "    \n",
    "    def get_name(self):\n",
    "        pass\n",
    "\n",
    "    def get_department(self):\n",
    "        pass\n",
    "    \n",
    "    def promote_employee(self):\n",
    "        pass\n",
    "    \n",
    "    def transfer_employee(self, department):\n",
    "        pass\n",
    "    \n",
    "    def save_to_database(self):\n",
    "        pass\n",
    "    \n",
    "    def update_personal_details(self, personal_details):\n",
    "        pass"
   ]
  },
  {
   "cell_type": "markdown",
   "source": [
    "Cell block four does follow the Single Responsibility principle which the above failed to do. The below code block is the SOLID way to write the above code. "
   ],
   "metadata": {
    "collapsed": false
   }
  },
  {
   "cell_type": "code",
   "execution_count": 166,
   "metadata": {
    "ExecuteTime": {
     "end_time": "2024-01-30T04:25:20.861737924Z",
     "start_time": "2024-01-30T04:25:20.837371654Z"
    }
   },
   "outputs": [],
   "source": [
    "class Department:\n",
    "\n",
    "    def __init__(self, department_id, name, function, head):\n",
    "\n",
    "        self.__department_id = department_id\n",
    "        self.__name = name\n",
    "        self.__function = function\n",
    "        self.__head = head\n",
    "    \n",
    "    def get_name(self):\n",
    "        pass\n",
    "\n",
    "    def get_function(self):\n",
    "        pass\n",
    "    \n",
    "    def get_head(self):\n",
    "        pass"
   ]
  },
  {
   "cell_type": "markdown",
   "metadata": {},
   "source": [
    "If the application changes in a way that it affects database management\n",
    "functions. The classes that make use of Employee properties will have to be\n",
    "touched and recompiled to compensate for the new changes\n",
    "\n",
    "To make this conform to SRP, we create another class that will handle the sole\n",
    "responsibility of storing an employee to a database"
   ]
  },
  {
   "cell_type": "code",
   "execution_count": 167,
   "metadata": {
    "ExecuteTime": {
     "end_time": "2024-01-30T04:25:20.908325359Z",
     "start_time": "2024-01-30T04:25:20.862680013Z"
    }
   },
   "outputs": [],
   "source": [
    "class Employee:\n",
    "\n",
    "    def __init__(self, employee_id, name, department):\n",
    "\n",
    "        self.__employee_id = employee_id\n",
    "        self.__name = name\n",
    "        self.__department = department\n",
    "    \n",
    "    def get_name(self):\n",
    "        pass\n",
    "\n",
    "    def get_department(self):\n",
    "        pass"
   ]
  },
  {
   "cell_type": "code",
   "execution_count": 168,
   "metadata": {
    "ExecuteTime": {
     "end_time": "2024-01-30T04:25:20.920806406Z",
     "start_time": "2024-01-30T04:25:20.908617762Z"
    }
   },
   "outputs": [],
   "source": [
    "class EmployeeDatabaseOperations:\n",
    "    \n",
    "    def promote_employee(self, employee_id):\n",
    "        pass\n",
    "    \n",
    "    def transfer_employee(self, employee_id, department):\n",
    "        pass\n",
    "    \n",
    "    def save_to_database(self, employee_id):\n",
    "        pass\n",
    "    \n",
    "    def update_personal_details(self, employee_id, personal_details):\n",
    "        pass"
   ]
  },
  {
   "cell_type": "markdown",
   "source": [],
   "metadata": {
    "collapsed": false
   }
  },
  {
   "cell_type": "code",
   "execution_count": 169,
   "metadata": {
    "ExecuteTime": {
     "end_time": "2024-01-30T04:25:20.944468876Z",
     "start_time": "2024-01-30T04:25:20.919353872Z"
    }
   },
   "outputs": [],
   "source": [
    "class Shape:\n",
    "        \n",
    "    def __init__(self, shape_type):\n",
    "        self.__shape_type = shape_type\n",
    "\n",
    "    def get_type(self):\n",
    "        return self.__shape_type\n",
    "\n",
    "    def draw(self):\n",
    "        pass\n",
    "\n",
    "    def get_area(self):\n",
    "        pass"
   ]
  },
  {
   "cell_type": "code",
   "execution_count": 170,
   "metadata": {
    "ExecuteTime": {
     "end_time": "2024-01-30T04:25:20.959399811Z",
     "start_time": "2024-01-30T04:25:20.943113746Z"
    }
   },
   "outputs": [],
   "source": [
    "class Rectangle(Shape):\n",
    "    \n",
    "    def __init__(self, width, height):\n",
    "        Shape.__init__(self, \"Rectangle\")\n",
    "\n",
    "        self.__width = width\n",
    "        self.__height = height\n",
    "        \n",
    "    def draw(self):\n",
    "        print('Interfacing with the drawing library to draw a rectangle')\n",
    "\n",
    "    def get_area(self):\n",
    "        return self.__width * self.__height"
   ]
  },
  {
   "cell_type": "code",
   "execution_count": 171,
   "metadata": {
    "ExecuteTime": {
     "end_time": "2024-01-30T04:25:20.972116394Z",
     "start_time": "2024-01-30T04:25:20.957797804Z"
    }
   },
   "outputs": [
    {
     "data": {
      "text/plain": "'Rectangle'"
     },
     "execution_count": 171,
     "metadata": {},
     "output_type": "execute_result"
    }
   ],
   "source": [
    "a = Rectangle(5, 6)\n",
    "\n",
    "a.get_type()"
   ]
  },
  {
   "cell_type": "code",
   "execution_count": 172,
   "metadata": {
    "ExecuteTime": {
     "end_time": "2024-01-30T04:25:21.009597838Z",
     "start_time": "2024-01-30T04:25:20.970532081Z"
    }
   },
   "outputs": [
    {
     "data": {
      "text/plain": "30"
     },
     "execution_count": 172,
     "metadata": {},
     "output_type": "execute_result"
    }
   ],
   "source": [
    "a.get_area()"
   ]
  },
  {
   "cell_type": "code",
   "execution_count": 173,
   "metadata": {
    "ExecuteTime": {
     "end_time": "2024-01-30T04:25:21.028470900Z",
     "start_time": "2024-01-30T04:25:20.999995538Z"
    }
   },
   "outputs": [
    {
     "name": "stdout",
     "output_type": "stream",
     "text": [
      "Interfacing with the drawing library to draw a rectangle\n"
     ]
    }
   ],
   "source": [
    "a.draw()"
   ]
  },
  {
   "cell_type": "code",
   "execution_count": 174,
   "metadata": {
    "ExecuteTime": {
     "end_time": "2024-01-30T04:25:21.070606186Z",
     "start_time": "2024-01-30T04:25:21.027022063Z"
    }
   },
   "outputs": [],
   "source": [
    "class DrawingTool:\n",
    "    \n",
    "    def __init__(self, shape):\n",
    "        self.__shape = shape\n",
    "        \n",
    "    def draw_shape(self):\n",
    "        print('Interface with the drawing library to draw any shape:', \n",
    "              self.__shape.get_type())"
   ]
  },
  {
   "cell_type": "code",
   "execution_count": 175,
   "metadata": {
    "ExecuteTime": {
     "end_time": "2024-01-30T04:25:21.097883243Z",
     "start_time": "2024-01-30T04:25:21.069132552Z"
    }
   },
   "outputs": [],
   "source": [
    "class Shape:\n",
    "        \n",
    "    def __init__(self, shape_type):\n",
    "        self.__shape_type = shape_type\n",
    "        \n",
    "        self.__drawing_tool = DrawingTool(self)\n",
    "    \n",
    "    def get_type(self):\n",
    "        return self.__shape_type\n",
    "    \n",
    "    def draw(self):\n",
    "        self.__drawing_tool.draw_shape()\n",
    "\n",
    "    def get_area(self):\n",
    "        pass"
   ]
  },
  {
   "cell_type": "code",
   "execution_count": 176,
   "metadata": {
    "ExecuteTime": {
     "end_time": "2024-01-30T04:25:21.119440626Z",
     "start_time": "2024-01-30T04:25:21.096548892Z"
    }
   },
   "outputs": [],
   "source": [
    "class Rectangle(Shape):\n",
    "    \n",
    "    def __init__(self, width, height):\n",
    "        Shape.__init__(self, \"Rectangle\")\n",
    "\n",
    "        self.__width = width\n",
    "        self.__height = height\n",
    "        \n",
    "    def get_area(self):\n",
    "        return self.__width * self.__height"
   ]
  },
  {
   "cell_type": "code",
   "execution_count": 177,
   "metadata": {
    "ExecuteTime": {
     "end_time": "2024-01-30T04:25:21.140103118Z",
     "start_time": "2024-01-30T04:25:21.118021665Z"
    }
   },
   "outputs": [
    {
     "data": {
      "text/plain": "'Rectangle'"
     },
     "execution_count": 177,
     "metadata": {},
     "output_type": "execute_result"
    }
   ],
   "source": [
    "a = Rectangle(5, 6)\n",
    "\n",
    "a.get_type()"
   ]
  },
  {
   "cell_type": "code",
   "execution_count": 178,
   "metadata": {
    "ExecuteTime": {
     "end_time": "2024-01-30T04:25:21.148457490Z",
     "start_time": "2024-01-30T04:25:21.133065713Z"
    }
   },
   "outputs": [
    {
     "data": {
      "text/plain": "30"
     },
     "execution_count": 178,
     "metadata": {},
     "output_type": "execute_result"
    }
   ],
   "source": [
    "a.get_area()"
   ]
  },
  {
   "cell_type": "code",
   "execution_count": 179,
   "metadata": {
    "ExecuteTime": {
     "end_time": "2024-01-30T04:25:21.196596596Z",
     "start_time": "2024-01-30T04:25:21.146956144Z"
    }
   },
   "outputs": [
    {
     "name": "stdout",
     "output_type": "stream",
     "text": [
      "Interface with the drawing library to draw any shape: Rectangle\n"
     ]
    }
   ],
   "source": [
    "a.draw()"
   ]
  },
  {
   "cell_type": "markdown",
   "metadata": {},
   "source": [
    "# Open/Closed Principle\n",
    "\n",
    "Software entities (classes, modules, functions, etc.) should be open for extension, but closed for modification"
   ]
  },
  {
   "cell_type": "code",
   "execution_count": 180,
   "metadata": {
    "ExecuteTime": {
     "end_time": "2024-01-30T04:25:21.211854309Z",
     "start_time": "2024-01-30T04:25:21.190028290Z"
    }
   },
   "outputs": [],
   "source": [
    "class Employee:\n",
    "\n",
    "    def __init__(self, name):\n",
    "        self.__name = name\n",
    "    \n",
    "    def get_name(self):\n",
    "        return self.__name"
   ]
  },
  {
   "cell_type": "code",
   "execution_count": 181,
   "metadata": {
    "ExecuteTime": {
     "end_time": "2024-01-30T04:25:21.252396696Z",
     "start_time": "2024-01-30T04:25:21.197699549Z"
    }
   },
   "outputs": [],
   "source": [
    "employee_bob = Employee('Bob')\n",
    "\n",
    "employee_charles = Employee('Charles')"
   ]
  },
  {
   "cell_type": "code",
   "execution_count": 182,
   "metadata": {
    "ExecuteTime": {
     "end_time": "2024-01-30T04:25:21.275730244Z",
     "start_time": "2024-01-30T04:25:21.252695961Z"
    }
   },
   "outputs": [],
   "source": [
    "accounts = ['Bob']\n",
    "\n",
    "marketing = ['Charles']\n",
    "\n",
    "def get_department(employee):\n",
    "\n",
    "    if employee.get_name() in accounts:\n",
    "        print('accounts')\n",
    "\n",
    "    elif employee.get_name() in marketing:\n",
    "        print('marketing')"
   ]
  },
  {
   "cell_type": "code",
   "execution_count": 183,
   "metadata": {
    "ExecuteTime": {
     "end_time": "2024-01-30T04:25:21.299972619Z",
     "start_time": "2024-01-30T04:25:21.274305072Z"
    }
   },
   "outputs": [
    {
     "name": "stdout",
     "output_type": "stream",
     "text": [
      "accounts\n"
     ]
    }
   ],
   "source": [
    "get_department(employee_bob)"
   ]
  },
  {
   "cell_type": "markdown",
   "metadata": {},
   "source": [
    "The function department does not conform to the open-closed principle because\n",
    "it cannot be closed against new employees.  If we add a new employee,\n",
    "Alice, We have to modify the department function.  You see, for every new\n",
    "employee, a new logic is added to the department function.  This is quite a\n",
    "simple example. When your application grows and becomes complex, you will see\n",
    "that the if statement would be repeated over and over again in the department\n",
    "function each time a new employee is added, all over the application."
   ]
  },
  {
   "cell_type": "code",
   "execution_count": 184,
   "metadata": {
    "ExecuteTime": {
     "end_time": "2024-01-30T04:25:21.319979022Z",
     "start_time": "2024-01-30T04:25:21.298461604Z"
    }
   },
   "outputs": [],
   "source": [
    "employee_alice = Employee('Alice')"
   ]
  },
  {
   "cell_type": "code",
   "execution_count": 185,
   "metadata": {
    "ExecuteTime": {
     "end_time": "2024-01-30T04:25:21.353790164Z",
     "start_time": "2024-01-30T04:25:21.318515157Z"
    }
   },
   "outputs": [],
   "source": [
    "finance = ['Alice']\n",
    "\n",
    "def get_department(employee):\n",
    "\n",
    "    if employee.get_name() in accounts:\n",
    "        print('accounts')\n",
    "\n",
    "    elif employee.get_name() in marketing:\n",
    "        print('marketing')\n",
    "    \n",
    "    elif employee.get_name() in finance:\n",
    "        print('finance')"
   ]
  },
  {
   "cell_type": "code",
   "execution_count": 186,
   "metadata": {
    "ExecuteTime": {
     "end_time": "2024-01-30T04:25:21.375812644Z",
     "start_time": "2024-01-30T04:25:21.352386121Z"
    }
   },
   "outputs": [
    {
     "name": "stdout",
     "output_type": "stream",
     "text": [
      "finance\n"
     ]
    }
   ],
   "source": [
    "get_department(employee_alice)"
   ]
  },
  {
   "cell_type": "markdown",
   "metadata": {},
   "source": [
    "Implementing Open/Close"
   ]
  },
  {
   "cell_type": "code",
   "execution_count": 187,
   "metadata": {
    "ExecuteTime": {
     "end_time": "2024-01-30T04:25:21.388088022Z",
     "start_time": "2024-01-30T04:25:21.368252773Z"
    }
   },
   "outputs": [],
   "source": [
    "class Department:\n",
    "\n",
    "    def __init__(self, name):\n",
    "        self.__name = name\n",
    "        self.__employees = []\n",
    "    \n",
    "    def get_name(self):\n",
    "        return self.__name\n",
    "\n",
    "    def get_employees(self):\n",
    "        return self.__employees\n",
    "    \n",
    "    def add_employee(self, employee):\n",
    "        return self.__employees.append(employee.get_name())"
   ]
  },
  {
   "cell_type": "code",
   "execution_count": 188,
   "metadata": {
    "ExecuteTime": {
     "end_time": "2024-01-30T04:25:21.424139075Z",
     "start_time": "2024-01-30T04:25:21.386615862Z"
    }
   },
   "outputs": [],
   "source": [
    "class Employee:\n",
    "\n",
    "    def __init__(self, name, department):\n",
    "        self.__name = name\n",
    "        self.__department = department\n",
    "        \n",
    "        department.add_employee(self)\n",
    "    \n",
    "    def get_name(self):\n",
    "        return self.__name\n",
    "\n",
    "    def get_department(self):\n",
    "        return self.__department.get_name()"
   ]
  },
  {
   "cell_type": "code",
   "execution_count": 189,
   "metadata": {
    "ExecuteTime": {
     "end_time": "2024-01-30T04:25:21.445592332Z",
     "start_time": "2024-01-30T04:25:21.422737648Z"
    }
   },
   "outputs": [],
   "source": [
    "accounts = Department('Accounts')\n",
    "\n",
    "marketing = Department('Marketing')\n",
    "\n",
    "finance = Department('Finance')"
   ]
  },
  {
   "cell_type": "code",
   "execution_count": 190,
   "metadata": {
    "ExecuteTime": {
     "end_time": "2024-01-30T04:25:21.454189351Z",
     "start_time": "2024-01-30T04:25:21.438178386Z"
    }
   },
   "outputs": [
    {
     "data": {
      "text/plain": "'Accounts'"
     },
     "execution_count": 190,
     "metadata": {},
     "output_type": "execute_result"
    }
   ],
   "source": [
    "emp_bob = Employee('Bob', accounts)\n",
    "\n",
    "emp_bob.get_department()"
   ]
  },
  {
   "cell_type": "code",
   "execution_count": 191,
   "metadata": {
    "ExecuteTime": {
     "end_time": "2024-01-30T04:25:21.489390868Z",
     "start_time": "2024-01-30T04:25:21.452582596Z"
    }
   },
   "outputs": [
    {
     "data": {
      "text/plain": "['Bob']"
     },
     "execution_count": 191,
     "metadata": {},
     "output_type": "execute_result"
    }
   ],
   "source": [
    "accounts.get_employees()"
   ]
  },
  {
   "cell_type": "code",
   "execution_count": 192,
   "metadata": {
    "ExecuteTime": {
     "end_time": "2024-01-30T04:25:21.508881097Z",
     "start_time": "2024-01-30T04:25:21.487841451Z"
    }
   },
   "outputs": [
    {
     "data": {
      "text/plain": "'Marketing'"
     },
     "execution_count": 192,
     "metadata": {},
     "output_type": "execute_result"
    }
   ],
   "source": [
    "emp_charles = Employee('Charles', marketing)\n",
    "\n",
    "emp_charles.get_department()"
   ]
  },
  {
   "cell_type": "code",
   "execution_count": 193,
   "metadata": {
    "ExecuteTime": {
     "end_time": "2024-01-30T04:25:21.524495152Z",
     "start_time": "2024-01-30T04:25:21.504200605Z"
    }
   },
   "outputs": [
    {
     "data": {
      "text/plain": "['Charles']"
     },
     "execution_count": 193,
     "metadata": {},
     "output_type": "execute_result"
    }
   ],
   "source": [
    "marketing.get_employees()"
   ]
  },
  {
   "cell_type": "code",
   "execution_count": 194,
   "metadata": {
    "ExecuteTime": {
     "end_time": "2024-01-30T04:25:21.587951204Z",
     "start_time": "2024-01-30T04:25:21.522941918Z"
    }
   },
   "outputs": [
    {
     "data": {
      "text/plain": "'Finance'"
     },
     "execution_count": 194,
     "metadata": {},
     "output_type": "execute_result"
    }
   ],
   "source": [
    "emp_alice = Employee('Alice', finance)\n",
    "\n",
    "emp_alice.get_department()"
   ]
  },
  {
   "cell_type": "code",
   "execution_count": 195,
   "metadata": {
    "ExecuteTime": {
     "end_time": "2024-01-30T04:25:21.598311144Z",
     "start_time": "2024-01-30T04:25:21.565965783Z"
    }
   },
   "outputs": [
    {
     "data": {
      "text/plain": "['Alice']"
     },
     "execution_count": 195,
     "metadata": {},
     "output_type": "execute_result"
    }
   ],
   "source": [
    "finance.get_employees()"
   ]
  },
  {
   "cell_type": "markdown",
   "metadata": {},
   "source": [
    "# Liskov Substitution Principle\n",
    "A subclass must be substitutable for its super-class.  The aim of this\n",
    "principle is to ascertain that a subclass can assume the place of its\n",
    "super-class without errors.  If the code finds itself checking the type of class\n",
    "then, it must have violated this principle.\n",
    "\n",
    "Instances of the new circle class will have the new behavior for the grow method. Instances of the existing class will continue to have the old behavior.\n",
    "\n",
    "When overriding behavior for a subclass, remember that in good OO programming a subclass should be substantially similar to its parents. If you have a system which uses the parent class, you should be able to use the subclass in all the same places, and in all the same ways. This is known as the “Liskov Substitution Principle”"
   ]
  },
  {
   "cell_type": "code",
   "execution_count": 196,
   "metadata": {
    "ExecuteTime": {
     "end_time": "2024-01-30T04:25:21.654779275Z",
     "start_time": "2024-01-30T04:25:21.578965699Z"
    }
   },
   "outputs": [],
   "source": [
    "class Shape:\n",
    "        \n",
    "    def __init__(self, shape_type):\n",
    "        self.__shape_type = shape_type\n",
    "\n",
    "    def get_type(self):\n",
    "        return self.__shape_type\n",
    "\n",
    "    def draw(self):\n",
    "        pass\n",
    "\n",
    "    def get_area(self):\n",
    "        pass"
   ]
  },
  {
   "cell_type": "code",
   "execution_count": 197,
   "metadata": {
    "ExecuteTime": {
     "end_time": "2024-01-30T04:25:21.664478017Z",
     "start_time": "2024-01-30T04:25:21.645943954Z"
    }
   },
   "outputs": [],
   "source": [
    "class Rectangle(Shape):\n",
    "    \n",
    "    def __init__(self, width, height):\n",
    "        Shape.__init__(self, \"Rectangle\")\n",
    "\n",
    "        self.__width = width\n",
    "        self.__height = height\n",
    "\n",
    "    def draw(self):\n",
    "        print('Imagine that this draws a rectangle')\n",
    "        \n",
    "    def get_area(self):\n",
    "        return self.__width * self.__height"
   ]
  },
  {
   "cell_type": "code",
   "execution_count": 198,
   "metadata": {
    "ExecuteTime": {
     "end_time": "2024-01-30T04:25:21.695179082Z",
     "start_time": "2024-01-30T04:25:21.658312590Z"
    }
   },
   "outputs": [],
   "source": [
    "class VeryComplicatedShape(Shape):\n",
    "    \n",
    "    def __init__(self):\n",
    "        Shape.__init__(self, \"VeryComplicatedShape\")\n",
    "\n",
    "    def draw(self, complicated_drawing_tool):\n",
    "        if complicated_drawing_tool == None:\n",
    "            raise AssertionError('Cannot draw this shape!')\n",
    "        else:\n",
    "            print('Imagine we use the complicated tool to draw this shape')\n",
    "        \n",
    "    def get_area(self):\n",
    "        raise AssertionError('Cannot calculate the area of this shape!')"
   ]
  },
  {
   "cell_type": "code",
   "execution_count": 199,
   "metadata": {
    "ExecuteTime": {
     "end_time": "2024-01-30T04:25:21.716168302Z",
     "start_time": "2024-01-30T04:25:21.695509637Z"
    }
   },
   "outputs": [],
   "source": [
    "class Line(Shape):\n",
    "    \n",
    "    def __init__(self, length):\n",
    "        Shape.__init__(self, \"Line\")\n",
    "\n",
    "        self.__length = length\n",
    "\n",
    "    def draw(self):\n",
    "        print('Imagine that this draws a line')\n",
    "\n",
    "    def get_area(self):\n",
    "        raise AssertionError('No area for line!')"
   ]
  },
  {
   "cell_type": "code",
   "execution_count": 200,
   "metadata": {
    "ExecuteTime": {
     "end_time": "2024-01-30T04:25:21.726951061Z",
     "start_time": "2024-01-30T04:25:21.708815892Z"
    }
   },
   "outputs": [],
   "source": [
    "def draw_shape(shape, complicated_drawing_tool=None):\n",
    "    if isinstance(shape, VeryComplicatedShape):\n",
    "        shape.draw(complicated_drawing_tool)\n",
    "    else:\n",
    "        shape.draw()"
   ]
  },
  {
   "cell_type": "code",
   "execution_count": 201,
   "metadata": {
    "ExecuteTime": {
     "end_time": "2024-01-30T04:25:21.748527790Z",
     "start_time": "2024-01-30T04:25:21.721204776Z"
    }
   },
   "outputs": [],
   "source": [
    "def get_area(shape):\n",
    "    return shape.get_area()"
   ]
  },
  {
   "cell_type": "code",
   "execution_count": 202,
   "metadata": {
    "ExecuteTime": {
     "end_time": "2024-01-30T04:25:21.762425484Z",
     "start_time": "2024-01-30T04:25:21.747126693Z"
    }
   },
   "outputs": [],
   "source": [
    "shape = Shape('some_shape')\n",
    "\n",
    "rectangle = Rectangle(5, 6)\n",
    "\n",
    "complicated_shape = VeryComplicatedShape()\n",
    "\n",
    "line = Line(5)"
   ]
  },
  {
   "cell_type": "code",
   "execution_count": 203,
   "metadata": {
    "ExecuteTime": {
     "end_time": "2024-01-30T04:25:21.774888887Z",
     "start_time": "2024-01-30T04:25:21.760899932Z"
    }
   },
   "outputs": [],
   "source": [
    "draw_shape(shape)"
   ]
  },
  {
   "cell_type": "code",
   "execution_count": 204,
   "metadata": {
    "ExecuteTime": {
     "end_time": "2024-01-30T04:25:21.789776100Z",
     "start_time": "2024-01-30T04:25:21.769149055Z"
    }
   },
   "outputs": [
    {
     "name": "stdout",
     "output_type": "stream",
     "text": [
      "Imagine that this draws a rectangle\n"
     ]
    }
   ],
   "source": [
    "draw_shape(rectangle)"
   ]
  },
  {
   "cell_type": "code",
   "execution_count": 205,
   "metadata": {
    "ExecuteTime": {
     "end_time": "2024-01-30T04:25:21.810651855Z",
     "start_time": "2024-01-30T04:25:21.788161390Z"
    }
   },
   "outputs": [
    {
     "name": "stdout",
     "output_type": "stream",
     "text": [
      "Imagine we use the complicated tool to draw this shape\n"
     ]
    }
   ],
   "source": [
    "draw_shape(complicated_shape, \"complicated tool\")"
   ]
  },
  {
   "cell_type": "code",
   "execution_count": 206,
   "metadata": {
    "ExecuteTime": {
     "end_time": "2024-01-30T04:25:21.820924652Z",
     "start_time": "2024-01-30T04:25:21.802484436Z"
    }
   },
   "outputs": [
    {
     "name": "stdout",
     "output_type": "stream",
     "text": [
      "Imagine that this draws a line\n"
     ]
    }
   ],
   "source": [
    "draw_shape(line)"
   ]
  },
  {
   "cell_type": "code",
   "execution_count": 207,
   "metadata": {
    "ExecuteTime": {
     "end_time": "2024-01-30T04:25:21.871430128Z",
     "start_time": "2024-01-30T04:25:21.819365085Z"
    }
   },
   "outputs": [],
   "source": [
    "get_area(shape)"
   ]
  },
  {
   "cell_type": "code",
   "execution_count": 208,
   "metadata": {
    "ExecuteTime": {
     "end_time": "2024-01-30T04:25:21.890282642Z",
     "start_time": "2024-01-30T04:25:21.866081544Z"
    }
   },
   "outputs": [
    {
     "data": {
      "text/plain": "30"
     },
     "execution_count": 208,
     "metadata": {},
     "output_type": "execute_result"
    }
   ],
   "source": [
    "get_area(rectangle)"
   ]
  },
  {
   "cell_type": "code",
   "execution_count": 209,
   "metadata": {
    "ExecuteTime": {
     "end_time": "2024-01-30T04:25:21.931682778Z",
     "start_time": "2024-01-30T04:25:21.875147751Z"
    }
   },
   "outputs": [
    {
     "ename": "AssertionError",
     "evalue": "Cannot calculate the area of this shape!",
     "output_type": "error",
     "traceback": [
      "\u001B[0;31m---------------------------------------------------------------------------\u001B[0m",
      "\u001B[0;31mAssertionError\u001B[0m                            Traceback (most recent call last)",
      "Cell \u001B[0;32mIn[209], line 1\u001B[0m\n\u001B[0;32m----> 1\u001B[0m \u001B[43mget_area\u001B[49m\u001B[43m(\u001B[49m\u001B[43mcomplicated_shape\u001B[49m\u001B[43m)\u001B[49m\n",
      "Cell \u001B[0;32mIn[201], line 2\u001B[0m, in \u001B[0;36mget_area\u001B[0;34m(shape)\u001B[0m\n\u001B[1;32m      1\u001B[0m \u001B[38;5;28;01mdef\u001B[39;00m \u001B[38;5;21mget_area\u001B[39m(shape):\n\u001B[0;32m----> 2\u001B[0m     \u001B[38;5;28;01mreturn\u001B[39;00m \u001B[43mshape\u001B[49m\u001B[38;5;241;43m.\u001B[39;49m\u001B[43mget_area\u001B[49m\u001B[43m(\u001B[49m\u001B[43m)\u001B[49m\n",
      "Cell \u001B[0;32mIn[198], line 13\u001B[0m, in \u001B[0;36mVeryComplicatedShape.get_area\u001B[0;34m(self)\u001B[0m\n\u001B[1;32m     12\u001B[0m \u001B[38;5;28;01mdef\u001B[39;00m \u001B[38;5;21mget_area\u001B[39m(\u001B[38;5;28mself\u001B[39m):\n\u001B[0;32m---> 13\u001B[0m     \u001B[38;5;28;01mraise\u001B[39;00m \u001B[38;5;167;01mAssertionError\u001B[39;00m(\u001B[38;5;124m'\u001B[39m\u001B[38;5;124mCannot calculate the area of this shape!\u001B[39m\u001B[38;5;124m'\u001B[39m)\n",
      "\u001B[0;31mAssertionError\u001B[0m: Cannot calculate the area of this shape!"
     ]
    }
   ],
   "source": [
    "get_area(complicated_shape)"
   ]
  },
  {
   "cell_type": "code",
   "execution_count": 210,
   "metadata": {
    "ExecuteTime": {
     "end_time": "2024-01-30T04:25:22.061117457Z",
     "start_time": "2024-01-30T04:25:21.931895129Z"
    }
   },
   "outputs": [
    {
     "ename": "AssertionError",
     "evalue": "No area for line!",
     "output_type": "error",
     "traceback": [
      "\u001B[0;31m---------------------------------------------------------------------------\u001B[0m",
      "\u001B[0;31mAssertionError\u001B[0m                            Traceback (most recent call last)",
      "Cell \u001B[0;32mIn[210], line 1\u001B[0m\n\u001B[0;32m----> 1\u001B[0m \u001B[43mget_area\u001B[49m\u001B[43m(\u001B[49m\u001B[43mline\u001B[49m\u001B[43m)\u001B[49m\n",
      "Cell \u001B[0;32mIn[201], line 2\u001B[0m, in \u001B[0;36mget_area\u001B[0;34m(shape)\u001B[0m\n\u001B[1;32m      1\u001B[0m \u001B[38;5;28;01mdef\u001B[39;00m \u001B[38;5;21mget_area\u001B[39m(shape):\n\u001B[0;32m----> 2\u001B[0m     \u001B[38;5;28;01mreturn\u001B[39;00m \u001B[43mshape\u001B[49m\u001B[38;5;241;43m.\u001B[39;49m\u001B[43mget_area\u001B[49m\u001B[43m(\u001B[49m\u001B[43m)\u001B[49m\n",
      "Cell \u001B[0;32mIn[199], line 12\u001B[0m, in \u001B[0;36mLine.get_area\u001B[0;34m(self)\u001B[0m\n\u001B[1;32m     11\u001B[0m \u001B[38;5;28;01mdef\u001B[39;00m \u001B[38;5;21mget_area\u001B[39m(\u001B[38;5;28mself\u001B[39m):\n\u001B[0;32m---> 12\u001B[0m     \u001B[38;5;28;01mraise\u001B[39;00m \u001B[38;5;167;01mAssertionError\u001B[39;00m(\u001B[38;5;124m'\u001B[39m\u001B[38;5;124mNo area for line!\u001B[39m\u001B[38;5;124m'\u001B[39m)\n",
      "\u001B[0;31mAssertionError\u001B[0m: No area for line!"
     ]
    }
   ],
   "source": [
    "get_area(line)"
   ]
  },
  {
   "cell_type": "code",
   "execution_count": 210,
   "metadata": {
    "ExecuteTime": {
     "end_time": "2024-01-30T04:25:22.072159005Z",
     "start_time": "2024-01-30T04:25:21.945210333Z"
    }
   },
   "outputs": [],
   "source": []
  },
  {
   "cell_type": "code",
   "execution_count": 210,
   "metadata": {
    "ExecuteTime": {
     "end_time": "2024-01-30T04:25:22.118987115Z",
     "start_time": "2024-01-30T04:25:21.985943019Z"
    }
   },
   "outputs": [],
   "source": []
  },
  {
   "cell_type": "markdown",
   "metadata": {},
   "source": [
    "# Interface Segregation Principle\n",
    "Make fine grained interfaces that are client specific Clients should not be\n",
    "forced to depend upon interfaces that they do not use. "
   ]
  },
  {
   "cell_type": "code",
   "execution_count": 211,
   "metadata": {
    "ExecuteTime": {
     "end_time": "2024-01-30T04:25:22.157046501Z",
     "start_time": "2024-01-30T04:25:22.073321931Z"
    }
   },
   "outputs": [],
   "source": [
    "class Flying:\n",
    "    \n",
    "    def fly(self):\n",
    "        print('This creature can fly!')"
   ]
  },
  {
   "cell_type": "code",
   "execution_count": 212,
   "metadata": {
    "ExecuteTime": {
     "end_time": "2024-01-30T04:25:22.204928954Z",
     "start_time": "2024-01-30T04:25:22.156277388Z"
    }
   },
   "outputs": [],
   "source": [
    "class Swimming:\n",
    "    \n",
    "    def swim(self):\n",
    "        print('This creature can swim')"
   ]
  },
  {
   "cell_type": "code",
   "execution_count": 213,
   "metadata": {
    "ExecuteTime": {
     "end_time": "2024-01-30T04:25:22.213879160Z",
     "start_time": "2024-01-30T04:25:22.205232988Z"
    }
   },
   "outputs": [],
   "source": [
    "class Feeding:\n",
    "    \n",
    "    def feed(self):\n",
    "        print('This creature eats food.')"
   ]
  },
  {
   "cell_type": "code",
   "execution_count": 214,
   "metadata": {
    "ExecuteTime": {
     "end_time": "2024-01-30T04:25:22.230892590Z",
     "start_time": "2024-01-30T04:25:22.212361463Z"
    }
   },
   "outputs": [],
   "source": [
    "class Birthing:\n",
    "    \n",
    "    def birth(self):\n",
    "        print('This creature gives birth to young')"
   ]
  },
  {
   "cell_type": "code",
   "execution_count": 215,
   "metadata": {
    "ExecuteTime": {
     "end_time": "2024-01-30T04:25:22.251500198Z",
     "start_time": "2024-01-30T04:25:22.229458320Z"
    }
   },
   "outputs": [],
   "source": [
    "def make_fly(flying):\n",
    "\n",
    "    flying.fly()"
   ]
  },
  {
   "cell_type": "code",
   "execution_count": 216,
   "metadata": {
    "ExecuteTime": {
     "end_time": "2024-01-30T04:25:22.265984410Z",
     "start_time": "2024-01-30T04:25:22.249995485Z"
    }
   },
   "outputs": [],
   "source": [
    "def eat_food(feeding):\n",
    "    \n",
    "    feeding.feed()"
   ]
  },
  {
   "cell_type": "code",
   "execution_count": 217,
   "metadata": {
    "ExecuteTime": {
     "end_time": "2024-01-30T04:25:22.285939726Z",
     "start_time": "2024-01-30T04:25:22.264431506Z"
    }
   },
   "outputs": [],
   "source": [
    "def give_birth(birthing):\n",
    "    \n",
    "    birthing.birth()"
   ]
  },
  {
   "cell_type": "code",
   "execution_count": 218,
   "metadata": {
    "ExecuteTime": {
     "end_time": "2024-01-30T04:25:22.306671330Z",
     "start_time": "2024-01-30T04:25:22.284529322Z"
    }
   },
   "outputs": [],
   "source": [
    "def make_swim(swimming):\n",
    "    \n",
    "    swimming.swim()"
   ]
  },
  {
   "cell_type": "code",
   "execution_count": 219,
   "metadata": {
    "ExecuteTime": {
     "end_time": "2024-01-30T04:25:22.320818293Z",
     "start_time": "2024-01-30T04:25:22.305239345Z"
    }
   },
   "outputs": [],
   "source": [
    "class Eagle(Flying, Feeding, Birthing):\n",
    "    \n",
    "    def birth(self):\n",
    "        print('Eagles give birth by laying eggs!')"
   ]
  },
  {
   "cell_type": "code",
   "execution_count": 220,
   "metadata": {
    "ExecuteTime": {
     "end_time": "2024-01-30T04:25:22.333016818Z",
     "start_time": "2024-01-30T04:25:22.319336785Z"
    }
   },
   "outputs": [],
   "source": [
    "class Dolphin(Swimming, Feeding, Birthing):\n",
    "    pass"
   ]
  },
  {
   "cell_type": "code",
   "execution_count": 221,
   "metadata": {
    "ExecuteTime": {
     "end_time": "2024-01-30T04:25:22.347841682Z",
     "start_time": "2024-01-30T04:25:22.331521062Z"
    }
   },
   "outputs": [],
   "source": [
    "eagle = Eagle()"
   ]
  },
  {
   "cell_type": "code",
   "execution_count": 222,
   "metadata": {
    "ExecuteTime": {
     "end_time": "2024-01-30T04:25:22.367939147Z",
     "start_time": "2024-01-30T04:25:22.346407333Z"
    }
   },
   "outputs": [
    {
     "name": "stdout",
     "output_type": "stream",
     "text": [
      "This creature can fly!\n"
     ]
    }
   ],
   "source": [
    "make_fly(eagle)"
   ]
  },
  {
   "cell_type": "code",
   "execution_count": 223,
   "metadata": {
    "ExecuteTime": {
     "end_time": "2024-01-30T04:25:22.376886779Z",
     "start_time": "2024-01-30T04:25:22.360820089Z"
    }
   },
   "outputs": [
    {
     "name": "stdout",
     "output_type": "stream",
     "text": [
      "This creature eats food.\n"
     ]
    }
   ],
   "source": [
    "eat_food(eagle)"
   ]
  },
  {
   "cell_type": "code",
   "execution_count": 224,
   "metadata": {
    "ExecuteTime": {
     "end_time": "2024-01-30T04:25:22.419224498Z",
     "start_time": "2024-01-30T04:25:22.375377518Z"
    }
   },
   "outputs": [
    {
     "name": "stdout",
     "output_type": "stream",
     "text": [
      "Eagles give birth by laying eggs!\n"
     ]
    }
   ],
   "source": [
    "give_birth(eagle)"
   ]
  },
  {
   "cell_type": "code",
   "execution_count": 225,
   "metadata": {
    "ExecuteTime": {
     "end_time": "2024-01-30T04:25:22.435638365Z",
     "start_time": "2024-01-30T04:25:22.417780921Z"
    }
   },
   "outputs": [
    {
     "ename": "AttributeError",
     "evalue": "'Eagle' object has no attribute 'swim'",
     "output_type": "error",
     "traceback": [
      "\u001B[0;31m---------------------------------------------------------------------------\u001B[0m",
      "\u001B[0;31mAttributeError\u001B[0m                            Traceback (most recent call last)",
      "Cell \u001B[0;32mIn[225], line 1\u001B[0m\n\u001B[0;32m----> 1\u001B[0m \u001B[43mmake_swim\u001B[49m\u001B[43m(\u001B[49m\u001B[43meagle\u001B[49m\u001B[43m)\u001B[49m\n",
      "Cell \u001B[0;32mIn[218], line 3\u001B[0m, in \u001B[0;36mmake_swim\u001B[0;34m(swimming)\u001B[0m\n\u001B[1;32m      1\u001B[0m \u001B[38;5;28;01mdef\u001B[39;00m \u001B[38;5;21mmake_swim\u001B[39m(swimming):\n\u001B[0;32m----> 3\u001B[0m     \u001B[43mswimming\u001B[49m\u001B[38;5;241;43m.\u001B[39;49m\u001B[43mswim\u001B[49m()\n",
      "\u001B[0;31mAttributeError\u001B[0m: 'Eagle' object has no attribute 'swim'"
     ]
    }
   ],
   "source": [
    "make_swim(eagle)"
   ]
  },
  {
   "cell_type": "code",
   "execution_count": 226,
   "metadata": {
    "ExecuteTime": {
     "end_time": "2024-01-30T04:25:22.449930713Z",
     "start_time": "2024-01-30T04:25:22.434086313Z"
    }
   },
   "outputs": [],
   "source": [
    "dolphin = Dolphin()"
   ]
  },
  {
   "cell_type": "code",
   "execution_count": 227,
   "metadata": {
    "ExecuteTime": {
     "end_time": "2024-01-30T04:25:22.492380232Z",
     "start_time": "2024-01-30T04:25:22.448447671Z"
    }
   },
   "outputs": [
    {
     "name": "stdout",
     "output_type": "stream",
     "text": [
      "This creature can swim\n"
     ]
    }
   ],
   "source": [
    "make_swim(dolphin)"
   ]
  },
  {
   "cell_type": "code",
   "execution_count": 228,
   "metadata": {
    "ExecuteTime": {
     "end_time": "2024-01-30T04:25:22.509862367Z",
     "start_time": "2024-01-30T04:25:22.483330076Z"
    }
   },
   "outputs": [
    {
     "ename": "AttributeError",
     "evalue": "'Dolphin' object has no attribute 'fly'",
     "output_type": "error",
     "traceback": [
      "\u001B[0;31m---------------------------------------------------------------------------\u001B[0m",
      "\u001B[0;31mAttributeError\u001B[0m                            Traceback (most recent call last)",
      "Cell \u001B[0;32mIn[228], line 1\u001B[0m\n\u001B[0;32m----> 1\u001B[0m \u001B[43mmake_fly\u001B[49m\u001B[43m(\u001B[49m\u001B[43mdolphin\u001B[49m\u001B[43m)\u001B[49m\n",
      "Cell \u001B[0;32mIn[215], line 3\u001B[0m, in \u001B[0;36mmake_fly\u001B[0;34m(flying)\u001B[0m\n\u001B[1;32m      1\u001B[0m \u001B[38;5;28;01mdef\u001B[39;00m \u001B[38;5;21mmake_fly\u001B[39m(flying):\n\u001B[0;32m----> 3\u001B[0m     \u001B[43mflying\u001B[49m\u001B[38;5;241;43m.\u001B[39;49m\u001B[43mfly\u001B[49m()\n",
      "\u001B[0;31mAttributeError\u001B[0m: 'Dolphin' object has no attribute 'fly'"
     ]
    }
   ],
   "source": [
    "make_fly(dolphin)"
   ]
  },
  {
   "cell_type": "code",
   "execution_count": 229,
   "metadata": {
    "ExecuteTime": {
     "end_time": "2024-01-30T04:25:22.562355169Z",
     "start_time": "2024-01-30T04:25:22.508185619Z"
    }
   },
   "outputs": [],
   "source": [
    "class Mammal:\n",
    "    \n",
    "    def aerial(self):\n",
    "        raise NotImplementedError\n",
    "    \n",
    "    def aquatic(self):\n",
    "        raise NotImplementedError\n",
    "    \n",
    "    def terrestrial(self):\n",
    "        raise NotImplementedError"
   ]
  },
  {
   "cell_type": "code",
   "execution_count": 230,
   "metadata": {
    "ExecuteTime": {
     "end_time": "2024-01-30T04:25:22.580303924Z",
     "start_time": "2024-01-30T04:25:22.549806603Z"
    }
   },
   "outputs": [],
   "source": [
    "class Human(Mammal):\n",
    "    \n",
    "    def aerial(self):\n",
    "        pass\n",
    "    \n",
    "    def aquatic(self):\n",
    "        pass\n",
    "    \n",
    "    def terrestrial(self):\n",
    "        print(\"humans are bipeds\")\n",
    "        \n",
    "\n",
    "class Bat(Mammal):\n",
    "    \n",
    "    def aerial(self):\n",
    "        print(\"bats are the only mammals that can truly fly\")\n",
    "    \n",
    "    def aquatic(self):\n",
    "        pass\n",
    "    \n",
    "    def terrestrial(self):\n",
    "        pass\n",
    "\n",
    "class Dolphin(Mammal):\n",
    "\n",
    "    def aerial(self):\n",
    "        pass\n",
    "    \n",
    "    def aquatic(self):\n",
    "        print(\"dolphins are marine mammals\")\n",
    "    \n",
    "    def terrestrial(self):\n",
    "        pass"
   ]
  },
  {
   "cell_type": "code",
   "execution_count": 231,
   "metadata": {
    "ExecuteTime": {
     "end_time": "2024-01-30T04:25:22.618353001Z",
     "start_time": "2024-01-30T04:25:22.578927514Z"
    }
   },
   "outputs": [],
   "source": [
    "bob = Human()"
   ]
  },
  {
   "cell_type": "code",
   "execution_count": 232,
   "metadata": {
    "ExecuteTime": {
     "end_time": "2024-01-30T04:25:22.627888123Z",
     "start_time": "2024-01-30T04:25:22.605808873Z"
    }
   },
   "outputs": [
    {
     "name": "stdout",
     "output_type": "stream",
     "text": [
      "humans are bipeds\n"
     ]
    }
   ],
   "source": [
    "bob.terrestrial()"
   ]
  },
  {
   "cell_type": "markdown",
   "metadata": {},
   "source": [
    "It’s quite funny looking at the code above. class dolphin implements methods\n",
    "(aerial and terrestrial) it has no use of, likewise bat and human\n",
    "If we add another method to the Mammal interface, like Arboreal(),\n"
   ]
  },
  {
   "cell_type": "markdown",
   "metadata": {},
   "source": [
    "clients (here Human,Bat, and Dolphin) should not be forced to depend on methods that they do not\n",
    "need or use."
   ]
  },
  {
   "cell_type": "code",
   "execution_count": 233,
   "metadata": {
    "ExecuteTime": {
     "end_time": "2024-01-30T04:25:22.669865590Z",
     "start_time": "2024-01-30T04:25:22.626404421Z"
    }
   },
   "outputs": [],
   "source": [
    "class Mammal:\n",
    "    def locomotion(self):\n",
    "        raise NotImplementedError"
   ]
  },
  {
   "cell_type": "code",
   "execution_count": 234,
   "metadata": {
    "ExecuteTime": {
     "end_time": "2024-01-30T04:25:22.691433834Z",
     "start_time": "2024-01-30T04:25:22.668494540Z"
    }
   },
   "outputs": [],
   "source": [
    "class Human(Mammal):\n",
    "    def locomotion(self):\n",
    "        print(\"terrestrial: humans are bipeds\")\n",
    "\n",
    "class Bat(Mammal):\n",
    "    def locomotion(self):\n",
    "        print(\"aerial: bats are the only mammals that can truly fly\")\n",
    "\n",
    "\n",
    "class Dolphin(Mammal):\n",
    "    def locomotion(self):\n",
    "        print(\"aquatic: dolphins are marine mammals\")"
   ]
  },
  {
   "cell_type": "code",
   "execution_count": 235,
   "metadata": {
    "ExecuteTime": {
     "end_time": "2024-01-30T04:25:22.705649297Z",
     "start_time": "2024-01-30T04:25:22.689987162Z"
    }
   },
   "outputs": [],
   "source": [
    "spinner_dolphin = Dolphin()"
   ]
  },
  {
   "cell_type": "code",
   "execution_count": 236,
   "metadata": {
    "ExecuteTime": {
     "end_time": "2024-01-30T04:25:22.725817397Z",
     "start_time": "2024-01-30T04:25:22.704232811Z"
    }
   },
   "outputs": [
    {
     "name": "stdout",
     "output_type": "stream",
     "text": [
      "aquatic: dolphins are marine mammals\n"
     ]
    }
   ],
   "source": [
    "spinner_dolphin.locomotion()"
   ]
  },
  {
   "cell_type": "markdown",
   "metadata": {},
   "source": [
    "# Dependency Inversion Principle (DIP):\n",
    "High level modules should not depend upon low level modules. Both should depend upon abstractions."
   ]
  },
  {
   "cell_type": "code",
   "execution_count": 237,
   "metadata": {
    "ExecuteTime": {
     "end_time": "2024-01-30T04:25:22.733980957Z",
     "start_time": "2024-01-30T04:25:22.718838282Z"
    }
   },
   "outputs": [],
   "source": [
    "class Organization(): \n",
    "    \n",
    "    def __init__(self): \n",
    "        self.__operations = [] \n",
    "        self.__finance = [] \n",
    "        self.__human_resources = [] \n",
    "  \n",
    "    def add_ops(self, department): \n",
    "        self.__operations.append(department) \n",
    "          \n",
    "    def add_finance(self, department): \n",
    "        self.__finance.append(department) \n",
    "          \n",
    "    def add_hr(self, department): \n",
    "        self.__human_resources.append(department) "
   ]
  },
  {
   "cell_type": "code",
   "execution_count": 238,
   "metadata": {
    "ExecuteTime": {
     "end_time": "2024-01-30T04:25:22.774575613Z",
     "start_time": "2024-01-30T04:25:22.732565733Z"
    }
   },
   "outputs": [],
   "source": [
    "class Operations():\n",
    "    \n",
    "    def __init__(self): \n",
    "        print (\"Operations department created\")\n",
    "      \n",
    "    \n",
    "class Finance(): \n",
    "    \n",
    "    def __init__(self): \n",
    "        print (\"Finance department created\")\n",
    "        \n",
    "        \n",
    "class HumanResources(): \n",
    "\n",
    "    def __init__(self): \n",
    "        print( \"HR department created\")"
   ]
  },
  {
   "cell_type": "code",
   "execution_count": 239,
   "metadata": {
    "ExecuteTime": {
     "end_time": "2024-01-30T04:25:22.789210710Z",
     "start_time": "2024-01-30T04:25:22.773213610Z"
    }
   },
   "outputs": [],
   "source": [
    "skillsoft = Organization() "
   ]
  },
  {
   "cell_type": "code",
   "execution_count": 240,
   "metadata": {
    "ExecuteTime": {
     "end_time": "2024-01-30T04:25:22.803052787Z",
     "start_time": "2024-01-30T04:25:22.787694335Z"
    }
   },
   "outputs": [
    {
     "name": "stdout",
     "output_type": "stream",
     "text": [
      "Operations department created\n",
      "Finance department created\n",
      "HR department created\n"
     ]
    }
   ],
   "source": [
    "ops = Operations()\n",
    "\n",
    "finance = Finance()\n",
    "\n",
    "hr = HumanResources()"
   ]
  },
  {
   "cell_type": "code",
   "execution_count": 241,
   "metadata": {
    "ExecuteTime": {
     "end_time": "2024-01-30T04:25:22.835576897Z",
     "start_time": "2024-01-30T04:25:22.801427958Z"
    }
   },
   "outputs": [],
   "source": [
    "skillsoft.add_ops(ops)\n",
    "\n",
    "skillsoft.add_finance(finance)\n",
    "\n",
    "skillsoft.add_hr(hr)"
   ]
  },
  {
   "cell_type": "markdown",
   "metadata": {},
   "source": [
    "First, you have exposed everything about the lower layer to the upper layer, i.e. the Organization has details of the individual departments. \n",
    "\n",
    "Now if another type of department is opened in the organization lets say, Analytics then we need to change the higher-level Organization class to account for this new department."
   ]
  },
  {
   "cell_type": "code",
   "execution_count": 242,
   "metadata": {
    "ExecuteTime": {
     "end_time": "2024-01-30T04:25:22.857217818Z",
     "start_time": "2024-01-30T04:25:22.834144911Z"
    }
   },
   "outputs": [],
   "source": [
    "class Department():\n",
    "    \n",
    "    def __init__(self, name, organization):\n",
    "        \n",
    "        self.__name = name\n",
    "        self.__organization = organization\n",
    "        self.__organization.add_department(self)\n",
    "    \n",
    "    def get_name(self): \n",
    "        return self.__name\n",
    "    \n",
    "    def do_work(self): \n",
    "        pass"
   ]
  },
  {
   "cell_type": "code",
   "execution_count": 243,
   "metadata": {
    "ExecuteTime": {
     "end_time": "2024-01-30T04:25:22.882574498Z",
     "start_time": "2024-01-30T04:25:22.855804217Z"
    }
   },
   "outputs": [],
   "source": [
    "class Organization(): \n",
    "    \n",
    "    def __init__(self): \n",
    "        self.__departments = [] \n",
    "\n",
    "    def add_department(self, department): \n",
    "        self.__departments.append(department)"
   ]
  },
  {
   "cell_type": "code",
   "execution_count": 244,
   "metadata": {
    "ExecuteTime": {
     "end_time": "2024-01-30T04:25:22.896315815Z",
     "start_time": "2024-01-30T04:25:22.874902024Z"
    }
   },
   "outputs": [],
   "source": [
    "class Operations(Department): \n",
    "\n",
    "    def __init__(self, organization):\n",
    "        Department.__init__(self, \"Operations\", organization)\n",
    "        print (\"Operations department created and added\")\n",
    "    \n",
    "    def do_work(self): \n",
    "        print (\"Managing production of goods and services\")\n",
    "          \n",
    "class Finance(Department):\n",
    "    \n",
    "    def __init__(self, organization):\n",
    "        Department.__init__(self, \"Finance\", organization)\n",
    "        print (\"Finance department created and added\")\n",
    "\n",
    "    def do_work(self): \n",
    "        print (\"Managing a company's finances\")\n",
    "          \n",
    "class HumanResources(Department):\n",
    "    \n",
    "    def __init__(self, organization):\n",
    "        Department.__init__(self, \"HumanResources\", organization)\n",
    "        print (\"Human Resources department created and added\")\n",
    "\n",
    "    def do_work(self): \n",
    "        print (\"Recruitment and engagement\")\n",
    "          "
   ]
  },
  {
   "cell_type": "code",
   "execution_count": 245,
   "metadata": {
    "ExecuteTime": {
     "end_time": "2024-01-30T04:25:22.917431294Z",
     "start_time": "2024-01-30T04:25:22.894885914Z"
    }
   },
   "outputs": [],
   "source": [
    "skillsoft = Organization() "
   ]
  },
  {
   "cell_type": "code",
   "execution_count": 246,
   "metadata": {
    "ExecuteTime": {
     "end_time": "2024-01-30T04:25:22.932234267Z",
     "start_time": "2024-01-30T04:25:22.915980363Z"
    }
   },
   "outputs": [
    {
     "name": "stdout",
     "output_type": "stream",
     "text": [
      "Operations department created and added\n",
      "Finance department created and added\n",
      "Human Resources department created and added\n"
     ]
    }
   ],
   "source": [
    "ops = Operations(skillsoft)\n",
    "\n",
    "finance = Finance(skillsoft)\n",
    "\n",
    "hr = HumanResources(skillsoft)"
   ]
  },
  {
   "cell_type": "markdown",
   "metadata": {},
   "source": [
    "Now if any other kind of  department is added it can be simply be added to Organisation without making the organization explicitly aware of it. Now to add another class of department we can simply call"
   ]
  },
  {
   "cell_type": "code",
   "execution_count": 247,
   "metadata": {
    "ExecuteTime": {
     "end_time": "2024-01-30T04:25:22.946261896Z",
     "start_time": "2024-01-30T04:25:22.930693827Z"
    }
   },
   "outputs": [],
   "source": [
    "class Analytics(Employee):\n",
    "    \n",
    "    def __init__(self, organization):\n",
    "        Department.__init__(self, \"Analytics\", organization)\n",
    "        print (\"Analytics department created and added\")\n",
    "\n",
    "    def do_work(self):\n",
    "        print(\"Data collection and data analysis\")"
   ]
  },
  {
   "cell_type": "code",
   "execution_count": 248,
   "metadata": {
    "ExecuteTime": {
     "end_time": "2024-01-30T04:25:22.986487854Z",
     "start_time": "2024-01-30T04:25:22.944735633Z"
    }
   },
   "outputs": [
    {
     "name": "stdout",
     "output_type": "stream",
     "text": [
      "Analytics department created and added\n"
     ]
    }
   ],
   "source": [
    "analytics = Analytics(skillsoft)"
   ]
  },
  {
   "cell_type": "code",
   "execution_count": 248,
   "metadata": {
    "ExecuteTime": {
     "end_time": "2024-01-30T04:25:23.000512929Z",
     "start_time": "2024-01-30T04:25:22.979010209Z"
    }
   },
   "outputs": [],
   "source": []
  },
  {
   "cell_type": "code",
   "execution_count": 248,
   "metadata": {
    "ExecuteTime": {
     "end_time": "2024-01-30T04:25:23.028521608Z",
     "start_time": "2024-01-30T04:25:22.999090050Z"
    }
   },
   "outputs": [],
   "source": []
  },
  {
   "cell_type": "code",
   "execution_count": 248,
   "metadata": {
    "ExecuteTime": {
     "end_time": "2024-01-30T04:25:23.048585520Z",
     "start_time": "2024-01-30T04:25:23.041887457Z"
    }
   },
   "outputs": [],
   "source": []
  }
 ],
 "metadata": {
  "kernelspec": {
   "display_name": "Python 3",
   "language": "python",
   "name": "python3"
  },
  "language_info": {
   "codemirror_mode": {
    "name": "ipython",
    "version": 3
   },
   "file_extension": ".py",
   "mimetype": "text/x-python",
   "name": "python",
   "nbconvert_exporter": "python",
   "pygments_lexer": "ipython3",
   "version": "3.6.9"
  }
 },
 "nbformat": 4,
 "nbformat_minor": 2
}
