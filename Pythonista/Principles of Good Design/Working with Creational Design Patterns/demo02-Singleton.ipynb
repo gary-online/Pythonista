{
 "cells": [
  {
   "cell_type": "markdown",
   "metadata": {},
   "source": [
    "This pattern restricts the instantiation of a class to one object. It is a type of creational pattern and involves only one class to create methods and specified objects.\n",
    "\n",
    "It provides a global point of access to the instance created."
   ]
  },
  {
   "cell_type": "code",
   "execution_count": 17,
   "metadata": {},
   "outputs": [],
   "source": [
    "class Logger:\n",
    "    \n",
    "    __instance = None\n",
    "    \n",
    "    def __init__(self):\n",
    "        raise RuntimeError('Call get_instance() instead')\n",
    "    \n",
    "    @classmethod \n",
    "    def get_instance(cls):\n",
    "        if cls.__instance == None:\n",
    "            print('No instance exists, creating a new one')\n",
    "            \n",
    "            cls.__instance = cls.__new__(cls)\n",
    "        else:\n",
    "            print('A previously created instance exists, returning that same one')\n",
    "        \n",
    "        return cls.__instance"
   ]
  },
  {
   "cell_type": "code",
   "execution_count": 18,
   "metadata": {},
   "outputs": [
    {
     "ename": "RuntimeError",
     "evalue": "Call get_instance() instead",
     "output_type": "error",
     "traceback": [
      "\u001b[0;31m---------------------------------------------------------------------------\u001b[0m",
      "\u001b[0;31mRuntimeError\u001b[0m                              Traceback (most recent call last)",
      "\u001b[0;32m<ipython-input-18-df483016a349>\u001b[0m in \u001b[0;36m<module>\u001b[0;34m\u001b[0m\n\u001b[0;32m----> 1\u001b[0;31m \u001b[0mlogger\u001b[0m \u001b[0;34m=\u001b[0m \u001b[0mLogger\u001b[0m\u001b[0;34m(\u001b[0m\u001b[0;34m)\u001b[0m\u001b[0;34m\u001b[0m\u001b[0;34m\u001b[0m\u001b[0m\n\u001b[0m",
      "\u001b[0;32m<ipython-input-17-67558c6abf78>\u001b[0m in \u001b[0;36m__init__\u001b[0;34m(self)\u001b[0m\n\u001b[1;32m      4\u001b[0m \u001b[0;34m\u001b[0m\u001b[0m\n\u001b[1;32m      5\u001b[0m     \u001b[0;32mdef\u001b[0m \u001b[0m__init__\u001b[0m\u001b[0;34m(\u001b[0m\u001b[0mself\u001b[0m\u001b[0;34m)\u001b[0m\u001b[0;34m:\u001b[0m\u001b[0;34m\u001b[0m\u001b[0;34m\u001b[0m\u001b[0m\n\u001b[0;32m----> 6\u001b[0;31m         \u001b[0;32mraise\u001b[0m \u001b[0mRuntimeError\u001b[0m\u001b[0;34m(\u001b[0m\u001b[0;34m'Call get_instance() instead'\u001b[0m\u001b[0;34m)\u001b[0m\u001b[0;34m\u001b[0m\u001b[0;34m\u001b[0m\u001b[0m\n\u001b[0m\u001b[1;32m      7\u001b[0m \u001b[0;34m\u001b[0m\u001b[0m\n\u001b[1;32m      8\u001b[0m     \u001b[0;34m@\u001b[0m\u001b[0mclassmethod\u001b[0m\u001b[0;34m\u001b[0m\u001b[0;34m\u001b[0m\u001b[0m\n",
      "\u001b[0;31mRuntimeError\u001b[0m: Call get_instance() instead"
     ]
    }
   ],
   "source": [
    "logger = Logger()"
   ]
  },
  {
   "cell_type": "code",
   "execution_count": 19,
   "metadata": {},
   "outputs": [
    {
     "name": "stdout",
     "output_type": "stream",
     "text": [
      "No instance exists, creating a new one\n"
     ]
    },
    {
     "data": {
      "text/plain": [
       "<__main__.Logger at 0x10c07b550>"
      ]
     },
     "execution_count": 19,
     "metadata": {},
     "output_type": "execute_result"
    }
   ],
   "source": [
    "logger_1 = Logger.get_instance()\n",
    "\n",
    "logger_1"
   ]
  },
  {
   "cell_type": "code",
   "execution_count": 20,
   "metadata": {},
   "outputs": [
    {
     "name": "stdout",
     "output_type": "stream",
     "text": [
      "A previously created instance exists, returning that same one\n"
     ]
    },
    {
     "data": {
      "text/plain": [
       "<__main__.Logger at 0x10c07b550>"
      ]
     },
     "execution_count": 20,
     "metadata": {},
     "output_type": "execute_result"
    }
   ],
   "source": [
    "logger_2 = Logger.get_instance()\n",
    "\n",
    "logger_2"
   ]
  },
  {
   "cell_type": "code",
   "execution_count": 21,
   "metadata": {},
   "outputs": [
    {
     "name": "stdout",
     "output_type": "stream",
     "text": [
      "A previously created instance exists, returning that same one\n"
     ]
    },
    {
     "data": {
      "text/plain": [
       "<__main__.Logger at 0x10c07b550>"
      ]
     },
     "execution_count": 21,
     "metadata": {},
     "output_type": "execute_result"
    }
   ],
   "source": [
    "logger_3 = Logger.get_instance()\n",
    "\n",
    "logger_3"
   ]
  },
  {
   "cell_type": "code",
   "execution_count": null,
   "metadata": {},
   "outputs": [],
   "source": []
  },
  {
   "cell_type": "code",
   "execution_count": 32,
   "metadata": {},
   "outputs": [],
   "source": [
    "class Logger:\n",
    "    \n",
    "    __instance = None\n",
    "    \n",
    "    def __init__(self):\n",
    "        print('Object initialized')\n",
    "    \n",
    "    def __new__(cls):\n",
    "        if cls.__instance is None:\n",
    "            print('No instance exists, creating a new one')\n",
    "\n",
    "            cls.__instance = super(Logger, cls).__new__(cls)\n",
    "        else:\n",
    "            print('A previously created instance exists, returning that same one')\n",
    "        \n",
    "        return cls.__instance"
   ]
  },
  {
   "cell_type": "code",
   "execution_count": 33,
   "metadata": {},
   "outputs": [
    {
     "name": "stdout",
     "output_type": "stream",
     "text": [
      "No instance exists, creating a new one\n",
      "Object initialized\n"
     ]
    },
    {
     "data": {
      "text/plain": [
       "<__main__.Logger at 0x10c07bf98>"
      ]
     },
     "execution_count": 33,
     "metadata": {},
     "output_type": "execute_result"
    }
   ],
   "source": [
    "logger_1 = Logger()\n",
    "\n",
    "logger_1"
   ]
  },
  {
   "cell_type": "code",
   "execution_count": 34,
   "metadata": {},
   "outputs": [
    {
     "name": "stdout",
     "output_type": "stream",
     "text": [
      "A previously created instance exists, returning that same one\n",
      "Object initialized\n"
     ]
    },
    {
     "data": {
      "text/plain": [
       "<__main__.Logger at 0x10c07bf98>"
      ]
     },
     "execution_count": 34,
     "metadata": {},
     "output_type": "execute_result"
    }
   ],
   "source": [
    "logger_2 = Logger()\n",
    "\n",
    "logger_2"
   ]
  },
  {
   "cell_type": "code",
   "execution_count": 35,
   "metadata": {},
   "outputs": [
    {
     "name": "stdout",
     "output_type": "stream",
     "text": [
      "Are they the same object? True\n"
     ]
    }
   ],
   "source": [
    "print(\"Are they the same object?\", logger_1 is logger_2)"
   ]
  },
  {
   "cell_type": "code",
   "execution_count": null,
   "metadata": {},
   "outputs": [],
   "source": [
    "class Logger:\n",
    "    \n",
    "    __instance = None\n",
    "    \n",
    "    def __new__(cls):\n",
    "        if cls.__instance is None:\n",
    "            print('No instance exists, creating a new one')\n",
    "\n",
    "            cls.__instance = super(Logger, cls).__new__(cls)\n",
    "            # Place all initialization code here\n",
    "        else:\n",
    "            print('A previously created instance exists, returning that same one')\n",
    "        \n",
    "        return cls.__instance"
   ]
  },
  {
   "cell_type": "code",
   "execution_count": 36,
   "metadata": {},
   "outputs": [
    {
     "name": "stdout",
     "output_type": "stream",
     "text": [
      "A previously created instance exists, returning that same one\n",
      "Object initialized\n"
     ]
    },
    {
     "data": {
      "text/plain": [
       "<__main__.Logger at 0x10c07bf98>"
      ]
     },
     "execution_count": 36,
     "metadata": {},
     "output_type": "execute_result"
    }
   ],
   "source": [
    "logger_1 = Logger()\n",
    "\n",
    "logger_1"
   ]
  },
  {
   "cell_type": "code",
   "execution_count": 37,
   "metadata": {},
   "outputs": [
    {
     "name": "stdout",
     "output_type": "stream",
     "text": [
      "A previously created instance exists, returning that same one\n",
      "Object initialized\n"
     ]
    },
    {
     "data": {
      "text/plain": [
       "<__main__.Logger at 0x10c07bf98>"
      ]
     },
     "execution_count": 37,
     "metadata": {},
     "output_type": "execute_result"
    }
   ],
   "source": [
    "logger_2 = Logger()\n",
    "\n",
    "logger_2"
   ]
  },
  {
   "cell_type": "code",
   "execution_count": 38,
   "metadata": {},
   "outputs": [
    {
     "name": "stdout",
     "output_type": "stream",
     "text": [
      "Are they the same object? True\n"
     ]
    }
   ],
   "source": [
    "print(\"Are they the same object?\", logger_1 is logger_2)"
   ]
  },
  {
   "cell_type": "code",
   "execution_count": null,
   "metadata": {},
   "outputs": [],
   "source": []
  },
  {
   "cell_type": "code",
   "execution_count": null,
   "metadata": {},
   "outputs": [],
   "source": []
  }
 ],
 "metadata": {
  "kernelspec": {
   "display_name": "Python 3",
   "language": "python",
   "name": "python3"
  },
  "language_info": {
   "codemirror_mode": {
    "name": "ipython",
    "version": 3
   },
   "file_extension": ".py",
   "mimetype": "text/x-python",
   "name": "python",
   "nbconvert_exporter": "python",
   "pygments_lexer": "ipython3",
   "version": "3.6.8"
  }
 },
 "nbformat": 4,
 "nbformat_minor": 2
}
