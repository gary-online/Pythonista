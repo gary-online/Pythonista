{
 "cells": [
  {
   "cell_type": "code",
   "execution_count": 11,
   "id": "initial_id",
   "metadata": {
    "collapsed": true,
    "ExecuteTime": {
     "end_time": "2024-02-09T20:04:06.797952628Z",
     "start_time": "2024-02-09T20:04:06.792694215Z"
    }
   },
   "outputs": [],
   "source": [
    "class Logger:\n",
    "    \n",
    "    __instance = None\n",
    "    \n",
    "    def __init__(self):\n",
    "        raise RuntimeError('Call get_instance() instead')\n",
    "\n",
    "    @classmethod\n",
    "    def get_instance(cls):\n",
    "        if cls.__instance == None:\n",
    "            print('No instance exists. Creating new instance...')\n",
    "            \n",
    "            cls.__instance = cls.__new__(cls)\n",
    "        else:\n",
    "            print('A previously created instance exists, returning that instance...')\n",
    "            \n",
    "        return cls.__instance  "
   ]
  },
  {
   "cell_type": "code",
   "outputs": [
    {
     "name": "stdout",
     "output_type": "stream",
     "text": [
      "No instance exists. Creating new instance...\n"
     ]
    },
    {
     "data": {
      "text/plain": "<__main__.Logger at 0x7fbdb422c610>"
     },
     "execution_count": 12,
     "metadata": {},
     "output_type": "execute_result"
    }
   ],
   "source": [
    "logger_1 = Logger.get_instance()\n",
    "\n",
    "logger_1"
   ],
   "metadata": {
    "collapsed": false,
    "ExecuteTime": {
     "end_time": "2024-02-09T20:04:09.436278017Z",
     "start_time": "2024-02-09T20:04:09.429032624Z"
    }
   },
   "id": "ab5b696390b1d42b",
   "execution_count": 12
  },
  {
   "cell_type": "code",
   "outputs": [
    {
     "name": "stdout",
     "output_type": "stream",
     "text": [
      "A previously created instance exists, returning that instance...\n"
     ]
    },
    {
     "data": {
      "text/plain": "<__main__.Logger at 0x7fbdb422c610>"
     },
     "execution_count": 13,
     "metadata": {},
     "output_type": "execute_result"
    }
   ],
   "source": [
    "logger_2 = Logger.get_instance()\n",
    "\n",
    "logger_2"
   ],
   "metadata": {
    "collapsed": false,
    "ExecuteTime": {
     "end_time": "2024-02-09T20:06:07.300451802Z",
     "start_time": "2024-02-09T20:06:07.293730514Z"
    }
   },
   "id": "7f37f46a1ce3adbb",
   "execution_count": 13
  },
  {
   "cell_type": "code",
   "outputs": [
    {
     "name": "stdout",
     "output_type": "stream",
     "text": [
      "A previously created instance exists, returning that instance...\n"
     ]
    },
    {
     "data": {
      "text/plain": "<__main__.Logger at 0x7fbdb422c610>"
     },
     "execution_count": 14,
     "metadata": {},
     "output_type": "execute_result"
    }
   ],
   "source": [
    "logger_3 = Logger.get_instance()\n",
    "\n",
    "logger_3"
   ],
   "metadata": {
    "collapsed": false,
    "ExecuteTime": {
     "end_time": "2024-02-09T20:06:59.203678134Z",
     "start_time": "2024-02-09T20:06:59.193539060Z"
    }
   },
   "id": "ce4f8858b3156ee6",
   "execution_count": 14
  },
  {
   "cell_type": "code",
   "outputs": [],
   "source": [
    "class Logger:\n",
    "    \n",
    "    __instance = None\n",
    "    \n",
    "    def __init__(self):\n",
    "        print('Object initialized')\n",
    "\n",
    "    def __new__(cls):\n",
    "        if cls.__instance == None:\n",
    "            print('No instance exists. Creating new instance...')\n",
    "            \n",
    "            cls.__instance = super(Logger, cls).__new__(cls)\n",
    "        else:\n",
    "            print('A previously created instance exists, returning that instance...')\n",
    "            \n",
    "        return cls.__instance  "
   ],
   "metadata": {
    "collapsed": false,
    "ExecuteTime": {
     "end_time": "2024-02-09T20:13:05.220831367Z",
     "start_time": "2024-02-09T20:13:05.168233084Z"
    }
   },
   "id": "693c9b8326e1abd7",
   "execution_count": 17
  },
  {
   "cell_type": "code",
   "outputs": [
    {
     "name": "stdout",
     "output_type": "stream",
     "text": [
      "No instance exists. Creating new instance...\n",
      "Object initialized\n"
     ]
    },
    {
     "data": {
      "text/plain": "<__main__.Logger at 0x7fbd9e4b7e50>"
     },
     "execution_count": 18,
     "metadata": {},
     "output_type": "execute_result"
    }
   ],
   "source": [
    "logger_1 = Logger()\n",
    "\n",
    "logger_1"
   ],
   "metadata": {
    "collapsed": false,
    "ExecuteTime": {
     "end_time": "2024-02-09T20:13:05.513140463Z",
     "start_time": "2024-02-09T20:13:05.510938479Z"
    }
   },
   "id": "8e161076ef398e77",
   "execution_count": 18
  },
  {
   "cell_type": "code",
   "outputs": [
    {
     "name": "stdout",
     "output_type": "stream",
     "text": [
      "A previously created instance exists, returning that instance...\n",
      "Object initialized\n"
     ]
    },
    {
     "data": {
      "text/plain": "<__main__.Logger at 0x7fbd9e4b7e50>"
     },
     "execution_count": 19,
     "metadata": {},
     "output_type": "execute_result"
    }
   ],
   "source": [
    "logger_2 = Logger()\n",
    "\n",
    "logger_2"
   ],
   "metadata": {
    "collapsed": false,
    "ExecuteTime": {
     "end_time": "2024-02-09T20:15:12.189864600Z",
     "start_time": "2024-02-09T20:15:12.183506820Z"
    }
   },
   "id": "805548b39b2550da",
   "execution_count": 19
  },
  {
   "cell_type": "code",
   "outputs": [
    {
     "name": "stdout",
     "output_type": "stream",
     "text": [
      "Are they the same object? True\n"
     ]
    }
   ],
   "source": [
    "print('Are they the same object?', logger_1 == logger_2)"
   ],
   "metadata": {
    "collapsed": false,
    "ExecuteTime": {
     "end_time": "2024-02-09T20:16:48.366596202Z",
     "start_time": "2024-02-09T20:16:48.360543099Z"
    }
   },
   "id": "43a8dd56c1408198",
   "execution_count": 20
  },
  {
   "cell_type": "code",
   "outputs": [],
   "source": [
    "class Logger:\n",
    "    \n",
    "    __instance = None\n",
    "    \n",
    "    def __new__(cls):\n",
    "        if cls.__instance == None:\n",
    "            print('No instance exists, creating new instance...')\n",
    "            \n",
    "            cls.__instance = super(Logger, cls).__new__(cls)\n",
    "            # Place all initialization code here\n",
    "        else:\n",
    "            print('A previously created instance exists, returning that same one...')\n",
    "            \n",
    "        return cls.__instance"
   ],
   "metadata": {
    "collapsed": false,
    "ExecuteTime": {
     "end_time": "2024-02-09T20:18:35.044107779Z",
     "start_time": "2024-02-09T20:18:35.002965152Z"
    }
   },
   "id": "8d8829d36de6a05",
   "execution_count": 21
  },
  {
   "cell_type": "code",
   "outputs": [
    {
     "name": "stdout",
     "output_type": "stream",
     "text": [
      "No instance exists, creating new instance...\n"
     ]
    },
    {
     "data": {
      "text/plain": "<__main__.Logger at 0x7fbd9e4b7e50>"
     },
     "execution_count": 22,
     "metadata": {},
     "output_type": "execute_result"
    }
   ],
   "source": [
    "logger_1 == Logger()\n",
    "\n",
    "logger_1"
   ],
   "metadata": {
    "collapsed": false,
    "ExecuteTime": {
     "end_time": "2024-02-09T20:20:22.375473234Z",
     "start_time": "2024-02-09T20:20:22.324351672Z"
    }
   },
   "id": "7ef198e006a20c72",
   "execution_count": 22
  },
  {
   "cell_type": "code",
   "outputs": [
    {
     "name": "stdout",
     "output_type": "stream",
     "text": [
      "A previously created instance exists, returning that same one...\n"
     ]
    },
    {
     "data": {
      "text/plain": "<__main__.Logger at 0x7fbd9e340bd0>"
     },
     "execution_count": 23,
     "metadata": {},
     "output_type": "execute_result"
    }
   ],
   "source": [
    "logger_2 = Logger()\n",
    "\n",
    "logger_2"
   ],
   "metadata": {
    "collapsed": false,
    "ExecuteTime": {
     "end_time": "2024-02-09T20:20:27.097704818Z",
     "start_time": "2024-02-09T20:20:27.090913297Z"
    }
   },
   "id": "3b25d99d81b8dffc",
   "execution_count": 23
  },
  {
   "cell_type": "code",
   "outputs": [
    {
     "name": "stdout",
     "output_type": "stream",
     "text": [
      "A previously created instance exists, returning that same one...\n"
     ]
    },
    {
     "data": {
      "text/plain": "<__main__.Logger at 0x7fbd9e340bd0>"
     },
     "execution_count": 24,
     "metadata": {},
     "output_type": "execute_result"
    }
   ],
   "source": [
    "logger_3 = Logger()\n",
    "\n",
    "logger_3"
   ],
   "metadata": {
    "collapsed": false,
    "ExecuteTime": {
     "end_time": "2024-02-09T20:20:38.787108202Z",
     "start_time": "2024-02-09T20:20:38.779756778Z"
    }
   },
   "id": "5ca2cc6406707b64",
   "execution_count": 24
  },
  {
   "cell_type": "code",
   "outputs": [],
   "source": [],
   "metadata": {
    "collapsed": false
   },
   "id": "55f3da3940695bcb"
  }
 ],
 "metadata": {
  "kernelspec": {
   "display_name": "Python 3",
   "language": "python",
   "name": "python3"
  },
  "language_info": {
   "codemirror_mode": {
    "name": "ipython",
    "version": 2
   },
   "file_extension": ".py",
   "mimetype": "text/x-python",
   "name": "python",
   "nbconvert_exporter": "python",
   "pygments_lexer": "ipython2",
   "version": "2.7.6"
  }
 },
 "nbformat": 4,
 "nbformat_minor": 5
}
