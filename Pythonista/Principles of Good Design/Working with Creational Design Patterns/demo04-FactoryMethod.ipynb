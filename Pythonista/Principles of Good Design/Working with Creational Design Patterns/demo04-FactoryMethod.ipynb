{
 "cells": [
  {
   "cell_type": "markdown",
   "metadata": {},
   "source": [
    " The factory pattern comes under the creational patterns list category. It provides one of the best ways to create an object. In factory pattern, objects are created without exposing the logic to client and referring to the newly created object using a common interface."
   ]
  },
  {
   "cell_type": "code",
   "execution_count": 14,
   "metadata": {},
   "outputs": [],
   "source": [
    "class Product:\n",
    "    def __init__(self, name, price):\n",
    "        self.__name = name\n",
    "        self.__price = price\n",
    "\n",
    "    def get_price(self):\n",
    "        return self.__price"
   ]
  },
  {
   "cell_type": "code",
   "execution_count": 25,
   "metadata": {},
   "outputs": [],
   "source": [
    "class MacBookAir(Product):\n",
    "\n",
    "    def __init__(self, memory, os):\n",
    "        Product.__init__(self, 'MacBookAir', 1031)\n",
    "        \n",
    "        self.__memory = memory\n",
    "        self.__os = os\n",
    "        \n",
    "\n",
    "class AppleIPad(Product):\n",
    "    \n",
    "    def __init__(self, generation):\n",
    "        Product.__init__(self, 'AppleIPad', 529)\n",
    "\n",
    "        self.__generation = generation\n",
    "\n",
    "class AppleIWatch(Product):\n",
    "    \n",
    "    def __init__(self):\n",
    "        Product.__init__(self, 'AppleIWatch', 264)"
   ]
  },
  {
   "cell_type": "code",
   "execution_count": 30,
   "metadata": {},
   "outputs": [],
   "source": [
    "class ProductFactory():\n",
    "\n",
    "    @staticmethod\n",
    "    def create(item_name, *args):\n",
    "\n",
    "        if item_name == 'MacBookAir':\n",
    "            return MacBookAir(*args)\n",
    "        elif item_name == 'AppleIPad':\n",
    "            return AppleIPad(*args)\n",
    "        elif item_name == 'AppleIWatch':\n",
    "            return AppleIWatch(*args)"
   ]
  },
  {
   "cell_type": "code",
   "execution_count": 31,
   "metadata": {},
   "outputs": [
    {
     "data": {
      "text/plain": [
       "{'_Product__name': 'MacBookAir',\n",
       " '_Product__price': 1031,\n",
       " '_MacBookAir__memory': '16GB',\n",
       " '_MacBookAir__os': 'Sierra'}"
      ]
     },
     "execution_count": 31,
     "metadata": {},
     "output_type": "execute_result"
    }
   ],
   "source": [
    "air = ProductFactory.create('MacBookAir', '16GB', 'Sierra')\n",
    "\n",
    "air.__dict__"
   ]
  },
  {
   "cell_type": "code",
   "execution_count": 34,
   "metadata": {},
   "outputs": [
    {
     "data": {
      "text/plain": [
       "{'_Product__name': 'AppleIPad',\n",
       " '_Product__price': 529,\n",
       " '_AppleIPad__generation': '2nd'}"
      ]
     },
     "execution_count": 34,
     "metadata": {},
     "output_type": "execute_result"
    }
   ],
   "source": [
    "ipad = ProductFactory.create('AppleIPad', '2nd')\n",
    "\n",
    "ipad.__dict__"
   ]
  },
  {
   "cell_type": "code",
   "execution_count": 35,
   "metadata": {},
   "outputs": [
    {
     "data": {
      "text/plain": [
       "{'_Product__name': 'AppleIWatch', '_Product__price': 264}"
      ]
     },
     "execution_count": 35,
     "metadata": {},
     "output_type": "execute_result"
    }
   ],
   "source": [
    "iwatch = ProductFactory.create('AppleIWatch')\n",
    "\n",
    "iwatch.__dict__"
   ]
  },
  {
   "cell_type": "markdown",
   "metadata": {},
   "source": [
    "https://realpython.com/factory-method-python/"
   ]
  },
  {
   "cell_type": "code",
   "execution_count": 1,
   "metadata": {},
   "outputs": [],
   "source": [
    "import json\n",
    "import xml.etree.ElementTree as et\n",
    "\n",
    "class Movie:\n",
    "    def __init__(self, movie_id, name, director):\n",
    "        \n",
    "        self.movie_id = movie_id\n",
    "        self.name = name\n",
    "        self.director = director"
   ]
  },
  {
   "cell_type": "code",
   "execution_count": 39,
   "metadata": {},
   "outputs": [],
   "source": [
    "class MovieSerializer:\n",
    "\n",
    "    def serialize(self, movie, fmt):\n",
    "        if fmt == 'JSON':\n",
    "            movie_info = {\n",
    "                'id': movie.movie_id,\n",
    "                'name': movie.name,\n",
    "                'director': movie.director\n",
    "            }\n",
    "            \n",
    "            return json.dumps(movie_info)\n",
    "        \n",
    "        elif fmt == 'XML':\n",
    "            movie_info = et.Element('movie', attrib={'id': movie.movie_id})\n",
    "            \n",
    "            name = et.SubElement(movie_info, 'name')\n",
    "            name.text = movie.name\n",
    "            \n",
    "            director = et.SubElement(movie_info, 'director')\n",
    "            director.text = movie.director\n",
    "            \n",
    "            return et.tostring(movie_info, encoding='unicode')\n",
    "        \n",
    "        else:\n",
    "            raise ValueError(fmt)"
   ]
  },
  {
   "cell_type": "code",
   "execution_count": 40,
   "metadata": {},
   "outputs": [],
   "source": [
    "movie = Movie('578', 'Avengers:End Game', 'Russo brothers')"
   ]
  },
  {
   "cell_type": "code",
   "execution_count": 41,
   "metadata": {},
   "outputs": [],
   "source": [
    "serializer = MovieSerializer()"
   ]
  },
  {
   "cell_type": "code",
   "execution_count": 42,
   "metadata": {},
   "outputs": [
    {
     "data": {
      "text/plain": [
       "'{\"id\": \"578\", \"name\": \"Avengers:End Game\", \"director\": \"Russo brothers\"}'"
      ]
     },
     "execution_count": 42,
     "metadata": {},
     "output_type": "execute_result"
    }
   ],
   "source": [
    "serializer.serialize(movie, 'JSON')"
   ]
  },
  {
   "cell_type": "code",
   "execution_count": 43,
   "metadata": {},
   "outputs": [
    {
     "data": {
      "text/plain": [
       "'<movie id=\"578\"><name>Avengers:End Game</name><director>Russo brothers</director></movie>'"
      ]
     },
     "execution_count": 43,
     "metadata": {},
     "output_type": "execute_result"
    }
   ],
   "source": [
    "serializer.serialize(movie, 'XML')"
   ]
  },
  {
   "cell_type": "code",
   "execution_count": 44,
   "metadata": {},
   "outputs": [
    {
     "ename": "ValueError",
     "evalue": "YAML",
     "output_type": "error",
     "traceback": [
      "\u001b[0;31m---------------------------------------------------------------------------\u001b[0m",
      "\u001b[0;31mValueError\u001b[0m                                Traceback (most recent call last)",
      "\u001b[0;32m<ipython-input-44-5543a7489d40>\u001b[0m in \u001b[0;36m<module>\u001b[0;34m\u001b[0m\n\u001b[0;32m----> 1\u001b[0;31m \u001b[0mserializer\u001b[0m\u001b[0;34m.\u001b[0m\u001b[0mserialize\u001b[0m\u001b[0;34m(\u001b[0m\u001b[0mmovie\u001b[0m\u001b[0;34m,\u001b[0m \u001b[0;34m'YAML'\u001b[0m\u001b[0;34m)\u001b[0m\u001b[0;34m\u001b[0m\u001b[0;34m\u001b[0m\u001b[0m\n\u001b[0m",
      "\u001b[0;32m<ipython-input-39-a3cb7f94d165>\u001b[0m in \u001b[0;36mserialize\u001b[0;34m(self, movie, fmt)\u001b[0m\n\u001b[1;32m     23\u001b[0m \u001b[0;34m\u001b[0m\u001b[0m\n\u001b[1;32m     24\u001b[0m         \u001b[0;32melse\u001b[0m\u001b[0;34m:\u001b[0m\u001b[0;34m\u001b[0m\u001b[0;34m\u001b[0m\u001b[0m\n\u001b[0;32m---> 25\u001b[0;31m             \u001b[0;32mraise\u001b[0m \u001b[0mValueError\u001b[0m\u001b[0;34m(\u001b[0m\u001b[0mfmt\u001b[0m\u001b[0;34m)\u001b[0m\u001b[0;34m\u001b[0m\u001b[0;34m\u001b[0m\u001b[0m\n\u001b[0m",
      "\u001b[0;31mValueError\u001b[0m: YAML"
     ]
    }
   ],
   "source": [
    "serializer.serialize(movie, 'YAML')"
   ]
  },
  {
   "cell_type": "markdown",
   "metadata": {},
   "source": [
    "Complex logical code uses if/elif/else structures to change the behavior of an application. Using if/elif/else conditional structures makes the code harder to read, harder to understand, and harder to maintain.\n",
    "\n",
    "- When a new format is introduced: The method will have to change to implement the serialization to that format.\n",
    "\n",
    "- When the movie object changes: Adding or removing properties to the Song class will require the implementation to change in order to accommodate the new structure.\n",
    "\n",
    "- When the string representation for a format changes (plain JSON vs JSON API): The .serialize() method will have to change if the desired string representation for a format changes because the representation is hard-coded in the .serialize() method implementation."
   ]
  },
  {
   "cell_type": "markdown",
   "metadata": {},
   "source": [
    "# Refactoring Code Into the Desired Interface"
   ]
  },
  {
   "cell_type": "code",
   "execution_count": 49,
   "metadata": {},
   "outputs": [],
   "source": [
    "class MovieSerializer:\n",
    "    \n",
    "    def serialize(self, movie, fmt):\n",
    "        if fmt == 'JSON':\n",
    "            return self._serialize_to_json(movie)\n",
    "        \n",
    "        elif fmt == 'XML':\n",
    "            return self._serialize_to_xml(movie)\n",
    "        \n",
    "        else:\n",
    "            raise ValueError(format)\n",
    "\n",
    "    def _serialize_to_json(self, movie):\n",
    "        movie_info = {\n",
    "            'id': movie.movie_id,\n",
    "            'name': movie.name,\n",
    "            'director': movie.director\n",
    "        }\n",
    "\n",
    "        return json.dumps(movie_info)\n",
    "\n",
    "    def _serialize_to_xml(self, movie):\n",
    "        movie_element = et.Element('movie', attrib={'id': movie.movie_id})\n",
    "\n",
    "        name = et.SubElement(movie_element, 'name')\n",
    "        name.text = movie.name\n",
    "        director = et.SubElement(movie_element, 'director')\n",
    "        director.text = movie.director\n",
    "        \n",
    "        return et.tostring(movie_element, encoding='unicode')"
   ]
  },
  {
   "cell_type": "code",
   "execution_count": 50,
   "metadata": {},
   "outputs": [],
   "source": [
    "serializer = MovieSerializer()"
   ]
  },
  {
   "cell_type": "code",
   "execution_count": 51,
   "metadata": {},
   "outputs": [
    {
     "data": {
      "text/plain": [
       "'{\"id\": \"578\", \"name\": \"Avengers:End Game\", \"director\": \"Russo brothers\"}'"
      ]
     },
     "execution_count": 51,
     "metadata": {},
     "output_type": "execute_result"
    }
   ],
   "source": [
    "serializer.serialize(movie, 'JSON')"
   ]
  },
  {
   "cell_type": "code",
   "execution_count": 52,
   "metadata": {},
   "outputs": [
    {
     "data": {
      "text/plain": [
       "'<movie id=\"578\"><name>Avengers:End Game</name><director>Russo brothers</director></movie>'"
      ]
     },
     "execution_count": 52,
     "metadata": {},
     "output_type": "execute_result"
    }
   ],
   "source": [
    "serializer.serialize(movie, 'XML')"
   ]
  },
  {
   "cell_type": "markdown",
   "metadata": {},
   "source": [
    "### Show the movieserializer.py class"
   ]
  },
  {
   "cell_type": "code",
   "execution_count": 1,
   "metadata": {},
   "outputs": [],
   "source": [
    "## TODO: Recording notes:\n",
    "## Show the movieserializer.py file first, that is what we're importing as a module here"
   ]
  },
  {
   "cell_type": "code",
   "execution_count": 2,
   "metadata": {},
   "outputs": [],
   "source": [
    "import movieserializer"
   ]
  },
  {
   "cell_type": "code",
   "execution_count": 3,
   "metadata": {},
   "outputs": [],
   "source": [
    "movie = Movie('578', 'Avengers:End Game', 'Russo brothers')"
   ]
  },
  {
   "cell_type": "code",
   "execution_count": 4,
   "metadata": {},
   "outputs": [
    {
     "data": {
      "text/plain": [
       "'{\"id\": \"578\", \"name\": \"Avengers:End Game\", \"director\": \"Russo brothers\"}'"
      ]
     },
     "execution_count": 4,
     "metadata": {},
     "output_type": "execute_result"
    }
   ],
   "source": [
    "movieserializer.MovieSerializer.serialize(movie, 'JSON')"
   ]
  },
  {
   "cell_type": "code",
   "execution_count": 5,
   "metadata": {},
   "outputs": [
    {
     "data": {
      "text/plain": [
       "'<movie id=\"578\"><name>Avengers:End Game</name><director>Russo brothers</director></movie>'"
      ]
     },
     "execution_count": 5,
     "metadata": {},
     "output_type": "execute_result"
    }
   ],
   "source": [
    "movieserializer.MovieSerializer.serialize(movie, 'XML')"
   ]
  },
  {
   "cell_type": "code",
   "execution_count": 7,
   "metadata": {},
   "outputs": [
    {
     "ename": "ValueError",
     "evalue": "YAML",
     "output_type": "error",
     "traceback": [
      "\u001b[0;31m---------------------------------------------------------------------------\u001b[0m",
      "\u001b[0;31mValueError\u001b[0m                                Traceback (most recent call last)",
      "\u001b[0;32m<ipython-input-7-cecc4deba21b>\u001b[0m in \u001b[0;36m<module>\u001b[0;34m\u001b[0m\n\u001b[0;32m----> 1\u001b[0;31m \u001b[0mmovieserializer\u001b[0m\u001b[0;34m.\u001b[0m\u001b[0mMovieSerializer\u001b[0m\u001b[0;34m.\u001b[0m\u001b[0mserialize\u001b[0m\u001b[0;34m(\u001b[0m\u001b[0mmovie\u001b[0m\u001b[0;34m,\u001b[0m \u001b[0;34m'YAML'\u001b[0m\u001b[0;34m)\u001b[0m\u001b[0;34m\u001b[0m\u001b[0;34m\u001b[0m\u001b[0m\n\u001b[0m",
      "\u001b[0;32m~/Desktop/iMovieLibrary/Skillsoft/PythonTrack/DesignPatternsInPython/SkillsoftDesignPatternsPython/movieserializer.py\u001b[0m in \u001b[0;36mserialize\u001b[0;34m(cls, movie, fmt)\u001b[0m\n\u001b[1;32m     15\u001b[0m \u001b[0;34m\u001b[0m\u001b[0m\n\u001b[1;32m     16\u001b[0m         \u001b[0;32mif\u001b[0m \u001b[0mfmt\u001b[0m \u001b[0;32mnot\u001b[0m \u001b[0;32min\u001b[0m \u001b[0mcls\u001b[0m\u001b[0;34m.\u001b[0m\u001b[0m__fmt_dictionary\u001b[0m\u001b[0;34m:\u001b[0m\u001b[0;34m\u001b[0m\u001b[0;34m\u001b[0m\u001b[0m\n\u001b[0;32m---> 17\u001b[0;31m             \u001b[0;32mraise\u001b[0m \u001b[0mValueError\u001b[0m\u001b[0;34m(\u001b[0m\u001b[0mfmt\u001b[0m\u001b[0;34m)\u001b[0m\u001b[0;34m\u001b[0m\u001b[0;34m\u001b[0m\u001b[0m\n\u001b[0m\u001b[1;32m     18\u001b[0m \u001b[0;34m\u001b[0m\u001b[0m\n\u001b[1;32m     19\u001b[0m         \u001b[0mserializer_fn\u001b[0m \u001b[0;34m=\u001b[0m \u001b[0mcls\u001b[0m\u001b[0;34m.\u001b[0m\u001b[0m__fmt_dictionary\u001b[0m\u001b[0;34m[\u001b[0m\u001b[0mfmt\u001b[0m\u001b[0;34m]\u001b[0m\u001b[0;34m\u001b[0m\u001b[0;34m\u001b[0m\u001b[0m\n",
      "\u001b[0;31mValueError\u001b[0m: YAML"
     ]
    }
   ],
   "source": [
    "movieserializer.MovieSerializer.serialize(movie, 'YAML')"
   ]
  },
  {
   "cell_type": "code",
   "execution_count": null,
   "metadata": {},
   "outputs": [],
   "source": []
  },
  {
   "cell_type": "code",
   "execution_count": null,
   "metadata": {},
   "outputs": [],
   "source": []
  }
 ],
 "metadata": {
  "kernelspec": {
   "display_name": "Python 3",
   "language": "python",
   "name": "python3"
  },
  "language_info": {
   "codemirror_mode": {
    "name": "ipython",
    "version": 3
   },
   "file_extension": ".py",
   "mimetype": "text/x-python",
   "name": "python",
   "nbconvert_exporter": "python",
   "pygments_lexer": "ipython3",
   "version": "3.6.8"
  }
 },
 "nbformat": 4,
 "nbformat_minor": 2
}
