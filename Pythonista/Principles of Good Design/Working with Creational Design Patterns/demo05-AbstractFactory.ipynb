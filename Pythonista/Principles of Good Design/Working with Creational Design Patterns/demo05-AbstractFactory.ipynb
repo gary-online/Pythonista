{
 "cells": [
  {
   "cell_type": "markdown",
   "metadata": {},
   "source": [
    "Provide an interface for creating families of related or dependent\n",
    "objects without specifying their concrete classes.\n",
    "\n",
    "An abstract factory is a factory that returns factories.A normal factory can be used to create sets of related objects. An abstract factory returns factories. Thus, an abstract factory is used to return factories that can be used to create sets of related objects.\n",
    "\n",
    "- When the system needs to be independent of how its object are created, composed, and represented.\n",
    "- When the family of related objects has to be used together, then this constraint needs to be enforced.\n",
    "- When you want to provide a library of objects that does not show implementations and only reveals interfaces.\n",
    "- When the system needs to be configured with one of a multiple family of objects."
   ]
  },
  {
   "cell_type": "code",
   "execution_count": 1,
   "metadata": {},
   "outputs": [],
   "source": [
    "import abc"
   ]
  },
  {
   "cell_type": "markdown",
   "metadata": {},
   "source": [
    "create an interface for Toys and color"
   ]
  },
  {
   "cell_type": "code",
   "execution_count": 2,
   "metadata": {},
   "outputs": [],
   "source": [
    "class Toy(metaclass=abc.ABCMeta):\n",
    "    @abc.abstractmethod\n",
    "    def show(self):\n",
    "        pass\n",
    "\n",
    "class Color(metaclass=abc.ABCMeta):\n",
    "    @abc.abstractmethod\n",
    "    def show_color(self):\n",
    "        pass"
   ]
  },
  {
   "cell_type": "code",
   "execution_count": 3,
   "metadata": {},
   "outputs": [],
   "source": [
    "class Car(Toy):\n",
    "    def show(self):\n",
    "        print(\"Remote controlled car\")\n",
    "\n",
    "class ActionFigure(Toy):\n",
    "    def show(self):\n",
    "        print(\"Captain America action figure\")\n",
    "\n",
    "class ConstructionToy(Toy):\n",
    "    def show(self):\n",
    "        print(\"Lego\")"
   ]
  },
  {
   "cell_type": "code",
   "execution_count": 4,
   "metadata": {},
   "outputs": [],
   "source": [
    "class Red(Color):\n",
    "    def show_color(self):\n",
    "        print(\"red\")\n",
    "\n",
    "class Green(Color):\n",
    "    def show_color(self):\n",
    "        print(\"green\")\n",
    "\n",
    "class Blue(Color):\n",
    "    def show_color(self):\n",
    "        print(\"blue\")"
   ]
  },
  {
   "cell_type": "code",
   "execution_count": 5,
   "metadata": {},
   "outputs": [
    {
     "name": "stdout",
     "output_type": "stream",
     "text": [
      "red\n",
      "Remote controlled car\n"
     ]
    },
    {
     "data": {
      "text/plain": [
       "(None, None)"
      ]
     },
     "execution_count": 5,
     "metadata": {},
     "output_type": "execute_result"
    }
   ],
   "source": [
    "car = Car()\n",
    "\n",
    "red = Red()\n",
    "\n",
    "red.show_color(), car.show()"
   ]
  },
  {
   "cell_type": "code",
   "execution_count": 6,
   "metadata": {},
   "outputs": [
    {
     "name": "stdout",
     "output_type": "stream",
     "text": [
      "green\n",
      "Lego\n"
     ]
    },
    {
     "data": {
      "text/plain": [
       "(None, None)"
      ]
     },
     "execution_count": 6,
     "metadata": {},
     "output_type": "execute_result"
    }
   ],
   "source": [
    "lego = ConstructionToy()\n",
    "\n",
    "green = Green()\n",
    "\n",
    "green.show_color(), lego.show()"
   ]
  },
  {
   "cell_type": "code",
   "execution_count": 7,
   "metadata": {},
   "outputs": [],
   "source": [
    "class AbstractFactory(metaclass=abc.ABCMeta):\n",
    "\n",
    "    @abc.abstractmethod\n",
    "    def get_color(self):\n",
    "        pass\n",
    "\n",
    "    @abc.abstractmethod\n",
    "    def get_toy(self):\n",
    "        pass"
   ]
  },
  {
   "cell_type": "markdown",
   "metadata": {},
   "source": [
    "Create concrete classes implementing the same interface."
   ]
  },
  {
   "cell_type": "markdown",
   "metadata": {},
   "source": [
    "create Factory classes extending AbstractFactory"
   ]
  },
  {
   "cell_type": "code",
   "execution_count": 8,
   "metadata": {},
   "outputs": [],
   "source": [
    "class ColorfulToysFactory(AbstractFactory):\n",
    "    \n",
    "    def get_toy(self, toy_type):\n",
    "        if toy_type == None:\n",
    "            return None\n",
    "\n",
    "        if toy_type == \"car\":\n",
    "            return Car()\n",
    "        elif toy_type == \"action figure\":\n",
    "            return ActionFigure()\n",
    "        elif toy_type == \"construction toy\":\n",
    "            return ConstructionToy()\n",
    "\n",
    "        return None\n",
    "\n",
    "    def get_color(self, color_type):\n",
    "        if color_type == None:\n",
    "            return None\n",
    "\n",
    "        if color_type == \"red\":\n",
    "            return Red()\n",
    "        elif color_type == \"green\":\n",
    "            return Green()\n",
    "        elif color_type == \"blue\":\n",
    "            return Blue()\n",
    "\n",
    "        return None"
   ]
  },
  {
   "cell_type": "code",
   "execution_count": 9,
   "metadata": {},
   "outputs": [],
   "source": [
    "RED_CAR = 'red_car'\n",
    "BLUE_LEGO = 'blue_lego'\n",
    "GREEN_ACTION_FIGURE = 'green_action_figure'"
   ]
  },
  {
   "cell_type": "markdown",
   "metadata": {},
   "source": [
    "\n",
    "\n",
    "Use the FactoryProducer to get AbstractFactory in order to get factories of concrete classes by passing an information such as type"
   ]
  },
  {
   "cell_type": "code",
   "execution_count": 10,
   "metadata": {},
   "outputs": [],
   "source": [
    "class ColorfulToysProducer:\n",
    "    \n",
    "    __colorful_toys_factory = ColorfulToysFactory()\n",
    "    \n",
    "    @classmethod\n",
    "    def get_toy_and_color(cls, choice):\n",
    "        toy = None\n",
    "        color = None\n",
    "\n",
    "        if choice == RED_CAR:\n",
    "            toy = cls.__colorful_toys_factory.get_toy('car')\n",
    "            color = cls.__colorful_toys_factory.get_color('red')\n",
    "            \n",
    "        elif choice == BLUE_LEGO:\n",
    "            toy = cls.__colorful_toys_factory.get_toy('construction toy')\n",
    "            color = cls.__colorful_toys_factory.get_color('blue')\n",
    "\n",
    "        elif choice == GREEN_ACTION_FIGURE:\n",
    "            toy = cls.__colorful_toys_factory.get_toy('action figure')\n",
    "            color = cls.__colorful_toys_factory.get_color('green')\n",
    "        \n",
    "        return toy, color"
   ]
  },
  {
   "cell_type": "code",
   "execution_count": 11,
   "metadata": {},
   "outputs": [
    {
     "data": {
      "text/plain": [
       "(<__main__.Car at 0x111cb4e48>, <__main__.Red at 0x111cb46d8>)"
      ]
     },
     "execution_count": 11,
     "metadata": {},
     "output_type": "execute_result"
    }
   ],
   "source": [
    "toy, color = ColorfulToysProducer.get_toy_and_color(RED_CAR)\n",
    "\n",
    "toy, color"
   ]
  },
  {
   "cell_type": "code",
   "execution_count": 12,
   "metadata": {},
   "outputs": [
    {
     "data": {
      "text/plain": [
       "(<__main__.ConstructionToy at 0x111cb4d30>, <__main__.Blue at 0x111cb4fd0>)"
      ]
     },
     "execution_count": 12,
     "metadata": {},
     "output_type": "execute_result"
    }
   ],
   "source": [
    "toy, color = ColorfulToysProducer.get_toy_and_color(BLUE_LEGO)\n",
    "\n",
    "toy, color"
   ]
  },
  {
   "cell_type": "code",
   "execution_count": 13,
   "metadata": {},
   "outputs": [
    {
     "data": {
      "text/plain": [
       "(<__main__.ActionFigure at 0x111cb4cc0>, <__main__.Green at 0x111cb4d68>)"
      ]
     },
     "execution_count": 13,
     "metadata": {},
     "output_type": "execute_result"
    }
   ],
   "source": [
    "toy, color = ColorfulToysProducer.get_toy_and_color(GREEN_ACTION_FIGURE)\n",
    "\n",
    "toy, color"
   ]
  },
  {
   "cell_type": "code",
   "execution_count": null,
   "metadata": {},
   "outputs": [],
   "source": []
  },
  {
   "cell_type": "code",
   "execution_count": null,
   "metadata": {},
   "outputs": [],
   "source": []
  },
  {
   "cell_type": "code",
   "execution_count": null,
   "metadata": {},
   "outputs": [],
   "source": []
  },
  {
   "cell_type": "code",
   "execution_count": null,
   "metadata": {},
   "outputs": [],
   "source": []
  }
 ],
 "metadata": {
  "kernelspec": {
   "display_name": "Python 3",
   "language": "python",
   "name": "python3"
  },
  "language_info": {
   "codemirror_mode": {
    "name": "ipython",
    "version": 3
   },
   "file_extension": ".py",
   "mimetype": "text/x-python",
   "name": "python",
   "nbconvert_exporter": "python",
   "pygments_lexer": "ipython3",
   "version": "3.6.8"
  }
 },
 "nbformat": 4,
 "nbformat_minor": 2
}
