{
 "cells": [
  {
   "cell_type": "code",
   "execution_count": 2,
   "id": "initial_id",
   "metadata": {
    "collapsed": true,
    "ExecuteTime": {
     "end_time": "2024-02-09T20:34:58.248242470Z",
     "start_time": "2024-02-09T20:34:58.204170316Z"
    }
   },
   "outputs": [
    {
     "name": "stdout",
     "output_type": "stream",
     "text": [
      "Logger initialized:  console\n",
      "Logger initialized:  file\n"
     ]
    }
   ],
   "source": [
    "import logger"
   ]
  },
  {
   "cell_type": "code",
   "outputs": [
    {
     "data": {
      "text/plain": "'debug'"
     },
     "execution_count": 7,
     "metadata": {},
     "output_type": "execute_result"
    }
   ],
   "source": [
    "logger.DEBUG"
   ],
   "metadata": {
    "collapsed": false,
    "ExecuteTime": {
     "end_time": "2024-02-09T20:36:20.214939609Z",
     "start_time": "2024-02-09T20:36:20.212886785Z"
    }
   },
   "id": "33dde292b9f3e1e5",
   "execution_count": 7
  },
  {
   "cell_type": "code",
   "outputs": [
    {
     "data": {
      "text/plain": "'info'"
     },
     "execution_count": 8,
     "metadata": {},
     "output_type": "execute_result"
    }
   ],
   "source": [
    "logger.INFO"
   ],
   "metadata": {
    "collapsed": false,
    "ExecuteTime": {
     "end_time": "2024-02-09T20:36:21.088305182Z",
     "start_time": "2024-02-09T20:36:21.086623957Z"
    }
   },
   "id": "79cb347b91ec7f1c",
   "execution_count": 8
  },
  {
   "cell_type": "code",
   "outputs": [
    {
     "data": {
      "text/plain": "'warning'"
     },
     "execution_count": 9,
     "metadata": {},
     "output_type": "execute_result"
    }
   ],
   "source": [
    "logger.WARNING"
   ],
   "metadata": {
    "collapsed": false,
    "ExecuteTime": {
     "end_time": "2024-02-09T20:36:21.552250650Z",
     "start_time": "2024-02-09T20:36:21.549445353Z"
    }
   },
   "id": "c95240e9b8f7da29",
   "execution_count": 9
  },
  {
   "cell_type": "code",
   "outputs": [
    {
     "data": {
      "text/plain": "'error'"
     },
     "execution_count": 10,
     "metadata": {},
     "output_type": "execute_result"
    }
   ],
   "source": [
    "logger.ERROR"
   ],
   "metadata": {
    "collapsed": false,
    "ExecuteTime": {
     "end_time": "2024-02-09T20:36:27.368446526Z",
     "start_time": "2024-02-09T20:36:27.363007998Z"
    }
   },
   "id": "63cc4947e46a2ef",
   "execution_count": 10
  },
  {
   "cell_type": "code",
   "outputs": [],
   "source": [
    "file_logger = logger.FILE_LOGGER"
   ],
   "metadata": {
    "collapsed": false,
    "ExecuteTime": {
     "end_time": "2024-02-09T20:37:03.737271216Z",
     "start_time": "2024-02-09T20:37:03.735118775Z"
    }
   },
   "id": "6000b56390ab755a",
   "execution_count": 12
  },
  {
   "cell_type": "code",
   "outputs": [
    {
     "name": "stdout",
     "output_type": "stream",
     "text": [
      "Logging to a file:  Logging message...\n"
     ]
    }
   ],
   "source": [
    "file_logger.log('Logging message...')"
   ],
   "metadata": {
    "collapsed": false,
    "ExecuteTime": {
     "end_time": "2024-02-09T20:37:16.804217901Z",
     "start_time": "2024-02-09T20:37:16.759897398Z"
    }
   },
   "id": "814e536037682a69",
   "execution_count": 13
  },
  {
   "cell_type": "code",
   "outputs": [],
   "source": [
    "console_logger = logger.CONSOLE_LOGGER"
   ],
   "metadata": {
    "collapsed": false,
    "ExecuteTime": {
     "end_time": "2024-02-09T20:37:33.498256433Z",
     "start_time": "2024-02-09T20:37:33.494729739Z"
    }
   },
   "id": "3cf532fe7b9fb70d",
   "execution_count": 14
  },
  {
   "cell_type": "code",
   "outputs": [
    {
     "name": "stdout",
     "output_type": "stream",
     "text": [
      "Logging on the console:  another message\n"
     ]
    }
   ],
   "source": [
    "console_logger.log('another message')"
   ],
   "metadata": {
    "collapsed": false,
    "ExecuteTime": {
     "end_time": "2024-02-09T20:38:02.946427647Z",
     "start_time": "2024-02-09T20:38:02.896137259Z"
    }
   },
   "id": "cecc3e207d4c44c9",
   "execution_count": 15
  },
  {
   "cell_type": "code",
   "outputs": [],
   "source": [],
   "metadata": {
    "collapsed": false
   },
   "id": "a881834f6bace980"
  }
 ],
 "metadata": {
  "kernelspec": {
   "display_name": "Python 3",
   "language": "python",
   "name": "python3"
  },
  "language_info": {
   "codemirror_mode": {
    "name": "ipython",
    "version": 2
   },
   "file_extension": ".py",
   "mimetype": "text/x-python",
   "name": "python",
   "nbconvert_exporter": "python",
   "pygments_lexer": "ipython2",
   "version": "2.7.6"
  }
 },
 "nbformat": 4,
 "nbformat_minor": 5
}
