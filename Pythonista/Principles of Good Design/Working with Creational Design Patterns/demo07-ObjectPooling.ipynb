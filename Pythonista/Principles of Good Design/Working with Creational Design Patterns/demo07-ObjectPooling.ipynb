{
 "cells": [
  {
   "cell_type": "code",
   "execution_count": 1,
   "metadata": {},
   "outputs": [],
   "source": [
    "class Connection:\n",
    "    \n",
    "    def __init__(self):\n",
    "        self.__is_used = False\n",
    "        \n",
    "        # Imagine a very heavy-duty initialization process here\n",
    "        # to set up the database connections and connect\n",
    "        self.connect_to_database()\n",
    "\n",
    "    def acquire(self):\n",
    "        self.__is_used = True\n",
    "\n",
    "    def release(self):\n",
    "        self.__is_used = False\n",
    "        \n",
    "    def is_used(self):\n",
    "        return self.__is_used\n",
    "\n",
    "    def connect_to_database(self):\n",
    "        pass"
   ]
  },
  {
   "cell_type": "code",
   "execution_count": 13,
   "metadata": {},
   "outputs": [],
   "source": [
    "class ConnectionPool:\n",
    "    \n",
    "    def __init__(self, num_connections):\n",
    "        \n",
    "        self.__num_connections = num_connections\n",
    "        \n",
    "        self.__connections = []\n",
    "        for i in range(num_connections):\n",
    "            self.__connections.append(Connection())\n",
    "        \n",
    "    def acquire(self):\n",
    "        for i in range(self.__num_connections):\n",
    "            connection = self.__connections[i]\n",
    "\n",
    "            if not connection.is_used():\n",
    "                connection.acquire()\n",
    "                return connection\n",
    "        \n",
    "        return None\n",
    "    \n",
    "    def release(self, connection):\n",
    "        if connection.is_used():\n",
    "            connection.release()"
   ]
  },
  {
   "cell_type": "code",
   "execution_count": 17,
   "metadata": {},
   "outputs": [],
   "source": [
    "pool = ConnectionPool(3)"
   ]
  },
  {
   "cell_type": "code",
   "execution_count": 18,
   "metadata": {},
   "outputs": [
    {
     "data": {
      "text/plain": [
       "<__main__.Connection at 0x10dab8940>"
      ]
     },
     "execution_count": 18,
     "metadata": {},
     "output_type": "execute_result"
    }
   ],
   "source": [
    "conn_1 = pool.acquire()\n",
    "\n",
    "conn_1"
   ]
  },
  {
   "cell_type": "code",
   "execution_count": 19,
   "metadata": {},
   "outputs": [
    {
     "data": {
      "text/plain": [
       "<__main__.Connection at 0x10dab8198>"
      ]
     },
     "execution_count": 19,
     "metadata": {},
     "output_type": "execute_result"
    }
   ],
   "source": [
    "conn_2 = pool.acquire()\n",
    "\n",
    "conn_2"
   ]
  },
  {
   "cell_type": "code",
   "execution_count": 20,
   "metadata": {},
   "outputs": [
    {
     "data": {
      "text/plain": [
       "<__main__.Connection at 0x10dab8320>"
      ]
     },
     "execution_count": 20,
     "metadata": {},
     "output_type": "execute_result"
    }
   ],
   "source": [
    "conn_3 = pool.acquire()\n",
    "\n",
    "conn_3"
   ]
  },
  {
   "cell_type": "code",
   "execution_count": 22,
   "metadata": {},
   "outputs": [
    {
     "data": {
      "text/plain": [
       "True"
      ]
     },
     "execution_count": 22,
     "metadata": {},
     "output_type": "execute_result"
    }
   ],
   "source": [
    "conn_4 = pool.acquire()\n",
    "\n",
    "conn_4 is None"
   ]
  },
  {
   "cell_type": "code",
   "execution_count": 23,
   "metadata": {},
   "outputs": [],
   "source": [
    "pool.release(conn_3)"
   ]
  },
  {
   "cell_type": "code",
   "execution_count": 24,
   "metadata": {},
   "outputs": [
    {
     "data": {
      "text/plain": [
       "<__main__.Connection at 0x10dab8320>"
      ]
     },
     "execution_count": 24,
     "metadata": {},
     "output_type": "execute_result"
    }
   ],
   "source": [
    "conn_4 = pool.acquire()\n",
    "\n",
    "conn_4"
   ]
  },
  {
   "cell_type": "code",
   "execution_count": 25,
   "metadata": {},
   "outputs": [],
   "source": [
    "pool.release(conn_2)"
   ]
  },
  {
   "cell_type": "code",
   "execution_count": 26,
   "metadata": {},
   "outputs": [
    {
     "data": {
      "text/plain": [
       "<__main__.Connection at 0x10dab8198>"
      ]
     },
     "execution_count": 26,
     "metadata": {},
     "output_type": "execute_result"
    }
   ],
   "source": [
    "conn_5 = pool.acquire()\n",
    "\n",
    "conn_5"
   ]
  },
  {
   "cell_type": "code",
   "execution_count": 10,
   "metadata": {},
   "outputs": [],
   "source": [
    "class ConnectionPool:\n",
    "\n",
    "    __instance = None\n",
    "    \n",
    "    def __new__(cls, num_connections):\n",
    "        if cls.__instance is None:\n",
    "            print('No instance exists, creating a new one')\n",
    "\n",
    "            cls.__instance = super(ConnectionPool, cls).__new__(cls)\n",
    "            \n",
    "            cls.__instance.__num_connections = num_connections\n",
    "            cls.__instance.__connections = []\n",
    "\n",
    "            for i in range(num_connections):\n",
    "                cls.__instance.__connections.append(Connection())\n",
    "\n",
    "        else:\n",
    "            print('A previously created instance exists, returning that same one')\n",
    "        \n",
    "        \n",
    "        return cls.__instance\n",
    "    \n",
    "\n",
    "    def acquire(self):\n",
    "        for i in range(self.__num_connections):\n",
    "            connection = self.__connections[i]\n",
    "\n",
    "            if not connection.is_used():\n",
    "                connection.acquire()\n",
    "                return connection\n",
    "        \n",
    "        return None\n",
    "    \n",
    "    def release(self, connection):\n",
    "        if connection.is_used():\n",
    "            connection.release()"
   ]
  },
  {
   "cell_type": "code",
   "execution_count": 3,
   "metadata": {},
   "outputs": [
    {
     "name": "stdout",
     "output_type": "stream",
     "text": [
      "No instance exists, creating a new one\n"
     ]
    }
   ],
   "source": [
    "pool = ConnectionPool(2)"
   ]
  },
  {
   "cell_type": "code",
   "execution_count": 4,
   "metadata": {},
   "outputs": [
    {
     "name": "stdout",
     "output_type": "stream",
     "text": [
      "A previously created instance exists, returning that same one\n"
     ]
    }
   ],
   "source": [
    "pool = ConnectionPool(2)"
   ]
  },
  {
   "cell_type": "code",
   "execution_count": 5,
   "metadata": {},
   "outputs": [
    {
     "data": {
      "text/plain": [
       "<__main__.Connection at 0x1074a8748>"
      ]
     },
     "execution_count": 5,
     "metadata": {},
     "output_type": "execute_result"
    }
   ],
   "source": [
    "conn_1 = pool.acquire()\n",
    "\n",
    "conn_1"
   ]
  },
  {
   "cell_type": "code",
   "execution_count": 6,
   "metadata": {},
   "outputs": [
    {
     "data": {
      "text/plain": [
       "<__main__.Connection at 0x1074a8780>"
      ]
     },
     "execution_count": 6,
     "metadata": {},
     "output_type": "execute_result"
    }
   ],
   "source": [
    "conn_2 = pool.acquire()\n",
    "\n",
    "conn_2"
   ]
  },
  {
   "cell_type": "code",
   "execution_count": 7,
   "metadata": {},
   "outputs": [
    {
     "data": {
      "text/plain": [
       "True"
      ]
     },
     "execution_count": 7,
     "metadata": {},
     "output_type": "execute_result"
    }
   ],
   "source": [
    "conn_3 = pool.acquire()\n",
    "\n",
    "conn_3 is None"
   ]
  },
  {
   "cell_type": "code",
   "execution_count": 8,
   "metadata": {},
   "outputs": [],
   "source": [
    "pool.release(conn_2)"
   ]
  },
  {
   "cell_type": "code",
   "execution_count": 9,
   "metadata": {},
   "outputs": [
    {
     "data": {
      "text/plain": [
       "<__main__.Connection at 0x1074a8780>"
      ]
     },
     "execution_count": 9,
     "metadata": {},
     "output_type": "execute_result"
    }
   ],
   "source": [
    "conn_3 = pool.acquire()\n",
    "\n",
    "conn_3"
   ]
  },
  {
   "cell_type": "code",
   "execution_count": null,
   "metadata": {},
   "outputs": [],
   "source": []
  }
 ],
 "metadata": {
  "kernelspec": {
   "display_name": "Python 3",
   "language": "python",
   "name": "python3"
  },
  "language_info": {
   "codemirror_mode": {
    "name": "ipython",
    "version": 3
   },
   "file_extension": ".py",
   "mimetype": "text/x-python",
   "name": "python",
   "nbconvert_exporter": "python",
   "pygments_lexer": "ipython3",
   "version": "3.6.8"
  }
 },
 "nbformat": 4,
 "nbformat_minor": 2
}
