{
 "cells": [
  {
   "cell_type": "markdown",
   "metadata": {},
   "source": [
    "In this design pattern, a builder class builds the final object in step-by-step procedure. This builder is independent of other objects.\n",
    "\n",
    "The Builder Pattern tries to solve\n",
    "- How can a class create different representations of a complex object?\n",
    "- How can a class that includes creating a complex object be simplified?\n"
   ]
  },
  {
   "cell_type": "markdown",
   "metadata": {},
   "source": [
    "There are lots of parameters in this class,this can be hard to maintain and hard to understand\n",
    "main problem :long parameter list"
   ]
  },
  {
   "cell_type": "code",
   "execution_count": 1,
   "metadata": {},
   "outputs": [],
   "source": [
    "class Mobile() :\n",
    "    \n",
    "    def __init__(self,\n",
    "                 name, \n",
    "                 weight, \n",
    "                 screen_size, \n",
    "                 ram, \n",
    "                 os, \n",
    "                 camera_mp, \n",
    "                 battery):\n",
    "\n",
    "        self.name = name\n",
    "        self.weight = weight\n",
    "        self.screen_size = screen_size\n",
    "        self.ram = ram\n",
    "        self.os = os\n",
    "        self.camera_mp = camera_mp\n",
    "        self.battery = battery\n",
    "        \n",
    "    def show(self):\n",
    "        print(\"name:\", self.name)\n",
    "        print(\"weight:\", self.weight)\n",
    "        print(\"screen_size:\", self.screen_size)\n",
    "        print(\"ram:\", self.ram)\n",
    "        print(\"os:\", self.os)\n",
    "        print(\"camera_mp:\", self.camera_mp)\n",
    "        print(\"battery:\", self.battery)"
   ]
  },
  {
   "cell_type": "code",
   "execution_count": 2,
   "metadata": {},
   "outputs": [],
   "source": [
    "samsung_s10 = Mobile(name=\"Samsung S10\",\n",
    "                     weight = \"157g\",\n",
    "                     screen_size = \"6.1 inch\",\n",
    "                     ram = \"8GB\",\n",
    "                     os = \"android 9.0\",\n",
    "                     camera_mp = \"12 megapixel\",\n",
    "                     battery = \"3400 mAh\")"
   ]
  },
  {
   "cell_type": "code",
   "execution_count": 3,
   "metadata": {},
   "outputs": [
    {
     "name": "stdout",
     "output_type": "stream",
     "text": [
      "name: Samsung S10\n",
      "weight: 157g\n",
      "screen_size: 6.1 inch\n",
      "ram: 8GB\n",
      "os: android 9.0\n",
      "camera_mp: 12 megapixel\n",
      "battery: 3400 mAh\n"
     ]
    }
   ],
   "source": [
    "samsung_s10.show()"
   ]
  },
  {
   "cell_type": "markdown",
   "metadata": {},
   "source": [
    "to get rid of the long list of parameters we can have the features in the main program but directly \n",
    "setting attributes in the client program is wrong, it goes against encapsulate what varies principle\n",
    "\n",
    "this is prone to errors and maintenance unfriendly"
   ]
  },
  {
   "cell_type": "code",
   "execution_count": 4,
   "metadata": {},
   "outputs": [],
   "source": [
    "class Mobile():\n",
    "\n",
    "    def __init__(self):\n",
    "\n",
    "        self.name = None\n",
    "        self.weight = None\n",
    "        self.screen_size = None\n",
    "        self.ram = None\n",
    "        self.os = None\n",
    "        self.camera_mp = None\n",
    "        self.battery = None\n",
    "\n",
    "    def show(self):\n",
    "        print(\"name:\", self.name)\n",
    "        print(\"weight:\", self.weight)\n",
    "        print(\"screen_size:\", self.screen_size)\n",
    "        print(\"ram:\", self.ram)\n",
    "        print(\"os:\", self.os)\n",
    "        print(\"camera_mp:\", self.camera_mp)\n",
    "        print(\"battery:\", self.battery)\n",
    "     "
   ]
  },
  {
   "cell_type": "code",
   "execution_count": 5,
   "metadata": {},
   "outputs": [],
   "source": [
    "s10 = Mobile()"
   ]
  },
  {
   "cell_type": "code",
   "execution_count": 6,
   "metadata": {},
   "outputs": [],
   "source": [
    "s10.name = \"Samsung S10\"\n",
    "s10.screen_size = \"6.1 inch\",\n",
    "s10.os = \"android 9.0\",\n",
    "s10.camera_mp = \"12 megapixel\",\n",
    "s10.battery = \"3400 mAh\""
   ]
  },
  {
   "cell_type": "code",
   "execution_count": 7,
   "metadata": {},
   "outputs": [
    {
     "name": "stdout",
     "output_type": "stream",
     "text": [
      "name: Samsung S10\n",
      "weight: None\n",
      "screen_size: ('6.1 inch',)\n",
      "ram: None\n",
      "os: ('android 9.0',)\n",
      "camera_mp: ('12 megapixel',)\n",
      "battery: 3400 mAh\n"
     ]
    }
   ],
   "source": [
    "s10.show()"
   ]
  },
  {
   "cell_type": "markdown",
   "metadata": {},
   "source": [
    "- now the features have been encapsulated in a seperate class called MyMobile\n",
    "the build method instantiates a new mobile object and encapsulates setting of sttributes"
   ]
  },
  {
   "cell_type": "code",
   "execution_count": 8,
   "metadata": {},
   "outputs": [],
   "source": [
    "class MyMobileBuilder():\n",
    "    \n",
    "    def __init__(self):\n",
    "        self.__mobile = Mobile()\n",
    "    \n",
    "    def get_mobile(self):\n",
    "        return self.__mobile\n",
    "\n",
    "    def build_name(self, name):\n",
    "        self.__mobile.name = name\n",
    "\n",
    "    def build_memory(self, ram):\n",
    "        self.__mobile.ram = ram\n",
    "\n",
    "    def build_camera(self, camera_mp):\n",
    "        self.__mobile.camera_mp = camera_mp\n",
    "\n",
    "    def build_otherfeatures(self, weight, screen_size, os, battery):\n",
    "        self.__mobile.weight = weight\n",
    "        self.__mobile.screen_size = screen_size\n",
    "        self.__mobile.os = os\n",
    "        self.__mobile.battery = battery"
   ]
  },
  {
   "cell_type": "markdown",
   "metadata": {},
   "source": [
    "build the mobile, get the finished product and show the features\n",
    "\n",
    "we solved - \n",
    "\n",
    "- long parameter list problem\n",
    "- encapsulating attributes"
   ]
  },
  {
   "cell_type": "code",
   "execution_count": 9,
   "metadata": {},
   "outputs": [],
   "source": [
    "builder = MyMobileBuilder()"
   ]
  },
  {
   "cell_type": "code",
   "execution_count": 10,
   "metadata": {},
   "outputs": [],
   "source": [
    "builder.build_name('Samsung S10')\n",
    "builder.build_memory('8GB')\n",
    "builder.build_camera('16 megapixels')"
   ]
  },
  {
   "cell_type": "code",
   "execution_count": 11,
   "metadata": {},
   "outputs": [],
   "source": [
    "mobile = builder.get_mobile()"
   ]
  },
  {
   "cell_type": "code",
   "execution_count": 12,
   "metadata": {},
   "outputs": [
    {
     "name": "stdout",
     "output_type": "stream",
     "text": [
      "name: Samsung S10\n",
      "weight: None\n",
      "screen_size: None\n",
      "ram: 8GB\n",
      "os: None\n",
      "camera_mp: 16 megapixels\n",
      "battery: None\n"
     ]
    }
   ],
   "source": [
    "mobile.show()"
   ]
  },
  {
   "cell_type": "code",
   "execution_count": 13,
   "metadata": {},
   "outputs": [],
   "source": [
    "class Mobile() :\n",
    "    def __init__(self,\n",
    "                 name, \n",
    "                 weight='157gm', \n",
    "                 screen_size='5inches', \n",
    "                 ram='8GB', \n",
    "                 os='Android', \n",
    "                 camera_mp='16 megapixels', \n",
    "                 battery='3400 mAh'):\n",
    "\n",
    "        self.name = name\n",
    "        self.weight = weight\n",
    "        self.screen_size = screen_size\n",
    "        self.ram = ram\n",
    "        self.os = os\n",
    "        self.camera_mp = camera_mp\n",
    "        self.battery = battery\n",
    "        \n",
    "    def show(self):\n",
    "        print(\"name:\", self.name)\n",
    "        print(\"weight:\", self.weight)\n",
    "        print(\"screen_size:\", self.screen_size)\n",
    "        print(\"ram:\", self.ram)\n",
    "        print(\"os:\", self.os)\n",
    "        print(\"camera_mp:\", self.camera_mp)\n",
    "        print(\"battery:\", self.battery)"
   ]
  },
  {
   "cell_type": "code",
   "execution_count": 14,
   "metadata": {},
   "outputs": [
    {
     "name": "stdout",
     "output_type": "stream",
     "text": [
      "name: Samsung S10\n",
      "weight: 157gm\n",
      "screen_size: 5inches\n",
      "ram: 8GB\n",
      "os: Android\n",
      "camera_mp: 16 megapixels\n",
      "battery: 3400 mAh\n"
     ]
    }
   ],
   "source": [
    "samsung_s10 = Mobile('Samsung S10')\n",
    "\n",
    "samsung_s10.show()"
   ]
  },
  {
   "cell_type": "code",
   "execution_count": 15,
   "metadata": {},
   "outputs": [
    {
     "name": "stdout",
     "output_type": "stream",
     "text": [
      "name: Samsung S8\n",
      "weight: 157gm\n",
      "screen_size: 4.4inches\n",
      "ram: 4GB\n",
      "os: Android\n",
      "camera_mp: 16 megapixels\n",
      "battery: 3400 mAh\n"
     ]
    }
   ],
   "source": [
    "samsung_s8 = Mobile('Samsung S8', screen_size='4.4inches', ram='4GB')\n",
    "\n",
    "samsung_s8.show()"
   ]
  },
  {
   "cell_type": "code",
   "execution_count": null,
   "metadata": {},
   "outputs": [],
   "source": []
  },
  {
   "cell_type": "code",
   "execution_count": null,
   "metadata": {},
   "outputs": [],
   "source": []
  },
  {
   "cell_type": "code",
   "execution_count": null,
   "metadata": {},
   "outputs": [],
   "source": []
  },
  {
   "cell_type": "code",
   "execution_count": null,
   "metadata": {},
   "outputs": [],
   "source": []
  },
  {
   "cell_type": "code",
   "execution_count": null,
   "metadata": {},
   "outputs": [],
   "source": []
  },
  {
   "cell_type": "code",
   "execution_count": null,
   "metadata": {},
   "outputs": [],
   "source": []
  },
  {
   "cell_type": "code",
   "execution_count": null,
   "metadata": {},
   "outputs": [],
   "source": []
  },
  {
   "cell_type": "code",
   "execution_count": null,
   "metadata": {},
   "outputs": [],
   "source": []
  },
  {
   "cell_type": "code",
   "execution_count": null,
   "metadata": {},
   "outputs": [],
   "source": []
  },
  {
   "cell_type": "code",
   "execution_count": null,
   "metadata": {},
   "outputs": [],
   "source": []
  },
  {
   "cell_type": "code",
   "execution_count": null,
   "metadata": {},
   "outputs": [],
   "source": []
  },
  {
   "cell_type": "code",
   "execution_count": null,
   "metadata": {},
   "outputs": [],
   "source": []
  },
  {
   "cell_type": "code",
   "execution_count": null,
   "metadata": {},
   "outputs": [],
   "source": []
  },
  {
   "cell_type": "code",
   "execution_count": null,
   "metadata": {},
   "outputs": [],
   "source": []
  }
 ],
 "metadata": {
  "kernelspec": {
   "display_name": "Python 3",
   "language": "python",
   "name": "python3"
  },
  "language_info": {
   "codemirror_mode": {
    "name": "ipython",
    "version": 3
   },
   "file_extension": ".py",
   "mimetype": "text/x-python",
   "name": "python",
   "nbconvert_exporter": "python",
   "pygments_lexer": "ipython3",
   "version": "3.6.8"
  }
 },
 "nbformat": 4,
 "nbformat_minor": 2
}
