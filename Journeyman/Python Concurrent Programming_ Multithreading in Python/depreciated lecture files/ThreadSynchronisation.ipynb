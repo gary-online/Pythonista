{
 "cells": [
  {
   "cell_type": "markdown",
   "metadata": {},
   "source": [
    "### `Thread Synchronisation` ensures that two or more concurrent threads running simultaneously do not execute the segment (critical section ) of the code where the shrared memory is accessed.\n",
    "### There are `synchronization primitives` for synchronising threads in `threading` module\n",
    "* `Locks`\n",
    "\n",
    "* `Rlocks`\n",
    "\n",
    "* `Semaphores`\n",
    "\n",
    "* `Events`\n",
    "\n",
    "* `Conditions`\n",
    "\n",
    "https://www.laurentluce.com/posts/python-threads-synchronization-locks-rlocks-semaphores-conditions-events-and-queues/"
   ]
  },
  {
   "cell_type": "code",
   "execution_count": 4,
   "metadata": {
    "ExecuteTime": {
     "end_time": "2024-01-12T22:07:45.515374609Z",
     "start_time": "2024-01-12T22:07:45.462886063Z"
    }
   },
   "outputs": [],
   "source": [
    "import threading\n",
    "import time"
   ]
  },
  {
   "cell_type": "code",
   "execution_count": 56,
   "metadata": {
    "collapsed": true
   },
   "outputs": [],
   "source": [
    "amount = 0"
   ]
  },
  {
   "cell_type": "code",
   "execution_count": 57,
   "metadata": {
    "collapsed": true
   },
   "outputs": [],
   "source": [
    "def deposit(dep_amount):\n",
    "    \n",
    "    global amount\n",
    "    \n",
    "    for i in range(dep_amount):\n",
    "        amount += 1"
   ]
  },
  {
   "cell_type": "code",
   "execution_count": 58,
   "metadata": {
    "collapsed": true
   },
   "outputs": [],
   "source": [
    "def two_deposit_threads(dep_amount): \n",
    "\n",
    "    t1 = threading.Thread(target=deposit, \n",
    "                          args=(dep_amount, )) \n",
    "    t2 = threading.Thread(target=deposit, \n",
    "                          args=(dep_amount, )) \n",
    "  \n",
    "    t1.start() \n",
    "    t2.start() \n",
    "  \n",
    "    t1.join() \n",
    "    t2.join()  "
   ]
  },
  {
   "cell_type": "code",
   "execution_count": 59,
   "metadata": {},
   "outputs": [
    {
     "name": "stdout",
     "output_type": "stream",
     "text": [
      "Balance amount = 20\n"
     ]
    }
   ],
   "source": [
    "two_deposit_threads(10)\n",
    "\n",
    "print(\"Balance amount = {0}\".format(amount))"
   ]
  },
  {
   "cell_type": "markdown",
   "metadata": {},
   "source": [
    "<B> `output`: The value of the amount is incremented two times of the given range as we have created two threads and each thread is iterating over the mentioned range separately that is 10, so the output is 20 <B>"
   ]
  },
  {
   "cell_type": "markdown",
   "metadata": {},
   "source": [
    "### Incrementing the value of amount 1000 times inside the loop"
   ]
  },
  {
   "cell_type": "code",
   "execution_count": 62,
   "metadata": {},
   "outputs": [
    {
     "name": "stdout",
     "output_type": "stream",
     "text": [
      "Balance amount = 2000\n"
     ]
    }
   ],
   "source": [
    "amount = 0\n",
    "two_deposit_threads(1000)\n",
    "\n",
    "print(\"Balance amount = {0}\".format(amount)) "
   ]
  },
  {
   "cell_type": "markdown",
   "metadata": {},
   "source": [
    "### Incrementing the value of amount 100000 times inside the loop"
   ]
  },
  {
   "cell_type": "code",
   "execution_count": 24,
   "metadata": {},
   "outputs": [
    {
     "name": "stdout",
     "output_type": "stream",
     "text": [
      "Balance amount = 133588\n"
     ]
    }
   ],
   "source": [
    "amount = 0\n",
    "\n",
    "two_deposit_threads(100000)\n",
    "\n",
    "print(\"Balance amount = {0}\".format(amount))"
   ]
  },
  {
   "cell_type": "markdown",
   "metadata": {},
   "source": [
    "<B>`output`: After running it for the first time, it may give the correct output, if we run it again and again than we can notice that the output values are coming different each time, it is because we have created two threads and both of them are accessing the same data, initially when the range is less the iterations were also less but as the range increased to 1000000 then the for each thread number of iterations increased and which led to synchronisation problem, this kind of synchronisation problem can be called `race condition`.<B>"
   ]
  },
  {
   "cell_type": "markdown",
   "metadata": {},
   "source": [
    "`Note`: When two or more concurrently running threads can access the shared data resource at the same time and they try to change it, as a result, the values of variables may be unpredictable and vary depending on the timings of context switches of the processes. This condition is called `race condition`"
   ]
  },
  {
   "cell_type": "markdown",
   "metadata": {},
   "source": [
    "## 1) `Lock` \n",
    "* Race condition can be solved using Lock\n",
    "* Using <B> Lock </B> class objectTo block the threads to access the shared data at the same time. \n",
    "* It has two methods <B> acquire </B>  and <B> release </B>. `acquire` method locks the shared data for another thread to access it, only after unlocking by the `release` method, shared data can be accessed\n",
    "\n",
    "https://docs.python.org/3/library/threading.html#lock-objects"
   ]
  },
  {
   "cell_type": "code",
   "execution_count": 25,
   "metadata": {
    "collapsed": true
   },
   "outputs": [],
   "source": [
    "def deposit(dep_amount, dep_lock):\n",
    "    \n",
    "    global amount\n",
    "    \n",
    "    for i in range(dep_amount):\n",
    "        \n",
    "        dep_lock.acquire()\n",
    "        \n",
    "        amount += 1\n",
    "        \n",
    "        dep_lock.release()"
   ]
  },
  {
   "cell_type": "code",
   "execution_count": 26,
   "metadata": {
    "collapsed": true
   },
   "outputs": [],
   "source": [
    "def two_deposit_threads(dep_amount): \n",
    "    \n",
    "    lock = threading.Lock()\n",
    "\n",
    "    t1 = threading.Thread(target=deposit, \n",
    "                          args=(dep_amount, lock)) \n",
    "    t2 = threading.Thread(target=deposit, \n",
    "                          args=(dep_amount, lock)) \n",
    "  \n",
    "    t1.start() \n",
    "    t2.start() \n",
    "  \n",
    "    t1.join() \n",
    "    t2.join() "
   ]
  },
  {
   "cell_type": "code",
   "execution_count": 30,
   "metadata": {},
   "outputs": [
    {
     "name": "stdout",
     "output_type": "stream",
     "text": [
      "Balance amount = 200000\n"
     ]
    }
   ],
   "source": [
    "amount = 0\n",
    "\n",
    "two_deposit_threads(100000)\n",
    "\n",
    "print(\"Balance amount = {0}\".format(amount))"
   ]
  },
  {
   "cell_type": "markdown",
   "metadata": {},
   "source": [
    "#### `output`: The iteration range is now same as before but even after running it for multiple times we get the expected result as output"
   ]
  },
  {
   "cell_type": "markdown",
   "metadata": {},
   "source": [
    "### If `release()` is called in the unlocked state, a `RunTimeError` is raised."
   ]
  },
  {
   "cell_type": "code",
   "execution_count": 31,
   "metadata": {
    "collapsed": true
   },
   "outputs": [],
   "source": [
    "def deposit(dep_amount, dep_lock):\n",
    "    \n",
    "    global amount\n",
    "    \n",
    "    for i in range(dep_amount):\n",
    "        \n",
    "        amount += 1\n",
    "        \n",
    "        dep_lock.release()"
   ]
  },
  {
   "cell_type": "code",
   "execution_count": 32,
   "metadata": {},
   "outputs": [
    {
     "name": "stdout",
     "output_type": "stream",
     "text": [
      "Balance amount = 2\n"
     ]
    },
    {
     "name": "stderr",
     "output_type": "stream",
     "text": [
      "Exception in thread Thread-45:\n",
      "Traceback (most recent call last):\n",
      "  File \"/Users/kishan/anaconda3/lib/python3.6/threading.py\", line 916, in _bootstrap_inner\n",
      "    self.run()\n",
      "  File \"/Users/kishan/anaconda3/lib/python3.6/threading.py\", line 864, in run\n",
      "    self._target(*self._args, **self._kwargs)\n",
      "  File \"<ipython-input-31-7a52e8aa2413>\", line 9, in deposit\n",
      "    dep_lock.release()\n",
      "RuntimeError: release unlocked lock\n",
      "Exception in thread Thread-44:\n",
      "Traceback (most recent call last):\n",
      "  File \"/Users/kishan/anaconda3/lib/python3.6/threading.py\", line 916, in _bootstrap_inner\n",
      "    self.run()\n",
      "  File \"/Users/kishan/anaconda3/lib/python3.6/threading.py\", line 864, in run\n",
      "    self._target(*self._args, **self._kwargs)\n",
      "  File \"<ipython-input-31-7a52e8aa2413>\", line 9, in deposit\n",
      "    dep_lock.release()\n",
      "RuntimeError: release unlocked lock\n",
      "\n",
      "\n"
     ]
    }
   ],
   "source": [
    "amount = 0\n",
    "\n",
    "two_deposit_threads(100000)\n",
    "\n",
    "print(\"Balance amount = {0}\".format(amount))"
   ]
  },
  {
   "cell_type": "markdown",
   "metadata": {},
   "source": [
    "### `NOTE`: Deadlock Condition -  It is the point where one or more threads are competing for the resouces and some of the threads go to \"waiting/blocked\" mode infinitely"
   ]
  },
  {
   "cell_type": "markdown",
   "metadata": {},
   "source": [
    "## 2) `RLock (re-entrant lock)` \n",
    "* The standard Lock does not know which thread is currently holding the lock. If the lock is held, any thread that attempts to acquire it will block, even if the same thread itself is already holding the lock. In such cases, RLock is used\n",
    "* The main difference between Lock and RLock is that when you try to **acquire** the lock which is **already acquired by the same thread** it doesn't block the thread unlike the Lock(). \n",
    "\n",
    "https://docs.python.org/3/library/threading.html#threading.RLock"
   ]
  },
  {
   "cell_type": "markdown",
   "metadata": {},
   "source": [
    "#### Trying to acquire the lock that is already held\n",
    "The second attempt to acquire the lock will go into an infinite wait. You will need to stop the kernel to break out of the wait"
   ]
  },
  {
   "cell_type": "code",
   "execution_count": 35,
   "metadata": {},
   "outputs": [
    {
     "name": "stdout",
     "output_type": "stream",
     "text": [
      "First try : True\n"
     ]
    },
    {
     "ename": "KeyboardInterrupt",
     "evalue": "",
     "output_type": "error",
     "traceback": [
      "\u001B[0;31m---------------------------------------------------------------------------\u001B[0m",
      "\u001B[0;31mKeyboardInterrupt\u001B[0m                         Traceback (most recent call last)",
      "\u001B[0;32m<ipython-input-35-3fdbca518e0f>\u001B[0m in \u001B[0;36m<module>\u001B[0;34m()\u001B[0m\n\u001B[1;32m      2\u001B[0m \u001B[0;34m\u001B[0m\u001B[0m\n\u001B[1;32m      3\u001B[0m \u001B[0mprint\u001B[0m \u001B[0;34m(\u001B[0m\u001B[0;34m'First try :'\u001B[0m\u001B[0;34m,\u001B[0m \u001B[0mlock\u001B[0m\u001B[0;34m.\u001B[0m\u001B[0macquire\u001B[0m\u001B[0;34m(\u001B[0m\u001B[0;34m)\u001B[0m\u001B[0;34m)\u001B[0m\u001B[0;34m\u001B[0m\u001B[0;34m\u001B[0m\u001B[0m\n\u001B[0;32m----> 4\u001B[0;31m \u001B[0mprint\u001B[0m \u001B[0;34m(\u001B[0m\u001B[0;34m'Second try:'\u001B[0m\u001B[0;34m,\u001B[0m \u001B[0mlock\u001B[0m\u001B[0;34m.\u001B[0m\u001B[0macquire\u001B[0m\u001B[0;34m(\u001B[0m\u001B[0;34m)\u001B[0m\u001B[0;34m)\u001B[0m\u001B[0;34m\u001B[0m\u001B[0;34m\u001B[0m\u001B[0m\n\u001B[0m",
      "\u001B[0;31mKeyboardInterrupt\u001B[0m: "
     ]
    }
   ],
   "source": [
    "lock = threading.Lock()\n",
    "\n",
    "print ('First try :', lock.acquire())\n",
    "print ('Second try:', lock.acquire())"
   ]
  },
  {
   "cell_type": "markdown",
   "metadata": {},
   "source": [
    "#### Set a timeout for the lock acquisition"
   ]
  },
  {
   "cell_type": "code",
   "execution_count": 38,
   "metadata": {},
   "outputs": [
    {
     "name": "stdout",
     "output_type": "stream",
     "text": [
      "First try : True\n",
      "Second try: False\n"
     ]
    }
   ],
   "source": [
    "lock = threading.Lock()\n",
    "\n",
    "print ('First try :', lock.acquire())\n",
    "print ('Second try:', lock.acquire(timeout=3))"
   ]
  },
  {
   "cell_type": "markdown",
   "metadata": {},
   "source": [
    "#### `output`: The Lock object is able to aquire only at the first not from the second time onwards"
   ]
  },
  {
   "cell_type": "code",
   "execution_count": 9,
   "metadata": {},
   "outputs": [
    {
     "name": "stdout",
     "output_type": "stream",
     "text": [
      "First try : True\n",
      "Second try: True\n",
      "Third try: True\n"
     ]
    }
   ],
   "source": [
    "lock = threading.RLock()\n",
    "\n",
    "print ('First try :', lock.acquire())\n",
    "print ('Second try:', lock.acquire())\n",
    "print ('Third try:', lock.acquire())"
   ]
  },
  {
   "cell_type": "markdown",
   "metadata": {},
   "source": [
    "## Deadlock simulation using locks\n",
    "\n",
    "#### Conditions for a deadlock:\n",
    "* Mutual Exclusion: One or more than one resource are non-sharable (Only one process can use at a time)\n",
    "* Hold and Wait: A process is holding at least one resource and waiting for resources.\n",
    "* No Preemption: A resource cannot be taken from a process unless the process releases the resource.\n",
    "* Circular Wait: A set of processes are waiting for each other in circular form."
   ]
  },
  {
   "cell_type": "code",
   "execution_count": 13,
   "metadata": {
    "collapsed": true
   },
   "outputs": [],
   "source": [
    "data_one = 3\n",
    "data_two = 5"
   ]
  },
  {
   "cell_type": "markdown",
   "metadata": {},
   "source": [
    "#### This process can result in a deadlock\n",
    "Conditions for a deadlock\n",
    "* Mutual Exclusion: One or more than one resource are non-sharable (Only one process can use at a time)\n",
    "* Hold and Wait: A process is holding at least one resource and waiting for resources.\n",
    "* No Preemption: A resource cannot be taken from a process unless the process releases the resource.\n",
    "* Circular Wait: A set of processes are waiting for each other in circular form."
   ]
  },
  {
   "cell_type": "code",
   "execution_count": 14,
   "metadata": {
    "collapsed": true
   },
   "outputs": [],
   "source": [
    "def my_process(lock_one, lock_two):\n",
    "    \n",
    "    global data_one\n",
    "    global data_two\n",
    "    \n",
    "    lock_one.acquire()\n",
    "    print(threading.current_thread().name, \" incrementing data_one\")\n",
    "    data_one += 1\n",
    "    time.sleep(1)\n",
    "    \n",
    "    lock_two.acquire()\n",
    "    print(threading.current_thread().name, \" incrementing data_two\")\n",
    "    data_two +=1\n",
    "    time.sleep(1)\n",
    "    \n",
    "    lock_one.release()\n",
    "    lock_two.release()\n",
    "    "
   ]
  },
  {
   "cell_type": "code",
   "execution_count": 15,
   "metadata": {
    "collapsed": true
   },
   "outputs": [],
   "source": [
    "lock_one = threading.Lock()\n",
    "lock_two = threading.Lock()"
   ]
  },
  {
   "cell_type": "markdown",
   "metadata": {},
   "source": [
    "#### A deadlock will result here\n",
    "t1 acquires lock_one and t2 acquires lock two first. t1 then waits for t2 to release lock_two and t2 waits for t1 to release lock_one before releasing the locks which they have acquired. \n",
    "\n",
    "You will need to interrupt the kernel to get out of the deadlock."
   ]
  },
  {
   "cell_type": "code",
   "execution_count": 16,
   "metadata": {},
   "outputs": [
    {
     "name": "stdout",
     "output_type": "stream",
     "text": [
      "Thread-10Thread-11   incrementing data_one incrementing data_one\n"
     ]
    },
    {
     "ename": "KeyboardInterrupt",
     "evalue": "",
     "output_type": "error",
     "traceback": [
      "\u001B[0;31m---------------------------------------------------------------------------\u001B[0m",
      "\u001B[0;31mKeyboardInterrupt\u001B[0m                         Traceback (most recent call last)",
      "\u001B[0;32m<ipython-input-16-b0c907d4b203>\u001B[0m in \u001B[0;36m<module>\u001B[0;34m()\u001B[0m\n\u001B[1;32m      7\u001B[0m \u001B[0mt2\u001B[0m\u001B[0;34m.\u001B[0m\u001B[0mstart\u001B[0m\u001B[0;34m(\u001B[0m\u001B[0;34m)\u001B[0m\u001B[0;34m\u001B[0m\u001B[0;34m\u001B[0m\u001B[0m\n\u001B[1;32m      8\u001B[0m \u001B[0;34m\u001B[0m\u001B[0m\n\u001B[0;32m----> 9\u001B[0;31m \u001B[0mt1\u001B[0m\u001B[0;34m.\u001B[0m\u001B[0mjoin\u001B[0m\u001B[0;34m(\u001B[0m\u001B[0;34m)\u001B[0m\u001B[0;34m\u001B[0m\u001B[0;34m\u001B[0m\u001B[0m\n\u001B[0m\u001B[1;32m     10\u001B[0m \u001B[0mt2\u001B[0m\u001B[0;34m.\u001B[0m\u001B[0mjoin\u001B[0m\u001B[0;34m(\u001B[0m\u001B[0;34m)\u001B[0m\u001B[0;34m\u001B[0m\u001B[0;34m\u001B[0m\u001B[0m\n",
      "\u001B[0;32m~/anaconda3/lib/python3.6/threading.py\u001B[0m in \u001B[0;36mjoin\u001B[0;34m(self, timeout)\u001B[0m\n\u001B[1;32m   1054\u001B[0m \u001B[0;34m\u001B[0m\u001B[0m\n\u001B[1;32m   1055\u001B[0m         \u001B[0;32mif\u001B[0m \u001B[0mtimeout\u001B[0m \u001B[0;32mis\u001B[0m \u001B[0;32mNone\u001B[0m\u001B[0;34m:\u001B[0m\u001B[0;34m\u001B[0m\u001B[0;34m\u001B[0m\u001B[0m\n\u001B[0;32m-> 1056\u001B[0;31m             \u001B[0mself\u001B[0m\u001B[0;34m.\u001B[0m\u001B[0m_wait_for_tstate_lock\u001B[0m\u001B[0;34m(\u001B[0m\u001B[0;34m)\u001B[0m\u001B[0;34m\u001B[0m\u001B[0;34m\u001B[0m\u001B[0m\n\u001B[0m\u001B[1;32m   1057\u001B[0m         \u001B[0;32melse\u001B[0m\u001B[0;34m:\u001B[0m\u001B[0;34m\u001B[0m\u001B[0;34m\u001B[0m\u001B[0m\n\u001B[1;32m   1058\u001B[0m             \u001B[0;31m# the behavior of a negative timeout isn't documented, but\u001B[0m\u001B[0;34m\u001B[0m\u001B[0;34m\u001B[0m\u001B[0;34m\u001B[0m\u001B[0m\n",
      "\u001B[0;32m~/anaconda3/lib/python3.6/threading.py\u001B[0m in \u001B[0;36m_wait_for_tstate_lock\u001B[0;34m(self, block, timeout)\u001B[0m\n\u001B[1;32m   1070\u001B[0m         \u001B[0;32mif\u001B[0m \u001B[0mlock\u001B[0m \u001B[0;32mis\u001B[0m \u001B[0;32mNone\u001B[0m\u001B[0;34m:\u001B[0m  \u001B[0;31m# already determined that the C code is done\u001B[0m\u001B[0;34m\u001B[0m\u001B[0;34m\u001B[0m\u001B[0m\n\u001B[1;32m   1071\u001B[0m             \u001B[0;32massert\u001B[0m \u001B[0mself\u001B[0m\u001B[0;34m.\u001B[0m\u001B[0m_is_stopped\u001B[0m\u001B[0;34m\u001B[0m\u001B[0;34m\u001B[0m\u001B[0m\n\u001B[0;32m-> 1072\u001B[0;31m         \u001B[0;32melif\u001B[0m \u001B[0mlock\u001B[0m\u001B[0;34m.\u001B[0m\u001B[0macquire\u001B[0m\u001B[0;34m(\u001B[0m\u001B[0mblock\u001B[0m\u001B[0;34m,\u001B[0m \u001B[0mtimeout\u001B[0m\u001B[0;34m)\u001B[0m\u001B[0;34m:\u001B[0m\u001B[0;34m\u001B[0m\u001B[0;34m\u001B[0m\u001B[0m\n\u001B[0m\u001B[1;32m   1073\u001B[0m             \u001B[0mlock\u001B[0m\u001B[0;34m.\u001B[0m\u001B[0mrelease\u001B[0m\u001B[0;34m(\u001B[0m\u001B[0;34m)\u001B[0m\u001B[0;34m\u001B[0m\u001B[0;34m\u001B[0m\u001B[0m\n\u001B[1;32m   1074\u001B[0m             \u001B[0mself\u001B[0m\u001B[0;34m.\u001B[0m\u001B[0m_stop\u001B[0m\u001B[0;34m(\u001B[0m\u001B[0;34m)\u001B[0m\u001B[0;34m\u001B[0m\u001B[0;34m\u001B[0m\u001B[0m\n",
      "\u001B[0;31mKeyboardInterrupt\u001B[0m: "
     ]
    }
   ],
   "source": [
    "t1 = threading.Thread(target=my_process, \n",
    "                      args=(lock_one, lock_two)) \n",
    "t2 = threading.Thread(target=my_process, \n",
    "                      args=(lock_two, lock_one)) \n",
    "  \n",
    "t1.start() \n",
    "t2.start() \n",
    "\n",
    "t1.join()\n",
    "t2.join()"
   ]
  },
  {
   "cell_type": "code",
   "execution_count": 17,
   "metadata": {
    "collapsed": true
   },
   "outputs": [],
   "source": [
    "data_one = 3\n",
    "data_two = 5\n",
    "\n",
    "lock_one = threading.Lock()\n",
    "lock_two = threading.Lock()"
   ]
  },
  {
   "cell_type": "markdown",
   "metadata": {},
   "source": [
    "#### This should prevent the deadlock\n",
    "t1 will now acquire lock_one and t2 will wait for that to be released first."
   ]
  },
  {
   "cell_type": "code",
   "execution_count": 18,
   "metadata": {},
   "outputs": [
    {
     "name": "stdout",
     "output_type": "stream",
     "text": [
      "Thread-12  incrementing data_one\n",
      "Thread-12  incrementing data_two\n",
      "Thread-13  incrementing data_one\n",
      "Thread-13  incrementing data_two\n"
     ]
    }
   ],
   "source": [
    "t1 = threading.Thread(target=my_process, \n",
    "                      args=(lock_one, lock_two)) \n",
    "t2 = threading.Thread(target=my_process, \n",
    "                      args=(lock_one, lock_two)) \n",
    "  \n",
    "t1.start() \n",
    "t2.start() \n",
    "\n",
    "t1.join()\n",
    "t2.join()"
   ]
  },
  {
   "cell_type": "code",
   "execution_count": 19,
   "metadata": {},
   "outputs": [
    {
     "name": "stdout",
     "output_type": "stream",
     "text": [
      "data_one: 5\n",
      "data_two: 7\n"
     ]
    }
   ],
   "source": [
    "print(\"data_one:\", data_one)\n",
    "print(\"data_two:\", data_two)"
   ]
  },
  {
   "cell_type": "markdown",
   "metadata": {},
   "source": [
    "#### Preventing the deadlock\n",
    "Get rid of the Hold and Wait i.e. where the process holds one lock while waiting for the other to be released. This is a more robust solution than hoping for the threads to request locks in a specific sequence"
   ]
  },
  {
   "cell_type": "code",
   "execution_count": 20,
   "metadata": {
    "collapsed": true
   },
   "outputs": [],
   "source": [
    "def my_process(lock_one, lock_two):\n",
    "    \n",
    "    global data_one\n",
    "    global data_two\n",
    "    \n",
    "    lock_one.acquire()\n",
    "    print(threading.current_thread().name, \" incrementing data_one\")\n",
    "    data_one += 1\n",
    "    time.sleep(1)\n",
    "    \n",
    "    lock_one.release()\n",
    "    \n",
    "    lock_two.acquire()\n",
    "    print(threading.current_thread().name, \" incrementing data_two\")\n",
    "    data_two +=1\n",
    "    time.sleep(1)\n",
    "    \n",
    "    lock_two.release()\n",
    "    "
   ]
  },
  {
   "cell_type": "code",
   "execution_count": 21,
   "metadata": {
    "collapsed": true
   },
   "outputs": [],
   "source": [
    "data_one = 3\n",
    "data_two = 5\n",
    "\n",
    "lock_one = threading.Lock()\n",
    "lock_two = threading.Lock()"
   ]
  },
  {
   "cell_type": "code",
   "execution_count": 22,
   "metadata": {},
   "outputs": [
    {
     "name": "stdout",
     "output_type": "stream",
     "text": [
      "Thread-14Thread-15   incrementing data_one incrementing data_one\n",
      "\n",
      "Thread-14 Thread-15 incrementing data_two \n",
      " incrementing data_two\n"
     ]
    }
   ],
   "source": [
    "t1 = threading.Thread(target=my_process, \n",
    "                      args=(lock_one, lock_two)) \n",
    "t2 = threading.Thread(target=my_process, \n",
    "                      args=(lock_two, lock_one)) \n",
    "  \n",
    "t1.start() \n",
    "t2.start() \n",
    "\n",
    "t1.join()\n",
    "t2.join()"
   ]
  },
  {
   "cell_type": "code",
   "execution_count": 23,
   "metadata": {},
   "outputs": [
    {
     "name": "stdout",
     "output_type": "stream",
     "text": [
      "data_one: 5\n",
      "data_two: 7\n"
     ]
    }
   ],
   "source": [
    "print(\"data_one:\", data_one)\n",
    "print(\"data_two:\", data_two)"
   ]
  },
  {
   "cell_type": "code",
   "execution_count": null,
   "metadata": {
    "collapsed": true
   },
   "outputs": [],
   "source": []
  },
  {
   "cell_type": "markdown",
   "metadata": {},
   "source": [
    "#### `output`: Unlike the Lock object, RLock object is able to aquire every time it is invoked"
   ]
  },
  {
   "cell_type": "markdown",
   "metadata": {},
   "source": [
    "## 3) `Semaphores` \n",
    "* This is one of the oldest synchronization primitives in the history of computer science, invented by the early Dutch computer scientist Edsger W. Dijkstra\n",
    "* Semaphores are typically used for limiting a resource\n",
    "* Semaphores are simply advanced counters \n",
    "* An acquire() call to a semaphore will block only after a number of threads have acquire()ed it. \n",
    "* The associated counter decreases per acquire() call, and increases per release() call.\n",
    "\n",
    "https://docs.python.org/3/library/threading.html#semaphore-objects"
   ]
  },
  {
   "cell_type": "markdown",
   "metadata": {},
   "source": [
    "#### Initialize a semaphore\n",
    "The default internal variable = 1. This represents the maximum number of threads which can acquire the semaphore at any time"
   ]
  },
  {
   "cell_type": "code",
   "execution_count": 102,
   "metadata": {
    "collapsed": true
   },
   "outputs": [],
   "source": [
    "semaphore = threading.Semaphore() "
   ]
  },
  {
   "cell_type": "code",
   "execution_count": 103,
   "metadata": {
    "collapsed": true
   },
   "outputs": [],
   "source": [
    "def my_func():\n",
    "    \n",
    "    semaphore.acquire()\n",
    "    \n",
    "    time.sleep(0.1)\n",
    "    print(threading.current_thread().name,  \" acquired the semaphore.\")\n",
    "    print(\"Semaphore value after acquire:\", semaphore._value)\n",
    "    \n",
    "    time.sleep(5)\n",
    "    \n",
    "    semaphore.release()\n",
    "    \n",
    "    print(\"Semaphore value after release:\", semaphore._value)"
   ]
  },
  {
   "cell_type": "code",
   "execution_count": 107,
   "metadata": {},
   "outputs": [
    {
     "name": "stdout",
     "output_type": "stream",
     "text": [
      "Initial semaphore value: 1\n"
     ]
    }
   ],
   "source": [
    "t1 = threading.Thread(target=my_func)\n",
    "t2 = threading.Thread(target=my_func)\n",
    "\n",
    "print(\"Initial semaphore value:\", semaphore._value)"
   ]
  },
  {
   "cell_type": "code",
   "execution_count": null,
   "metadata": {
    "collapsed": true
   },
   "outputs": [],
   "source": [
    "start_time = time.time()\n",
    "\n",
    "t1.start()\n",
    "t2.start()\n",
    "\n",
    "t1.join()\n",
    "t2.join()\n",
    "\n",
    "end_time = time.time()"
   ]
  },
  {
   "cell_type": "code",
   "execution_count": 108,
   "metadata": {
    "scrolled": true
   },
   "outputs": [
    {
     "name": "stdout",
     "output_type": "stream",
     "text": [
      "Thread-100  acquired the semaphore.\n",
      "Semaphore value after acquire: 0\n",
      "Semaphore value after release: 1\n",
      "Thread-101  acquired the semaphore.\n",
      "Semaphore value after acquire: 0\n",
      "Semaphore value after release: 1\n",
      "Total time: 10.212400197982788\n"
     ]
    }
   ],
   "source": [
    "print(\"Total time:\", end_time-start_time)"
   ]
  },
  {
   "cell_type": "code",
   "execution_count": 114,
   "metadata": {
    "collapsed": true
   },
   "outputs": [],
   "source": [
    "semaphore = threading.Semaphore(value=3) "
   ]
  },
  {
   "cell_type": "code",
   "execution_count": 115,
   "metadata": {
    "collapsed": true
   },
   "outputs": [],
   "source": [
    "t1 = threading.Thread(target=my_func)\n",
    "t2 = threading.Thread(target=my_func)\n",
    "t3 = threading.Thread(target=my_func)\n",
    "t4 = threading.Thread(target=my_func)\n",
    "t5 = threading.Thread(target=my_func)\n",
    "t6 = threading.Thread(target=my_func)\n",
    "t7 = threading.Thread(target=my_func)\n",
    "t8 = threading.Thread(target=my_func)"
   ]
  },
  {
   "cell_type": "code",
   "execution_count": null,
   "metadata": {
    "collapsed": true
   },
   "outputs": [],
   "source": [
    "start_time = time.time()\n",
    "\n",
    "t1.start()\n",
    "t2.start()\n",
    "t3.start()\n",
    "t4.start()\n",
    "t5.start()\n",
    "t6.start()\n",
    "t7.start()\n",
    "t8.start()\n",
    "\n",
    "t1.join()\n",
    "t2.join()\n",
    "t3.join()\n",
    "t4.join()\n",
    "t5.join()\n",
    "t6.join()\n",
    "t7.join()\n",
    "t8.join()\n",
    "\n",
    "end_time = time.time()"
   ]
  },
  {
   "cell_type": "code",
   "execution_count": 116,
   "metadata": {},
   "outputs": [
    {
     "name": "stdout",
     "output_type": "stream",
     "text": [
      "Thread-112Thread-110 Thread-111  acquired the semaphore. \n",
      " acquired the semaphore. acquired the semaphore.Semaphore value after acquire:\n",
      "\n",
      " Semaphore value after acquire:Semaphore value after acquire:0  \n",
      "00\n",
      "\n",
      "Semaphore value after release:Semaphore value after release:  12Semaphore value after release:\n",
      "\n",
      " 1\n",
      "Thread-114 Thread-113 acquired the semaphore. Thread-115\n",
      " acquired the semaphore. Semaphore value after acquire:\n",
      " acquired the semaphore. Semaphore value after acquire:\n",
      "0 Semaphore value after acquire:\n",
      "0 0\n",
      "\n",
      "Semaphore value after release: 1\n",
      "Semaphore value after release:Semaphore value after release: 1 \n",
      "1\n",
      "Thread-116  acquired the semaphore.Thread-117 \n",
      " acquired the semaphore.Semaphore value after acquire:\n",
      " Semaphore value after acquire:1 \n",
      "1\n",
      "Semaphore value after release: Semaphore value after release:2 \n",
      "3\n",
      "Total time: 15.34638500213623\n"
     ]
    }
   ],
   "source": [
    "print(\"Total time:\", end_time-start_time)"
   ]
  },
  {
   "cell_type": "code",
   "execution_count": 117,
   "metadata": {},
   "outputs": [
    {
     "ename": "ValueError",
     "evalue": "semaphore initial value must be >= 0",
     "output_type": "error",
     "traceback": [
      "\u001B[0;31m---------------------------------------------------------------------------\u001B[0m",
      "\u001B[0;31mValueError\u001B[0m                                Traceback (most recent call last)",
      "\u001B[0;32m<ipython-input-117-e5e067d1a405>\u001B[0m in \u001B[0;36m<module>\u001B[0;34m()\u001B[0m\n\u001B[0;32m----> 1\u001B[0;31m \u001B[0msemaphore\u001B[0m \u001B[0;34m=\u001B[0m \u001B[0mthreading\u001B[0m\u001B[0;34m.\u001B[0m\u001B[0mSemaphore\u001B[0m\u001B[0;34m(\u001B[0m\u001B[0;34m-\u001B[0m\u001B[0;36m1\u001B[0m\u001B[0;34m)\u001B[0m\u001B[0;34m\u001B[0m\u001B[0;34m\u001B[0m\u001B[0m\n\u001B[0m",
      "\u001B[0;32m~/anaconda3/lib/python3.6/threading.py\u001B[0m in \u001B[0;36m__init__\u001B[0;34m(self, value)\u001B[0m\n\u001B[1;32m    381\u001B[0m     \u001B[0;32mdef\u001B[0m \u001B[0m__init__\u001B[0m\u001B[0;34m(\u001B[0m\u001B[0mself\u001B[0m\u001B[0;34m,\u001B[0m \u001B[0mvalue\u001B[0m\u001B[0;34m=\u001B[0m\u001B[0;36m1\u001B[0m\u001B[0;34m)\u001B[0m\u001B[0;34m:\u001B[0m\u001B[0;34m\u001B[0m\u001B[0;34m\u001B[0m\u001B[0m\n\u001B[1;32m    382\u001B[0m         \u001B[0;32mif\u001B[0m \u001B[0mvalue\u001B[0m \u001B[0;34m<\u001B[0m \u001B[0;36m0\u001B[0m\u001B[0;34m:\u001B[0m\u001B[0;34m\u001B[0m\u001B[0;34m\u001B[0m\u001B[0m\n\u001B[0;32m--> 383\u001B[0;31m             \u001B[0;32mraise\u001B[0m \u001B[0mValueError\u001B[0m\u001B[0;34m(\u001B[0m\u001B[0;34m\"semaphore initial value must be >= 0\"\u001B[0m\u001B[0;34m)\u001B[0m\u001B[0;34m\u001B[0m\u001B[0;34m\u001B[0m\u001B[0m\n\u001B[0m\u001B[1;32m    384\u001B[0m         \u001B[0mself\u001B[0m\u001B[0;34m.\u001B[0m\u001B[0m_cond\u001B[0m \u001B[0;34m=\u001B[0m \u001B[0mCondition\u001B[0m\u001B[0;34m(\u001B[0m\u001B[0mLock\u001B[0m\u001B[0;34m(\u001B[0m\u001B[0;34m)\u001B[0m\u001B[0;34m)\u001B[0m\u001B[0;34m\u001B[0m\u001B[0;34m\u001B[0m\u001B[0m\n\u001B[1;32m    385\u001B[0m         \u001B[0mself\u001B[0m\u001B[0;34m.\u001B[0m\u001B[0m_value\u001B[0m \u001B[0;34m=\u001B[0m \u001B[0mvalue\u001B[0m\u001B[0;34m\u001B[0m\u001B[0;34m\u001B[0m\u001B[0m\n",
      "\u001B[0;31mValueError\u001B[0m: semaphore initial value must be >= 0"
     ]
    }
   ],
   "source": [
    "semaphore = threading.Semaphore(-1) "
   ]
  },
  {
   "cell_type": "markdown",
   "metadata": {},
   "source": [
    "### While creating a semaphore object `threading.Semaphore()` input <b> internal variable </b> can not be less than zero"
   ]
  },
  {
   "cell_type": "markdown",
   "metadata": {},
   "source": [
    "### Using a Semaphore to synchronize threads\n",
    "We can use the following programe as a ordering software in a resturant, where the ordering and serving is automoted\n",
    "* The internal variable is set to 0\n",
    "* By the `resturant()` function the lock been released which increased the variable to 1 so that `customer()` function `semaphore.acquire()` can be invoked "
   ]
  },
  {
   "cell_type": "code",
   "execution_count": 9,
   "metadata": {
    "collapsed": true
   },
   "outputs": [],
   "source": [
    "semaphore = threading.Semaphore(0)"
   ]
  },
  {
   "cell_type": "code",
   "execution_count": 10,
   "metadata": {
    "collapsed": true
   },
   "outputs": [],
   "source": [
    "order_num = 0"
   ]
  },
  {
   "cell_type": "code",
   "execution_count": 14,
   "metadata": {
    "collapsed": true
   },
   "outputs": [],
   "source": [
    "def place_order():\n",
    "    print (\"Order placed.\")\n",
    "    semaphore.acquire()\n",
    "    print (\"Customer order number is:\", order_num)"
   ]
  },
  {
   "cell_type": "code",
   "execution_count": 15,
   "metadata": {
    "collapsed": true
   },
   "outputs": [],
   "source": [
    "def prepare_order(): \n",
    "    \n",
    "    global order_num\n",
    "    time.sleep(3)\n",
    "    order_num += 1\n",
    "    \n",
    "    print (\"Preparing order number\", order_num)\n",
    "    semaphore.release()"
   ]
  },
  {
   "cell_type": "code",
   "execution_count": 16,
   "metadata": {},
   "outputs": [
    {
     "name": "stdout",
     "output_type": "stream",
     "text": [
      "Order placed.\n",
      "Customer order number is: 6\n",
      "Preparing order number 7\n",
      "Order placed.\n",
      "Customer order number is: 7\n",
      "Preparing order number 8\n",
      "Order placed.\n",
      "Customer order number is: 8\n",
      "Preparing order number 9\n",
      "Order placed.\n",
      "Customer order number is: 9\n",
      "Preparing order number 10\n",
      "Order placed.\n",
      "Customer order number is: 10\n",
      "Preparing order number 11Order placed.\n",
      "\n",
      "Customer order number is: 11\n",
      "Preparing order numberProgram terminated \n",
      "12\n"
     ]
    }
   ],
   "source": [
    "for i in range (0, 6):\n",
    "    \n",
    "    t1 = threading.Thread(target=place_order)\n",
    "    t2 = threading.Thread(target=prepare_order)\n",
    "    \n",
    "    t1.start()\n",
    "    t2.start()\n",
    "    \n",
    "    t1.join()\n",
    "    t2.join()\n",
    "    \n",
    "print (\"Program terminated\")"
   ]
  },
  {
   "cell_type": "markdown",
   "metadata": {},
   "source": [
    "###  A Semaphore provides a non-bounded counter which allows you to call release() any number of times for incrementing"
   ]
  },
  {
   "cell_type": "code",
   "execution_count": 17,
   "metadata": {},
   "outputs": [
    {
     "data": {
      "text/plain": [
       "1"
      ]
     },
     "execution_count": 17,
     "metadata": {},
     "output_type": "execute_result"
    }
   ],
   "source": [
    "semaphore = threading.Semaphore()\n",
    "\n",
    "semaphore._value"
   ]
  },
  {
   "cell_type": "markdown",
   "metadata": {},
   "source": [
    "#### The main thread acquires the semaphore"
   ]
  },
  {
   "cell_type": "code",
   "execution_count": 18,
   "metadata": {},
   "outputs": [
    {
     "data": {
      "text/plain": [
       "0"
      ]
     },
     "execution_count": 18,
     "metadata": {},
     "output_type": "execute_result"
    }
   ],
   "source": [
    "semaphore.acquire()\n",
    "\n",
    "semaphore._value"
   ]
  },
  {
   "cell_type": "code",
   "execution_count": 19,
   "metadata": {},
   "outputs": [
    {
     "data": {
      "text/plain": [
       "1"
      ]
     },
     "execution_count": 19,
     "metadata": {},
     "output_type": "execute_result"
    }
   ],
   "source": [
    "semaphore.release()\n",
    "\n",
    "semaphore._value"
   ]
  },
  {
   "cell_type": "code",
   "execution_count": 20,
   "metadata": {},
   "outputs": [
    {
     "data": {
      "text/plain": [
       "2"
      ]
     },
     "execution_count": 20,
     "metadata": {},
     "output_type": "execute_result"
    }
   ],
   "source": [
    "semaphore.release()\n",
    "\n",
    "semaphore._value"
   ]
  },
  {
   "cell_type": "code",
   "execution_count": 21,
   "metadata": {},
   "outputs": [
    {
     "data": {
      "text/plain": [
       "5"
      ]
     },
     "execution_count": 21,
     "metadata": {},
     "output_type": "execute_result"
    }
   ],
   "source": [
    "semaphore.release()\n",
    "semaphore.release()\n",
    "semaphore.release()\n",
    "\n",
    "semaphore._value"
   ]
  },
  {
   "cell_type": "markdown",
   "metadata": {},
   "source": [
    "### `BoundedSemaphore` provides a bounded counter, which raises an error if a release() call tries to increase the counter beyond its maximum size.\n",
    "\n",
    "https://docs.python.org/3/library/threading.html#threading.BoundedSemaphore"
   ]
  },
  {
   "cell_type": "code",
   "execution_count": 22,
   "metadata": {},
   "outputs": [
    {
     "data": {
      "text/plain": [
       "1"
      ]
     },
     "execution_count": 22,
     "metadata": {},
     "output_type": "execute_result"
    }
   ],
   "source": [
    "semaphore = threading.BoundedSemaphore(1)\n",
    "\n",
    "semaphore._value"
   ]
  },
  {
   "cell_type": "code",
   "execution_count": 23,
   "metadata": {},
   "outputs": [
    {
     "data": {
      "text/plain": [
       "0"
      ]
     },
     "execution_count": 23,
     "metadata": {},
     "output_type": "execute_result"
    }
   ],
   "source": [
    "semaphore.acquire()\n",
    "\n",
    "semaphore._value"
   ]
  },
  {
   "cell_type": "code",
   "execution_count": 24,
   "metadata": {},
   "outputs": [
    {
     "data": {
      "text/plain": [
       "1"
      ]
     },
     "execution_count": 24,
     "metadata": {},
     "output_type": "execute_result"
    }
   ],
   "source": [
    "semaphore.release()\n",
    "\n",
    "semaphore._value"
   ]
  },
  {
   "cell_type": "code",
   "execution_count": 25,
   "metadata": {},
   "outputs": [
    {
     "ename": "ValueError",
     "evalue": "Semaphore released too many times",
     "output_type": "error",
     "traceback": [
      "\u001B[0;31m---------------------------------------------------------------------------\u001B[0m",
      "\u001B[0;31mValueError\u001B[0m                                Traceback (most recent call last)",
      "\u001B[0;32m<ipython-input-25-c7c8b68b94bc>\u001B[0m in \u001B[0;36m<module>\u001B[0;34m()\u001B[0m\n\u001B[0;32m----> 1\u001B[0;31m \u001B[0msemaphore\u001B[0m\u001B[0;34m.\u001B[0m\u001B[0mrelease\u001B[0m\u001B[0;34m(\u001B[0m\u001B[0;34m)\u001B[0m\u001B[0;34m\u001B[0m\u001B[0;34m\u001B[0m\u001B[0m\n\u001B[0m\u001B[1;32m      2\u001B[0m \u001B[0;34m\u001B[0m\u001B[0m\n\u001B[1;32m      3\u001B[0m \u001B[0msemaphore\u001B[0m\u001B[0;34m.\u001B[0m\u001B[0m_value\u001B[0m\u001B[0;34m\u001B[0m\u001B[0;34m\u001B[0m\u001B[0m\n",
      "\u001B[0;32m~/anaconda3/lib/python3.6/threading.py\u001B[0m in \u001B[0;36mrelease\u001B[0;34m(self)\u001B[0m\n\u001B[1;32m    480\u001B[0m         \u001B[0;32mwith\u001B[0m \u001B[0mself\u001B[0m\u001B[0;34m.\u001B[0m\u001B[0m_cond\u001B[0m\u001B[0;34m:\u001B[0m\u001B[0;34m\u001B[0m\u001B[0;34m\u001B[0m\u001B[0m\n\u001B[1;32m    481\u001B[0m             \u001B[0;32mif\u001B[0m \u001B[0mself\u001B[0m\u001B[0;34m.\u001B[0m\u001B[0m_value\u001B[0m \u001B[0;34m>=\u001B[0m \u001B[0mself\u001B[0m\u001B[0;34m.\u001B[0m\u001B[0m_initial_value\u001B[0m\u001B[0;34m:\u001B[0m\u001B[0;34m\u001B[0m\u001B[0;34m\u001B[0m\u001B[0m\n\u001B[0;32m--> 482\u001B[0;31m                 \u001B[0;32mraise\u001B[0m \u001B[0mValueError\u001B[0m\u001B[0;34m(\u001B[0m\u001B[0;34m\"Semaphore released too many times\"\u001B[0m\u001B[0;34m)\u001B[0m\u001B[0;34m\u001B[0m\u001B[0;34m\u001B[0m\u001B[0m\n\u001B[0m\u001B[1;32m    483\u001B[0m             \u001B[0mself\u001B[0m\u001B[0;34m.\u001B[0m\u001B[0m_value\u001B[0m \u001B[0;34m+=\u001B[0m \u001B[0;36m1\u001B[0m\u001B[0;34m\u001B[0m\u001B[0;34m\u001B[0m\u001B[0m\n\u001B[1;32m    484\u001B[0m             \u001B[0mself\u001B[0m\u001B[0;34m.\u001B[0m\u001B[0m_cond\u001B[0m\u001B[0;34m.\u001B[0m\u001B[0mnotify\u001B[0m\u001B[0;34m(\u001B[0m\u001B[0;34m)\u001B[0m\u001B[0;34m\u001B[0m\u001B[0;34m\u001B[0m\u001B[0m\n",
      "\u001B[0;31mValueError\u001B[0m: Semaphore released too many times"
     ]
    }
   ],
   "source": [
    "semaphore.release()\n",
    "\n",
    "semaphore._value"
   ]
  },
  {
   "cell_type": "markdown",
   "metadata": {},
   "source": [
    "## 4) `Events` \n",
    "* This is one of the simplest mechanisms for communication between threads: one thread signals an event and other threads wait for it.\n",
    "* An event object manages an internal flag that can be set to true with the <b> set() </b> method and reset to false with the <b> clear() </b> method. \n",
    "* The <b> wait() </b> method blocks until the flag is true.\n",
    "\n",
    "https://docs.python.org/3/library/threading.html#event-objects"
   ]
  },
  {
   "cell_type": "markdown",
   "metadata": {},
   "source": [
    "### Creating a event object"
   ]
  },
  {
   "cell_type": "code",
   "execution_count": 16,
   "metadata": {
    "collapsed": true
   },
   "outputs": [],
   "source": [
    "event = threading.Event()"
   ]
  },
  {
   "cell_type": "markdown",
   "metadata": {},
   "source": [
    "### Checking out methods available for events"
   ]
  },
  {
   "cell_type": "code",
   "execution_count": 17,
   "metadata": {},
   "outputs": [
    {
     "data": {
      "text/plain": [
       "['__class__',\n",
       " '__delattr__',\n",
       " '__dict__',\n",
       " '__dir__',\n",
       " '__doc__',\n",
       " '__eq__',\n",
       " '__format__',\n",
       " '__ge__',\n",
       " '__getattribute__',\n",
       " '__gt__',\n",
       " '__hash__',\n",
       " '__init__',\n",
       " '__init_subclass__',\n",
       " '__le__',\n",
       " '__lt__',\n",
       " '__module__',\n",
       " '__ne__',\n",
       " '__new__',\n",
       " '__reduce__',\n",
       " '__reduce_ex__',\n",
       " '__repr__',\n",
       " '__setattr__',\n",
       " '__sizeof__',\n",
       " '__str__',\n",
       " '__subclasshook__',\n",
       " '__weakref__',\n",
       " '_cond',\n",
       " '_flag',\n",
       " '_reset_internal_locks',\n",
       " 'clear',\n",
       " 'isSet',\n",
       " 'is_set',\n",
       " 'set',\n",
       " 'wait']"
      ]
     },
     "execution_count": 17,
     "metadata": {},
     "output_type": "execute_result"
    }
   ],
   "source": [
    "dir(event)"
   ]
  },
  {
   "cell_type": "code",
   "execution_count": 18,
   "metadata": {},
   "outputs": [
    {
     "name": "stdout",
     "output_type": "stream",
     "text": [
      "True\n",
      "True\n",
      "False\n"
     ]
    }
   ],
   "source": [
    "event.set()\n",
    "print(event.is_set())\n",
    "\n",
    "event.wait()\n",
    "print(event.is_set())\n",
    "\n",
    "event.clear()\n",
    "print(event.is_set())"
   ]
  },
  {
   "cell_type": "markdown",
   "metadata": {},
   "source": [
    "### Run the following function, as the thread is blocked after `event.wait()` we'll not get any output and our shell operation doesn't responds, go to the kernel tab > interrupt "
   ]
  },
  {
   "cell_type": "code",
   "execution_count": 19,
   "metadata": {},
   "outputs": [
    {
     "name": "stdout",
     "output_type": "stream",
     "text": [
      "True\n",
      "False\n"
     ]
    },
    {
     "ename": "KeyboardInterrupt",
     "evalue": "",
     "output_type": "error",
     "traceback": [
      "\u001B[0;31m---------------------------------------------------------------------------\u001B[0m",
      "\u001B[0;31mKeyboardInterrupt\u001B[0m                         Traceback (most recent call last)",
      "\u001B[0;32m<ipython-input-19-52a1ad9dc39d>\u001B[0m in \u001B[0;36m<module>\u001B[0;34m\u001B[0m\n\u001B[1;32m      5\u001B[0m \u001B[0mprint\u001B[0m\u001B[0;34m(\u001B[0m\u001B[0mevent\u001B[0m\u001B[0;34m.\u001B[0m\u001B[0mis_set\u001B[0m\u001B[0;34m(\u001B[0m\u001B[0;34m)\u001B[0m\u001B[0;34m)\u001B[0m\u001B[0;34m\u001B[0m\u001B[0;34m\u001B[0m\u001B[0m\n\u001B[1;32m      6\u001B[0m \u001B[0;34m\u001B[0m\u001B[0m\n\u001B[0;32m----> 7\u001B[0;31m \u001B[0mevent\u001B[0m\u001B[0;34m.\u001B[0m\u001B[0mwait\u001B[0m\u001B[0;34m(\u001B[0m\u001B[0;34m)\u001B[0m\u001B[0;34m\u001B[0m\u001B[0;34m\u001B[0m\u001B[0m\n\u001B[0m\u001B[1;32m      8\u001B[0m \u001B[0mprint\u001B[0m\u001B[0;34m(\u001B[0m\u001B[0mevent\u001B[0m\u001B[0;34m.\u001B[0m\u001B[0mis_set\u001B[0m\u001B[0;34m(\u001B[0m\u001B[0;34m)\u001B[0m\u001B[0;34m)\u001B[0m\u001B[0;34m\u001B[0m\u001B[0;34m\u001B[0m\u001B[0m\n",
      "\u001B[0;32m/anaconda3/lib/python3.7/threading.py\u001B[0m in \u001B[0;36mwait\u001B[0;34m(self, timeout)\u001B[0m\n\u001B[1;32m    550\u001B[0m             \u001B[0msignaled\u001B[0m \u001B[0;34m=\u001B[0m \u001B[0mself\u001B[0m\u001B[0;34m.\u001B[0m\u001B[0m_flag\u001B[0m\u001B[0;34m\u001B[0m\u001B[0;34m\u001B[0m\u001B[0m\n\u001B[1;32m    551\u001B[0m             \u001B[0;32mif\u001B[0m \u001B[0;32mnot\u001B[0m \u001B[0msignaled\u001B[0m\u001B[0;34m:\u001B[0m\u001B[0;34m\u001B[0m\u001B[0;34m\u001B[0m\u001B[0m\n\u001B[0;32m--> 552\u001B[0;31m                 \u001B[0msignaled\u001B[0m \u001B[0;34m=\u001B[0m \u001B[0mself\u001B[0m\u001B[0;34m.\u001B[0m\u001B[0m_cond\u001B[0m\u001B[0;34m.\u001B[0m\u001B[0mwait\u001B[0m\u001B[0;34m(\u001B[0m\u001B[0mtimeout\u001B[0m\u001B[0;34m)\u001B[0m\u001B[0;34m\u001B[0m\u001B[0;34m\u001B[0m\u001B[0m\n\u001B[0m\u001B[1;32m    553\u001B[0m             \u001B[0;32mreturn\u001B[0m \u001B[0msignaled\u001B[0m\u001B[0;34m\u001B[0m\u001B[0;34m\u001B[0m\u001B[0m\n\u001B[1;32m    554\u001B[0m \u001B[0;34m\u001B[0m\u001B[0m\n",
      "\u001B[0;32m/anaconda3/lib/python3.7/threading.py\u001B[0m in \u001B[0;36mwait\u001B[0;34m(self, timeout)\u001B[0m\n\u001B[1;32m    294\u001B[0m         \u001B[0;32mtry\u001B[0m\u001B[0;34m:\u001B[0m    \u001B[0;31m# restore state no matter what (e.g., KeyboardInterrupt)\u001B[0m\u001B[0;34m\u001B[0m\u001B[0;34m\u001B[0m\u001B[0m\n\u001B[1;32m    295\u001B[0m             \u001B[0;32mif\u001B[0m \u001B[0mtimeout\u001B[0m \u001B[0;32mis\u001B[0m \u001B[0;32mNone\u001B[0m\u001B[0;34m:\u001B[0m\u001B[0;34m\u001B[0m\u001B[0;34m\u001B[0m\u001B[0m\n\u001B[0;32m--> 296\u001B[0;31m                 \u001B[0mwaiter\u001B[0m\u001B[0;34m.\u001B[0m\u001B[0macquire\u001B[0m\u001B[0;34m(\u001B[0m\u001B[0;34m)\u001B[0m\u001B[0;34m\u001B[0m\u001B[0;34m\u001B[0m\u001B[0m\n\u001B[0m\u001B[1;32m    297\u001B[0m                 \u001B[0mgotit\u001B[0m \u001B[0;34m=\u001B[0m \u001B[0;32mTrue\u001B[0m\u001B[0;34m\u001B[0m\u001B[0;34m\u001B[0m\u001B[0m\n\u001B[1;32m    298\u001B[0m             \u001B[0;32melse\u001B[0m\u001B[0;34m:\u001B[0m\u001B[0;34m\u001B[0m\u001B[0;34m\u001B[0m\u001B[0m\n",
      "\u001B[0;31mKeyboardInterrupt\u001B[0m: "
     ]
    }
   ],
   "source": [
    "event.set()\n",
    "print(event.is_set())\n",
    "\n",
    "event.clear()\n",
    "print(event.is_set())\n",
    "\n",
    "event.wait()\n",
    "print(event.is_set())"
   ]
  },
  {
   "cell_type": "markdown",
   "metadata": {},
   "source": [
    "### To understand the implementation a example is shown below"
   ]
  },
  {
   "cell_type": "code",
   "execution_count": 5,
   "metadata": {
    "collapsed": true,
    "ExecuteTime": {
     "end_time": "2024-01-12T22:07:54.490836993Z",
     "start_time": "2024-01-12T22:07:54.471851177Z"
    }
   },
   "outputs": [],
   "source": [
    "meeting = threading.Event()"
   ]
  },
  {
   "cell_type": "code",
   "execution_count": 6,
   "metadata": {
    "collapsed": true,
    "ExecuteTime": {
     "end_time": "2024-01-12T22:07:55.327565536Z",
     "start_time": "2024-01-12T22:07:55.314112446Z"
    }
   },
   "outputs": [],
   "source": [
    "def hold_meeting():\n",
    "    \n",
    "    meeting.set()\n",
    "    print('Event is set. The meeting has begun')\n",
    "    \n",
    "    time.sleep(6)\n",
    "    \n",
    "    print('The meeting is complete. Clearing the event...')\n",
    "    meeting.clear()"
   ]
  },
  {
   "cell_type": "code",
   "execution_count": 7,
   "metadata": {
    "collapsed": true,
    "ExecuteTime": {
     "end_time": "2024-01-12T22:07:55.862931230Z",
     "start_time": "2024-01-12T22:07:55.850177323Z"
    }
   },
   "outputs": [],
   "source": [
    "def enter_conference_room():\n",
    "    \n",
    "    time.sleep(1)\n",
    "    meeting.wait()\n",
    "    \n",
    "    while meeting.is_set():\n",
    "        \n",
    "        print(\"Waiting for the meeting to end\")\n",
    "        time.sleep(0.5)\n",
    "        \n",
    "    print(\"The meeting is done. Entering the conference room...\")"
   ]
  },
  {
   "cell_type": "code",
   "execution_count": 8,
   "metadata": {
    "collapsed": true,
    "ExecuteTime": {
     "end_time": "2024-01-12T22:07:56.519328191Z",
     "start_time": "2024-01-12T22:07:56.505703867Z"
    }
   },
   "outputs": [],
   "source": [
    "t1 = threading.Thread(target = hold_meeting)\n",
    "t2 = threading.Thread(target = enter_conference_room)"
   ]
  },
  {
   "cell_type": "code",
   "execution_count": 9,
   "metadata": {
    "ExecuteTime": {
     "end_time": "2024-01-12T22:08:06.036521975Z",
     "start_time": "2024-01-12T22:08:00.031104722Z"
    }
   },
   "outputs": [
    {
     "name": "stdout",
     "output_type": "stream",
     "text": [
      "Event is set. The meeting has begun\n",
      "Waiting for the meeting to end\n",
      "Waiting for the meeting to end\n",
      "Waiting for the meeting to end\n",
      "Waiting for the meeting to end\n",
      "Waiting for the meeting to end\n",
      "Waiting for the meeting to end\n",
      "Waiting for the meeting to end\n",
      "Waiting for the meeting to end\n",
      "Waiting for the meeting to end\n",
      "Waiting for the meeting to end\n",
      "The meeting is complete. Clearing the event...\n",
      "The meeting is done. Entering the conference room...\n"
     ]
    }
   ],
   "source": [
    "t1.start()\n",
    "t2.start()\n",
    "\n",
    "t1.join()\n",
    "t2.join()"
   ]
  },
  {
   "cell_type": "markdown",
   "metadata": {},
   "source": [
    "## 5) `Conditions` \n",
    "* A Condition object is simply a more advanced version of the Event object.\n",
    "\n",
    "* It too acts as a communicator between threads and can be used to notify() other threads about a change in the state of the program\n",
    "\n",
    "https://docs.python.org/3/library/threading.html#condition-objects"
   ]
  },
  {
   "cell_type": "markdown",
   "metadata": {},
   "source": [
    "#### A good way to illustrate this mechanism is by looking at a news producer and 3 consumers. The producer appends random news text to a list at random time and the consumer retrieves those integers from the list. "
   ]
  },
  {
   "cell_type": "code",
   "execution_count": 10,
   "metadata": {
    "ExecuteTime": {
     "end_time": "2024-01-12T22:21:27.479015571Z",
     "start_time": "2024-01-12T22:21:27.433969505Z"
    }
   },
   "outputs": [],
   "source": [
    "import random"
   ]
  },
  {
   "cell_type": "code",
   "execution_count": 11,
   "metadata": {
    "ExecuteTime": {
     "end_time": "2024-01-12T22:21:27.858783645Z",
     "start_time": "2024-01-12T22:21:27.841527057Z"
    }
   },
   "outputs": [],
   "source": [
    "condition = threading.Condition()"
   ]
  },
  {
   "cell_type": "code",
   "execution_count": 12,
   "metadata": {
    "ExecuteTime": {
     "end_time": "2024-01-12T22:21:28.224970628Z",
     "start_time": "2024-01-12T22:21:28.196299142Z"
    }
   },
   "outputs": [],
   "source": [
    "container = []\n",
    "\n",
    "counter = 1\n",
    "\n",
    "more_to_come = True"
   ]
  },
  {
   "cell_type": "code",
   "execution_count": 13,
   "metadata": {
    "ExecuteTime": {
     "end_time": "2024-01-12T22:21:28.652441681Z",
     "start_time": "2024-01-12T22:21:28.641079865Z"
    }
   },
   "outputs": [],
   "source": [
    "def produce():\n",
    "    \n",
    "    global container\n",
    "    global counter\n",
    "    global more_to_come\n",
    "    \n",
    "    for i in range(5):\n",
    "        \n",
    "        time.sleep(random.randrange(2, 5))\n",
    "        condition.acquire()\n",
    "        \n",
    "        item = \"News item #\" + str(counter) \n",
    "        \n",
    "        container.append(item)\n",
    "        counter +=1\n",
    "        \n",
    "        print(\"\\nProduced:\", item)\n",
    "        condition.notify_all()\n",
    "        \n",
    "        condition.release()\n",
    "        \n",
    "    more_to_come = False\n",
    "  "
   ]
  },
  {
   "cell_type": "code",
   "execution_count": 14,
   "metadata": {
    "collapsed": true,
    "ExecuteTime": {
     "end_time": "2024-01-12T22:21:29.208210354Z",
     "start_time": "2024-01-12T22:21:29.172894438Z"
    }
   },
   "outputs": [],
   "source": [
    "def consume():\n",
    "        \n",
    "    global more_to_come  \n",
    "    \n",
    "    while(more_to_come):\n",
    "        \n",
    "        condition.acquire()\n",
    "        condition.wait()\n",
    "\n",
    "        time.sleep(random.random())\n",
    "        print(threading.current_thread().getName(), \" acquired: \", container[-1])\n",
    "\n",
    "        condition.release()"
   ]
  },
  {
   "cell_type": "code",
   "execution_count": 15,
   "metadata": {
    "ExecuteTime": {
     "end_time": "2024-01-12T22:21:29.949791261Z",
     "start_time": "2024-01-12T22:21:29.933419124Z"
    }
   },
   "outputs": [],
   "source": [
    "producer_thread = threading.Thread(target=produce)\n",
    "\n",
    "consumer_one_thread = threading.Thread(target=consume, \n",
    "                                       name=\"News Site One\",)\n",
    "\n",
    "consumer_two_thread = threading.Thread(target=consume, \n",
    "                                       name=\"News Site Two\")\n",
    "\n",
    "consumer_three_thread = threading.Thread(target=consume,\n",
    "                                         name=\"News Site Three\")"
   ]
  },
  {
   "cell_type": "code",
   "execution_count": 16,
   "metadata": {
    "ExecuteTime": {
     "end_time": "2024-01-12T22:21:48.525867650Z",
     "start_time": "2024-01-12T22:21:30.893013894Z"
    }
   },
   "outputs": [
    {
     "name": "stdout",
     "output_type": "stream",
     "text": [
      "\n",
      "Produced: News item #1\n"
     ]
    },
    {
     "name": "stderr",
     "output_type": "stream",
     "text": [
      "/tmp/ipykernel_25840/993027844.py:11: DeprecationWarning: getName() is deprecated, get the name attribute instead\n",
      "  print(threading.current_thread().getName(), \" acquired: \", container[-1])\n"
     ]
    },
    {
     "name": "stdout",
     "output_type": "stream",
     "text": [
      "News Site One  acquired:  News item #1\n",
      "News Site Three  acquired:  News item #1\n",
      "News Site Two  acquired:  News item #1\n",
      "\n",
      "Produced: News item #2\n",
      "News Site Three  acquired:  News item #2\n",
      "News Site One  acquired:  News item #2\n",
      "News Site Two  acquired:  News item #2\n",
      "\n",
      "Produced: News item #3\n",
      "News Site One  acquired:  News item #3\n",
      "News Site Two  acquired:  News item #3\n",
      "News Site Three  acquired:  News item #3\n",
      "\n",
      "Produced: News item #4\n",
      "News Site One  acquired:  News item #4\n",
      "News Site Three  acquired:  News item #4\n",
      "News Site Two  acquired:  News item #4\n",
      "\n",
      "Produced: News item #5\n",
      "News Site One  acquired:  News item #5\n",
      "News Site Three  acquired:  News item #5\n",
      "News Site Two  acquired:  News item #5\n",
      "\n",
      "All done\n"
     ]
    }
   ],
   "source": [
    "threads = [producer_thread,\n",
    "           consumer_one_thread, \n",
    "           consumer_two_thread, \n",
    "           consumer_three_thread, \n",
    "           ]\n",
    "\n",
    "for t in threads:\n",
    "    t.start()\n",
    "    \n",
    "for t in threads:\n",
    "    t.join()\n",
    "    \n",
    "time.sleep(1)\n",
    "print(\"\\nAll done\")"
   ]
  },
  {
   "cell_type": "code",
   "execution_count": null,
   "metadata": {
    "collapsed": true
   },
   "outputs": [],
   "source": []
  },
  {
   "cell_type": "code",
   "execution_count": null,
   "metadata": {
    "collapsed": true
   },
   "outputs": [],
   "source": []
  },
  {
   "cell_type": "code",
   "execution_count": null,
   "metadata": {
    "collapsed": true
   },
   "outputs": [],
   "source": []
  }
 ],
 "metadata": {
  "kernelspec": {
   "display_name": "Python 3",
   "language": "python",
   "name": "python3"
  },
  "language_info": {
   "codemirror_mode": {
    "name": "ipython",
    "version": 3
   },
   "file_extension": ".py",
   "mimetype": "text/x-python",
   "name": "python",
   "nbconvert_exporter": "python",
   "pygments_lexer": "ipython3",
   "version": "3.7.3"
  }
 },
 "nbformat": 4,
 "nbformat_minor": 2
}
