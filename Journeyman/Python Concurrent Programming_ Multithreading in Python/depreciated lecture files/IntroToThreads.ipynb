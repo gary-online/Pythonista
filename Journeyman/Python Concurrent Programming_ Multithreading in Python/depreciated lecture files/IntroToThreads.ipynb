{
 "cells": [
  {
   "cell_type": "markdown",
   "metadata": {},
   "source": [
    "### Before learning about Threads we have to be familiar with multitasking. `Multitasking` is the process that refers to the ability of performing multiple tasks at the same time. There are two types of multitasking \n",
    "\n",
    "#### 1) Process based\n",
    "\n",
    "Multiple process running on the same system at the same time is called process based multitasking.\n",
    "`e.g:`If we surf the internet, play a song and upload a file at the same time than that is a process based multitasking\n",
    "\n",
    "#### 2) Thread based\n",
    "\n",
    "Thread based multitaskig refferes to a single task which is having multiple task in it, the smallest unit of thread based multi tasking is a `thread`.\n",
    "`e.g:` While surfing the net there are task inside it which is also happening simultaneously like sending request to the server, getting the response, opening a new tab etc. In this case the small sub tasks inside it are threads and it is a thread based multitasking.\n",
    "\n",
    "\n",
    "https://www.edureka.co/blog/what-is-mutithreading/#multitasking"
   ]
  },
  {
   "cell_type": "markdown",
   "metadata": {},
   "source": [
    "### Creating threads using the `threading` module"
   ]
  },
  {
   "cell_type": "markdown",
   "metadata": {},
   "source": [
    "#### import threading"
   ]
  },
  {
   "cell_type": "code",
   "execution_count": 48,
   "metadata": {
    "ExecuteTime": {
     "end_time": "2024-01-11T02:20:42.041443479Z",
     "start_time": "2024-01-11T02:20:41.775844947Z"
    }
   },
   "outputs": [],
   "source": [
    "import threading"
   ]
  },
  {
   "cell_type": "markdown",
   "metadata": {},
   "source": [
    "#### The following are some function from the `threading` module, we have not created any thread yet, let us see how this functions will behave"
   ]
  },
  {
   "cell_type": "markdown",
   "metadata": {},
   "source": [
    "#### `active_count` returns the total number of active threads \n",
    "https://docs.python.org/3/library/threading.html#threading.active_count\n",
    "\n",
    "#### `current_thread()` returns the name of the current running thread\n",
    "https://docs.python.org/3/library/threading.html#threading.current_thread\n",
    "\n",
    "#### `enumerate()` returns  a list of all Thread objects currently alive. The list includes daemonic threads, dummy thread objects created by current_thread(), and the main thread. `Daemon thread` is a type of thread that does not block the main thread from exiting and continues to run in the background\n",
    "https://docs.python.org/3/library/threading.html#threading.enumerate"
   ]
  },
  {
   "cell_type": "code",
   "execution_count": 49,
   "metadata": {
    "collapsed": true,
    "ExecuteTime": {
     "end_time": "2024-01-11T02:20:42.075764281Z",
     "start_time": "2024-01-11T02:20:42.040574376Z"
    }
   },
   "outputs": [],
   "source": [
    "from pprint import pprint\n",
    "\n",
    "def new_func():\n",
    "    \n",
    "    pprint(threading.active_count())\n",
    "    print()\n",
    "    pprint(threading.enumerate())\n",
    "    print()\n",
    "    pprint(threading.current_thread())"
   ]
  },
  {
   "cell_type": "code",
   "execution_count": 50,
   "metadata": {
    "ExecuteTime": {
     "end_time": "2024-01-11T02:20:42.186961745Z",
     "start_time": "2024-01-11T02:20:42.068474620Z"
    }
   },
   "outputs": [
    {
     "name": "stdout",
     "output_type": "stream",
     "text": [
      "8\n",
      "\n",
      "[<_MainThread(MainThread, started 140557962297408)>,\n",
      " <Thread(IOPub, started daemon 140557877884608)>,\n",
      " <Heartbeat(Heartbeat, started daemon 140557869491904)>,\n",
      " <Thread(Thread-3 (_watch_pipe_fd), started daemon 140557636597440)>,\n",
      " <Thread(Thread-4 (_watch_pipe_fd), started daemon 140557628204736)>,\n",
      " <ControlThread(Control, started daemon 140557619812032)>,\n",
      " <HistorySavingThread(IPythonHistorySavingThread, started 140557611419328)>,\n",
      " <ParentPollerUnix(Thread-2, started daemon 140557603026624)>]\n",
      "\n",
      "<_MainThread(MainThread, started 140557962297408)>\n"
     ]
    }
   ],
   "source": [
    "new_func()"
   ]
  },
  {
   "cell_type": "markdown",
   "metadata": {},
   "source": [
    "#### `Output`: \n",
    "1) 5 = Number of active threads \n",
    "\n",
    "2)  List of the 5 threads those are running, There is one main thread and rest of the all are running in the background\n",
    "\n",
    "3) the current_thread which is executing the function is the main thread"
   ]
  },
  {
   "cell_type": "markdown",
   "metadata": {},
   "source": [
    "### Why we are getting this kind of output when there is not a single thread that has been created?\n",
    "Every code that runs in python is a thread, there are codes running in the background of this notebook, which are also threads, we only create additional threads so that we can divide the code into multiple threads for faster response"
   ]
  },
  {
   "cell_type": "markdown",
   "metadata": {},
   "source": [
    "### Threads can be created using three ways\n",
    "a) Creating thread with a function <br>\n",
    "b) Creating thread by extending the thread class <br>\n",
    "c) Creating thread without extending the thread class <br>\n",
    "https://www.edureka.co/blog/what-is-mutithreading/"
   ]
  },
  {
   "cell_type": "markdown",
   "metadata": {},
   "source": [
    "### a) Creating threads with a function"
   ]
  },
  {
   "cell_type": "markdown",
   "metadata": {},
   "source": [
    "#### `start()` it starts the thread object\n",
    "https://docs.python.org/3/library/threading.html#threading.Thread.start"
   ]
  },
  {
   "cell_type": "code",
   "execution_count": 51,
   "metadata": {
    "collapsed": true,
    "ExecuteTime": {
     "end_time": "2024-01-11T02:20:42.227399962Z",
     "start_time": "2024-01-11T02:20:42.146498482Z"
    }
   },
   "outputs": [],
   "source": [
    "def func():\n",
    "    print(\"Hello from func! \\n\")\n",
    "        "
   ]
  },
  {
   "cell_type": "markdown",
   "metadata": {},
   "source": [
    "#### Create and start a Thread object"
   ]
  },
  {
   "cell_type": "code",
   "execution_count": 52,
   "metadata": {
    "collapsed": true,
    "ExecuteTime": {
     "end_time": "2024-01-11T02:20:42.298802004Z",
     "start_time": "2024-01-11T02:20:42.201680530Z"
    }
   },
   "outputs": [],
   "source": [
    "x = threading.Thread()\n",
    "\n",
    "x.start()"
   ]
  },
  {
   "cell_type": "markdown",
   "metadata": {},
   "source": [
    "#### `output`: But we did not get any output, to get proper output we have to specify `target` argument while initiating the thread object\n",
    "A thread must be tied to a target function"
   ]
  },
  {
   "cell_type": "code",
   "execution_count": 53,
   "metadata": {
    "ExecuteTime": {
     "end_time": "2024-01-11T02:20:42.301144271Z",
     "start_time": "2024-01-11T02:20:42.281628088Z"
    }
   },
   "outputs": [
    {
     "name": "stdout",
     "output_type": "stream",
     "text": [
      "Hello from func! \n"
     ]
    }
   ],
   "source": [
    "x = threading.Thread(target = func)\n",
    "\n",
    "x.start()"
   ]
  },
  {
   "cell_type": "markdown",
   "metadata": {},
   "source": [
    "#### Let's call `active_count()`, `enumerate()` and `current_thread` function, as previously there are 5 active threads so we are expecting 6 active threads "
   ]
  },
  {
   "cell_type": "code",
   "execution_count": 54,
   "metadata": {
    "collapsed": true,
    "ExecuteTime": {
     "end_time": "2024-01-11T02:20:42.375033978Z",
     "start_time": "2024-01-11T02:20:42.301961897Z"
    }
   },
   "outputs": [],
   "source": [
    "import time"
   ]
  },
  {
   "cell_type": "code",
   "execution_count": 55,
   "metadata": {
    "collapsed": true,
    "ExecuteTime": {
     "end_time": "2024-01-11T02:20:42.377683606Z",
     "start_time": "2024-01-11T02:20:42.353628902Z"
    }
   },
   "outputs": [],
   "source": [
    "def sleeping_func():\n",
    "    time.sleep(2)\n",
    "    print(\"\\nHello from sleeping_func!\")"
   ]
  },
  {
   "cell_type": "code",
   "execution_count": 56,
   "metadata": {
    "ExecuteTime": {
     "end_time": "2024-01-11T02:20:42.431127569Z",
     "start_time": "2024-01-11T02:20:42.379390213Z"
    }
   },
   "outputs": [
    {
     "name": "stdout",
     "output_type": "stream",
     "text": [
      "9\n",
      "\n",
      "[<_MainThread(MainThread, started 140557962297408)>,\n",
      " <Thread(IOPub, started daemon 140557877884608)>,\n",
      " <Heartbeat(Heartbeat, started daemon 140557869491904)>,\n",
      " <Thread(Thread-3 (_watch_pipe_fd), started daemon 140557636597440)>,\n",
      " <Thread(Thread-4 (_watch_pipe_fd), started daemon 140557628204736)>,\n",
      " <ControlThread(Control, started daemon 140557619812032)>,\n",
      " <HistorySavingThread(IPythonHistorySavingThread, started 140557611419328)>,\n",
      " <ParentPollerUnix(Thread-2, started daemon 140557603026624)>,\n",
      " <Thread(Thread-25 (sleeping_func), started 140557592536768)>]\n",
      "\n",
      "<_MainThread(MainThread, started 140557962297408)>\n"
     ]
    }
   ],
   "source": [
    "x = threading.Thread(target = sleeping_func)\n",
    "\n",
    "x.start()\n",
    "\n",
    "pprint(threading.active_count())\n",
    "print()\n",
    "pprint(threading.enumerate())\n",
    "print()\n",
    "pprint(threading.current_thread())"
   ]
  },
  {
   "cell_type": "markdown",
   "metadata": {},
   "source": [
    "#### `output:` We can see that the active threads are now 6"
   ]
  },
  {
   "cell_type": "markdown",
   "metadata": {},
   "source": [
    "### Name can be assigned to the newly created thread by using the argument `name`"
   ]
  },
  {
   "cell_type": "code",
   "execution_count": 57,
   "metadata": {
    "ExecuteTime": {
     "end_time": "2024-01-11T02:20:42.476624600Z",
     "start_time": "2024-01-11T02:20:42.431307860Z"
    }
   },
   "outputs": [
    {
     "name": "stdout",
     "output_type": "stream",
     "text": [
      "10\n",
      "\n",
      "[<_MainThread(MainThread, started 140557962297408)>,\n",
      " <Thread(IOPub, started daemon 140557877884608)>,\n",
      " <Heartbeat(Heartbeat, started daemon 140557869491904)>,\n",
      " <Thread(Thread-3 (_watch_pipe_fd), started daemon 140557636597440)>,\n",
      " <Thread(Thread-4 (_watch_pipe_fd), started daemon 140557628204736)>,\n",
      " <ControlThread(Control, started daemon 140557619812032)>,\n",
      " <HistorySavingThread(IPythonHistorySavingThread, started 140557611419328)>,\n",
      " <ParentPollerUnix(Thread-2, started daemon 140557603026624)>,\n",
      " <Thread(Thread-25 (sleeping_func), started 140557592536768)>,\n",
      " <Thread(brand_new_thread, started 140557584144064)>]\n",
      "\n",
      "<_MainThread(MainThread, started 140557962297408)>\n"
     ]
    }
   ],
   "source": [
    "x = threading.Thread(target = sleeping_func, \n",
    "                     name = 'brand_new_thread')  \n",
    "\n",
    "x.start()\n",
    "\n",
    "pprint(threading.active_count())\n",
    "print()\n",
    "pprint(threading.enumerate())\n",
    "print()\n",
    "pprint(threading.current_thread())"
   ]
  },
  {
   "cell_type": "markdown",
   "metadata": {},
   "source": [
    "#### `output:` The newly created `Thread-12` is renamed as `brand_new_thread` "
   ]
  },
  {
   "cell_type": "markdown",
   "metadata": {},
   "source": [
    "#### Every process has a main thread which always get executed, in the following cell the `print(\"Executing by Main thread..\")` will be executed by the main thread"
   ]
  },
  {
   "cell_type": "code",
   "execution_count": 58,
   "metadata": {
    "ExecuteTime": {
     "end_time": "2024-01-11T02:20:42.515437394Z",
     "start_time": "2024-01-11T02:20:42.473617486Z"
    }
   },
   "outputs": [
    {
     "name": "stdout",
     "output_type": "stream",
     "text": [
      "\n",
      "This is the Main thread..\n"
     ]
    }
   ],
   "source": [
    "x = threading.Thread(target = sleeping_func)\n",
    "\n",
    "x.start() \n",
    "\n",
    "print(\"\\nThis is the Main thread..\")  "
   ]
  },
  {
   "cell_type": "markdown",
   "metadata": {},
   "source": [
    "#### `Output`: From the output it can be noticed that before the complete execution of the `func` function by the child thread the main thread is executed, to avoid that on the object of the `thread()` class, `join()` method is called.\n",
    "\n"
   ]
  },
  {
   "cell_type": "markdown",
   "metadata": {},
   "source": [
    "### `Join( )`\n",
    "\n",
    "When join( ) method is called on the child thread, it lets the child method completes the execution of the target function before the main thread is called.\n",
    "https://docs.python.org/3/library/threading.html#threading.Thread.join"
   ]
  },
  {
   "cell_type": "code",
   "execution_count": 59,
   "metadata": {
    "ExecuteTime": {
     "end_time": "2024-01-11T02:20:44.550921886Z",
     "start_time": "2024-01-11T02:20:42.478478234Z"
    }
   },
   "outputs": [
    {
     "name": "stdout",
     "output_type": "stream",
     "text": [
      "\n",
      "Hello from sleeping_func!\n",
      "\n",
      "Hello from sleeping_func!\n",
      "\n",
      "Hello from sleeping_func!\n",
      "\n",
      "Hello from sleeping_func!\n",
      "\n",
      "This is the Main thread..\n"
     ]
    }
   ],
   "source": [
    "x = threading.Thread(target = sleeping_func)\n",
    "\n",
    "x.start()\n",
    "\n",
    "x.join()\n",
    "\n",
    "print(\"\\nThis is the Main thread..\") "
   ]
  },
  {
   "cell_type": "markdown",
   "metadata": {},
   "source": [
    "#### `Output`: In the output, it can be noticed that the child thread is executing the `func()` function first than the main thread is executing the `print(\"Executing by Main thread..\")`"
   ]
  },
  {
   "cell_type": "markdown",
   "metadata": {},
   "source": [
    "### Starting the same child thread will lead to a `Runtime error`\n",
    "https://docs.python.org/3/library/threading.html#threading.Thread.start"
   ]
  },
  {
   "cell_type": "code",
   "execution_count": 60,
   "metadata": {
    "ExecuteTime": {
     "end_time": "2024-01-11T02:20:44.552849871Z",
     "start_time": "2024-01-11T02:20:44.503170925Z"
    }
   },
   "outputs": [
    {
     "ename": "RuntimeError",
     "evalue": "threads can only be started once",
     "output_type": "error",
     "traceback": [
      "\u001B[0;31m---------------------------------------------------------------------------\u001B[0m",
      "\u001B[0;31mRuntimeError\u001B[0m                              Traceback (most recent call last)",
      "Cell \u001B[0;32mIn[60], line 4\u001B[0m\n\u001B[1;32m      1\u001B[0m x \u001B[38;5;241m=\u001B[39m threading\u001B[38;5;241m.\u001B[39mThread(target \u001B[38;5;241m=\u001B[39m sleeping_func)\n\u001B[1;32m      3\u001B[0m x\u001B[38;5;241m.\u001B[39mstart()\n\u001B[0;32m----> 4\u001B[0m \u001B[43mx\u001B[49m\u001B[38;5;241;43m.\u001B[39;49m\u001B[43mstart\u001B[49m\u001B[43m(\u001B[49m\u001B[43m)\u001B[49m\n\u001B[1;32m      6\u001B[0m x\u001B[38;5;241m.\u001B[39mjoin()\n\u001B[1;32m      8\u001B[0m \u001B[38;5;28mprint\u001B[39m(\u001B[38;5;124m\"\u001B[39m\u001B[38;5;124mExecuting by Main thread..\u001B[39m\u001B[38;5;124m\"\u001B[39m) \n",
      "File \u001B[0;32m/usr/lib/python3.11/threading.py:959\u001B[0m, in \u001B[0;36mThread.start\u001B[0;34m(self)\u001B[0m\n\u001B[1;32m    956\u001B[0m     \u001B[38;5;28;01mraise\u001B[39;00m \u001B[38;5;167;01mRuntimeError\u001B[39;00m(\u001B[38;5;124m\"\u001B[39m\u001B[38;5;124mthread.__init__() not called\u001B[39m\u001B[38;5;124m\"\u001B[39m)\n\u001B[1;32m    958\u001B[0m \u001B[38;5;28;01mif\u001B[39;00m \u001B[38;5;28mself\u001B[39m\u001B[38;5;241m.\u001B[39m_started\u001B[38;5;241m.\u001B[39mis_set():\n\u001B[0;32m--> 959\u001B[0m     \u001B[38;5;28;01mraise\u001B[39;00m \u001B[38;5;167;01mRuntimeError\u001B[39;00m(\u001B[38;5;124m\"\u001B[39m\u001B[38;5;124mthreads can only be started once\u001B[39m\u001B[38;5;124m\"\u001B[39m)\n\u001B[1;32m    961\u001B[0m \u001B[38;5;28;01mwith\u001B[39;00m _active_limbo_lock:\n\u001B[1;32m    962\u001B[0m     _limbo[\u001B[38;5;28mself\u001B[39m] \u001B[38;5;241m=\u001B[39m \u001B[38;5;28mself\u001B[39m\n",
      "\u001B[0;31mRuntimeError\u001B[0m: threads can only be started once"
     ]
    }
   ],
   "source": [
    "x = threading.Thread(target = sleeping_func)\n",
    "\n",
    "x.start()\n",
    "x.start()\n",
    "\n",
    "x.join()\n",
    "\n",
    "print(\"Executing by Main thread..\") "
   ]
  },
  {
   "cell_type": "markdown",
   "metadata": {},
   "source": [
    "### To Check the name of the threads that are related for the execution of the codes or the tasks `current_thread().getName()` function is called"
   ]
  },
  {
   "cell_type": "code",
   "execution_count": 68,
   "metadata": {
    "ExecuteTime": {
     "end_time": "2024-01-11T02:24:35.092861997Z",
     "start_time": "2024-01-11T02:24:35.044102412Z"
    }
   },
   "outputs": [
    {
     "ename": "SyntaxError",
     "evalue": "invalid syntax. Perhaps you forgot a comma? (786079574.py, line 3)",
     "output_type": "error",
     "traceback": [
      "\u001B[0;36m  Cell \u001B[0;32mIn[68], line 3\u001B[0;36m\u001B[0m\n\u001B[0;31m    print(\"\\nHello from func! My name is\", threading.currentthread().name\u001B[0m\n\u001B[0m                                           ^\u001B[0m\n\u001B[0;31mSyntaxError\u001B[0m\u001B[0;31m:\u001B[0m invalid syntax. Perhaps you forgot a comma?\n"
     ]
    }
   ],
   "source": [
    "def func():\n",
    "    time.sleep(2)\n",
    "    print(\"\\nHello from func! My name is\", threading.currentthread().name\n",
    "        \n",
    "x = threading.Thread(target = func)\n",
    "\n",
    "x.start() \n",
    "x.join()\n",
    "\n",
    "print(\"\\nThis is the Main thread. My name is\", threading.currentthread().name"
   ]
  },
  {
   "cell_type": "markdown",
   "metadata": {},
   "source": [
    "#### `output`: Here it can be seen that the `func()` function is executed by child thread and the `print()` function at the last is executed by main thread"
   ]
  },
  {
   "cell_type": "markdown",
   "metadata": {},
   "source": [
    "### Till the `start()` method is called, the control over execution of the codes stays with the main thread"
   ]
  },
  {
   "cell_type": "code",
   "execution_count": null,
   "metadata": {
    "ExecuteTime": {
     "start_time": "2024-01-11T02:20:44.503407994Z"
    }
   },
   "outputs": [],
   "source": [
    "x = threading.Thread(target = func)\n",
    "\n",
    "print(threading.current_thread().getName())\n",
    "\n",
    "x.start() \n",
    "x.join() \n",
    "\n",
    "print(\"\\nThis is the Main thread. My name is\", threading.current_thread().getName()) "
   ]
  },
  {
   "cell_type": "markdown",
   "metadata": {},
   "source": [
    "#### Giving the `args` argument , this argument tuple is for the target invocation. Defaults to ().\n",
    "There is only one element inside the tuple, so one comma is given for python to understand that it's a tuple "
   ]
  },
  {
   "cell_type": "code",
   "execution_count": null,
   "metadata": {
    "collapsed": true,
    "ExecuteTime": {
     "start_time": "2024-01-11T02:20:44.503464561Z"
    }
   },
   "outputs": [],
   "source": [
    "def calc_square(n):\n",
    "    result = n * n\n",
    "   \n",
    "    print(f\"The number {n} squares to {result}.\")"
   ]
  },
  {
   "cell_type": "code",
   "execution_count": null,
   "metadata": {
    "ExecuteTime": {
     "start_time": "2024-01-11T02:20:44.503557637Z"
    }
   },
   "outputs": [],
   "source": [
    "square_list = []\n",
    "num_list = [1, 2, 3, 4]\n",
    "    \n",
    "for n in num_list:\n",
    "    \n",
    "    thread = threading.Thread(target=calc_square, args=(n, )) \n",
    "    square_list.append(thread)\n",
    "                                                                  \n",
    "    thread.start()\n",
    "    thread.join()"
   ]
  },
  {
   "cell_type": "markdown",
   "metadata": {},
   "source": [
    "### 2) Creating threads using the Thread class or By extending thread class\n",
    "When extending the Thread class, the child class can override only two methods i.e. the __init__() method and the run() method. No other method can be overridden other than these two methods."
   ]
  },
  {
   "cell_type": "markdown",
   "metadata": {},
   "source": [
    "#### A sub class  has been created by inherting the `Thread` class of the `threading` module, the `run()` method is overwritten, now object of the extended class has created and `start()` and `join()` method is invoked on that object"
   ]
  },
  {
   "cell_type": "code",
   "execution_count": 61,
   "metadata": {
    "ExecuteTime": {
     "end_time": "2024-01-11T02:20:57.780068965Z",
     "start_time": "2024-01-11T02:20:55.775576731Z"
    }
   },
   "outputs": [
    {
     "name": "stdout",
     "output_type": "stream",
     "text": [
      "\n",
      "Hello from func! My name is Thread-29\n",
      "Control returned to MainThread\n"
     ]
    },
    {
     "name": "stderr",
     "output_type": "stream",
     "text": [
      "/tmp/ipykernel_9614/1795109863.py:5: DeprecationWarning: getName() is deprecated, get the name attribute instead\n",
      "  print(\"\\nHello from func! My name is\", threading.current_thread().getName())\n",
      "/tmp/ipykernel_9614/1795109863.py:12: DeprecationWarning: getName() is deprecated, get the name attribute instead\n",
      "  print(\"Control returned to\", threading.current_thread().getName())\n"
     ]
    }
   ],
   "source": [
    "class DerivedThread(threading.Thread):\n",
    "    \n",
    "    def run(self):                   \n",
    "        time.sleep(2)\n",
    "        print(\"\\nHello from func! My name is\", threading.current_thread().getName())\n",
    "\n",
    "obj = DerivedThread()\n",
    "\n",
    "obj.start()\n",
    "obj.join()\n",
    "\n",
    "print(\"Control returned to\", threading.current_thread().getName())"
   ]
  },
  {
   "cell_type": "markdown",
   "metadata": {},
   "source": [
    "#### `output`: We can see that by calling the `start()` and `join()` method on the on the object the child thread executed the `run()` method before the main thread excutes the `print()` function"
   ]
  },
  {
   "cell_type": "markdown",
   "metadata": {},
   "source": [
    "### 3) Creating theads without extending Thread Class"
   ]
  },
  {
   "cell_type": "code",
   "execution_count": null,
   "metadata": {
    "ExecuteTime": {
     "start_time": "2024-01-11T02:20:44.503788493Z"
    }
   },
   "outputs": [],
   "source": [
    "class RegularClass:\n",
    "    \n",
    "    def print_list(self):\n",
    "        mixed_list = [7, 6, 11, 'Hello', 5.2 , 'Rose']\n",
    "        \n",
    "        for x in mixed_list:\n",
    "            print(\"Printing from child thread:\", x)\n",
    "            time.sleep(1)\n",
    "\n",
    "obj = RegularClass()\n",
    "\n",
    "x = threading.Thread(target = obj.print_list)\n",
    "\n",
    "x.start()\n",
    "x.join()\n",
    "\n",
    "print('Control returned to', threading.current_thread().getName())"
   ]
  },
  {
   "cell_type": "markdown",
   "metadata": {},
   "source": [
    "### Advantages of multithreading ( mainly It inceases the performance by reducing the response time )\n",
    "1) Enhanched performance time by decreasing the development time <br>\n",
    "2) Simplified and streamlined program coding <br>\n",
    "3) Simultaneous and prallel occurance of tasks <br>\n",
    "4) Better use of CPU resource "
   ]
  },
  {
   "cell_type": "markdown",
   "metadata": {},
   "source": [
    "### Comparision of  sequential execution of code vs. execution with multi threading"
   ]
  },
  {
   "cell_type": "code",
   "execution_count": null,
   "metadata": {
    "ExecuteTime": {
     "start_time": "2024-01-11T02:20:44.503845170Z"
    }
   },
   "outputs": [],
   "source": [
    "def greetings_1():\n",
    "        for i in range(6):\n",
    "            print(\"Hello\")\n",
    "            time.sleep(1)\n",
    "            \n",
    "def greetings_2():\n",
    "        for i in range(6):\n",
    "            print(\"World\")\n",
    "            time.sleep(1)\n",
    "            \n",
    "start_time = time.time()\n",
    "\n",
    "greetings_1()\n",
    "greetings_2()\n",
    "\n",
    "end_time = time.time()\n",
    "\n",
    "print(\"Total time:\", end_time-start_time)"
   ]
  },
  {
   "cell_type": "markdown",
   "metadata": {},
   "source": [
    "#### `output`: greetings_1( ) is executed first than the greetings_2( ), total time taken for the execution of the code is 10.03"
   ]
  },
  {
   "cell_type": "code",
   "execution_count": null,
   "metadata": {
    "ExecuteTime": {
     "start_time": "2024-01-11T02:20:44.515496867Z"
    }
   },
   "outputs": [],
   "source": [
    "def greetings_1():\n",
    "        for i in range(6):\n",
    "            print(\"Hello\")\n",
    "            time.sleep(1) # to mimic the waiting in realtime production\n",
    "            \n",
    "def greetings_2():\n",
    "        for i in range(6):\n",
    "            print(\"World\")\n",
    "            time.sleep(1)\n",
    "            \n",
    "start_time = time.time()\n",
    "\n",
    "t1 = threading.Thread(target = greetings_1)\n",
    "t2 = threading.Thread(target = greetings_2) \n",
    "\n",
    "t1.start()\n",
    "t2.start()\n",
    "\n",
    "t1.join()\n",
    "t2.join()\n",
    "\n",
    "end_time = time.time()\n",
    "\n",
    "print(\"Total time:\", end_time-start_time)"
   ]
  },
  {
   "cell_type": "markdown",
   "metadata": {},
   "source": [
    "#### `output`: Here the output of both of the function is printing simultaneously as well as the total time taken for the execution is lesser then the sequential way of executing code, which can be very beneficial for a large code"
   ]
  },
  {
   "cell_type": "markdown",
   "metadata": {},
   "source": [
    "### The output may show up in an interleaved manner due to synchronisation issues, which we'll discuss in the future demos. The main takeaway from this demo is that multithreading execution takes less time than sequential execution of the code"
   ]
  },
  {
   "cell_type": "code",
   "execution_count": null,
   "metadata": {
    "collapsed": true,
    "ExecuteTime": {
     "start_time": "2024-01-11T02:20:44.515667860Z"
    }
   },
   "outputs": [],
   "source": []
  },
  {
   "cell_type": "code",
   "execution_count": null,
   "metadata": {
    "collapsed": true,
    "ExecuteTime": {
     "start_time": "2024-01-11T02:20:44.515795361Z"
    }
   },
   "outputs": [],
   "source": []
  },
  {
   "cell_type": "code",
   "execution_count": null,
   "metadata": {
    "collapsed": true,
    "ExecuteTime": {
     "start_time": "2024-01-11T02:20:44.515900039Z"
    }
   },
   "outputs": [],
   "source": []
  },
  {
   "cell_type": "code",
   "execution_count": null,
   "metadata": {
    "collapsed": true,
    "ExecuteTime": {
     "start_time": "2024-01-11T02:20:44.515992644Z"
    }
   },
   "outputs": [],
   "source": []
  },
  {
   "cell_type": "code",
   "execution_count": null,
   "metadata": {
    "collapsed": true,
    "ExecuteTime": {
     "start_time": "2024-01-11T02:20:44.516076282Z"
    }
   },
   "outputs": [],
   "source": []
  },
  {
   "cell_type": "code",
   "execution_count": null,
   "metadata": {
    "collapsed": true,
    "ExecuteTime": {
     "start_time": "2024-01-11T02:20:44.516179738Z"
    }
   },
   "outputs": [],
   "source": []
  },
  {
   "cell_type": "code",
   "execution_count": null,
   "metadata": {
    "collapsed": true,
    "ExecuteTime": {
     "start_time": "2024-01-11T02:20:44.516249710Z"
    }
   },
   "outputs": [],
   "source": []
  },
  {
   "cell_type": "code",
   "execution_count": null,
   "metadata": {
    "collapsed": true,
    "ExecuteTime": {
     "start_time": "2024-01-11T02:20:44.526619304Z"
    }
   },
   "outputs": [],
   "source": []
  },
  {
   "cell_type": "code",
   "execution_count": null,
   "metadata": {
    "collapsed": true,
    "ExecuteTime": {
     "start_time": "2024-01-11T02:20:44.526682744Z"
    }
   },
   "outputs": [],
   "source": []
  },
  {
   "cell_type": "code",
   "execution_count": null,
   "metadata": {
    "collapsed": true,
    "ExecuteTime": {
     "start_time": "2024-01-11T02:20:44.526730484Z"
    }
   },
   "outputs": [],
   "source": []
  },
  {
   "cell_type": "code",
   "execution_count": null,
   "metadata": {
    "collapsed": true,
    "ExecuteTime": {
     "start_time": "2024-01-11T02:20:44.526776762Z"
    }
   },
   "outputs": [],
   "source": []
  },
  {
   "cell_type": "code",
   "execution_count": null,
   "metadata": {
    "collapsed": true,
    "ExecuteTime": {
     "start_time": "2024-01-11T02:20:44.526821496Z"
    }
   },
   "outputs": [],
   "source": []
  },
  {
   "cell_type": "code",
   "execution_count": null,
   "metadata": {
    "collapsed": true,
    "ExecuteTime": {
     "start_time": "2024-01-11T02:20:44.526907168Z"
    }
   },
   "outputs": [],
   "source": []
  },
  {
   "cell_type": "code",
   "execution_count": null,
   "metadata": {
    "collapsed": true,
    "ExecuteTime": {
     "start_time": "2024-01-11T02:20:44.526998040Z"
    }
   },
   "outputs": [],
   "source": []
  },
  {
   "cell_type": "code",
   "execution_count": null,
   "metadata": {
    "collapsed": true,
    "ExecuteTime": {
     "start_time": "2024-01-11T02:20:44.527082079Z"
    }
   },
   "outputs": [],
   "source": []
  },
  {
   "cell_type": "code",
   "execution_count": null,
   "metadata": {
    "collapsed": true,
    "ExecuteTime": {
     "start_time": "2024-01-11T02:20:44.527163873Z"
    }
   },
   "outputs": [],
   "source": []
  },
  {
   "cell_type": "code",
   "execution_count": null,
   "metadata": {
    "collapsed": true,
    "ExecuteTime": {
     "end_time": "2024-01-11T02:20:44.591483476Z",
     "start_time": "2024-01-11T02:20:44.573656144Z"
    }
   },
   "outputs": [],
   "source": []
  },
  {
   "cell_type": "code",
   "execution_count": null,
   "metadata": {
    "collapsed": true,
    "ExecuteTime": {
     "start_time": "2024-01-11T02:20:44.573792352Z"
    }
   },
   "outputs": [],
   "source": []
  },
  {
   "cell_type": "code",
   "execution_count": null,
   "metadata": {
    "collapsed": true,
    "ExecuteTime": {
     "start_time": "2024-01-11T02:20:44.573859960Z"
    }
   },
   "outputs": [],
   "source": []
  },
  {
   "cell_type": "code",
   "execution_count": null,
   "metadata": {
    "collapsed": true,
    "ExecuteTime": {
     "start_time": "2024-01-11T02:20:44.573919552Z"
    }
   },
   "outputs": [],
   "source": []
  },
  {
   "cell_type": "code",
   "execution_count": null,
   "metadata": {
    "collapsed": true,
    "ExecuteTime": {
     "start_time": "2024-01-11T02:20:44.573978053Z"
    }
   },
   "outputs": [],
   "source": [
    "\n",
    "\n"
   ]
  }
 ],
 "metadata": {
  "kernelspec": {
   "display_name": "Python 3",
   "language": "python",
   "name": "python3"
  },
  "language_info": {
   "codemirror_mode": {
    "name": "ipython",
    "version": 3
   },
   "file_extension": ".py",
   "mimetype": "text/x-python",
   "name": "python",
   "nbconvert_exporter": "python",
   "pygments_lexer": "ipython3",
   "version": "3.7.3"
  }
 },
 "nbformat": 4,
 "nbformat_minor": 2
}
