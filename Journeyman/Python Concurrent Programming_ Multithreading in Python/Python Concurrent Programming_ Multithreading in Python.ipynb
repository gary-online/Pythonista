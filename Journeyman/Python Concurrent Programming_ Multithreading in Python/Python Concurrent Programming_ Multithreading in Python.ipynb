{
 "cells": [
  {
   "cell_type": "code",
   "execution_count": 2,
   "id": "initial_id",
   "metadata": {
    "collapsed": true,
    "ExecuteTime": {
     "end_time": "2024-01-11T22:51:41.794121093Z",
     "start_time": "2024-01-11T22:51:41.791943395Z"
    }
   },
   "outputs": [],
   "source": [
    "import threading"
   ]
  },
  {
   "cell_type": "code",
   "outputs": [],
   "source": [
    "from pprint import pprint\n",
    "\n",
    "def new_func():\n",
    "    \n",
    "    pprint(threading.active_count())\n",
    "    pprint(threading.enumerate())\n",
    "    pprint(threading.current_thread())"
   ],
   "metadata": {
    "collapsed": false,
    "ExecuteTime": {
     "end_time": "2024-01-11T22:51:42.369665897Z",
     "start_time": "2024-01-11T22:51:42.367442964Z"
    }
   },
   "id": "ff6d2b19fcecec66",
   "execution_count": 3
  },
  {
   "cell_type": "code",
   "outputs": [
    {
     "name": "stdout",
     "output_type": "stream",
     "text": [
      "8\n",
      "[<_MainThread(MainThread, started 139723787067456)>,\n",
      " <Thread(IOPub, started daemon 139723702658752)>,\n",
      " <Heartbeat(Heartbeat, started daemon 139723694266048)>,\n",
      " <Thread(Thread-3 (_watch_pipe_fd), started daemon 139723465025216)>,\n",
      " <Thread(Thread-4 (_watch_pipe_fd), started daemon 139723456632512)>,\n",
      " <ControlThread(Control, started daemon 139723448239808)>,\n",
      " <HistorySavingThread(IPythonHistorySavingThread, started 139723439847104)>,\n",
      " <ParentPollerUnix(Thread-2, started daemon 139723431454400)>]\n",
      "<_MainThread(MainThread, started 139723787067456)>\n"
     ]
    }
   ],
   "source": [
    "new_func()"
   ],
   "metadata": {
    "collapsed": false,
    "ExecuteTime": {
     "end_time": "2024-01-11T22:51:42.997931240Z",
     "start_time": "2024-01-11T22:51:42.995754517Z"
    }
   },
   "id": "ee94441162090bff",
   "execution_count": 4
  },
  {
   "cell_type": "code",
   "outputs": [],
   "source": [
    "def func():\n",
    "    print('Hello from func!\\n')"
   ],
   "metadata": {
    "collapsed": false,
    "ExecuteTime": {
     "end_time": "2024-01-11T22:56:04.577506243Z",
     "start_time": "2024-01-11T22:56:04.534494648Z"
    }
   },
   "id": "6a1267c860910650",
   "execution_count": 5
  },
  {
   "cell_type": "code",
   "outputs": [],
   "source": [
    "x = threading.Thread(target=func)"
   ],
   "metadata": {
    "collapsed": false,
    "ExecuteTime": {
     "end_time": "2024-01-11T23:00:21.269780797Z",
     "start_time": "2024-01-11T23:00:21.217728092Z"
    }
   },
   "id": "3f174bbe9d81b766",
   "execution_count": 6
  },
  {
   "cell_type": "code",
   "outputs": [
    {
     "name": "stdout",
     "output_type": "stream",
     "text": [
      "Hello from func!\n"
     ]
    }
   ],
   "source": [
    "x.start()"
   ],
   "metadata": {
    "collapsed": false,
    "ExecuteTime": {
     "end_time": "2024-01-11T23:00:32.877801805Z",
     "start_time": "2024-01-11T23:00:32.836456292Z"
    }
   },
   "id": "20ff89fa0eb6c1a1",
   "execution_count": 7
  },
  {
   "cell_type": "code",
   "outputs": [],
   "source": [
    "import time"
   ],
   "metadata": {
    "collapsed": false,
    "ExecuteTime": {
     "end_time": "2024-01-11T23:15:29.165471063Z",
     "start_time": "2024-01-11T23:15:29.121281389Z"
    }
   },
   "id": "f2bd2b2c25b9aed6",
   "execution_count": 8
  },
  {
   "cell_type": "code",
   "outputs": [],
   "source": [
    "def sleeping_func():\n",
    "    time.sleep(2)\n",
    "    print('\\nHello from sleeping_func!\\n')"
   ],
   "metadata": {
    "collapsed": false,
    "ExecuteTime": {
     "end_time": "2024-01-11T23:17:43.591640542Z",
     "start_time": "2024-01-11T23:17:43.588393126Z"
    }
   },
   "id": "544c4e47956eed92",
   "execution_count": 14
  },
  {
   "cell_type": "code",
   "outputs": [
    {
     "name": "stdout",
     "output_type": "stream",
     "text": [
      "9\n",
      "[<_MainThread(MainThread, started 139723787067456)>,\n",
      " <Thread(IOPub, started daemon 139723702658752)>,\n",
      " <Heartbeat(Heartbeat, started daemon 139723694266048)>,\n",
      " <Thread(Thread-3 (_watch_pipe_fd), started daemon 139723465025216)>,\n",
      " <Thread(Thread-4 (_watch_pipe_fd), started daemon 139723456632512)>,\n",
      " <ControlThread(Control, started daemon 139723448239808)>,\n",
      " <HistorySavingThread(IPythonHistorySavingThread, started 139723439847104)>,\n",
      " <ParentPollerUnix(Thread-2, started daemon 139723431454400)>,\n",
      " <Thread(Thread-7 (sleeping_func), started 139723422013120)>]\n",
      "<_MainThread(MainThread, started 139723787067456)>\n"
     ]
    }
   ],
   "source": [
    "from pprint import pprint\n",
    "\n",
    "x = threading.Thread(target=sleeping_func)\n",
    "\n",
    "x.start()\n",
    "\n",
    "pprint(threading.active_count())\n",
    "pprint(threading.enumerate())\n",
    "pprint(threading.current_thread())"
   ],
   "metadata": {
    "collapsed": false,
    "ExecuteTime": {
     "end_time": "2024-01-11T23:18:03.097474902Z",
     "start_time": "2024-01-11T23:18:03.055109928Z"
    }
   },
   "id": "385b11590f5e140f",
   "execution_count": 16
  },
  {
   "cell_type": "code",
   "outputs": [
    {
     "name": "stdout",
     "output_type": "stream",
     "text": [
      "\n",
      "Hello from sleeping_func!\n",
      "\n",
      "8\n",
      "[<_MainThread(MainThread, started 139723787067456)>,\n",
      " <Thread(IOPub, started daemon 139723702658752)>,\n",
      " <Heartbeat(Heartbeat, started daemon 139723694266048)>,\n",
      " <Thread(Thread-3 (_watch_pipe_fd), started daemon 139723465025216)>,\n",
      " <Thread(Thread-4 (_watch_pipe_fd), started daemon 139723456632512)>,\n",
      " <ControlThread(Control, started daemon 139723448239808)>,\n",
      " <HistorySavingThread(IPythonHistorySavingThread, started 139723439847104)>,\n",
      " <ParentPollerUnix(Thread-2, started daemon 139723431454400)>]\n",
      "<_MainThread(MainThread, started 139723787067456)>\n"
     ]
    }
   ],
   "source": [
    "x = threading.Thread(target=sleeping_func(), name='brand_new_thread')\n",
    "\n",
    "x.start()\n",
    "\n",
    "pprint(threading.active_count())\n",
    "pprint(threading.enumerate())\n",
    "pprint(threading.current_thread())"
   ],
   "metadata": {
    "collapsed": false,
    "ExecuteTime": {
     "end_time": "2024-01-11T23:20:28.574457355Z",
     "start_time": "2024-01-11T23:20:26.572542518Z"
    }
   },
   "id": "f44b9dbd6000b72f",
   "execution_count": 18
  },
  {
   "cell_type": "code",
   "outputs": [
    {
     "name": "stdout",
     "output_type": "stream",
     "text": [
      "\n",
      "Hello from sleeping_func!\n",
      "\n",
      "\n",
      " Thread now\n"
     ]
    }
   ],
   "source": [
    "x = threading.Thread(target=sleeping_func())\n",
    "\n",
    "x.start()\n",
    "\n",
    "print('\\n Thread now')"
   ],
   "metadata": {
    "collapsed": false,
    "ExecuteTime": {
     "end_time": "2024-01-11T23:25:39.018206233Z",
     "start_time": "2024-01-11T23:25:37.017380033Z"
    }
   },
   "id": "9720d47c69d439b7",
   "execution_count": 21
  },
  {
   "cell_type": "code",
   "outputs": [
    {
     "name": "stdout",
     "output_type": "stream",
     "text": [
      "\n",
      "Hello from sleeping_func!\n",
      "\n",
      "\n",
      " Thread now\n"
     ]
    }
   ],
   "source": [
    "x = threading.Thread(target=sleeping_func())\n",
    "\n",
    "x.start()\n",
    "\n",
    "x.join()\n",
    "\n",
    "print('\\n Thread now')"
   ],
   "metadata": {
    "collapsed": false,
    "ExecuteTime": {
     "end_time": "2024-01-11T23:25:41.021546385Z",
     "start_time": "2024-01-11T23:25:39.019450436Z"
    }
   },
   "id": "603385ee8a98e9f",
   "execution_count": 22
  },
  {
   "cell_type": "code",
   "outputs": [
    {
     "name": "stdout",
     "output_type": "stream",
     "text": [
      "\n",
      "Hello from sleeping_func!\n",
      "\n",
      "\n",
      " Main thread now\n"
     ]
    }
   ],
   "source": [
    "x = threading.Thread(target=sleeping_func())\n",
    "\n",
    "x.start()\n",
    "x.join()\n",
    "\n",
    "print('\\n Main thread now')"
   ],
   "metadata": {
    "collapsed": false,
    "ExecuteTime": {
     "end_time": "2024-01-11T23:27:18.915192650Z",
     "start_time": "2024-01-11T23:27:16.911522555Z"
    }
   },
   "id": "8eec9a1287e13a92",
   "execution_count": 23
  },
  {
   "cell_type": "code",
   "outputs": [
    {
     "name": "stdout",
     "output_type": "stream",
     "text": [
      "\n",
      "Hello from sleeping_func!\n"
     ]
    },
    {
     "ename": "RuntimeError",
     "evalue": "threads can only be started once",
     "output_type": "error",
     "traceback": [
      "\u001B[0;31m---------------------------------------------------------------------------\u001B[0m",
      "\u001B[0;31mRuntimeError\u001B[0m                              Traceback (most recent call last)",
      "Cell \u001B[0;32mIn[26], line 4\u001B[0m\n\u001B[1;32m      1\u001B[0m x \u001B[38;5;241m=\u001B[39m threading\u001B[38;5;241m.\u001B[39mThread(target\u001B[38;5;241m=\u001B[39msleeping_func())\n\u001B[1;32m      3\u001B[0m x\u001B[38;5;241m.\u001B[39mstart()\n\u001B[0;32m----> 4\u001B[0m \u001B[43mx\u001B[49m\u001B[38;5;241;43m.\u001B[39;49m\u001B[43mstart\u001B[49m\u001B[43m(\u001B[49m\u001B[43m)\u001B[49m\n\u001B[1;32m      5\u001B[0m x\u001B[38;5;241m.\u001B[39mjoin()\n\u001B[1;32m      7\u001B[0m \u001B[38;5;28mprint\u001B[39m(\u001B[38;5;124m'\u001B[39m\u001B[38;5;130;01m\\n\u001B[39;00m\u001B[38;5;124m Main thread now\u001B[39m\u001B[38;5;124m'\u001B[39m)\n",
      "File \u001B[0;32m/usr/lib/python3.11/threading.py:959\u001B[0m, in \u001B[0;36mThread.start\u001B[0;34m(self)\u001B[0m\n\u001B[1;32m    956\u001B[0m     \u001B[38;5;28;01mraise\u001B[39;00m \u001B[38;5;167;01mRuntimeError\u001B[39;00m(\u001B[38;5;124m\"\u001B[39m\u001B[38;5;124mthread.__init__() not called\u001B[39m\u001B[38;5;124m\"\u001B[39m)\n\u001B[1;32m    958\u001B[0m \u001B[38;5;28;01mif\u001B[39;00m \u001B[38;5;28mself\u001B[39m\u001B[38;5;241m.\u001B[39m_started\u001B[38;5;241m.\u001B[39mis_set():\n\u001B[0;32m--> 959\u001B[0m     \u001B[38;5;28;01mraise\u001B[39;00m \u001B[38;5;167;01mRuntimeError\u001B[39;00m(\u001B[38;5;124m\"\u001B[39m\u001B[38;5;124mthreads can only be started once\u001B[39m\u001B[38;5;124m\"\u001B[39m)\n\u001B[1;32m    961\u001B[0m \u001B[38;5;28;01mwith\u001B[39;00m _active_limbo_lock:\n\u001B[1;32m    962\u001B[0m     _limbo[\u001B[38;5;28mself\u001B[39m] \u001B[38;5;241m=\u001B[39m \u001B[38;5;28mself\u001B[39m\n",
      "\u001B[0;31mRuntimeError\u001B[0m: threads can only be started once"
     ]
    }
   ],
   "source": [
    "x = threading.Thread(target=sleeping_func())\n",
    "\n",
    "x.start()\n",
    "x.start()\n",
    "x.join()\n",
    "\n",
    "print('\\n Main thread now')"
   ],
   "metadata": {
    "collapsed": false,
    "ExecuteTime": {
     "end_time": "2024-01-11T23:28:49.951455034Z",
     "start_time": "2024-01-11T23:28:47.797356004Z"
    }
   },
   "id": "4e80485a9edab0d3",
   "execution_count": 26
  },
  {
   "cell_type": "code",
   "outputs": [
    {
     "name": "stdout",
     "output_type": "stream",
     "text": [
      "\n",
      " Hello from func! My name is <Thread(Thread-16 (func), started 139723422013120)>\n",
      "\n",
      " This is the Main thread. My name is <_MainThread(MainThread, started 139723787067456)>\n"
     ]
    }
   ],
   "source": [
    "def func():\n",
    "    time.sleep(2)\n",
    "    print('\\n Hello from func! My name is', threading.current_thread())\n",
    "    \n",
    "x = threading.Thread(target=func)\n",
    "\n",
    "x.start()\n",
    "x.join()\n",
    "\n",
    "print('\\n This is the Main thread. My name is', threading.current_thread())"
   ],
   "metadata": {
    "collapsed": false,
    "ExecuteTime": {
     "end_time": "2024-01-11T23:34:01.961347347Z",
     "start_time": "2024-01-11T23:33:59.959749356Z"
    }
   },
   "id": "b0f6ee1cd398df8c",
   "execution_count": 27
  },
  {
   "cell_type": "code",
   "outputs": [],
   "source": [
    "def calc_square(n):\n",
    "    result = n * n\n",
    "    \n",
    "    print(f'The number {n} squared is {result}')"
   ],
   "metadata": {
    "collapsed": false,
    "ExecuteTime": {
     "end_time": "2024-01-11T23:35:36.353046016Z",
     "start_time": "2024-01-11T23:35:36.345802082Z"
    }
   },
   "id": "3dfdc78d6277731f",
   "execution_count": 28
  },
  {
   "cell_type": "code",
   "outputs": [
    {
     "name": "stdout",
     "output_type": "stream",
     "text": [
      "The number 1 squared is 1\n",
      "The number 2 squared is 4\n",
      "The number 3 squared is 9\n",
      "The number 4 squared is 16\n"
     ]
    }
   ],
   "source": [
    "square_list = []\n",
    "num_list = [1, 2, 3, 4]\n",
    "\n",
    "for n in num_list:\n",
    "    \n",
    "    thread = threading.Thread(target=calc_square, args=(n,))\n",
    "    square_list.append(thread)\n",
    "    \n",
    "    thread.start()\n",
    "    thread.join()"
   ],
   "metadata": {
    "collapsed": false,
    "ExecuteTime": {
     "end_time": "2024-01-11T23:37:12.309349181Z",
     "start_time": "2024-01-11T23:37:12.268635794Z"
    }
   },
   "id": "8a9318ace9913667",
   "execution_count": 29
  },
  {
   "cell_type": "code",
   "outputs": [
    {
     "name": "stdout",
     "output_type": "stream",
     "text": [
      "\n",
      "Hello from DerivedThread <DerivedThread(Thread-22, started 139723422013120)>\n",
      "Control returned to DerivedThread <_MainThread(MainThread, started 139723787067456)>\n"
     ]
    }
   ],
   "source": [
    "class DerivedThread(threading.Thread):\n",
    "    \n",
    "    def run(self):\n",
    "        time.sleep(2)\n",
    "        print('\\nHello from DerivedThread', threading.current_thread())\n",
    "        \n",
    "obj = DerivedThread()\n",
    "\n",
    "obj.start()\n",
    "obj.join()\n",
    "\n",
    "print('Control returned to DerivedThread', threading.current_thread())"
   ],
   "metadata": {
    "collapsed": false,
    "ExecuteTime": {
     "end_time": "2024-01-11T23:40:25.296757170Z",
     "start_time": "2024-01-11T23:40:23.294452318Z"
    }
   },
   "id": "9ed1e3c388e1633d",
   "execution_count": 31
  },
  {
   "cell_type": "code",
   "outputs": [
    {
     "name": "stdout",
     "output_type": "stream",
     "text": [
      "Printing from child thread: 7\n",
      "Printing from child thread: 6\n",
      "Printing from child thread: 11\n",
      "Printing from child thread: Hello\n",
      "Printing from child thread: 5.2\n",
      "Printing from child thread: None\n",
      "Control returned to <_MainThread(MainThread, started 139723787067456)>\n"
     ]
    }
   ],
   "source": [
    "class RegularClass:\n",
    "    \n",
    "    def print_list(self):\n",
    "        mixed_list = [7, 6, 11, 'Hello', 5.2, 'None']\n",
    "        \n",
    "        for x in mixed_list:\n",
    "            print('Printing from child thread:', x)\n",
    "            time.sleep(1)\n",
    "            \n",
    "obj = RegularClass()\n",
    "\n",
    "x = threading.Thread(target=obj.print_list)\n",
    "\n",
    "x.start()\n",
    "x.join()\n",
    "\n",
    "print('Control returned to', threading.current_thread())"
   ],
   "metadata": {
    "collapsed": false,
    "ExecuteTime": {
     "end_time": "2024-01-11T23:46:43.012495697Z",
     "start_time": "2024-01-11T23:46:37.005329971Z"
    }
   },
   "id": "6448126acc18adca",
   "execution_count": 32
  },
  {
   "cell_type": "code",
   "outputs": [
    {
     "name": "stdout",
     "output_type": "stream",
     "text": [
      "Hello\n",
      "Hello\n",
      "Hello\n",
      "Hello\n",
      "Hello\n",
      "Hello\n",
      "World\n",
      "World\n",
      "World\n",
      "World\n",
      "World\n",
      "World\n",
      "Total time: 12.001798868179321\n"
     ]
    }
   ],
   "source": [
    "def greetings_1():\n",
    "        for i in range(6):\n",
    "            print('Hello')\n",
    "            time.sleep(1)\n",
    "\n",
    "def greetings_2():\n",
    "        for i in range(6):\n",
    "            print(\"World\")\n",
    "            time.sleep(1)\n",
    "\n",
    "start_time = time.time()\n",
    "\n",
    "greetings_1()\n",
    "greetings_2()\n",
    "\n",
    "end_time = time.time()\n",
    "\n",
    "print('Total time:', end_time - start_time)"
   ],
   "metadata": {
    "collapsed": false,
    "ExecuteTime": {
     "end_time": "2024-01-11T23:52:20.937814328Z",
     "start_time": "2024-01-11T23:52:08.934540087Z"
    }
   },
   "id": "a93b64d28006c370",
   "execution_count": 34
  },
  {
   "cell_type": "code",
   "outputs": [
    {
     "name": "stdout",
     "output_type": "stream",
     "text": [
      "Hello\n",
      "World\n",
      "Hello\n",
      "World\n",
      "Hello\n",
      "World\n",
      "Hello\n",
      "World\n",
      "Hello\n",
      "World\n",
      "Hello\n",
      "World\n",
      "Total time: 6.001224994659424\n"
     ]
    }
   ],
   "source": [
    "def greetings_1():\n",
    "        for i in range(6):\n",
    "            print('Hello')\n",
    "            time.sleep(1)\n",
    "\n",
    "def greetings_2():\n",
    "        for i in range(6):\n",
    "            print(\"World\")\n",
    "            time.sleep(1)\n",
    "\n",
    "start_time = time.time()\n",
    "\n",
    "t1 = threading.Thread(target=greetings_1)\n",
    "t2 = threading.Thread(target=greetings_2)\n",
    "\n",
    "t1.start()\n",
    "t2.start()\n",
    "\n",
    "t1.join()\n",
    "t2.join()\n",
    "\n",
    "end_time = time.time()\n",
    "\n",
    "print('Total time:', end_time - start_time)"
   ],
   "metadata": {
    "collapsed": false,
    "ExecuteTime": {
     "end_time": "2024-01-11T23:56:09.122418951Z",
     "start_time": "2024-01-11T23:56:03.120311482Z"
    }
   },
   "id": "aaa56fb6e55699bd",
   "execution_count": 36
  },
  {
   "cell_type": "code",
   "outputs": [],
   "source": [],
   "metadata": {
    "collapsed": false
   },
   "id": "937bdcdae3b1f6f1"
  }
 ],
 "metadata": {
  "kernelspec": {
   "display_name": "Python 3",
   "language": "python",
   "name": "python3"
  },
  "language_info": {
   "codemirror_mode": {
    "name": "ipython",
    "version": 2
   },
   "file_extension": ".py",
   "mimetype": "text/x-python",
   "name": "python",
   "nbconvert_exporter": "python",
   "pygments_lexer": "ipython2",
   "version": "2.7.6"
  }
 },
 "nbformat": 4,
 "nbformat_minor": 5
}
