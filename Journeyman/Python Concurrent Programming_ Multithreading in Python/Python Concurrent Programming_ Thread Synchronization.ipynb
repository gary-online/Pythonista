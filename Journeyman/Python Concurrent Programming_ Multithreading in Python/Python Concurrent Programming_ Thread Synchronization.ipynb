{
 "cells": [
  {
   "cell_type": "code",
   "outputs": [],
   "source": [
    "import threading\n",
    "import time\n",
    "import random"
   ],
   "metadata": {
    "collapsed": true,
    "ExecuteTime": {
     "end_time": "2024-01-13T01:04:52.028891546Z",
     "start_time": "2024-01-13T01:04:52.012082830Z"
    }
   },
   "id": "initial_id",
   "execution_count": 1
  },
  {
   "cell_type": "code",
   "outputs": [],
   "source": [
    "amount = 0"
   ],
   "metadata": {
    "collapsed": false
   },
   "id": "90b2d0dece45674c",
   "execution_count": null
  },
  {
   "cell_type": "code",
   "outputs": [],
   "source": [
    "def deposit(dep_amount):\n",
    "    \n",
    "    global amount\n",
    "    \n",
    "    for i in range(dep_amount):\n",
    "        amount += 1"
   ],
   "metadata": {
    "collapsed": false
   },
   "id": "b8b7d6884ad023ee",
   "execution_count": null
  },
  {
   "cell_type": "code",
   "outputs": [],
   "source": [
    "def two_deposit_threads(dep_amount):\n",
    "    \n",
    "    t1 = threading.Thread(target=deposit,\n",
    "                          args=(dep_amount, ))\n",
    "    t2 = threading.Thread(target=deposit,\n",
    "                          args=(dep_amount,))\n",
    "    \n",
    "    t1.start()\n",
    "    t2.start()\n",
    "    \n",
    "    t1.join()\n",
    "    t2.join()"
   ],
   "metadata": {
    "collapsed": false
   },
   "id": "33a32c195356ad37",
   "execution_count": null
  },
  {
   "cell_type": "code",
   "outputs": [],
   "source": [
    "two_deposit_threads(10)\n",
    "\n",
    "print('Balance amount = {0}'.format(amount))"
   ],
   "metadata": {
    "collapsed": false
   },
   "id": "dc2e647c22caebf7",
   "execution_count": null
  },
  {
   "cell_type": "code",
   "outputs": [],
   "source": [
    "amount = 0\n",
    "two_deposit_threads(1000)\n",
    "\n",
    "print('Balance amount = {0}'.format(amount))"
   ],
   "metadata": {
    "collapsed": false
   },
   "id": "87a6dbdec02b5843",
   "execution_count": null
  },
  {
   "cell_type": "code",
   "outputs": [],
   "source": [
    "amount = 0\n",
    "two_deposit_threads(1000000)\n",
    "\n",
    "print('Balance amount = {0}'.format(amount))"
   ],
   "metadata": {
    "collapsed": false
   },
   "id": "337c1081df3301ae",
   "execution_count": null
  },
  {
   "cell_type": "code",
   "outputs": [],
   "source": [
    "def deposit(dep_amount, dep_lock):\n",
    "    \n",
    "    global amount\n",
    "    \n",
    "    for i in range(dep_amount):\n",
    "        \n",
    "        dep_lock.acquire()\n",
    "        \n",
    "        amount += 1\n",
    "        \n",
    "        dep_lock.release()"
   ],
   "metadata": {
    "collapsed": false
   },
   "id": "864302f16d186102",
   "execution_count": null
  },
  {
   "cell_type": "code",
   "outputs": [],
   "source": [
    "def two_deposit_threads(dep_amount):\n",
    "    \n",
    "    lock = threading.Lock()\n",
    "    \n",
    "    t1 = threading.Thread(target=deposit,\n",
    "                          args=(dep_amount, lock))\n",
    "    t2 = threading.Thread(target=deposit,\n",
    "                          args=(dep_amount, lock))\n",
    "    \n",
    "    t1.start()\n",
    "    t2.start()\n",
    "    \n",
    "    t1.join()\n",
    "    t2.join()"
   ],
   "metadata": {
    "collapsed": false
   },
   "id": "ab2e9aef3ba3ac08",
   "execution_count": null
  },
  {
   "cell_type": "code",
   "outputs": [],
   "source": [
    "amount = 0\n",
    "two_deposit_threads(1000000)\n",
    "\n",
    "print('Balance amount = {0}'.format(amount))"
   ],
   "metadata": {
    "collapsed": false
   },
   "id": "278b1cfe5ea41646",
   "execution_count": null
  },
  {
   "cell_type": "code",
   "outputs": [],
   "source": [
    "def deposit(dep_amount, dep_lock):\n",
    "    \n",
    "    global amount\n",
    "    \n",
    "    for i in range(dep_amount):\n",
    "        \n",
    "        amount += 1\n",
    "        \n",
    "        dep_lock.release()"
   ],
   "metadata": {
    "collapsed": false
   },
   "id": "7e12bb640b315763",
   "execution_count": null
  },
  {
   "cell_type": "code",
   "outputs": [],
   "source": [
    "amount = 0\n",
    "two_deposit_threads(1000000)\n",
    "\n",
    "print('Balance amount = {0}'.format(amount))"
   ],
   "metadata": {
    "collapsed": false
   },
   "id": "1a4cc3ffb49b314b",
   "execution_count": null
  },
  {
   "cell_type": "code",
   "outputs": [],
   "source": [
    "lock = threading.Lock()\n",
    "\n",
    "print('First try :', lock.acquire())\n",
    "print('Second try :', lock.acquire(timeout=3))"
   ],
   "metadata": {
    "collapsed": false
   },
   "id": "6473cdaa9824a72d",
   "execution_count": null
  },
  {
   "cell_type": "code",
   "outputs": [],
   "source": [
    "lock = threading.RLock()\n",
    "\n",
    "print('First try :', lock.acquire())\n",
    "print('Second try :', lock.acquire())\n",
    "print('Third try :', lock.acquire())"
   ],
   "metadata": {
    "collapsed": false
   },
   "id": "61bc9a07968345ae",
   "execution_count": null
  },
  {
   "cell_type": "code",
   "outputs": [],
   "source": [
    "import time\n"
   ],
   "metadata": {
    "collapsed": false
   },
   "id": "76ecb3335b91be9",
   "execution_count": null
  },
  {
   "cell_type": "code",
   "outputs": [],
   "source": [
    "data_one = 3\n",
    "data_two = 5"
   ],
   "metadata": {
    "collapsed": false
   },
   "id": "1d86b3d125f6d372",
   "execution_count": null
  },
  {
   "cell_type": "code",
   "outputs": [],
   "source": [
    "def my_process(lock_one, lock_two):\n",
    "    \n",
    "    global data_one\n",
    "    global data_two\n",
    "    \n",
    "    lock_one.acquire()\n",
    "    print(threading.current_thread().name, 'incrementing data_one')\n",
    "    data_one += 1\n",
    "    time.sleep(1)\n",
    "    \n",
    "    lock_two.acquire()\n",
    "    print(threading.current_thread().name, 'incrementing data_two')\n",
    "    data_two += 1\n",
    "    time.sleep(1)\n",
    "    \n",
    "    lock_one.release()\n",
    "    lock_two.release()"
   ],
   "metadata": {
    "collapsed": false
   },
   "id": "c538884ddda8053",
   "execution_count": null
  },
  {
   "cell_type": "code",
   "outputs": [],
   "source": [
    "lock_one = threading.Lock()\n",
    "lock_two = threading.Lock()"
   ],
   "metadata": {
    "collapsed": false
   },
   "id": "b2f0072118f22ffe",
   "execution_count": null
  },
  {
   "cell_type": "code",
   "outputs": [],
   "source": [
    "t1 = threading.Thread(target=my_process,\n",
    "                      args=(lock_one, lock_two))\n",
    "t2 = threading.Thread(target=my_process,\n",
    "                      args=(lock_two, lock_one))\n",
    "\n",
    "t1.start()\n",
    "t2.start()\n",
    "\n",
    "t1.join()\n",
    "t2.join()"
   ],
   "metadata": {
    "collapsed": false
   },
   "id": "daaef723a20d5c2f",
   "execution_count": null
  },
  {
   "cell_type": "code",
   "outputs": [],
   "source": [
    "data_one = 3\n",
    "data_two = 5\n",
    "\n",
    "lock_one = threading.Lock()\n",
    "lock_two = threading.Lock()"
   ],
   "metadata": {
    "collapsed": false
   },
   "id": "53d660bc074c4259",
   "execution_count": null
  },
  {
   "cell_type": "code",
   "outputs": [],
   "source": [
    "t1 = threading.Thread(target=my_process,\n",
    "                       args=(lock_one, lock_two))\n",
    "t2 = threading.Thread(target=my_process,\n",
    "                       args=(lock_one, lock_two))\n",
    "\n",
    "t1.start()\n",
    "t2.start()\n",
    "\n",
    "t1.join()\n",
    "t2.join()"
   ],
   "metadata": {
    "collapsed": false
   },
   "id": "21b252cf8ba50f92",
   "execution_count": null
  },
  {
   "cell_type": "code",
   "outputs": [],
   "source": [
    "print('data_one :', data_one)\n",
    "print('data_two :', data_two)"
   ],
   "metadata": {
    "collapsed": false
   },
   "id": "f81e822ddddb2a94",
   "execution_count": null
  },
  {
   "cell_type": "code",
   "outputs": [],
   "source": [
    "def my_process(lock_one, lock_two):\n",
    "    \n",
    "    global data_one\n",
    "    global data_two\n",
    "    \n",
    "    lock.one.acquire()\n",
    "    print(threading.current_thread().name, ' incrementing data_one')\n",
    "    data_one += 1\n",
    "    time.sleep(1)\n",
    "    \n",
    "    lock_one.release()\n",
    "    \n",
    "    lock_two.acquire()\n",
    "    print(threading.current_thread().name, ' incrementing data_two')\n",
    "    data_two += 1\n",
    "    time.sleep(1)\n",
    "    \n",
    "    lock_two.release()"
   ],
   "metadata": {
    "collapsed": false
   },
   "id": "ec566dd9155b1a73",
   "execution_count": null
  },
  {
   "cell_type": "code",
   "outputs": [],
   "source": [
    "data_one = 3\n",
    "data_two = 5\n",
    "\n",
    "lock_one = threading.Lock()\n",
    "lock_two = threading.Lock()"
   ],
   "metadata": {
    "collapsed": false
   },
   "id": "f198f5b7b5f11acf",
   "execution_count": null
  },
  {
   "cell_type": "code",
   "outputs": [],
   "source": [
    "t1 = threading.Thread(target=my_process,\n",
    "                      args=(lock_one, lock_two))\n",
    "t2 = threading.Thread(target=my_process,\n",
    "                      args=(lock_two, lock_one))\n",
    "\n",
    "t1.start()\n",
    "t2.start()\n",
    "\n",
    "t1.join()\n",
    "t2.join()"
   ],
   "metadata": {
    "collapsed": false
   },
   "id": "8e3c4be05fe8e698",
   "execution_count": null
  },
  {
   "cell_type": "code",
   "outputs": [],
   "source": [
    "print('data_one :', data_one)\n",
    "print('data_two :', data_two)"
   ],
   "metadata": {
    "collapsed": false
   },
   "id": "31e2fec3dde054bd",
   "execution_count": null
  },
  {
   "cell_type": "code",
   "outputs": [],
   "source": [
    "semaphore = threading.Semaphore()"
   ],
   "metadata": {
    "collapsed": false
   },
   "id": "7fa1aae1342bb599",
   "execution_count": null
  },
  {
   "cell_type": "code",
   "outputs": [],
   "source": [
    "def my_func():\n",
    "    \n",
    "    semaphore.acquire()\n",
    "    \n",
    "    time.sleep(0.1)\n",
    "    print(threading.current_thread().name, 'acquired the semaphore.')\n",
    "    print('Semaphore value after acquire: ', semaphore._value)\n",
    "    \n",
    "    time.sleep(5)\n",
    "    \n",
    "    semaphore.release()\n",
    "    \n",
    "    print('Semaphore value after release: ', semaphore._value)"
   ],
   "metadata": {
    "collapsed": false
   },
   "id": "3dcf08f53ff5b3c4",
   "execution_count": null
  },
  {
   "cell_type": "code",
   "outputs": [],
   "source": [
    "t1 = threading.Thread(target=my_func)\n",
    "t2= threading.Thread(target=my_func)\n",
    "\n",
    "print('Initial semaphore value: ', semaphore._value)"
   ],
   "metadata": {
    "collapsed": false
   },
   "id": "180984b2f71dafaf",
   "execution_count": null
  },
  {
   "cell_type": "code",
   "outputs": [],
   "source": [
    "start_time = time.time()\n",
    "\n",
    "t1.start()\n",
    "t2.start()\n",
    "\n",
    "t1.join()\n",
    "t2.join()\n",
    "\n",
    "end_time = time.time()"
   ],
   "metadata": {
    "collapsed": false
   },
   "id": "f09a6927e7f3fa37",
   "execution_count": null
  },
  {
   "cell_type": "code",
   "outputs": [],
   "source": [
    "print('Total time: ', end_time - start_time)"
   ],
   "metadata": {
    "collapsed": false
   },
   "id": "871a335796789d79",
   "execution_count": null
  },
  {
   "cell_type": "code",
   "outputs": [],
   "source": [
    "semaphore = threading.Semaphore(value=3)"
   ],
   "metadata": {
    "collapsed": false
   },
   "id": "77bd90b999c4c9c6",
   "execution_count": null
  },
  {
   "cell_type": "code",
   "outputs": [],
   "source": [
    "t1 = threading.Thread(target=my_func())\n",
    "t2 = threading.Thread(target=my_func())\n",
    "t3 = threading.Thread(target=my_func())\n",
    "t4 = threading.Thread(target=my_func())\n",
    "t5 = threading.Thread(target=my_func())\n",
    "t6 = threading.Thread(target=my_func())\n",
    "t7 = threading.Thread(target=my_func())\n",
    "t8 = threading.Thread(target=my_func())"
   ],
   "metadata": {
    "collapsed": false
   },
   "id": "3df6b4eced53bd05",
   "execution_count": null
  },
  {
   "cell_type": "code",
   "outputs": [],
   "source": [
    "start_time = time.time()\n",
    "\n",
    "t1 = threading.Thread(target=my_func())\n",
    "t2 = threading.Thread(target=my_func())\n",
    "t3 = threading.Thread(target=my_func())\n",
    "t4 = threading.Thread(target=my_func())\n",
    "t5 = threading.Thread(target=my_func())\n",
    "t6 = threading.Thread(target=my_func())\n",
    "t7 = threading.Thread(target=my_func())\n",
    "t8 = threading.Thread(target=my_func())\n",
    "\n",
    "t1.start()\n",
    "t2.start()\n",
    "t3.start()\n",
    "t4.start()\n",
    "t5.start()\n",
    "t6.start()\n",
    "t7.start()\n",
    "t8.start()\n",
    "\n",
    "t1.join()\n",
    "t2.join()\n",
    "t3.join()\n",
    "t4.join()\n",
    "t5.join()\n",
    "t6.join()\n",
    "t7.join()\n",
    "t8.join()\n",
    "\n",
    "end_time = time.time()"
   ],
   "metadata": {
    "collapsed": false
   },
   "id": "155b51920ea70be0",
   "execution_count": null
  },
  {
   "cell_type": "code",
   "outputs": [],
   "source": [
    "print(\"Total time:\", end_time - start_time)"
   ],
   "metadata": {
    "collapsed": false
   },
   "id": "6cddbe4ded4d489e",
   "execution_count": null
  },
  {
   "cell_type": "code",
   "outputs": [],
   "source": [
    "semaphore = threading.Semaphore(-1)"
   ],
   "metadata": {
    "collapsed": false
   },
   "id": "756da25afbf2b681",
   "execution_count": null
  },
  {
   "cell_type": "code",
   "outputs": [],
   "source": [
    "semaphore = threading.Semaphore(0)"
   ],
   "metadata": {
    "collapsed": false,
    "ExecuteTime": {
     "end_time": "2024-01-13T01:05:14.511423019Z",
     "start_time": "2024-01-13T01:05:14.500077251Z"
    }
   },
   "id": "3e7916cbc504332d",
   "execution_count": 2
  },
  {
   "cell_type": "code",
   "outputs": [],
   "source": [
    "order_num = 0"
   ],
   "metadata": {
    "collapsed": false,
    "ExecuteTime": {
     "end_time": "2024-01-13T01:05:14.936796347Z",
     "start_time": "2024-01-13T01:05:14.927045494Z"
    }
   },
   "id": "556b0087a10c620c",
   "execution_count": 3
  },
  {
   "cell_type": "code",
   "outputs": [],
   "source": [
    "def place_order():\n",
    "    print(\"Order placed.\")\n",
    "    semaphore.acquire()\n",
    "    print(\"Customer order number is: \", order_num)"
   ],
   "metadata": {
    "collapsed": false,
    "ExecuteTime": {
     "end_time": "2024-01-13T01:05:15.616263640Z",
     "start_time": "2024-01-13T01:05:15.608777278Z"
    }
   },
   "id": "b936e35a89f39d",
   "execution_count": 4
  },
  {
   "cell_type": "code",
   "outputs": [],
   "source": [
    "def prepare_order():\n",
    "    \n",
    "    global order_num\n",
    "    time.sleep(3)\n",
    "    order_num += 1\n",
    "    \n",
    "    print(\"Preparing order number.\", order_num)\n",
    "    semaphore.release()"
   ],
   "metadata": {
    "collapsed": false,
    "ExecuteTime": {
     "end_time": "2024-01-13T01:05:17.553325223Z",
     "start_time": "2024-01-13T01:05:17.542550214Z"
    }
   },
   "id": "38323f4b86c64fd5",
   "execution_count": 5
  },
  {
   "cell_type": "code",
   "outputs": [
    {
     "name": "stdout",
     "output_type": "stream",
     "text": [
      "Order placed.\n",
      "Preparing order number. 1\n",
      "Customer order number is:  1\n",
      "Order placed.\n",
      "Preparing order number. 2\n",
      "Customer order number is:  2\n",
      "Order placed.\n",
      "Preparing order number. 3\n",
      "Customer order number is:  3\n",
      "Order placed.\n",
      "Preparing order number. 4\n",
      "Customer order number is:  4\n",
      "Order placed.\n",
      "Preparing order number. 5\n",
      "Customer order number is:  5\n",
      "Order placed.\n",
      "Preparing order number. 6\n",
      "Customer order number is:  6\n",
      "Program terminated.\n"
     ]
    }
   ],
   "source": [
    "for i in range (0, 6):\n",
    "    \n",
    "    t1 = threading.Thread(target=place_order)\n",
    "    t2 = threading.Thread(target=prepare_order)\n",
    "    \n",
    "    t1.start()\n",
    "    t2.start()\n",
    "    \n",
    "    t1.join()\n",
    "    t2.join()\n",
    "    \n",
    "print(\"Program terminated.\")"
   ],
   "metadata": {
    "collapsed": false,
    "ExecuteTime": {
     "end_time": "2024-01-13T01:05:54.780209916Z",
     "start_time": "2024-01-13T01:05:36.772894857Z"
    }
   },
   "id": "86f90a3b511dac5e",
   "execution_count": 6
  },
  {
   "cell_type": "code",
   "outputs": [],
   "source": [
    "semaphore = threading.Semaphore()\n",
    "\n",
    "semaphore._value"
   ],
   "metadata": {
    "collapsed": false
   },
   "id": "454e583b40a33b0f",
   "execution_count": null
  },
  {
   "cell_type": "code",
   "outputs": [],
   "source": [
    "semaphore.acquire()\n",
    "\n",
    "semaphore._value"
   ],
   "metadata": {
    "collapsed": false
   },
   "id": "a1d367d8cb193892",
   "execution_count": null
  },
  {
   "cell_type": "code",
   "outputs": [],
   "source": [
    "semaphore.release()\n",
    "\n",
    "semaphore._value"
   ],
   "metadata": {
    "collapsed": false
   },
   "id": "a01839dc1e000cb4",
   "execution_count": null
  },
  {
   "cell_type": "code",
   "outputs": [],
   "source": [
    "semaphore.release()\n",
    "\n",
    "semaphore._value"
   ],
   "metadata": {
    "collapsed": false
   },
   "id": "723d8bad34d77211",
   "execution_count": null
  },
  {
   "cell_type": "code",
   "outputs": [],
   "source": [
    "semaphore.release()\n",
    "semaphore.release()\n",
    "semaphore.release()"
   ],
   "metadata": {
    "collapsed": false
   },
   "id": "7ca71f4059f972cd",
   "execution_count": null
  },
  {
   "cell_type": "code",
   "outputs": [],
   "source": [
    "semaphore._value"
   ],
   "metadata": {
    "collapsed": false
   },
   "id": "e4ea15dc1cb4d799",
   "execution_count": null
  },
  {
   "cell_type": "code",
   "outputs": [],
   "source": [
    "semaphore = threading.BoundedSemaphore()\n",
    "\n",
    "semaphore._value"
   ],
   "metadata": {
    "collapsed": false
   },
   "id": "b44eb560c3f8e971",
   "execution_count": null
  },
  {
   "cell_type": "code",
   "outputs": [],
   "source": [
    "semaphore.release()"
   ],
   "metadata": {
    "collapsed": false
   },
   "id": "7e72f5d54af41e17",
   "execution_count": null
  },
  {
   "cell_type": "code",
   "outputs": [],
   "source": [
    "event = threading.Event()"
   ],
   "metadata": {
    "collapsed": false
   },
   "id": "f9c503b77dd4ec6a",
   "execution_count": null
  },
  {
   "cell_type": "code",
   "outputs": [],
   "source": [
    "dir(event)"
   ],
   "metadata": {
    "collapsed": false
   },
   "id": "a6eb46171acf9e9d",
   "execution_count": null
  },
  {
   "cell_type": "code",
   "outputs": [],
   "source": [
    "event.set()\n",
    "print(event.is_set())\n",
    "\n",
    "event.wait()\n",
    "print(event.is_set())\n",
    "\n",
    "event.clear()\n",
    "print(event.is_set())"
   ],
   "metadata": {
    "collapsed": false
   },
   "id": "c5f2b1f0e778b423",
   "execution_count": null
  },
  {
   "cell_type": "code",
   "outputs": [],
   "source": [
    "event.set()\n",
    "print(event.is_set())\n",
    "\n",
    "event.clear()\n",
    "print(event.is_set())\n",
    "\n",
    "event.wait()\n",
    "print(event.is_set())"
   ],
   "metadata": {
    "collapsed": false
   },
   "id": "53e25a592d59273",
   "execution_count": null
  },
  {
   "cell_type": "code",
   "outputs": [],
   "source": [
    "meeting = threading.Event()"
   ],
   "metadata": {
    "collapsed": false
   },
   "id": "66e71c508a8fddfd",
   "execution_count": null
  },
  {
   "cell_type": "code",
   "outputs": [],
   "source": [
    "def hold_meeting():\n",
    "    \n",
    "    meeting.set()\n",
    "    print(\"Event is set. The meeting has begun.\")\n",
    "    \n",
    "    time.sleep(6)\n",
    "    \n",
    "    print(\"The meeting is complete. Clearing the event...\")\n",
    "    meeting.clear()"
   ],
   "metadata": {
    "collapsed": false
   },
   "id": "98f6848857e0efb",
   "execution_count": null
  },
  {
   "cell_type": "code",
   "outputs": [],
   "source": [
    "def enter_conference_room():\n",
    "    \n",
    "    time.sleep(1)\n",
    "    meeting.wait()\n",
    "    \n",
    "    while meeting.is_set():\n",
    "        \n",
    "        print(\"Waiting for the meeting to end.\")\n",
    "        time.sleep(0.5)\n",
    "        \n",
    "    print(\"The meeting is complete. Entering the conference room...\")"
   ],
   "metadata": {
    "collapsed": false
   },
   "id": "99849caa687936b3",
   "execution_count": null
  },
  {
   "cell_type": "code",
   "outputs": [],
   "source": [
    "t1 = threading.Thread(target = hold_meeting)\n",
    "t2 = threading.Thread(target = enter_conference_room)\n",
    "\n",
    "t1.start()\n",
    "t2.start()\n",
    "\n",
    "t1.join()\n",
    "t2.join()"
   ],
   "metadata": {
    "collapsed": false
   },
   "id": "a401b56cec807f11",
   "execution_count": null
  },
  {
   "cell_type": "code",
   "outputs": [],
   "source": [
    "import random"
   ],
   "metadata": {
    "collapsed": false
   },
   "id": "76d8ebcb701aa7eb",
   "execution_count": null
  },
  {
   "cell_type": "code",
   "outputs": [],
   "source": [
    "condition = threading.Condition()"
   ],
   "metadata": {
    "collapsed": false
   },
   "id": "829f6c96cc5e282e",
   "execution_count": null
  },
  {
   "cell_type": "code",
   "outputs": [],
   "source": [
    "container = []\n",
    "\n",
    "counter = 1\n",
    "\n",
    "more_to_come = True"
   ],
   "metadata": {
    "collapsed": false
   },
   "id": "da0a14f52bf33cdd",
   "execution_count": null
  },
  {
   "cell_type": "code",
   "outputs": [],
   "source": [
    "def produce():\n",
    "    \n",
    "    global container\n",
    "    global counter\n",
    "    global more_to_come\n",
    "    \n",
    "    for i in range(5):\n",
    "        \n",
    "        time.sleep(random.randrange(2, 5))\n",
    "        condition.acquire()\n",
    "        \n",
    "        item = \"News item #\" + str(counter)\n",
    "        \n",
    "        container.append(item)\n",
    "        counter += 1\n",
    "        \n",
    "        print(\"\\nProduced:\", item)\n",
    "        condition.notify_all()\n",
    "        \n",
    "        condition.release()\n",
    "        \n",
    "    more_to_come = False"
   ],
   "metadata": {
    "collapsed": false
   },
   "id": "96ee9b91892322ab",
   "execution_count": null
  },
  {
   "cell_type": "code",
   "outputs": [],
   "source": [
    "def consume():\n",
    "    \n",
    "    global more_to_come\n",
    "    \n",
    "    while(more_to_come):\n",
    "        \n",
    "        condition.acquire()\n",
    "        condition.wait()\n",
    "        \n",
    "        time.sleep(random.random())\n",
    "        print(threading.current_thread().name, \" acquired: \", container[-1])\n",
    "        \n",
    "        condition.release()"
   ],
   "metadata": {
    "collapsed": false
   },
   "id": "d72bd99416cd4ff2",
   "execution_count": null
  },
  {
   "cell_type": "code",
   "outputs": [],
   "source": [
    "producer_thread = threading.Thread(target=produce)\n",
    "\n",
    "consumer_one_thread = threading.Thread(target=consume,\n",
    "                                       name=\"News Site One\",)\n",
    "\n",
    "consumer_two_thread = threading.Thread(target=consume,\n",
    "                                       name=\"News Site Two\")\n",
    "\n",
    "consumer_three_thread = threading.Thread(target=consume,\n",
    "                                         name=\"News Site Three\")"
   ],
   "metadata": {
    "collapsed": false
   },
   "id": "1981667755d964b1",
   "execution_count": null
  },
  {
   "cell_type": "code",
   "outputs": [],
   "source": [
    "threads = [producer_thread,\n",
    "           consumer_one_thread,\n",
    "           consumer_two_thread,\n",
    "           consumer_three_thread,\n",
    "           ]\n",
    "\n",
    "for t in threads:\n",
    "    t.start()\n",
    "    \n",
    "for t in threads:\n",
    "    t.join()\n",
    "    \n",
    "time.sleep(1)\n",
    "print(\"\\nAll done!\")"
   ],
   "metadata": {
    "collapsed": false
   },
   "id": "dd5eb32aa62f818f",
   "execution_count": null
  },
  {
   "cell_type": "code",
   "outputs": [],
   "source": [],
   "metadata": {
    "collapsed": false
   },
   "id": "b0c1b47e501eb201"
  }
 ],
 "metadata": {
  "kernelspec": {
   "display_name": "Python 3",
   "language": "python",
   "name": "python3"
  },
  "language_info": {
   "codemirror_mode": {
    "name": "ipython",
    "version": 2
   },
   "file_extension": ".py",
   "mimetype": "text/x-python",
   "name": "python",
   "nbconvert_exporter": "python",
   "pygments_lexer": "ipython2",
   "version": "2.7.6"
  }
 },
 "nbformat": 4,
 "nbformat_minor": 5
}
