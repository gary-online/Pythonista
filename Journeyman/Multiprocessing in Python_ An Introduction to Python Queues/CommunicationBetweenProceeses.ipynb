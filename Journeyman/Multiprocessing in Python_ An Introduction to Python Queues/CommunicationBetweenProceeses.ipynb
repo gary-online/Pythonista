{
 "cells": [
  {
   "cell_type": "markdown",
   "metadata": {},
   "source": [
    "## Communication between processes\n",
    "Effective use of multiple processes usually requires some communication between them, so that work can be divided and results can be aggregated.\n",
    "\n",
    "<B> multiprocessing supports two types of communication channel between processes: </B>\n",
    "\n",
    "* Queue\n",
    "* Pipe\n",
    "\n",
    "https://docs.python.org/3/library/multiprocessing.html#exchanging-objects-between-processes"
   ]
  },
  {
   "cell_type": "markdown",
   "metadata": {},
   "source": [
    "## Method 1: Queue is a simple way to communicate between processes and pass messages back and forth. Any python object can be exchnaged through a queue\n",
    "https://docs.python.org/3/library/multiprocessing.html#multiprocessing.Queue"
   ]
  },
  {
   "cell_type": "code",
   "execution_count": 4,
   "metadata": {
    "ExecuteTime": {
     "end_time": "2024-01-13T17:53:26.428699348Z",
     "start_time": "2024-01-13T17:53:26.386267583Z"
    }
   },
   "outputs": [],
   "source": [
    "import multiprocessing"
   ]
  },
  {
   "cell_type": "markdown",
   "metadata": {},
   "source": [
    "`put()`: it puts Put obj into the queue\n",
    "\n",
    "`get()`: Remove and return an item from the queue"
   ]
  },
  {
   "cell_type": "markdown",
   "metadata": {},
   "source": [
    "### At first the square of the list is put inside the queue once done the squared elements are printed until the queue is empty"
   ]
  },
  {
   "cell_type": "code",
   "execution_count": 5,
   "metadata": {
    "collapsed": true,
    "ExecuteTime": {
     "end_time": "2024-01-13T17:53:27.573485985Z",
     "start_time": "2024-01-13T17:53:27.571060374Z"
    }
   },
   "outputs": [],
   "source": [
    "def is_even(numbers, q):\n",
    "    for n in numbers:\n",
    "        if n % 2 == 0:\n",
    "            q.put(n) \n",
    "        \n",
    "def print_numbers(q):\n",
    "    while not q.empty():\n",
    "        print(q.get())"
   ]
  },
  {
   "cell_type": "code",
   "execution_count": 6,
   "metadata": {
    "ExecuteTime": {
     "end_time": "2024-01-13T17:53:28.297154462Z",
     "start_time": "2024-01-13T17:53:28.290426654Z"
    }
   },
   "outputs": [],
   "source": [
    "q = multiprocessing.Queue()"
   ]
  },
  {
   "cell_type": "code",
   "execution_count": 7,
   "metadata": {
    "collapsed": true,
    "ExecuteTime": {
     "end_time": "2024-01-13T17:53:28.600716448Z",
     "start_time": "2024-01-13T17:53:28.593857434Z"
    }
   },
   "outputs": [],
   "source": [
    "p1 = multiprocessing.Process(target = is_even, args = (range(10), q))\n",
    "p2 = multiprocessing.Process(target = print_numbers, args = (q, ))"
   ]
  },
  {
   "cell_type": "code",
   "execution_count": 8,
   "metadata": {
    "ExecuteTime": {
     "end_time": "2024-01-13T17:53:28.920909901Z",
     "start_time": "2024-01-13T17:53:28.888279409Z"
    }
   },
   "outputs": [
    {
     "name": "stdout",
     "output_type": "stream",
     "text": [
      "0\n",
      "2\n",
      "4\n",
      "6\n",
      "8\n"
     ]
    }
   ],
   "source": [
    "p1.start()\n",
    "p2.start()\n",
    "\n",
    "p1.join()\n",
    "p2.join()"
   ]
  },
  {
   "cell_type": "markdown",
   "metadata": {},
   "source": [
    "## Method 2: The Pipe( ) function returns a pair of connection objects connected by a pipe which by default is duplex (two-way). \n",
    "* With the use of queue, communication can be made but pipe can be used between only two process for communication. \n",
    "* When communication is needed only between two processes than pipe is faster\n",
    "https://docs.python.org/3/library/multiprocessing.html#multiprocessing.Pipe"
   ]
  },
  {
   "cell_type": "markdown",
   "metadata": {},
   "source": [
    "Message is sent from one end of pipe to another using `send` method.\n",
    "\n",
    "To receive any messages at one end of a pipe, we use `recv` method"
   ]
  },
  {
   "cell_type": "markdown",
   "metadata": {},
   "source": [
    "In above program, we send a list of messages from one end to another. At the other end, we read messages until we receive end \"STOP' message."
   ]
  },
  {
   "cell_type": "code",
   "execution_count": 9,
   "metadata": {
    "ExecuteTime": {
     "end_time": "2024-01-13T18:03:08.348663974Z",
     "start_time": "2024-01-13T18:03:08.306428656Z"
    }
   },
   "outputs": [],
   "source": [
    "def sender(connection, greets):\n",
    "    for greet in greets:\n",
    "        connection.send(greet) \n",
    "    connection.close()       \n",
    "    \n",
    "def recipient(connection):\n",
    "    while True:\n",
    "        greet = connection.recv() \n",
    "        if greet == \"STOP\": \n",
    "            break\n",
    "        print(greet)"
   ]
  },
  {
   "cell_type": "code",
   "execution_count": 10,
   "metadata": {
    "ExecuteTime": {
     "end_time": "2024-01-13T18:03:08.706177793Z",
     "start_time": "2024-01-13T18:03:08.699241335Z"
    }
   },
   "outputs": [],
   "source": [
    "msgs = [\"Hello\", \"Hola\", \"Guten Tag\", \"STOP\"]"
   ]
  },
  {
   "cell_type": "markdown",
   "metadata": {},
   "source": [
    "#### Initialize a pipe\n",
    "This returns a pair of connection objects"
   ]
  },
  {
   "cell_type": "code",
   "execution_count": 11,
   "metadata": {
    "ExecuteTime": {
     "end_time": "2024-01-13T18:03:09.545107683Z",
     "start_time": "2024-01-13T18:03:09.541163785Z"
    }
   },
   "outputs": [],
   "source": [
    "sending_pipe, receiving_pipe = multiprocessing.Pipe()"
   ]
  },
  {
   "cell_type": "code",
   "execution_count": 12,
   "metadata": {
    "ExecuteTime": {
     "end_time": "2024-01-13T18:03:09.715699534Z",
     "start_time": "2024-01-13T18:03:09.708606231Z"
    }
   },
   "outputs": [
    {
     "data": {
      "text/plain": "(<multiprocessing.connection.Connection at 0x7fdb88404490>,\n <multiprocessing.connection.Connection at 0x7fdb88405110>)"
     },
     "execution_count": 12,
     "metadata": {},
     "output_type": "execute_result"
    }
   ],
   "source": [
    "multiprocessing.Pipe()"
   ]
  },
  {
   "cell_type": "code",
   "execution_count": 13,
   "metadata": {
    "ExecuteTime": {
     "end_time": "2024-01-13T18:03:09.879327738Z",
     "start_time": "2024-01-13T18:03:09.873525872Z"
    }
   },
   "outputs": [],
   "source": [
    "p1 = multiprocessing.Process(target=sender, \n",
    "                             args=(sending_pipe, msgs))\n",
    "p2 = multiprocessing.Process(target=recipient, \n",
    "                             args=(receiving_pipe,))"
   ]
  },
  {
   "cell_type": "code",
   "execution_count": 14,
   "metadata": {
    "ExecuteTime": {
     "end_time": "2024-01-13T18:03:10.243769117Z",
     "start_time": "2024-01-13T18:03:10.214679670Z"
    }
   },
   "outputs": [
    {
     "name": "stdout",
     "output_type": "stream",
     "text": [
      "Hello\n",
      "Hola\n",
      "Guten Tag\n"
     ]
    }
   ],
   "source": [
    "p1.start()\n",
    "p2.start()\n",
    "\n",
    "p1.join()\n",
    "p2.join()"
   ]
  },
  {
   "cell_type": "code",
   "execution_count": null,
   "metadata": {
    "collapsed": true
   },
   "outputs": [],
   "source": []
  },
  {
   "cell_type": "code",
   "execution_count": null,
   "metadata": {
    "collapsed": true
   },
   "outputs": [],
   "source": []
  },
  {
   "cell_type": "code",
   "execution_count": null,
   "metadata": {
    "collapsed": true
   },
   "outputs": [],
   "source": []
  },
  {
   "cell_type": "code",
   "execution_count": null,
   "metadata": {
    "collapsed": true
   },
   "outputs": [],
   "source": []
  },
  {
   "cell_type": "code",
   "execution_count": null,
   "metadata": {
    "collapsed": true
   },
   "outputs": [],
   "source": []
  },
  {
   "cell_type": "code",
   "execution_count": null,
   "metadata": {
    "collapsed": true
   },
   "outputs": [],
   "source": []
  },
  {
   "cell_type": "code",
   "execution_count": null,
   "metadata": {
    "collapsed": true
   },
   "outputs": [],
   "source": []
  },
  {
   "cell_type": "code",
   "execution_count": null,
   "metadata": {
    "collapsed": true
   },
   "outputs": [],
   "source": []
  },
  {
   "cell_type": "code",
   "execution_count": null,
   "metadata": {
    "collapsed": true
   },
   "outputs": [],
   "source": []
  },
  {
   "cell_type": "code",
   "execution_count": null,
   "metadata": {
    "collapsed": true
   },
   "outputs": [],
   "source": []
  },
  {
   "cell_type": "code",
   "execution_count": null,
   "metadata": {
    "collapsed": true
   },
   "outputs": [],
   "source": []
  },
  {
   "cell_type": "code",
   "execution_count": null,
   "metadata": {
    "collapsed": true
   },
   "outputs": [],
   "source": []
  },
  {
   "cell_type": "code",
   "execution_count": null,
   "metadata": {
    "collapsed": true
   },
   "outputs": [],
   "source": []
  },
  {
   "cell_type": "code",
   "execution_count": null,
   "metadata": {
    "collapsed": true
   },
   "outputs": [],
   "source": []
  },
  {
   "cell_type": "code",
   "execution_count": null,
   "metadata": {
    "collapsed": true
   },
   "outputs": [],
   "source": []
  },
  {
   "cell_type": "code",
   "execution_count": null,
   "metadata": {
    "collapsed": true
   },
   "outputs": [],
   "source": []
  },
  {
   "cell_type": "code",
   "execution_count": null,
   "metadata": {
    "collapsed": true
   },
   "outputs": [],
   "source": []
  },
  {
   "cell_type": "code",
   "execution_count": null,
   "metadata": {
    "collapsed": true
   },
   "outputs": [],
   "source": []
  },
  {
   "cell_type": "code",
   "execution_count": null,
   "metadata": {
    "collapsed": true
   },
   "outputs": [],
   "source": []
  },
  {
   "cell_type": "code",
   "execution_count": null,
   "metadata": {
    "collapsed": true
   },
   "outputs": [],
   "source": []
  },
  {
   "cell_type": "code",
   "execution_count": null,
   "metadata": {
    "collapsed": true
   },
   "outputs": [],
   "source": []
  },
  {
   "cell_type": "code",
   "execution_count": null,
   "metadata": {
    "collapsed": true
   },
   "outputs": [],
   "source": []
  },
  {
   "cell_type": "code",
   "execution_count": null,
   "metadata": {
    "collapsed": true
   },
   "outputs": [],
   "source": []
  },
  {
   "cell_type": "code",
   "execution_count": null,
   "metadata": {
    "collapsed": true
   },
   "outputs": [],
   "source": []
  },
  {
   "cell_type": "code",
   "execution_count": null,
   "metadata": {
    "collapsed": true
   },
   "outputs": [],
   "source": []
  },
  {
   "cell_type": "code",
   "execution_count": null,
   "metadata": {
    "collapsed": true
   },
   "outputs": [],
   "source": []
  },
  {
   "cell_type": "code",
   "execution_count": null,
   "metadata": {
    "collapsed": true
   },
   "outputs": [],
   "source": []
  },
  {
   "cell_type": "code",
   "execution_count": null,
   "metadata": {
    "collapsed": true
   },
   "outputs": [],
   "source": []
  },
  {
   "cell_type": "code",
   "execution_count": null,
   "metadata": {
    "collapsed": true
   },
   "outputs": [],
   "source": []
  },
  {
   "cell_type": "code",
   "execution_count": null,
   "metadata": {
    "collapsed": true
   },
   "outputs": [],
   "source": []
  },
  {
   "cell_type": "code",
   "execution_count": null,
   "metadata": {
    "collapsed": true
   },
   "outputs": [],
   "source": []
  },
  {
   "cell_type": "code",
   "execution_count": null,
   "metadata": {
    "collapsed": true
   },
   "outputs": [],
   "source": []
  },
  {
   "cell_type": "code",
   "execution_count": null,
   "metadata": {
    "collapsed": true
   },
   "outputs": [],
   "source": []
  },
  {
   "cell_type": "code",
   "execution_count": null,
   "metadata": {
    "collapsed": true
   },
   "outputs": [],
   "source": []
  },
  {
   "cell_type": "code",
   "execution_count": null,
   "metadata": {
    "collapsed": true
   },
   "outputs": [],
   "source": []
  },
  {
   "cell_type": "code",
   "execution_count": null,
   "metadata": {
    "collapsed": true
   },
   "outputs": [],
   "source": []
  }
 ],
 "metadata": {
  "kernelspec": {
   "display_name": "Python 3",
   "language": "python",
   "name": "python3"
  },
  "language_info": {
   "codemirror_mode": {
    "name": "ipython",
    "version": 3
   },
   "file_extension": ".py",
   "mimetype": "text/x-python",
   "name": "python",
   "nbconvert_exporter": "python",
   "pygments_lexer": "ipython3",
   "version": "3.7.3"
  }
 },
 "nbformat": 4,
 "nbformat_minor": 2
}
