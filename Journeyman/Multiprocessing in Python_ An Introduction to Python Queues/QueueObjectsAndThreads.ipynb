{
 "cells": [
  {
   "cell_type": "markdown",
   "metadata": {},
   "source": [
    "### The `Queue`s are a great mechanism when we need to exchange information between threads.\n",
    "There are three types queues\n",
    "\n",
    "* FIFO queue\n",
    "* LIFO queue\n",
    "* Priority queue\n",
    "\n",
    "https://pymotw.com/2/Queue/\n",
    "\n",
    "https://www.laurentluce.com/posts/python-threads-synchronization-locks-rlocks-semaphores-conditions-events-and-queues/"
   ]
  },
  {
   "cell_type": "code",
   "execution_count": 1,
   "metadata": {
    "collapsed": true,
    "ExecuteTime": {
     "end_time": "2024-01-13T16:47:26.669499367Z",
     "start_time": "2024-01-13T16:47:26.668531498Z"
    }
   },
   "outputs": [],
   "source": [
    "import queue"
   ]
  },
  {
   "cell_type": "markdown",
   "metadata": {},
   "source": [
    "### FIFO Queue\n",
    "The Queue class implements a basic first-in, first-out container. Elements are added to one “end” of the sequence using put(), and removed from the other end using get()."
   ]
  },
  {
   "cell_type": "code",
   "execution_count": 2,
   "metadata": {
    "ExecuteTime": {
     "end_time": "2024-01-13T16:47:27.175056145Z",
     "start_time": "2024-01-13T16:47:27.172154062Z"
    }
   },
   "outputs": [],
   "source": [
    "q = queue.Queue()\n"
   ]
  },
  {
   "cell_type": "code",
   "execution_count": 3,
   "metadata": {
    "ExecuteTime": {
     "end_time": "2024-01-13T16:47:27.522547288Z",
     "start_time": "2024-01-13T16:47:27.519936858Z"
    }
   },
   "outputs": [
    {
     "data": {
      "text/plain": "deque([])"
     },
     "execution_count": 3,
     "metadata": {},
     "output_type": "execute_result"
    }
   ],
   "source": [
    "q.queue"
   ]
  },
  {
   "cell_type": "code",
   "execution_count": 4,
   "metadata": {
    "collapsed": true,
    "ExecuteTime": {
     "end_time": "2024-01-13T16:47:27.953057514Z",
     "start_time": "2024-01-13T16:47:27.949268617Z"
    }
   },
   "outputs": [],
   "source": [
    "for i in range(7):\n",
    "    q.put(i)"
   ]
  },
  {
   "cell_type": "code",
   "execution_count": 5,
   "metadata": {
    "ExecuteTime": {
     "end_time": "2024-01-13T16:47:28.459277770Z",
     "start_time": "2024-01-13T16:47:28.456231486Z"
    }
   },
   "outputs": [
    {
     "data": {
      "text/plain": "deque([0, 1, 2, 3, 4, 5, 6])"
     },
     "execution_count": 5,
     "metadata": {},
     "output_type": "execute_result"
    }
   ],
   "source": [
    "q.queue"
   ]
  },
  {
   "cell_type": "code",
   "execution_count": 6,
   "metadata": {
    "ExecuteTime": {
     "end_time": "2024-01-13T16:47:28.892830210Z",
     "start_time": "2024-01-13T16:47:28.889464102Z"
    }
   },
   "outputs": [
    {
     "data": {
      "text/plain": "False"
     },
     "execution_count": 6,
     "metadata": {},
     "output_type": "execute_result"
    }
   ],
   "source": [
    "q.empty()"
   ]
  },
  {
   "cell_type": "code",
   "execution_count": 7,
   "metadata": {
    "ExecuteTime": {
     "end_time": "2024-01-13T16:47:29.321936419Z",
     "start_time": "2024-01-13T16:47:29.318492653Z"
    }
   },
   "outputs": [
    {
     "name": "stdout",
     "output_type": "stream",
     "text": [
      "0\n",
      "1\n",
      "2\n",
      "3\n",
      "4\n",
      "5\n",
      "6\n"
     ]
    }
   ],
   "source": [
    "while not q.empty():\n",
    "    print (q.get())"
   ]
  },
  {
   "cell_type": "code",
   "execution_count": 8,
   "metadata": {
    "ExecuteTime": {
     "end_time": "2024-01-13T16:47:30.170881397Z",
     "start_time": "2024-01-13T16:47:30.162084168Z"
    }
   },
   "outputs": [
    {
     "data": {
      "text/plain": "deque([])"
     },
     "execution_count": 8,
     "metadata": {},
     "output_type": "execute_result"
    }
   ],
   "source": [
    "q.queue"
   ]
  },
  {
   "cell_type": "code",
   "execution_count": 9,
   "metadata": {
    "ExecuteTime": {
     "end_time": "2024-01-13T16:47:31.620245094Z",
     "start_time": "2024-01-13T16:47:31.612283894Z"
    }
   },
   "outputs": [
    {
     "data": {
      "text/plain": "True"
     },
     "execution_count": 9,
     "metadata": {},
     "output_type": "execute_result"
    }
   ],
   "source": [
    "q.empty()"
   ]
  },
  {
   "cell_type": "markdown",
   "metadata": {},
   "source": [
    "### LIFO Queue\n",
    "In contrast to the standard FIFO implementation of Queue, the LifoQueue uses last-in, first-out ordering (normally associated with a stack data structure)."
   ]
  },
  {
   "cell_type": "code",
   "execution_count": 10,
   "metadata": {
    "ExecuteTime": {
     "end_time": "2024-01-13T16:47:34.364783529Z",
     "start_time": "2024-01-13T16:47:34.360583456Z"
    }
   },
   "outputs": [
    {
     "name": "stdout",
     "output_type": "stream",
     "text": [
      "6\n",
      "5\n",
      "4\n",
      "3\n",
      "2\n",
      "1\n",
      "0\n"
     ]
    }
   ],
   "source": [
    "q = queue.LifoQueue()\n",
    "\n",
    "for i in range(7):\n",
    "    q.put(i)\n",
    "\n",
    "while not q.empty():\n",
    "    print(q.get()) "
   ]
  },
  {
   "cell_type": "markdown",
   "metadata": {},
   "source": [
    "### Priority Queue\n",
    "PriorityQueue uses the sort order of the contents of the queue to decide which to retrieve."
   ]
  },
  {
   "cell_type": "code",
   "execution_count": 11,
   "metadata": {
    "collapsed": true,
    "ExecuteTime": {
     "end_time": "2024-01-13T16:47:37.825157876Z",
     "start_time": "2024-01-13T16:47:37.822633367Z"
    }
   },
   "outputs": [],
   "source": [
    "import time"
   ]
  },
  {
   "cell_type": "code",
   "execution_count": 12,
   "metadata": {
    "ExecuteTime": {
     "end_time": "2024-01-13T16:47:38.111590468Z",
     "start_time": "2024-01-13T16:47:38.109176727Z"
    }
   },
   "outputs": [
    {
     "name": "stdout",
     "output_type": "stream",
     "text": [
      "1\n",
      "2\n",
      "3\n",
      "4\n",
      "5\n"
     ]
    }
   ],
   "source": [
    "q = queue.PriorityQueue()\n",
    "\n",
    "q.put(5)\n",
    "q.put(4)\n",
    "q.put(1)\n",
    "q.put(3)\n",
    "q.put(2)\n",
    "\n",
    "while not q.empty():\n",
    "    print(q.get())"
   ]
  },
  {
   "cell_type": "markdown",
   "metadata": {},
   "source": [
    "### If the queue gets empty, and we call the `queue.get()` method that the signal for the thread blocks and it hangs our terminal"
   ]
  },
  {
   "cell_type": "code",
   "execution_count": 13,
   "metadata": {
    "ExecuteTime": {
     "end_time": "2024-01-13T16:47:39.005196504Z",
     "start_time": "2024-01-13T16:47:39.001887794Z"
    }
   },
   "outputs": [
    {
     "data": {
      "text/plain": "6"
     },
     "execution_count": 13,
     "metadata": {},
     "output_type": "execute_result"
    }
   ],
   "source": [
    "q = queue.Queue()\n",
    "\n",
    "q.put(6)\n",
    "q.get()"
   ]
  },
  {
   "cell_type": "code",
   "execution_count": 14,
   "metadata": {
    "ExecuteTime": {
     "end_time": "2024-01-13T16:47:39.466388396Z",
     "start_time": "2024-01-13T16:47:39.461663901Z"
    }
   },
   "outputs": [
    {
     "data": {
      "text/plain": "True"
     },
     "execution_count": 14,
     "metadata": {},
     "output_type": "execute_result"
    }
   ],
   "source": [
    "q.empty()"
   ]
  },
  {
   "cell_type": "code",
   "execution_count": 15,
   "metadata": {
    "ExecuteTime": {
     "end_time": "2024-01-13T16:47:42.340556540Z",
     "start_time": "2024-01-13T16:47:40.186408679Z"
    }
   },
   "outputs": [
    {
     "ename": "KeyboardInterrupt",
     "evalue": "",
     "output_type": "error",
     "traceback": [
      "\u001B[0;31m---------------------------------------------------------------------------\u001B[0m",
      "\u001B[0;31mKeyboardInterrupt\u001B[0m                         Traceback (most recent call last)",
      "Cell \u001B[0;32mIn[15], line 1\u001B[0m\n\u001B[0;32m----> 1\u001B[0m \u001B[43mq\u001B[49m\u001B[38;5;241;43m.\u001B[39;49m\u001B[43mget\u001B[49m\u001B[43m(\u001B[49m\u001B[43m)\u001B[49m\n",
      "File \u001B[0;32m/usr/lib/python3.11/queue.py:171\u001B[0m, in \u001B[0;36mQueue.get\u001B[0;34m(self, block, timeout)\u001B[0m\n\u001B[1;32m    169\u001B[0m \u001B[38;5;28;01melif\u001B[39;00m timeout \u001B[38;5;129;01mis\u001B[39;00m \u001B[38;5;28;01mNone\u001B[39;00m:\n\u001B[1;32m    170\u001B[0m     \u001B[38;5;28;01mwhile\u001B[39;00m \u001B[38;5;129;01mnot\u001B[39;00m \u001B[38;5;28mself\u001B[39m\u001B[38;5;241m.\u001B[39m_qsize():\n\u001B[0;32m--> 171\u001B[0m         \u001B[38;5;28;43mself\u001B[39;49m\u001B[38;5;241;43m.\u001B[39;49m\u001B[43mnot_empty\u001B[49m\u001B[38;5;241;43m.\u001B[39;49m\u001B[43mwait\u001B[49m\u001B[43m(\u001B[49m\u001B[43m)\u001B[49m\n\u001B[1;32m    172\u001B[0m \u001B[38;5;28;01melif\u001B[39;00m timeout \u001B[38;5;241m<\u001B[39m \u001B[38;5;241m0\u001B[39m:\n\u001B[1;32m    173\u001B[0m     \u001B[38;5;28;01mraise\u001B[39;00m \u001B[38;5;167;01mValueError\u001B[39;00m(\u001B[38;5;124m\"\u001B[39m\u001B[38;5;124m'\u001B[39m\u001B[38;5;124mtimeout\u001B[39m\u001B[38;5;124m'\u001B[39m\u001B[38;5;124m must be a non-negative number\u001B[39m\u001B[38;5;124m\"\u001B[39m)\n",
      "File \u001B[0;32m/usr/lib/python3.11/threading.py:327\u001B[0m, in \u001B[0;36mCondition.wait\u001B[0;34m(self, timeout)\u001B[0m\n\u001B[1;32m    325\u001B[0m \u001B[38;5;28;01mtry\u001B[39;00m:    \u001B[38;5;66;03m# restore state no matter what (e.g., KeyboardInterrupt)\u001B[39;00m\n\u001B[1;32m    326\u001B[0m     \u001B[38;5;28;01mif\u001B[39;00m timeout \u001B[38;5;129;01mis\u001B[39;00m \u001B[38;5;28;01mNone\u001B[39;00m:\n\u001B[0;32m--> 327\u001B[0m         \u001B[43mwaiter\u001B[49m\u001B[38;5;241;43m.\u001B[39;49m\u001B[43macquire\u001B[49m\u001B[43m(\u001B[49m\u001B[43m)\u001B[49m\n\u001B[1;32m    328\u001B[0m         gotit \u001B[38;5;241m=\u001B[39m \u001B[38;5;28;01mTrue\u001B[39;00m\n\u001B[1;32m    329\u001B[0m     \u001B[38;5;28;01melse\u001B[39;00m:\n",
      "\u001B[0;31mKeyboardInterrupt\u001B[0m: "
     ]
    }
   ],
   "source": [
    "q.get()"
   ]
  },
  {
   "cell_type": "markdown",
   "metadata": {},
   "source": [
    "<b> `output`: The shell doesn't return anything as the thread signal is blocked Go to the kernel and click on `intrrupt`"
   ]
  },
  {
   "cell_type": "markdown",
   "metadata": {},
   "source": [
    "### In the following example the implementation of Queue object is shown with threading\n",
    "\n",
    "* It is a manufacturer/customer type senario, as soon as a number got put inside the queue the customer gets notified and number gets available to the customer\n",
    "\n",
    "* In the following we are creating two sub classes of `threading.Thread`, the classes are `manufacturer`  and `customer` \n",
    "\n",
    "* we are not defining any integer list separately as `queue.put()` puts the number inside queue in the `manufacturer` class\n",
    "\n",
    "* In the same way the number which is being put inside the queue is accessed in the `customer` class using `queue.get()` method\n",
    "\n",
    "* To do run the cycle successfully and smoothly `threading` is used"
   ]
  },
  {
   "cell_type": "code",
   "execution_count": 16,
   "metadata": {
    "collapsed": true,
    "ExecuteTime": {
     "end_time": "2024-01-13T16:47:44.713400706Z",
     "start_time": "2024-01-13T16:47:44.708418546Z"
    }
   },
   "outputs": [],
   "source": [
    "import threading\n",
    "import random\n",
    "import time"
   ]
  },
  {
   "cell_type": "code",
   "execution_count": 17,
   "metadata": {
    "collapsed": true,
    "ExecuteTime": {
     "end_time": "2024-01-13T16:47:45.224192177Z",
     "start_time": "2024-01-13T16:47:45.220263215Z"
    }
   },
   "outputs": [],
   "source": [
    "counter = 1\n",
    "more_to_come = True"
   ]
  },
  {
   "cell_type": "code",
   "execution_count": 18,
   "metadata": {
    "ExecuteTime": {
     "end_time": "2024-01-13T16:47:49.134058048Z",
     "start_time": "2024-01-13T16:47:49.125968997Z"
    }
   },
   "outputs": [],
   "source": [
    "class Producer(threading.Thread):\n",
    "    \n",
    "    def __init__(self, queue):\n",
    "        threading.Thread.__init__(self)\n",
    "        self.queue = queue\n",
    "        \n",
    "    def run(self):\n",
    "\n",
    "        global counter\n",
    "        global more_to_come\n",
    "\n",
    "        for i in range(5):\n",
    "\n",
    "            time.sleep(random.randrange(2, 5))\n",
    "            item = \"News item #\" + str(counter) \n",
    "\n",
    "            self.queue.put(item)\n",
    "            counter +=1\n",
    "\n",
    "            print(\"\\nProduced:\", item)\n",
    "\n",
    "        more_to_come = False\n"
   ]
  },
  {
   "cell_type": "code",
   "execution_count": 19,
   "metadata": {
    "collapsed": true,
    "ExecuteTime": {
     "end_time": "2024-01-13T16:47:53.020244398Z",
     "start_time": "2024-01-13T16:47:53.016990992Z"
    }
   },
   "outputs": [],
   "source": [
    "class Consumer(threading.Thread):\n",
    "    \n",
    "    def __init__(self, queue):\n",
    "        threading.Thread.__init__(self)\n",
    "        self.queue = queue\n",
    "\n",
    "    def run(self):\n",
    "        \n",
    "        while (more_to_come): \n",
    "            item = self.queue.get(timeout=10)\n",
    "            time.sleep(random.random())\n",
    "            print(threading.current_thread().name, \" popped: \", item)\n",
    "            \n",
    "        print(threading.current_thread().name, \" exiting...\")"
   ]
  },
  {
   "cell_type": "code",
   "execution_count": 20,
   "metadata": {
    "ExecuteTime": {
     "end_time": "2024-01-13T16:49:24.672768609Z",
     "start_time": "2024-01-13T16:49:10.941125655Z"
    }
   },
   "outputs": [
    {
     "name": "stdout",
     "output_type": "stream",
     "text": [
      "\n",
      "Produced: News item #1\n",
      "Thread-6  popped:  News item #1\n",
      "\n",
      "Produced: News item #2\n",
      "Thread-6  popped:  News item #2\n",
      "\n",
      "Produced: News item #3\n",
      "Thread-6  popped:  News item #3\n",
      "\n",
      "Produced: News item #4\n",
      "Thread-6  popped:  News item #4\n",
      "\n",
      "Produced: News item #5\n",
      "Thread-6  popped:  News item #5\n",
      "Thread-6  exiting...\n"
     ]
    }
   ],
   "source": [
    "q = queue.Queue()\n",
    "\n",
    "producer_thread = Producer(q)\n",
    "consumer_thread = Consumer(q)\n",
    "\n",
    "producer_thread.start()\n",
    "consumer_thread.start()\n",
    "\n",
    "producer_thread.join()\n",
    "consumer_thread.join()"
   ]
  },
  {
   "cell_type": "code",
   "execution_count": null,
   "metadata": {
    "collapsed": true
   },
   "outputs": [],
   "source": []
  },
  {
   "cell_type": "code",
   "execution_count": null,
   "metadata": {
    "collapsed": true
   },
   "outputs": [],
   "source": []
  },
  {
   "cell_type": "code",
   "execution_count": null,
   "metadata": {
    "collapsed": true
   },
   "outputs": [],
   "source": []
  },
  {
   "cell_type": "code",
   "execution_count": null,
   "metadata": {
    "collapsed": true
   },
   "outputs": [],
   "source": []
  },
  {
   "cell_type": "code",
   "execution_count": null,
   "metadata": {
    "collapsed": true
   },
   "outputs": [],
   "source": []
  },
  {
   "cell_type": "code",
   "execution_count": null,
   "metadata": {
    "collapsed": true
   },
   "outputs": [],
   "source": []
  },
  {
   "cell_type": "code",
   "execution_count": null,
   "metadata": {
    "collapsed": true
   },
   "outputs": [],
   "source": []
  },
  {
   "cell_type": "code",
   "execution_count": null,
   "metadata": {
    "collapsed": true
   },
   "outputs": [],
   "source": []
  },
  {
   "cell_type": "code",
   "execution_count": null,
   "metadata": {
    "collapsed": true
   },
   "outputs": [],
   "source": []
  },
  {
   "cell_type": "code",
   "execution_count": null,
   "metadata": {
    "collapsed": true
   },
   "outputs": [],
   "source": []
  }
 ],
 "metadata": {
  "kernelspec": {
   "display_name": "Python 3",
   "language": "python",
   "name": "python3"
  },
  "language_info": {
   "codemirror_mode": {
    "name": "ipython",
    "version": 3
   },
   "file_extension": ".py",
   "mimetype": "text/x-python",
   "name": "python",
   "nbconvert_exporter": "python",
   "pygments_lexer": "ipython3",
   "version": "3.7.3"
  }
 },
 "nbformat": 4,
 "nbformat_minor": 2
}
