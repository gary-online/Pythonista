{
 "cells": [
  {
   "cell_type": "markdown",
   "metadata": {},
   "source": [
    "## Sharing data between processes\n",
    "In multiprocessing, any newly created process will do following:\n",
    " * Run independently\n",
    " * Have their own memory space\n",
    " \n",
    " https://docs.python.org/3/library/multiprocessing.html#sharing-state-between-processes"
   ]
  },
  {
   "cell_type": "markdown",
   "metadata": {},
   "source": [
    "<b> importing multiprocessing library"
   ]
  },
  {
   "cell_type": "code",
   "execution_count": 14,
   "metadata": {
    "collapsed": true,
    "ExecuteTime": {
     "end_time": "2024-01-13T17:30:22.295524531Z",
     "start_time": "2024-01-13T17:30:22.252208654Z"
    }
   },
   "outputs": [],
   "source": [
    "import multiprocessing"
   ]
  },
  {
   "cell_type": "markdown",
   "metadata": {},
   "source": [
    "<B> Creating an empty list"
   ]
  },
  {
   "cell_type": "code",
   "execution_count": 16,
   "metadata": {
    "collapsed": true,
    "ExecuteTime": {
     "end_time": "2024-01-13T17:30:35.152527405Z",
     "start_time": "2024-01-13T17:30:35.106411265Z"
    }
   },
   "outputs": [],
   "source": [
    "result = []"
   ]
  },
  {
   "cell_type": "code",
   "execution_count": 17,
   "metadata": {
    "collapsed": true,
    "ExecuteTime": {
     "end_time": "2024-01-13T17:30:35.409874838Z",
     "start_time": "2024-01-13T17:30:35.406016770Z"
    }
   },
   "outputs": [],
   "source": [
    "def square(num_list):\n",
    "    \n",
    "    global result\n",
    "    for num in num_list:\n",
    "        result.append(num * num)\n",
    "        \n",
    "    print('Child process result:', result)"
   ]
  },
  {
   "cell_type": "code",
   "execution_count": 18,
   "metadata": {
    "collapsed": true,
    "ExecuteTime": {
     "end_time": "2024-01-13T17:30:35.832669973Z",
     "start_time": "2024-01-13T17:30:35.828768623Z"
    }
   },
   "outputs": [],
   "source": [
    "num_list = [1, 2, 3, 4]"
   ]
  },
  {
   "cell_type": "code",
   "execution_count": 19,
   "metadata": {
    "ExecuteTime": {
     "end_time": "2024-01-13T17:30:36.224687145Z",
     "start_time": "2024-01-13T17:30:36.206728705Z"
    }
   },
   "outputs": [
    {
     "name": "stdout",
     "output_type": "stream",
     "text": [
      "Child process result: [1, 4, 9, 16]\n"
     ]
    }
   ],
   "source": [
    "p1 = multiprocessing.Process(target=square, args=(num_list, ))\n",
    "\n",
    "p1.start()\n",
    "p1.join()"
   ]
  },
  {
   "cell_type": "markdown",
   "metadata": {},
   "source": [
    "<b> `output`:The child process makes a copy of the globaly declared list and append squares inside it that is why the updated list is only accessible inside the child process"
   ]
  },
  {
   "cell_type": "code",
   "execution_count": 20,
   "metadata": {
    "ExecuteTime": {
     "end_time": "2024-01-13T17:30:39.344535123Z",
     "start_time": "2024-01-13T17:30:39.341042235Z"
    }
   },
   "outputs": [
    {
     "name": "stdout",
     "output_type": "stream",
     "text": [
      "Main process result: []\n"
     ]
    }
   ],
   "source": [
    "print('Main process result:', result)"
   ]
  },
  {
   "cell_type": "markdown",
   "metadata": {},
   "source": [
    "<b> `output`: But main process is printing the initial empty list"
   ]
  },
  {
   "cell_type": "markdown",
   "metadata": {},
   "source": [
    "## Method 1: Sharing Data Using Shared memory\n",
    " By using `shared memory` we can get rid of the issue of sharing memory among the processes. There is a memory region in our systems which is called `shared memory` and can be accessed by multiple proceeses, `Array` and `Value` objects are allocated from this shared memory. ( This array and value has no connection with python's array and value )\n",
    "\n",
    "multiprocessing module provides Array and Value objects to share data between processes.\n",
    "* Array: a ctypes array allocated from shared memory\n",
    "* Value: a ctypes object allocated from shared memory\n",
    "\n",
    "https://docs.python.org/3/library/multiprocessing.html#shared-ctypes-objects"
   ]
  },
  {
   "cell_type": "markdown",
   "metadata": {},
   "source": [
    "###  The main agenda behind the following operation: \n",
    "* We are creating some variable in the main process, and changing them in the child process, after that we want to see that whether we can see the change in the variables if we call them from the main process"
   ]
  },
  {
   "cell_type": "markdown",
   "metadata": {},
   "source": [
    "<b> We can not assign elements to a ctype array by using append method of python, we have to use enumerate that we take the help of index to assign value to the array"
   ]
  },
  {
   "cell_type": "code",
   "execution_count": 21,
   "metadata": {
    "collapsed": true,
    "ExecuteTime": {
     "end_time": "2024-01-13T17:30:42.412597397Z",
     "start_time": "2024-01-13T17:30:42.409928722Z"
    }
   },
   "outputs": [],
   "source": [
    "def square_list(numlist, result, square_sum):\n",
    "    \n",
    "    for idx, num in enumerate(numlist): \n",
    "        result[idx] = num * num \n",
    "        \n",
    "    square_sum.value = sum(result)"
   ]
  },
  {
   "cell_type": "markdown",
   "metadata": {},
   "source": [
    "<b> `multiprocessing.Array()` returns c type array as output <br> </b>\n",
    "<b> `multiprocessing.Value()` retuerns c type object as output </b>"
   ]
  },
  {
   "cell_type": "markdown",
   "metadata": {},
   "source": [
    "#### Initialize a shared Array\n",
    "i denotes signed integer and 4 is the size of array to be allocated"
   ]
  },
  {
   "cell_type": "code",
   "execution_count": 22,
   "metadata": {
    "collapsed": true,
    "ExecuteTime": {
     "end_time": "2024-01-13T17:30:44.710279816Z",
     "start_time": "2024-01-13T17:30:44.706095152Z"
    }
   },
   "outputs": [],
   "source": [
    "result = multiprocessing.Array('i', 4)   "
   ]
  },
  {
   "cell_type": "markdown",
   "metadata": {},
   "source": [
    "#### Initialize a shared Value\n",
    "i is for the datatype of the object to be returned i.e signed integer"
   ]
  },
  {
   "cell_type": "code",
   "execution_count": 23,
   "metadata": {
    "collapsed": true,
    "ExecuteTime": {
     "end_time": "2024-01-13T17:30:45.437615125Z",
     "start_time": "2024-01-13T17:30:45.435400767Z"
    }
   },
   "outputs": [],
   "source": [
    "square_sum = multiprocessing.Value('i')  "
   ]
  },
  {
   "cell_type": "code",
   "execution_count": 24,
   "metadata": {
    "collapsed": true,
    "ExecuteTime": {
     "end_time": "2024-01-13T17:30:46.440664193Z",
     "start_time": "2024-01-13T17:30:46.437072657Z"
    }
   },
   "outputs": [],
   "source": [
    "num_list = [1, 2, 3, 4]\n",
    "\n",
    "p = multiprocessing.Process(target = square_list, \n",
    "                            args = (num_list, result, square_sum))"
   ]
  },
  {
   "cell_type": "code",
   "execution_count": 25,
   "metadata": {
    "collapsed": true,
    "ExecuteTime": {
     "end_time": "2024-01-13T17:30:46.613267143Z",
     "start_time": "2024-01-13T17:30:46.605645525Z"
    }
   },
   "outputs": [],
   "source": [
    "p.start()\n",
    "p.join()"
   ]
  },
  {
   "cell_type": "code",
   "execution_count": 26,
   "metadata": {
    "ExecuteTime": {
     "end_time": "2024-01-13T17:30:46.773779304Z",
     "start_time": "2024-01-13T17:30:46.771242568Z"
    }
   },
   "outputs": [
    {
     "data": {
      "text/plain": "[1, 4, 9, 16]"
     },
     "execution_count": 26,
     "metadata": {},
     "output_type": "execute_result"
    }
   ],
   "source": [
    "list(result)"
   ]
  },
  {
   "cell_type": "code",
   "execution_count": 27,
   "metadata": {
    "ExecuteTime": {
     "end_time": "2024-01-13T17:30:47.088497688Z",
     "start_time": "2024-01-13T17:30:47.083649391Z"
    }
   },
   "outputs": [
    {
     "data": {
      "text/plain": "30"
     },
     "execution_count": 27,
     "metadata": {},
     "output_type": "execute_result"
    }
   ],
   "source": [
    "square_sum.value"
   ]
  },
  {
   "cell_type": "code",
   "execution_count": 27,
   "metadata": {
    "collapsed": true,
    "ExecuteTime": {
     "end_time": "2024-01-13T17:30:47.573879232Z",
     "start_time": "2024-01-13T17:30:47.566058950Z"
    }
   },
   "outputs": [],
   "source": []
  },
  {
   "cell_type": "markdown",
   "metadata": {},
   "source": [
    "## Method 2: Sharing data using Server Process\n",
    "\n",
    "Whenever a python program starts, a <b> server process </b> is also started. From there on, whenever a new process is needed, the parent process connects to the server and requests it to fork a new process. We can save the data in this server process which later can be shared among different child processes.\n",
    "    \n",
    "\n",
    "multiprocessing module provides a <b> Manager </b> class which controls a server process. Hence, this class provide way to share data using server process"
   ]
  },
  {
   "cell_type": "markdown",
   "metadata": {},
   "source": [
    "https://github.com/nikhilkumarsingh/Parallel-Programming-in-Python/blob/master/06.%20Sharing%20data%20using%20Server%20Process/notebook.ipynb"
   ]
  },
  {
   "cell_type": "code",
   "execution_count": 28,
   "metadata": {
    "collapsed": true,
    "ExecuteTime": {
     "end_time": "2024-01-13T17:30:49.710547953Z",
     "start_time": "2024-01-13T17:30:49.707283495Z"
    }
   },
   "outputs": [],
   "source": [
    "def get_data(data_list):\n",
    "    for data in data_list:\n",
    "        print(\"Name: %s \\nScore: %d\\n\" % (data[0], data[1]))\n",
    "\n",
    "def append_data(new_data, data_list):\n",
    "    data_list.append(new_data)\n",
    "    print(\"New data appended!\\n\")"
   ]
  },
  {
   "cell_type": "code",
   "execution_count": 29,
   "metadata": {
    "collapsed": true,
    "ExecuteTime": {
     "end_time": "2024-01-13T17:31:35.720499972Z",
     "start_time": "2024-01-13T17:31:35.675225828Z"
    }
   },
   "outputs": [],
   "source": [
    "database = ([('Maura', 70), ('Alexis', 79), ('Pete',96)])"
   ]
  },
  {
   "cell_type": "code",
   "execution_count": 30,
   "metadata": {
    "collapsed": true,
    "ExecuteTime": {
     "end_time": "2024-01-13T17:31:36.430573714Z",
     "start_time": "2024-01-13T17:31:36.426100157Z"
    }
   },
   "outputs": [],
   "source": [
    "new_data = ('Leroy', 87)"
   ]
  },
  {
   "cell_type": "code",
   "execution_count": 31,
   "metadata": {
    "collapsed": true,
    "ExecuteTime": {
     "end_time": "2024-01-13T17:33:00.696487034Z",
     "start_time": "2024-01-13T17:33:00.650442799Z"
    }
   },
   "outputs": [],
   "source": [
    "p1 = multiprocessing.Process(target=append_data, \n",
    "                             args=(new_data, database))\n",
    "p2 = multiprocessing.Process(target=get_data, args=(database, ))"
   ]
  },
  {
   "cell_type": "code",
   "execution_count": 32,
   "metadata": {
    "ExecuteTime": {
     "end_time": "2024-01-13T17:33:00.978717837Z",
     "start_time": "2024-01-13T17:33:00.968818742Z"
    }
   },
   "outputs": [
    {
     "name": "stdout",
     "output_type": "stream",
     "text": [
      "New data appended!\n"
     ]
    }
   ],
   "source": [
    "p1.start()\n",
    "p1.join()"
   ]
  },
  {
   "cell_type": "code",
   "execution_count": 33,
   "metadata": {
    "ExecuteTime": {
     "end_time": "2024-01-13T17:33:03.994432484Z",
     "start_time": "2024-01-13T17:33:03.979388037Z"
    }
   },
   "outputs": [
    {
     "name": "stdout",
     "output_type": "stream",
     "text": [
      "Name: Maura \n",
      "Score: 70\n",
      "\n",
      "Name: Alexis \n",
      "Score: 79\n",
      "\n",
      "Name: Pete \n",
      "Score: 96\n"
     ]
    }
   ],
   "source": [
    "p2.start()\n",
    "p2.join()"
   ]
  },
  {
   "cell_type": "code",
   "execution_count": 34,
   "metadata": {
    "ExecuteTime": {
     "end_time": "2024-01-13T17:33:06.825353589Z",
     "start_time": "2024-01-13T17:33:06.763619488Z"
    }
   },
   "outputs": [
    {
     "data": {
      "text/plain": "[('Maura', 70), ('Alexis', 79), ('Pete', 96)]"
     },
     "execution_count": 34,
     "metadata": {},
     "output_type": "execute_result"
    }
   ],
   "source": [
    "database"
   ]
  },
  {
   "cell_type": "markdown",
   "metadata": {},
   "source": [
    "#### `output`: After execution of p2 process, the new data elements should be visible in the data list but it is not visible because while process start to work with variables they create their own copy of variable so the p1 process `new_data` is not the one which is printed by the p2 process. Without data sharing the processes can not coordinate with each other"
   ]
  },
  {
   "cell_type": "markdown",
   "metadata": {},
   "source": [
    "### Now using the `Manager` class of multiprocessing module\n",
    "Note that the database list here is of type manager.list()"
   ]
  },
  {
   "cell_type": "code",
   "execution_count": 35,
   "metadata": {
    "ExecuteTime": {
     "end_time": "2024-01-13T17:34:37.049231957Z",
     "start_time": "2024-01-13T17:34:37.006891120Z"
    }
   },
   "outputs": [
    {
     "name": "stdout",
     "output_type": "stream",
     "text": [
      "New data appended!\n",
      "\n",
      "Name: Maura \n",
      "Score: 70\n",
      "\n",
      "Name: Alexis \n",
      "Score: 79\n",
      "\n",
      "Name: Pete \n",
      "Score: 96\n",
      "\n",
      "Name: Leroy \n",
      "Score: 87\n",
      "\n",
      "Data available to the Manager:  [('Maura', 70), ('Alexis', 79), ('Pete', 96), ('Leroy', 87)]\n"
     ]
    }
   ],
   "source": [
    "with multiprocessing.Manager() as manager:\n",
    "    \n",
    "    database = (manager.list([('Maura', 70), ('Alexis', 79), ('Pete',96)]))\n",
    "    new_data = ('Leroy', 87)\n",
    "\n",
    "    p1 = multiprocessing.Process(target=append_data, \n",
    "                                 args=(new_data, database)) \n",
    "    p2 = multiprocessing.Process(target=get_data, args=(database,))\n",
    "    \n",
    "    p1.start()\n",
    "    p2.start()\n",
    "    \n",
    "    p1.join()\n",
    "    p2.join()\n",
    "    \n",
    "    print(\"Data available to the Manager: \", database)"
   ]
  },
  {
   "cell_type": "markdown",
   "metadata": {},
   "source": [
    "<b> `output`: Process p2 asks server process for the updated list that is saved in the variable `data`, hence we can see the `new data` in it <b>"
   ]
  },
  {
   "cell_type": "code",
   "execution_count": null,
   "metadata": {
    "collapsed": true
   },
   "outputs": [],
   "source": []
  },
  {
   "cell_type": "code",
   "execution_count": null,
   "metadata": {
    "collapsed": true
   },
   "outputs": [],
   "source": []
  },
  {
   "cell_type": "code",
   "execution_count": null,
   "metadata": {
    "collapsed": true
   },
   "outputs": [],
   "source": []
  },
  {
   "cell_type": "code",
   "execution_count": null,
   "metadata": {
    "collapsed": true
   },
   "outputs": [],
   "source": []
  },
  {
   "cell_type": "code",
   "execution_count": null,
   "metadata": {
    "collapsed": true
   },
   "outputs": [],
   "source": []
  },
  {
   "cell_type": "code",
   "execution_count": null,
   "metadata": {
    "collapsed": true
   },
   "outputs": [],
   "source": []
  },
  {
   "cell_type": "code",
   "execution_count": null,
   "metadata": {
    "collapsed": true
   },
   "outputs": [],
   "source": []
  },
  {
   "cell_type": "code",
   "execution_count": null,
   "metadata": {
    "collapsed": true
   },
   "outputs": [],
   "source": []
  },
  {
   "cell_type": "code",
   "execution_count": null,
   "metadata": {
    "collapsed": true
   },
   "outputs": [],
   "source": []
  },
  {
   "cell_type": "code",
   "execution_count": null,
   "metadata": {
    "collapsed": true
   },
   "outputs": [],
   "source": []
  },
  {
   "cell_type": "code",
   "execution_count": null,
   "metadata": {
    "collapsed": true
   },
   "outputs": [],
   "source": []
  },
  {
   "cell_type": "code",
   "execution_count": null,
   "metadata": {
    "collapsed": true
   },
   "outputs": [],
   "source": []
  },
  {
   "cell_type": "code",
   "execution_count": null,
   "metadata": {
    "collapsed": true
   },
   "outputs": [],
   "source": []
  },
  {
   "cell_type": "code",
   "execution_count": null,
   "metadata": {
    "collapsed": true
   },
   "outputs": [],
   "source": []
  },
  {
   "cell_type": "code",
   "execution_count": null,
   "metadata": {
    "collapsed": true
   },
   "outputs": [],
   "source": []
  },
  {
   "cell_type": "code",
   "execution_count": null,
   "metadata": {
    "collapsed": true
   },
   "outputs": [],
   "source": []
  }
 ],
 "metadata": {
  "kernelspec": {
   "display_name": "Python 3",
   "language": "python",
   "name": "python3"
  },
  "language_info": {
   "codemirror_mode": {
    "name": "ipython",
    "version": 3
   },
   "file_extension": ".py",
   "mimetype": "text/x-python",
   "name": "python",
   "nbconvert_exporter": "python",
   "pygments_lexer": "ipython3",
   "version": "3.7.3"
  }
 },
 "nbformat": 4,
 "nbformat_minor": 2
}
