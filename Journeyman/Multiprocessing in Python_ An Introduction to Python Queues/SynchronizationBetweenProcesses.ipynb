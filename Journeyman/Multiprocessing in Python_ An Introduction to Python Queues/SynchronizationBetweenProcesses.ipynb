{
 "cells": [
  {
   "cell_type": "markdown",
   "metadata": {},
   "source": [
    "### The concept of `multiprocessing lock` is similar to the lock in multi threading, without the use of lock when a shared data is accessed by a single process then other process can also access the shared data which will result a corrupt output"
   ]
  },
  {
   "cell_type": "markdown",
   "metadata": {},
   "source": [
    "https://docs.python.org/3/library/multiprocessing.html#synchronization-between-processes"
   ]
  },
  {
   "cell_type": "markdown",
   "metadata": {},
   "source": [
    "https://github.com/codebasics/py/blob/master/Multiprocessing/multiprocessing_lock.py"
   ]
  },
  {
   "cell_type": "code",
   "execution_count": 1,
   "metadata": {
    "collapsed": true,
    "ExecuteTime": {
     "end_time": "2024-01-13T17:39:48.729868556Z",
     "start_time": "2024-01-13T17:39:48.728707388Z"
    }
   },
   "outputs": [],
   "source": [
    "import time\n",
    "import multiprocessing"
   ]
  },
  {
   "cell_type": "markdown",
   "metadata": {},
   "source": [
    "### Creating a simple deposit and withdrawal operation without the help of multiprocessing"
   ]
  },
  {
   "cell_type": "code",
   "execution_count": 2,
   "metadata": {
    "collapsed": true,
    "ExecuteTime": {
     "end_time": "2024-01-13T17:39:50.760885813Z",
     "start_time": "2024-01-13T17:39:50.759843180Z"
    }
   },
   "outputs": [],
   "source": [
    "def deposit_without_mp(balance, amount):\n",
    "    for i in range(100):\n",
    "        time.sleep(0.01)\n",
    "        balance += amount\n",
    "    return balance"
   ]
  },
  {
   "cell_type": "code",
   "execution_count": 3,
   "metadata": {
    "collapsed": true,
    "ExecuteTime": {
     "end_time": "2024-01-13T17:39:51.168519339Z",
     "start_time": "2024-01-13T17:39:51.164467401Z"
    }
   },
   "outputs": [],
   "source": [
    "def withdraw_without_mp(balance, amount):\n",
    "    for i in range(100):\n",
    "        time.sleep(0.01)\n",
    "        balance -= amount\n",
    "    return balance        "
   ]
  },
  {
   "cell_type": "code",
   "execution_count": 4,
   "metadata": {
    "ExecuteTime": {
     "end_time": "2024-01-13T17:39:52.068159001Z",
     "start_time": "2024-01-13T17:39:52.064767062Z"
    }
   },
   "outputs": [
    {
     "data": {
      "text/plain": "600"
     },
     "execution_count": 4,
     "metadata": {},
     "output_type": "execute_result"
    }
   ],
   "source": [
    "balance = 600\n",
    "balance"
   ]
  },
  {
   "cell_type": "code",
   "execution_count": 5,
   "metadata": {
    "ExecuteTime": {
     "end_time": "2024-01-13T17:39:55.300327072Z",
     "start_time": "2024-01-13T17:39:54.291392270Z"
    }
   },
   "outputs": [
    {
     "data": {
      "text/plain": "1100"
     },
     "execution_count": 5,
     "metadata": {},
     "output_type": "execute_result"
    }
   ],
   "source": [
    "balance = deposit_without_mp(balance, 5)\n",
    "balance"
   ]
  },
  {
   "cell_type": "code",
   "execution_count": 6,
   "metadata": {
    "ExecuteTime": {
     "end_time": "2024-01-13T17:40:07.060912628Z",
     "start_time": "2024-01-13T17:40:06.050705108Z"
    }
   },
   "outputs": [
    {
     "name": "stdout",
     "output_type": "stream",
     "text": [
      "Final balance: 600\n"
     ]
    }
   ],
   "source": [
    "balance = withdraw_without_mp(balance, 5)\n",
    "print('Final balance:', balance)"
   ]
  },
  {
   "cell_type": "markdown",
   "metadata": {},
   "source": [
    "<B> `output`: Although the code is sequential but the output is fine <B>"
   ]
  },
  {
   "cell_type": "markdown",
   "metadata": {},
   "source": [
    "### This time for the same operation, multiprocessing is used, which is simplifying the operation\n",
    "The balance is a variable in shared memory now and is not returned by the functions"
   ]
  },
  {
   "cell_type": "code",
   "execution_count": 7,
   "metadata": {
    "collapsed": true,
    "ExecuteTime": {
     "end_time": "2024-01-13T17:43:24.793677217Z",
     "start_time": "2024-01-13T17:43:24.752156210Z"
    }
   },
   "outputs": [],
   "source": [
    "def deposit_without_lock(balance, amount):\n",
    "    for i in range(100):\n",
    "        time.sleep(0.01)\n",
    "        balance.value += amount\n",
    "\n",
    "def withdraw_without_lock(balance, amount):\n",
    "    for i in range(100):\n",
    "        time.sleep(0.01)\n",
    "        balance.value -= amount"
   ]
  },
  {
   "cell_type": "code",
   "execution_count": 8,
   "metadata": {
    "collapsed": true,
    "ExecuteTime": {
     "end_time": "2024-01-13T17:43:25.121687024Z",
     "start_time": "2024-01-13T17:43:25.117092928Z"
    }
   },
   "outputs": [],
   "source": [
    "balance = multiprocessing.Value('i', 600) "
   ]
  },
  {
   "cell_type": "code",
   "execution_count": 9,
   "metadata": {
    "ExecuteTime": {
     "end_time": "2024-01-13T17:43:26.542918112Z",
     "start_time": "2024-01-13T17:43:25.523837093Z"
    }
   },
   "outputs": [
    {
     "name": "stdout",
     "output_type": "stream",
     "text": [
      "Final balance: 600\n"
     ]
    }
   ],
   "source": [
    "d = multiprocessing.Process(target=deposit_without_lock, args=(balance,5))\n",
    "w = multiprocessing.Process(target=withdraw_without_lock, args=(balance,5))\n",
    "\n",
    "d.start()\n",
    "w.start()\n",
    "\n",
    "d.join()\n",
    "w.join()\n",
    "\n",
    "print('Final balance:', balance.value)"
   ]
  },
  {
   "cell_type": "markdown",
   "metadata": {},
   "source": [
    "<B> `output`: When running for the first time the output may be correct but if we run it again and again then all we get is corrupt output, to solve this problem we use `Lock`  <B>"
   ]
  },
  {
   "cell_type": "markdown",
   "metadata": {},
   "source": [
    "### Creating the operation with `Lock`\n",
    "* For process synchronization, we use primitives same as `threading` module\n",
    "* `acquire()` is to lock the shared data for one process and `release()` is for to release the data after the process done working with the shared data"
   ]
  },
  {
   "cell_type": "code",
   "execution_count": 10,
   "metadata": {
    "collapsed": true,
    "ExecuteTime": {
     "end_time": "2024-01-13T17:43:39.908136297Z",
     "start_time": "2024-01-13T17:43:39.905599711Z"
    }
   },
   "outputs": [],
   "source": [
    "def deposit_with_lock(balance, amount, lock):\n",
    "    \n",
    "    for i in range(100):\n",
    "        time.sleep(0.01)\n",
    "        \n",
    "        lock.acquire() \n",
    "        \n",
    "        balance.value += amount\n",
    "        \n",
    "        lock.release()"
   ]
  },
  {
   "cell_type": "code",
   "execution_count": 11,
   "metadata": {
    "collapsed": true,
    "ExecuteTime": {
     "end_time": "2024-01-13T17:43:43.907662575Z",
     "start_time": "2024-01-13T17:43:43.901564426Z"
    }
   },
   "outputs": [],
   "source": [
    "def withdraw_with_lock(balance, amount, lock):\n",
    "    \n",
    "    for i in range(100):\n",
    "        time.sleep(0.01)\n",
    "        \n",
    "        lock.acquire()\n",
    "        \n",
    "        balance.value -= amount\n",
    "        \n",
    "        lock.release()"
   ]
  },
  {
   "cell_type": "code",
   "execution_count": 12,
   "metadata": {
    "collapsed": true,
    "ExecuteTime": {
     "end_time": "2024-01-13T17:43:44.205537212Z",
     "start_time": "2024-01-13T17:43:44.199749119Z"
    }
   },
   "outputs": [],
   "source": [
    "balance = multiprocessing.Value('i', 600)\n",
    "lock = multiprocessing.Lock()"
   ]
  },
  {
   "cell_type": "code",
   "execution_count": 13,
   "metadata": {
    "ExecuteTime": {
     "end_time": "2024-01-13T17:43:45.651471276Z",
     "start_time": "2024-01-13T17:43:44.593052950Z"
    }
   },
   "outputs": [
    {
     "name": "stdout",
     "output_type": "stream",
     "text": [
      "Final balance: 600\n"
     ]
    }
   ],
   "source": [
    "d = multiprocessing.Process(target=deposit_with_lock, \n",
    "                            args=(balance, 5, lock))\n",
    "w = multiprocessing.Process(target=withdraw_with_lock, \n",
    "                            args=(balance, 5, lock))\n",
    "\n",
    "d.start()\n",
    "w.start()\n",
    "\n",
    "d.join()\n",
    "w.join()\n",
    "\n",
    "print('Final balance:', balance.value)"
   ]
  },
  {
   "cell_type": "markdown",
   "metadata": {},
   "source": [
    "<b> `output`: This time we get the correct time each time we run the operation <b>"
   ]
  },
  {
   "cell_type": "code",
   "execution_count": null,
   "metadata": {
    "collapsed": true
   },
   "outputs": [],
   "source": []
  },
  {
   "cell_type": "code",
   "execution_count": null,
   "metadata": {
    "collapsed": true
   },
   "outputs": [],
   "source": []
  },
  {
   "cell_type": "code",
   "execution_count": null,
   "metadata": {
    "collapsed": true
   },
   "outputs": [],
   "source": []
  },
  {
   "cell_type": "code",
   "execution_count": null,
   "metadata": {
    "collapsed": true
   },
   "outputs": [],
   "source": []
  },
  {
   "cell_type": "code",
   "execution_count": null,
   "metadata": {
    "collapsed": true
   },
   "outputs": [],
   "source": []
  },
  {
   "cell_type": "code",
   "execution_count": null,
   "metadata": {
    "collapsed": true
   },
   "outputs": [],
   "source": []
  },
  {
   "cell_type": "code",
   "execution_count": null,
   "metadata": {
    "collapsed": true
   },
   "outputs": [],
   "source": []
  },
  {
   "cell_type": "code",
   "execution_count": null,
   "metadata": {
    "collapsed": true
   },
   "outputs": [],
   "source": []
  },
  {
   "cell_type": "code",
   "execution_count": null,
   "metadata": {
    "collapsed": true
   },
   "outputs": [],
   "source": []
  },
  {
   "cell_type": "code",
   "execution_count": null,
   "metadata": {
    "collapsed": true
   },
   "outputs": [],
   "source": []
  },
  {
   "cell_type": "code",
   "execution_count": null,
   "metadata": {
    "collapsed": true
   },
   "outputs": [],
   "source": []
  },
  {
   "cell_type": "code",
   "execution_count": null,
   "metadata": {
    "collapsed": true
   },
   "outputs": [],
   "source": []
  },
  {
   "cell_type": "code",
   "execution_count": null,
   "metadata": {
    "collapsed": true
   },
   "outputs": [],
   "source": []
  },
  {
   "cell_type": "code",
   "execution_count": null,
   "metadata": {
    "collapsed": true
   },
   "outputs": [],
   "source": []
  },
  {
   "cell_type": "code",
   "execution_count": null,
   "metadata": {
    "collapsed": true
   },
   "outputs": [],
   "source": []
  },
  {
   "cell_type": "code",
   "execution_count": null,
   "metadata": {
    "collapsed": true
   },
   "outputs": [],
   "source": []
  },
  {
   "cell_type": "code",
   "execution_count": null,
   "metadata": {
    "collapsed": true
   },
   "outputs": [],
   "source": []
  },
  {
   "cell_type": "code",
   "execution_count": null,
   "metadata": {
    "collapsed": true
   },
   "outputs": [],
   "source": []
  }
 ],
 "metadata": {
  "kernelspec": {
   "display_name": "Python 3",
   "language": "python",
   "name": "python3"
  },
  "language_info": {
   "codemirror_mode": {
    "name": "ipython",
    "version": 3
   },
   "file_extension": ".py",
   "mimetype": "text/x-python",
   "name": "python",
   "nbconvert_exporter": "python",
   "pygments_lexer": "ipython3",
   "version": "3.7.3"
  }
 },
 "nbformat": 4,
 "nbformat_minor": 2
}
