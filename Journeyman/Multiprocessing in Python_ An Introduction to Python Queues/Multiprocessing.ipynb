{
 "cells": [
  {
   "cell_type": "markdown",
   "metadata": {},
   "source": [
    "### `Multiprocessing` is a process which allow spawning i.e. it creates child process and execute them, in multithreading child threads are created and executed, here instead of child threads child processes or sub processes are created\n",
    "* The main advantage of multiprocessing is that global interpreter has no effect on it, due to this, the multiprocessing module allows the programmer to fully leverage multiple processors on a given machine.\n",
    "\n",
    "https://docs.python.org/3/library/multiprocessing.html"
   ]
  },
  {
   "cell_type": "markdown",
   "metadata": {},
   "source": [
    "https://github.com/codebasics/py/blob/master/Multiprocessing/multiprocessing_introduction.py"
   ]
  },
  {
   "cell_type": "code",
   "execution_count": 11,
   "metadata": {
    "ExecuteTime": {
     "end_time": "2024-01-13T16:59:10.576547296Z",
     "start_time": "2024-01-13T16:59:10.533102265Z"
    }
   },
   "outputs": [],
   "source": [
    "import time"
   ]
  },
  {
   "cell_type": "code",
   "execution_count": 12,
   "metadata": {
    "collapsed": true,
    "ExecuteTime": {
     "end_time": "2024-01-13T16:59:10.837264949Z",
     "start_time": "2024-01-13T16:59:10.833464216Z"
    }
   },
   "outputs": [],
   "source": [
    "def square(number):\n",
    "    \n",
    "    time.sleep(1)\n",
    "    result = number * number\n",
    "    print(\"The number %d squares to %d\" % (number, result))"
   ]
  },
  {
   "cell_type": "code",
   "execution_count": 13,
   "metadata": {
    "ExecuteTime": {
     "end_time": "2024-01-13T16:59:15.122156165Z",
     "start_time": "2024-01-13T16:59:11.120610278Z"
    }
   },
   "outputs": [
    {
     "name": "stdout",
     "output_type": "stream",
     "text": [
      "The number 1 squares to 1\n",
      "The number 2 squares to 4\n",
      "The number 3 squares to 9\n",
      "The number 4 squares to 16\n"
     ]
    }
   ],
   "source": [
    "numbers = [1, 2, 3, 4]\n",
    "\n",
    "start_time = time.time()\n",
    "\n",
    "for number in numbers:\n",
    "        square(number)  \n",
    "        \n",
    "end_time = time.time()"
   ]
  },
  {
   "cell_type": "code",
   "execution_count": 14,
   "metadata": {
    "ExecuteTime": {
     "end_time": "2024-01-13T16:59:15.127040154Z",
     "start_time": "2024-01-13T16:59:15.124103886Z"
    }
   },
   "outputs": [
    {
     "data": {
      "text/plain": "4.000694990158081"
     },
     "execution_count": 14,
     "metadata": {},
     "output_type": "execute_result"
    }
   ],
   "source": [
    "end_time - start_time"
   ]
  },
  {
   "cell_type": "markdown",
   "metadata": {},
   "source": [
    "<B> importing multiprocessing and os module <B>"
   ]
  },
  {
   "cell_type": "code",
   "execution_count": 15,
   "metadata": {
    "ExecuteTime": {
     "end_time": "2024-01-13T16:59:15.138851167Z",
     "start_time": "2024-01-13T16:59:15.126553515Z"
    }
   },
   "outputs": [],
   "source": [
    "import os\n",
    "\n",
    "from multiprocessing import Process, current_process"
   ]
  },
  {
   "cell_type": "markdown",
   "metadata": {},
   "source": [
    "### The above operation is being executed using `multiprocessing` module, the syntax is similar to `threading`\n",
    "`start()`: Start the process’s activity. This must be called at most once per process object.\n",
    "https://docs.python.org/3/library/multiprocessing.html#multiprocessing.Process.start\n",
    "\n",
    "`join()`: It lets the child process execute before the main process starts. <Br>\n",
    "https://docs.python.org/3/library/multiprocessing.html#multiprocessing.Process.join"
   ]
  },
  {
   "cell_type": "markdown",
   "metadata": {},
   "source": [
    "We are using the \"os\" module in Python to print out the process ID assigned to the call of this function assigned by the operating system. \n",
    "https://docs.python.org/3/library/os.html#os.getpid"
   ]
  },
  {
   "cell_type": "code",
   "execution_count": 16,
   "metadata": {
    "collapsed": true,
    "ExecuteTime": {
     "end_time": "2024-01-13T16:59:15.139330093Z",
     "start_time": "2024-01-13T16:59:15.134862318Z"
    }
   },
   "outputs": [],
   "source": [
    "def square(number):\n",
    "    \n",
    "    time.sleep(1)\n",
    "    result = number * number\n",
    "    \n",
    "    process_id = os.getpid()\n",
    "    print(\"\\nProcess ID:\", process_id)\n",
    "    \n",
    "    print(\"The number %d squares to %d \\n\" % (number, result))"
   ]
  },
  {
   "cell_type": "code",
   "execution_count": 27,
   "metadata": {
    "ExecuteTime": {
     "end_time": "2024-01-13T17:05:07.447561496Z",
     "start_time": "2024-01-13T17:05:06.428633739Z"
    }
   },
   "outputs": [
    {
     "name": "stdout",
     "output_type": "stream",
     "text": [
      "\n",
      "Process ID: 8355\n",
      "\n",
      "Process ID:The number 2 squares to 4 \n",
      " \n",
      "8356\n",
      "The number 3 squares to 9 \n",
      "\n",
      "\n",
      "Process ID: 8357\n",
      "The number 4 squares to 16 \n"
     ]
    }
   ],
   "source": [
    "start_time = time.time()\n",
    "\n",
    "for i, number in enumerate(numbers):\n",
    "    \n",
    "    process = Process(target=square, args=(number,))\n",
    "    process.start()\n",
    "    \n",
    "process.join()\n",
    "\n",
    "end_time = time.time()"
   ]
  },
  {
   "cell_type": "code",
   "execution_count": 28,
   "metadata": {
    "ExecuteTime": {
     "end_time": "2024-01-13T17:05:10.353863949Z",
     "start_time": "2024-01-13T17:05:10.294158803Z"
    }
   },
   "outputs": [
    {
     "data": {
      "text/plain": "1.0160343647003174"
     },
     "execution_count": 28,
     "metadata": {},
     "output_type": "execute_result"
    }
   ],
   "source": [
    "end_time - start_time"
   ]
  },
  {
   "cell_type": "markdown",
   "metadata": {},
   "source": [
    "### We can also use the `current process` function to get the name of the current process"
   ]
  },
  {
   "cell_type": "code",
   "execution_count": 29,
   "metadata": {
    "ExecuteTime": {
     "end_time": "2024-01-13T17:06:39.644500539Z",
     "start_time": "2024-01-13T17:06:39.601550634Z"
    }
   },
   "outputs": [],
   "source": [
    "def square(number):\n",
    "    \n",
    "    time.sleep(1)\n",
    "    result = number * number\n",
    "    \n",
    "    process_id = current_process().pid\n",
    "    process_name = current_process().name\n",
    "    \n",
    "    print(\"Process ID is %s and %s and name is %s\" % (process_id, os.getpid(), process_name))\n",
    "    \n",
    "    print(\"The number %d squares to %d \\n\" % (number, result))"
   ]
  },
  {
   "cell_type": "code",
   "execution_count": 30,
   "metadata": {
    "ExecuteTime": {
     "end_time": "2024-01-13T17:06:51.491011367Z",
     "start_time": "2024-01-13T17:06:50.472274221Z"
    }
   },
   "outputs": [
    {
     "name": "stdout",
     "output_type": "stream",
     "text": [
      "Process ID is 8435 and 8435 and name is Process-34\n",
      "The number 2 squares to 4 \n",
      "\n",
      "Process ID is 8436 and 8436 and name is Process-35\n",
      "The number 3 squares to 9 \n",
      "\n",
      "Process ID is 8437 and 8437 and name is Process-36\n",
      "The number 4 squares to 16 \n"
     ]
    }
   ],
   "source": [
    "start_time = time.time()\n",
    "\n",
    "for i, number in enumerate(numbers):\n",
    "    \n",
    "    process = Process(target=square, args=(number,))\n",
    "    process.start() \n",
    "    \n",
    "process.join()\n",
    "\n",
    "end_time = time.time()"
   ]
  },
  {
   "cell_type": "code",
   "execution_count": null,
   "metadata": {
    "collapsed": true
   },
   "outputs": [],
   "source": []
  },
  {
   "cell_type": "code",
   "execution_count": null,
   "metadata": {
    "collapsed": true
   },
   "outputs": [],
   "source": []
  },
  {
   "cell_type": "code",
   "execution_count": null,
   "metadata": {
    "collapsed": true
   },
   "outputs": [],
   "source": []
  },
  {
   "cell_type": "code",
   "execution_count": null,
   "metadata": {
    "collapsed": true
   },
   "outputs": [],
   "source": []
  },
  {
   "cell_type": "code",
   "execution_count": null,
   "metadata": {
    "collapsed": true
   },
   "outputs": [],
   "source": []
  },
  {
   "cell_type": "code",
   "execution_count": null,
   "metadata": {
    "collapsed": true
   },
   "outputs": [],
   "source": []
  },
  {
   "cell_type": "code",
   "execution_count": null,
   "metadata": {
    "collapsed": true
   },
   "outputs": [],
   "source": []
  },
  {
   "cell_type": "code",
   "execution_count": null,
   "metadata": {
    "collapsed": true
   },
   "outputs": [],
   "source": []
  },
  {
   "cell_type": "code",
   "execution_count": null,
   "metadata": {
    "collapsed": true
   },
   "outputs": [],
   "source": []
  }
 ],
 "metadata": {
  "kernelspec": {
   "display_name": "Python 3",
   "language": "python",
   "name": "python3"
  },
  "language_info": {
   "codemirror_mode": {
    "name": "ipython",
    "version": 3
   },
   "file_extension": ".py",
   "mimetype": "text/x-python",
   "name": "python",
   "nbconvert_exporter": "python",
   "pygments_lexer": "ipython3",
   "version": "3.7.3"
  }
 },
 "nbformat": 4,
 "nbformat_minor": 2
}
