{
 "cells": [
  {
   "cell_type": "markdown",
   "metadata": {},
   "source": [
    "### In this demo the difference between multiprocessing and multithreading in terms of memory sharing is demonstrated."
   ]
  },
  {
   "cell_type": "code",
   "execution_count": 1,
   "metadata": {
    "collapsed": true,
    "ExecuteTime": {
     "end_time": "2024-01-13T17:10:07.012873601Z",
     "start_time": "2024-01-13T17:10:07.012329764Z"
    }
   },
   "outputs": [],
   "source": [
    "import time\n",
    "import multiprocessing"
   ]
  },
  {
   "cell_type": "code",
   "execution_count": 2,
   "metadata": {
    "collapsed": true,
    "ExecuteTime": {
     "end_time": "2024-01-13T17:10:07.454183589Z",
     "start_time": "2024-01-13T17:10:07.451058761Z"
    }
   },
   "outputs": [],
   "source": [
    "def square(numbers):\n",
    "    for n in numbers:\n",
    "        print('square of %d is %d' % (n, n*n))\n",
    "\n",
    "def cube(numbers):\n",
    "    for n in numbers:\n",
    "        print('cube of %d is %d' % (n, n*n*n))"
   ]
  },
  {
   "cell_type": "code",
   "execution_count": 4,
   "metadata": {
    "ExecuteTime": {
     "end_time": "2024-01-13T17:13:23.622510418Z",
     "start_time": "2024-01-13T17:13:23.572689170Z"
    }
   },
   "outputs": [
    {
     "name": "stdout",
     "output_type": "stream",
     "text": [
      "cube of 2 is 8\n",
      "cube of 3 is 27\n",
      "cube of 8 is 512\n",
      "square of 2 is 4\n",
      "square of 3 is 9\n",
      "square of 8 is 64\n",
      "\n",
      "Completed\n"
     ]
    }
   ],
   "source": [
    "num_list = [2,3,8]\n",
    "\n",
    "p1 = multiprocessing.Process(target=square, args=(num_list,))\n",
    "p2 = multiprocessing.Process(target=cube, args=(num_list,))\n",
    "\n",
    "p1.start()\n",
    "p2.start()\n",
    "\n",
    "p1.join()\n",
    "p2.join()\n",
    "\n",
    "print(\"\\nCompleted\")"
   ]
  },
  {
   "cell_type": "markdown",
   "metadata": {},
   "source": [
    "### Instead of printing the result, save it in a global variable, declaring a global variable `square_result `"
   ]
  },
  {
   "cell_type": "code",
   "execution_count": 5,
   "metadata": {
    "collapsed": true,
    "ExecuteTime": {
     "end_time": "2024-01-13T17:13:25.601549647Z",
     "start_time": "2024-01-13T17:13:25.599106006Z"
    }
   },
   "outputs": [],
   "source": [
    "square_result = []\n",
    "\n",
    "def square(numbers):\n",
    "    \n",
    "    global square_result\n",
    "    \n",
    "    for n in numbers:\n",
    "        print('square of %d is %d' % (n, n*n))\n",
    "        square_result.append(n*n)\n",
    "        "
   ]
  },
  {
   "cell_type": "code",
   "execution_count": 6,
   "metadata": {
    "ExecuteTime": {
     "end_time": "2024-01-13T17:13:28.000154656Z",
     "start_time": "2024-01-13T17:13:27.974548324Z"
    }
   },
   "outputs": [
    {
     "name": "stdout",
     "output_type": "stream",
     "text": [
      "square of 2 is 4\n",
      "square of 3 is 9\n",
      "square of 8 is 64\n",
      "\n",
      "Result: []\n",
      "\n",
      "Completed\n"
     ]
    }
   ],
   "source": [
    "p1 = multiprocessing.Process(target=square, args=(num_list,))\n",
    "\n",
    "p1.start()\n",
    "p1.join()\n",
    "    \n",
    "print('\\nResult:', square_result)\n",
    "\n",
    "print(\"\\nCompleted\")"
   ]
  },
  {
   "cell_type": "markdown",
   "metadata": {},
   "source": [
    "`output`: the result has not been saved inside the list instead we are getting an empty list which we created initially, because every process has their own memory space, every process copies the global variable and the original global variable will not be changed, that is why when the `square_result` is printed outside the process (the function is behaving like a process here) it is printing the empty list"
   ]
  },
  {
   "cell_type": "markdown",
   "metadata": {},
   "source": [
    "#### `Note`: Every process has its own address space(virtual memory). Thus program variables are not shared between two processes. We need to use `interprocess communication (IPC)` techniques if we want to share data between two processes which will be shown further"
   ]
  },
  {
   "cell_type": "markdown",
   "metadata": {},
   "source": [
    "### If we print `square_result` variable inside the process (i.e. function) we'll get the required list"
   ]
  },
  {
   "cell_type": "code",
   "execution_count": 7,
   "metadata": {
    "collapsed": true,
    "ExecuteTime": {
     "end_time": "2024-01-13T17:14:19.492510055Z",
     "start_time": "2024-01-13T17:14:19.451809130Z"
    }
   },
   "outputs": [],
   "source": [
    "def square(numbers):\n",
    "    \n",
    "    global square_result\n",
    "    \n",
    "    for n in numbers:\n",
    "        print('square of %d is %d' % (n, n*n))\n",
    "        square_result.append(n*n)\n",
    "        \n",
    "    print('\\nWithin the process. Result:', square_result)"
   ]
  },
  {
   "cell_type": "code",
   "execution_count": 8,
   "metadata": {
    "ExecuteTime": {
     "end_time": "2024-01-13T17:14:22.895448808Z",
     "start_time": "2024-01-13T17:14:22.871643737Z"
    }
   },
   "outputs": [
    {
     "name": "stdout",
     "output_type": "stream",
     "text": [
      "square of 2 is 4\n",
      "square of 3 is 9\n",
      "square of 8 is 64\n",
      "\n",
      "Within the process. Result: [4, 9, 64]\n",
      "Completed\n"
     ]
    }
   ],
   "source": [
    "p1 = multiprocessing.Process(target=square, args=(num_list,))\n",
    "\n",
    "p1.start()\n",
    "p1.join()\n",
    "\n",
    "print(\"Completed\")"
   ]
  },
  {
   "cell_type": "markdown",
   "metadata": {},
   "source": [
    "### This memory sharing property of multiprocessing is opposite of `multithreading` module, in threading once a variable is declared that is shared between every thread"
   ]
  },
  {
   "cell_type": "code",
   "execution_count": 9,
   "metadata": {
    "collapsed": true,
    "ExecuteTime": {
     "end_time": "2024-01-13T17:15:06.928544237Z",
     "start_time": "2024-01-13T17:15:06.886680692Z"
    }
   },
   "outputs": [],
   "source": [
    "import threading"
   ]
  },
  {
   "cell_type": "code",
   "execution_count": 10,
   "metadata": {
    "collapsed": true,
    "ExecuteTime": {
     "end_time": "2024-01-13T17:15:08.244571141Z",
     "start_time": "2024-01-13T17:15:08.197934378Z"
    }
   },
   "outputs": [],
   "source": [
    "def square(numbers):\n",
    "    \n",
    "    global square_result\n",
    "    \n",
    "    for n in numbers:\n",
    "        print('square of %d is %d' % (n, n*n))\n",
    "        square_result.append(n*n)"
   ]
  },
  {
   "cell_type": "code",
   "execution_count": 11,
   "metadata": {
    "ExecuteTime": {
     "end_time": "2024-01-13T17:15:12.535906627Z",
     "start_time": "2024-01-13T17:15:12.533936028Z"
    }
   },
   "outputs": [
    {
     "name": "stdout",
     "output_type": "stream",
     "text": [
      "square of 2 is 4\n",
      "square of 3 is 9\n",
      "square of 8 is 64\n",
      "\n",
      "Result: [4, 9, 64]\n",
      "\n",
      "Completed\n"
     ]
    }
   ],
   "source": [
    "p1 = threading.Thread(target=square, args=(num_list,))\n",
    "\n",
    "p1.start()\n",
    "p1.join()\n",
    "\n",
    "print('\\nResult:', square_result)\n",
    "\n",
    "print(\"\\nCompleted\")"
   ]
  },
  {
   "cell_type": "markdown",
   "metadata": {},
   "source": [
    "`output`: Thread changed the globally declared variable and saved the square of the integers"
   ]
  },
  {
   "cell_type": "code",
   "execution_count": null,
   "metadata": {
    "collapsed": true
   },
   "outputs": [],
   "source": []
  },
  {
   "cell_type": "code",
   "execution_count": null,
   "metadata": {
    "collapsed": true
   },
   "outputs": [],
   "source": []
  },
  {
   "cell_type": "code",
   "execution_count": null,
   "metadata": {
    "collapsed": true
   },
   "outputs": [],
   "source": []
  },
  {
   "cell_type": "code",
   "execution_count": null,
   "metadata": {
    "collapsed": true
   },
   "outputs": [],
   "source": []
  },
  {
   "cell_type": "code",
   "execution_count": null,
   "metadata": {
    "collapsed": true
   },
   "outputs": [],
   "source": []
  },
  {
   "cell_type": "code",
   "execution_count": null,
   "metadata": {
    "collapsed": true
   },
   "outputs": [],
   "source": []
  },
  {
   "cell_type": "code",
   "execution_count": null,
   "metadata": {
    "collapsed": true
   },
   "outputs": [],
   "source": []
  }
 ],
 "metadata": {
  "kernelspec": {
   "display_name": "Python 3",
   "language": "python",
   "name": "python3"
  },
  "language_info": {
   "codemirror_mode": {
    "name": "ipython",
    "version": 3
   },
   "file_extension": ".py",
   "mimetype": "text/x-python",
   "name": "python",
   "nbconvert_exporter": "python",
   "pygments_lexer": "ipython3",
   "version": "3.7.3"
  }
 },
 "nbformat": 4,
 "nbformat_minor": 2
}
