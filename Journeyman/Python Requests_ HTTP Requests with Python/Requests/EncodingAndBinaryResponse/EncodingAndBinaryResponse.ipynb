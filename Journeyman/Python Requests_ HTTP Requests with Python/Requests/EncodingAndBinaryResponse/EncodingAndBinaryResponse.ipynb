{
 "cells": [
  {
   "cell_type": "code",
   "execution_count": 33,
   "id": "initial_id",
   "metadata": {
    "collapsed": true,
    "ExecuteTime": {
     "end_time": "2023-12-30T21:19:45.497506961Z",
     "start_time": "2023-12-30T21:19:45.480771269Z"
    }
   },
   "outputs": [],
   "source": [
    "import requests\n",
    "from pprint import pprint"
   ]
  },
  {
   "cell_type": "code",
   "outputs": [],
   "source": [
    "resp_obj = requests.get('https://httpbin.org')"
   ],
   "metadata": {
    "collapsed": false,
    "ExecuteTime": {
     "end_time": "2023-12-30T21:19:45.664787195Z",
     "start_time": "2023-12-30T21:19:45.497708532Z"
    }
   },
   "id": "45829c2213c2cc22",
   "execution_count": 34
  },
  {
   "cell_type": "code",
   "outputs": [
    {
     "data": {
      "text/plain": "200"
     },
     "execution_count": 35,
     "metadata": {},
     "output_type": "execute_result"
    }
   ],
   "source": [
    "resp_obj.status_code"
   ],
   "metadata": {
    "collapsed": false,
    "ExecuteTime": {
     "end_time": "2023-12-30T21:19:45.713689543Z",
     "start_time": "2023-12-30T21:19:45.709491750Z"
    }
   },
   "id": "f01f8e003dfbd919",
   "execution_count": 35
  },
  {
   "cell_type": "code",
   "outputs": [
    {
     "data": {
      "text/plain": "'utf-8'"
     },
     "execution_count": 36,
     "metadata": {},
     "output_type": "execute_result"
    }
   ],
   "source": [
    "resp_obj.encoding"
   ],
   "metadata": {
    "collapsed": false,
    "ExecuteTime": {
     "end_time": "2023-12-30T21:19:45.714074160Z",
     "start_time": "2023-12-30T21:19:45.709634500Z"
    }
   },
   "id": "f42e66fb7a5a20ed",
   "execution_count": 36
  },
  {
   "cell_type": "code",
   "outputs": [],
   "source": [
    "resp_obj.encoding = 'ISO 8859-1'"
   ],
   "metadata": {
    "collapsed": false,
    "ExecuteTime": {
     "end_time": "2023-12-30T21:19:45.714338961Z",
     "start_time": "2023-12-30T21:19:45.709738446Z"
    }
   },
   "id": "c782c390dc07532b",
   "execution_count": 37
  },
  {
   "cell_type": "code",
   "outputs": [
    {
     "data": {
      "text/plain": "'ISO 8859-1'"
     },
     "execution_count": 38,
     "metadata": {},
     "output_type": "execute_result"
    }
   ],
   "source": [
    "resp_obj.encoding"
   ],
   "metadata": {
    "collapsed": false,
    "ExecuteTime": {
     "end_time": "2023-12-30T21:19:45.714668053Z",
     "start_time": "2023-12-30T21:19:45.709814169Z"
    }
   },
   "id": "d4f0ce3cbcde56c3",
   "execution_count": 38
  },
  {
   "cell_type": "code",
   "outputs": [],
   "source": [
    "resp_obj = requests.get('https://github.com/timeline.json')"
   ],
   "metadata": {
    "collapsed": false,
    "ExecuteTime": {
     "end_time": "2023-12-30T21:19:46.040061194Z",
     "start_time": "2023-12-30T21:19:45.709927253Z"
    }
   },
   "id": "19b3edcac38ba3b2",
   "execution_count": 39
  },
  {
   "cell_type": "code",
   "outputs": [
    {
     "data": {
      "text/plain": "410"
     },
     "execution_count": 40,
     "metadata": {},
     "output_type": "execute_result"
    }
   ],
   "source": [
    "resp_obj.status_code"
   ],
   "metadata": {
    "collapsed": false,
    "ExecuteTime": {
     "end_time": "2023-12-30T21:19:46.082024768Z",
     "start_time": "2023-12-30T21:19:46.039081462Z"
    }
   },
   "id": "29dabc47463f0ba2",
   "execution_count": 40
  },
  {
   "cell_type": "code",
   "outputs": [
    {
     "name": "stdout",
     "output_type": "stream",
     "text": [
      "('{\"message\":\"Hello there, wayfaring stranger. If you’re reading this then you '\n",
      " 'probably didn’t see our blog post a couple of years back announcing that '\n",
      " 'this API would go away: http://git.io/17AROg Fear not, you should be able to '\n",
      " 'get what you need from the shiny new Events API '\n",
      " 'instead.\",\"documentation_url\":\"https://docs.github.com/v3/activity/events/#list-public-events\"}')\n"
     ]
    }
   ],
   "source": [
    "pprint(resp_obj.text)"
   ],
   "metadata": {
    "collapsed": false,
    "ExecuteTime": {
     "end_time": "2023-12-30T21:19:46.082727847Z",
     "start_time": "2023-12-30T21:19:46.081729911Z"
    }
   },
   "id": "db766da8c2ac6a61",
   "execution_count": 41
  },
  {
   "cell_type": "code",
   "outputs": [
    {
     "data": {
      "text/plain": "'utf-8'"
     },
     "execution_count": 42,
     "metadata": {},
     "output_type": "execute_result"
    }
   ],
   "source": [
    "resp_obj.encoding"
   ],
   "metadata": {
    "collapsed": false,
    "ExecuteTime": {
     "end_time": "2023-12-30T21:19:46.083065806Z",
     "start_time": "2023-12-30T21:19:46.081890584Z"
    }
   },
   "id": "a228e9cf3056e510",
   "execution_count": 42
  },
  {
   "cell_type": "code",
   "outputs": [],
   "source": [
    "resp_obj.encoding = 'ISO-8859-1'"
   ],
   "metadata": {
    "collapsed": false,
    "ExecuteTime": {
     "end_time": "2023-12-30T21:19:46.083318093Z",
     "start_time": "2023-12-30T21:19:46.081987748Z"
    }
   },
   "id": "a905945f5b870aba",
   "execution_count": 43
  },
  {
   "cell_type": "code",
   "outputs": [
    {
     "name": "stdout",
     "output_type": "stream",
     "text": [
      "('{\"message\":\"Hello there, wayfaring stranger. If youâ\\x80\\x99re reading this '\n",
      " 'then you probably didnâ\\x80\\x99t see our blog post a couple of years back '\n",
      " 'announcing that this API would go away: http://git.io/17AROg Fear not, you '\n",
      " 'should be able to get what you need from the shiny new Events API '\n",
      " 'instead.\",\"documentation_url\":\"https://docs.github.com/v3/activity/events/#list-public-events\"}')\n"
     ]
    }
   ],
   "source": [
    "pprint(resp_obj.text)"
   ],
   "metadata": {
    "collapsed": false,
    "ExecuteTime": {
     "end_time": "2023-12-30T21:19:46.083794543Z",
     "start_time": "2023-12-30T21:19:46.082066717Z"
    }
   },
   "id": "c5bb7703bb4841c5",
   "execution_count": 44
  },
  {
   "cell_type": "code",
   "outputs": [],
   "source": [
    "from PIL import Image\n",
    "from io import BytesIO"
   ],
   "metadata": {
    "collapsed": false,
    "ExecuteTime": {
     "end_time": "2023-12-30T21:22:06.433579890Z",
     "start_time": "2023-12-30T21:22:06.391132662Z"
    }
   },
   "id": "6ffa9cc3fbbde04f",
   "execution_count": 52
  },
  {
   "cell_type": "code",
   "outputs": [],
   "source": [
    "resp = requests.get('https://upload.wikimedia.org/wikipedia/commons/thumb/4/4c/Moon_and_Aurora.jpg/320px-Moon_and_Aurora.jpg')"
   ],
   "metadata": {
    "collapsed": false,
    "ExecuteTime": {
     "end_time": "2023-12-30T21:22:06.794820201Z",
     "start_time": "2023-12-30T21:22:06.662111425Z"
    }
   },
   "id": "3361caff11464b6",
   "execution_count": 53
  },
  {
   "cell_type": "code",
   "outputs": [
    {
     "data": {
      "text/plain": "200"
     },
     "execution_count": 54,
     "metadata": {},
     "output_type": "execute_result"
    }
   ],
   "source": [
    "resp.status_code"
   ],
   "metadata": {
    "collapsed": false,
    "ExecuteTime": {
     "end_time": "2023-12-30T21:22:07.087364695Z",
     "start_time": "2023-12-30T21:22:07.085753950Z"
    }
   },
   "id": "b014b51dfbc98888",
   "execution_count": 54
  },
  {
   "cell_type": "code",
   "outputs": [
    {
     "data": {
      "text/plain": "bytes"
     },
     "execution_count": 55,
     "metadata": {},
     "output_type": "execute_result"
    }
   ],
   "source": [
    "type(resp.content)"
   ],
   "metadata": {
    "collapsed": false,
    "ExecuteTime": {
     "end_time": "2023-12-30T21:22:15.010835087Z",
     "start_time": "2023-12-30T21:22:15.005702997Z"
    }
   },
   "id": "1a15749bf45e211a",
   "execution_count": 55
  },
  {
   "cell_type": "code",
   "outputs": [],
   "source": [
    "image = Image.open(BytesIO(resp.content))"
   ],
   "metadata": {
    "collapsed": false,
    "ExecuteTime": {
     "end_time": "2023-12-30T21:22:54.993616289Z",
     "start_time": "2023-12-30T21:22:54.952791207Z"
    }
   },
   "id": "2c07d666feda595f",
   "execution_count": 56
  },
  {
   "cell_type": "code",
   "outputs": [
    {
     "data": {
      "text/plain": "PIL.JpegImagePlugin.JpegImageFile"
     },
     "execution_count": 57,
     "metadata": {},
     "output_type": "execute_result"
    }
   ],
   "source": [
    "type(image)"
   ],
   "metadata": {
    "collapsed": false,
    "ExecuteTime": {
     "end_time": "2023-12-30T21:23:20.413791020Z",
     "start_time": "2023-12-30T21:23:20.371846073Z"
    }
   },
   "id": "5482a5d695194f8d",
   "execution_count": 57
  },
  {
   "cell_type": "code",
   "outputs": [],
   "source": [
    "image.save('aurora.png')"
   ],
   "metadata": {
    "collapsed": false,
    "ExecuteTime": {
     "end_time": "2023-12-30T21:24:23.109307775Z",
     "start_time": "2023-12-30T21:24:23.100154666Z"
    }
   },
   "id": "6e935ad2735ada7d",
   "execution_count": 58
  },
  {
   "cell_type": "code",
   "outputs": [
    {
     "data": {
      "text/plain": "<PIL.PngImagePlugin.PngImageFile image mode=RGB size=320x209>",
      "image/png": "[encoded data removed]",
      "image/jpeg": "[encoded data removed]"
     },
     "execution_count": 59,
     "metadata": {},
     "output_type": "execute_result"
    }
   ],
   "source": [
    "Image.open('aurora.png')"
   ],
   "metadata": {
    "collapsed": false,
    "ExecuteTime": {
     "end_time": "2023-12-30T21:24:29.788446423Z",
     "start_time": "2023-12-30T21:24:29.776311940Z"
    }
   },
   "id": "2174f6124a7e43e1",
   "execution_count": 59
  },
  {
   "cell_type": "code",
   "outputs": [],
   "source": [],
   "metadata": {
    "collapsed": false
   },
   "id": "b48a35cfb1f10fc8"
  }
 ],
 "metadata": {
  "kernelspec": {
   "display_name": "Python 3",
   "language": "python",
   "name": "python3"
  },
  "language_info": {
   "codemirror_mode": {
    "name": "ipython",
    "version": 2
   },
   "file_extension": ".py",
   "mimetype": "text/x-python",
   "name": "python",
   "nbconvert_exporter": "python",
   "pygments_lexer": "ipython2",
   "version": "2.7.6"
  }
 },
 "nbformat": 4,
 "nbformat_minor": 5
}
