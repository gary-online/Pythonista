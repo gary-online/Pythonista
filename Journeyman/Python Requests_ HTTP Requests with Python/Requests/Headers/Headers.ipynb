{
 "cells": [
  {
   "cell_type": "code",
   "execution_count": 1,
   "id": "initial_id",
   "metadata": {
    "collapsed": true,
    "ExecuteTime": {
     "end_time": "2023-12-30T20:34:48.472776296Z",
     "start_time": "2023-12-30T20:34:48.457386857Z"
    }
   },
   "outputs": [],
   "source": [
    "import requests\n",
    "from pprint import pprint"
   ]
  },
  {
   "cell_type": "code",
   "outputs": [],
   "source": [
    "url = 'https://swapi.dev/api/people/3'"
   ],
   "metadata": {
    "collapsed": false,
    "ExecuteTime": {
     "end_time": "2023-12-30T20:35:03.044899625Z",
     "start_time": "2023-12-30T20:35:03.042035565Z"
    }
   },
   "id": "ca76a91b645ad56d",
   "execution_count": 2
  },
  {
   "cell_type": "code",
   "outputs": [],
   "source": [
    "headers = {'user-agen' : 'Googlechrome'}"
   ],
   "metadata": {
    "collapsed": false,
    "ExecuteTime": {
     "end_time": "2023-12-30T20:35:36.993665227Z",
     "start_time": "2023-12-30T20:35:36.949179496Z"
    }
   },
   "id": "a95d564d5b7665e6",
   "execution_count": 3
  },
  {
   "cell_type": "code",
   "outputs": [],
   "source": [
    "resp = requests.get(url, headers=headers)"
   ],
   "metadata": {
    "collapsed": false,
    "ExecuteTime": {
     "end_time": "2023-12-30T20:42:08.833439193Z",
     "start_time": "2023-12-30T20:42:07.521162052Z"
    }
   },
   "id": "eeaa3e08e2ef56e3",
   "execution_count": 4
  },
  {
   "cell_type": "code",
   "outputs": [
    {
     "data": {
      "text/plain": "{'Server': 'nginx/1.16.1', 'Date': 'Sat, 30 Dec 2023 20:42:08 GMT', 'Content-Type': 'application/json', 'Transfer-Encoding': 'chunked', 'Connection': 'keep-alive', 'Vary': 'Accept, Cookie', 'X-Frame-Options': 'SAMEORIGIN', 'ETag': '\"0f87c4bec3e319065be384f7ebfe9da9\"', 'Allow': 'GET, HEAD, OPTIONS', 'Strict-Transport-Security': 'max-age=15768000'}"
     },
     "execution_count": 5,
     "metadata": {},
     "output_type": "execute_result"
    }
   ],
   "source": [
    "resp.headers"
   ],
   "metadata": {
    "collapsed": false,
    "ExecuteTime": {
     "end_time": "2023-12-30T20:42:26.101880218Z",
     "start_time": "2023-12-30T20:42:26.054293325Z"
    }
   },
   "id": "d4837638e5674b4a",
   "execution_count": 5
  },
  {
   "cell_type": "code",
   "outputs": [
    {
     "data": {
      "text/plain": "'application/json'"
     },
     "execution_count": 8,
     "metadata": {},
     "output_type": "execute_result"
    }
   ],
   "source": [
    "resp.headers['Content-Type']"
   ],
   "metadata": {
    "collapsed": false,
    "ExecuteTime": {
     "end_time": "2023-12-30T20:43:45.202107874Z",
     "start_time": "2023-12-30T20:43:45.196802726Z"
    }
   },
   "id": "9014caf05e47b535",
   "execution_count": 8
  },
  {
   "cell_type": "code",
   "outputs": [],
   "source": [
    "resp_obj = requests.get('https://en.wikipedia.org/wiki/Monty_Python')"
   ],
   "metadata": {
    "collapsed": false,
    "ExecuteTime": {
     "end_time": "2023-12-30T20:44:27.495947427Z",
     "start_time": "2023-12-30T20:44:27.236733275Z"
    }
   },
   "id": "cccd56365bfab27",
   "execution_count": 9
  },
  {
   "cell_type": "code",
   "outputs": [
    {
     "data": {
      "text/plain": "{'date': 'Sat, 30 Dec 2023 03:23:56 GMT', 'vary': 'Accept-Encoding,Cookie', 'server': 'ATS/9.1.4', 'x-content-type-options': 'nosniff', 'content-language': 'en', 'accept-ch': '', 'last-modified': 'Wed, 27 Dec 2023 03:55:28 GMT', 'content-type': 'text/html; charset=UTF-8', 'content-encoding': 'gzip', 'age': '62431', 'x-cache': 'cp1106 hit, cp1106 hit/32', 'x-cache-status': 'hit-front', 'server-timing': 'cache;desc=\"hit-front\", host;desc=\"cp1106\"', 'strict-transport-security': 'max-age=106384710; includeSubDomains; preload', 'report-to': '{ \"group\": \"wm_nel\", \"max_age\": 604800, \"endpoints\": [{ \"url\": \"https://intake-logging.wikimedia.org/v1/events?stream=w3c.reportingapi.network_error&schema_uri=/w3c/reportingapi/network_error/1.0.0\" }] }', 'nel': '{ \"report_to\": \"wm_nel\", \"max_age\": 604800, \"failure_fraction\": 0.05, \"success_fraction\": 0.0}', 'set-cookie': 'WMF-Last-Access=30-Dec-2023;Path=/;HttpOnly;secure;Expires=Wed, 31 Jan 2024 12:00:00 GMT, WMF-Last-Access-Global=30-Dec-2023;Path=/;Domain=.wikipedia.org;HttpOnly;secure;Expires=Wed, 31 Jan 2024 12:00:00 GMT, WMF-DP=0b8;Path=/;HttpOnly;secure;Expires=Sun, 31 Dec 2023 00:00:00 GMT, GeoIP=US:WV:Wheeling:40.10:-80.64:v4; Path=/; secure; Domain=.wikipedia.org, NetworkProbeLimit=0.001;Path=/;Secure;Max-Age=3600', 'x-client-ip': '2601:540:c183:3980:ddf1:31d2:868:6850', 'cache-control': 'private, s-maxage=0, max-age=0, must-revalidate', 'accept-ranges': 'bytes', 'content-length': '124252'}"
     },
     "execution_count": 10,
     "metadata": {},
     "output_type": "execute_result"
    }
   ],
   "source": [
    "resp_obj.headers"
   ],
   "metadata": {
    "collapsed": false,
    "ExecuteTime": {
     "end_time": "2023-12-30T20:44:45.775240278Z",
     "start_time": "2023-12-30T20:44:45.769759709Z"
    }
   },
   "id": "fd52866dc278a2e",
   "execution_count": 10
  },
  {
   "cell_type": "code",
   "outputs": [
    {
     "data": {
      "text/plain": "{'User-Agent': 'python-requests/2.31.0', 'Accept-Encoding': 'gzip, deflate', 'Accept': '*/*', 'Connection': 'keep-alive'}"
     },
     "execution_count": 11,
     "metadata": {},
     "output_type": "execute_result"
    }
   ],
   "source": [
    "resp_obj.request.headers"
   ],
   "metadata": {
    "collapsed": false,
    "ExecuteTime": {
     "end_time": "2023-12-30T20:45:28.937844892Z",
     "start_time": "2023-12-30T20:45:28.896037910Z"
    }
   },
   "id": "81af16bc6b2ec3b5",
   "execution_count": 11
  },
  {
   "cell_type": "code",
   "outputs": [],
   "source": [
    "r = requests.get('https://httpbin.org/user-agent',\n",
    "    headers= {'User-Agent': 'Internet Explorer/2.0'})"
   ],
   "metadata": {
    "collapsed": false,
    "ExecuteTime": {
     "end_time": "2023-12-30T20:58:33.652983398Z",
     "start_time": "2023-12-30T20:58:33.485301179Z"
    }
   },
   "id": "e8f68fe816c0feb",
   "execution_count": 13
  },
  {
   "cell_type": "code",
   "outputs": [],
   "source": [
    "data = r.json()"
   ],
   "metadata": {
    "collapsed": false,
    "ExecuteTime": {
     "end_time": "2023-12-30T20:58:45.000028655Z",
     "start_time": "2023-12-30T20:58:44.992954013Z"
    }
   },
   "id": "486bf14b4cebb56b",
   "execution_count": 14
  },
  {
   "cell_type": "code",
   "outputs": [
    {
     "name": "stdout",
     "output_type": "stream",
     "text": [
      "Internet Explorer/2.0\n"
     ]
    }
   ],
   "source": [
    "print(data['user-agent'])"
   ],
   "metadata": {
    "collapsed": false,
    "ExecuteTime": {
     "end_time": "2023-12-30T21:04:01.156077528Z",
     "start_time": "2023-12-30T21:04:01.154257840Z"
    }
   },
   "id": "bd078a4b0b55cadd",
   "execution_count": 16
  },
  {
   "cell_type": "code",
   "outputs": [],
   "source": [],
   "metadata": {
    "collapsed": false
   },
   "id": "66b43574fce8986e"
  }
 ],
 "metadata": {
  "kernelspec": {
   "display_name": "Python 3",
   "language": "python",
   "name": "python3"
  },
  "language_info": {
   "codemirror_mode": {
    "name": "ipython",
    "version": 2
   },
   "file_extension": ".py",
   "mimetype": "text/x-python",
   "name": "python",
   "nbconvert_exporter": "python",
   "pygments_lexer": "ipython2",
   "version": "2.7.6"
  }
 },
 "nbformat": 4,
 "nbformat_minor": 5
}
