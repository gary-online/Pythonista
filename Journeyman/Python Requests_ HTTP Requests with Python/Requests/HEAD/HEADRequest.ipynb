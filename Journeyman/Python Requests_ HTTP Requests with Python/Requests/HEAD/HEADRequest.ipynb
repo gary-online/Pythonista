{
 "cells": [
  {
   "cell_type": "code",
   "execution_count": 3,
   "id": "initial_id",
   "metadata": {
    "collapsed": true,
    "ExecuteTime": {
     "end_time": "2023-12-30T19:51:29.975454248Z",
     "start_time": "2023-12-30T19:51:29.951794922Z"
    }
   },
   "outputs": [],
   "source": [
    "import requests\n",
    "from pprint import pprint\n",
    "import json"
   ]
  },
  {
   "cell_type": "code",
   "outputs": [],
   "source": [
    "r_head = requests.head('https://example.com')"
   ],
   "metadata": {
    "collapsed": false,
    "ExecuteTime": {
     "end_time": "2023-12-30T19:51:31.216496637Z",
     "start_time": "2023-12-30T19:51:30.809041036Z"
    }
   },
   "id": "59f4193c40d84070",
   "execution_count": 4
  },
  {
   "cell_type": "code",
   "outputs": [
    {
     "data": {
      "text/plain": "200"
     },
     "execution_count": 5,
     "metadata": {},
     "output_type": "execute_result"
    }
   ],
   "source": [
    "r_head.status_code"
   ],
   "metadata": {
    "collapsed": false,
    "ExecuteTime": {
     "end_time": "2023-12-30T19:51:31.639468367Z",
     "start_time": "2023-12-30T19:51:31.635675906Z"
    }
   },
   "id": "d6e8e71b60a8a30a",
   "execution_count": 5
  },
  {
   "cell_type": "code",
   "outputs": [
    {
     "data": {
      "text/plain": "''"
     },
     "execution_count": 6,
     "metadata": {},
     "output_type": "execute_result"
    }
   ],
   "source": [
    "r_head.text"
   ],
   "metadata": {
    "collapsed": false,
    "ExecuteTime": {
     "end_time": "2023-12-30T19:51:36.837222936Z",
     "start_time": "2023-12-30T19:51:36.820422813Z"
    }
   },
   "id": "2d08c6164a5d8dfc",
   "execution_count": 6
  },
  {
   "cell_type": "code",
   "outputs": [
    {
     "data": {
      "text/plain": "b''"
     },
     "execution_count": 7,
     "metadata": {},
     "output_type": "execute_result"
    }
   ],
   "source": [
    "r_head.content"
   ],
   "metadata": {
    "collapsed": false,
    "ExecuteTime": {
     "end_time": "2023-12-30T19:52:06.386249449Z",
     "start_time": "2023-12-30T19:52:06.342641313Z"
    }
   },
   "id": "e19acc7b422528de",
   "execution_count": 7
  },
  {
   "cell_type": "code",
   "outputs": [
    {
     "name": "stdout",
     "output_type": "stream",
     "text": [
      "{'Content-Encoding': 'gzip', 'Accept-Ranges': 'bytes', 'Age': '586244', 'Cache-Control': 'max-age=604800', 'Content-Type': 'text/html; charset=UTF-8', 'Date': 'Sat, 30 Dec 2023 19:51:31 GMT', 'Etag': '\"3147526947+gzip\"', 'Expires': 'Sat, 06 Jan 2024 19:51:31 GMT', 'Last-Modified': 'Thu, 17 Oct 2019 07:18:26 GMT', 'Server': 'ECS (dce/268A)', 'X-Cache': 'HIT', 'Content-Length': '648'}\n"
     ]
    }
   ],
   "source": [
    "pprint(r_head.headers)"
   ],
   "metadata": {
    "collapsed": false,
    "ExecuteTime": {
     "end_time": "2023-12-30T19:53:52.510097517Z",
     "start_time": "2023-12-30T19:53:52.467351425Z"
    }
   },
   "id": "9e2f9abb7b70d9f6",
   "execution_count": 8
  },
  {
   "cell_type": "code",
   "outputs": [
    {
     "name": "stdout",
     "output_type": "stream",
     "text": [
      "'648'\n"
     ]
    }
   ],
   "source": [
    "pprint(r_head.headers['content-length'])"
   ],
   "metadata": {
    "collapsed": false,
    "ExecuteTime": {
     "end_time": "2023-12-30T19:55:11.681875789Z",
     "start_time": "2023-12-30T19:55:11.636923047Z"
    }
   },
   "id": "b1799158e6147603",
   "execution_count": 9
  },
  {
   "cell_type": "code",
   "outputs": [
    {
     "name": "stdout",
     "output_type": "stream",
     "text": [
      "'text/html; charset=UTF-8'\n"
     ]
    }
   ],
   "source": [
    "pprint(r_head.headers['content-type'])"
   ],
   "metadata": {
    "collapsed": false,
    "ExecuteTime": {
     "end_time": "2023-12-30T19:55:37.187406030Z",
     "start_time": "2023-12-30T19:55:37.183397750Z"
    }
   },
   "id": "830d5ecc2ce3cae6",
   "execution_count": 11
  },
  {
   "cell_type": "code",
   "outputs": [],
   "source": [],
   "metadata": {
    "collapsed": false
   },
   "id": "f8c32cd0f2a0e6a6"
  }
 ],
 "metadata": {
  "kernelspec": {
   "display_name": "Python 3",
   "language": "python",
   "name": "python3"
  },
  "language_info": {
   "codemirror_mode": {
    "name": "ipython",
    "version": 2
   },
   "file_extension": ".py",
   "mimetype": "text/x-python",
   "name": "python",
   "nbconvert_exporter": "python",
   "pygments_lexer": "ipython2",
   "version": "2.7.6"
  }
 },
 "nbformat": 4,
 "nbformat_minor": 5
}
