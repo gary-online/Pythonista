{
 "cells": [
  {
   "cell_type": "code",
   "execution_count": 20,
   "id": "initial_id",
   "metadata": {
    "collapsed": true,
    "ExecuteTime": {
     "end_time": "2023-12-30T05:01:52.424351424Z",
     "start_time": "2023-12-30T05:01:52.353042314Z"
    }
   },
   "outputs": [],
   "source": [
    "import requests\n",
    "import webbrowser"
   ]
  },
  {
   "cell_type": "code",
   "outputs": [],
   "source": [
    "url = \"https://en.wikipedia.org/\""
   ],
   "metadata": {
    "collapsed": false,
    "ExecuteTime": {
     "end_time": "2023-12-30T05:01:58.934583735Z",
     "start_time": "2023-12-30T05:01:58.930712609Z"
    }
   },
   "id": "98b9b0860a56e97c",
   "execution_count": 21
  },
  {
   "cell_type": "code",
   "outputs": [],
   "source": [
    "resp_obj = requests.get(url) # response object = resp_obj"
   ],
   "metadata": {
    "collapsed": false,
    "ExecuteTime": {
     "end_time": "2023-12-30T05:02:11.172173041Z",
     "start_time": "2023-12-30T05:02:10.993640951Z"
    }
   },
   "id": "b01d85ac5f201a7a",
   "execution_count": 22
  },
  {
   "cell_type": "code",
   "outputs": [
    {
     "name": "stdout",
     "output_type": "stream",
     "text": [
      "https://en.wikipedia.org/wiki/Main_Page\n"
     ]
    }
   ],
   "source": [
    "print(resp_obj.url)"
   ],
   "metadata": {
    "collapsed": false,
    "ExecuteTime": {
     "end_time": "2023-12-30T05:02:16.229816206Z",
     "start_time": "2023-12-30T05:02:16.188764947Z"
    }
   },
   "id": "2b10a1548cba0274",
   "execution_count": 23
  },
  {
   "cell_type": "code",
   "outputs": [
    {
     "data": {
      "text/plain": "True"
     },
     "execution_count": 24,
     "metadata": {},
     "output_type": "execute_result"
    }
   ],
   "source": [
    "webbrowser.open(resp_obj.url)"
   ],
   "metadata": {
    "collapsed": false,
    "ExecuteTime": {
     "end_time": "2023-12-30T05:02:21.935896607Z",
     "start_time": "2023-12-30T05:02:21.933441814Z"
    }
   },
   "id": "78d4603d2b61f616",
   "execution_count": 24
  },
  {
   "cell_type": "code",
   "outputs": [],
   "source": [
    "search_term = input(\"Enter the term you need to search: \")"
   ],
   "metadata": {
    "collapsed": false,
    "ExecuteTime": {
     "end_time": "2023-12-30T05:02:36.316112971Z",
     "start_time": "2023-12-30T05:02:30.907757924Z"
    }
   },
   "id": "f171ef87631797b0",
   "execution_count": 25
  },
  {
   "cell_type": "code",
   "outputs": [],
   "source": [
    "URL = \"https://youtube.com/search\""
   ],
   "metadata": {
    "collapsed": false,
    "ExecuteTime": {
     "end_time": "2023-12-30T05:02:38.488944374Z",
     "start_time": "2023-12-30T05:02:38.487083964Z"
    }
   },
   "id": "8aef83e72ddc9cbe",
   "execution_count": 26
  },
  {
   "cell_type": "code",
   "outputs": [],
   "source": [
    "PARAMS = {\"q\": search_term}"
   ],
   "metadata": {
    "collapsed": false,
    "ExecuteTime": {
     "end_time": "2023-12-30T05:02:51.653798580Z",
     "start_time": "2023-12-30T05:02:51.611004890Z"
    }
   },
   "id": "1d36d616cac81253",
   "execution_count": 27
  },
  {
   "cell_type": "code",
   "outputs": [],
   "source": [
    "r_get = requests.get(url = URL, params=PARAMS)"
   ],
   "metadata": {
    "collapsed": false,
    "ExecuteTime": {
     "end_time": "2023-12-30T05:02:59.393214624Z",
     "start_time": "2023-12-30T05:02:58.279851252Z"
    }
   },
   "id": "20fcfac22010ef88",
   "execution_count": 28
  },
  {
   "cell_type": "code",
   "outputs": [
    {
     "name": "stdout",
     "output_type": "stream",
     "text": [
      "200\n"
     ]
    }
   ],
   "source": [
    "print(r_get.status_code)"
   ],
   "metadata": {
    "collapsed": false,
    "ExecuteTime": {
     "end_time": "2023-12-30T05:03:00.460349627Z",
     "start_time": "2023-12-30T05:03:00.457846963Z"
    }
   },
   "id": "cde566931de2d4ae",
   "execution_count": 29
  },
  {
   "cell_type": "code",
   "outputs": [
    {
     "name": "stdout",
     "output_type": "stream",
     "text": [
      "https://www.youtube.com/results?q=klonopin\n"
     ]
    }
   ],
   "source": [
    "print(r_get.url)"
   ],
   "metadata": {
    "collapsed": false,
    "ExecuteTime": {
     "end_time": "2023-12-30T05:03:04.356612367Z",
     "start_time": "2023-12-30T05:03:04.353794876Z"
    }
   },
   "id": "8c2e74beb32877c",
   "execution_count": 30
  },
  {
   "cell_type": "code",
   "outputs": [
    {
     "data": {
      "text/plain": "True"
     },
     "execution_count": 31,
     "metadata": {},
     "output_type": "execute_result"
    }
   ],
   "source": [
    "webbrowser.open(r_get.url)"
   ],
   "metadata": {
    "collapsed": false,
    "ExecuteTime": {
     "end_time": "2023-12-30T05:03:05.793638367Z",
     "start_time": "2023-12-30T05:03:05.789982371Z"
    }
   },
   "id": "8dbb6b9368c633a7",
   "execution_count": 31
  },
  {
   "cell_type": "code",
   "outputs": [],
   "source": [],
   "metadata": {
    "collapsed": false
   },
   "id": "8ae00d564796f4de"
  }
 ],
 "metadata": {
  "kernelspec": {
   "display_name": "Python 3",
   "language": "python",
   "name": "python3"
  },
  "language_info": {
   "codemirror_mode": {
    "name": "ipython",
    "version": 2
   },
   "file_extension": ".py",
   "mimetype": "text/x-python",
   "name": "python",
   "nbconvert_exporter": "python",
   "pygments_lexer": "ipython2",
   "version": "2.7.6"
  }
 },
 "nbformat": 4,
 "nbformat_minor": 5
}
