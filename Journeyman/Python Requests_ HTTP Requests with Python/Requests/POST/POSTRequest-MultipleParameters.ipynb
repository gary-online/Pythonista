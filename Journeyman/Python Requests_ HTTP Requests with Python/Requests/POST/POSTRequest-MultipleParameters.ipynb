{
 "cells": [
  {
   "cell_type": "code",
   "execution_count": 1,
   "id": "initial_id",
   "metadata": {
    "collapsed": true,
    "ExecuteTime": {
     "end_time": "2023-12-30T06:12:08.249861336Z",
     "start_time": "2023-12-30T06:12:08.249554348Z"
    }
   },
   "outputs": [],
   "source": [
    "import requests\n",
    "from pprint import pprint\n",
    "import webbrowser"
   ]
  },
  {
   "cell_type": "code",
   "outputs": [],
   "source": [
    "post_link = \"https://pastebin.com/api/api_post.php\""
   ],
   "metadata": {
    "collapsed": false,
    "ExecuteTime": {
     "end_time": "2023-12-30T06:14:46.713731937Z",
     "start_time": "2023-12-30T06:14:46.673388915Z"
    }
   },
   "id": "c7d8280fcdaaf183",
   "execution_count": 4
  },
  {
   "cell_type": "code",
   "outputs": [],
   "source": [
    "payload = \"{'username': 'gary-codes', 'email': 'glessnergaryw@gmail.com'}\""
   ],
   "metadata": {
    "collapsed": false,
    "ExecuteTime": {
     "end_time": "2023-12-30T06:14:47.173610437Z",
     "start_time": "2023-12-30T06:14:47.171106569Z"
    }
   },
   "id": "6403547375e6b5fa",
   "execution_count": 5
  },
  {
   "cell_type": "code",
   "outputs": [],
   "source": [
    "API_KEY = 'ksxkaPOyVFPhr__2kKn2MWwXrN64bIIM'"
   ],
   "metadata": {
    "collapsed": false,
    "ExecuteTime": {
     "end_time": "2023-12-30T06:15:13.365723205Z",
     "start_time": "2023-12-30T06:15:13.324590777Z"
    }
   },
   "id": "3cd6b70b2b288835",
   "execution_count": 6
  },
  {
   "cell_type": "code",
   "outputs": [],
   "source": [
    "parameters = {'api_dev_key': API_KEY, \n",
    "              'api_option': 'paste',\n",
    "              'api_paste_code': payload,\n",
    "              'apy_paste_format': 'python'}"
   ],
   "metadata": {
    "collapsed": false,
    "ExecuteTime": {
     "end_time": "2023-12-30T06:49:31.433853338Z",
     "start_time": "2023-12-30T06:49:31.432343879Z"
    }
   },
   "id": "44f6963f16b43dd2",
   "execution_count": 12
  },
  {
   "cell_type": "code",
   "outputs": [],
   "source": [
    "r_post = requests.post(post_link, data=parameters)"
   ],
   "metadata": {
    "collapsed": false,
    "ExecuteTime": {
     "end_time": "2023-12-30T06:49:32.911545477Z",
     "start_time": "2023-12-30T06:49:32.247117708Z"
    }
   },
   "id": "689f4914140e3d0e",
   "execution_count": 13
  },
  {
   "cell_type": "code",
   "outputs": [
    {
     "name": "stdout",
     "output_type": "stream",
     "text": [
      "The request to the url was successful.\n",
      "You can find the code pasted on this link: https://pastebin.com/g1b04Y3T\n"
     ]
    }
   ],
   "source": [
    "if (r_post.status_code == 200):\n",
    "    print(\"The request to the url was successful.\")\n",
    "    print(\"You can find the code pasted on this link: {}\".format(r_post.text))\n",
    "    \n",
    "else:\n",
    "    print(\"The request was not successful.\")"
   ],
   "metadata": {
    "collapsed": false,
    "ExecuteTime": {
     "end_time": "2023-12-30T06:49:33.677661430Z",
     "start_time": "2023-12-30T06:49:33.675884645Z"
    }
   },
   "id": "4bc6d9ed373d57f8",
   "execution_count": 14
  },
  {
   "cell_type": "code",
   "outputs": [
    {
     "data": {
      "text/plain": "True"
     },
     "execution_count": 15,
     "metadata": {},
     "output_type": "execute_result"
    }
   ],
   "source": [
    "webbrowser.open(r_post.text)"
   ],
   "metadata": {
    "collapsed": false,
    "ExecuteTime": {
     "end_time": "2023-12-30T06:49:34.912469754Z",
     "start_time": "2023-12-30T06:49:34.910320143Z"
    }
   },
   "id": "6bbe87d44d4108d",
   "execution_count": 15
  },
  {
   "cell_type": "code",
   "outputs": [],
   "source": [],
   "metadata": {
    "collapsed": false
   },
   "id": "e58926da78bbb717"
  }
 ],
 "metadata": {
  "kernelspec": {
   "display_name": "Python 3",
   "language": "python",
   "name": "python3"
  },
  "language_info": {
   "codemirror_mode": {
    "name": "ipython",
    "version": 2
   },
   "file_extension": ".py",
   "mimetype": "text/x-python",
   "name": "python",
   "nbconvert_exporter": "python",
   "pygments_lexer": "ipython2",
   "version": "2.7.6"
  }
 },
 "nbformat": 4,
 "nbformat_minor": 5
}
